{
 "cells": [
  {
   "cell_type": "markdown",
   "id": "3c8e4f16",
   "metadata": {},
   "source": [
    "# 데이터 입출력"
   ]
  },
  {
   "cell_type": "code",
   "execution_count": null,
   "id": "e4b0a1f2",
   "metadata": {},
   "outputs": [],
   "source": [
    "#오늘부터는 준비된 데이터로 한다\n",
    "# 엑셀 파일 쓰지 말자 -> 엄청 느리다\n",
    "# 가급적이면 csv 파일로 받자"
   ]
  },
  {
   "cell_type": "code",
   "execution_count": null,
   "id": "fd5d8f51",
   "metadata": {},
   "outputs": [],
   "source": [
    "# \\ 는 메타 문자 앞에서 메타 문자의 기능을 해제하는 기능을 한다"
   ]
  },
  {
   "cell_type": "code",
   "execution_count": null,
   "id": "07584783",
   "metadata": {},
   "outputs": [],
   "source": [
    "import os"
   ]
  },
  {
   "cell_type": "code",
   "execution_count": null,
   "id": "deee0be4",
   "metadata": {},
   "outputs": [],
   "source": [
    "os.getcwd() #현재 directory를 보여줌"
   ]
  },
  {
   "cell_type": "code",
   "execution_count": null,
   "id": "593eb074",
   "metadata": {},
   "outputs": [],
   "source": [
    "os.chdir('d:\\\\python\\\\PythonBasic-main\\\\data') #directory를 변경, \\\\를 두개씩 써야함"
   ]
  },
  {
   "cell_type": "code",
   "execution_count": null,
   "id": "9c9644ea",
   "metadata": {},
   "outputs": [],
   "source": [
    "os.chdir(path='d:/python/PythonBasic-main/data') #이렇게 써도됨. 역슬러시 두번을 슬러쉬로, path는 안써도됨"
   ]
  },
  {
   "cell_type": "code",
   "execution_count": null,
   "id": "69ad02ec",
   "metadata": {},
   "outputs": [],
   "source": [
    "#이렇게 경로를 길게 쓰는 것을 절대 경로라 함. "
   ]
  },
  {
   "cell_type": "code",
   "execution_count": null,
   "id": "17345ee9",
   "metadata": {},
   "outputs": [],
   "source": [
    "os.getcwd()"
   ]
  },
  {
   "cell_type": "code",
   "execution_count": null,
   "id": "4e230a8c",
   "metadata": {},
   "outputs": [],
   "source": [
    "os.chdir('d:\\\\python\\\\PythonBasic-main\\\\live')"
   ]
  },
  {
   "cell_type": "code",
   "execution_count": null,
   "id": "e4ca7fb9",
   "metadata": {},
   "outputs": [],
   "source": [
    "os.getcwd()"
   ]
  },
  {
   "cell_type": "code",
   "execution_count": null,
   "id": "5059bad4",
   "metadata": {},
   "outputs": [],
   "source": [
    "os.getcwd()"
   ]
  },
  {
   "cell_type": "code",
   "execution_count": null,
   "id": "f8732bdd",
   "metadata": {},
   "outputs": [],
   "source": [
    "os.chdir('..') #상위 폴더로 이동"
   ]
  },
  {
   "cell_type": "code",
   "execution_count": null,
   "id": "6a9e8f07",
   "metadata": {},
   "outputs": [],
   "source": [
    "os.getcwd()"
   ]
  },
  {
   "cell_type": "code",
   "execution_count": null,
   "id": "7911cd4d",
   "metadata": {},
   "outputs": [],
   "source": [
    "os.chdir('./data') #상대 경로 이용"
   ]
  },
  {
   "cell_type": "code",
   "execution_count": null,
   "id": "48923cfe",
   "metadata": {},
   "outputs": [],
   "source": [
    "os.getcwd()"
   ]
  },
  {
   "cell_type": "code",
   "execution_count": null,
   "id": "092d94f9",
   "metadata": {},
   "outputs": [],
   "source": [
    "# 껐다가 킴"
   ]
  },
  {
   "cell_type": "code",
   "execution_count": null,
   "id": "c97928ad",
   "metadata": {},
   "outputs": [],
   "source": [
    "import os"
   ]
  },
  {
   "cell_type": "code",
   "execution_count": null,
   "id": "2f7daf21",
   "metadata": {},
   "outputs": [],
   "source": [
    "os.getcwd()"
   ]
  },
  {
   "cell_type": "code",
   "execution_count": null,
   "id": "07e3df4c",
   "metadata": {},
   "outputs": [],
   "source": [
    "os.chdir('../data')"
   ]
  },
  {
   "cell_type": "code",
   "execution_count": null,
   "id": "1141f762",
   "metadata": {},
   "outputs": [],
   "source": [
    "os.getcwd()"
   ]
  },
  {
   "cell_type": "code",
   "execution_count": null,
   "id": "3c4e2095",
   "metadata": {},
   "outputs": [],
   "source": []
  },
  {
   "cell_type": "code",
   "execution_count": null,
   "id": "751242b9",
   "metadata": {},
   "outputs": [],
   "source": [
    "os.listdir() #폴더에 있는 파일을 list해줌"
   ]
  },
  {
   "cell_type": "code",
   "execution_count": null,
   "id": "b3e6cbd5",
   "metadata": {},
   "outputs": [],
   "source": [
    "os.listdir('../code')"
   ]
  },
  {
   "cell_type": "code",
   "execution_count": null,
   "id": "9d15a741",
   "metadata": {},
   "outputs": [],
   "source": [
    "files=os.listdir()"
   ]
  },
  {
   "cell_type": "code",
   "execution_count": null,
   "id": "0893b0dd",
   "metadata": {},
   "outputs": [],
   "source": [
    "files"
   ]
  },
  {
   "cell_type": "code",
   "execution_count": null,
   "id": "e2e42bf8",
   "metadata": {},
   "outputs": [],
   "source": [
    "for file in files:\n",
    "    if 'KBO' in file:\n",
    "        print(file)"
   ]
  },
  {
   "cell_type": "code",
   "execution_count": null,
   "id": "8ade97f6",
   "metadata": {},
   "outputs": [],
   "source": [
    "for file in files:\n",
    "    if '.xlsx' in file:\n",
    "        print(file)"
   ]
  },
  {
   "cell_type": "code",
   "execution_count": null,
   "id": "793b2c36",
   "metadata": {},
   "outputs": [],
   "source": [
    "[file for file in files if 'KBO' in file] #데이터 컴프리헨션"
   ]
  },
  {
   "cell_type": "markdown",
   "id": "b87808a4",
   "metadata": {},
   "source": [
    "## 한글 인코딩의 이해"
   ]
  },
  {
   "cell_type": "code",
   "execution_count": null,
   "id": "3e185d1d",
   "metadata": {},
   "outputs": [],
   "source": [
    "#자연어 문자를 컴퓨터가 이해할 수 있는 코드로 변환하는 것을 인코딩이라함\n",
    "#반대로 컴퓨터가 이해하는 코드를 자연어로 변환한 것을 디코딩"
   ]
  },
  {
   "cell_type": "code",
   "execution_count": null,
   "id": "490bd743",
   "metadata": {},
   "outputs": [],
   "source": [
    "#우리가 쓰는 window는 cp949가 기본이지만 python은 UTF-8이 기본이다"
   ]
  },
  {
   "cell_type": "code",
   "execution_count": null,
   "id": "eff44673",
   "metadata": {},
   "outputs": [],
   "source": [
    "file=open(file='test.txt', mode='w', encoding='UTF-8') #w 는 덮어쓰기"
   ]
  },
  {
   "cell_type": "code",
   "execution_count": null,
   "id": "984447b8",
   "metadata": {},
   "outputs": [],
   "source": [
    "for i in range(1,6):\n",
    "    file.write(f'{i} 페이지 수집중\\n')"
   ]
  },
  {
   "cell_type": "code",
   "execution_count": null,
   "id": "35c8ed61",
   "metadata": {},
   "outputs": [],
   "source": [
    "file.close()"
   ]
  },
  {
   "cell_type": "code",
   "execution_count": null,
   "id": "47793ebb",
   "metadata": {},
   "outputs": [],
   "source": [
    "file=open(file='test.txt', mode='a', encoding='UTF-8') #a는 추가"
   ]
  },
  {
   "cell_type": "code",
   "execution_count": null,
   "id": "3eb9e347",
   "metadata": {},
   "outputs": [],
   "source": [
    "for i in range(11,15):\n",
    "    file.write(f'{i} 페이지 수집중\\n')"
   ]
  },
  {
   "cell_type": "code",
   "execution_count": null,
   "id": "a85ce9bd",
   "metadata": {},
   "outputs": [],
   "source": [
    "file.close()"
   ]
  },
  {
   "cell_type": "code",
   "execution_count": null,
   "id": "8cd5a858",
   "metadata": {},
   "outputs": [],
   "source": [
    "file=open(file='test.txt', mode='r', encoding='UTF-8') #r은 읽기. w,a에서와 같은 encoding을 넣어야함"
   ]
  },
  {
   "cell_type": "code",
   "execution_count": null,
   "id": "a7009ace",
   "metadata": {},
   "outputs": [],
   "source": [
    "text=file.read()"
   ]
  },
  {
   "cell_type": "code",
   "execution_count": null,
   "id": "f1ce46ff",
   "metadata": {},
   "outputs": [],
   "source": [
    "text"
   ]
  },
  {
   "cell_type": "code",
   "execution_count": null,
   "id": "864d7f46",
   "metadata": {},
   "outputs": [],
   "source": [
    "type(text) #우리가 읽을 수 있는 것은 type이 str이다"
   ]
  },
  {
   "cell_type": "code",
   "execution_count": null,
   "id": "bfe8c4ac",
   "metadata": {},
   "outputs": [],
   "source": [
    "text.encode(encoding='UTF-8') #컴퓨터가 읽을 수 있는 걸로 인코딩 , 앞의 b는 bytes를 의미"
   ]
  },
  {
   "cell_type": "code",
   "execution_count": null,
   "id": "7a0d5c15",
   "metadata": {},
   "outputs": [],
   "source": [
    "file=open(file='test.txt', mode='rb') #rb는 바이너리 형태로 읽겠다"
   ]
  },
  {
   "cell_type": "code",
   "execution_count": null,
   "id": "5ee38338",
   "metadata": {},
   "outputs": [],
   "source": [
    "text=file.read()"
   ]
  },
  {
   "cell_type": "code",
   "execution_count": null,
   "id": "9fa287dd",
   "metadata": {},
   "outputs": [],
   "source": [
    "text #위의 것과 거의 유사하게 나옴 \\r : 캐리지 리컨(타자기 다쓰고 다시 쭉 처음으로 땡기는 것)"
   ]
  },
  {
   "cell_type": "code",
   "execution_count": null,
   "id": "12a9a06d",
   "metadata": {},
   "outputs": [],
   "source": [
    "type(text)"
   ]
  },
  {
   "cell_type": "code",
   "execution_count": null,
   "id": "501fab68",
   "metadata": {},
   "outputs": [],
   "source": [
    "text.decode(encoding='UTF-8') # 컴퓨터 코드 --> 사람이 읽는 코드로 바꿔줌"
   ]
  },
  {
   "cell_type": "code",
   "execution_count": null,
   "id": "8516b4c9",
   "metadata": {},
   "outputs": [],
   "source": [
    "file=open(file='test.txt', mode='rb').read()\n",
    "file"
   ]
  },
  {
   "cell_type": "code",
   "execution_count": null,
   "id": "9999f1b3",
   "metadata": {},
   "outputs": [],
   "source": [
    "pip install chardet"
   ]
  },
  {
   "cell_type": "code",
   "execution_count": null,
   "id": "260a9cd5",
   "metadata": {},
   "outputs": [],
   "source": [
    "import chardet #문자 인코딩한 것을 확인하는\n",
    "import numpy as np\n",
    "import pandas as pd\n",
    "import joblib"
   ]
  },
  {
   "cell_type": "code",
   "execution_count": null,
   "id": "43befea6",
   "metadata": {},
   "outputs": [],
   "source": [
    "os.listdir()"
   ]
  },
  {
   "cell_type": "code",
   "execution_count": null,
   "id": "a93f6da3",
   "metadata": {},
   "outputs": [],
   "source": [
    "df=pd.read_excel('KBO_Hitters_2021.xlsx') #한번에 하나의 시트만 불러올 수 있다."
   ]
  },
  {
   "cell_type": "code",
   "execution_count": null,
   "id": "2425c5ec",
   "metadata": {},
   "outputs": [],
   "source": [
    "df"
   ]
  },
  {
   "cell_type": "code",
   "execution_count": null,
   "id": "ca562395",
   "metadata": {},
   "outputs": [],
   "source": [
    "df=pd.read_excel('KBO_Hitters_2021.xlsx', sheet_name=1) #두번째 시트를 불러옴"
   ]
  },
  {
   "cell_type": "code",
   "execution_count": null,
   "id": "9aa6404e",
   "metadata": {},
   "outputs": [],
   "source": [
    "df"
   ]
  },
  {
   "cell_type": "code",
   "execution_count": null,
   "id": "410e0a77",
   "metadata": {},
   "outputs": [],
   "source": [
    "df=pd.read_excel('KBO_Hitters_2021.xlsx', sheet_name=1, skiprows=4) #위에 4줄은 건너 뛰어라"
   ]
  },
  {
   "cell_type": "code",
   "execution_count": null,
   "id": "6a96b1f5",
   "metadata": {},
   "outputs": [],
   "source": [
    "df.to_excel('test.xlsx', index=None) #index=None은 인덱스를 추가하지 않는다."
   ]
  },
  {
   "cell_type": "code",
   "execution_count": null,
   "id": "3c1acda6",
   "metadata": {},
   "outputs": [],
   "source": [
    "# 중간 생략된 부분을 보고 싶으면 P 163 참조"
   ]
  },
  {
   "cell_type": "code",
   "execution_count": null,
   "id": "a4489373",
   "metadata": {},
   "outputs": [],
   "source": [
    "df.head(10) #처음 10개를 보여줌"
   ]
  },
  {
   "cell_type": "code",
   "execution_count": null,
   "id": "03e191f4",
   "metadata": {},
   "outputs": [],
   "source": [
    "df.tail(10) #마지막 10개를 보여줌"
   ]
  },
  {
   "cell_type": "code",
   "execution_count": null,
   "id": "7559a348",
   "metadata": {},
   "outputs": [],
   "source": [
    "df.sample() #랜덤하게 하나 보여줌"
   ]
  },
  {
   "cell_type": "code",
   "execution_count": null,
   "id": "e495da5d",
   "metadata": {},
   "outputs": [],
   "source": [
    "df.sample(n=5, random_state=1) #5개의 값을 항상 동일하게 보여줌"
   ]
  },
  {
   "cell_type": "markdown",
   "id": "2af59728",
   "metadata": {},
   "source": [
    "### csv파일 입출력"
   ]
  },
  {
   "cell_type": "code",
   "execution_count": null,
   "id": "c14c2cee",
   "metadata": {},
   "outputs": [],
   "source": [
    "os.listdir()"
   ]
  },
  {
   "cell_type": "code",
   "execution_count": null,
   "id": "ee300926",
   "metadata": {},
   "outputs": [],
   "source": [
    "file='KBO_Hitters_2021.csv'"
   ]
  },
  {
   "cell_type": "code",
   "execution_count": null,
   "id": "2baaca28",
   "metadata": {
    "scrolled": false
   },
   "outputs": [],
   "source": [
    "df.pd.read_csv(file) #방식 문제로 읽어 들일 수 없음"
   ]
  },
  {
   "cell_type": "code",
   "execution_count": null,
   "id": "46300328",
   "metadata": {},
   "outputs": [],
   "source": [
    "text=open(file=file, mode='rb').read()\n",
    "text"
   ]
  },
  {
   "cell_type": "code",
   "execution_count": null,
   "id": "141203bb",
   "metadata": {},
   "outputs": [],
   "source": [
    "chardet.detect(text) #인코딩 방식 확인"
   ]
  },
  {
   "cell_type": "code",
   "execution_count": null,
   "id": "ccf79138",
   "metadata": {},
   "outputs": [],
   "source": [
    "df=pd.read_csv(file, encoding='EUC-KR')\n",
    "df"
   ]
  },
  {
   "cell_type": "code",
   "execution_count": null,
   "id": "12433612",
   "metadata": {},
   "outputs": [],
   "source": [
    "df.shape[0]#행갯수 확인, 1넣으면 열개수"
   ]
  },
  {
   "cell_type": "code",
   "execution_count": null,
   "id": "5f1bede4",
   "metadata": {},
   "outputs": [],
   "source": [
    "df.index=range(1,df.shape[0]+1)\n",
    "df.head()"
   ]
  },
  {
   "cell_type": "markdown",
   "id": "b67acb93",
   "metadata": {},
   "source": [
    "### 압축 파일 입출력"
   ]
  },
  {
   "cell_type": "code",
   "execution_count": null,
   "id": "3176a812",
   "metadata": {},
   "outputs": [],
   "source": [
    "# 머신 러닝은 압축파일로만 저장 가능"
   ]
  },
  {
   "cell_type": "code",
   "execution_count": null,
   "id": "a782113b",
   "metadata": {},
   "outputs": [],
   "source": [
    "joblib.dump(value=df, filename='test.z') #dump 압축파일로 저장"
   ]
  },
  {
   "cell_type": "code",
   "execution_count": null,
   "id": "a8bd4d49",
   "metadata": {},
   "outputs": [],
   "source": [
    "df1=joblib.load(filename='test.z') #load 압축 파일 불러들임"
   ]
  },
  {
   "cell_type": "code",
   "execution_count": null,
   "id": "ca402e91",
   "metadata": {},
   "outputs": [],
   "source": [
    "df1"
   ]
  },
  {
   "cell_type": "markdown",
   "id": "4ffd25a0",
   "metadata": {},
   "source": [
    "### 파일 지우기"
   ]
  },
  {
   "cell_type": "code",
   "execution_count": null,
   "id": "340bbab2",
   "metadata": {},
   "outputs": [],
   "source": [
    "files=[file for file in os.listdir() if 'test' in file] # test 이름이 들어간 파일 출력"
   ]
  },
  {
   "cell_type": "code",
   "execution_count": null,
   "id": "cde912c9",
   "metadata": {},
   "outputs": [],
   "source": [
    "files"
   ]
  },
  {
   "cell_type": "code",
   "execution_count": null,
   "id": "8e7f0cc1",
   "metadata": {},
   "outputs": [],
   "source": [
    "for file in files: #test란 이름이 들어간 파일을 삭제\n",
    "    os.remove(file)"
   ]
  },
  {
   "cell_type": "code",
   "execution_count": null,
   "id": "113ef98f",
   "metadata": {},
   "outputs": [],
   "source": [
    "os.listdir()"
   ]
  },
  {
   "cell_type": "code",
   "execution_count": null,
   "id": "173d0cd6",
   "metadata": {},
   "outputs": [],
   "source": [
    "df"
   ]
  },
  {
   "cell_type": "code",
   "execution_count": null,
   "id": "85afed44",
   "metadata": {},
   "outputs": [],
   "source": [
    "df.columns"
   ]
  },
  {
   "cell_type": "code",
   "execution_count": null,
   "id": "5d3ac1f5",
   "metadata": {},
   "outputs": [],
   "source": [
    "df['팀명']=='한화'"
   ]
  },
  {
   "cell_type": "code",
   "execution_count": null,
   "id": "89e09922",
   "metadata": {},
   "outputs": [],
   "source": [
    "df.loc[df['팀명']=='한화',:].sort_values(by=['홈런'], ascending=False).head()"
   ]
  },
  {
   "cell_type": "code",
   "execution_count": null,
   "id": "26fc7a1f",
   "metadata": {},
   "outputs": [],
   "source": [
    "df.loc[(df['OPS']>=0.9) & (df['팀명']=='한화'),:]##OPS가 0.9가 이상이며 한화인 선수"
   ]
  },
  {
   "cell_type": "markdown",
   "id": "6ddf5147",
   "metadata": {},
   "source": [
    "## 데이터 전처리"
   ]
  },
  {
   "cell_type": "code",
   "execution_count": null,
   "id": "7e4f6755",
   "metadata": {},
   "outputs": [],
   "source": [
    "#GIGO : 쓰레기 넣으면 쓰레기 나온다\n",
    "# 데이터 전처리 매우 중요(전체 프로젝트의 80%정도 시간이 걸린다)"
   ]
  },
  {
   "cell_type": "code",
   "execution_count": null,
   "id": "aaecfaf2",
   "metadata": {},
   "outputs": [],
   "source": [
    "import os\n",
    "import chardet\n",
    "import numpy as np\n",
    "import pandas as pd\n",
    "import joblib"
   ]
  },
  {
   "cell_type": "code",
   "execution_count": null,
   "id": "dfcb43de",
   "metadata": {},
   "outputs": [],
   "source": [
    "os.getcwd()"
   ]
  },
  {
   "cell_type": "code",
   "execution_count": null,
   "id": "3dca3a51",
   "metadata": {},
   "outputs": [],
   "source": [
    "os.chdir(path='../data')"
   ]
  },
  {
   "cell_type": "code",
   "execution_count": null,
   "id": "0a7d74dc",
   "metadata": {},
   "outputs": [],
   "source": []
  },
  {
   "cell_type": "code",
   "execution_count": null,
   "id": "965968ad",
   "metadata": {},
   "outputs": [],
   "source": [
    "os.listdir()"
   ]
  },
  {
   "cell_type": "code",
   "execution_count": null,
   "id": "139cd603",
   "metadata": {},
   "outputs": [],
   "source": []
  },
  {
   "cell_type": "code",
   "execution_count": null,
   "id": "714c67d7",
   "metadata": {},
   "outputs": [],
   "source": [
    "%time price=pd.read_excel('APT_Price_Seoul_2021.xlsx')"
   ]
  },
  {
   "cell_type": "code",
   "execution_count": null,
   "id": "fadc3e3b",
   "metadata": {},
   "outputs": [],
   "source": []
  },
  {
   "cell_type": "code",
   "execution_count": null,
   "id": "4f26d2d0",
   "metadata": {},
   "outputs": [],
   "source": []
  },
  {
   "cell_type": "code",
   "execution_count": null,
   "id": "f78742e1",
   "metadata": {},
   "outputs": [],
   "source": [
    "price.info() #datatime 날짜 시간형(실수형) <-산술연산 가능, 년,월,일별 뽑을 수 있다.\n",
    "#지번에 결측이 있다"
   ]
  },
  {
   "cell_type": "code",
   "execution_count": null,
   "id": "98fa91a0",
   "metadata": {},
   "outputs": [],
   "source": [
    "price.head()"
   ]
  },
  {
   "cell_type": "code",
   "execution_count": null,
   "id": "00cb512b",
   "metadata": {},
   "outputs": [],
   "source": [
    "file='APT_Price_Seoul_2021.csv'"
   ]
  },
  {
   "cell_type": "code",
   "execution_count": null,
   "id": "6c9998a5",
   "metadata": {},
   "outputs": [],
   "source": [
    "text=open(file=file, mode='rb').read()"
   ]
  },
  {
   "cell_type": "code",
   "execution_count": null,
   "id": "3ff20d48",
   "metadata": {},
   "outputs": [],
   "source": [
    "text"
   ]
  },
  {
   "cell_type": "code",
   "execution_count": null,
   "id": "06d3c404",
   "metadata": {},
   "outputs": [],
   "source": [
    "chardet.detect(text[:100])"
   ]
  },
  {
   "cell_type": "code",
   "execution_count": null,
   "id": "dfd563dd",
   "metadata": {},
   "outputs": [],
   "source": [
    "%time price=pd.read_csv(file,encoding='UTF-8') # 엑셀과 csv 불러오는 시간 차이가 많이 난다"
   ]
  },
  {
   "cell_type": "code",
   "execution_count": null,
   "id": "307574ad",
   "metadata": {},
   "outputs": [],
   "source": []
  },
  {
   "cell_type": "code",
   "execution_count": null,
   "id": "59ce7d4c",
   "metadata": {},
   "outputs": [],
   "source": [
    "price.dtypes #거래일이 object인 것 처럼 들어옴(엑셀 파일은 datatime으로 들어옴) / 문자 -> 날짜형으로 바꿔주면 됨"
   ]
  },
  {
   "cell_type": "code",
   "execution_count": null,
   "id": "24225e25",
   "metadata": {},
   "outputs": [],
   "source": [
    "df=pd.read_csv(file, parse_dates=['거래일'], thousands=',') #P180에 있는 형식 5가지로 되어 있어야함"
   ]
  },
  {
   "cell_type": "code",
   "execution_count": null,
   "id": "63afca96",
   "metadata": {},
   "outputs": [],
   "source": []
  },
  {
   "cell_type": "code",
   "execution_count": null,
   "id": "abad095a",
   "metadata": {},
   "outputs": [],
   "source": [
    "df.dtypes"
   ]
  },
  {
   "cell_type": "code",
   "execution_count": null,
   "id": "450a91b8",
   "metadata": {},
   "outputs": [],
   "source": [
    "price['지역코드'] #시리즈로 반환, 하나의 열을 선택할 때는 이렇게 쓸 수도 있다. 2개 이상의 경우에는 list로 써야함"
   ]
  },
  {
   "cell_type": "code",
   "execution_count": null,
   "id": "0616e00d",
   "metadata": {},
   "outputs": [],
   "source": [
    "price[['아파트','지역코드', '거래일']] #2개 이상의 경우 list로 -> 결과는 데이터 프레임으로 출력"
   ]
  },
  {
   "cell_type": "code",
   "execution_count": null,
   "id": "058fec76",
   "metadata": {},
   "outputs": [],
   "source": [
    "price[:['거래일':'거래금액']] <- 슬라이스 못씀, 반드시 indexer가 있어야 쓸 수 있음"
   ]
  },
  {
   "cell_type": "code",
   "execution_count": null,
   "id": "abd7240d",
   "metadata": {},
   "outputs": [],
   "source": [
    "price.loc[:,'거래일':'거래금액']"
   ]
  },
  {
   "cell_type": "code",
   "execution_count": null,
   "id": "4e732b7f",
   "metadata": {},
   "outputs": [],
   "source": [
    "price.dtypes"
   ]
  },
  {
   "cell_type": "code",
   "execution_count": null,
   "id": "6a1bfc49",
   "metadata": {},
   "outputs": [],
   "source": [
    "price.dtypes==np.int64"
   ]
  },
  {
   "cell_type": "code",
   "execution_count": null,
   "id": "545e93b8",
   "metadata": {},
   "outputs": [],
   "source": [
    "price.loc[:, price.dtypes==np.int64]"
   ]
  },
  {
   "cell_type": "markdown",
   "id": "f552c85b",
   "metadata": {},
   "source": [
    "### 열 삭제"
   ]
  },
  {
   "cell_type": "code",
   "execution_count": null,
   "id": "7a0caf04",
   "metadata": {},
   "outputs": [],
   "source": [
    "#drop 사용"
   ]
  },
  {
   "cell_type": "code",
   "execution_count": null,
   "id": "33102e9b",
   "metadata": {},
   "outputs": [],
   "source": [
    "price.drop(colum``ns=['지역코드']) #이렇게 한다고 원본이 바뀌는 건 아니다"
   ]
  },
  {
   "cell_type": "code",
   "execution_count": null,
   "id": "1763df6d",
   "metadata": {},
   "outputs": [],
   "source": []
  },
  {
   "cell_type": "code",
   "execution_count": null,
   "id": "750e07b1",
   "metadata": {},
   "outputs": [],
   "source": [
    "price.head() #지역코드 남아 있다, 원본이 바뀐건 아니다"
   ]
  },
  {
   "cell_type": "code",
   "execution_count": null,
   "id": "89a216f2",
   "metadata": {},
   "outputs": [],
   "source": [
    "price=price.drop(columns=['지역코드']) # 이렇게 해야 원본이 바뀜"
   ]
  },
  {
   "cell_type": "code",
   "execution_count": null,
   "id": "0fe9a307",
   "metadata": {},
   "outputs": [],
   "source": [
    "price.rename(columns={'시도명':'시도', '시군구':'자치구'})"
   ]
  },
  {
   "cell_type": "code",
   "execution_count": null,
   "id": "c9f463e2",
   "metadata": {},
   "outputs": [],
   "source": [
    "price.columns"
   ]
  },
  {
   "cell_type": "code",
   "execution_count": null,
   "id": "e8d2622f",
   "metadata": {},
   "outputs": [],
   "source": [
    "price.columns=['아파트', '시도', '자치구', '법-정동', '지번', '거래일', '전용면적', '층', '거래금액']"
   ]
  },
  {
   "cell_type": "code",
   "execution_count": null,
   "id": "9e0937d7",
   "metadata": {},
   "outputs": [],
   "source": [
    "#위와 같이 전체 이름을 복사한 후 바꾸고 싶은 부분만 바꾸면 된다."
   ]
  },
  {
   "cell_type": "code",
   "execution_count": null,
   "id": "6aea8dc1",
   "metadata": {},
   "outputs": [],
   "source": [
    "price"
   ]
  },
  {
   "cell_type": "code",
   "execution_count": null,
   "id": "fb12f024",
   "metadata": {},
   "outputs": [],
   "source": []
  },
  {
   "cell_type": "markdown",
   "id": "1732bdfd",
   "metadata": {},
   "source": [
    "### 열별 자료형 변환"
   ]
  },
  {
   "cell_type": "code",
   "execution_count": null,
   "id": "0184764b",
   "metadata": {
    "scrolled": true
   },
   "outputs": [],
   "source": [
    "price['거래금액'].astype(float) # 컴마때문에 에러"
   ]
  },
  {
   "cell_type": "code",
   "execution_count": null,
   "id": "84c6f9ea",
   "metadata": {},
   "outputs": [],
   "source": []
  },
  {
   "cell_type": "code",
   "execution_count": null,
   "id": "909e2646",
   "metadata": {},
   "outputs": [],
   "source": [
    "price['거래금액']=price['거래금액'].str.replace(pat=',', repl='')"
   ]
  },
  {
   "cell_type": "code",
   "execution_count": null,
   "id": "d1bf9e11",
   "metadata": {},
   "outputs": [],
   "source": []
  },
  {
   "cell_type": "code",
   "execution_count": null,
   "id": "fb589c89",
   "metadata": {},
   "outputs": [],
   "source": [
    "price['거래금액']=price['거래금액'].astype(float)"
   ]
  },
  {
   "cell_type": "code",
   "execution_count": null,
   "id": "6101f89f",
   "metadata": {},
   "outputs": [],
   "source": []
  },
  {
   "cell_type": "code",
   "execution_count": null,
   "id": "5320a3f1",
   "metadata": {},
   "outputs": [],
   "source": [
    "price.dtypes #거래금액이 float로 변환"
   ]
  },
  {
   "cell_type": "code",
   "execution_count": null,
   "id": "c432ab0f",
   "metadata": {},
   "outputs": [],
   "source": []
  },
  {
   "cell_type": "code",
   "execution_count": null,
   "id": "695e1a80",
   "metadata": {},
   "outputs": [],
   "source": [
    "price=price.astype({'거래일':np.datetime64, '층':float}) #거래일은 datetime64로 바꿔라 .. 층은 ...."
   ]
  },
  {
   "cell_type": "code",
   "execution_count": null,
   "id": "34d2ebc4",
   "metadata": {},
   "outputs": [],
   "source": [
    "price.dtypes"
   ]
  },
  {
   "cell_type": "code",
   "execution_count": null,
   "id": "c8e5c093",
   "metadata": {},
   "outputs": [],
   "source": [
    "cols=['층', '거래금액'] #바꿀 열을 변수로 묶음"
   ]
  },
  {
   "cell_type": "code",
   "execution_count": null,
   "id": "02052164",
   "metadata": {},
   "outputs": [],
   "source": [
    "cols"
   ]
  },
  {
   "cell_type": "code",
   "execution_count": null,
   "id": "ebe872ab",
   "metadata": {},
   "outputs": [],
   "source": [
    "price[cols]=price[cols].astype(int) #바꿀 묶은 변수를 한번에 변경"
   ]
  },
  {
   "cell_type": "code",
   "execution_count": null,
   "id": "b3550f9f",
   "metadata": {},
   "outputs": [],
   "source": []
  },
  {
   "cell_type": "code",
   "execution_count": null,
   "id": "94a0aa9a",
   "metadata": {},
   "outputs": [],
   "source": [
    "price.dtypes"
   ]
  },
  {
   "cell_type": "code",
   "execution_count": null,
   "id": "26b907ce",
   "metadata": {},
   "outputs": [],
   "source": [
    "# 시리즈.astype(class) --> 힌두개는 괘아느나 여러개이면 불편\n",
    "# 데이터프레임.astype({'열이름':class, '열이름':class})\n",
    "# 바꿀 열을 한 변수로 묶은 후 -->데이터프레임[열이름].astype(class)"
   ]
  },
  {
   "cell_type": "code",
   "execution_count": null,
   "id": "a43da262",
   "metadata": {},
   "outputs": [],
   "source": [
    "birth=pd.Series(data=['1983년 3월 31일'])\n",
    "birth"
   ]
  },
  {
   "cell_type": "code",
   "execution_count": null,
   "id": "47c639a3",
   "metadata": {},
   "outputs": [],
   "source": [
    "birth.astype(np.datetime64) #에러, 지금 넣은 문자열이 어떤 type인지 모르겠다"
   ]
  },
  {
   "cell_type": "code",
   "execution_count": null,
   "id": "151d9f65",
   "metadata": {},
   "outputs": [],
   "source": []
  },
  {
   "cell_type": "code",
   "execution_count": null,
   "id": "5fa3d029",
   "metadata": {},
   "outputs": [],
   "source": [
    "birth=pd.to_datetime(birth, format='%Y년 %m월 %d일')"
   ]
  },
  {
   "cell_type": "code",
   "execution_count": null,
   "id": "035d0389",
   "metadata": {},
   "outputs": [],
   "source": [
    "birth"
   ]
  },
  {
   "cell_type": "code",
   "execution_count": null,
   "id": "8771b55d",
   "metadata": {},
   "outputs": [],
   "source": [
    "birth.iloc[0]"
   ]
  },
  {
   "cell_type": "code",
   "execution_count": null,
   "id": "75cbca86",
   "metadata": {},
   "outputs": [],
   "source": []
  },
  {
   "cell_type": "code",
   "execution_count": null,
   "id": "5bf2c6bf",
   "metadata": {},
   "outputs": [],
   "source": [
    "pd.Timestamp.today() #현재 시스템 날짜를 알려줌"
   ]
  },
  {
   "cell_type": "code",
   "execution_count": null,
   "id": "ab49632b",
   "metadata": {},
   "outputs": [],
   "source": [
    "today=pd.Timestamp.today()"
   ]
  },
  {
   "cell_type": "code",
   "execution_count": null,
   "id": "4e10508a",
   "metadata": {},
   "outputs": [],
   "source": [
    "dtGap=today-birth.iloc[0]"
   ]
  },
  {
   "cell_type": "code",
   "execution_count": null,
   "id": "381d3d2c",
   "metadata": {},
   "outputs": [],
   "source": [
    "dtGap.days #내가 태어나서 몇일 지났나"
   ]
  },
  {
   "cell_type": "code",
   "execution_count": null,
   "id": "808651f4",
   "metadata": {},
   "outputs": [],
   "source": [
    "price['거래일']"
   ]
  },
  {
   "cell_type": "code",
   "execution_count": null,
   "id": "9eab2003",
   "metadata": {},
   "outputs": [],
   "source": []
  },
  {
   "cell_type": "code",
   "execution_count": null,
   "id": "fd4f40f1",
   "metadata": {},
   "outputs": [],
   "source": [
    "price['거래일'].dt.year #년만 뽑아줌"
   ]
  },
  {
   "cell_type": "code",
   "execution_count": null,
   "id": "7f74fb1d",
   "metadata": {},
   "outputs": [],
   "source": []
  },
  {
   "cell_type": "code",
   "execution_count": null,
   "id": "b01f80c7",
   "metadata": {},
   "outputs": [],
   "source": [
    "price['거래일'].dt.day #일만 뽑아줌"
   ]
  },
  {
   "cell_type": "code",
   "execution_count": null,
   "id": "bfff36db",
   "metadata": {},
   "outputs": [],
   "source": []
  },
  {
   "cell_type": "code",
   "execution_count": null,
   "id": "665c6f46",
   "metadata": {},
   "outputs": [],
   "source": [
    "price['거래일'].dt.day_name() #요일을 뽑아줌"
   ]
  },
  {
   "cell_type": "code",
   "execution_count": null,
   "id": "47902c2f",
   "metadata": {},
   "outputs": [],
   "source": []
  },
  {
   "cell_type": "code",
   "execution_count": null,
   "id": "71a5d9a4",
   "metadata": {},
   "outputs": [],
   "source": [
    "price['거래일'].dt.day_name('ko_KR')"
   ]
  },
  {
   "cell_type": "code",
   "execution_count": null,
   "id": "befd08cf",
   "metadata": {},
   "outputs": [],
   "source": [
    "price"
   ]
  },
  {
   "cell_type": "code",
   "execution_count": null,
   "id": "68c4f728",
   "metadata": {},
   "outputs": [],
   "source": [
    "df1=price[price['거래금액'] >= 1000000]"
   ]
  },
  {
   "cell_type": "code",
   "execution_count": null,
   "id": "7630898d",
   "metadata": {},
   "outputs": [],
   "source": []
  },
  {
   "cell_type": "code",
   "execution_count": null,
   "id": "5f10d0df",
   "metadata": {},
   "outputs": [],
   "source": []
  },
  {
   "cell_type": "code",
   "execution_count": null,
   "id": "2e6a1e45",
   "metadata": {},
   "outputs": [],
   "source": []
  },
  {
   "cell_type": "code",
   "execution_count": null,
   "id": "c0b97960",
   "metadata": {},
   "outputs": [],
   "source": []
  },
  {
   "cell_type": "code",
   "execution_count": null,
   "id": "e522954e",
   "metadata": {},
   "outputs": [],
   "source": []
  },
  {
   "cell_type": "code",
   "execution_count": null,
   "id": "385bd89d",
   "metadata": {},
   "outputs": [],
   "source": []
  },
  {
   "cell_type": "code",
   "execution_count": null,
   "id": "5a19bee2",
   "metadata": {},
   "outputs": [],
   "source": [
    "df1"
   ]
  },
  {
   "cell_type": "code",
   "execution_count": null,
   "id": "8f7765c5",
   "metadata": {},
   "outputs": [],
   "source": []
  },
  {
   "cell_type": "code",
   "execution_count": null,
   "id": "bc5c1d9e",
   "metadata": {},
   "outputs": [],
   "source": [
    "df2=price[(price['거래금액'] <1000000) & (price['층']>=60)]\n",
    "df2"
   ]
  },
  {
   "cell_type": "code",
   "execution_count": null,
   "id": "98dd83ed",
   "metadata": {},
   "outputs": [],
   "source": [
    "df2.loc[42124] #iloc하면 에러뜬다"
   ]
  },
  {
   "cell_type": "code",
   "execution_count": null,
   "id": "a3b7f636",
   "metadata": {},
   "outputs": [],
   "source": [
    "#191P\n",
    "#gt : greater than / ge : 미만 / lt ...."
   ]
  },
  {
   "cell_type": "code",
   "execution_count": null,
   "id": "34eb5a5a",
   "metadata": {},
   "outputs": [],
   "source": [
    "price['층'].gt(60).sum()"
   ]
  },
  {
   "cell_type": "code",
   "execution_count": null,
   "id": "8824c194",
   "metadata": {},
   "outputs": [],
   "source": [
    "price"
   ]
  },
  {
   "cell_type": "code",
   "execution_count": null,
   "id": "98edd443",
   "metadata": {},
   "outputs": [],
   "source": [
    "#P192\n",
    "price"
   ]
  },
  {
   "cell_type": "code",
   "execution_count": null,
   "id": "a58632a4",
   "metadata": {},
   "outputs": [],
   "source": [
    "price[(price['시군구'].eq('강남구'))|(price['시군구'].eq('은평구'))]"
   ]
  },
  {
   "cell_type": "code",
   "execution_count": null,
   "id": "525287ee",
   "metadata": {},
   "outputs": [],
   "source": [
    "price[price['시군구'].isin(['은평구','강남구','강동구'])]"
   ]
  },
  {
   "cell_type": "code",
   "execution_count": null,
   "id": "325c5fd1",
   "metadata": {},
   "outputs": [],
   "source": [
    "price[price['시군구'].str.contains('용')] # contain에 들어있는 글자를 포함한 것만 true, false"
   ]
  },
  {
   "cell_type": "code",
   "execution_count": null,
   "id": "12d66c72",
   "metadata": {},
   "outputs": [],
   "source": [
    "addr=pd.Series(data=['서울특변시 강남구','경기도 성남시 분당구'])"
   ]
  },
  {
   "cell_type": "code",
   "execution_count": null,
   "id": "3a70f219",
   "metadata": {},
   "outputs": [],
   "source": [
    "addr.str.split(pat=' ')"
   ]
  },
  {
   "cell_type": "code",
   "execution_count": null,
   "id": "6739b4cc",
   "metadata": {},
   "outputs": [],
   "source": [
    "addr.str.split(pat=' ', expand=True)"
   ]
  },
  {
   "cell_type": "code",
   "execution_count": null,
   "id": "e26c2d99",
   "metadata": {},
   "outputs": [],
   "source": [
    "addr.str.find('시')"
   ]
  },
  {
   "cell_type": "code",
   "execution_count": null,
   "id": "43360c6b",
   "metadata": {},
   "outputs": [],
   "source": [
    "addr.str.replace(' ','')"
   ]
  },
  {
   "cell_type": "code",
   "execution_count": null,
   "id": "5fc8568a",
   "metadata": {},
   "outputs": [],
   "source": [
    "addr.str.slice(0,2)"
   ]
  },
  {
   "cell_type": "code",
   "execution_count": null,
   "id": "134fc164",
   "metadata": {},
   "outputs": [],
   "source": [
    "addr.str.extract('(.+시)')"
   ]
  },
  {
   "cell_type": "markdown",
   "id": "b38fa40c",
   "metadata": {},
   "source": [
    "### 행이름으로 행 삭제"
   ]
  },
  {
   "cell_type": "code",
   "execution_count": null,
   "id": "dfa0284a",
   "metadata": {},
   "outputs": [],
   "source": [
    "price.head()"
   ]
  },
  {
   "cell_type": "code",
   "execution_count": null,
   "id": "ef0e10e6",
   "metadata": {},
   "outputs": [],
   "source": [
    "price.reset_index(drop=True)"
   ]
  },
  {
   "cell_type": "code",
   "execution_count": null,
   "id": "4d243a9d",
   "metadata": {},
   "outputs": [],
   "source": [
    "df1=price.set_index(keys='아파트')\n",
    "df1"
   ]
  },
  {
   "cell_type": "code",
   "execution_count": null,
   "id": "1da555dc",
   "metadata": {},
   "outputs": [],
   "source": [
    "df1.head()"
   ]
  },
  {
   "cell_type": "code",
   "execution_count": null,
   "id": "f43843d1",
   "metadata": {},
   "outputs": [],
   "source": [
    "df1=df1.reset_index()"
   ]
  },
  {
   "cell_type": "code",
   "execution_count": null,
   "id": "4876fc38",
   "metadata": {},
   "outputs": [],
   "source": [
    "df1.head()"
   ]
  },
  {
   "cell_type": "markdown",
   "id": "1db3ac7f",
   "metadata": {},
   "source": [
    "### 결측값 처리"
   ]
  },
  {
   "cell_type": "code",
   "execution_count": null,
   "id": "2c0c2943",
   "metadata": {},
   "outputs": [],
   "source": [
    "#결측값 처리\n",
    "# 1. 결측값 발생 패턴 : 무작위로 발생!\n",
    "# 2. 처리 방법\n",
    "#   - 원본을 찾아서 넣는다\n",
    "#   - 단순 대체 : 평균, 중위수(이건하면 안됨)\n",
    "#   - 결측 행 삭제 (주의사항 : 전체의 5% 미만일때 가능, 5%이상이면 편향(bias)가 발생)\n",
    "#   - 다중 대체 : 회귀 추정을 여러번  -> 이를 평(mice라는 라이브러리로 할 수 있다)\n",
    "# 강의에서는 단순대체와 행 삭제를 알려줌"
   ]
  },
  {
   "cell_type": "code",
   "execution_count": null,
   "id": "00c904d7",
   "metadata": {},
   "outputs": [],
   "source": [
    "price.isna() #결측이 있는지 보여줌"
   ]
  },
  {
   "cell_type": "code",
   "execution_count": null,
   "id": "e9e51cb9",
   "metadata": {},
   "outputs": [],
   "source": [
    "price.isnull() #isna랑 같은 값"
   ]
  },
  {
   "cell_type": "code",
   "execution_count": null,
   "id": "b8253541",
   "metadata": {},
   "outputs": [],
   "source": [
    "price.isna().sum()"
   ]
  },
  {
   "cell_type": "code",
   "execution_count": null,
   "id": "bea41200",
   "metadata": {},
   "outputs": [],
   "source": [
    "price['지번'].isna()"
   ]
  },
  {
   "cell_type": "code",
   "execution_count": null,
   "id": "13fe0917",
   "metadata": {},
   "outputs": [],
   "source": [
    "price[price['지번'].isna()] #na인것만 뽑아줌"
   ]
  },
  {
   "cell_type": "code",
   "execution_count": null,
   "id": "6c0b573d",
   "metadata": {},
   "outputs": [],
   "source": [
    "price[price['지번'].isna()].fillna(value='0') #na값을 채우는 방법"
   ]
  },
  {
   "cell_type": "code",
   "execution_count": null,
   "id": "a445bc02",
   "metadata": {},
   "outputs": [],
   "source": [
    "os.listdir()"
   ]
  },
  {
   "cell_type": "code",
   "execution_count": null,
   "id": "0915aa00",
   "metadata": {},
   "outputs": [],
   "source": [
    "meanprice=pd.read_excel('APT_Mean_Price_Dong_2021.xlsx')"
   ]
  },
  {
   "cell_type": "code",
   "execution_count": null,
   "id": "b266195a",
   "metadata": {},
   "outputs": [],
   "source": [
    "meanprice"
   ]
  },
  {
   "cell_type": "code",
   "execution_count": null,
   "id": "da2b6466",
   "metadata": {},
   "outputs": [],
   "source": [
    "# 엑셀에서 셀병합되어 있는 것은 nan으로 나온다"
   ]
  },
  {
   "cell_type": "code",
   "execution_count": null,
   "id": "b78ca8f5",
   "metadata": {},
   "outputs": [],
   "source": [
    "meanprice.fillna(method='ffill')"
   ]
  },
  {
   "cell_type": "markdown",
   "id": "f1012dcd",
   "metadata": {},
   "source": [
    "### 결측값이 있는 행 삭제"
   ]
  },
  {
   "cell_type": "code",
   "execution_count": null,
   "id": "8abee557",
   "metadata": {},
   "outputs": [],
   "source": [
    "price"
   ]
  },
  {
   "cell_type": "code",
   "execution_count": null,
   "id": "faf34d7c",
   "metadata": {},
   "outputs": [],
   "source": []
  },
  {
   "cell_type": "code",
   "execution_count": null,
   "id": "0c81c3f6",
   "metadata": {},
   "outputs": [],
   "source": []
  },
  {
   "cell_type": "code",
   "execution_count": null,
   "id": "44fc6758",
   "metadata": {},
   "outputs": [],
   "source": [
    "price.dropna().shape[0]"
   ]
  },
  {
   "cell_type": "code",
   "execution_count": null,
   "id": "db3cf0f8",
   "metadata": {},
   "outputs": [],
   "source": []
  },
  {
   "cell_type": "code",
   "execution_count": null,
   "id": "d51b170e",
   "metadata": {},
   "outputs": [],
   "source": [
    "price[price['지번'].isna()].shape[0]"
   ]
  },
  {
   "cell_type": "code",
   "execution_count": null,
   "id": "37b36a4e",
   "metadata": {},
   "outputs": [],
   "source": []
  },
  {
   "cell_type": "code",
   "execution_count": null,
   "id": "68598b36",
   "metadata": {},
   "outputs": [],
   "source": [
    "price[price['지번'].notna()]"
   ]
  },
  {
   "cell_type": "code",
   "execution_count": null,
   "id": "7d50d527",
   "metadata": {},
   "outputs": [],
   "source": []
  },
  {
   "cell_type": "code",
   "execution_count": null,
   "id": "c4626e4d",
   "metadata": {},
   "outputs": [],
   "source": [
    "price.shape[0]"
   ]
  },
  {
   "cell_type": "code",
   "execution_count": null,
   "id": "d62a0d42",
   "metadata": {},
   "outputs": [],
   "source": [
    "price=pd.read_excel('APT_Price_Seoul_2021.xlsx')"
   ]
  },
  {
   "cell_type": "code",
   "execution_count": null,
   "id": "d1abac91",
   "metadata": {},
   "outputs": [],
   "source": []
  },
  {
   "cell_type": "code",
   "execution_count": null,
   "id": "b6d55774",
   "metadata": {},
   "outputs": [],
   "source": [
    "price"
   ]
  },
  {
   "cell_type": "code",
   "execution_count": null,
   "id": "51c33f29",
   "metadata": {},
   "outputs": [],
   "source": [
    "price['거래금액'].replace(',','')"
   ]
  },
  {
   "cell_type": "code",
   "execution_count": null,
   "id": "9ac71cbe",
   "metadata": {},
   "outputs": [],
   "source": [
    "price['평당금액']=price['거래금액']/price['전용면적']*3.3"
   ]
  },
  {
   "cell_type": "code",
   "execution_count": null,
   "id": "1d316d40",
   "metadata": {},
   "outputs": [],
   "source": [
    "price"
   ]
  },
  {
   "cell_type": "code",
   "execution_count": null,
   "id": "3b774a23",
   "metadata": {},
   "outputs": [],
   "source": [
    "price=price[price['지번'].notna()]"
   ]
  },
  {
   "cell_type": "code",
   "execution_count": null,
   "id": "845adc13",
   "metadata": {
    "scrolled": false
   },
   "outputs": [],
   "source": [
    "price"
   ]
  },
  {
   "cell_type": "code",
   "execution_count": null,
   "id": "04e6b2c0",
   "metadata": {},
   "outputs": [],
   "source": [
    "price['평당금액']"
   ]
  },
  {
   "cell_type": "code",
   "execution_count": null,
   "id": "0f90c70b",
   "metadata": {},
   "outputs": [],
   "source": [
    "price['평당금액'].ge(5000)"
   ]
  },
  {
   "cell_type": "code",
   "execution_count": null,
   "id": "18b5ef11",
   "metadata": {},
   "outputs": [],
   "source": [
    "locs=price['평당금액'].ge(5000)"
   ]
  },
  {
   "cell_type": "code",
   "execution_count": null,
   "id": "d8f661f9",
   "metadata": {},
   "outputs": [],
   "source": [
    "price['금액 구분']=np.where(locs, '5천 이상', '5천 미만') #2개로 구간화할 때 유용한 함수 : where"
   ]
  },
  {
   "cell_type": "code",
   "execution_count": null,
   "id": "e59f06d9",
   "metadata": {},
   "outputs": [],
   "source": [
    "price"
   ]
  },
  {
   "cell_type": "code",
   "execution_count": null,
   "id": "28a9e5a5",
   "metadata": {},
   "outputs": [],
   "source": [
    "import os\n",
    "import chardet\n",
    "import numpy as np\n",
    "import pandas as pd\n",
    "import joblib"
   ]
  },
  {
   "cell_type": "code",
   "execution_count": null,
   "id": "9b3fb157",
   "metadata": {},
   "outputs": [],
   "source": [
    "imsi=price.copy()"
   ]
  },
  {
   "cell_type": "code",
   "execution_count": null,
   "id": "a2b10070",
   "metadata": {},
   "outputs": [],
   "source": [
    "imsi.loc[imsi['평당금액'].ge(5000), '금액구분2'] = '5천 이상'"
   ]
  },
  {
   "cell_type": "code",
   "execution_count": null,
   "id": "eaf9a18a",
   "metadata": {},
   "outputs": [],
   "source": [
    "imsi.loc[imsi['평당금액'].lt(5000), '금액구분2'] = '5천 미만'"
   ]
  },
  {
   "cell_type": "code",
   "execution_count": null,
   "id": "47116b8f",
   "metadata": {},
   "outputs": [],
   "source": [
    "imsi.head()"
   ]
  },
  {
   "cell_type": "markdown",
   "id": "02094fcf",
   "metadata": {},
   "source": [
    "### 구간화 함수"
   ]
  },
  {
   "cell_type": "code",
   "execution_count": null,
   "id": "32df7b76",
   "metadata": {},
   "outputs": [],
   "source": [
    "price=np.select(\n",
    "    condlist=[price['평당금액'].ge(10000)]),\n",
    "              price['평당금액'].ge(5000),\n",
    "              price['평당금액'].lt(5000)],\n",
    "    choicelist=['1억 이상', '5천 이상', '5천 미만'])"
   ]
  },
  {
   "cell_type": "markdown",
   "id": "caa420e2",
   "metadata": {},
   "source": []
  },
  {
   "cell_type": "markdown",
   "id": "f43d06f0",
   "metadata": {},
   "source": [
    "## 파생변수 생성: 문자형 변수 결합"
   ]
  },
  {
   "cell_type": "code",
   "execution_count": null,
   "id": "581994b8",
   "metadata": {},
   "outputs": [],
   "source": [
    "price.head()"
   ]
  },
  {
   "cell_type": "code",
   "execution_count": null,
   "id": "4f9ac274",
   "metadata": {},
   "outputs": [],
   "source": [
    "price['주소'] = price['아파트'] + ' ' + price['시도명'] + ' ' + price['시군구'] + ' ' + price['법정도']"
   ]
  },
  {
   "cell_type": "code",
   "execution_count": null,
   "id": "524f73e5",
   "metadata": {},
   "outputs": [],
   "source": [
    "price.columns"
   ]
  },
  {
   "cell_type": "code",
   "execution_count": null,
   "id": "b0f7312b",
   "metadata": {},
   "outputs": [],
   "source": [
    "cols=['아파트', '시도명', '시군구', '지번']"
   ]
  },
  {
   "cell_type": "code",
   "execution_count": null,
   "id": "c5ba19e2",
   "metadata": {},
   "outputs": [],
   "source": []
  },
  {
   "cell_type": "code",
   "execution_count": null,
   "id": "0148d16e",
   "metadata": {},
   "outputs": [],
   "source": [
    "price[cols]"
   ]
  },
  {
   "cell_type": "code",
   "execution_count": null,
   "id": "104975b1",
   "metadata": {},
   "outputs": [],
   "source": [
    "price.loc[0, cols]"
   ]
  },
  {
   "cell_type": "code",
   "execution_count": null,
   "id": "91845630",
   "metadata": {},
   "outputs": [],
   "source": [
    "' '.join(price.loc[0, cols])"
   ]
  },
  {
   "cell_type": "code",
   "execution_count": null,
   "id": "5a5be262",
   "metadata": {},
   "outputs": [],
   "source": []
  },
  {
   "cell_type": "code",
   "execution_count": null,
   "id": "773c5730",
   "metadata": {},
   "outputs": [],
   "source": [
    "price[cols].apply(func=lambda x: ' '.join(x), axis=1) #apply 반복문 역할"
   ]
  },
  {
   "cell_type": "code",
   "execution_count": null,
   "id": "d2390ef2",
   "metadata": {},
   "outputs": [],
   "source": []
  },
  {
   "cell_type": "code",
   "execution_count": null,
   "id": "784d58f7",
   "metadata": {},
   "outputs": [],
   "source": [
    "#map 은 반복이다"
   ]
  },
  {
   "cell_type": "code",
   "execution_count": null,
   "id": "dd3b4262",
   "metadata": {},
   "outputs": [],
   "source": [
    "price['아파트']#.map(arg=len) #len 문자열에서는 글자수, 리스트에서는 원소수"
   ]
  },
  {
   "cell_type": "code",
   "execution_count": null,
   "id": "18544caf",
   "metadata": {},
   "outputs": [],
   "source": [
    "price['아파트'].map(arg=len) #len 문자열에서는 글자수, 리스트에서는 원소수"
   ]
  },
  {
   "cell_type": "code",
   "execution_count": null,
   "id": "5ae87117",
   "metadata": {},
   "outputs": [],
   "source": [
    "price[cols]"
   ]
  },
  {
   "cell_type": "code",
   "execution_count": null,
   "id": "26c9413b",
   "metadata": {},
   "outputs": [],
   "source": [
    "price[cols].apply(len, axis=1)"
   ]
  },
  {
   "cell_type": "code",
   "execution_count": null,
   "id": "44a3de03",
   "metadata": {},
   "outputs": [],
   "source": [
    "price[cols].apply(len, axis=0)"
   ]
  },
  {
   "cell_type": "code",
   "execution_count": null,
   "id": "29a05a5c",
   "metadata": {},
   "outputs": [],
   "source": [
    "price[cols].applymap(len)"
   ]
  },
  {
   "cell_type": "code",
   "execution_count": null,
   "id": "cbbe36fc",
   "metadata": {},
   "outputs": [],
   "source": [
    "price['층'].sort_values()"
   ]
  },
  {
   "cell_type": "code",
   "execution_count": null,
   "id": "dcb86659",
   "metadata": {},
   "outputs": [],
   "source": [
    "price['층'].sort_values(ascending=False) #내림차순"
   ]
  },
  {
   "cell_type": "code",
   "execution_count": null,
   "id": "765f4fe4",
   "metadata": {},
   "outputs": [],
   "source": [
    "price.sort_values(by=['층'])"
   ]
  },
  {
   "cell_type": "code",
   "execution_count": null,
   "id": "9bf4c296",
   "metadata": {},
   "outputs": [],
   "source": [
    "price.sort_values(by=['층'], ascending=False)"
   ]
  },
  {
   "cell_type": "code",
   "execution_count": null,
   "id": "23fb79ea",
   "metadata": {},
   "outputs": [],
   "source": [
    "price.sort_values(by=['층', '거래금액'], ascending=False)"
   ]
  },
  {
   "cell_type": "code",
   "execution_count": null,
   "id": "2ceb5323",
   "metadata": {},
   "outputs": [],
   "source": [
    "price.sort_values(by=['층', '거래금액'], ascending=[False,True])"
   ]
  },
  {
   "cell_type": "markdown",
   "id": "90ce5650",
   "metadata": {},
   "source": [
    "### 집합함수로 데이터 요약(P209)"
   ]
  },
  {
   "cell_type": "code",
   "execution_count": null,
   "id": "feff7fe9",
   "metadata": {},
   "outputs": [],
   "source": [
    "price['거래금액'].count()"
   ]
  },
  {
   "cell_type": "code",
   "execution_count": null,
   "id": "05e089be",
   "metadata": {},
   "outputs": [],
   "source": [
    "price['거래금액'].mean()"
   ]
  },
  {
   "cell_type": "code",
   "execution_count": null,
   "id": "05a9e5e2",
   "metadata": {},
   "outputs": [],
   "source": [
    "price['거래금액'].describe()"
   ]
  },
  {
   "cell_type": "markdown",
   "id": "eba7c07c",
   "metadata": {},
   "source": [
    "##### groupby"
   ]
  },
  {
   "cell_type": "code",
   "execution_count": null,
   "id": "580ba818",
   "metadata": {},
   "outputs": [],
   "source": [
    "price.groupby(by=['시군구']).count()"
   ]
  },
  {
   "cell_type": "code",
   "execution_count": null,
   "id": "28e0d4e0",
   "metadata": {},
   "outputs": [],
   "source": [
    "price.groupby(by=['시군구'])['거래금액'].count() #groupby : 범주형으로 그룹을 묶어줌"
   ]
  },
  {
   "cell_type": "code",
   "execution_count": null,
   "id": "6ceafb0a",
   "metadata": {},
   "outputs": [],
   "source": [
    "price.groupby(by=['시군구'])['거래금액'].describe()"
   ]
  },
  {
   "cell_type": "code",
   "execution_count": null,
   "id": "87c18231",
   "metadata": {},
   "outputs": [],
   "source": [
    "price['시군구'].unique()"
   ]
  },
  {
   "cell_type": "code",
   "execution_count": null,
   "id": "00acb7f8",
   "metadata": {},
   "outputs": [],
   "source": [
    "price['시군구'].nunique()"
   ]
  },
  {
   "cell_type": "code",
   "execution_count": null,
   "id": "b9b3b0a6",
   "metadata": {},
   "outputs": [],
   "source": [
    "price['시군구'].value_counts()"
   ]
  },
  {
   "cell_type": "code",
   "execution_count": null,
   "id": "125b5b38",
   "metadata": {},
   "outputs": [],
   "source": [
    "price['시군구'].value_counts().sort_index()"
   ]
  },
  {
   "cell_type": "code",
   "execution_count": null,
   "id": "d9c3f5c1",
   "metadata": {},
   "outputs": [],
   "source": [
    "price['시군구'].value_counts(normalize=True)*100"
   ]
  },
  {
   "cell_type": "markdown",
   "id": "5b9dd2c7",
   "metadata": {},
   "source": [
    "### 야구"
   ]
  },
  {
   "cell_type": "code",
   "execution_count": 1,
   "id": "2888b8f1",
   "metadata": {},
   "outputs": [],
   "source": [
    "import os\n",
    "import chardet\n",
    "import pandas as pd\n",
    "import numpy as np"
   ]
  },
  {
   "cell_type": "code",
   "execution_count": 2,
   "id": "e0f82b78",
   "metadata": {},
   "outputs": [
    {
     "data": {
      "text/plain": [
       "'d:\\\\python\\\\PythonBasic-main\\\\live'"
      ]
     },
     "execution_count": 2,
     "metadata": {},
     "output_type": "execute_result"
    }
   ],
   "source": [
    "os.getcwd()"
   ]
  },
  {
   "cell_type": "code",
   "execution_count": 3,
   "id": "493b953d",
   "metadata": {},
   "outputs": [],
   "source": [
    "os.chdir('../data')"
   ]
  },
  {
   "cell_type": "code",
   "execution_count": 4,
   "id": "7b67a0fc",
   "metadata": {},
   "outputs": [
    {
     "data": {
      "text/plain": [
       "'d:\\\\python\\\\PythonBasic-main\\\\data'"
      ]
     },
     "execution_count": 4,
     "metadata": {},
     "output_type": "execute_result"
    }
   ],
   "source": [
    "os.getcwd()"
   ]
  },
  {
   "cell_type": "code",
   "execution_count": 5,
   "id": "31b880b8",
   "metadata": {},
   "outputs": [
    {
     "data": {
      "text/plain": [
       "['APT_List_Seoul_2021.csv',\n",
       " 'APT_List_Seoul_2021.xlsx',\n",
       " 'APT_List_Seoul_2021.z',\n",
       " 'APT_Mean_Price_Dong_2021.xlsx',\n",
       " 'APT_Price_Seoul_2021.csv',\n",
       " 'APT_Price_Seoul_2021.xlsx',\n",
       " 'KBO_Hitters_2021.csv',\n",
       " 'KBO_Hitters_2021.xlsx',\n",
       " 'Naver_APT_Detail_Seoul.csv',\n",
       " 'Naver_APT_Detail_Seoul.xlsx']"
      ]
     },
     "execution_count": 5,
     "metadata": {},
     "output_type": "execute_result"
    }
   ],
   "source": [
    "os.listdir()"
   ]
  },
  {
   "cell_type": "code",
   "execution_count": 6,
   "id": "b567f1ef",
   "metadata": {},
   "outputs": [],
   "source": [
    "file='KBO_Hitters_2021.csv'"
   ]
  },
  {
   "cell_type": "code",
   "execution_count": 10,
   "id": "06d84f1f",
   "metadata": {},
   "outputs": [
    {
     "data": {
      "text/plain": [
       "{'encoding': 'EUC-KR', 'confidence': 0.6738816738816739, 'language': 'Korean'}"
      ]
     },
     "execution_count": 10,
     "metadata": {},
     "output_type": "execute_result"
    }
   ],
   "source": [
    "text=open(file=file, mode='rb').read()\n",
    "chardet.detect(text)"
   ]
  },
  {
   "cell_type": "code",
   "execution_count": 11,
   "id": "16097556",
   "metadata": {},
   "outputs": [],
   "source": [
    "df=pd.read_csv(file, encoding='EUC-KR')"
   ]
  },
  {
   "cell_type": "code",
   "execution_count": 12,
   "id": "d83fb5ba",
   "metadata": {},
   "outputs": [
    {
     "name": "stdout",
     "output_type": "stream",
     "text": [
      "<class 'pandas.core.frame.DataFrame'>\n",
      "RangeIndex: 300 entries, 0 to 299\n",
      "Data columns (total 19 columns):\n",
      " #   Column  Non-Null Count  Dtype  \n",
      "---  ------  --------------  -----  \n",
      " 0   선수명     300 non-null    object \n",
      " 1   팀명      300 non-null    object \n",
      " 2   경기      300 non-null    int64  \n",
      " 3   타석      300 non-null    int64  \n",
      " 4   타수      300 non-null    int64  \n",
      " 5   안타      300 non-null    int64  \n",
      " 6   홈런      300 non-null    int64  \n",
      " 7   득점      300 non-null    int64  \n",
      " 8   타점      300 non-null    int64  \n",
      " 9   볼넷      300 non-null    int64  \n",
      " 10  삼진      300 non-null    int64  \n",
      " 11  도루      300 non-null    int64  \n",
      " 12  BABIP   300 non-null    object \n",
      " 13  타율      300 non-null    float64\n",
      " 14  출루율     300 non-null    float64\n",
      " 15  장타율     300 non-null    float64\n",
      " 16  OPS     300 non-null    float64\n",
      " 17  wOBA    300 non-null    float64\n",
      " 18  WAR     300 non-null    float64\n",
      "dtypes: float64(6), int64(10), object(3)\n",
      "memory usage: 44.7+ KB\n"
     ]
    }
   ],
   "source": [
    "df.info()"
   ]
  },
  {
   "cell_type": "code",
   "execution_count": 13,
   "id": "58c3cbec",
   "metadata": {},
   "outputs": [
    {
     "data": {
      "text/html": [
       "<div>\n",
       "<style scoped>\n",
       "    .dataframe tbody tr th:only-of-type {\n",
       "        vertical-align: middle;\n",
       "    }\n",
       "\n",
       "    .dataframe tbody tr th {\n",
       "        vertical-align: top;\n",
       "    }\n",
       "\n",
       "    .dataframe thead th {\n",
       "        text-align: right;\n",
       "    }\n",
       "</style>\n",
       "<table border=\"1\" class=\"dataframe\">\n",
       "  <thead>\n",
       "    <tr style=\"text-align: right;\">\n",
       "      <th></th>\n",
       "      <th>선수명</th>\n",
       "      <th>팀명</th>\n",
       "      <th>경기</th>\n",
       "      <th>타석</th>\n",
       "      <th>타수</th>\n",
       "      <th>안타</th>\n",
       "      <th>홈런</th>\n",
       "      <th>득점</th>\n",
       "      <th>타점</th>\n",
       "      <th>볼넷</th>\n",
       "      <th>삼진</th>\n",
       "      <th>도루</th>\n",
       "      <th>BABIP</th>\n",
       "      <th>타율</th>\n",
       "      <th>출루율</th>\n",
       "      <th>장타율</th>\n",
       "      <th>OPS</th>\n",
       "      <th>wOBA</th>\n",
       "      <th>WAR</th>\n",
       "    </tr>\n",
       "  </thead>\n",
       "  <tbody>\n",
       "    <tr>\n",
       "      <th>0</th>\n",
       "      <td>홍창기</td>\n",
       "      <td>LG</td>\n",
       "      <td>144</td>\n",
       "      <td>651</td>\n",
       "      <td>524</td>\n",
       "      <td>172</td>\n",
       "      <td>4</td>\n",
       "      <td>103</td>\n",
       "      <td>52</td>\n",
       "      <td>109</td>\n",
       "      <td>95</td>\n",
       "      <td>23</td>\n",
       "      <td>0.393</td>\n",
       "      <td>0.328</td>\n",
       "      <td>0.456</td>\n",
       "      <td>0.408</td>\n",
       "      <td>0.864</td>\n",
       "      <td>0.412</td>\n",
       "      <td>7.10</td>\n",
       "    </tr>\n",
       "    <tr>\n",
       "      <th>1</th>\n",
       "      <td>이정후</td>\n",
       "      <td>Hero</td>\n",
       "      <td>123</td>\n",
       "      <td>544</td>\n",
       "      <td>464</td>\n",
       "      <td>167</td>\n",
       "      <td>7</td>\n",
       "      <td>78</td>\n",
       "      <td>84</td>\n",
       "      <td>62</td>\n",
       "      <td>37</td>\n",
       "      <td>10</td>\n",
       "      <td>0.373</td>\n",
       "      <td>0.360</td>\n",
       "      <td>0.438</td>\n",
       "      <td>0.522</td>\n",
       "      <td>0.960</td>\n",
       "      <td>0.429</td>\n",
       "      <td>7.06</td>\n",
       "    </tr>\n",
       "    <tr>\n",
       "      <th>2</th>\n",
       "      <td>강백호</td>\n",
       "      <td>KT</td>\n",
       "      <td>142</td>\n",
       "      <td>628</td>\n",
       "      <td>516</td>\n",
       "      <td>179</td>\n",
       "      <td>16</td>\n",
       "      <td>76</td>\n",
       "      <td>102</td>\n",
       "      <td>104</td>\n",
       "      <td>85</td>\n",
       "      <td>10</td>\n",
       "      <td>0.385</td>\n",
       "      <td>0.347</td>\n",
       "      <td>0.451</td>\n",
       "      <td>0.521</td>\n",
       "      <td>0.972</td>\n",
       "      <td>0.434</td>\n",
       "      <td>6.97</td>\n",
       "    </tr>\n",
       "    <tr>\n",
       "      <th>3</th>\n",
       "      <td>최정</td>\n",
       "      <td>SSG</td>\n",
       "      <td>134</td>\n",
       "      <td>555</td>\n",
       "      <td>436</td>\n",
       "      <td>121</td>\n",
       "      <td>35</td>\n",
       "      <td>92</td>\n",
       "      <td>100</td>\n",
       "      <td>84</td>\n",
       "      <td>102</td>\n",
       "      <td>8</td>\n",
       "      <td>0.277</td>\n",
       "      <td>0.278</td>\n",
       "      <td>0.410</td>\n",
       "      <td>0.562</td>\n",
       "      <td>0.972</td>\n",
       "      <td>0.425</td>\n",
       "      <td>6.83</td>\n",
       "    </tr>\n",
       "    <tr>\n",
       "      <th>4</th>\n",
       "      <td>양의지</td>\n",
       "      <td>NC</td>\n",
       "      <td>141</td>\n",
       "      <td>570</td>\n",
       "      <td>480</td>\n",
       "      <td>156</td>\n",
       "      <td>30</td>\n",
       "      <td>81</td>\n",
       "      <td>111</td>\n",
       "      <td>69</td>\n",
       "      <td>60</td>\n",
       "      <td>2</td>\n",
       "      <td>0.315</td>\n",
       "      <td>0.325</td>\n",
       "      <td>0.414</td>\n",
       "      <td>0.581</td>\n",
       "      <td>0.995</td>\n",
       "      <td>0.432</td>\n",
       "      <td>6.48</td>\n",
       "    </tr>\n",
       "  </tbody>\n",
       "</table>\n",
       "</div>"
      ],
      "text/plain": [
       "   선수명    팀명   경기   타석   타수   안타  홈런   득점   타점   볼넷   삼진  도루  BABIP     타율  \\\n",
       "0  홍창기    LG  144  651  524  172   4  103   52  109   95  23  0.393  0.328   \n",
       "1  이정후  Hero  123  544  464  167   7   78   84   62   37  10  0.373  0.360   \n",
       "2  강백호    KT  142  628  516  179  16   76  102  104   85  10  0.385  0.347   \n",
       "3   최정   SSG  134  555  436  121  35   92  100   84  102   8  0.277  0.278   \n",
       "4  양의지    NC  141  570  480  156  30   81  111   69   60   2  0.315  0.325   \n",
       "\n",
       "     출루율    장타율    OPS   wOBA   WAR  \n",
       "0  0.456  0.408  0.864  0.412  7.10  \n",
       "1  0.438  0.522  0.960  0.429  7.06  \n",
       "2  0.451  0.521  0.972  0.434  6.97  \n",
       "3  0.410  0.562  0.972  0.425  6.83  \n",
       "4  0.414  0.581  0.995  0.432  6.48  "
      ]
     },
     "execution_count": 13,
     "metadata": {},
     "output_type": "execute_result"
    }
   ],
   "source": [
    "df.head()"
   ]
  },
  {
   "cell_type": "code",
   "execution_count": 14,
   "id": "d9faedf7",
   "metadata": {},
   "outputs": [
    {
     "data": {
      "text/html": [
       "<div>\n",
       "<style scoped>\n",
       "    .dataframe tbody tr th:only-of-type {\n",
       "        vertical-align: middle;\n",
       "    }\n",
       "\n",
       "    .dataframe tbody tr th {\n",
       "        vertical-align: top;\n",
       "    }\n",
       "\n",
       "    .dataframe thead th {\n",
       "        text-align: right;\n",
       "    }\n",
       "</style>\n",
       "<table border=\"1\" class=\"dataframe\">\n",
       "  <thead>\n",
       "    <tr style=\"text-align: right;\">\n",
       "      <th></th>\n",
       "      <th>선수명</th>\n",
       "      <th>팀명</th>\n",
       "      <th>경기</th>\n",
       "      <th>타석</th>\n",
       "      <th>타수</th>\n",
       "      <th>안타</th>\n",
       "      <th>홈런</th>\n",
       "      <th>득점</th>\n",
       "      <th>타점</th>\n",
       "      <th>볼넷</th>\n",
       "      <th>삼진</th>\n",
       "      <th>도루</th>\n",
       "      <th>BABIP</th>\n",
       "      <th>타율</th>\n",
       "      <th>출루율</th>\n",
       "      <th>장타율</th>\n",
       "      <th>OPS</th>\n",
       "      <th>wOBA</th>\n",
       "      <th>WAR</th>\n",
       "    </tr>\n",
       "  </thead>\n",
       "  <tbody>\n",
       "    <tr>\n",
       "      <th>295</th>\n",
       "      <td>변상권</td>\n",
       "      <td>Hero</td>\n",
       "      <td>72</td>\n",
       "      <td>171</td>\n",
       "      <td>159</td>\n",
       "      <td>38</td>\n",
       "      <td>0</td>\n",
       "      <td>19</td>\n",
       "      <td>20</td>\n",
       "      <td>9</td>\n",
       "      <td>40</td>\n",
       "      <td>0</td>\n",
       "      <td>0.311</td>\n",
       "      <td>0.239</td>\n",
       "      <td>0.275</td>\n",
       "      <td>0.321</td>\n",
       "      <td>0.596</td>\n",
       "      <td>0.270</td>\n",
       "      <td>-0.76</td>\n",
       "    </tr>\n",
       "    <tr>\n",
       "      <th>296</th>\n",
       "      <td>예진원</td>\n",
       "      <td>Hero</td>\n",
       "      <td>52</td>\n",
       "      <td>132</td>\n",
       "      <td>114</td>\n",
       "      <td>18</td>\n",
       "      <td>1</td>\n",
       "      <td>16</td>\n",
       "      <td>8</td>\n",
       "      <td>12</td>\n",
       "      <td>28</td>\n",
       "      <td>0</td>\n",
       "      <td>0.198</td>\n",
       "      <td>0.158</td>\n",
       "      <td>0.248</td>\n",
       "      <td>0.254</td>\n",
       "      <td>0.502</td>\n",
       "      <td>0.241</td>\n",
       "      <td>-0.90</td>\n",
       "    </tr>\n",
       "    <tr>\n",
       "      <th>297</th>\n",
       "      <td>이원석</td>\n",
       "      <td>한화</td>\n",
       "      <td>43</td>\n",
       "      <td>130</td>\n",
       "      <td>114</td>\n",
       "      <td>20</td>\n",
       "      <td>1</td>\n",
       "      <td>12</td>\n",
       "      <td>9</td>\n",
       "      <td>8</td>\n",
       "      <td>43</td>\n",
       "      <td>4</td>\n",
       "      <td>0.264</td>\n",
       "      <td>0.175</td>\n",
       "      <td>0.238</td>\n",
       "      <td>0.228</td>\n",
       "      <td>0.466</td>\n",
       "      <td>0.224</td>\n",
       "      <td>-0.96</td>\n",
       "    </tr>\n",
       "    <tr>\n",
       "      <th>298</th>\n",
       "      <td>유장혁</td>\n",
       "      <td>한화</td>\n",
       "      <td>34</td>\n",
       "      <td>112</td>\n",
       "      <td>98</td>\n",
       "      <td>14</td>\n",
       "      <td>1</td>\n",
       "      <td>11</td>\n",
       "      <td>7</td>\n",
       "      <td>8</td>\n",
       "      <td>39</td>\n",
       "      <td>2</td>\n",
       "      <td>0.217</td>\n",
       "      <td>0.143</td>\n",
       "      <td>0.218</td>\n",
       "      <td>0.224</td>\n",
       "      <td>0.442</td>\n",
       "      <td>0.213</td>\n",
       "      <td>-0.96</td>\n",
       "    </tr>\n",
       "    <tr>\n",
       "      <th>299</th>\n",
       "      <td>임종찬</td>\n",
       "      <td>한화</td>\n",
       "      <td>42</td>\n",
       "      <td>146</td>\n",
       "      <td>131</td>\n",
       "      <td>20</td>\n",
       "      <td>1</td>\n",
       "      <td>9</td>\n",
       "      <td>8</td>\n",
       "      <td>12</td>\n",
       "      <td>49</td>\n",
       "      <td>0</td>\n",
       "      <td>0.235</td>\n",
       "      <td>0.153</td>\n",
       "      <td>0.229</td>\n",
       "      <td>0.214</td>\n",
       "      <td>0.443</td>\n",
       "      <td>0.217</td>\n",
       "      <td>-1.47</td>\n",
       "    </tr>\n",
       "  </tbody>\n",
       "</table>\n",
       "</div>"
      ],
      "text/plain": [
       "     선수명    팀명  경기   타석   타수  안타  홈런  득점  타점  볼넷  삼진  도루  BABIP     타율    출루율  \\\n",
       "295  변상권  Hero  72  171  159  38   0  19  20   9  40   0  0.311  0.239  0.275   \n",
       "296  예진원  Hero  52  132  114  18   1  16   8  12  28   0  0.198  0.158  0.248   \n",
       "297  이원석    한화  43  130  114  20   1  12   9   8  43   4  0.264  0.175  0.238   \n",
       "298  유장혁    한화  34  112   98  14   1  11   7   8  39   2  0.217  0.143  0.218   \n",
       "299  임종찬    한화  42  146  131  20   1   9   8  12  49   0  0.235  0.153  0.229   \n",
       "\n",
       "       장타율    OPS   wOBA   WAR  \n",
       "295  0.321  0.596  0.270 -0.76  \n",
       "296  0.254  0.502  0.241 -0.90  \n",
       "297  0.228  0.466  0.224 -0.96  \n",
       "298  0.224  0.442  0.213 -0.96  \n",
       "299  0.214  0.443  0.217 -1.47  "
      ]
     },
     "execution_count": 14,
     "metadata": {},
     "output_type": "execute_result"
    }
   ],
   "source": [
    "df.tail()"
   ]
  },
  {
   "cell_type": "code",
   "execution_count": 16,
   "id": "5fd4f08d",
   "metadata": {},
   "outputs": [
    {
     "data": {
      "text/html": [
       "<div>\n",
       "<style scoped>\n",
       "    .dataframe tbody tr th:only-of-type {\n",
       "        vertical-align: middle;\n",
       "    }\n",
       "\n",
       "    .dataframe tbody tr th {\n",
       "        vertical-align: top;\n",
       "    }\n",
       "\n",
       "    .dataframe thead th {\n",
       "        text-align: right;\n",
       "    }\n",
       "</style>\n",
       "<table border=\"1\" class=\"dataframe\">\n",
       "  <thead>\n",
       "    <tr style=\"text-align: right;\">\n",
       "      <th></th>\n",
       "      <th>선수명</th>\n",
       "      <th>팀명</th>\n",
       "      <th>경기</th>\n",
       "      <th>타석</th>\n",
       "      <th>타수</th>\n",
       "      <th>안타</th>\n",
       "      <th>홈런</th>\n",
       "      <th>득점</th>\n",
       "      <th>타점</th>\n",
       "      <th>볼넷</th>\n",
       "      <th>삼진</th>\n",
       "      <th>도루</th>\n",
       "      <th>BABIP</th>\n",
       "      <th>타율</th>\n",
       "      <th>출루율</th>\n",
       "      <th>장타율</th>\n",
       "      <th>OPS</th>\n",
       "      <th>wOBA</th>\n",
       "      <th>WAR</th>\n",
       "    </tr>\n",
       "  </thead>\n",
       "  <tbody>\n",
       "    <tr>\n",
       "      <th>165</th>\n",
       "      <td>황경태</td>\n",
       "      <td>두산</td>\n",
       "      <td>1</td>\n",
       "      <td>1</td>\n",
       "      <td>1</td>\n",
       "      <td>0</td>\n",
       "      <td>0</td>\n",
       "      <td>0</td>\n",
       "      <td>0</td>\n",
       "      <td>0</td>\n",
       "      <td>1</td>\n",
       "      <td>0</td>\n",
       "      <td>-</td>\n",
       "      <td>0.0</td>\n",
       "      <td>0.0</td>\n",
       "      <td>0.0</td>\n",
       "      <td>0.0</td>\n",
       "      <td>0.0</td>\n",
       "      <td>-0.03</td>\n",
       "    </tr>\n",
       "    <tr>\n",
       "      <th>166</th>\n",
       "      <td>나원탁</td>\n",
       "      <td>롯데</td>\n",
       "      <td>1</td>\n",
       "      <td>1</td>\n",
       "      <td>1</td>\n",
       "      <td>0</td>\n",
       "      <td>0</td>\n",
       "      <td>0</td>\n",
       "      <td>0</td>\n",
       "      <td>0</td>\n",
       "      <td>1</td>\n",
       "      <td>0</td>\n",
       "      <td>-</td>\n",
       "      <td>0.0</td>\n",
       "      <td>0.0</td>\n",
       "      <td>0.0</td>\n",
       "      <td>0.0</td>\n",
       "      <td>0.0</td>\n",
       "      <td>-0.03</td>\n",
       "    </tr>\n",
       "    <tr>\n",
       "      <th>174</th>\n",
       "      <td>박성재</td>\n",
       "      <td>두산</td>\n",
       "      <td>1</td>\n",
       "      <td>1</td>\n",
       "      <td>1</td>\n",
       "      <td>0</td>\n",
       "      <td>0</td>\n",
       "      <td>0</td>\n",
       "      <td>0</td>\n",
       "      <td>0</td>\n",
       "      <td>1</td>\n",
       "      <td>0</td>\n",
       "      <td>-</td>\n",
       "      <td>0.0</td>\n",
       "      <td>0.0</td>\n",
       "      <td>0.0</td>\n",
       "      <td>0.0</td>\n",
       "      <td>0.0</td>\n",
       "      <td>-0.03</td>\n",
       "    </tr>\n",
       "    <tr>\n",
       "      <th>170</th>\n",
       "      <td>서진용(타)</td>\n",
       "      <td>SSG</td>\n",
       "      <td>1</td>\n",
       "      <td>1</td>\n",
       "      <td>1</td>\n",
       "      <td>0</td>\n",
       "      <td>0</td>\n",
       "      <td>0</td>\n",
       "      <td>0</td>\n",
       "      <td>0</td>\n",
       "      <td>1</td>\n",
       "      <td>0</td>\n",
       "      <td>-</td>\n",
       "      <td>0.0</td>\n",
       "      <td>0.0</td>\n",
       "      <td>0.0</td>\n",
       "      <td>0.0</td>\n",
       "      <td>0.0</td>\n",
       "      <td>-0.03</td>\n",
       "    </tr>\n",
       "    <tr>\n",
       "      <th>171</th>\n",
       "      <td>오장한</td>\n",
       "      <td>NC</td>\n",
       "      <td>1</td>\n",
       "      <td>1</td>\n",
       "      <td>1</td>\n",
       "      <td>0</td>\n",
       "      <td>0</td>\n",
       "      <td>0</td>\n",
       "      <td>0</td>\n",
       "      <td>0</td>\n",
       "      <td>1</td>\n",
       "      <td>0</td>\n",
       "      <td>-</td>\n",
       "      <td>0.0</td>\n",
       "      <td>0.0</td>\n",
       "      <td>0.0</td>\n",
       "      <td>0.0</td>\n",
       "      <td>0.0</td>\n",
       "      <td>-0.03</td>\n",
       "    </tr>\n",
       "  </tbody>\n",
       "</table>\n",
       "</div>"
      ],
      "text/plain": [
       "        선수명   팀명  경기  타석  타수  안타  홈런  득점  타점  볼넷  삼진  도루 BABIP   타율  출루율  장타율  \\\n",
       "165     황경태   두산   1   1   1   0   0   0   0   0   1   0     -  0.0  0.0  0.0   \n",
       "166     나원탁   롯데   1   1   1   0   0   0   0   0   1   0     -  0.0  0.0  0.0   \n",
       "174     박성재   두산   1   1   1   0   0   0   0   0   1   0     -  0.0  0.0  0.0   \n",
       "170  서진용(타)  SSG   1   1   1   0   0   0   0   0   1   0     -  0.0  0.0  0.0   \n",
       "171     오장한   NC   1   1   1   0   0   0   0   0   1   0     -  0.0  0.0  0.0   \n",
       "\n",
       "     OPS  wOBA   WAR  \n",
       "165  0.0   0.0 -0.03  \n",
       "166  0.0   0.0 -0.03  \n",
       "174  0.0   0.0 -0.03  \n",
       "170  0.0   0.0 -0.03  \n",
       "171  0.0   0.0 -0.03  "
      ]
     },
     "execution_count": 16,
     "metadata": {},
     "output_type": "execute_result"
    }
   ],
   "source": [
    "df.sort_values(by=['BABIP']).head() # - 게 있어서 BABIP이 object임"
   ]
  },
  {
   "cell_type": "code",
   "execution_count": 28,
   "id": "6f668c2a",
   "metadata": {},
   "outputs": [
    {
     "ename": "AttributeError",
     "evalue": "Can only use .str accessor with string values!",
     "output_type": "error",
     "traceback": [
      "\u001b[1;31m---------------------------------------------------------------------------\u001b[0m",
      "\u001b[1;31mAttributeError\u001b[0m                            Traceback (most recent call last)",
      "Input \u001b[1;32mIn [28]\u001b[0m, in \u001b[0;36m<cell line: 1>\u001b[1;34m()\u001b[0m\n\u001b[1;32m----> 1\u001b[0m df[\u001b[38;5;124m'\u001b[39m\u001b[38;5;124mBABIP\u001b[39m\u001b[38;5;124m'\u001b[39m]\u001b[38;5;241m=\u001b[39m\u001b[43mdf\u001b[49m\u001b[43m[\u001b[49m\u001b[38;5;124;43m'\u001b[39;49m\u001b[38;5;124;43mBABIP\u001b[39;49m\u001b[38;5;124;43m'\u001b[39;49m\u001b[43m]\u001b[49m\u001b[38;5;241;43m.\u001b[39;49m\u001b[43mstr\u001b[49m\u001b[38;5;241m.\u001b[39mreplace(\u001b[38;5;124m'\u001b[39m\u001b[38;5;124m-\u001b[39m\u001b[38;5;124m'\u001b[39m,\u001b[38;5;124m'\u001b[39m\u001b[38;5;124m0\u001b[39m\u001b[38;5;124m'\u001b[39m)\n",
      "File \u001b[1;32mC:\\Program Files\\python\\lib\\site-packages\\pandas\\core\\generic.py:5575\u001b[0m, in \u001b[0;36mNDFrame.__getattr__\u001b[1;34m(self, name)\u001b[0m\n\u001b[0;32m   5568\u001b[0m \u001b[38;5;28;01mif\u001b[39;00m (\n\u001b[0;32m   5569\u001b[0m     name \u001b[38;5;129;01mnot\u001b[39;00m \u001b[38;5;129;01min\u001b[39;00m \u001b[38;5;28mself\u001b[39m\u001b[38;5;241m.\u001b[39m_internal_names_set\n\u001b[0;32m   5570\u001b[0m     \u001b[38;5;129;01mand\u001b[39;00m name \u001b[38;5;129;01mnot\u001b[39;00m \u001b[38;5;129;01min\u001b[39;00m \u001b[38;5;28mself\u001b[39m\u001b[38;5;241m.\u001b[39m_metadata\n\u001b[0;32m   5571\u001b[0m     \u001b[38;5;129;01mand\u001b[39;00m name \u001b[38;5;129;01mnot\u001b[39;00m \u001b[38;5;129;01min\u001b[39;00m \u001b[38;5;28mself\u001b[39m\u001b[38;5;241m.\u001b[39m_accessors\n\u001b[0;32m   5572\u001b[0m     \u001b[38;5;129;01mand\u001b[39;00m \u001b[38;5;28mself\u001b[39m\u001b[38;5;241m.\u001b[39m_info_axis\u001b[38;5;241m.\u001b[39m_can_hold_identifiers_and_holds_name(name)\n\u001b[0;32m   5573\u001b[0m ):\n\u001b[0;32m   5574\u001b[0m     \u001b[38;5;28;01mreturn\u001b[39;00m \u001b[38;5;28mself\u001b[39m[name]\n\u001b[1;32m-> 5575\u001b[0m \u001b[38;5;28;01mreturn\u001b[39;00m \u001b[38;5;28;43mobject\u001b[39;49m\u001b[38;5;241;43m.\u001b[39;49m\u001b[38;5;21;43m__getattribute__\u001b[39;49m\u001b[43m(\u001b[49m\u001b[38;5;28;43mself\u001b[39;49m\u001b[43m,\u001b[49m\u001b[43m \u001b[49m\u001b[43mname\u001b[49m\u001b[43m)\u001b[49m\n",
      "File \u001b[1;32mC:\\Program Files\\python\\lib\\site-packages\\pandas\\core\\accessor.py:182\u001b[0m, in \u001b[0;36mCachedAccessor.__get__\u001b[1;34m(self, obj, cls)\u001b[0m\n\u001b[0;32m    179\u001b[0m \u001b[38;5;28;01mif\u001b[39;00m obj \u001b[38;5;129;01mis\u001b[39;00m \u001b[38;5;28;01mNone\u001b[39;00m:\n\u001b[0;32m    180\u001b[0m     \u001b[38;5;66;03m# we're accessing the attribute of the class, i.e., Dataset.geo\u001b[39;00m\n\u001b[0;32m    181\u001b[0m     \u001b[38;5;28;01mreturn\u001b[39;00m \u001b[38;5;28mself\u001b[39m\u001b[38;5;241m.\u001b[39m_accessor\n\u001b[1;32m--> 182\u001b[0m accessor_obj \u001b[38;5;241m=\u001b[39m \u001b[38;5;28;43mself\u001b[39;49m\u001b[38;5;241;43m.\u001b[39;49m\u001b[43m_accessor\u001b[49m\u001b[43m(\u001b[49m\u001b[43mobj\u001b[49m\u001b[43m)\u001b[49m\n\u001b[0;32m    183\u001b[0m \u001b[38;5;66;03m# Replace the property with the accessor object. Inspired by:\u001b[39;00m\n\u001b[0;32m    184\u001b[0m \u001b[38;5;66;03m# https://www.pydanny.com/cached-property.html\u001b[39;00m\n\u001b[0;32m    185\u001b[0m \u001b[38;5;66;03m# We need to use object.__setattr__ because we overwrite __setattr__ on\u001b[39;00m\n\u001b[0;32m    186\u001b[0m \u001b[38;5;66;03m# NDFrame\u001b[39;00m\n\u001b[0;32m    187\u001b[0m \u001b[38;5;28mobject\u001b[39m\u001b[38;5;241m.\u001b[39m\u001b[38;5;21m__setattr__\u001b[39m(obj, \u001b[38;5;28mself\u001b[39m\u001b[38;5;241m.\u001b[39m_name, accessor_obj)\n",
      "File \u001b[1;32mC:\\Program Files\\python\\lib\\site-packages\\pandas\\core\\strings\\accessor.py:177\u001b[0m, in \u001b[0;36mStringMethods.__init__\u001b[1;34m(self, data)\u001b[0m\n\u001b[0;32m    174\u001b[0m \u001b[38;5;28;01mdef\u001b[39;00m \u001b[38;5;21m__init__\u001b[39m(\u001b[38;5;28mself\u001b[39m, data):\n\u001b[0;32m    175\u001b[0m     \u001b[38;5;28;01mfrom\u001b[39;00m \u001b[38;5;21;01mpandas\u001b[39;00m\u001b[38;5;21;01m.\u001b[39;00m\u001b[38;5;21;01mcore\u001b[39;00m\u001b[38;5;21;01m.\u001b[39;00m\u001b[38;5;21;01marrays\u001b[39;00m\u001b[38;5;21;01m.\u001b[39;00m\u001b[38;5;21;01mstring_\u001b[39;00m \u001b[38;5;28;01mimport\u001b[39;00m StringDtype\n\u001b[1;32m--> 177\u001b[0m     \u001b[38;5;28mself\u001b[39m\u001b[38;5;241m.\u001b[39m_inferred_dtype \u001b[38;5;241m=\u001b[39m \u001b[38;5;28;43mself\u001b[39;49m\u001b[38;5;241;43m.\u001b[39;49m\u001b[43m_validate\u001b[49m\u001b[43m(\u001b[49m\u001b[43mdata\u001b[49m\u001b[43m)\u001b[49m\n\u001b[0;32m    178\u001b[0m     \u001b[38;5;28mself\u001b[39m\u001b[38;5;241m.\u001b[39m_is_categorical \u001b[38;5;241m=\u001b[39m is_categorical_dtype(data\u001b[38;5;241m.\u001b[39mdtype)\n\u001b[0;32m    179\u001b[0m     \u001b[38;5;28mself\u001b[39m\u001b[38;5;241m.\u001b[39m_is_string \u001b[38;5;241m=\u001b[39m \u001b[38;5;28misinstance\u001b[39m(data\u001b[38;5;241m.\u001b[39mdtype, StringDtype)\n",
      "File \u001b[1;32mC:\\Program Files\\python\\lib\\site-packages\\pandas\\core\\strings\\accessor.py:231\u001b[0m, in \u001b[0;36mStringMethods._validate\u001b[1;34m(data)\u001b[0m\n\u001b[0;32m    228\u001b[0m inferred_dtype \u001b[38;5;241m=\u001b[39m lib\u001b[38;5;241m.\u001b[39minfer_dtype(values, skipna\u001b[38;5;241m=\u001b[39m\u001b[38;5;28;01mTrue\u001b[39;00m)\n\u001b[0;32m    230\u001b[0m \u001b[38;5;28;01mif\u001b[39;00m inferred_dtype \u001b[38;5;129;01mnot\u001b[39;00m \u001b[38;5;129;01min\u001b[39;00m allowed_types:\n\u001b[1;32m--> 231\u001b[0m     \u001b[38;5;28;01mraise\u001b[39;00m \u001b[38;5;167;01mAttributeError\u001b[39;00m(\u001b[38;5;124m\"\u001b[39m\u001b[38;5;124mCan only use .str accessor with string values!\u001b[39m\u001b[38;5;124m\"\u001b[39m)\n\u001b[0;32m    232\u001b[0m \u001b[38;5;28;01mreturn\u001b[39;00m inferred_dtype\n",
      "\u001b[1;31mAttributeError\u001b[0m: Can only use .str accessor with string values!"
     ]
    }
   ],
   "source": [
    "df['BABIP']=df['BABIP'].str.replace('-','0')"
   ]
  },
  {
   "cell_type": "code",
   "execution_count": null,
   "id": "3d57de55",
   "metadata": {},
   "outputs": [],
   "source": []
  },
  {
   "cell_type": "code",
   "execution_count": null,
   "id": "7cc02112",
   "metadata": {},
   "outputs": [],
   "source": []
  },
  {
   "cell_type": "code",
   "execution_count": null,
   "id": "1cb971ac",
   "metadata": {},
   "outputs": [],
   "source": []
  },
  {
   "cell_type": "code",
   "execution_count": 19,
   "id": "412c7385",
   "metadata": {},
   "outputs": [],
   "source": [
    "df['BABIP']=df['BABIP'].astype(float)"
   ]
  },
  {
   "cell_type": "code",
   "execution_count": 25,
   "id": "c3c4caec",
   "metadata": {},
   "outputs": [
    {
     "data": {
      "text/plain": [
       "선수명       object\n",
       "팀명        object\n",
       "경기         int64\n",
       "타석         int64\n",
       "타수         int64\n",
       "안타         int64\n",
       "홈런         int64\n",
       "득점         int64\n",
       "타점         int64\n",
       "볼넷         int64\n",
       "삼진         int64\n",
       "도루         int64\n",
       "BABIP    float64\n",
       "타율       float64\n",
       "출루율      float64\n",
       "장타율      float64\n",
       "OPS      float64\n",
       "wOBA     float64\n",
       "WAR      float64\n",
       "dtype: object"
      ]
     },
     "execution_count": 25,
     "metadata": {},
     "output_type": "execute_result"
    }
   ],
   "source": [
    "df.dtypes"
   ]
  },
  {
   "cell_type": "code",
   "execution_count": 27,
   "id": "3e3a1a54",
   "metadata": {},
   "outputs": [
    {
     "data": {
      "text/plain": [
       "팀명\n",
       "Hero    30\n",
       "KIA     30\n",
       "KT      27\n",
       "LG      31\n",
       "NC      34\n",
       "SSG     29\n",
       "두산      28\n",
       "롯데      30\n",
       "삼성      27\n",
       "한화      34\n",
       "Name: 선수명, dtype: int64"
      ]
     },
     "execution_count": 27,
     "metadata": {},
     "output_type": "execute_result"
    }
   ],
   "source": [
    "df.groupby(by=['팀명'])['선수명'].count()"
   ]
  },
  {
   "cell_type": "code",
   "execution_count": 31,
   "id": "5c94a7e0",
   "metadata": {},
   "outputs": [
    {
     "data": {
      "text/plain": [
       "팀명\n",
       "Hero    5\n",
       "KIA     4\n",
       "KT      6\n",
       "LG      4\n",
       "NC      4\n",
       "SSG     6\n",
       "두산      5\n",
       "롯데      7\n",
       "삼성      7\n",
       "한화      4\n",
       "Name: 선수명, dtype: int64"
      ]
     },
     "execution_count": 31,
     "metadata": {},
     "output_type": "execute_result"
    }
   ],
   "source": [
    "df[df['타석'].ge(144*3.1)].groupby(by=['팀명'])['선수명'].count()"
   ]
  },
  {
   "cell_type": "code",
   "execution_count": 32,
   "id": "907f7108",
   "metadata": {},
   "outputs": [
    {
     "data": {
      "text/plain": [
       "팀명\n",
       "롯데      0.278099\n",
       "두산      0.268163\n",
       "삼성      0.267163\n",
       "KT      0.265281\n",
       "SSG     0.260870\n",
       "NC      0.260815\n",
       "Hero    0.258925\n",
       "LG      0.250105\n",
       "KIA     0.247982\n",
       "한화      0.237140\n",
       "dtype: float64"
      ]
     },
     "execution_count": 32,
     "metadata": {},
     "output_type": "execute_result"
    }
   ],
   "source": [
    "팀타수=df.groupby(by=['팀명'])['타수'].sum()\n",
    "팀안타=df.groupby(by=['팀명'])['안타'].sum()\n",
    "(팀안타/팀타수).sort_values(ascending=False)"
   ]
  },
  {
   "cell_type": "code",
   "execution_count": 40,
   "id": "d8673a41",
   "metadata": {},
   "outputs": [
    {
     "data": {
      "text/plain": [
       "팀명\n",
       "SSG     6.379310\n",
       "NC      5.000000\n",
       "삼성      4.925926\n",
       "두산      3.928571\n",
       "KT      3.925926\n",
       "롯데      3.566667\n",
       "LG      3.548387\n",
       "Hero    3.033333\n",
       "한화      2.352941\n",
       "KIA     2.200000\n",
       "Name: 홈런, dtype: float64"
      ]
     },
     "execution_count": 40,
     "metadata": {},
     "output_type": "execute_result"
    }
   ],
   "source": [
    "df.groupby(by=['팀명'])['홈런'].mean().sort_values(ascending=False)"
   ]
  },
  {
   "cell_type": "code",
   "execution_count": 41,
   "id": "be8986df",
   "metadata": {},
   "outputs": [
    {
     "data": {
      "text/plain": [
       "팀명\n",
       "KIA     0.646037\n",
       "LG      0.639309\n",
       "KT      0.616046\n",
       "삼성      0.604213\n",
       "SSG     0.603791\n",
       "롯데      0.597523\n",
       "두산      0.593220\n",
       "Hero    0.563981\n",
       "한화      0.492224\n",
       "NC      0.468435\n",
       "dtype: float64"
      ]
     },
     "execution_count": 41,
     "metadata": {},
     "output_type": "execute_result"
    }
   ],
   "source": [
    "팀볼넷=df.groupby(by=['팀명'])['볼넷'].sum() #볼삼비\n",
    "팀삼진=df.groupby(by=['팀명'])['삼진'].sum()\n",
    "(팀볼넷/팀삼진).sort_values(ascending=False)"
   ]
  }
 ],
 "metadata": {
  "kernelspec": {
   "display_name": "Python 3 (ipykernel)",
   "language": "python",
   "name": "python3"
  },
  "language_info": {
   "codemirror_mode": {
    "name": "ipython",
    "version": 3
   },
   "file_extension": ".py",
   "mimetype": "text/x-python",
   "name": "python",
   "nbconvert_exporter": "python",
   "pygments_lexer": "ipython3",
   "version": "3.10.6"
  }
 },
 "nbformat": 4,
 "nbformat_minor": 5
}
