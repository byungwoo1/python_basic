{
 "cells": [
  {
   "cell_type": "markdown",
   "id": "fd60f913",
   "metadata": {},
   "source": [
    "# 파이썬 1일차"
   ]
  },
  {
   "cell_type": "markdown",
   "id": "4ca1f3e1",
   "metadata": {},
   "source": [
    "## 자료형"
   ]
  },
  {
   "cell_type": "code",
   "execution_count": 77,
   "id": "eb7e3d64",
   "metadata": {},
   "outputs": [],
   "source": [
    "str1='Life is short, '"
   ]
  },
  {
   "cell_type": "code",
   "execution_count": 78,
   "id": "4067f921",
   "metadata": {},
   "outputs": [
    {
     "data": {
      "text/plain": [
       "'Life is short, '"
      ]
     },
     "execution_count": 78,
     "metadata": {},
     "output_type": "execute_result"
    }
   ],
   "source": [
    "str1"
   ]
  },
  {
   "cell_type": "code",
   "execution_count": 79,
   "id": "bf5db327",
   "metadata": {},
   "outputs": [
    {
     "name": "stdout",
     "output_type": "stream",
     "text": [
      "Life is short, \n"
     ]
    }
   ],
   "source": [
    "print(str1)"
   ]
  },
  {
   "cell_type": "code",
   "execution_count": 80,
   "id": "fd624ee3",
   "metadata": {},
   "outputs": [
    {
     "data": {
      "text/plain": [
       "15"
      ]
     },
     "execution_count": 80,
     "metadata": {},
     "output_type": "execute_result"
    }
   ],
   "source": [
    "len(str1)"
   ]
  },
  {
   "cell_type": "code",
   "execution_count": 81,
   "id": "0557fbfb",
   "metadata": {},
   "outputs": [
    {
     "data": {
      "text/plain": [
       "str"
      ]
     },
     "execution_count": 81,
     "metadata": {},
     "output_type": "execute_result"
    }
   ],
   "source": [
    "type(str1)"
   ]
  },
  {
   "cell_type": "code",
   "execution_count": 82,
   "id": "5ea12476",
   "metadata": {},
   "outputs": [],
   "source": [
    "str2=\"You need Python\""
   ]
  },
  {
   "cell_type": "code",
   "execution_count": 83,
   "id": "acac6cbd",
   "metadata": {},
   "outputs": [
    {
     "data": {
      "text/plain": [
       "'You need Python'"
      ]
     },
     "execution_count": 83,
     "metadata": {},
     "output_type": "execute_result"
    }
   ],
   "source": [
    "str2"
   ]
  },
  {
   "cell_type": "code",
   "execution_count": 84,
   "id": "aa17336e",
   "metadata": {},
   "outputs": [
    {
     "data": {
      "text/plain": [
       "15"
      ]
     },
     "execution_count": 84,
     "metadata": {},
     "output_type": "execute_result"
    }
   ],
   "source": [
    "len(str2)"
   ]
  },
  {
   "cell_type": "code",
   "execution_count": 85,
   "id": "7170caea",
   "metadata": {},
   "outputs": [
    {
     "data": {
      "text/plain": [
       "'Life is short, You need Python'"
      ]
     },
     "execution_count": 85,
     "metadata": {},
     "output_type": "execute_result"
    }
   ],
   "source": [
    "str1+str2"
   ]
  },
  {
   "cell_type": "code",
   "execution_count": 86,
   "id": "525c255e",
   "metadata": {},
   "outputs": [
    {
     "data": {
      "text/plain": [
       "'Life is short, Life is short, Life is short, '"
      ]
     },
     "execution_count": 86,
     "metadata": {},
     "output_type": "execute_result"
    }
   ],
   "source": [
    "str1*3"
   ]
  },
  {
   "cell_type": "code",
   "execution_count": 88,
   "id": "41b0f6ed",
   "metadata": {},
   "outputs": [
    {
     "data": {
      "text/plain": [
       "True"
      ]
     },
     "execution_count": 88,
     "metadata": {},
     "output_type": "execute_result"
    }
   ],
   "source": [
    "'a' not in str1"
   ]
  },
  {
   "cell_type": "code",
   "execution_count": 90,
   "id": "6d038af3",
   "metadata": {},
   "outputs": [
    {
     "data": {
      "text/plain": [
       "60"
      ]
     },
     "execution_count": 90,
     "metadata": {},
     "output_type": "execute_result"
    }
   ],
   "source": [
    "len(str1+(str2*3))"
   ]
  },
  {
   "cell_type": "code",
   "execution_count": 91,
   "id": "48f4dcc2",
   "metadata": {},
   "outputs": [
    {
     "ename": "NameError",
     "evalue": "name 'fir' is not defined",
     "output_type": "error",
     "traceback": [
      "\u001b[1;31m---------------------------------------------------------------------------\u001b[0m",
      "\u001b[1;31mNameError\u001b[0m                                 Traceback (most recent call last)",
      "Input \u001b[1;32mIn [91]\u001b[0m, in \u001b[0;36m<cell line: 1>\u001b[1;34m()\u001b[0m\n\u001b[1;32m----> 1\u001b[0m \u001b[43mfir\u001b[49m(\u001b[38;5;28mstr\u001b[39m)\n",
      "\u001b[1;31mNameError\u001b[0m: name 'fir' is not defined"
     ]
    }
   ],
   "source": [
    "fir(str)"
   ]
  },
  {
   "cell_type": "code",
   "execution_count": 92,
   "id": "def65cec",
   "metadata": {
    "scrolled": true
   },
   "outputs": [
    {
     "data": {
      "text/plain": [
       "['__add__',\n",
       " '__class__',\n",
       " '__contains__',\n",
       " '__delattr__',\n",
       " '__dir__',\n",
       " '__doc__',\n",
       " '__eq__',\n",
       " '__format__',\n",
       " '__ge__',\n",
       " '__getattribute__',\n",
       " '__getitem__',\n",
       " '__getnewargs__',\n",
       " '__gt__',\n",
       " '__hash__',\n",
       " '__init__',\n",
       " '__init_subclass__',\n",
       " '__iter__',\n",
       " '__le__',\n",
       " '__len__',\n",
       " '__lt__',\n",
       " '__mod__',\n",
       " '__mul__',\n",
       " '__ne__',\n",
       " '__new__',\n",
       " '__reduce__',\n",
       " '__reduce_ex__',\n",
       " '__repr__',\n",
       " '__rmod__',\n",
       " '__rmul__',\n",
       " '__setattr__',\n",
       " '__sizeof__',\n",
       " '__str__',\n",
       " '__subclasshook__',\n",
       " 'capitalize',\n",
       " 'casefold',\n",
       " 'center',\n",
       " 'count',\n",
       " 'encode',\n",
       " 'endswith',\n",
       " 'expandtabs',\n",
       " 'find',\n",
       " 'format',\n",
       " 'format_map',\n",
       " 'index',\n",
       " 'isalnum',\n",
       " 'isalpha',\n",
       " 'isascii',\n",
       " 'isdecimal',\n",
       " 'isdigit',\n",
       " 'isidentifier',\n",
       " 'islower',\n",
       " 'isnumeric',\n",
       " 'isprintable',\n",
       " 'isspace',\n",
       " 'istitle',\n",
       " 'isupper',\n",
       " 'join',\n",
       " 'ljust',\n",
       " 'lower',\n",
       " 'lstrip',\n",
       " 'maketrans',\n",
       " 'partition',\n",
       " 'removeprefix',\n",
       " 'removesuffix',\n",
       " 'replace',\n",
       " 'rfind',\n",
       " 'rindex',\n",
       " 'rjust',\n",
       " 'rpartition',\n",
       " 'rsplit',\n",
       " 'rstrip',\n",
       " 'split',\n",
       " 'splitlines',\n",
       " 'startswith',\n",
       " 'strip',\n",
       " 'swapcase',\n",
       " 'title',\n",
       " 'translate',\n",
       " 'upper',\n",
       " 'zfill']"
      ]
     },
     "execution_count": 92,
     "metadata": {},
     "output_type": "execute_result"
    }
   ],
   "source": [
    "dir(str1)"
   ]
  },
  {
   "cell_type": "code",
   "execution_count": null,
   "id": "0f9473c2",
   "metadata": {},
   "outputs": [],
   "source": []
  },
  {
   "cell_type": "code",
   "execution_count": null,
   "id": "1f7fa9d4",
   "metadata": {},
   "outputs": [],
   "source": []
  },
  {
   "cell_type": "code",
   "execution_count": 95,
   "id": "7f89a06f",
   "metadata": {},
   "outputs": [],
   "source": [
    "sen='아버지가 방에 들어가신다.'"
   ]
  },
  {
   "cell_type": "code",
   "execution_count": 96,
   "id": "080f83bd",
   "metadata": {},
   "outputs": [
    {
     "data": {
      "text/plain": [
       "'.'"
      ]
     },
     "execution_count": 96,
     "metadata": {},
     "output_type": "execute_result"
    }
   ],
   "source": [
    "sen[-1]"
   ]
  },
  {
   "cell_type": "code",
   "execution_count": 97,
   "id": "bec45182",
   "metadata": {},
   "outputs": [
    {
     "data": {
      "text/plain": [
       "' '"
      ]
     },
     "execution_count": 97,
     "metadata": {},
     "output_type": "execute_result"
    }
   ],
   "source": [
    "sen[4]"
   ]
  },
  {
   "cell_type": "code",
   "execution_count": 99,
   "id": "708dcb7d",
   "metadata": {},
   "outputs": [
    {
     "data": {
      "text/plain": [
       "'에 들'"
      ]
     },
     "execution_count": 99,
     "metadata": {},
     "output_type": "execute_result"
    }
   ],
   "source": [
    "sen[6:9]"
   ]
  },
  {
   "cell_type": "code",
   "execution_count": null,
   "id": "fcec140b",
   "metadata": {},
   "outputs": [],
   "source": []
  },
  {
   "cell_type": "code",
   "execution_count": null,
   "id": "cb3f562d",
   "metadata": {},
   "outputs": [],
   "source": []
  },
  {
   "cell_type": "code",
   "execution_count": 94,
   "id": "c1d151de",
   "metadata": {},
   "outputs": [
    {
     "data": {
      "text/plain": [
       "'아'"
      ]
     },
     "execution_count": 94,
     "metadata": {},
     "output_type": "execute_result"
    }
   ],
   "source": [
    "sen[0]"
   ]
  },
  {
   "cell_type": "code",
   "execution_count": 101,
   "id": "a339ac41",
   "metadata": {},
   "outputs": [
    {
     "data": {
      "text/plain": [
       "'아버지'"
      ]
     },
     "execution_count": 101,
     "metadata": {},
     "output_type": "execute_result"
    }
   ],
   "source": [
    "sen[0]+sen[1]+sen[2]"
   ]
  },
  {
   "cell_type": "code",
   "execution_count": 102,
   "id": "78fdceeb",
   "metadata": {},
   "outputs": [
    {
     "data": {
      "text/plain": [
       "'아버'"
      ]
     },
     "execution_count": 102,
     "metadata": {},
     "output_type": "execute_result"
    }
   ],
   "source": [
    "sen[0:2]"
   ]
  },
  {
   "cell_type": "code",
   "execution_count": 103,
   "id": "316aec77",
   "metadata": {},
   "outputs": [
    {
     "data": {
      "text/plain": [
       "'아버지'"
      ]
     },
     "execution_count": 103,
     "metadata": {},
     "output_type": "execute_result"
    }
   ],
   "source": [
    "sen[:3]"
   ]
  },
  {
   "cell_type": "code",
   "execution_count": null,
   "id": "c9865294",
   "metadata": {},
   "outputs": [],
   "source": []
  },
  {
   "cell_type": "code",
   "execution_count": 104,
   "id": "09e3aa4c",
   "metadata": {},
   "outputs": [
    {
     "data": {
      "text/plain": [
       "'어가신다.'"
      ]
     },
     "execution_count": 104,
     "metadata": {},
     "output_type": "execute_result"
    }
   ],
   "source": [
    "sen[9:]"
   ]
  },
  {
   "cell_type": "code",
   "execution_count": 107,
   "id": "ce973636",
   "metadata": {},
   "outputs": [
    {
     "data": {
      "text/plain": [
       "'아버지가 방에'"
      ]
     },
     "execution_count": 107,
     "metadata": {},
     "output_type": "execute_result"
    }
   ],
   "source": [
    "sen[0:7]"
   ]
  },
  {
   "cell_type": "code",
   "execution_count": null,
   "id": "b973adb9",
   "metadata": {},
   "outputs": [],
   "source": []
  },
  {
   "cell_type": "code",
   "execution_count": null,
   "id": "a2e3cf4b",
   "metadata": {},
   "outputs": [],
   "source": []
  },
  {
   "cell_type": "code",
   "execution_count": 108,
   "id": "2a2249f7",
   "metadata": {},
   "outputs": [],
   "source": [
    "sen=' \\n 파이썬 \\t 문자열 다루기 '"
   ]
  },
  {
   "cell_type": "code",
   "execution_count": 109,
   "id": "55ca1b22",
   "metadata": {},
   "outputs": [
    {
     "ename": "NameError",
     "evalue": "name 'ᄂ두' is not defined",
     "output_type": "error",
     "traceback": [
      "\u001b[1;31m---------------------------------------------------------------------------\u001b[0m",
      "\u001b[1;31mNameError\u001b[0m                                 Traceback (most recent call last)",
      "Input \u001b[1;32mIn [109]\u001b[0m, in \u001b[0;36m<cell line: 1>\u001b[1;34m()\u001b[0m\n\u001b[1;32m----> 1\u001b[0m \u001b[43mㄴ두\u001b[49m\n",
      "\u001b[1;31mNameError\u001b[0m: name 'ᄂ두' is not defined"
     ]
    }
   ],
   "source": [
    "ㄴ두"
   ]
  },
  {
   "cell_type": "code",
   "execution_count": 110,
   "id": "f5eda46f",
   "metadata": {},
   "outputs": [
    {
     "data": {
      "text/plain": [
       "' \\n 파이썬 \\t 문자열 다루기 '"
      ]
     },
     "execution_count": 110,
     "metadata": {},
     "output_type": "execute_result"
    }
   ],
   "source": [
    "sen"
   ]
  },
  {
   "cell_type": "code",
   "execution_count": 111,
   "id": "fefb4d5c",
   "metadata": {},
   "outputs": [
    {
     "name": "stdout",
     "output_type": "stream",
     "text": [
      " \n",
      " 파이썬 \t 문자열 다루기 \n"
     ]
    }
   ],
   "source": [
    "print(sen)"
   ]
  },
  {
   "cell_type": "code",
   "execution_count": 112,
   "id": "bee5ef3d",
   "metadata": {
    "scrolled": true
   },
   "outputs": [
    {
     "data": {
      "text/plain": [
       "['__add__',\n",
       " '__class__',\n",
       " '__contains__',\n",
       " '__delattr__',\n",
       " '__dir__',\n",
       " '__doc__',\n",
       " '__eq__',\n",
       " '__format__',\n",
       " '__ge__',\n",
       " '__getattribute__',\n",
       " '__getitem__',\n",
       " '__getnewargs__',\n",
       " '__gt__',\n",
       " '__hash__',\n",
       " '__init__',\n",
       " '__init_subclass__',\n",
       " '__iter__',\n",
       " '__le__',\n",
       " '__len__',\n",
       " '__lt__',\n",
       " '__mod__',\n",
       " '__mul__',\n",
       " '__ne__',\n",
       " '__new__',\n",
       " '__reduce__',\n",
       " '__reduce_ex__',\n",
       " '__repr__',\n",
       " '__rmod__',\n",
       " '__rmul__',\n",
       " '__setattr__',\n",
       " '__sizeof__',\n",
       " '__str__',\n",
       " '__subclasshook__',\n",
       " 'capitalize',\n",
       " 'casefold',\n",
       " 'center',\n",
       " 'count',\n",
       " 'encode',\n",
       " 'endswith',\n",
       " 'expandtabs',\n",
       " 'find',\n",
       " 'format',\n",
       " 'format_map',\n",
       " 'index',\n",
       " 'isalnum',\n",
       " 'isalpha',\n",
       " 'isascii',\n",
       " 'isdecimal',\n",
       " 'isdigit',\n",
       " 'isidentifier',\n",
       " 'islower',\n",
       " 'isnumeric',\n",
       " 'isprintable',\n",
       " 'isspace',\n",
       " 'istitle',\n",
       " 'isupper',\n",
       " 'join',\n",
       " 'ljust',\n",
       " 'lower',\n",
       " 'lstrip',\n",
       " 'maketrans',\n",
       " 'partition',\n",
       " 'removeprefix',\n",
       " 'removesuffix',\n",
       " 'replace',\n",
       " 'rfind',\n",
       " 'rindex',\n",
       " 'rjust',\n",
       " 'rpartition',\n",
       " 'rsplit',\n",
       " 'rstrip',\n",
       " 'split',\n",
       " 'splitlines',\n",
       " 'startswith',\n",
       " 'strip',\n",
       " 'swapcase',\n",
       " 'title',\n",
       " 'translate',\n",
       " 'upper',\n",
       " 'zfill']"
      ]
     },
     "execution_count": 112,
     "metadata": {},
     "output_type": "execute_result"
    }
   ],
   "source": [
    "dir(sen)"
   ]
  },
  {
   "cell_type": "code",
   "execution_count": 114,
   "id": "69259caf",
   "metadata": {},
   "outputs": [
    {
     "data": {
      "text/plain": [
       "' \\n 파이썬 \\t 문자열 다루기 '"
      ]
     },
     "execution_count": 114,
     "metadata": {},
     "output_type": "execute_result"
    }
   ],
   "source": [
    "sen"
   ]
  },
  {
   "cell_type": "code",
   "execution_count": 115,
   "id": "b5f68e01",
   "metadata": {},
   "outputs": [
    {
     "data": {
      "text/plain": [
       "'파이썬 \\t 문자열 다루기'"
      ]
     },
     "execution_count": 115,
     "metadata": {},
     "output_type": "execute_result"
    }
   ],
   "source": [
    "sen.strip()"
   ]
  },
  {
   "cell_type": "code",
   "execution_count": 116,
   "id": "e5109a9c",
   "metadata": {},
   "outputs": [
    {
     "data": {
      "text/plain": [
       "' \\n 파이썬 \\t 문자열 다루기 '"
      ]
     },
     "execution_count": 116,
     "metadata": {},
     "output_type": "execute_result"
    }
   ],
   "source": [
    "sen \n"
   ]
  },
  {
   "cell_type": "code",
   "execution_count": 117,
   "id": "308e7fc9",
   "metadata": {},
   "outputs": [
    {
     "data": {
      "text/plain": [
       "'  파이썬 \\t 문자열 다루기 '"
      ]
     },
     "execution_count": 117,
     "metadata": {},
     "output_type": "execute_result"
    }
   ],
   "source": [
    "sen.replace('\\n','')"
   ]
  },
  {
   "cell_type": "code",
   "execution_count": null,
   "id": "f8163948",
   "metadata": {},
   "outputs": [],
   "source": []
  },
  {
   "cell_type": "raw",
   "id": "f4cf5c81",
   "metadata": {},
   "source": [
    "\n",
    "sen.strip()"
   ]
  },
  {
   "cell_type": "code",
   "execution_count": 113,
   "id": "17ec6f68",
   "metadata": {},
   "outputs": [
    {
     "data": {
      "text/plain": [
       "' \\n 파이썬 \\t 문자열 다루기 '"
      ]
     },
     "execution_count": 113,
     "metadata": {},
     "output_type": "execute_result"
    }
   ],
   "source": [
    "sen"
   ]
  },
  {
   "cell_type": "code",
   "execution_count": 118,
   "id": "7902637f",
   "metadata": {},
   "outputs": [
    {
     "data": {
      "text/plain": [
       "' \\n 파이썬 \\t 문자열 다루기 '"
      ]
     },
     "execution_count": 118,
     "metadata": {},
     "output_type": "execute_result"
    }
   ],
   "source": [
    "sen"
   ]
  },
  {
   "cell_type": "code",
   "execution_count": 119,
   "id": "20c224f4",
   "metadata": {},
   "outputs": [
    {
     "data": {
      "text/plain": [
       "[' \\n 파이썬 ', ' 문자열 다루기 ']"
      ]
     },
     "execution_count": 119,
     "metadata": {},
     "output_type": "execute_result"
    }
   ],
   "source": [
    "sen.split('\\t')"
   ]
  },
  {
   "cell_type": "code",
   "execution_count": 120,
   "id": "4da07c08",
   "metadata": {},
   "outputs": [],
   "source": [
    "str2=sen.split()"
   ]
  },
  {
   "cell_type": "code",
   "execution_count": 121,
   "id": "5869123c",
   "metadata": {},
   "outputs": [
    {
     "data": {
      "text/plain": [
       "['파이썬', '문자열', '다루기']"
      ]
     },
     "execution_count": 121,
     "metadata": {},
     "output_type": "execute_result"
    }
   ],
   "source": [
    "str2"
   ]
  },
  {
   "cell_type": "code",
   "execution_count": 123,
   "id": "7b3b3092",
   "metadata": {},
   "outputs": [
    {
     "data": {
      "text/plain": [
       "'파이썬문자열다루기'"
      ]
     },
     "execution_count": 123,
     "metadata": {},
     "output_type": "execute_result"
    }
   ],
   "source": [
    "''.join(str2)"
   ]
  },
  {
   "cell_type": "code",
   "execution_count": null,
   "id": "40fe6108",
   "metadata": {},
   "outputs": [],
   "source": []
  },
  {
   "cell_type": "code",
   "execution_count": 124,
   "id": "b3d96ae7",
   "metadata": {},
   "outputs": [
    {
     "ename": "SyntaxError",
     "evalue": "unmatched ')' (1751923350.py, line 1)",
     "output_type": "error",
     "traceback": [
      "\u001b[1;36m  Input \u001b[1;32mIn [124]\u001b[1;36m\u001b[0m\n\u001b[1;33m    int)1.2)\u001b[0m\n\u001b[1;37m       ^\u001b[0m\n\u001b[1;31mSyntaxError\u001b[0m\u001b[1;31m:\u001b[0m unmatched ')'\n"
     ]
    }
   ],
   "source": [
    "int)1.2)"
   ]
  },
  {
   "cell_type": "code",
   "execution_count": 125,
   "id": "e1e52a38",
   "metadata": {},
   "outputs": [
    {
     "data": {
      "text/plain": [
       "1"
      ]
     },
     "execution_count": 125,
     "metadata": {},
     "output_type": "execute_result"
    }
   ],
   "source": [
    "int(1.2)"
   ]
  },
  {
   "cell_type": "code",
   "execution_count": 126,
   "id": "6ee2e965",
   "metadata": {},
   "outputs": [
    {
     "data": {
      "text/plain": [
       "1.0"
      ]
     },
     "execution_count": 126,
     "metadata": {},
     "output_type": "execute_result"
    }
   ],
   "source": [
    "float(1)"
   ]
  },
  {
   "cell_type": "code",
   "execution_count": 127,
   "id": "fb072afd",
   "metadata": {},
   "outputs": [
    {
     "data": {
      "text/plain": [
       "'1'"
      ]
     },
     "execution_count": 127,
     "metadata": {},
     "output_type": "execute_result"
    }
   ],
   "source": [
    "str(1)"
   ]
  },
  {
   "cell_type": "code",
   "execution_count": 128,
   "id": "d78b89d4",
   "metadata": {},
   "outputs": [
    {
     "data": {
      "text/plain": [
       "'1.1'"
      ]
     },
     "execution_count": 128,
     "metadata": {},
     "output_type": "execute_result"
    }
   ],
   "source": [
    "str(1.1)"
   ]
  },
  {
   "cell_type": "code",
   "execution_count": 129,
   "id": "75990e6b",
   "metadata": {},
   "outputs": [
    {
     "data": {
      "text/plain": [
       "'1.1'"
      ]
     },
     "execution_count": 129,
     "metadata": {},
     "output_type": "execute_result"
    }
   ],
   "source": [
    "str('1.1')"
   ]
  },
  {
   "cell_type": "code",
   "execution_count": 132,
   "id": "23c9dadc",
   "metadata": {},
   "outputs": [],
   "source": [
    "name = '홍길동'\n",
    "rate=3.2"
   ]
  },
  {
   "cell_type": "code",
   "execution_count": null,
   "id": "303447ff",
   "metadata": {},
   "outputs": [],
   "source": []
  },
  {
   "cell_type": "code",
   "execution_count": 135,
   "id": "f4399ebf",
   "metadata": {},
   "outputs": [
    {
     "data": {
      "text/plain": [
       "'홍길동 고객님의 이자율은 3.2 %입니다.'"
      ]
     },
     "execution_count": 135,
     "metadata": {},
     "output_type": "execute_result"
    }
   ],
   "source": [
    "'%s 고객님의 이자율은 %.1f %%입니다.' %(name, rate)"
   ]
  },
  {
   "cell_type": "code",
   "execution_count": 136,
   "id": "f5edd379",
   "metadata": {},
   "outputs": [
    {
     "data": {
      "text/plain": [
       "'홍길동고객님의 이자율은 3.2% 입니다.'"
      ]
     },
     "execution_count": 136,
     "metadata": {},
     "output_type": "execute_result"
    }
   ],
   "source": [
    "name + '고객님의 이자율은 ' + str(rate) + '% 입니다.'"
   ]
  },
  {
   "cell_type": "code",
   "execution_count": 138,
   "id": "67b42114",
   "metadata": {},
   "outputs": [
    {
     "data": {
      "text/plain": [
       "'홍길동 고객님의 이자율은 3.2 %입니니다.'"
      ]
     },
     "execution_count": 138,
     "metadata": {},
     "output_type": "execute_result"
    }
   ],
   "source": [
    "'%s 고객님의 이자율은 %.1f %%입니니다.' %(name, rate)"
   ]
  },
  {
   "cell_type": "code",
   "execution_count": 139,
   "id": "9d0a67cc",
   "metadata": {},
   "outputs": [
    {
     "data": {
      "text/plain": [
       "'홍길동 고객님의 이자율은 3.2 %입니다.'"
      ]
     },
     "execution_count": 139,
     "metadata": {},
     "output_type": "execute_result"
    }
   ],
   "source": [
    "'{} 고객님의 이자율은 {} %입니다.'.format(name, rate)"
   ]
  },
  {
   "cell_type": "code",
   "execution_count": 141,
   "id": "ea27bb44",
   "metadata": {},
   "outputs": [
    {
     "data": {
      "text/plain": [
       "'홍길동 고객님의 이자율은 3.2000 %입니다.'"
      ]
     },
     "execution_count": 141,
     "metadata": {},
     "output_type": "execute_result"
    }
   ],
   "source": [
    "'{} 고객님의 이자율은 {:.4f} %입니다.'.format(name, rate)"
   ]
  },
  {
   "cell_type": "code",
   "execution_count": 143,
   "id": "fe79f54f",
   "metadata": {},
   "outputs": [
    {
     "data": {
      "text/plain": [
       "'3.20 고객님의 이자율은 홍길동 %입니다.'"
      ]
     },
     "execution_count": 143,
     "metadata": {},
     "output_type": "execute_result"
    }
   ],
   "source": [
    "'{1:.2f} 고객님의 이자율은 {0} %입니다.'.format(name, rate)"
   ]
  },
  {
   "cell_type": "code",
   "execution_count": 145,
   "id": "7b41331f",
   "metadata": {},
   "outputs": [
    {
     "data": {
      "text/plain": [
       "'홍길동 고객님의 이자율은 3.20000 %입니다.'"
      ]
     },
     "execution_count": 145,
     "metadata": {},
     "output_type": "execute_result"
    }
   ],
   "source": [
    "f'{name} 고객님의 이자율은 {rate:.5f} %입니다.'"
   ]
  },
  {
   "cell_type": "code",
   "execution_count": 147,
   "id": "88a68121",
   "metadata": {},
   "outputs": [
    {
     "data": {
      "text/plain": [
       "'dafsdfs홍길동'"
      ]
     },
     "execution_count": 147,
     "metadata": {},
     "output_type": "execute_result"
    }
   ],
   "source": [
    "f'dafsdfs{name}'"
   ]
  },
  {
   "cell_type": "code",
   "execution_count": 148,
   "id": "057a85b1",
   "metadata": {},
   "outputs": [],
   "source": [
    "t=True"
   ]
  },
  {
   "cell_type": "code",
   "execution_count": 149,
   "id": "789cdfd8",
   "metadata": {},
   "outputs": [
    {
     "data": {
      "text/plain": [
       "True"
      ]
     },
     "execution_count": 149,
     "metadata": {},
     "output_type": "execute_result"
    }
   ],
   "source": [
    "t"
   ]
  },
  {
   "cell_type": "code",
   "execution_count": 150,
   "id": "653ffb8d",
   "metadata": {},
   "outputs": [
    {
     "data": {
      "text/plain": [
       "1"
      ]
     },
     "execution_count": 150,
     "metadata": {},
     "output_type": "execute_result"
    }
   ],
   "source": [
    "True+False"
   ]
  },
  {
   "cell_type": "code",
   "execution_count": 151,
   "id": "0ccf6f6a",
   "metadata": {
    "scrolled": true
   },
   "outputs": [
    {
     "data": {
      "text/plain": [
       "['__abs__',\n",
       " '__add__',\n",
       " '__and__',\n",
       " '__bool__',\n",
       " '__ceil__',\n",
       " '__class__',\n",
       " '__delattr__',\n",
       " '__dir__',\n",
       " '__divmod__',\n",
       " '__doc__',\n",
       " '__eq__',\n",
       " '__float__',\n",
       " '__floor__',\n",
       " '__floordiv__',\n",
       " '__format__',\n",
       " '__ge__',\n",
       " '__getattribute__',\n",
       " '__getnewargs__',\n",
       " '__gt__',\n",
       " '__hash__',\n",
       " '__index__',\n",
       " '__init__',\n",
       " '__init_subclass__',\n",
       " '__int__',\n",
       " '__invert__',\n",
       " '__le__',\n",
       " '__lshift__',\n",
       " '__lt__',\n",
       " '__mod__',\n",
       " '__mul__',\n",
       " '__ne__',\n",
       " '__neg__',\n",
       " '__new__',\n",
       " '__or__',\n",
       " '__pos__',\n",
       " '__pow__',\n",
       " '__radd__',\n",
       " '__rand__',\n",
       " '__rdivmod__',\n",
       " '__reduce__',\n",
       " '__reduce_ex__',\n",
       " '__repr__',\n",
       " '__rfloordiv__',\n",
       " '__rlshift__',\n",
       " '__rmod__',\n",
       " '__rmul__',\n",
       " '__ror__',\n",
       " '__round__',\n",
       " '__rpow__',\n",
       " '__rrshift__',\n",
       " '__rshift__',\n",
       " '__rsub__',\n",
       " '__rtruediv__',\n",
       " '__rxor__',\n",
       " '__setattr__',\n",
       " '__sizeof__',\n",
       " '__str__',\n",
       " '__sub__',\n",
       " '__subclasshook__',\n",
       " '__truediv__',\n",
       " '__trunc__',\n",
       " '__xor__',\n",
       " 'as_integer_ratio',\n",
       " 'bit_count',\n",
       " 'bit_length',\n",
       " 'conjugate',\n",
       " 'denominator',\n",
       " 'from_bytes',\n",
       " 'imag',\n",
       " 'numerator',\n",
       " 'real',\n",
       " 'to_bytes']"
      ]
     },
     "execution_count": 151,
     "metadata": {},
     "output_type": "execute_result"
    }
   ],
   "source": [
    "dir(t)"
   ]
  },
  {
   "cell_type": "code",
   "execution_count": 152,
   "id": "f6b19dbd",
   "metadata": {
    "scrolled": true
   },
   "outputs": [
    {
     "data": {
      "text/plain": [
       "['__abs__',\n",
       " '__add__',\n",
       " '__and__',\n",
       " '__bool__',\n",
       " '__ceil__',\n",
       " '__class__',\n",
       " '__delattr__',\n",
       " '__dir__',\n",
       " '__divmod__',\n",
       " '__doc__',\n",
       " '__eq__',\n",
       " '__float__',\n",
       " '__floor__',\n",
       " '__floordiv__',\n",
       " '__format__',\n",
       " '__ge__',\n",
       " '__getattribute__',\n",
       " '__getnewargs__',\n",
       " '__gt__',\n",
       " '__hash__',\n",
       " '__index__',\n",
       " '__init__',\n",
       " '__init_subclass__',\n",
       " '__int__',\n",
       " '__invert__',\n",
       " '__le__',\n",
       " '__lshift__',\n",
       " '__lt__',\n",
       " '__mod__',\n",
       " '__mul__',\n",
       " '__ne__',\n",
       " '__neg__',\n",
       " '__new__',\n",
       " '__or__',\n",
       " '__pos__',\n",
       " '__pow__',\n",
       " '__radd__',\n",
       " '__rand__',\n",
       " '__rdivmod__',\n",
       " '__reduce__',\n",
       " '__reduce_ex__',\n",
       " '__repr__',\n",
       " '__rfloordiv__',\n",
       " '__rlshift__',\n",
       " '__rmod__',\n",
       " '__rmul__',\n",
       " '__ror__',\n",
       " '__round__',\n",
       " '__rpow__',\n",
       " '__rrshift__',\n",
       " '__rshift__',\n",
       " '__rsub__',\n",
       " '__rtruediv__',\n",
       " '__rxor__',\n",
       " '__setattr__',\n",
       " '__sizeof__',\n",
       " '__str__',\n",
       " '__sub__',\n",
       " '__subclasshook__',\n",
       " '__truediv__',\n",
       " '__trunc__',\n",
       " '__xor__',\n",
       " 'as_integer_ratio',\n",
       " 'bit_count',\n",
       " 'bit_length',\n",
       " 'conjugate',\n",
       " 'denominator',\n",
       " 'from_bytes',\n",
       " 'imag',\n",
       " 'numerator',\n",
       " 'real',\n",
       " 'to_bytes']"
      ]
     },
     "execution_count": 152,
     "metadata": {},
     "output_type": "execute_result"
    }
   ],
   "source": [
    "dir(a)"
   ]
  },
  {
   "cell_type": "code",
   "execution_count": 154,
   "id": "6bfd16a3",
   "metadata": {},
   "outputs": [
    {
     "ename": "TypeError",
     "evalue": "object of type 'int' has no len()",
     "output_type": "error",
     "traceback": [
      "\u001b[1;31m---------------------------------------------------------------------------\u001b[0m",
      "\u001b[1;31mTypeError\u001b[0m                                 Traceback (most recent call last)",
      "Input \u001b[1;32mIn [154]\u001b[0m, in \u001b[0;36m<cell line: 1>\u001b[1;34m()\u001b[0m\n\u001b[1;32m----> 1\u001b[0m \u001b[38;5;28;43mlen\u001b[39;49m\u001b[43m(\u001b[49m\u001b[43ma\u001b[49m\u001b[43m)\u001b[49m\n",
      "\u001b[1;31mTypeError\u001b[0m: object of type 'int' has no len()"
     ]
    }
   ],
   "source": [
    "len(a)"
   ]
  },
  {
   "cell_type": "code",
   "execution_count": 155,
   "id": "02b3006f",
   "metadata": {},
   "outputs": [
    {
     "data": {
      "text/plain": [
       "4"
      ]
     },
     "execution_count": 155,
     "metadata": {},
     "output_type": "execute_result"
    }
   ],
   "source": [
    "a"
   ]
  },
  {
   "cell_type": "code",
   "execution_count": 156,
   "id": "449956d3",
   "metadata": {},
   "outputs": [],
   "source": [
    "t='True'"
   ]
  },
  {
   "cell_type": "code",
   "execution_count": 157,
   "id": "24efd244",
   "metadata": {},
   "outputs": [
    {
     "data": {
      "text/plain": [
       "4"
      ]
     },
     "execution_count": 157,
     "metadata": {},
     "output_type": "execute_result"
    }
   ],
   "source": [
    "len(t)"
   ]
  },
  {
   "cell_type": "code",
   "execution_count": 158,
   "id": "63843ec1",
   "metadata": {},
   "outputs": [],
   "source": [
    "lst1=[]"
   ]
  },
  {
   "cell_type": "code",
   "execution_count": 159,
   "id": "a0cfd300",
   "metadata": {},
   "outputs": [
    {
     "data": {
      "text/plain": [
       "[]"
      ]
     },
     "execution_count": 159,
     "metadata": {},
     "output_type": "execute_result"
    }
   ],
   "source": [
    "lst1"
   ]
  },
  {
   "cell_type": "code",
   "execution_count": 160,
   "id": "b8c03530",
   "metadata": {},
   "outputs": [
    {
     "data": {
      "text/plain": [
       "list"
      ]
     },
     "execution_count": 160,
     "metadata": {},
     "output_type": "execute_result"
    }
   ],
   "source": [
    "type(lst1)"
   ]
  },
  {
   "cell_type": "code",
   "execution_count": 161,
   "id": "3591101d",
   "metadata": {
    "scrolled": true
   },
   "outputs": [
    {
     "data": {
      "text/plain": [
       "['__add__',\n",
       " '__class__',\n",
       " '__class_getitem__',\n",
       " '__contains__',\n",
       " '__delattr__',\n",
       " '__delitem__',\n",
       " '__dir__',\n",
       " '__doc__',\n",
       " '__eq__',\n",
       " '__format__',\n",
       " '__ge__',\n",
       " '__getattribute__',\n",
       " '__getitem__',\n",
       " '__gt__',\n",
       " '__hash__',\n",
       " '__iadd__',\n",
       " '__imul__',\n",
       " '__init__',\n",
       " '__init_subclass__',\n",
       " '__iter__',\n",
       " '__le__',\n",
       " '__len__',\n",
       " '__lt__',\n",
       " '__mul__',\n",
       " '__ne__',\n",
       " '__new__',\n",
       " '__reduce__',\n",
       " '__reduce_ex__',\n",
       " '__repr__',\n",
       " '__reversed__',\n",
       " '__rmul__',\n",
       " '__setattr__',\n",
       " '__setitem__',\n",
       " '__sizeof__',\n",
       " '__str__',\n",
       " '__subclasshook__',\n",
       " 'append',\n",
       " 'clear',\n",
       " 'copy',\n",
       " 'count',\n",
       " 'extend',\n",
       " 'index',\n",
       " 'insert',\n",
       " 'pop',\n",
       " 'remove',\n",
       " 'reverse',\n",
       " 'sort']"
      ]
     },
     "execution_count": 161,
     "metadata": {},
     "output_type": "execute_result"
    }
   ],
   "source": [
    "dir(lst1)"
   ]
  },
  {
   "cell_type": "code",
   "execution_count": 165,
   "id": "fd08092a",
   "metadata": {},
   "outputs": [],
   "source": [
    "lst2=[1, 2.0, '3']"
   ]
  },
  {
   "cell_type": "code",
   "execution_count": null,
   "id": "73a73f94",
   "metadata": {},
   "outputs": [],
   "source": []
  },
  {
   "cell_type": "code",
   "execution_count": null,
   "id": "283b8d76",
   "metadata": {},
   "outputs": [],
   "source": []
  },
  {
   "cell_type": "code",
   "execution_count": 166,
   "id": "b61f9549",
   "metadata": {},
   "outputs": [
    {
     "data": {
      "text/plain": [
       "[1, 2.0, '3']"
      ]
     },
     "execution_count": 166,
     "metadata": {},
     "output_type": "execute_result"
    }
   ],
   "source": [
    "lst2"
   ]
  },
  {
   "cell_type": "code",
   "execution_count": 167,
   "id": "056f1856",
   "metadata": {},
   "outputs": [
    {
     "data": {
      "text/plain": [
       "3"
      ]
     },
     "execution_count": 167,
     "metadata": {},
     "output_type": "execute_result"
    }
   ],
   "source": [
    "len(lst2)"
   ]
  },
  {
   "cell_type": "code",
   "execution_count": 168,
   "id": "ffc8f987",
   "metadata": {},
   "outputs": [],
   "source": [
    "lst3=[lst1, lst2]"
   ]
  },
  {
   "cell_type": "code",
   "execution_count": 169,
   "id": "a64e48aa",
   "metadata": {},
   "outputs": [
    {
     "data": {
      "text/plain": [
       "[[], [1, 2.0, '3']]"
      ]
     },
     "execution_count": 169,
     "metadata": {},
     "output_type": "execute_result"
    }
   ],
   "source": [
    "lst3"
   ]
  },
  {
   "cell_type": "code",
   "execution_count": 171,
   "id": "ec8bf0c0",
   "metadata": {},
   "outputs": [
    {
     "data": {
      "text/plain": [
       "2"
      ]
     },
     "execution_count": 171,
     "metadata": {},
     "output_type": "execute_result"
    }
   ],
   "source": [
    "len(lst3)"
   ]
  },
  {
   "cell_type": "code",
   "execution_count": 172,
   "id": "27cda9bf",
   "metadata": {},
   "outputs": [],
   "source": [
    "lst3=[1,5,2,2]"
   ]
  },
  {
   "cell_type": "code",
   "execution_count": 173,
   "id": "95c0d91b",
   "metadata": {},
   "outputs": [
    {
     "data": {
      "text/plain": [
       "[1, 5, 2, 2]"
      ]
     },
     "execution_count": 173,
     "metadata": {},
     "output_type": "execute_result"
    }
   ],
   "source": [
    "lst3"
   ]
  },
  {
   "cell_type": "code",
   "execution_count": 174,
   "id": "db4e2619",
   "metadata": {},
   "outputs": [
    {
     "data": {
      "text/plain": [
       "[1, 2.0, '3']"
      ]
     },
     "execution_count": 174,
     "metadata": {},
     "output_type": "execute_result"
    }
   ],
   "source": [
    "lst1+lst2"
   ]
  },
  {
   "cell_type": "code",
   "execution_count": 175,
   "id": "df99d580",
   "metadata": {},
   "outputs": [
    {
     "data": {
      "text/plain": [
       "[1, 2.0, '3', 1, 5, 2, 2]"
      ]
     },
     "execution_count": 175,
     "metadata": {},
     "output_type": "execute_result"
    }
   ],
   "source": [
    "lst2+lst3"
   ]
  },
  {
   "cell_type": "code",
   "execution_count": 176,
   "id": "1313319a",
   "metadata": {},
   "outputs": [
    {
     "data": {
      "text/plain": [
       "False"
      ]
     },
     "execution_count": 176,
     "metadata": {},
     "output_type": "execute_result"
    }
   ],
   "source": [
    "1 in lst1"
   ]
  },
  {
   "cell_type": "code",
   "execution_count": 177,
   "id": "d6b72f2f",
   "metadata": {},
   "outputs": [
    {
     "data": {
      "text/plain": [
       "[]"
      ]
     },
     "execution_count": 177,
     "metadata": {},
     "output_type": "execute_result"
    }
   ],
   "source": [
    "lst1"
   ]
  },
  {
   "cell_type": "code",
   "execution_count": 179,
   "id": "004449b2",
   "metadata": {},
   "outputs": [
    {
     "data": {
      "text/plain": [
       "False"
      ]
     },
     "execution_count": 179,
     "metadata": {},
     "output_type": "execute_result"
    }
   ],
   "source": [
    "1 not in lst2"
   ]
  },
  {
   "cell_type": "code",
   "execution_count": 180,
   "id": "ebc55ab6",
   "metadata": {},
   "outputs": [
    {
     "data": {
      "text/plain": [
       "True"
      ]
     },
     "execution_count": 180,
     "metadata": {},
     "output_type": "execute_result"
    }
   ],
   "source": [
    "2.0 in lst2"
   ]
  },
  {
   "cell_type": "code",
   "execution_count": 181,
   "id": "7ac0a4fe",
   "metadata": {},
   "outputs": [
    {
     "data": {
      "text/plain": [
       "False"
      ]
     },
     "execution_count": 181,
     "metadata": {},
     "output_type": "execute_result"
    }
   ],
   "source": [
    "2.0 not in lst2"
   ]
  },
  {
   "cell_type": "code",
   "execution_count": 182,
   "id": "e9e78960",
   "metadata": {},
   "outputs": [
    {
     "data": {
      "text/plain": [
       "[1, 2.0, '3', 1, 5, 2, 2]"
      ]
     },
     "execution_count": 182,
     "metadata": {},
     "output_type": "execute_result"
    }
   ],
   "source": [
    "lst2+lst3"
   ]
  },
  {
   "cell_type": "code",
   "execution_count": 183,
   "id": "6f50a686",
   "metadata": {},
   "outputs": [
    {
     "data": {
      "text/plain": [
       "7"
      ]
     },
     "execution_count": 183,
     "metadata": {},
     "output_type": "execute_result"
    }
   ],
   "source": [
    "len(lst2+lst3)"
   ]
  },
  {
   "cell_type": "code",
   "execution_count": 184,
   "id": "e1dabae9",
   "metadata": {
    "scrolled": true
   },
   "outputs": [
    {
     "data": {
      "text/plain": [
       "['__add__',\n",
       " '__class__',\n",
       " '__class_getitem__',\n",
       " '__contains__',\n",
       " '__delattr__',\n",
       " '__delitem__',\n",
       " '__dir__',\n",
       " '__doc__',\n",
       " '__eq__',\n",
       " '__format__',\n",
       " '__ge__',\n",
       " '__getattribute__',\n",
       " '__getitem__',\n",
       " '__gt__',\n",
       " '__hash__',\n",
       " '__iadd__',\n",
       " '__imul__',\n",
       " '__init__',\n",
       " '__init_subclass__',\n",
       " '__iter__',\n",
       " '__le__',\n",
       " '__len__',\n",
       " '__lt__',\n",
       " '__mul__',\n",
       " '__ne__',\n",
       " '__new__',\n",
       " '__reduce__',\n",
       " '__reduce_ex__',\n",
       " '__repr__',\n",
       " '__reversed__',\n",
       " '__rmul__',\n",
       " '__setattr__',\n",
       " '__setitem__',\n",
       " '__sizeof__',\n",
       " '__str__',\n",
       " '__subclasshook__',\n",
       " 'append',\n",
       " 'clear',\n",
       " 'copy',\n",
       " 'count',\n",
       " 'extend',\n",
       " 'index',\n",
       " 'insert',\n",
       " 'pop',\n",
       " 'remove',\n",
       " 'reverse',\n",
       " 'sort']"
      ]
     },
     "execution_count": 184,
     "metadata": {},
     "output_type": "execute_result"
    }
   ],
   "source": [
    "dir(lst2)"
   ]
  },
  {
   "cell_type": "code",
   "execution_count": 185,
   "id": "9d6a49fb",
   "metadata": {},
   "outputs": [],
   "source": [
    "import numpy as mp"
   ]
  },
  {
   "cell_type": "code",
   "execution_count": 186,
   "id": "86feacce",
   "metadata": {},
   "outputs": [],
   "source": [
    "A=[1,2,3];B=[4,5,6]"
   ]
  },
  {
   "cell_type": "code",
   "execution_count": 187,
   "id": "a9434386",
   "metadata": {},
   "outputs": [
    {
     "data": {
      "text/plain": [
       "[1, 2, 3]"
      ]
     },
     "execution_count": 187,
     "metadata": {},
     "output_type": "execute_result"
    }
   ],
   "source": [
    "A"
   ]
  },
  {
   "cell_type": "code",
   "execution_count": 188,
   "id": "3e8e30df",
   "metadata": {},
   "outputs": [
    {
     "data": {
      "text/plain": [
       "[4, 5, 6]"
      ]
     },
     "execution_count": 188,
     "metadata": {},
     "output_type": "execute_result"
    }
   ],
   "source": [
    "B"
   ]
  },
  {
   "cell_type": "code",
   "execution_count": 191,
   "id": "e8e9490f",
   "metadata": {},
   "outputs": [
    {
     "data": {
      "text/plain": [
       "[5, 7, 9]"
      ]
     },
     "execution_count": 191,
     "metadata": {},
     "output_type": "execute_result"
    }
   ],
   "source": [
    "[a+b for a,b in zip(A,B)]"
   ]
  },
  {
   "cell_type": "code",
   "execution_count": 216,
   "id": "27f747da",
   "metadata": {},
   "outputs": [],
   "source": [
    "lst1=[1,2,'3','4',['가','나','다']]"
   ]
  },
  {
   "cell_type": "code",
   "execution_count": null,
   "id": "15ea1213",
   "metadata": {},
   "outputs": [],
   "source": []
  },
  {
   "cell_type": "code",
   "execution_count": null,
   "id": "f7fc7042",
   "metadata": {},
   "outputs": [],
   "source": []
  },
  {
   "cell_type": "code",
   "execution_count": 193,
   "id": "c794b860",
   "metadata": {},
   "outputs": [
    {
     "data": {
      "text/plain": [
       "[1, 2, '3', '4', [1, 2, 3, 4]]"
      ]
     },
     "execution_count": 193,
     "metadata": {},
     "output_type": "execute_result"
    }
   ],
   "source": [
    "lst1"
   ]
  },
  {
   "cell_type": "code",
   "execution_count": 194,
   "id": "e22e957f",
   "metadata": {},
   "outputs": [
    {
     "data": {
      "text/plain": [
       "1"
      ]
     },
     "execution_count": 194,
     "metadata": {},
     "output_type": "execute_result"
    }
   ],
   "source": [
    "lst1[0]"
   ]
  },
  {
   "cell_type": "code",
   "execution_count": 196,
   "id": "0721ca0d",
   "metadata": {},
   "outputs": [
    {
     "data": {
      "text/plain": [
       "3"
      ]
     },
     "execution_count": 196,
     "metadata": {},
     "output_type": "execute_result"
    }
   ],
   "source": [
    "lst1[0]+lst1[1]"
   ]
  },
  {
   "cell_type": "code",
   "execution_count": 197,
   "id": "f428c16f",
   "metadata": {},
   "outputs": [
    {
     "data": {
      "text/plain": [
       "'34'"
      ]
     },
     "execution_count": 197,
     "metadata": {},
     "output_type": "execute_result"
    }
   ],
   "source": [
    "lst1[2]+lst1[3]"
   ]
  },
  {
   "cell_type": "code",
   "execution_count": 199,
   "id": "5db8d500",
   "metadata": {},
   "outputs": [
    {
     "data": {
      "text/plain": [
       "5"
      ]
     },
     "execution_count": 199,
     "metadata": {},
     "output_type": "execute_result"
    }
   ],
   "source": [
    "lst1[0]+int(lst1[3])"
   ]
  },
  {
   "cell_type": "code",
   "execution_count": 205,
   "id": "74733bfb",
   "metadata": {},
   "outputs": [
    {
     "data": {
      "text/plain": [
       "'가'"
      ]
     },
     "execution_count": 205,
     "metadata": {},
     "output_type": "execute_result"
    }
   ],
   "source": [
    "lst1[4][0]"
   ]
  },
  {
   "cell_type": "code",
   "execution_count": 206,
   "id": "b0369a8d",
   "metadata": {},
   "outputs": [
    {
     "data": {
      "text/plain": [
       "[1, 2, '3']"
      ]
     },
     "execution_count": 206,
     "metadata": {},
     "output_type": "execute_result"
    }
   ],
   "source": [
    "lst1[:3]"
   ]
  },
  {
   "cell_type": "code",
   "execution_count": 207,
   "id": "c2f34c6d",
   "metadata": {},
   "outputs": [
    {
     "data": {
      "text/plain": [
       "list"
      ]
     },
     "execution_count": 207,
     "metadata": {},
     "output_type": "execute_result"
    }
   ],
   "source": [
    "type(lst1[:3])"
   ]
  },
  {
   "cell_type": "code",
   "execution_count": 209,
   "id": "e4ec255c",
   "metadata": {},
   "outputs": [
    {
     "data": {
      "text/plain": [
       "[['가', 2, 3, 4]]"
      ]
     },
     "execution_count": 209,
     "metadata": {},
     "output_type": "execute_result"
    }
   ],
   "source": [
    "lst1[4:]"
   ]
  },
  {
   "cell_type": "code",
   "execution_count": 210,
   "id": "e69f4373",
   "metadata": {},
   "outputs": [
    {
     "data": {
      "text/plain": [
       "['가', 2, 3, 4]"
      ]
     },
     "execution_count": 210,
     "metadata": {},
     "output_type": "execute_result"
    }
   ],
   "source": [
    "lst1[4:][0]"
   ]
  },
  {
   "cell_type": "code",
   "execution_count": 215,
   "id": "3644e412",
   "metadata": {},
   "outputs": [
    {
     "data": {
      "text/plain": [
       "['가', 2, 3, 4]"
      ]
     },
     "execution_count": 215,
     "metadata": {},
     "output_type": "execute_result"
    }
   ],
   "source": [
    "lst1[4:][0]"
   ]
  },
  {
   "cell_type": "code",
   "execution_count": 217,
   "id": "8273bba8",
   "metadata": {},
   "outputs": [
    {
     "data": {
      "text/plain": [
       "['가', '나', '다']"
      ]
     },
     "execution_count": 217,
     "metadata": {},
     "output_type": "execute_result"
    }
   ],
   "source": [
    "lst1[4]"
   ]
  },
  {
   "cell_type": "code",
   "execution_count": 221,
   "id": "3d789307",
   "metadata": {},
   "outputs": [
    {
     "data": {
      "text/plain": [
       "['가', '나', '다']"
      ]
     },
     "execution_count": 221,
     "metadata": {},
     "output_type": "execute_result"
    }
   ],
   "source": [
    "lst1[4]"
   ]
  },
  {
   "cell_type": "code",
   "execution_count": 223,
   "id": "08f9b0bc",
   "metadata": {},
   "outputs": [
    {
     "ename": "AttributeError",
     "evalue": "'list' object has no attribute 'split'",
     "output_type": "error",
     "traceback": [
      "\u001b[1;31m---------------------------------------------------------------------------\u001b[0m",
      "\u001b[1;31mAttributeError\u001b[0m                            Traceback (most recent call last)",
      "Input \u001b[1;32mIn [223]\u001b[0m, in \u001b[0;36m<cell line: 1>\u001b[1;34m()\u001b[0m\n\u001b[1;32m----> 1\u001b[0m \u001b[43mlst1\u001b[49m\u001b[38;5;241;43m.\u001b[39;49m\u001b[43msplit\u001b[49m(\u001b[38;5;124m'\u001b[39m\u001b[38;5;124m,\u001b[39m\u001b[38;5;124m'\u001b[39m)\n",
      "\u001b[1;31mAttributeError\u001b[0m: 'list' object has no attribute 'split'"
     ]
    }
   ],
   "source": [
    "lst1.split(',')"
   ]
  },
  {
   "cell_type": "code",
   "execution_count": 224,
   "id": "30d710da",
   "metadata": {},
   "outputs": [
    {
     "ename": "NameError",
     "evalue": "name 'lat1' is not defined",
     "output_type": "error",
     "traceback": [
      "\u001b[1;31m---------------------------------------------------------------------------\u001b[0m",
      "\u001b[1;31mNameError\u001b[0m                                 Traceback (most recent call last)",
      "Input \u001b[1;32mIn [224]\u001b[0m, in \u001b[0;36m<cell line: 1>\u001b[1;34m()\u001b[0m\n\u001b[1;32m----> 1\u001b[0m \u001b[43mlat1\u001b[49m\n",
      "\u001b[1;31mNameError\u001b[0m: name 'lat1' is not defined"
     ]
    }
   ],
   "source": [
    "lat1"
   ]
  },
  {
   "cell_type": "code",
   "execution_count": 225,
   "id": "c7551e1c",
   "metadata": {},
   "outputs": [
    {
     "data": {
      "text/plain": [
       "[1, 2, '3', '4', ['가', '나', '다']]"
      ]
     },
     "execution_count": 225,
     "metadata": {},
     "output_type": "execute_result"
    }
   ],
   "source": [
    "lst1"
   ]
  },
  {
   "cell_type": "code",
   "execution_count": 227,
   "id": "405d6c01",
   "metadata": {},
   "outputs": [
    {
     "ename": "AttributeError",
     "evalue": "'list' object has no attribute 'split'",
     "output_type": "error",
     "traceback": [
      "\u001b[1;31m---------------------------------------------------------------------------\u001b[0m",
      "\u001b[1;31mAttributeError\u001b[0m                            Traceback (most recent call last)",
      "Input \u001b[1;32mIn [227]\u001b[0m, in \u001b[0;36m<cell line: 1>\u001b[1;34m()\u001b[0m\n\u001b[1;32m----> 1\u001b[0m \u001b[43mlst1\u001b[49m\u001b[38;5;241;43m.\u001b[39;49m\u001b[43msplit\u001b[49m[\u001b[38;5;124m'\u001b[39m\u001b[38;5;124m,\u001b[39m\u001b[38;5;124m'\u001b[39m]\n",
      "\u001b[1;31mAttributeError\u001b[0m: 'list' object has no attribute 'split'"
     ]
    }
   ],
   "source": [
    "lst1.split(',')"
   ]
  },
  {
   "cell_type": "code",
   "execution_count": 268,
   "id": "bbe77fde",
   "metadata": {},
   "outputs": [
    {
     "data": {
      "text/plain": [
       "'가나다'"
      ]
     },
     "execution_count": 268,
     "metadata": {},
     "output_type": "execute_result"
    }
   ],
   "source": [
    "lst1[4][0]+lst1[4][1]+lst1[4][2]"
   ]
  },
  {
   "cell_type": "code",
   "execution_count": 269,
   "id": "f15802a1",
   "metadata": {},
   "outputs": [
    {
     "data": {
      "text/plain": [
       "'가나다'"
      ]
     },
     "execution_count": 269,
     "metadata": {},
     "output_type": "execute_result"
    }
   ],
   "source": [
    "''.join(lst1[4])"
   ]
  },
  {
   "cell_type": "code",
   "execution_count": 270,
   "id": "0d97d28c",
   "metadata": {},
   "outputs": [
    {
     "ename": "SyntaxError",
     "evalue": "invalid syntax (1397894068.py, line 1)",
     "output_type": "error",
     "traceback": [
      "\u001b[1;36m  Input \u001b[1;32mIn [270]\u001b[1;36m\u001b[0m\n\u001b[1;33m    lst1[]\u001b[0m\n\u001b[1;37m         ^\u001b[0m\n\u001b[1;31mSyntaxError\u001b[0m\u001b[1;31m:\u001b[0m invalid syntax\n"
     ]
    }
   ],
   "source": [
    "lst1[]"
   ]
  },
  {
   "cell_type": "code",
   "execution_count": 271,
   "id": "766daf44",
   "metadata": {},
   "outputs": [
    {
     "data": {
      "text/plain": [
       "[1, 2, '3', '4', ['가', '나', '다']]"
      ]
     },
     "execution_count": 271,
     "metadata": {},
     "output_type": "execute_result"
    }
   ],
   "source": [
    "lst1[:]"
   ]
  },
  {
   "cell_type": "code",
   "execution_count": 272,
   "id": "de7206a0",
   "metadata": {},
   "outputs": [
    {
     "data": {
      "text/plain": [
       "1"
      ]
     },
     "execution_count": 272,
     "metadata": {},
     "output_type": "execute_result"
    }
   ],
   "source": [
    "lst1[0]"
   ]
  },
  {
   "cell_type": "code",
   "execution_count": 273,
   "id": "29bc1570",
   "metadata": {},
   "outputs": [
    {
     "data": {
      "text/plain": [
       "[1]"
      ]
     },
     "execution_count": 273,
     "metadata": {},
     "output_type": "execute_result"
    }
   ],
   "source": [
    "lst1[0:1]"
   ]
  },
  {
   "cell_type": "code",
   "execution_count": 274,
   "id": "36efe882",
   "metadata": {},
   "outputs": [
    {
     "ename": "NameError",
     "evalue": "name 'lst' is not defined",
     "output_type": "error",
     "traceback": [
      "\u001b[1;31m---------------------------------------------------------------------------\u001b[0m",
      "\u001b[1;31mNameError\u001b[0m                                 Traceback (most recent call last)",
      "Input \u001b[1;32mIn [274]\u001b[0m, in \u001b[0;36m<cell line: 1>\u001b[1;34m()\u001b[0m\n\u001b[1;32m----> 1\u001b[0m \u001b[43mlst\u001b[49m[[\u001b[38;5;241m0\u001b[39m,\u001b[38;5;241m2\u001b[39m]]\n",
      "\u001b[1;31mNameError\u001b[0m: name 'lst' is not defined"
     ]
    }
   ],
   "source": [
    "lst[[0,2]]"
   ]
  },
  {
   "cell_type": "code",
   "execution_count": 275,
   "id": "a5c14112",
   "metadata": {},
   "outputs": [
    {
     "data": {
      "text/plain": [
       "[1, '3']"
      ]
     },
     "execution_count": 275,
     "metadata": {},
     "output_type": "execute_result"
    }
   ],
   "source": [
    "[lst1[0], lst1[2]]"
   ]
  },
  {
   "cell_type": "code",
   "execution_count": 277,
   "id": "2b96fa2e",
   "metadata": {},
   "outputs": [
    {
     "data": {
      "text/plain": [
       "'가나다'"
      ]
     },
     "execution_count": 277,
     "metadata": {},
     "output_type": "execute_result"
    }
   ],
   "source": [
    "''.join(lst1[4])"
   ]
  },
  {
   "cell_type": "code",
   "execution_count": null,
   "id": "05faff4d",
   "metadata": {},
   "outputs": [],
   "source": []
  },
  {
   "cell_type": "code",
   "execution_count": 278,
   "id": "ad4336d1",
   "metadata": {},
   "outputs": [],
   "source": [
    "lst5=range(6)"
   ]
  },
  {
   "cell_type": "code",
   "execution_count": 279,
   "id": "3670bb87",
   "metadata": {},
   "outputs": [
    {
     "data": {
      "text/plain": [
       "range(0, 6)"
      ]
     },
     "execution_count": 279,
     "metadata": {},
     "output_type": "execute_result"
    }
   ],
   "source": [
    "lst5"
   ]
  },
  {
   "cell_type": "code",
   "execution_count": 280,
   "id": "926dae26",
   "metadata": {},
   "outputs": [
    {
     "data": {
      "text/plain": [
       "range"
      ]
     },
     "execution_count": 280,
     "metadata": {},
     "output_type": "execute_result"
    }
   ],
   "source": [
    "type(lst5)"
   ]
  },
  {
   "cell_type": "code",
   "execution_count": 284,
   "id": "183804c7",
   "metadata": {},
   "outputs": [],
   "source": [
    "lst5=list(range(6))"
   ]
  },
  {
   "cell_type": "code",
   "execution_count": 285,
   "id": "a52f0baa",
   "metadata": {},
   "outputs": [
    {
     "data": {
      "text/plain": [
       "[0, 1, 2, 3, 4, 5]"
      ]
     },
     "execution_count": 285,
     "metadata": {},
     "output_type": "execute_result"
    }
   ],
   "source": [
    "lst5"
   ]
  },
  {
   "cell_type": "code",
   "execution_count": 286,
   "id": "2ffeddb5",
   "metadata": {},
   "outputs": [],
   "source": [
    "lst5=list(range(1,5,2))"
   ]
  },
  {
   "cell_type": "code",
   "execution_count": 287,
   "id": "f2f16bba",
   "metadata": {},
   "outputs": [
    {
     "data": {
      "text/plain": [
       "[1, 3]"
      ]
     },
     "execution_count": 287,
     "metadata": {},
     "output_type": "execute_result"
    }
   ],
   "source": [
    "lst5"
   ]
  },
  {
   "cell_type": "code",
   "execution_count": 292,
   "id": "9b9d998e",
   "metadata": {},
   "outputs": [],
   "source": [
    "lst5=list(range(2,11,2))"
   ]
  },
  {
   "cell_type": "code",
   "execution_count": 293,
   "id": "2843f515",
   "metadata": {},
   "outputs": [
    {
     "data": {
      "text/plain": [
       "[2, 4, 6, 8, 10]"
      ]
     },
     "execution_count": 293,
     "metadata": {},
     "output_type": "execute_result"
    }
   ],
   "source": [
    "lst5"
   ]
  },
  {
   "cell_type": "code",
   "execution_count": null,
   "id": "39467b09",
   "metadata": {},
   "outputs": [],
   "source": []
  },
  {
   "cell_type": "code",
   "execution_count": 291,
   "id": "8fb139ab",
   "metadata": {},
   "outputs": [
    {
     "data": {
      "text/plain": [
       "[1, 3, 5, 7, 9]"
      ]
     },
     "execution_count": 291,
     "metadata": {},
     "output_type": "execute_result"
    }
   ],
   "source": [
    "lst5"
   ]
  },
  {
   "cell_type": "code",
   "execution_count": null,
   "id": "20fe987b",
   "metadata": {},
   "outputs": [],
   "source": []
  },
  {
   "cell_type": "code",
   "execution_count": 289,
   "id": "370b04df",
   "metadata": {},
   "outputs": [
    {
     "data": {
      "text/plain": [
       "[0, 2, 4, 6, 8, 10]"
      ]
     },
     "execution_count": 289,
     "metadata": {},
     "output_type": "execute_result"
    }
   ],
   "source": [
    "lst5"
   ]
  },
  {
   "cell_type": "code",
   "execution_count": null,
   "id": "e914897b",
   "metadata": {},
   "outputs": [],
   "source": []
  },
  {
   "cell_type": "code",
   "execution_count": null,
   "id": "dd093423",
   "metadata": {},
   "outputs": [],
   "source": []
  },
  {
   "cell_type": "code",
   "execution_count": 282,
   "id": "9eebaf2e",
   "metadata": {},
   "outputs": [
    {
     "data": {
      "text/plain": [
       "list[range(0, 6)]"
      ]
     },
     "execution_count": 282,
     "metadata": {},
     "output_type": "execute_result"
    }
   ],
   "source": [
    "lst5"
   ]
  },
  {
   "cell_type": "code",
   "execution_count": 294,
   "id": "0df56eba",
   "metadata": {},
   "outputs": [
    {
     "data": {
      "text/plain": [
       "[2, 4, 6, 8, 10]"
      ]
     },
     "execution_count": 294,
     "metadata": {},
     "output_type": "execute_result"
    }
   ],
   "source": [
    "lst5"
   ]
  },
  {
   "cell_type": "code",
   "execution_count": 295,
   "id": "fc77e698",
   "metadata": {},
   "outputs": [
    {
     "data": {
      "text/plain": [
       "[10, 8, 6, 4, 2]"
      ]
     },
     "execution_count": 295,
     "metadata": {},
     "output_type": "execute_result"
    }
   ],
   "source": [
    "lst5[::-1]"
   ]
  },
  {
   "cell_type": "code",
   "execution_count": 296,
   "id": "d45d1348",
   "metadata": {},
   "outputs": [
    {
     "ename": "SyntaxError",
     "evalue": "invalid syntax (2017453667.py, line 1)",
     "output_type": "error",
     "traceback": [
      "\u001b[1;36m  Input \u001b[1;32mIn [296]\u001b[1;36m\u001b[0m\n\u001b[1;33m    lst5=list(range(0:6))\u001b[0m\n\u001b[1;37m                     ^\u001b[0m\n\u001b[1;31mSyntaxError\u001b[0m\u001b[1;31m:\u001b[0m invalid syntax\n"
     ]
    }
   ],
   "source": [
    "lst5=list(range(0:6))"
   ]
  },
  {
   "cell_type": "code",
   "execution_count": 300,
   "id": "026d080e",
   "metadata": {},
   "outputs": [],
   "source": [
    "lst2=['가','나','다']"
   ]
  },
  {
   "cell_type": "code",
   "execution_count": null,
   "id": "295604fe",
   "metadata": {},
   "outputs": [],
   "source": []
  },
  {
   "cell_type": "code",
   "execution_count": 301,
   "id": "f2cc34ad",
   "metadata": {},
   "outputs": [
    {
     "data": {
      "text/plain": [
       "'가'"
      ]
     },
     "execution_count": 301,
     "metadata": {},
     "output_type": "execute_result"
    }
   ],
   "source": [
    "''.join(lst2[0])"
   ]
  },
  {
   "cell_type": "code",
   "execution_count": 302,
   "id": "3f0a1c11",
   "metadata": {},
   "outputs": [],
   "source": [
    "lst2=[1,2,'3','4',['가','나','다']]"
   ]
  },
  {
   "cell_type": "code",
   "execution_count": 303,
   "id": "0e6f3feb",
   "metadata": {},
   "outputs": [
    {
     "ename": "NameError",
     "evalue": "name 'ᅵᄂᄉ2' is not defined",
     "output_type": "error",
     "traceback": [
      "\u001b[1;31m---------------------------------------------------------------------------\u001b[0m",
      "\u001b[1;31mNameError\u001b[0m                                 Traceback (most recent call last)",
      "Input \u001b[1;32mIn [303]\u001b[0m, in \u001b[0;36m<cell line: 1>\u001b[1;34m()\u001b[0m\n\u001b[1;32m----> 1\u001b[0m \u001b[43mㅣㄴㅅ2\u001b[49m\n",
      "\u001b[1;31mNameError\u001b[0m: name 'ᅵᄂᄉ2' is not defined"
     ]
    }
   ],
   "source": [
    "ㅣㄴㅅ2"
   ]
  },
  {
   "cell_type": "code",
   "execution_count": 304,
   "id": "f4a9bd5a",
   "metadata": {},
   "outputs": [
    {
     "data": {
      "text/plain": [
       "[1, 2, '3', '4', ['가', '나', '다']]"
      ]
     },
     "execution_count": 304,
     "metadata": {},
     "output_type": "execute_result"
    }
   ],
   "source": [
    "lst2"
   ]
  },
  {
   "cell_type": "code",
   "execution_count": 306,
   "id": "69398835",
   "metadata": {},
   "outputs": [
    {
     "data": {
      "text/plain": [
       "'다나가'"
      ]
     },
     "execution_count": 306,
     "metadata": {},
     "output_type": "execute_result"
    }
   ],
   "source": [
    "''.join(lst2[4][::-1])"
   ]
  },
  {
   "cell_type": "code",
   "execution_count": 307,
   "id": "ce25ff76",
   "metadata": {},
   "outputs": [],
   "source": [
    "lst5=[0,1,2,3,4,5]"
   ]
  },
  {
   "cell_type": "code",
   "execution_count": 309,
   "id": "dc93cd0b",
   "metadata": {},
   "outputs": [],
   "source": [
    "lst5.append(5)"
   ]
  },
  {
   "cell_type": "code",
   "execution_count": 310,
   "id": "879249c6",
   "metadata": {},
   "outputs": [
    {
     "ename": "NameError",
     "evalue": "name 'last5' is not defined",
     "output_type": "error",
     "traceback": [
      "\u001b[1;31m---------------------------------------------------------------------------\u001b[0m",
      "\u001b[1;31mNameError\u001b[0m                                 Traceback (most recent call last)",
      "Input \u001b[1;32mIn [310]\u001b[0m, in \u001b[0;36m<cell line: 1>\u001b[1;34m()\u001b[0m\n\u001b[1;32m----> 1\u001b[0m \u001b[43mlast5\u001b[49m\n",
      "\u001b[1;31mNameError\u001b[0m: name 'last5' is not defined"
     ]
    }
   ],
   "source": [
    "last5"
   ]
  },
  {
   "cell_type": "code",
   "execution_count": 311,
   "id": "cbb20009",
   "metadata": {},
   "outputs": [
    {
     "data": {
      "text/plain": [
       "[0, 1, 2, 3, 4, 5, 5]"
      ]
     },
     "execution_count": 311,
     "metadata": {},
     "output_type": "execute_result"
    }
   ],
   "source": [
    "lst5"
   ]
  },
  {
   "cell_type": "code",
   "execution_count": 312,
   "id": "6697a866",
   "metadata": {},
   "outputs": [],
   "source": [
    "lst5.extend([10,11])"
   ]
  },
  {
   "cell_type": "code",
   "execution_count": 313,
   "id": "5d27bca3",
   "metadata": {},
   "outputs": [
    {
     "data": {
      "text/plain": [
       "[0, 1, 2, 3, 4, 5, 5, 10, 11]"
      ]
     },
     "execution_count": 313,
     "metadata": {},
     "output_type": "execute_result"
    }
   ],
   "source": [
    "lst5"
   ]
  },
  {
   "cell_type": "code",
   "execution_count": 314,
   "id": "0c84aab7",
   "metadata": {},
   "outputs": [],
   "source": [
    "lst5.insert(1,[6,6])"
   ]
  },
  {
   "cell_type": "code",
   "execution_count": 315,
   "id": "9165bfeb",
   "metadata": {},
   "outputs": [
    {
     "data": {
      "text/plain": [
       "[0, [6, 6], 1, 2, 3, 4, 5, 5, 10, 11]"
      ]
     },
     "execution_count": 315,
     "metadata": {},
     "output_type": "execute_result"
    }
   ],
   "source": [
    "lst5"
   ]
  },
  {
   "cell_type": "code",
   "execution_count": 317,
   "id": "4f1f44d1",
   "metadata": {},
   "outputs": [],
   "source": [
    "lst5.append([5,4])"
   ]
  },
  {
   "cell_type": "code",
   "execution_count": 318,
   "id": "53e983e6",
   "metadata": {},
   "outputs": [
    {
     "data": {
      "text/plain": [
       "[0, [6, 6], 1, 2, 3, 4, 5, 5, 10, 11, [5, 4]]"
      ]
     },
     "execution_count": 318,
     "metadata": {},
     "output_type": "execute_result"
    }
   ],
   "source": [
    "lst5"
   ]
  },
  {
   "cell_type": "code",
   "execution_count": 319,
   "id": "6093a144",
   "metadata": {},
   "outputs": [],
   "source": [
    "lst5.insert(10,[1,1])"
   ]
  },
  {
   "cell_type": "code",
   "execution_count": 320,
   "id": "e3274252",
   "metadata": {},
   "outputs": [
    {
     "data": {
      "text/plain": [
       "[0, [6, 6], 1, 2, 3, 4, 5, 5, 10, 11, [1, 1], [5, 4]]"
      ]
     },
     "execution_count": 320,
     "metadata": {},
     "output_type": "execute_result"
    }
   ],
   "source": [
    "lst5"
   ]
  },
  {
   "cell_type": "code",
   "execution_count": 321,
   "id": "84194059",
   "metadata": {},
   "outputs": [],
   "source": [
    "lst5.remove([5,4])"
   ]
  },
  {
   "cell_type": "code",
   "execution_count": 322,
   "id": "1a31e697",
   "metadata": {},
   "outputs": [
    {
     "data": {
      "text/plain": [
       "[0, [6, 6], 1, 2, 3, 4, 5, 5, 10, 11, [1, 1]]"
      ]
     },
     "execution_count": 322,
     "metadata": {},
     "output_type": "execute_result"
    }
   ],
   "source": [
    "lst5"
   ]
  },
  {
   "cell_type": "code",
   "execution_count": 323,
   "id": "b37dd840",
   "metadata": {},
   "outputs": [
    {
     "ename": "ValueError",
     "evalue": "list.remove(x): x not in list",
     "output_type": "error",
     "traceback": [
      "\u001b[1;31m---------------------------------------------------------------------------\u001b[0m",
      "\u001b[1;31mValueError\u001b[0m                                Traceback (most recent call last)",
      "Input \u001b[1;32mIn [323]\u001b[0m, in \u001b[0;36m<cell line: 1>\u001b[1;34m()\u001b[0m\n\u001b[1;32m----> 1\u001b[0m \u001b[43mlst5\u001b[49m\u001b[38;5;241;43m.\u001b[39;49m\u001b[43mremove\u001b[49m\u001b[43m(\u001b[49m\u001b[43m[\u001b[49m\u001b[38;5;241;43m5\u001b[39;49m\u001b[43m,\u001b[49m\u001b[38;5;241;43m4\u001b[39;49m\u001b[43m]\u001b[49m\u001b[43m)\u001b[49m\n",
      "\u001b[1;31mValueError\u001b[0m: list.remove(x): x not in list"
     ]
    }
   ],
   "source": [
    "lst5.remove([5,4])"
   ]
  },
  {
   "cell_type": "code",
   "execution_count": 324,
   "id": "9bd2203c",
   "metadata": {},
   "outputs": [],
   "source": [
    "lst5.remove(1)"
   ]
  },
  {
   "cell_type": "code",
   "execution_count": 325,
   "id": "495cbaf1",
   "metadata": {},
   "outputs": [
    {
     "data": {
      "text/plain": [
       "[0, [6, 6], 2, 3, 4, 5, 5, 10, 11, [1, 1]]"
      ]
     },
     "execution_count": 325,
     "metadata": {},
     "output_type": "execute_result"
    }
   ],
   "source": [
    "lst5"
   ]
  },
  {
   "cell_type": "code",
   "execution_count": 326,
   "id": "3a81e1d5",
   "metadata": {},
   "outputs": [
    {
     "data": {
      "text/plain": [
       "5"
      ]
     },
     "execution_count": 326,
     "metadata": {},
     "output_type": "execute_result"
    }
   ],
   "source": [
    "lst5.pop(5)"
   ]
  },
  {
   "cell_type": "code",
   "execution_count": 327,
   "id": "ba0b5125",
   "metadata": {},
   "outputs": [
    {
     "ename": "NameError",
     "evalue": "name 'lst' is not defined",
     "output_type": "error",
     "traceback": [
      "\u001b[1;31m---------------------------------------------------------------------------\u001b[0m",
      "\u001b[1;31mNameError\u001b[0m                                 Traceback (most recent call last)",
      "Input \u001b[1;32mIn [327]\u001b[0m, in \u001b[0;36m<cell line: 1>\u001b[1;34m()\u001b[0m\n\u001b[1;32m----> 1\u001b[0m \u001b[43mlst\u001b[49m\n",
      "\u001b[1;31mNameError\u001b[0m: name 'lst' is not defined"
     ]
    }
   ],
   "source": [
    "lst"
   ]
  },
  {
   "cell_type": "code",
   "execution_count": 328,
   "id": "2cb8d2bd",
   "metadata": {},
   "outputs": [
    {
     "data": {
      "text/plain": [
       "[0, [6, 6], 2, 3, 4, 5, 10, 11, [1, 1]]"
      ]
     },
     "execution_count": 328,
     "metadata": {},
     "output_type": "execute_result"
    }
   ],
   "source": [
    "lst5"
   ]
  },
  {
   "cell_type": "code",
   "execution_count": 329,
   "id": "b724abb3",
   "metadata": {},
   "outputs": [
    {
     "data": {
      "text/plain": [
       "[6, 6]"
      ]
     },
     "execution_count": 329,
     "metadata": {},
     "output_type": "execute_result"
    }
   ],
   "source": [
    "lst5.pop(1)"
   ]
  },
  {
   "cell_type": "code",
   "execution_count": 330,
   "id": "575d84f6",
   "metadata": {},
   "outputs": [
    {
     "data": {
      "text/plain": [
       "[0, 2, 3, 4, 5, 10, 11, [1, 1]]"
      ]
     },
     "execution_count": 330,
     "metadata": {},
     "output_type": "execute_result"
    }
   ],
   "source": [
    "lst5"
   ]
  },
  {
   "cell_type": "code",
   "execution_count": 331,
   "id": "64486e09",
   "metadata": {},
   "outputs": [
    {
     "data": {
      "text/plain": [
       "[0, 2, 3, 4, 5, 10, 11, [1, 1]]"
      ]
     },
     "execution_count": 331,
     "metadata": {},
     "output_type": "execute_result"
    }
   ],
   "source": [
    "lst5"
   ]
  },
  {
   "cell_type": "code",
   "execution_count": 333,
   "id": "d49f5ee5",
   "metadata": {},
   "outputs": [],
   "source": [
    "lst5[1]=6"
   ]
  },
  {
   "cell_type": "code",
   "execution_count": 335,
   "id": "32d428f7",
   "metadata": {},
   "outputs": [],
   "source": [
    "lst5[1]=[1,1,1]"
   ]
  },
  {
   "cell_type": "code",
   "execution_count": 336,
   "id": "d2ed5438",
   "metadata": {},
   "outputs": [
    {
     "data": {
      "text/plain": [
       "[0, [1, 1, 1], 3, 4, 5, 10, 11, [1, 1]]"
      ]
     },
     "execution_count": 336,
     "metadata": {},
     "output_type": "execute_result"
    }
   ],
   "source": [
    "lst5"
   ]
  },
  {
   "cell_type": "code",
   "execution_count": 337,
   "id": "0ff5e2ee",
   "metadata": {},
   "outputs": [],
   "source": [
    "lst5[3:4]=[5,6,7]"
   ]
  },
  {
   "cell_type": "code",
   "execution_count": 338,
   "id": "9062f0f0",
   "metadata": {},
   "outputs": [
    {
     "data": {
      "text/plain": [
       "[0, [1, 1, 1], 3, 5, 6, 7, 5, 10, 11, [1, 1]]"
      ]
     },
     "execution_count": 338,
     "metadata": {},
     "output_type": "execute_result"
    }
   ],
   "source": [
    "lst5"
   ]
  },
  {
   "cell_type": "code",
   "execution_count": 339,
   "id": "a388da77",
   "metadata": {},
   "outputs": [
    {
     "ename": "TypeError",
     "evalue": "can only assign an iterable",
     "output_type": "error",
     "traceback": [
      "\u001b[1;31m---------------------------------------------------------------------------\u001b[0m",
      "\u001b[1;31mTypeError\u001b[0m                                 Traceback (most recent call last)",
      "Input \u001b[1;32mIn [339]\u001b[0m, in \u001b[0;36m<cell line: 1>\u001b[1;34m()\u001b[0m\n\u001b[1;32m----> 1\u001b[0m \u001b[43mlst5\u001b[49m\u001b[43m[\u001b[49m\u001b[38;5;241;43m3\u001b[39;49m\u001b[43m:\u001b[49m\u001b[38;5;241;43m4\u001b[39;49m\u001b[43m]\u001b[49m\u001b[38;5;241m=\u001b[39m\u001b[38;5;241m1\u001b[39m\n",
      "\u001b[1;31mTypeError\u001b[0m: can only assign an iterable"
     ]
    }
   ],
   "source": [
    "lst5[3:4]=1"
   ]
  },
  {
   "cell_type": "code",
   "execution_count": 343,
   "id": "946179b9",
   "metadata": {},
   "outputs": [],
   "source": [
    "lst5.remove([1,1,1])"
   ]
  },
  {
   "cell_type": "code",
   "execution_count": 344,
   "id": "27b3da2c",
   "metadata": {},
   "outputs": [
    {
     "data": {
      "text/plain": [
       "[0, 3, 5, 6, 7, 5, 10, 11, [1, 1]]"
      ]
     },
     "execution_count": 344,
     "metadata": {},
     "output_type": "execute_result"
    }
   ],
   "source": [
    "lst5"
   ]
  },
  {
   "cell_type": "code",
   "execution_count": 345,
   "id": "42ca096a",
   "metadata": {},
   "outputs": [
    {
     "data": {
      "text/plain": [
       "[0, 3, 5, 6, 7, 5, 10, 11, [1, 1]]"
      ]
     },
     "execution_count": 345,
     "metadata": {},
     "output_type": "execute_result"
    }
   ],
   "source": [
    "lst5"
   ]
  },
  {
   "cell_type": "code",
   "execution_count": 346,
   "id": "6acda9eb",
   "metadata": {},
   "outputs": [],
   "source": [
    "lst5.remove([1,1])"
   ]
  },
  {
   "cell_type": "code",
   "execution_count": 347,
   "id": "ce61e002",
   "metadata": {},
   "outputs": [
    {
     "data": {
      "text/plain": [
       "[0, 3, 5, 6, 7, 5, 10, 11]"
      ]
     },
     "execution_count": 347,
     "metadata": {},
     "output_type": "execute_result"
    }
   ],
   "source": [
    "lst5"
   ]
  },
  {
   "cell_type": "code",
   "execution_count": 348,
   "id": "efae7473",
   "metadata": {},
   "outputs": [],
   "source": [
    "lst5.sort()"
   ]
  },
  {
   "cell_type": "code",
   "execution_count": 349,
   "id": "1d30c0ac",
   "metadata": {},
   "outputs": [
    {
     "data": {
      "text/plain": [
       "[0, 3, 5, 5, 6, 7, 10, 11]"
      ]
     },
     "execution_count": 349,
     "metadata": {},
     "output_type": "execute_result"
    }
   ],
   "source": [
    "lst5"
   ]
  },
  {
   "cell_type": "code",
   "execution_count": 350,
   "id": "0cd706b5",
   "metadata": {},
   "outputs": [],
   "source": [
    "lst5.sort(reverse=True)"
   ]
  },
  {
   "cell_type": "code",
   "execution_count": 351,
   "id": "f515c8c3",
   "metadata": {},
   "outputs": [
    {
     "data": {
      "text/plain": [
       "[11, 10, 7, 6, 5, 5, 3, 0]"
      ]
     },
     "execution_count": 351,
     "metadata": {},
     "output_type": "execute_result"
    }
   ],
   "source": [
    "lst5"
   ]
  },
  {
   "cell_type": "code",
   "execution_count": null,
   "id": "08b11737",
   "metadata": {},
   "outputs": [],
   "source": [
    "lst5.sort"
   ]
  },
  {
   "cell_type": "code",
   "execution_count": 352,
   "id": "1d7c1d64",
   "metadata": {},
   "outputs": [
    {
     "data": {
      "text/plain": [
       "[11, 10, 7, 6, 5, 5, 3, 0]"
      ]
     },
     "execution_count": 352,
     "metadata": {},
     "output_type": "execute_result"
    }
   ],
   "source": [
    "lst5"
   ]
  },
  {
   "cell_type": "code",
   "execution_count": 353,
   "id": "cea90c4f",
   "metadata": {},
   "outputs": [
    {
     "data": {
      "text/plain": [
       "[0, 3, 5, 5, 6, 7, 10, 11]"
      ]
     },
     "execution_count": 353,
     "metadata": {},
     "output_type": "execute_result"
    }
   ],
   "source": [
    "lst5[::-1]"
   ]
  },
  {
   "cell_type": "code",
   "execution_count": 354,
   "id": "93ed18c5",
   "metadata": {},
   "outputs": [
    {
     "data": {
      "text/plain": [
       "[11, 10, 7, 6, 5, 5, 3, 0]"
      ]
     },
     "execution_count": 354,
     "metadata": {},
     "output_type": "execute_result"
    }
   ],
   "source": [
    "lst5"
   ]
  },
  {
   "cell_type": "code",
   "execution_count": 355,
   "id": "dd10f4ca",
   "metadata": {},
   "outputs": [],
   "source": [
    "lst5.reverse()"
   ]
  },
  {
   "cell_type": "code",
   "execution_count": 356,
   "id": "1af5aaf8",
   "metadata": {},
   "outputs": [
    {
     "data": {
      "text/plain": [
       "[0, 3, 5, 5, 6, 7, 10, 11]"
      ]
     },
     "execution_count": 356,
     "metadata": {},
     "output_type": "execute_result"
    }
   ],
   "source": [
    "lst5"
   ]
  },
  {
   "cell_type": "code",
   "execution_count": 357,
   "id": "ca24f3b0",
   "metadata": {},
   "outputs": [
    {
     "data": {
      "text/plain": [
       "[0, 3, 5, 5, 6, 7, 10, 11]"
      ]
     },
     "execution_count": 357,
     "metadata": {},
     "output_type": "execute_result"
    }
   ],
   "source": [
    "lst5"
   ]
  },
  {
   "cell_type": "code",
   "execution_count": 358,
   "id": "1a06a770",
   "metadata": {},
   "outputs": [
    {
     "data": {
      "text/plain": [
       "[0, 3, 5, 5, 6, 7, 10, 11]"
      ]
     },
     "execution_count": 358,
     "metadata": {},
     "output_type": "execute_result"
    }
   ],
   "source": [
    "lst5"
   ]
  },
  {
   "cell_type": "code",
   "execution_count": 359,
   "id": "3f639e1d",
   "metadata": {},
   "outputs": [
    {
     "data": {
      "text/plain": [
       "[11, 10, 7, 6, 5, 5, 3, 0]"
      ]
     },
     "execution_count": 359,
     "metadata": {},
     "output_type": "execute_result"
    }
   ],
   "source": [
    "lst5[::-1]"
   ]
  },
  {
   "cell_type": "code",
   "execution_count": 361,
   "id": "222c29ea",
   "metadata": {},
   "outputs": [],
   "source": [
    "lst5.sort?"
   ]
  },
  {
   "cell_type": "code",
   "execution_count": null,
   "id": "209185e3",
   "metadata": {},
   "outputs": [],
   "source": []
  },
  {
   "cell_type": "code",
   "execution_count": 362,
   "id": "7240c919",
   "metadata": {},
   "outputs": [],
   "source": [
    "import random"
   ]
  },
  {
   "cell_type": "code",
   "execution_count": 363,
   "id": "c3e7472b",
   "metadata": {},
   "outputs": [
    {
     "data": {
      "text/plain": [
       "[18, 12, 38, 3, 43, 33]"
      ]
     },
     "execution_count": 363,
     "metadata": {},
     "output_type": "execute_result"
    }
   ],
   "source": [
    "random.sample(population=range(1,46),k=6)"
   ]
  },
  {
   "cell_type": "code",
   "execution_count": 371,
   "id": "db8365fe",
   "metadata": {},
   "outputs": [],
   "source": [
    "lotto=random.sample(population=range(1,46),k=6)"
   ]
  },
  {
   "cell_type": "code",
   "execution_count": null,
   "id": "a90d0272",
   "metadata": {},
   "outputs": [],
   "source": []
  },
  {
   "cell_type": "code",
   "execution_count": 367,
   "id": "bada36ca",
   "metadata": {},
   "outputs": [],
   "source": [
    "lotto.sort()"
   ]
  },
  {
   "cell_type": "code",
   "execution_count": 368,
   "id": "afa68e3a",
   "metadata": {},
   "outputs": [
    {
     "data": {
      "text/plain": [
       "[9, 32, 34, 35, 36, 37]"
      ]
     },
     "execution_count": 368,
     "metadata": {},
     "output_type": "execute_result"
    }
   ],
   "source": [
    "lotto"
   ]
  },
  {
   "cell_type": "code",
   "execution_count": 369,
   "id": "06f49ea2",
   "metadata": {},
   "outputs": [
    {
     "data": {
      "text/plain": [
       "[9, 32, 34, 35, 36, 37]"
      ]
     },
     "execution_count": 369,
     "metadata": {},
     "output_type": "execute_result"
    }
   ],
   "source": [
    "lotto"
   ]
  },
  {
   "cell_type": "code",
   "execution_count": 370,
   "id": "6dfb571a",
   "metadata": {},
   "outputs": [
    {
     "data": {
      "text/plain": [
       "[9, 32, 34, 35, 36, 37]"
      ]
     },
     "execution_count": 370,
     "metadata": {},
     "output_type": "execute_result"
    }
   ],
   "source": [
    "lotto"
   ]
  },
  {
   "cell_type": "code",
   "execution_count": null,
   "id": "a72aacda",
   "metadata": {},
   "outputs": [],
   "source": []
  },
  {
   "cell_type": "code",
   "execution_count": null,
   "id": "fa47b973",
   "metadata": {},
   "outputs": [],
   "source": []
  },
  {
   "cell_type": "code",
   "execution_count": 372,
   "id": "c4d51940",
   "metadata": {},
   "outputs": [],
   "source": [
    "tup=(1,'a','3')"
   ]
  },
  {
   "cell_type": "code",
   "execution_count": 373,
   "id": "ce6fa0b2",
   "metadata": {},
   "outputs": [
    {
     "data": {
      "text/plain": [
       "tuple"
      ]
     },
     "execution_count": 373,
     "metadata": {},
     "output_type": "execute_result"
    }
   ],
   "source": [
    "type(tup)"
   ]
  },
  {
   "cell_type": "code",
   "execution_count": 374,
   "id": "d2248450",
   "metadata": {
    "scrolled": true
   },
   "outputs": [
    {
     "data": {
      "text/plain": [
       "['__add__',\n",
       " '__class__',\n",
       " '__class_getitem__',\n",
       " '__contains__',\n",
       " '__delattr__',\n",
       " '__dir__',\n",
       " '__doc__',\n",
       " '__eq__',\n",
       " '__format__',\n",
       " '__ge__',\n",
       " '__getattribute__',\n",
       " '__getitem__',\n",
       " '__getnewargs__',\n",
       " '__gt__',\n",
       " '__hash__',\n",
       " '__init__',\n",
       " '__init_subclass__',\n",
       " '__iter__',\n",
       " '__le__',\n",
       " '__len__',\n",
       " '__lt__',\n",
       " '__mul__',\n",
       " '__ne__',\n",
       " '__new__',\n",
       " '__reduce__',\n",
       " '__reduce_ex__',\n",
       " '__repr__',\n",
       " '__rmul__',\n",
       " '__setattr__',\n",
       " '__sizeof__',\n",
       " '__str__',\n",
       " '__subclasshook__',\n",
       " 'count',\n",
       " 'index']"
      ]
     },
     "execution_count": 374,
     "metadata": {},
     "output_type": "execute_result"
    }
   ],
   "source": [
    "dir(tup)"
   ]
  },
  {
   "cell_type": "code",
   "execution_count": 375,
   "id": "30e7fd91",
   "metadata": {},
   "outputs": [
    {
     "data": {
      "text/plain": [
       "[1, 'a', '3']"
      ]
     },
     "execution_count": 375,
     "metadata": {},
     "output_type": "execute_result"
    }
   ],
   "source": [
    "list(tup)"
   ]
  },
  {
   "cell_type": "code",
   "execution_count": 376,
   "id": "080b1910",
   "metadata": {},
   "outputs": [
    {
     "data": {
      "text/plain": [
       "tuple"
      ]
     },
     "execution_count": 376,
     "metadata": {},
     "output_type": "execute_result"
    }
   ],
   "source": [
    "type(tup)"
   ]
  },
  {
   "cell_type": "code",
   "execution_count": 377,
   "id": "121c2d8a",
   "metadata": {},
   "outputs": [
    {
     "data": {
      "text/plain": [
       "(1, 'a', '3')"
      ]
     },
     "execution_count": 377,
     "metadata": {},
     "output_type": "execute_result"
    }
   ],
   "source": [
    "tup"
   ]
  },
  {
   "cell_type": "code",
   "execution_count": 378,
   "id": "ae67a8a7",
   "metadata": {},
   "outputs": [
    {
     "data": {
      "text/plain": [
       "[1, 'a', '3']"
      ]
     },
     "execution_count": 378,
     "metadata": {},
     "output_type": "execute_result"
    }
   ],
   "source": [
    "list(tup)"
   ]
  },
  {
   "cell_type": "code",
   "execution_count": 379,
   "id": "bb81d10b",
   "metadata": {},
   "outputs": [
    {
     "data": {
      "text/plain": [
       "(1, 'a', '3')"
      ]
     },
     "execution_count": 379,
     "metadata": {},
     "output_type": "execute_result"
    }
   ],
   "source": [
    "tup"
   ]
  },
  {
   "cell_type": "code",
   "execution_count": 380,
   "id": "cf77828e",
   "metadata": {},
   "outputs": [],
   "source": [
    "a=list(tup)"
   ]
  },
  {
   "cell_type": "code",
   "execution_count": 381,
   "id": "23b4ed56",
   "metadata": {},
   "outputs": [
    {
     "data": {
      "text/plain": [
       "[1, 'a', '3']"
      ]
     },
     "execution_count": 381,
     "metadata": {},
     "output_type": "execute_result"
    }
   ],
   "source": [
    "a"
   ]
  },
  {
   "cell_type": "code",
   "execution_count": 382,
   "id": "a5999e23",
   "metadata": {},
   "outputs": [],
   "source": [
    "b=tup"
   ]
  },
  {
   "cell_type": "code",
   "execution_count": 383,
   "id": "039d3bc6",
   "metadata": {},
   "outputs": [
    {
     "data": {
      "text/plain": [
       "[1, 'a', '3']"
      ]
     },
     "execution_count": 383,
     "metadata": {},
     "output_type": "execute_result"
    }
   ],
   "source": [
    "a"
   ]
  },
  {
   "cell_type": "code",
   "execution_count": 384,
   "id": "e5d9f40a",
   "metadata": {},
   "outputs": [
    {
     "data": {
      "text/plain": [
       "(1, 'a', '3')"
      ]
     },
     "execution_count": 384,
     "metadata": {},
     "output_type": "execute_result"
    }
   ],
   "source": [
    "b"
   ]
  },
  {
   "cell_type": "code",
   "execution_count": 385,
   "id": "f0175b09",
   "metadata": {},
   "outputs": [],
   "source": [
    "dct={'item':'pants', 'size':['M', 'S']}"
   ]
  },
  {
   "cell_type": "code",
   "execution_count": 386,
   "id": "0570a973",
   "metadata": {},
   "outputs": [
    {
     "data": {
      "text/plain": [
       "{'item': 'pants', 'size': ['M', 'S']}"
      ]
     },
     "execution_count": 386,
     "metadata": {},
     "output_type": "execute_result"
    }
   ],
   "source": [
    "dct"
   ]
  },
  {
   "cell_type": "code",
   "execution_count": 387,
   "id": "a094beff",
   "metadata": {},
   "outputs": [
    {
     "name": "stdout",
     "output_type": "stream",
     "text": [
      "{'item': 'pants', 'size': ['M', 'S']}\n"
     ]
    }
   ],
   "source": [
    "print(dct)"
   ]
  },
  {
   "cell_type": "code",
   "execution_count": 388,
   "id": "6eccadf6",
   "metadata": {},
   "outputs": [
    {
     "data": {
      "text/plain": [
       "dict"
      ]
     },
     "execution_count": 388,
     "metadata": {},
     "output_type": "execute_result"
    }
   ],
   "source": [
    "type(dct)"
   ]
  },
  {
   "cell_type": "code",
   "execution_count": 389,
   "id": "1c362d39",
   "metadata": {},
   "outputs": [
    {
     "ename": "AttributeError",
     "evalue": "'builtin_function_or_method' object has no attribute 'dct'",
     "output_type": "error",
     "traceback": [
      "\u001b[1;31m---------------------------------------------------------------------------\u001b[0m",
      "\u001b[1;31mAttributeError\u001b[0m                            Traceback (most recent call last)",
      "Input \u001b[1;32mIn [389]\u001b[0m, in \u001b[0;36m<cell line: 1>\u001b[1;34m()\u001b[0m\n\u001b[1;32m----> 1\u001b[0m \u001b[38;5;28;43mdir\u001b[39;49m\u001b[38;5;241;43m.\u001b[39;49m\u001b[43mdct\u001b[49m\n",
      "\u001b[1;31mAttributeError\u001b[0m: 'builtin_function_or_method' object has no attribute 'dct'"
     ]
    }
   ],
   "source": [
    "dir.dct"
   ]
  },
  {
   "cell_type": "code",
   "execution_count": 390,
   "id": "5c0feb42",
   "metadata": {
    "scrolled": true
   },
   "outputs": [
    {
     "data": {
      "text/plain": [
       "['__class__',\n",
       " '__class_getitem__',\n",
       " '__contains__',\n",
       " '__delattr__',\n",
       " '__delitem__',\n",
       " '__dir__',\n",
       " '__doc__',\n",
       " '__eq__',\n",
       " '__format__',\n",
       " '__ge__',\n",
       " '__getattribute__',\n",
       " '__getitem__',\n",
       " '__gt__',\n",
       " '__hash__',\n",
       " '__init__',\n",
       " '__init_subclass__',\n",
       " '__ior__',\n",
       " '__iter__',\n",
       " '__le__',\n",
       " '__len__',\n",
       " '__lt__',\n",
       " '__ne__',\n",
       " '__new__',\n",
       " '__or__',\n",
       " '__reduce__',\n",
       " '__reduce_ex__',\n",
       " '__repr__',\n",
       " '__reversed__',\n",
       " '__ror__',\n",
       " '__setattr__',\n",
       " '__setitem__',\n",
       " '__sizeof__',\n",
       " '__str__',\n",
       " '__subclasshook__',\n",
       " 'clear',\n",
       " 'copy',\n",
       " 'fromkeys',\n",
       " 'get',\n",
       " 'items',\n",
       " 'keys',\n",
       " 'pop',\n",
       " 'popitem',\n",
       " 'setdefault',\n",
       " 'update',\n",
       " 'values']"
      ]
     },
     "execution_count": 390,
     "metadata": {},
     "output_type": "execute_result"
    }
   ],
   "source": [
    "dir(dct)"
   ]
  },
  {
   "cell_type": "code",
   "execution_count": 391,
   "id": "cf5ced3f",
   "metadata": {},
   "outputs": [
    {
     "data": {
      "text/plain": [
       "'pants'"
      ]
     },
     "execution_count": 391,
     "metadata": {},
     "output_type": "execute_result"
    }
   ],
   "source": [
    "dct['item']"
   ]
  },
  {
   "cell_type": "code",
   "execution_count": 392,
   "id": "a5492c0e",
   "metadata": {},
   "outputs": [
    {
     "data": {
      "text/plain": [
       "True"
      ]
     },
     "execution_count": 392,
     "metadata": {},
     "output_type": "execute_result"
    }
   ],
   "source": [
    "'item' in dct"
   ]
  },
  {
   "cell_type": "code",
   "execution_count": 393,
   "id": "3d1de804",
   "metadata": {},
   "outputs": [
    {
     "data": {
      "text/plain": [
       "False"
      ]
     },
     "execution_count": 393,
     "metadata": {},
     "output_type": "execute_result"
    }
   ],
   "source": [
    "'shop' in dct"
   ]
  },
  {
   "cell_type": "code",
   "execution_count": 394,
   "id": "0a3bc24e",
   "metadata": {},
   "outputs": [
    {
     "ename": "KeyError",
     "evalue": "'shop'",
     "output_type": "error",
     "traceback": [
      "\u001b[1;31m---------------------------------------------------------------------------\u001b[0m",
      "\u001b[1;31mKeyError\u001b[0m                                  Traceback (most recent call last)",
      "Input \u001b[1;32mIn [394]\u001b[0m, in \u001b[0;36m<cell line: 1>\u001b[1;34m()\u001b[0m\n\u001b[1;32m----> 1\u001b[0m \u001b[43mdct\u001b[49m\u001b[43m[\u001b[49m\u001b[38;5;124;43m'\u001b[39;49m\u001b[38;5;124;43mshop\u001b[39;49m\u001b[38;5;124;43m'\u001b[39;49m\u001b[43m]\u001b[49m\n",
      "\u001b[1;31mKeyError\u001b[0m: 'shop'"
     ]
    }
   ],
   "source": [
    "dct['shop']"
   ]
  },
  {
   "cell_type": "code",
   "execution_count": 397,
   "id": "b796f8dc",
   "metadata": {},
   "outputs": [
    {
     "data": {
      "text/plain": [
       "['M', 'S']"
      ]
     },
     "execution_count": 397,
     "metadata": {},
     "output_type": "execute_result"
    }
   ],
   "source": [
    "dct['size']"
   ]
  },
  {
   "cell_type": "code",
   "execution_count": 398,
   "id": "4b726eda",
   "metadata": {},
   "outputs": [
    {
     "data": {
      "text/plain": [
       "False"
      ]
     },
     "execution_count": 398,
     "metadata": {},
     "output_type": "execute_result"
    }
   ],
   "source": [
    "'M' in dct"
   ]
  },
  {
   "cell_type": "code",
   "execution_count": 400,
   "id": "cebeb96e",
   "metadata": {},
   "outputs": [
    {
     "data": {
      "text/plain": [
       "True"
      ]
     },
     "execution_count": 400,
     "metadata": {},
     "output_type": "execute_result"
    }
   ],
   "source": [
    "'size' in dct"
   ]
  },
  {
   "cell_type": "code",
   "execution_count": null,
   "id": "fb8a09f5",
   "metadata": {},
   "outputs": [],
   "source": []
  },
  {
   "cell_type": "code",
   "execution_count": 401,
   "id": "d1bb122d",
   "metadata": {},
   "outputs": [
    {
     "data": {
      "text/plain": [
       "{'item': 'pants', 'size': ['M', 'S']}"
      ]
     },
     "execution_count": 401,
     "metadata": {},
     "output_type": "execute_result"
    }
   ],
   "source": [
    "dct"
   ]
  },
  {
   "cell_type": "code",
   "execution_count": null,
   "id": "9969d2f4",
   "metadata": {},
   "outputs": [],
   "source": []
  },
  {
   "cell_type": "code",
   "execution_count": 402,
   "id": "e28e4650",
   "metadata": {},
   "outputs": [
    {
     "data": {
      "text/plain": [
       "{'item': 'pants', 'size': ['M', 'S']}"
      ]
     },
     "execution_count": 402,
     "metadata": {},
     "output_type": "execute_result"
    }
   ],
   "source": [
    "dct"
   ]
  },
  {
   "cell_type": "code",
   "execution_count": 404,
   "id": "e7c09136",
   "metadata": {},
   "outputs": [],
   "source": [
    "dct['shop']='A1'"
   ]
  },
  {
   "cell_type": "code",
   "execution_count": 405,
   "id": "59c042a4",
   "metadata": {},
   "outputs": [
    {
     "data": {
      "text/plain": [
       "{'item': 'pants', 'size': ['M', 'S'], 'shop': 'A1'}"
      ]
     },
     "execution_count": 405,
     "metadata": {},
     "output_type": "execute_result"
    }
   ],
   "source": [
    "dct"
   ]
  },
  {
   "cell_type": "code",
   "execution_count": 406,
   "id": "bdeb8797",
   "metadata": {},
   "outputs": [],
   "source": [
    "del dct['item']"
   ]
  },
  {
   "cell_type": "code",
   "execution_count": 407,
   "id": "15b4420c",
   "metadata": {},
   "outputs": [
    {
     "data": {
      "text/plain": [
       "{'size': ['M', 'S'], 'shop': 'A1'}"
      ]
     },
     "execution_count": 407,
     "metadata": {},
     "output_type": "execute_result"
    }
   ],
   "source": [
    "dct"
   ]
  },
  {
   "cell_type": "code",
   "execution_count": 410,
   "id": "093e749d",
   "metadata": {},
   "outputs": [],
   "source": [
    "dct['shop']='A2, A3'"
   ]
  },
  {
   "cell_type": "code",
   "execution_count": 411,
   "id": "adfc5f15",
   "metadata": {},
   "outputs": [
    {
     "data": {
      "text/plain": [
       "{'size': ['M', 'S'], 'shop': 'A2, A3'}"
      ]
     },
     "execution_count": 411,
     "metadata": {},
     "output_type": "execute_result"
    }
   ],
   "source": [
    "dct"
   ]
  },
  {
   "cell_type": "code",
   "execution_count": null,
   "id": "11091424",
   "metadata": {},
   "outputs": [],
   "source": []
  },
  {
   "cell_type": "code",
   "execution_count": 409,
   "id": "b7e07964",
   "metadata": {},
   "outputs": [
    {
     "data": {
      "text/plain": [
       "{'size': ['M', 'S'], 'shop': 'A2'}"
      ]
     },
     "execution_count": 409,
     "metadata": {},
     "output_type": "execute_result"
    }
   ],
   "source": [
    "dct"
   ]
  },
  {
   "cell_type": "code",
   "execution_count": null,
   "id": "a34e2de4",
   "metadata": {},
   "outputs": [],
   "source": []
  },
  {
   "cell_type": "code",
   "execution_count": 416,
   "id": "5301da50",
   "metadata": {},
   "outputs": [
    {
     "data": {
      "text/plain": [
       "{'size': ['M', 'S'], 'shop': 'A2, A3'}"
      ]
     },
     "execution_count": 416,
     "metadata": {},
     "output_type": "execute_result"
    }
   ],
   "source": [
    "dct"
   ]
  },
  {
   "cell_type": "code",
   "execution_count": null,
   "id": "1aa64492",
   "metadata": {},
   "outputs": [],
   "source": []
  },
  {
   "cell_type": "code",
   "execution_count": null,
   "id": "7ff77788",
   "metadata": {},
   "outputs": [],
   "source": []
  },
  {
   "cell_type": "code",
   "execution_count": 412,
   "id": "7f55fd44",
   "metadata": {},
   "outputs": [
    {
     "data": {
      "text/plain": [
       "dict_items([('size', ['M', 'S']), ('shop', 'A2, A3')])"
      ]
     },
     "execution_count": 412,
     "metadata": {},
     "output_type": "execute_result"
    }
   ],
   "source": [
    "dct.items()"
   ]
  },
  {
   "cell_type": "code",
   "execution_count": 414,
   "id": "d4fd8073",
   "metadata": {},
   "outputs": [
    {
     "name": "stdout",
     "output_type": "stream",
     "text": [
      "size의 값은 ['M', 'S']입니다.\n",
      "shop의 값은 A2, A3입니다.\n"
     ]
    }
   ],
   "source": [
    "for i,v in dct.items():\n",
    "    print(f'{i}의 값은 {v}입니다.')"
   ]
  },
  {
   "cell_type": "code",
   "execution_count": null,
   "id": "6479ed59",
   "metadata": {},
   "outputs": [],
   "source": []
  },
  {
   "cell_type": "code",
   "execution_count": 417,
   "id": "dcff8d0e",
   "metadata": {},
   "outputs": [],
   "source": [
    "set1={3,2,1,1,3}"
   ]
  },
  {
   "cell_type": "code",
   "execution_count": 418,
   "id": "00607051",
   "metadata": {},
   "outputs": [
    {
     "data": {
      "text/plain": [
       "{1, 2, 3}"
      ]
     },
     "execution_count": 418,
     "metadata": {},
     "output_type": "execute_result"
    }
   ],
   "source": [
    "set1"
   ]
  },
  {
   "cell_type": "code",
   "execution_count": 419,
   "id": "9c23cbd9",
   "metadata": {},
   "outputs": [
    {
     "data": {
      "text/plain": [
       "set"
      ]
     },
     "execution_count": 419,
     "metadata": {},
     "output_type": "execute_result"
    }
   ],
   "source": [
    "type(set1)"
   ]
  },
  {
   "cell_type": "code",
   "execution_count": 420,
   "id": "45e30ae0",
   "metadata": {
    "scrolled": true
   },
   "outputs": [
    {
     "data": {
      "text/plain": [
       "['__and__',\n",
       " '__class__',\n",
       " '__class_getitem__',\n",
       " '__contains__',\n",
       " '__delattr__',\n",
       " '__dir__',\n",
       " '__doc__',\n",
       " '__eq__',\n",
       " '__format__',\n",
       " '__ge__',\n",
       " '__getattribute__',\n",
       " '__gt__',\n",
       " '__hash__',\n",
       " '__iand__',\n",
       " '__init__',\n",
       " '__init_subclass__',\n",
       " '__ior__',\n",
       " '__isub__',\n",
       " '__iter__',\n",
       " '__ixor__',\n",
       " '__le__',\n",
       " '__len__',\n",
       " '__lt__',\n",
       " '__ne__',\n",
       " '__new__',\n",
       " '__or__',\n",
       " '__rand__',\n",
       " '__reduce__',\n",
       " '__reduce_ex__',\n",
       " '__repr__',\n",
       " '__ror__',\n",
       " '__rsub__',\n",
       " '__rxor__',\n",
       " '__setattr__',\n",
       " '__sizeof__',\n",
       " '__str__',\n",
       " '__sub__',\n",
       " '__subclasshook__',\n",
       " '__xor__',\n",
       " 'add',\n",
       " 'clear',\n",
       " 'copy',\n",
       " 'difference',\n",
       " 'difference_update',\n",
       " 'discard',\n",
       " 'intersection',\n",
       " 'intersection_update',\n",
       " 'isdisjoint',\n",
       " 'issubset',\n",
       " 'issuperset',\n",
       " 'pop',\n",
       " 'remove',\n",
       " 'symmetric_difference',\n",
       " 'symmetric_difference_update',\n",
       " 'union',\n",
       " 'update']"
      ]
     },
     "execution_count": 420,
     "metadata": {},
     "output_type": "execute_result"
    }
   ],
   "source": [
    "dir(set1)"
   ]
  },
  {
   "cell_type": "code",
   "execution_count": 421,
   "id": "98b1c8a0",
   "metadata": {},
   "outputs": [
    {
     "data": {
      "text/plain": [
       "set"
      ]
     },
     "execution_count": 421,
     "metadata": {},
     "output_type": "execute_result"
    }
   ],
   "source": [
    "type(set1)"
   ]
  },
  {
   "cell_type": "code",
   "execution_count": 422,
   "id": "8c6f4e35",
   "metadata": {},
   "outputs": [
    {
     "ename": "NameError",
     "evalue": "name 'set2' is not defined",
     "output_type": "error",
     "traceback": [
      "\u001b[1;31m---------------------------------------------------------------------------\u001b[0m",
      "\u001b[1;31mNameError\u001b[0m                                 Traceback (most recent call last)",
      "Input \u001b[1;32mIn [422]\u001b[0m, in \u001b[0;36m<cell line: 1>\u001b[1;34m()\u001b[0m\n\u001b[1;32m----> 1\u001b[0m \u001b[43mset2\u001b[49m\n",
      "\u001b[1;31mNameError\u001b[0m: name 'set2' is not defined"
     ]
    }
   ],
   "source": [
    "set2"
   ]
  },
  {
   "cell_type": "code",
   "execution_count": 423,
   "id": "3cea7421",
   "metadata": {},
   "outputs": [],
   "source": [
    "set2=list(set1)"
   ]
  },
  {
   "cell_type": "code",
   "execution_count": 424,
   "id": "d2c8a8b4",
   "metadata": {},
   "outputs": [
    {
     "data": {
      "text/plain": [
       "[1, 2, 3]"
      ]
     },
     "execution_count": 424,
     "metadata": {},
     "output_type": "execute_result"
    }
   ],
   "source": [
    "set2"
   ]
  },
  {
   "cell_type": "code",
   "execution_count": 425,
   "id": "f6c45834",
   "metadata": {},
   "outputs": [
    {
     "data": {
      "text/plain": [
       "1"
      ]
     },
     "execution_count": 425,
     "metadata": {},
     "output_type": "execute_result"
    }
   ],
   "source": [
    "set2[0]"
   ]
  },
  {
   "cell_type": "code",
   "execution_count": 426,
   "id": "1fc37b5b",
   "metadata": {},
   "outputs": [
    {
     "ename": "TypeError",
     "evalue": "'set' object is not subscriptable",
     "output_type": "error",
     "traceback": [
      "\u001b[1;31m---------------------------------------------------------------------------\u001b[0m",
      "\u001b[1;31mTypeError\u001b[0m                                 Traceback (most recent call last)",
      "Input \u001b[1;32mIn [426]\u001b[0m, in \u001b[0;36m<cell line: 1>\u001b[1;34m()\u001b[0m\n\u001b[1;32m----> 1\u001b[0m \u001b[43mset1\u001b[49m\u001b[43m[\u001b[49m\u001b[38;5;241;43m0\u001b[39;49m\u001b[43m]\u001b[49m\n",
      "\u001b[1;31mTypeError\u001b[0m: 'set' object is not subscriptable"
     ]
    }
   ],
   "source": [
    "set1[0]"
   ]
  },
  {
   "cell_type": "code",
   "execution_count": 427,
   "id": "e3499acc",
   "metadata": {},
   "outputs": [],
   "source": [
    "set1={1,2,3}"
   ]
  },
  {
   "cell_type": "code",
   "execution_count": 428,
   "id": "c2f2c7e5",
   "metadata": {},
   "outputs": [],
   "source": [
    "set2={1,3,5}"
   ]
  },
  {
   "cell_type": "code",
   "execution_count": 430,
   "id": "45050d1c",
   "metadata": {},
   "outputs": [
    {
     "data": {
      "text/plain": [
       "{1, 3}"
      ]
     },
     "execution_count": 430,
     "metadata": {},
     "output_type": "execute_result"
    }
   ],
   "source": [
    "set1&set2"
   ]
  },
  {
   "cell_type": "code",
   "execution_count": 431,
   "id": "19722ed7",
   "metadata": {},
   "outputs": [
    {
     "data": {
      "text/plain": [
       "{1, 2, 3, 5}"
      ]
     },
     "execution_count": 431,
     "metadata": {},
     "output_type": "execute_result"
    }
   ],
   "source": [
    "set1|set2"
   ]
  },
  {
   "cell_type": "code",
   "execution_count": 432,
   "id": "2d1a6d43",
   "metadata": {},
   "outputs": [
    {
     "data": {
      "text/plain": [
       "{2}"
      ]
     },
     "execution_count": 432,
     "metadata": {},
     "output_type": "execute_result"
    }
   ],
   "source": [
    "set1 - set2"
   ]
  },
  {
   "cell_type": "code",
   "execution_count": 435,
   "id": "11151fba",
   "metadata": {},
   "outputs": [
    {
     "name": "stdout",
     "output_type": "stream",
     "text": [
      "Collecting requests\n",
      "  Downloading requests-2.28.1-py3-none-any.whl (62 kB)\n",
      "     ---------------------------------------- 62.8/62.8 kB 3.5 MB/s eta 0:00:00\n",
      "Collecting certifi>=2017.4.17\n",
      "  Downloading certifi-2022.6.15.1-py3-none-any.whl (160 kB)\n",
      "     -------------------------------------- 160.4/160.4 kB 9.4 MB/s eta 0:00:00\n",
      "Collecting urllib3<1.27,>=1.21.1\n",
      "  Downloading urllib3-1.26.12-py2.py3-none-any.whl (140 kB)\n",
      "     -------------------------------------- 140.4/140.4 kB 8.1 MB/s eta 0:00:00\n",
      "Collecting charset-normalizer<3,>=2\n",
      "  Downloading charset_normalizer-2.1.1-py3-none-any.whl (39 kB)\n",
      "Collecting idna<4,>=2.5\n",
      "  Downloading idna-3.3-py3-none-any.whl (61 kB)\n",
      "     ---------------------------------------- 61.2/61.2 kB 3.4 MB/s eta 0:00:00\n",
      "Installing collected packages: urllib3, idna, charset-normalizer, certifi, requests\n",
      "Successfully installed certifi-2022.6.15.1 charset-normalizer-2.1.1 idna-3.3 requests-2.28.1 urllib3-1.26.12\n",
      "Note: you may need to restart the kernel to use updated packages.\n"
     ]
    }
   ],
   "source": [
    "pip install requests\n"
   ]
  },
  {
   "cell_type": "code",
   "execution_count": null,
   "id": "339862bf",
   "metadata": {},
   "outputs": [],
   "source": []
  },
  {
   "cell_type": "code",
   "execution_count": 436,
   "id": "8f805d7b",
   "metadata": {},
   "outputs": [
    {
     "name": "stdout",
     "output_type": "stream",
     "text": [
      "Collecting bs4\n",
      "  Downloading bs4-0.0.1.tar.gz (1.1 kB)\n",
      "  Preparing metadata (setup.py): started\n",
      "  Preparing metadata (setup.py): finished with status 'done'\n",
      "Requirement already satisfied: beautifulsoup4 in c:\\program files\\python\\lib\\site-packages (from bs4) (4.11.1)\n",
      "Requirement already satisfied: soupsieve>1.2 in c:\\program files\\python\\lib\\site-packages (from beautifulsoup4->bs4) (2.3.2.post1)\n",
      "Using legacy 'setup.py install' for bs4, since package 'wheel' is not installed.\n",
      "Installing collected packages: bs4\n",
      "  Running setup.py install for bs4: started\n",
      "  Running setup.py install for bs4: finished with status 'done'\n",
      "Successfully installed bs4-0.0.1\n",
      "Note: you may need to restart the kernel to use updated packages.\n"
     ]
    }
   ],
   "source": [
    "pip install bs4"
   ]
  },
  {
   "cell_type": "code",
   "execution_count": null,
   "id": "048579b9",
   "metadata": {},
   "outputs": [],
   "source": []
  },
  {
   "cell_type": "code",
   "execution_count": 439,
   "id": "73137817",
   "metadata": {},
   "outputs": [],
   "source": [
    "import requests\n",
    "from bs4 import BeautifulSoup as bts"
   ]
  },
  {
   "cell_type": "code",
   "execution_count": null,
   "id": "fa2c443d",
   "metadata": {},
   "outputs": [],
   "source": []
  },
  {
   "cell_type": "code",
   "execution_count": 440,
   "id": "1e08c8c4",
   "metadata": {},
   "outputs": [],
   "source": [
    "res=requests.get(url='https://finance.naver.com/item/main.naver?code=066570')"
   ]
  },
  {
   "cell_type": "code",
   "execution_count": 441,
   "id": "115049bf",
   "metadata": {},
   "outputs": [
    {
     "data": {
      "text/plain": [
       "200"
      ]
     },
     "execution_count": 441,
     "metadata": {},
     "output_type": "execute_result"
    }
   ],
   "source": [
    "res.status_code"
   ]
  },
  {
   "cell_type": "code",
   "execution_count": 442,
   "id": "24f1d47a",
   "metadata": {},
   "outputs": [
    {
     "data": {
      "text/plain": [
       "{'date': 'Tue, 13 Sep 2022 07:40:44 GMT', 'cache-control': 'no-cache', 'expires': 'Thu, 01 Jan 1970 00:00:00 GMT', 'set-cookie': 'JSESSIONID=8DFC870D5D1D5FEA87D15B6CA7C11FA5; Path=/; HttpOnly', 'content-language': 'ko', 'vary': 'Accept-Encoding,User-Agent', 'content-encoding': 'gzip', 'referrer-policy': 'unsafe-url', 'transfer-encoding': 'chunked', 'content-type': 'text/html;charset=EUC-KR', 'x-xss-protection': '1; mode=block', 'strict-transport-security': 'max-age=31536000; includeSubDomains', 'server': 'nfront'}"
      ]
     },
     "execution_count": 442,
     "metadata": {},
     "output_type": "execute_result"
    }
   ],
   "source": [
    "res.headers"
   ]
  },
  {
   "cell_type": "code",
   "execution_count": 445,
   "id": "ce642cfc",
   "metadata": {},
   "outputs": [
    {
     "data": {
      "text/plain": [
       "'text/html;charset=EUC-KR'"
      ]
     },
     "execution_count": 445,
     "metadata": {},
     "output_type": "execute_result"
    }
   ],
   "source": [
    "res.headers['content-type']"
   ]
  },
  {
   "cell_type": "code",
   "execution_count": 447,
   "id": "d8e8ca70",
   "metadata": {},
   "outputs": [
    {
     "data": {
      "text/plain": [
       "142585"
      ]
     },
     "execution_count": 447,
     "metadata": {},
     "output_type": "execute_result"
    }
   ],
   "source": [
    "len(res.text)"
   ]
  },
  {
   "cell_type": "code",
   "execution_count": 448,
   "id": "c0f43ceb",
   "metadata": {},
   "outputs": [
    {
     "data": {
      "text/plain": [
       "'\\n\\n\\t\\n\\t\\n\\t\\n\\t\\n<html lang=\\'ko\\'>\\n<head>\\n\\n\\n\\t\\n\\t\\t<title>LG전자 : 네이버 금융</title>\\n\\t\\n\\t\\n\\n\\n\\n\\n\\n\\t\\n\\t\\n\\t\\t<meta http-equiv=\"Content-Type\" content=\"text/html; charset=utf-8\" />\\n\\t\\n\\n\\n<meta http-equiv=\"Content-Script-Type\" content=\"text/javascript\">\\n<meta http-equiv=\"Content-Style-Type\" content=\"text/css\">\\n\\n\\n\\n\\n\\n\\t\\n    \\n        <meta property=\"og:url\" content=\"https://finance.naver.com/item/main.naver?code=066570\"/>\\n        \\n\\t\\t\\t\\n\\t\\t    \\n\\t\\t    \\t<meta property=\"og:title\" content=\"LG전자 - 네이버 금융 : 네이버 금융\"/>\\n\\t\\t     \\n\\t\\t\\n\\t\\t\\n\\t\\t\\t\\n\\t\\t\\t   <meta property=\"og:description\" content=\"관심종목의 실시간 주가를 가장 빠르게 확인하는 곳\"/>\\n\\t\\t    \\n\\t\\t    \\n\\t\\t\\n\\t\\t \\n\\t\\t\\t\\n\\t\\t\\t    <meta property=\"og:image\" content=\"https://ssl.pstatic.net/static/m/stock/im/2016/08/og_stock-200.png\"/>\\n\\t\\t    \\n\\t\\t    \\n\\t\\t\\n    \\n\\n<meta property=\"og:type\" content=\"article\"/>\\n<meta property=\"og:article:thumbnailUrl\" content=\"\"/>\\n<meta property=\"og:article:author\" content=\"네이버금융\"/>\\n<meta property=\"og:article:author:url\" content=\"http://FINANCE.NAVER.COM\"/>\\n\\n\\n\\n\\n\\n\\n<link rel=\\'stylesheet\\' type=\\'text/css\\' href=\\'https://ssl.pstatic.net/imgstock/static.pc/20220907184351/css/finance_header.css\\'>\\n\\n\\t\\n\\t\\n\\t\\n\\t\\n\\t\\t\\n\\t\\t<link rel=\"stylesheet\" type=\"text/css\" href=\"https://ssl.pstatic.net/imgstock/static.pc/20220907184351/css/newstock.css\">\\n\\t\\t<link rel=\"stylesheet\" type=\"text/css\" href=\"https://ssl.pstatic.net/imgstock/static.pc/20220907184351/css/common.css\">\\n\\t\\t<link rel=\"stylesheet\" type=\"text/css\" href=\"https://ssl.pstatic.net/imgstock/static.pc/20220907184351/css/layout.css\">\\n\\t\\t<link rel=\"stylesheet\" type=\"text/css\" href=\"https://ssl.pstatic.net/imgstock/static.pc/20220907184351/css/main.css\">\\n\\t\\t<link rel=\"stylesheet\" type=\"text/css\" href=\"https://ssl.pstatic.net/imgstock/static.pc/20220907184351/css/newstock2.css\">\\n\\t\\t<link rel=\"stylesheet\" type=\"text/css\" href=\"https://ssl.pstatic.net/imgstock/static.pc/20220907184351/css/newstock3.css\">\\n\\t\\t<link rel=\"stylesheet\" type=\"text/css\" href=\"https://ssl.pstatic.net/imgstock/static.pc/20220907184351/css/world.css\">\\n\\t\\t\\n\\t\\t\\t\\n\\t\\t\\t\\n\\t\\t\\t\\t<script type=\"text/javascript\" src=\"https://ssl.pstatic.net/imgstock/static.pc/20220907184351/js/jindo.min.ns.1.5.3.euckr.js\"></script>\\n\\t\\t\\t\\t<script type=\"text/javascript\" src=\"https://ssl.pstatic.net/imgstock/static.pc/20220907184351/js/release/common.js\"></script>\\n\\t\\t\\t\\t<script type=\"text/javascript\" src=\"https://ssl.pstatic.net/imgstock/static.pc/20220907184351/js/jindoComponent/jindo.Component.1.0.3.js\"></script>\\n\\t\\t\\t\\t<script type=\"text/javascript\" src=\"https://ssl.pstatic.net/imgstock/static.pc/20220907184351/js/nhn.autocomplete.stock.js\"></script>\\n\\t\\t\\t\\n\\t\\t\\n\\n\\t\\t\\n\\t\\n\\n<script>\\n\\tvar ieVersion = (function () {\\n        var version = -1;\\n        if (\\n          navigator.appName == \\'Microsoft Internet Explorer\\' &&\\n          navigator.userAgent.toLowerCase().indexOf(\\'msie\\') != -1 &&\\n          new RegExp(\\'MSIE ([0-9]{1,}[\\\\./0-9]{0,})\\').exec(navigator.userAgent) != null\\n        ) {\\n          version = parseInt(RegExp.$1);\\n        }\\n        return version;\\n      })();\\n</script>\\n\\t\\n\\n\\t<link rel=\"shortcut icon\" href=\"https://ssl.pstatic.net/imgstock/favi/favicon.ico\" type=\"image/x-icon\">\\n\\t\\n\\t<script type=\"text/javascript\">\\n    (function(){\\n\\t\\tdocument.write(\\n\\t\\t\\t\\t[\\n\\t\\t\\t\\t\\t\\'<link rel=\"apple-touch-icon-precomposed\" href=\"https://ssl.pstatic.net/imgstock/favi/favicon-96x96.png\"/>\\',\\n\\t\\t\\t\\t\\t\\'<link rel=\"apple-touch-icon-precomposed\" sizes=\"180x180\" href=\"https://ssl.pstatic.net/imgstock/favi/favicon-180x180.png\"/>\\',\\n\\t\\t\\t\\t\\t\\'<link rel=\"apple-touch-icon-precomposed\" sizes=\"192x192\" href=\"https://ssl.pstatic.net/imgstock/favi/favicon-192x192.png\"/>\\',\\n\\t\\t\\t\\t\\t\\'<link rel=\"icon\" type=\"image/png\" sizes=\"16x16\" href=\"https://ssl.pstatic.net/imgstock/favi/favicon-16x16.png\"/>\\',\\n\\t\\t\\t\\t\\t\\'<link rel=\"icon\" type=\"image/png\" sizes=\"32x32\" href=\"https://ssl.pstatic.net/imgstock/favi/favicon-32x32.png\"/>\\',\\n\\t\\t\\t\\t\\t\\'<link rel=\"icon\" type=\"image/png\" sizes=\"96x96\" href=\"https://ssl.pstatic.net/imgstock/favi/favicon-96x96.png\"/>\\',\\n\\t\\t\\t\\t\\t\\'<link rel=\"icon\" type=\"image/png\" sizes=\"192x192\" href=\"https://ssl.pstatic.net/imgstock/favi/favicon-192x192.png\"/>\\'\\n\\t\\t\\t\\t]\\n\\t\\t\\t.join(\\'\\\\n\\')\\n\\t\\t);\\n    })();\\n    </script>\\n</head>\\n\\n\\n\\n\\n<body onload=\\'getGNB();\\'>\\n\\n\\n\\n<script type=\"text/javascript\">\\n\\n\\tvar nclk_evt = 3;\\n\\tnclk_do();\\n</script>\\n\\n\\n<script type=\"text/javascript\">\\n\\n\\n\\n\\n\\n\\n\\nvar nsc=\"finance.stockend\";\\n\\n\\nvar ccsrv=\"cc.naver.com\";\\n\\n\\n\\t\\n\\t\\n\\tvar gnb_service=\\'finance\\';\\n\\t\\n\\n\\nvar gnb_logout=document.URL; //GNB에서 로그아웃 후 redirect 될 URL\\nvar gnb_searchbox=\\'off\\'; //미니 검색창을 on 할지 off 할지. default는 off\\nvar gnb_shortnick=\\'off\\'; //닉네임 말줄임(10자)을 on할지 off 할지. default는 off.\\n\\n\\nvar gnb_naverme_layer_open_callback = function(){\\n\\t   var naverLayerSize = gnbNaverMeLayer.getLayerSize();\\n\\t\\t\\n\\t\\tvar me_layers = document.getElementById(\"me_layers\");\\n\\t\\tme_layers.width=naverLayerSize.width;\\n\\t\\tme_layers.height=naverLayerSize.height;};\\n\\nvar gnb_naverme_layer_close_callback = function(){\\n\\t\\t\\n\\t\\t\\tvar me_layers = document.getElementById(\"me_layers\");\\n\\t\\t\\tme_layers.width=\"0\";\\n\\t\\t\\tme_layers.height=\"0\";};\\n</script>\\n\\n\\n<div id=\"u_skip\">\\n\\t<a href=\"#menu\" tabindex=\"1\"><span>메인 메뉴로 바로가기</span></a>\\n\\n\\t\\n\\t\\t<a href=\"#middle\" tabindex=\"2\"><span>본문으로 바로가기</span></a>\\n\\t\\n\\t\\n\\n</div>\\n\\n\\n<div id=\"header\">\\n\\t<div class=\"snb_area\">\\n\\t\\t<div class=\"snb_inner\">\\n\\t\\t\\t<div id=\"gnb_area\">\\n\\t\\t\\t\\t<div id=\"gnb\">\\n\\t\\t\\t\\t\\t<script charset=\"EUC-KR\" type=\"text/javascript\">\\n\\t\\t\\t\\t\\tvar gnb_service = \"gnbtest\";\\n                    var gnb_template = location.protocol == \"http:\" ? \"gnb_quirks_euckr\" : \"gnb_utf8\" ;\\n\\t\\t\\t\\t\\tvar gnb_dark = false;\\n\\t\\t\\t\\t\\tvar gnb_brightness = 1;\\n\\t\\t\\t\\t\\tvar gnb_logout=encodeURIComponent(location.href);\\n\\t\\t\\t\\t\\tvar gnb_one_naver = 1;\\n\\t\\t\\t\\t\\t</script>\\n\\t\\t\\t\\t\\t\\n\\t\\t\\t\\t\\t\\t\\n\\t\\t\\t\\t\\t\\t\\n\\t\\t\\t\\t\\t\\t\\t<script type=\"text/javascript\" charset=\"utf-8\" src=\"https://ssl.pstatic.net/static.gn/templates/gnb_utf8.nhn?20220913\">\\n                    \\t\\t</script>\\n\\t\\t\\t\\t\\t\\t\\n\\t\\t\\t\\t\\t\\n\\t\\t\\t\\t</div>\\n\\t\\t\\t</div>\\n\\n\\t\\t\\t<div class=\"sta\">\\n\\t\\t\\t\\t<h1 class=\"logo\"> <a href=\"https://www.naver.com/\" class=\"logo_naver\" onClick=\"clickcr(this, \\'STA.naver\\', \\'\\', \\'\\', event);\"><span class=\"blind\">네이버</span></a>\\n\\t\\t\\t\\t<a href=\"/\" class=\"logo_service\" onClick=\"clickcr(this, \\'STA.finance\\', \\'\\', \\'\\', event);\"><span class=\"blind\">금융</span></a> </h1>\\n\\t\\t\\t\\t<form name=\"search\" action=\"/search/search.naver\"  method=\"get\"\\n\\t\\t\\t\\t\\tonsubmit=\"return delayed_submit(this)\" style=\"margin:0; padding:0;\">\\n\\t\\t\\t\\t<fieldset>\\n\\t\\t\\t\\t\\t<legend>검색</legend>\\n\\t\\t\\t\\t\\t<div class=\"snb_search_box\">\\n\\t\\t\\t\\t\\t\\t<div class=\"snb_search_box_sub\">\\n\\t\\t\\t\\t\\t\\t\\t<input id=\"stock_items\" type=\"text\" title=\"검색\" name=\"query\" value=\"종목명&middot;지수명 입력\" accesskey=\"s\" class=\"snb_search_text snb_default\" autocomplete=\"off\">\\n\\t\\t\\t\\t\\t\\t\\t<a id=\"nautocomplete\" href=\"#\" onclick=\"return false\" class=\"btn_arrow\"><span class=\"blind\">자동완성 펼치기</span></a>\\n\\t\\t\\t\\t\\t\\t</div>\\n\\t\\t\\t\\t\\t\\t<div class=\"auto_area\">\\n\\t\\t\\t\\t\\t\\t\\t<h2 class=\"blind\">자동완성</h2>\\n\\t\\t\\t\\t\\t\\t\\t<div id=\"autoFrame\" style=\"display: none;\">\\n\\t\\t\\t\\t\\t\\t\\t\\t<div class=\"wrap\" id=\"atcmp\" style=\"display:none;\">\\n\\t\\t\\t\\t\\t\\t\\t\\t\\t<div class=\"wrap_in\">\\n\\t\\t\\t\\t\\t\\t\\t\\t\\t\\t<div class=\"words\">\\n\\t\\t\\t\\t\\t\\t\\t\\t\\t\\t\\t<ul class=\"_resultBox\">\\n\\t\\t\\t\\t\\t\\t\\t\\t\\t\\t\\t\\t<li>\\n\\t\\t\\t\\t\\t\\t\\t\\t\\t\\t\\t\\t\\t<a href=\"#\" onclick=\"clickcr(this, \\'AUT.list\\', \\'\\', \\'\\', event); return false;\" class=\"_au_real_list\">\\n\\t\\t\\t\\t\\t\\t\\t\\t\\t\\t\\t\\t\\t\\t<span class=\"num _au_real_list\">@code@</span>\\n\\t\\t\\t\\t\\t\\t\\t\\t\\t\\t\\t\\t\\t\\t<span class=\"_au_real_list\">@txt@</span>\\n\\t\\t\\t\\t\\t\\t\\t\\t\\t\\t\\t\\t\\t\\t<span class=\"type _au_real_list\">@market@</span>\\n\\t\\t\\t\\t\\t\\t\\t\\t\\t\\t\\t\\t\\t</a>\\n\\t\\t\\t\\t\\t\\t\\t\\t\\t\\t\\t\\t\\t<div style=\"display:none\" class=\"_au_full\">@full_txt@</div>\\n\\t\\t\\t\\t\\t\\t\\t\\t\\t\\t\\t\\t\\t<div style=\"display:none\" class=\"_au_code\">@in_code@</div>\\n\\t\\t\\t\\t\\t\\t\\t\\t\\t\\t\\t\\t\\t<div style=\"display:none\" class=\"_au_name\">@in_name@</div>\\n\\t\\t\\t\\t\\t\\t\\t\\t\\t\\t\\t\\t\\t<div style=\"display:none\" class=\"_au_link\">@in_link@</div>\\n\\t\\t\\t\\t\\t\\t\\t\\t\\t\\t\\t\\t\\t<div style=\"display:none\" class=\"_au_market\">@in_market@</div>\\n\\t\\t\\t\\t\\t\\t\\t\\t\\t\\t\\t\\t</li>\\n\\t\\t\\t\\t\\t\\t\\t\\t\\t\\t\\t</ul>\\n\\t\\t\\t\\t\\t\\t\\t\\t\\t\\t</div>\\n\\t\\t\\t\\t\\t\\t\\t\\t\\t\\t<p class=\"func\">\\n\\t\\t\\t\\t\\t\\t\\t\\t\\t\\t\\t<span><a href=\"#\" class=\"fire_event funoff\" onclick=\"clickcr(this, \\'AUT.x\\', \\'\\', \\'\\', event); smartSearch.unuse(); return false;\" >기능끄기</a></span>\\n\\t\\t\\t\\t\\t\\t\\t\\t\\t\\t</p>\\n\\t\\t\\t\\t\\t\\t\\t\\t\\t</div>\\n\\t\\t\\t\\t\\t\\t\\t\\t</div>\\n\\t\\t\\t\\t\\t\\t\\t\\t<!-- 현재 자동완성 기능을 사용하고 계십니다 -->\\n\\t\\t\\t\\t\\t\\t\\t\\t<div class=\"wrap\" id=\"atcmpIng\" style=\"display:none;\">\\n\\t\\t\\t\\t\\t\\t\\t\\t\\t<div class=\"wrap_in\">\\n\\t\\t\\t\\t\\t\\t\\t\\t\\t\\t<div class=\"words\">\\n\\t\\t\\t\\t\\t\\t\\t\\t\\t\\t\\t<p class=\"msg\">\\n\\t\\t\\t\\t\\t\\t\\t\\t\\t\\t\\t\\t현재 자동완성 기능을 사용하고 계십니다.\\n\\t\\t\\t\\t\\t\\t\\t\\t\\t\\t\\t</p>\\n\\t\\t\\t\\t\\t\\t\\t\\t\\t\\t</div>\\n\\t\\t\\t\\t\\t\\t\\t\\t\\t\\t<p class=\"func\">\\n\\t\\t\\t\\t\\t\\t\\t\\t\\t\\t\\t<span><a href=\"#\" class=\"fire_event funoff\" onclick=\"clickcr(this, \\'AUT.x\\', \\'\\', \\'\\', event); smartSearch.unuse(); return false;\">기능끄기</a></span>\\n\\t\\t\\t\\t\\t\\t\\t\\t\\t\\t</p>\\n\\t\\t\\t\\t\\t\\t\\t\\t\\t</div>\\n\\t\\t\\t\\t\\t\\t\\t\\t</div>\\n\\t\\t\\t\\t\\t\\t\\t\\t<!--// 현재 자동완성 기능을 사용하고 계십니다 -->\\n\\t\\t\\t\\t\\t\\t\\t\\t<!-- 자동완성 기능이 활성화 -->\\n\\t\\t\\t\\t\\t\\t\\t\\t<div class=\"wrap\" id=\"atcmpStart\" style=\"display:none;\">\\n\\t\\t\\t\\t\\t\\t\\t\\t\\t<div class=\"wrap_in\">\\n\\t\\t\\t\\t\\t\\t\\t\\t\\t\\t<div class=\"words\">\\n\\t\\t\\t\\t\\t\\t\\t\\t\\t\\t\\t<p class=\"msg\">\\n\\t\\t\\t\\t\\t\\t\\t\\t\\t\\t\\t\\t자동완성 기능이 활성화되었습니다.\\n\\t\\t\\t\\t\\t\\t\\t\\t\\t\\t\\t</p>\\n\\t\\t\\t\\t\\t\\t\\t\\t\\t\\t</div>\\n\\t\\t\\t\\t\\t\\t\\t\\t\\t\\t<p class=\"func\">\\n\\t\\t\\t\\t\\t\\t\\t\\t\\t\\t\\t<span><a href=\"#\" class=\"fire_event funoff\"  onclick=\"clickcr(this, \\'AUT.x\\', \\'\\', \\'\\', event); smartSearch.unuse(); return false;\">기능끄기</a></span>\\n\\t\\t\\t\\t\\t\\t\\t\\t\\t\\t</p>\\n\\t\\t\\t\\t\\t\\t\\t\\t\\t</div>\\n\\t\\t\\t\\t\\t\\t\\t\\t</div>\\n\\t\\t\\t\\t\\t\\t\\t</div>\\n\\t\\t\\t\\t\\t\\t</div>\\n\\t\\t\\t\\t\\t\\t<button type=\"submit\" class=\"snb_search_btn\" onclick=\"clickcr(this, \\'STA.search\\', \\'\\', \\'\\', event);\" alt=\"검색\"><span class=\"blind\">검색</span></button>\\n\\t\\t\\t\\t\\t\\t<a href=\"#\" target=\"_blank\" class=\"snb_search_btn-total\" onclick=\"itegrationSearch();clickcr(this, \\'STA.nx\\', \\'\\', \\'\\', event);return false;\">통합검색</a>\\n\\t\\t\\t\\t\\t</div>\\n\\t\\t\\t\\t</fieldset>\\n\\t\\t\\t\\t</form>\\n\\t\\t\\t</div>\\n\\t\\t</div>\\n\\t</div>\\n\\t<div class=\"lnb_area \">\\n\\t\\t<div class=\"lnb_inner\">\\n\\t\\t\\t<div id=\"menu\">\\n\\t\\t\\t\\t<ul class=\"menu\">\\n\\t\\t\\t\\t\\t<li class=\"m1 first \"><a href=\"/\" onClick=\"clickcr(this, \\'LNB.home\\', \\'\\', \\'\\', event);\"><span class=\"tx\">금융 홈</span></a></li>\\n\\t\\t\\t\\t\\t<li class=\"m2 on\"><a href=\"/sise/\" onClick=\"clickcr(this, \\'LNB.sise\\', \\'\\', \\'\\', event);\"><span class=\"tx\">국내증시</span></a></li>\\n\\t\\t\\t\\t\\t<li class=\"m3 \"><a href=\"/world/\" onClick=\"clickcr(this, \\'LNB.world\\', \\'\\', \\'\\', event);\"><span class=\"tx\">해외증시</span></a></li>\\n\\t\\t\\t\\t\\t<li class=\"m4 \"><a href=\"/marketindex/\" onClick=\"clickcr(this, \\'LNB.market\\', \\'\\', \\'\\', event);\"><span class=\"tx\">시장지표</span></a></li>\\n\\t\\t\\t\\t\\t<li class=\"m6 \"><a href=\"/research/\" onClick=\"clickcr(this, \\'LNB.research\\', \\'\\', \\'\\', event);\"><span class=\"tx\">리서치</span></a></li>\\n\\t\\t\\t\\t\\t<li class=\"m7 \"><a href=\"/news/\"><span class=\"tx\">뉴스</span></a></li>\\n\\t\\t\\t\\t\\t<li class=\"m8 \"><a href=\"/mystock/\" onClick=\"clickcr(this, \\'LNB.mystock\\', \\'\\', \\'\\', event);\"><span class=\"tx\">MY</span></a></li>\\n\\t\\t\\t\\t</ul>\\n\\t\\t\\t</div>\\n\\t\\t</div>\\n\\t</div>\\n\\t\\n\\t\\n\\t\\n\\t\\n\\n\\t\\n\\t<script type=\"text/JavaScript\">\\n\\t\\t/* lcs 집계 */\\n        ;(function(){\\n            var eventType = \"onpageshow\" in window ? \"pageshow\" : \"load\";\\n            jindo.$Fn(function(){\\n                lcs_do();\\n            }).attach(window, eventType);\\n        })();\\n\\n\\t\\t/* 검색 자동완성 [ 인자1 : 검색input의 ID, 인자2 : iframe 태그 ID ]   */\\n\\t\\t// AutoComplete 생성\\n\\t\\tvar acDomain = \"ac.finance.naver.com\";\\n        if (location.hostname.indexOf(\"staging-\") > -1) {\\n            acDomain = \"staging-\" + acDomain;\\n        } else if (location.hostname.indexOf(\"dev-\") > -1 || location.hostname.indexOf(\"localhost\") > -1 || location.hostname.indexOf(\"local-\") > -1) {\\n\\t\\t\\tacDomain = \"dev-\" + acDomain;\\n\\t\\t}\\n\\n        var acUrl = \"https://\" + acDomain + \"/ac\";\\n\\n\\t\\tsmartSearch = new nhn.Autocomplete(\\n\\t\\t\\t// InputManager 생성\\n\\t\\t\\tnew nhn.AcInputManager(jindo.$(\"stock_items\")),\\n\\t\\t\\t// DataManager 생성\\n\\t\\t\\tnew nhn.AcDataManager(acUrl, \"jsonp\", \"get\", {\\n                    st: \"111\",\\n                    r_lt : \"111\",\\n                    q_enc : \"euc-kr\",\\n                    r_enc : \"euc-kr\",\\n                    frm: \"stock\"}),\\n\\t\\t\\t// ViewManager 생성\\n\\t\\t\\tnew nhn.AcStockViewManager(jindo.$(\"autoFrame\"), jindo.$(\"nautocomplete\"), {\\n                                        strMax: 200,\\n                                        listMax: [7, 2, 2],\\n                                        aRedirectUrl : [\\n                            \\t\\t\\t\"https://finance.naver.com\",\\n                            \\t\\t\\t\"https://finance.naver.com\",\\n                            \\t\\t\\t\"https://finance.naver.com\"]}),\\n\\t\\t\\t// Autocomplete Option\\n            {formId:\"search\", cookieDomain:location.hostname, cookieName:\"NaverCommonStock\"});\\n\\n\\t\\t\\tsmartSearch.attach({\\n\\t            onFocus: function () {\\n\\t                var weInput = jindo.$Element(\\'stock_items\\');\\n\\t                if (weInput && weInput.hasClass(\"snb_default\")) {\\n\\t                        weInput.text(\"\");\\n\\t                        weInput.removeClass(\\'snb_default\\');\\n\\t                }\\n\\t            }\\n\\t        });\\n\\n\\t\\t/* 통합검색  start ----->  */\\n\\t\\t//document.domain = \\'naver.com\\';\\n\\t\\tvar sSearchHintText = \\'종목명·지수명·환율명·원자재명 입력\\';\\n\\t\\tfunction itegrationSearch() {\\n\\t\\t\\tvar query = jindo.$(\\'stock_items\\').value;\\n\\n\\t\\t\\tif ( query == \\'\\'  || encodeURIComponent(query) == encodeURIComponent(sSearchHintText))\\n\\t\\t\\t{\\n\\t\\t\\t\\talert ( \\'검색어를 입력해 주세요.\\' );\\n\\t\\t\\t\\treturn;\\n\\t\\t\\t}\\n\\n            var url = location.protocol + \"//search.naver.com/search.naver?sm=sta_hty.finance&where=nexearch&ie=UTF8&query=\" + encodeURIComponent(query);\\n            window.open(url, \"_blank\");\\n\\n\\t\\t\\treturn false;\\n\\t\\t}\\n\\n\\t\\tfunction delayed_submit(object) {\\n\\t\\t\\tif (navigator.userAgent.indexOf(\\'MSIE\\') == -1) {\\n\\t\\t\\t\\twindow.setTimeout(function() {stock_search(object)}, 300);\\n\\t\\t\\t} else {\\n\\t\\t\\t\\tstock_search(object);\\n\\t\\t\\t}\\n\\t\\t\\treturn false;\\n\\t\\t}\\n\\n\\t\\tfunction stock_search (object)\\n\\t\\t{\\n\\t\\t\\tquery = object.query.value.replace(/^\\\\s*/,\\'\\').replace(/\\\\s*$/,\\'\\');\\t// trim\\n\\t\\t\\tobject.query.value=query;\\n\\n\\t\\t\\tif ( query == \\'\\' || query == sSearchHintText.replace(/^\\\\s*/,\\'\\').replace(/\\\\s*$/,\\'\\'))\\n\\t\\t\\t{\\n\\t\\t\\t\\talert ( \\'검색어를 입력해 주세요.\\' );\\n\\t\\t\\t\\treturn;\\n\\t\\t\\t}\\n\\t\\t\\telse {\\n\\t\\t\\t\\tobject.submit();\\n\\t\\t\\t}\\n\\t\\t}\\n\\t\\t/* <---------- 통합검색  end */\\n\\n\\t\\tfunction popup()\\n\\t\\t{\\n\\t\\t\\twin = window.open(\\'/template/group_limit_pop.jsp\\',\\'finan_popup\\',\\'width=569 height=278 scrollbars=no status=no\\');\\n\\t\\t\\twin.focus();\\n\\t\\t}\\n\\t</script>\\n\\n\\t<iframe id=\"me_layers\" name=\"test\" title=\"네이버미 영역\" width=\"0\" height=\"0\" scrolling=\"no\" frameborder=\"0\" style=\"display:block;top: 22px; right: 209px; position: absolute; z-index: 15;\"></iframe>\\n</div>\\n<div id=\"wrap\"  >\\n\\t\\n\\n\\n<script language=\"javascript\" src=\"https://ssl.pstatic.net/imgstock/static.pc/20220907184351/js/ellipse.js\"></script>\\n<script type=\"text/javascript\">\\n\\tfunction financialInfoCommentToggle() {\\n\\t\\tif(jindo.$Element(jindo.$$.getSingle(\"div.ly_moreifrs\")).visible()) {\\n\\t\\t\\tjindo.$Element(jindo.$$.getSingle(\"a.more_ifrs\")).html(\"항목별 상세기준 보기\");\\n\\t\\t\\tjindo.$Element(jindo.$$.getSingle(\"a.more_ifrs\")).removeClass(\"fd\");\\n\\t\\t} else {\\n\\t\\t\\tjindo.$Element(jindo.$$.getSingle(\"a.more_ifrs\")).html(\"항목별 상세기준 닫기\");\\n\\t\\t\\tjindo.$Element(jindo.$$.getSingle(\"a.more_ifrs\")).addClass(\"fd\");\\n\\t\\t}\\n\\t\\tjindo.$Element(jindo.$$.getSingle(\"div.ly_moreifrs\")).toggle();\\n\\t}\\n\\n</script>\\n\\n\\n\\n\\t\\n\\t\\n\\t\\n\\t\\n\\n<script language=javascript src=\\'https://ssl.pstatic.net/imgstock/static.pc/20220907184351/js/recent_code.js\\'></script>\\n<script language=javascript>addCode(\\'066570\\');</script>\\n<script language=\"JavaScript\" src=\"https://ssl.pstatic.net/imgstock/static.pc/20220907184351/js/summary.js\"></script>\\n<script language=\"JavaScript\">fchartStatus.setChartStatus(\\'on\\');</script>\\n<style>\\n\\n.hide_chart {\\nposition: absolute;\\ntop: 0;\\nleft: -9999px;\\n}\\n</style>\\n\\t<div id=\"middle\" class=\"new_totalinfo\">\\n\\t\\t\\n\\n\\t\\t\\n\\t\\t\\t\\n\\t\\t\\t\\n\\t\\t\\t\\n\\t\\t\\t\\t\\n\\t\\t\\t\\n\\t\\t\\n\\n\\t\\t\\n\\t\\t\\t\\n\\t\\t\\t\\t\\n\\t\\t\\t\\t\\n\\t\\t\\t\\n\\t\\t\\t\\n\\t\\t\\n\\n\\t\\t\\n        <dl class=\"blind\">\\n\\t        <dt>종목 시세 정보</dt>\\n\\t        <dd>2022년 09월 13일 16시 11분 기준 장마감</dd>\\n\\t        <dd>종목명 LG전자</dd>\\n\\t        <dd>종목코드 066570 코스피</dd>\\n\\t        <dd>현재가 97,900 전일대비 상승 4,100 플러스 4.37 퍼센트</dd>\\n\\t        <dd>전일가 93,800</dd>\\n\\t        <dd>시가 95,700</dd>\\n\\t        <dd>고가 98,200</dd>\\n\\t        <dd>상한가 121,500</dd>\\n\\t        <dd>저가 95,100</dd>\\n\\t        <dd>하한가 65,700</dd>\\n\\t        <dd>거래량 700,027</dd>\\n\\t        <dd>거래대금 68,025백만</dd>\\n        </dl>\\n        \\n\\n\\t\\t<div class=\"h_company\">\\n\\t\\t \\t<div class=\"wrap_company\">\\n\\t\\t\\t\\t<h2><a href=\"#\" onClick=\"clickcr(this, \\'sop.title\\', \\'\\', \\'\\', event);window.location.reload();\">LG전자</a></h2>\\n\\n\\t\\t\\t\\t<div class=\"description\">\\n\\t\\t\\t\\t\\t<span class=\"code\">066570</span>\\n\\t\\t\\t\\t\\t\\n\\t\\t\\t\\t\\t\\t<img src=\"https://ssl.pstatic.net/imgstock/item_renewal/btn_kospi.gif\" width=\"33\" height=\"16\" alt=\"코스피\" class=\"kospi\">\\n\\t\\t\\t\\t\\t\\n\\t\\t\\t\\t\\t\\n\\t\\t\\t\\t\\t\\n\\t\\t\\t\\t\\t<span class=\"blind\">날짜</span>\\n\\t\\t\\t\\t\\t<span id=\"time\">\\n\\t\\t\\t\\t\\t\\n\\t\\t\\t\\t\\t\\t\\n\\t\\t\\t\\t\\t\\t\\n\\t\\t\\t\\t\\t\\t\\n\\t\\t\\t\\t\\t\\t\\t<em class=\"date\">2022.09.13 <span>기준(장마감)</span></em>\\n\\t\\t\\t\\t\\t\\t\\n\\t\\t\\t\\t\\t\\n\\t\\t\\t\\t\\t</span>\\n\\n\\t\\t\\t\\t\\t<em class=\"realtime\">\\n\\t\\t\\t\\t\\t\\t<span class=\"blind\">실시간</span>\\n\\t\\t\\t\\t\\t</em>\\n\\t\\t\\t\\t\\t\\t\\n\\t\\t\\t\\t\\t\\t\\n\\t\\t\\t\\t\\t\\t\\t\\n\\t\\t\\t\\t\\t\\t\\t<em class=\"summary\">\\n\\t\\t\\t\\t\\t\\t\\n\\t\\t\\t\\t\\t\\t\\t<a href=\"#\" onclick=\"togglePannel(\\'summary_lyr\\'); return false;\"></a>\\n\\t\\t\\t\\t\\t\\t\\t\\n\\t\\t\\t\\t\\t\\t\\t<span class=\"blind\">기업개요</span>\\n\\t\\t\\t\\t\\t\\t\\t<div id=\"summary_lyr\" class=\"summary_lyr\" style=\"display:none;top:22px;left:0\">\\n\\t\\t\\t\\t\\t\\t\\t\\t<iframe id=\"summary_ifr\" name=\"summary_ifr\" width=\"410\" height=\"\" src=\"\" scrolling=\"no\" frameborder=\"0\" style=\"position:absolute;left:0;top:-2;z-index:20\"></iframe>\\n\\t\\t\\t\\t\\t\\t\\t\\t<div id=\"summary_info\" class=\"summary_info\">\\n\\t\\t\\t\\t\\t\\t\\t\\t\\t<h4>기업개요</h4>\\n\\t\\t\\t\\t\\t\\t\\t\\t\\t\\n\\t\\t\\t\\t\\t\\t\\t\\t\\t\\t<p>동사와 종속기업의 주요사업부문은 Home Appliance & Air 솔루션, Home Entertainment, Mobile Communications, Vehicle component 솔루션 등 6개로 구분.</p>\\n\\t\\t\\t\\t\\t\\t\\t\\t\\t\\n\\t\\t\\t\\t\\t\\t\\t\\t\\t\\n\\t\\t\\t\\t\\t\\t\\t\\t\\t\\t<p>OLED TV는 초슬림, 월페이퍼, 롤러블 TV 등 지속적인 혁신 제품 출시로 프리미엄 시장을 지속 선도하고 있음.</p>\\n\\t\\t\\t\\t\\t\\t\\t\\t\\t\\n\\t\\t\\t\\t            \\t\\t\\n\\t\\t\\t\\t\\t\\t\\t\\t\\t\\t<p>디스플레이 오디오와 내비게이션 영역에서는 동사의 디스플레이 및 소프트웨어 역량을 활용하여 제품 차별화중.</p>\\n\\t\\t\\t\\t\\t\\t\\t\\t\\t\\n\\t\\t\\t\\t\\t\\t\\t\\t\\t\\n\\t\\t\\t\\t\\t\\t\\t\\t\\t\\n\\t\\t\\t\\t\\t\\t\\t\\t\\t<div class=\"txt_notice\">출처 : 에프앤가이드</div>\\n\\t\\t\\t\\t\\t\\t\\t\\t\\t\\t<div class=\"btn_area_top\">\\n\\t\\t\\t\\t\\t\\t\\t\\t\\t\\t\\t<a href=\"#\" onclick=\"hidePannel(\\'summary_lyr\\'); return false;\"><img src=\"https://ssl.pstatic.net/static/nfinance/img/btn_close.gif\" alt=\"닫기\" width=\"11\" height=\"11\"></a>\\n\\t\\t\\t\\t\\t\\t\\t\\t\\t\\t</div>\\n\\t\\t\\t\\t\\t\\t\\t\\t\\t<div class=\"bg_btm\"></div>\\n\\t\\t\\t\\t\\t\\t\\t\\t</div>\\n\\t\\t\\t\\t\\t\\t\\t\\t<span class=\"bg_lt\"></span>\\n\\t\\t\\t\\t\\t\\t\\t\\t<span class=\"bg_rt\"></span>\\n\\t\\t\\t\\t\\t\\t\\t\\t<div class=\"bu_arrow\"></div>\\n\\t\\t\\t\\t\\t\\t\\t</div>\\n\\t\\t\\t\\t\\t\\t</em>\\n\\t\\t\\t\\t\\t\\t\\n\\t\\t\\t\\t\\t\\t\\n\\t\\t\\t\\t\\t\\t\\n\\t\\t\\t\\t\\t\\t\\n\\t\\t\\t\\t\\t\\t\\n\\t\\t\\t</div>\\n\\t\\t</div>\\n\\n\\t\\t<div class=\"quick\">\\n\\t\\t\\t<p>\\n\\t\\t\\t\\t<a href=\"#\" class=\"snb_top1\" onClick=\"clickcr(this,\\'sop.2\\',\\'\\',\\'\\',event);\"><span class=\"blind\">MY STOCK 추가</span></a>\\n\\t\\t\\t\\t<a href=\"javascript:quickorder(\\'on\\')\" class=\"snb_top3\" onClick=\"clickcr(this,\\'sop.3\\',\\'\\',\\'\\',event);\"><span class=\"blind\">빠른주문</span></a>\\n\\t\\t\\t</p>\\n\\t\\t\\t\\n\\t\\t\\t<div class=\"ly_lstmove blind NE=a:sop*m\">\\n\\t\\t\\t\\t<span class=\"bg\"></span>\\n\\t\\t\\t\\t<div class=\"txt _ly_group\">\\n\\t\\t\\t\\t\\t<div class=\"bx_sel scr_white2 _ly_group_list\">\\n\\t\\t\\t\\t\\t\\t<ul></ul>\\n\\t\\t\\t\\t\\t</div>\\n\\t\\t\\t\\t\\t<div class=\"bx_sel _ly_group_blank\" style=\"display:none;\">\\n\\t\\t\\t\\t\\t\\t<p class=\"txt_inner type7\">추가할 그룹이 없습니다.<br>그룹을 추가해주세요.</p>\\n\\t\\t\\t\\t\\t</div>\\n\\t\\t\\t\\t\\t<p class=\"rgt\"><button type=\"button\" class=\"btn_spr btn_groupadd2 NPI=a:add\"><span class=\"blind\">그룹추가</span></button></p>\\n\\t\\t\\t\\t\\t<p>\\n\\t\\t\\t\\t\\t\\t<button type=\"button\" class=\"btn_spr btn_cfm2 _btn_ok NPI=a:confirm\"><span class=\"blind\">확인</span></button>\\n\\t\\t\\t\\t\\t\\t<button type=\"button\" class=\"btn_spr btn_clse2 _btn_cancel NPI=a:close\"><span class=\"blind\">닫기</span></button>\\n\\t\\t\\t\\t\\t</p>\\n\\t\\t\\t\\t</div>\\n\\t\\t\\t\\t<div class=\"txt _ly_message\" style=\"display:none;\">\\n\\t\\t\\t\\t</div>\\n\\t\\t\\t</div>\\n\\t\\t\\t\\n\\n\\t        \\n            <div class=\"layer_quick_order\" id=\"quickOrderArea\" style=\"display:none\">\\n                <div class=\"content\">\\n                    <h5>네이버 주식거래연결<br>빠른 주문을 도와드립니다!</h5>\\n                    <ul>\\n                    <li>본 서비스는 고객님의 빠른 주문을 돕기 위해<br><span>증권사의 로그인을 연결</span>해드리고 있습니다.</li>\\n                    <li>고객님이 보유하고 계신 증권사를 클릭한 후<br><span>증권사의 아이디, 비밀번호, 공인인증서로 주문</span>을<br>하실 수 있습니다. </li>\\n                    <li>증권사 로그인 이후 시스템 문제가 발생하면,<br><span>증권사 고객센터로 직접 문의</span> 하시기 바랍니다.   </li>\\n                    <li>네이버는 증권사 서비스의 시스템 장애에 따른<br>법적 책임을 지지 않습니다. </li>\\n                    </ul>\\n                    \\n                    <div class=\"ci_area\">\\n                    \\t<div id=\"quickOrderCiBanner0\"></div>\\n                    \\t<div id=\"quickOrderCiBanner1\"></div>\\n                    \\t<div id=\"quickOrderCiBanner2\"></div>\\n                    \\t<div id=\"quickOrderCiBanner3\"></div>\\n                    </div>\\n                    <div class=\"btn_area_btm\"><a href=\"javascript:quickorder(\\'off\\')\"><img src=\"https://ssl.pstatic.net/imgstock/item_renewal/btn_close.gif\" alt=\"닫기\" width=\"38\" height=\"20\"></a></div>\\n                    <div class=\"btn_area_top\"><a href=\"javascript:quickorder(\\'off\\')\"><img src=\"https://ssl.pstatic.net/imgstock/item_renewal/btn_close_x.gif\" alt=\"닫기\" width=\"19\" height=\"19\"></a></div>\\n                </div>\\n            </div>\\n            \\n\\t\\t</div>\\n\\n\\t\\t\\n\\t</div>\\n\\n\\t<div class=\"content_wrap\">\\n\\t<div id=\"content\">\\n\\n\\t\\t<div id=\"chart_area\" class=\"spot\"><!-- chart가 사라질때  <div class=\"spot spot_short\">-->\\n\\t\\t\\t<div class=\"rate_info\">\\n\\n\\t\\t\\t\\t\\n                <dl class=\"blind\">\\n                        <dt><strong>LG전자</strong></dt>\\n                        <dd>오늘의시세 97,900 포인트</dd>\\n                        <dd>4,100 포인트 상승</dd>\\n                        <dd>4.37% 플러스</dd>\\n                </dl>\\n                \\n\\n\\t\\t\\t\\t<div class=\"today\">\\n\\t\\t\\t\\t\\t<p class=\"no_today\">\\n\\t\\t\\t\\t\\t\\t\\n\\t\\t\\t\\t\\t\\t\\t\\n\\t\\t\\t\\t\\t\\t\\t\\t<em class=\"no_up\">\\n\\t\\t\\t\\t\\t\\t\\t\\n\\t\\t\\t\\t\\t\\t\\t\\n\\t\\t\\t\\t\\t\\t\\t\\n\\t\\t\\t\\t\\t\\t\\n\\t\\t\\t\\t\\t\\t\\t<span class=\"blind\">97,900</span>\\n\\t\\t\\t\\t\\t\\t\\t<span class=\"no9\">9</span><span class=\"no7\">7</span><span class=\"shim\">,</span><span class=\"no9\">9</span><span class=\"no0\">0</span><span class=\"no0\">0</span>\\n\\t\\t\\t\\t\\t\\t</em>\\n\\t\\t\\t\\t\\t</p>\\n\\t\\t\\t\\t\\t<p class=\"no_exday\">\\n\\t\\t\\t\\t\\t\\t<span class=\"sptxt sp_txt1\">전일대비</span>\\n\\t\\t\\t\\t\\t\\t\\n\\t\\t\\t\\t\\t\\t\\t\\n\\t\\t\\t\\t\\t\\t\\t\\n\\t\\t\\t\\t\\t\\t\\t\\t<em class=\"no_up\">\\n\\t\\t\\t\\t\\t\\t\\t\\t\\t<span class=\"ico up\">상승</span>\\n\\t\\t\\t\\t\\t\\t\\t\\n\\t\\t\\t\\t\\t\\t\\t\\n\\t\\t\\t\\t\\t\\t\\t\\n\\t\\t\\t\\t\\t\\t\\t\\n\\t\\t\\t\\t\\t\\t\\n\\t\\t\\t\\t\\t\\t\\t<span class=\"blind\">4,100</span>\\n\\t\\t\\t\\t\\t\\t\\t<span class=\"no4\">4</span><span class=\"shim\">,</span><span class=\"no1\">1</span><span class=\"no0\">0</span><span class=\"no0\">0</span>\\n\\t\\t\\t\\t\\t\\t</em>\\n\\t\\t\\t\\t\\t\\t<span class=\"bar\">l</span>\\n\\t\\t\\t\\t\\t\\t\\n\\t\\t\\t\\t\\t\\t\\t\\n\\t\\t\\t\\t\\t\\t\\t\\t<em class=\"no_up\">\\n\\t\\t\\t\\t\\t\\t\\t\\t\\t<span class=\"ico plus\">+</span>\\n\\t\\t\\t\\t\\t\\t\\t\\n\\t\\t\\t\\t\\t\\t\\t\\n\\t\\t\\t\\t\\t\\t\\t\\n\\t\\t\\t\\t\\t\\t\\n\\t\\t\\t\\t\\t\\t\\t<span class=\"blind\">4.37</span>\\n\\t\\t\\t\\t\\t\\t\\t<span class=\"no4\">4</span><span class=\"jum\">.</span><span class=\"no3\">3</span><span class=\"no7\">7</span>\\n\\t\\t\\t\\t\\t\\t\\t<span class=\"per\">%</span>\\n\\t\\t\\t\\t\\t\\t</em>\\n\\t\\t\\t\\t\\t</p>\\n\\t\\t\\t\\t</div>\\n\\t\\t\\t\\t<table summary=\"주요 시세(전일종가, 시고저가, 거래량, 거래대금)을 제공합니다.\" class=\"no_info\">\\n\\t\\t\\t\\t<caption>주요 시세</caption>\\n\\t\\t\\t\\t<colgroup><col><col width=\"214\"><col width=\"157\"></colgroup>\\n\\t\\t\\t\\t<tr>\\n\\t\\t\\t\\t\\t<td class=\"first\">\\n\\t\\t\\t\\t\\t\\t<span class=\"sptxt sp_txt2\">전일</span>\\n\\t\\t\\t\\t\\t\\t<em>\\n\\t\\t\\t\\t\\t\\t\\t<span class=\"blind\">93,800</span>\\n\\t\\t\\t\\t\\t\\t\\t<span class=\"no9\">9</span><span class=\"no3\">3</span><span class=\"shim\">,</span><span class=\"no8\">8</span><span class=\"no0\">0</span><span class=\"no0\">0</span>\\n\\t\\t\\t\\t\\t\\t</em>\\n\\t\\t\\t\\t\\t</td>\\n\\t\\t\\t\\t\\t<td>\\n\\t\\t\\t\\t\\t\\t<span class=\"sptxt sp_txt4\">고가</span>\\n\\t\\t\\t\\t\\t\\t\\n\\t\\t\\t\\t\\t\\t\\t\\n\\t\\t\\t\\t\\t\\t\\t\\n\\t\\t\\t\\t\\t\\t\\t\\t\\n\\t\\t\\t\\t\\t\\t\\t\\t\\t\\n\\t\\t\\t\\t\\t\\t\\t\\t\\t<em class=\"no_up\">\\n\\t\\t\\t\\t\\t\\t\\t\\t\\t\\n\\t\\t\\t\\t\\t\\t\\t\\t\\t\\n\\t\\t\\t\\t\\t\\t\\t\\t\\n\\t\\t\\t\\t\\t\\t\\t\\n\\t\\t\\t\\t\\t\\t\\n\\t\\t\\t\\t\\t\\t\\n\\t\\t\\t\\t\\t\\t\\t\\n\\t\\t\\t\\t\\t\\t\\t<span class=\"blind\">98,200</span><span class=\"no9\">9</span><span class=\"no8\">8</span><span class=\"shim\">,</span><span class=\"no2\">2</span><span class=\"no0\">0</span><span class=\"no0\">0</span>\\n\\t\\t\\t\\t\\t\\t\\n\\t\\t\\t\\t\\t\\t</em>\\n\\t\\t\\t\\t\\t\\t<span class=\"sptxt sp_txt6\">(상한가</span>\\n\\t\\t\\t\\t\\t\\t<em class=\"no_cha\">\\n\\t\\t\\t\\t\\t\\t\\t\\n\\t\\t\\t\\t\\t\\t\\t\\t\\n\\t\\t\\t\\t\\t\\t\\t\\t<span class=\"blind\">121,500</span><span class=\"no1\">1</span><span class=\"no2\">2</span><span class=\"no1\">1</span><span class=\"shim\">,</span><span class=\"no5\">5</span><span class=\"no0\">0</span><span class=\"no0\">0</span>\\n\\t\\t\\t\\t\\t\\t\\t\\n\\t\\t\\t\\t\\t\\t</em>\\n\\t\\t\\t\\t\\t\\t<span class=\"sptxt sp_txt8\">)</span>\\n\\t\\t\\t\\t\\t</td>\\n\\t\\t\\t\\t\\t<td>\\n\\t\\t\\t\\t\\t\\t<span class=\"sptxt sp_txt9\">거래량</span>\\n\\t\\t\\t\\t\\t\\t<em>\\n\\t\\t\\t\\t\\t\\t\\t<span class=\"blind\">700,027</span>\\n\\t\\t\\t\\t\\t\\t\\t<span class=\"no7\">7</span><span class=\"no0\">0</span><span class=\"no0\">0</span><span class=\"shim\">,</span><span class=\"no0\">0</span><span class=\"no2\">2</span><span class=\"no7\">7</span>\\n\\t\\t\\t\\t\\t\\t</em>\\n\\t\\t\\t\\t\\t</td>\\n\\t\\t\\t\\t</tr>\\n\\t\\t\\t\\t<tr>\\n\\t\\t\\t\\t\\t<td class=\"first\">\\n\\t\\t\\t\\t\\t\\t<span class=\"sptxt sp_txt3\">시가</span>\\n\\t\\t\\t\\t\\t\\t\\n\\t\\t\\t\\t\\t\\t\\t\\n\\t\\t\\t\\t\\t\\t\\t\\n\\t\\t\\t\\t\\t\\t\\t\\t\\n\\t\\t\\t\\t\\t\\t\\t\\t\\t\\n\\t\\t\\t\\t\\t\\t\\t\\t\\t<em class=\"no_up\">\\n\\t\\t\\t\\t\\t\\t\\t\\t\\t\\n\\t\\t\\t\\t\\t\\t\\t\\t\\t\\n\\t\\t\\t\\t\\t\\t\\t\\t\\n\\t\\t\\t\\t\\t\\t\\t\\n\\t\\t\\t\\t\\t\\t\\n\\t\\t\\t\\t\\t\\t\\n\\t\\t\\t\\t\\t\\t\\t\\n\\t\\t\\t\\t\\t\\t\\t<span class=\"blind\">95,700</span><span class=\"no9\">9</span><span class=\"no5\">5</span><span class=\"shim\">,</span><span class=\"no7\">7</span><span class=\"no0\">0</span><span class=\"no0\">0</span>\\n\\t\\t\\t\\t\\t\\t\\n\\t\\t\\t\\t\\t\\t</em>\\n\\t\\t\\t\\t\\t</td>\\n\\t\\t\\t\\t\\t<td>\\n\\t\\t\\t\\t\\t\\t<span class=\"sptxt sp_txt5\">저가</span>\\n\\t\\t\\t\\t\\t\\t\\n\\t\\t\\t\\t\\t\\t\\t\\n\\t\\t\\t\\t\\t\\t\\t\\n\\t\\t\\t\\t\\t\\t\\t\\t\\n\\t\\t\\t\\t\\t\\t\\t\\t\\t\\n\\t\\t\\t\\t\\t\\t\\t\\t\\t<em class=\"no_up\">\\n\\t\\t\\t\\t\\t\\t\\t\\t\\t\\n\\t\\t\\t\\t\\t\\t\\t\\t\\t\\n\\t\\t\\t\\t\\t\\t\\t\\t\\n\\t\\t\\t\\t\\t\\t\\t\\n\\t\\t\\t\\t\\t\\t\\n\\t\\t\\t\\t\\t\\t\\n\\t\\t\\t\\t\\t\\t\\t\\n\\t\\t\\t\\t\\t\\t\\t<span class=\"blind\">95,100</span><span class=\"no9\">9</span><span class=\"no5\">5</span><span class=\"shim\">,</span><span class=\"no1\">1</span><span class=\"no0\">0</span><span class=\"no0\">0</span>\\n\\t\\t\\t\\t\\t\\t\\n\\t\\t\\t\\t\\t\\t</em>\\n\\t\\t\\t\\t\\t\\t<span class=\"sptxt sp_txt7\">(하한가</span>\\n\\t\\t\\t\\t\\t\\t<em class=\"no_cha\">\\n\\t\\t\\t\\t\\t\\t\\t\\n\\t\\t\\t\\t\\t\\t\\t\\t\\n\\t\\t\\t\\t\\t\\t\\t\\t<span class=\"no6\">6</span><span class=\"no5\">5</span><span class=\"shim\">,</span><span class=\"no7\">7</span><span class=\"no0\">0</span><span class=\"no0\">0</span>\\n\\t\\t\\t\\t\\t\\t\\t\\n\\t\\t\\t\\t\\t\\t</em>\\n\\t\\t\\t\\t\\t\\t<span class=\"sptxt sp_txt8\">)</span>\\n\\t\\t\\t\\t\\t</td>\\n\\t\\t\\t\\t\\t<td>\\n\\t\\t\\t\\t\\t\\t<span class=\"sptxt sp_txt10\">거래대금</span>\\n\\t\\t\\t\\t\\t\\t<em>\\n\\t\\t\\t\\t\\t\\t\\n\\t\\t\\t\\t\\t\\t\\t\\n\\t\\t\\t\\t\\t\\t\\t\\t<span class=\"blind\">68,025</span>\\n\\t\\t\\t\\t\\t\\t\\t\\t<span class=\"no6\">6</span><span class=\"no8\">8</span><span class=\"shim\">,</span><span class=\"no0\">0</span><span class=\"no2\">2</span><span class=\"no5\">5</span>\\n\\t\\t\\t\\t\\t\\t\\t\\n\\t\\t\\t\\t\\t\\t\\t\\n\\t\\t\\t\\t\\t\\t\\n\\t\\t\\t\\t\\t\\t</em>\\n\\t\\t\\t\\t\\t\\t<span class=\"sptxt sp_txt11\">백만</span>\\n\\t\\t\\t\\t\\t</td>\\n\\t\\t\\t\\t</tr>\\n\\t\\t\\t\\t</table>\\n\\t\\t\\t</div>\\n\\t\\t\\t<div class=\"chart\">\\n\\t\\t\\t\\t<p class=\"blind\">종목 시세 차트</p>\\n\\t\\t\\t\\t\\t<div class=\"chart_control_area\">\\n\\t\\t\\t\\t\\t\\t<dl class=\"line\">\\n\\t\\t\\t\\t\\t\\t\\t<dt>선차트</dt>\\n\\t\\t\\t\\t\\t\\t\\t<dd>\\n\\t\\t\\t\\t\\t\\t\\t\\t<ul>\\n\\t\\t\\t\\t\\t\\t\\t\\t\\t<li class=\"day\"><a href=\"#\" class=\"on\" onclick=\"showChart(\\'day\\')\">1일</a></li>\\n\\t\\t\\t\\t\\t\\t\\t\\t\\t<li class=\"week\"><a href=\"#\" onclick=\"showChart(\\'week\\')\">1주일</a></li>\\n\\t\\t\\t\\t\\t\\t\\t\\t\\t<li class=\"month3\"><a href=\"#\" onclick=\"showChart(\\'month3\\');\">3개월</a></li>\\n\\t\\t\\t\\t\\t\\t\\t\\t\\t<li class=\"year\"><a href=\"#\" onclick=\"showChart(\\'year\\');\">1년</a></li>\\n\\t\\t\\t\\t\\t\\t\\t\\t\\t<li class=\"year3\"><a href=\"#\" onclick=\"showChart(\\'year3\\');\">3년</a></li>\\n\\t\\t\\t\\t\\t\\t\\t\\t\\t<li class=\"year5\"><a href=\"#\" onclick=\"showChart(\\'year5\\');\">5년</a></li>\\n\\t\\t\\t\\t\\t\\t\\t\\t\\t<li class=\"year10\"><a href=\"#\" onclick=\"showChart(\\'year10\\');\">10년</a></li>\\n\\t\\t\\t\\t\\t\\t\\t\\t</ul>\\n\\t\\t\\t\\t\\t\\t\\t</dd>\\n\\t\\t\\t\\t\\t\\t</dl>\\n\\t\\t\\t\\t\\t\\t<dl class=\"bar\">\\n\\t\\t\\t\\t\\t\\t\\t<dt>봉차트</dt>\\n\\t\\t\\t\\t\\t\\t\\t<dd>\\n\\t\\t\\t\\t\\t\\t\\t\\t<ul>\\n\\t\\t\\t\\t\\t\\t\\t\\t\\t<li class=\"day\"><a href=\"#\" onclick=\"showBarChart(\\'day\\');\">일봉</a></li>\\n\\t\\t\\t\\t\\t\\t\\t\\t\\t<li class=\"week\"><a href=\"#\" onclick=\"showBarChart(\\'week\\');\">주봉</a></li>\\n\\t\\t\\t\\t\\t\\t\\t\\t\\t<li class=\"month\"><a href=\"#\" onclick=\"showBarChart(\\'month\\');\">월봉</a></li>\\n\\t\\t\\t\\t\\t\\t\\t\\t</ul>\\n\\t\\t\\t\\t\\t\\t\\t</dd>\\n\\t\\t\\t\\t\\t\\t</dl>\\n\\t\\t\\t\\t\\t</div>\\n\\t\\t\\t\\t\\t<h5 class=\"blind\">이미지 차트</h5>\\n\\t\\t\\t\\t\\t<img id=\"img_chart_area\" src=\"https://ssl.pstatic.net/imgfinance/chart/item/area/day/066570.png?sidcode=1663054844127\" width=\"700\" height=\"289\" alt=\"이미지 차트\" onerror=\"this.src=\\'https://ssl.pstatic.net/imgstock/chart3/world2008/error_700x289.png\\'\">\\n\\t\\t\\t</div>\\n\\t\\t\\t<a href=\"javascript:fchartStatus.showChartArea(\\'066570\\', \\'LG%C0%FC%C0%DA\\', \\'false\\')\" class=\"btn_close\" onClick=\"clickcr(this,\\'sop.toggle\\',\\'\\',\\'\\',event);\">\\n\\t\\t\\t\\t<div id=\"btn_close\">\\n\\t\\t\\t\\t\\t\\n\\t\\t\\t\\t\\t\\t<img src=\"https://ssl.pstatic.net/imgstock/item_renewal/btn_lay_close.gif\" alt=\"차트닫기\" width=\"45\" height=\"11\">\\n\\t\\t\\t\\t\\t\\t\\n\\t\\t\\t\\t\\t\\n\\t\\t\\t\\t</div>\\n\\t\\t\\t</a>\\n\\t\\t</div>\\n\\n<script type=\"text/template\" id=\"summaryTpl\">\\n\\t<div class=\"today\">\\n\\t\\t<p class=\"no_today\">\\n\\t\\t\\t{if rf == 1 || rf == 2}\\n\\t\\t\\t\\t<em class=\"no_up\">\\n\\t\\t\\t{elseif rf == 4 || rf == 5}\\n\\t\\t\\t\\t<em class=\"no_down\">\\n\\t\\t\\t{else}\\n\\t\\t\\t\\t<em class=\"X\">\\n\\t\\t\\t{/if}\\n\\t\\t\\t{js numberFont(changeNumberFormat(=nv))}\\n\\t\\t\\t</em>\\n\\t\\t</p>\\n\\t\\t<p class=\"no_exday\">\\n\\t\\t\\t<span class=\"sptxt sp_txt1\">전일대비</span>\\n\\t\\t\\t{if rf == 1}\\n\\t\\t\\t\\t\\t<em class=\"no_up\">\\n\\t\\t\\t\\t\\t\\t<span class=\"ico up_price\">상한가</span>\\n\\t\\t\\t{elseif rf == 2}\\n\\t\\t\\t\\t\\t<em class=\"no_up\">\\n\\t\\t\\t\\t\\t\\t<span class=\"ico up\">상승</span>\\n\\t\\t\\t{elseif rf == 4}\\n\\t\\t\\t\\t\\t<em class=\"no_down\">\\n\\t\\t\\t\\t\\t\\t<span class=\"ico down_price\">하한가</span>\\n\\t\\t\\t{elseif rf == 5}\\n\\t\\t\\t\\t\\t<em class=\"no_down\">\\n\\t\\t\\t\\t\\t\\t<span class=\"ico down\">하락</span>\\n\\t\\t\\t{else}\\n\\t\\t\\t\\t\\t<em class=\"X\">\\n\\t\\t\\t\\t\\t\\t<span class=\"ico sam\">보합</span>\\n\\t\\t\\t{/if}\\n\\t\\t\\t{js numberFont(changeNumberFormat(=cv))}\\n\\t\\t\\t</em>\\n\\n\\t\\t\\t<span class=\"bar\">l</span>\\n\\t\\t\\t{if rf == 1 || rf == 2}\\n\\t\\t\\t\\t\\t<em class=\"no_up\">\\n\\t\\t\\t\\t\\t\\t<span class=\"ico plus\">+</span>\\n\\t\\t\\t{elseif rf == 4 || rf == 5}\\n\\t\\t\\t\\t\\t<em class=\"no_down\">\\n\\t\\t\\t\\t\\t\\t<span class=\"ico minus\">-</span>\\n\\t\\t\\t{else}\\n\\t\\t\\t\\t\\t<em class=\"X\">\\n\\t\\t\\t{/if}\\n\\t\\t\\t{if cr != null}\\n\\t\\t\\t\\t\\t{js numberFont(changeNumberFormat(=cr.toFixed(2)))}\\n\\t\\t\\t{/if}\\n\\t\\t\\t\\t<span class=\"per\">%</span>\\n\\t\\t\\t</em>\\n\\t\\t</p>\\n\\t</div>\\n\\t<table summary=\"주요 시세(전일종가, 시고저가, 거래량, 거래대금)을 제공합니다.\" class=\"no_info\">\\n\\t<caption>주요 시세</caption>\\n\\t<colgroup><col><col width=\"214\"><col width=\"157\"></colgroup>\\n\\t<tr>\\n\\t\\t<td class=\"first\">\\n\\t\\t\\t<span class=\"sptxt sp_txt2\">전일</span>\\n\\t\\t\\t<em>\\n                {if sv == 0}\\n\\t\\t\\t\\t{js numberFont(changeNumberFormat(=pcv))}\\n                {else}\\n\\t\\t\\t\\t{js numberFont(changeNumberFormat(=sv))}\\n                {/if}\\n\\t\\t\\t</em>\\n\\t\\t</td>\\n\\t\\t<td>\\n\\t\\t\\t<span class=\"sptxt sp_txt4\">고가</span>\\n\\t\\t\\t{if tyn == \"Y\"}\\n\\t\\t\\t\\t<em>\\n\\t\\t\\t{else}\\n\\t\\t\\t\\t{if hv == 0}\\n\\t\\t\\t\\t<em>\\n\\t\\t\\t\\t{elseif pcv < hv}\\n\\t\\t\\t\\t<em class=\"no_up\">\\n\\t\\t\\t\\t{elseif pcv > hv}\\n\\t\\t\\t\\t<em class=\"no_down\">\\n\\t\\t\\t\\t{else}\\n\\t\\t\\t\\t<em>\\n\\t\\t\\t\\t{/if}\\n\\t\\t\\t{/if}\\n\\t\\t\\t{if ms == \"PREOPEN\"}\\n\\t\\t\\t\\t{js numberFont(0)}\\n\\t\\t\\t{else}\\n\\t\\t\\t\\t{js numberFont(changeNumberFormat(=hv))}\\n\\t\\t\\t{/if}\\n\\t\\t\\t</em>\\n\\t\\t\\t<span class=\"sptxt sp_txt6\">(상한가</span>\\n\\t\\t\\t<em class=\"no_cha\">\\n\\t\\t\\t\\t{if ms == \"PREOPEN\"}\\n\\t\\t\\t\\t\\t{js numberFont(0)}\\n\\t\\t\\t\\t{else}\\n\\t\\t\\t\\t\\t{js numberFont(changeNumberFormat(=ul))}\\n\\t\\t\\t\\t{/if}\\n\\t\\t\\t</em>\\n\\t\\t\\t<span class=\"sptxt sp_txt8\">)</span>\\n\\t\\t</td>\\n\\t\\t<td>\\n\\t\\t\\t<span class=\"sptxt sp_txt9\">거래량</span>\\n\\t\\t\\t<em>\\n\\t\\t\\t\\t{js numberFont(changeNumberFormat(=aq))}\\n\\t\\t\\t</em>\\n\\t\\t</td>\\n\\t</tr>\\n\\t<tr>\\n\\t\\t<td class=\"first\">\\n\\t\\t\\t<span class=\"sptxt sp_txt3\">시가</span>\\n\\t\\t\\t{if tyn == \"Y\"}\\n\\t\\t\\t\\t<em>\\n\\t\\t\\t{else}\\n\\t\\t\\t\\t{if ov == 0}\\n\\t\\t\\t\\t<em>\\n\\t\\t\\t\\t{elseif pcv < ov}\\n\\t\\t\\t\\t<em class=\"no_up\">\\n\\t\\t\\t\\t{elseif pcv > ov}\\n\\t\\t\\t\\t<em class=\"no_down\">\\n\\t\\t\\t\\t{else}\\n\\t\\t\\t\\t<em>\\n\\t\\t\\t\\t{/if}\\n\\t\\t\\t{/if}\\n\\t\\t\\t{if ms == \"PREOPEN\"}\\n\\t\\t\\t\\t{js numberFont(0)}\\n\\t\\t\\t{else}\\n\\t\\t\\t\\t{js numberFont(changeNumberFormat(=ov))}\\n\\t\\t\\t{/if}\\n\\t\\t\\t</em>\\n\\t\\t</td>\\n\\t\\t<td>\\n\\t\\t\\t<span class=\"sptxt sp_txt5\">저가</span>\\n\\t\\t\\t{if tyn == \"Y\"}\\n\\t\\t\\t\\t<em>\\n\\t\\t\\t{else}\\n\\t\\t\\t\\t{if lv == 0}\\n\\t\\t\\t\\t<em>\\n\\t\\t\\t\\t{elseif pcv < lv}\\n\\t\\t\\t\\t<em class=\"no_up\">\\n\\t\\t\\t\\t{elseif pcv > lv}\\n\\t\\t\\t\\t<em class=\"no_down\">\\n\\t\\t\\t\\t{else}\\n\\t\\t\\t\\t<em>\\n\\t\\t\\t\\t{/if}\\n\\t\\t\\t{/if}\\n\\t\\t\\t{if ms == \"PREOPEN\"}\\n\\t\\t\\t\\t{js numberFont(0)}\\n\\t\\t\\t{else}\\n\\t\\t\\t\\t{js numberFont(changeNumberFormat(=lv))}\\n\\t\\t\\t{/if}\\n\\t\\t\\t</em>\\n\\t\\t\\t<span class=\"sptxt sp_txt7\">(하한가</span>\\n\\t\\t\\t<em class=\"no_cha\">\\n\\t\\t\\t\\t{if ms == \"PREOPEN\"}\\n\\t\\t\\t\\t\\t{js numberFont(0)}\\n\\t\\t\\t\\t{else}\\n\\t\\t\\t\\t\\t{js numberFont(changeNumberFormat(=ll))}\\n\\t\\t\\t\\t{/if}\\n\\t\\t\\t</em>\\n\\t\\t\\t<span class=\"sptxt sp_txt8\">)</span>\\n\\t\\t</td>\\n\\t\\t<td>\\n\\t\\t\\t<span class=\"sptxt sp_txt10\">거래대금</span>\\n\\t\\t\\t<em>\\n\\t\\t\\t\\t{js numberFont(changeNumberFormat((=aa/1000000).toFixed(0)))}\\n\\t\\t\\t</em>\\n\\t\\t\\t<span class=\"sptxt sp_txt11\">백만</span>\\n\\t\\t</td>\\n\\t</tr>\\n\\t</table>\\n</script>\\n\\n<script type=\"text/javascript\">\\nvar pollingInterval = 2000;\\nvar timer = null;\\nvar pollingAjax = null;\\nvar itemcodes = \\'\\';\\n\\nvar startTimer = function() {\\n\\tclearTimer();\\n\\ttimer = setInterval(\\'doPolling()\\', pollingInterval);\\n}\\n\\nvar clearTimer = function() {\\n\\tif (pollingAjax) {\\n\\t\\tpollingAjax.abort();\\n\\t\\tpollingAjax = null;\\n\\t}\\n\\n\\ttimer = window.clearInterval(timer);\\n}\\n\\nvar doPolling = function() {\\n\\tvar pollingApiUrl = \"https://polling.finance.naver.com/api/realtime?query=SERVICE_ITEM:\" + \"066570\"\\n\\n\\tif (requestType == \\'recent\\' && itemcodes != \"\") {\\n\\t\\tpollingApiUrl += \"|\" + \"SERVICE_RECENT_ITEM:\" + itemcodes;\\n\\t} else if (requestType == \\'mystock\\' && itemcodes != \"\"){\\n\\t\\tpollingApiUrl += \"|\" + \"SERVICE_MYSTOCK_ITEM:\" + itemcodes;\\n\\t}\\n\\n\\tpollingAjax = jindo.$Ajax(pollingApiUrl, {\\n\\t\\ttype : \\'jsonp\\',\\n\\t\\tjsonp_charset : \"euc-kr\",\\n\\t\\tonload : function(response) {\\n\\t\\t\\tif(response != null && response.readyState() == 4) {\\n\\t\\t\\t\\trefreshQuote(response.json());\\n\\t\\t\\t\\tstartTimer();\\n\\t\\t\\t}\\n\\t\\t},\\n\\t\\ttimeout : 2,\\n\\t\\tontimeout : function() {\\n\\t\\t\\tstartTimer();\\n\\t\\t},\\n\\t\\tasync : true\\n\\t});\\n\\tpollingAjax.request();\\n}\\n\\nfunction displayTime(ms, time) {\\n\\tvar result;\\n\\n\\tvar utcDate = new Date(time);\\n\\tutcDate.setMinutes(utcDate.getMinutes() + utcDate.getTimezoneOffset());\\n\\tutcDate.setHours(utcDate.getHours() + 9);\\n\\n\\tvar oDate = jindo.$Date(utcDate);\\n\\n\\tif (ms == \"PREOPEN\") {\\n\\t\\tcloseDate = oDate.format(\\'Y.m.d\\')\\n\\t\\tresult = \\'<em class=\"date\">\\' + oDate.format(\\'Y.m.d\\') + \\' <span>기준(개장전)</span></em> \\';\\n\\t} else if (ms == \"CLOSE\") {\\n\\t\\tresult = \\'<em class=\"date\">\\' + closeDate + \\' <span>기준(장마감)</span></em> \\';\\n\\t} else {\\n\\t\\tcloseDate = oDate.format(\\'Y.m.d\\')\\n\\t\\tresult = \\'<em class=\"date\">\\' + oDate.format(\\'Y.m.d H:i\\') + \\' <span>기준(장중)</span></em> \\';\\n\\t}\\n\\n\\treturn result;\\n}\\n\\n/**\\n * 우측상단 투자정보 영역 중, NAV 값 갱신\\n */\\nfunction refreshEtfNav(etfNav) {\\n\\tvar elEtfNav = jindo.$Element(jindo.$$.getSingle(\"#on_board_last_nav\"));\\n\\tif (elEtfNav != null) {\\n\\t\\tif (etfNav != null) {\\n\\t\\t\\telEtfNav.html(\"<em><strong>\" + changeNumberFormat(etfNav.toFixed(0)) + \"</strong></em>\");\\n\\t\\t} else {\\n\\t\\t\\telEtfNav.html(\"<em><strong>N/A</strong></em>\");\\n\\t\\t}\\n\\t}\\n}\\n\\nfunction refreshInvestmentSummary(nv) {\\n\\tif (!(false && false && false)) {\\n\\t\\treturn;\\n\\t}\\n\\n\\tvar averageBuyingPrice = 0;\\n\\tvar holdingShares = 0;\\n\\n\\tvar elEvaluationProfitAmount = jindo.$Element(jindo.$$.getSingle(\"#evaluation_profit_amount\"));\\n\\t// 평가손익 = (nv - 평균매입가) * 보유수량\\n\\tvar evaluationProfitAmount = (nv - 0) * 0;\\n\\t// 평가수익률 = 평가손익 / (평균매입가 * 보유수량) * 100\\n\\tvar evaluationProfitRate = evaluationProfitAmount / (0 * 0) * 100;\\n\\n\\tvar sPointClass = \"\";\\n\\tvar sSign = \"\";\\n\\tif (evaluationProfitAmount > 0) {\\n\\t\\tsPointClass = \"f_up\";\\n\\t\\tsSign = \"+\";\\n\\t} else {\\n\\t\\tsPointClass = \"f_down\";\\n\\t\\tsSign = \"\";\\n\\t}\\n\\n\\tvar evaluationProfitAmoutText = \"\"\\n\\tif (evaluationProfitAmount > 10000000000) {\\n\\t\\tvar evaluationProfitAmountDivideBillion = evaluationProfitAmount / 100000000;\\n\\t\\tevaluationProfitAmountText = \"<em>\" + sSign + changeNumberFormat(evaluationProfitAmountDivideBillion.toFixed(0)) + \"억</em>\";\\n\\t} else {\\n\\t\\tevaluationProfitAmountText = \"<em>\" + sSign + changeNumberFormat(evaluationProfitAmount) + \"</em>\";\\n\\t}\\n\\n\\tif (elEvaluationProfitAmount != null) {\\n\\t\\telEvaluationProfitAmount.removeClass(\"f_up\");\\n\\t\\telEvaluationProfitAmount.removeClass(\"f_down\");\\n\\t\\telEvaluationProfitAmount.addClass(sPointClass);\\n\\t\\telEvaluationProfitAmount.html(evaluationProfitAmountText);\\n\\t}\\n\\n\\tvar elEvaluationProfitRate = jindo.$Element(jindo.$$.getSingle(\"#evaluation_profit_rate\"));\\n\\tif (elEvaluationProfitRate != null) {\\n\\n\\t\\telEvaluationProfitRate.removeClass(\"f_up\");\\n\\t\\telEvaluationProfitRate.removeClass(\"f_down\");\\n\\t\\telEvaluationProfitRate.addClass(sPointClass);\\n\\n\\t\\telEvaluationProfitRate.html(\"<em>\" + sSign + changeNumberFormat(evaluationProfitRate.toFixed(2)) + \"%</em>\");\\n\\t}\\n}\\n\\n\\nfunction refreshCompanyValue(json) {\\n\\tvar sPer = \"N/A\";\\n\\tvar sKrxPer = \"N/A\";\\n\\t/* if ((json.per !== undefined) && (json.per !== null)) {\\n\\t\\tsPer = converToFixedPointNotation(json.per, 2);\\n\\t}\\n\\n\\tjindo.$A(jindo.$$(\"#_per\")).forEach(function(v) {\\n\\t\\tjindo.$Element(v).text(sPer);\\n\\t}, this); */\\n\\n\\tif ((json.eps !== undefined) && (json.eps !== null)) {\\n\\t\\tsPer = converToFixedPointNotation(json.nv / json.eps, 2);\\n\\t}\\n\\n\\tjindo.$A(jindo.$$(\"#_per\")).forEach(function(v) {\\n\\t\\tjindo.$Element(v).text(sPer);\\n\\t}, this);\\n\\n\\tif ((json.keps !== undefined) && (json.keps !== null)) {\\n\\t\\tsKrxPer = converToFixedPointNotation(json.nv / json.keps, 2);\\n\\t}\\n\\n\\tjindo.$A(jindo.$$(\"#krx_per\")).forEach(function(v) {\\n\\t\\tjindo.$Element(v).text(sKrxPer);\\n\\t}, this);\\n\\n\\tvar sCnsPer = \"N/A\";\\n\\tif ((json.cnsEps !== undefined) && (json.cnsEps !== null)) {\\n\\t\\tsCnsPer = converToFixedPointNotation(json.nv / json.cnsEps, 2);\\n\\t}\\n\\n\\tjindo.$A(jindo.$$(\"#_cns_per\")).forEach(function(v) {\\n\\t\\tjindo.$Element(v).text(sCnsPer);\\n\\t}, this);\\n\\n\\tvar sPbr = \"N/A\";\\n\\tif ((json.bps !== undefined) && (json.bps !== null)) {\\n\\t\\tvar bps = converToFixedPointNotation(json.bps, 0)\\n\\t\\tsPbr = converToFixedPointNotation(json.nv / bps, 2);\\n\\t}\\n\\n\\tjindo.$A(jindo.$$(\"#_pbr\")).forEach(function(v) {\\n\\t\\tjindo.$Element(v).text(sPbr);\\n\\t}, this);\\n\\n\\tvar sDvr = \"N/A\";\\n\\tif ((json.dv !== undefined) && (json.dv !== null)) {\\n\\t\\tvar dv = converToFixedPointNotation(json.dv, 0)\\n\\t\\tsDvr = converToFixedPointNotation((dv * 100)/ json.nv, 2);\\n\\t}\\n\\n\\tjindo.$A(jindo.$$(\"#_dvr\")).forEach(function(v) {\\n\\t\\tjindo.$Element(v).text(sDvr);\\n\\t}, this);\\n}\\n\\nfunction refreshQuote(res) {\\n\\tif(res != null && res.resultCode == \\'success\\') {\\n\\t\\tpollingInterval = res.result.pollingInterval;\\n\\n\\t\\tfor (var index = 0 ; index < res.result.areas.length ; index++) {\\n\\t\\t\\tif (res.result.areas[index].name == \"SERVICE_ITEM\") {\\n\\t\\t\\t\\tvar ms = \"NOT DEFINED\";\\n\\t\\t\\t\\tms = res.result.areas[index].datas[0].ms;\\n\\t\\t\\t\\tdocument.getElementById(\"time\").innerHTML = displayTime(ms, res.result.time);\\n\\n\\t\\t\\t\\tjindo.$Element(jindo.$$.getSingle(\"#chart_area .rate_info\")).html(jindo.$Template(\"summaryTpl\").process(res.result.areas[index].datas[0]));\\n\\n\\t\\t\\t\\trefreshInvestmentSummary(res.result.areas[index].datas[0].nv);\\n\\t\\t\\t\\trefreshEtfNav(res.result.areas[index].datas[0].nav);\\n\\t\\t\\t\\trefreshCompanyValue(res.result.areas[index].datas[0]);\\n\\t\\t\\t} else if (res.result.areas[index].name == \"SERVICE_RECENT_ITEM\") {\\n\\t\\t\\t\\trenderRecentAreaRealtime(\"recent\", res.result.areas[index]);\\n\\t\\t\\t} else if (res.result.areas[index].name == \"SERVICE_MYSTOCK_ITEM\") {\\n\\t\\t\\t\\trenderRecentAreaRealtime(\"mystock\", res.result.areas[index]);\\n\\t\\t\\t}\\n\\t\\t}\\n\\t}\\n}\\n\\nfunction numberFont(value) {\\n\\tvalue = value + \"\";\\n\\tvar result = \"\";\\n\\n\\tfor (i = 0; i < value.length; i++) {\\n\\t\\tvar tmpChar = value.charAt(i);\\n\\n\\t\\tresult += \\'<span class=\"\\';\\n\\t\\tif (tmpChar == \".\") {\\n\\t\\t\\tresult += \"jum\";\\n\\t\\t} else if (tmpChar == \",\") {\\n\\t\\t\\tresult += \"shim\";\\n\\t\\t} else {\\n\\t\\t\\tresult += \"no\" + tmpChar;\\n\\t\\t}\\n\\t\\tresult += \\'\">\\' + tmpChar + \\'</span>\\';\\n\\t}\\n\\n\\treturn result;\\n}\\n\\nfunction changeNumberFormat(vNumber){\\n\\tvar sUnderNumber = \"\";\\n\\tvar sNumberString = vNumber || 0;\\n\\tsNumberString = (typeof sNumberString != \"String\") ? String(sNumberString) : sNumberString;\\n\\n\\tif(sNumberString.indexOf(\".\") > -1){\\n\\t\\tvar aNumber = sNumberString.split(\".\");\\n\\t\\tsNumberString = aNumber[0];\\n\\t\\tsUnderNumber = \".\" + aNumber[1];\\n\\t}\\n\\n\\treturn sNumberString.replace(/(\\\\d)(?=(\\\\d{3})+$)/igm, \"$1,\") + sUnderNumber;\\n}\\n\\nfunction converToFixedPointNotation (nNumber, nDecimalLength){\\n\\treturn parseFloat(nNumber).toFixed(nDecimalLength || 0);\\n}\\n\\n// 1분마다 정보 업데이트\\nvar updateInformationInterval = 60000;\\nvar informationTimer = null;\\nvar oUpdateAjax = null;\\n\\nvar startInformationTimer = function() {\\n\\tclearInformationTimer();\\n\\tinformationTimer = setInterval(\\'doUpdateInformation()\\', updateInformationInterval);\\n}\\n\\nvar clearInformationTimer = function() {\\n\\tif (oUpdateAjax) {\\n\\t\\toUpdateAjax.abort();\\n\\t\\toUpdateAjax = null;\\n\\t}\\n\\n\\tinformationTimer = window.clearInterval(informationTimer);\\n}\\n\\nvar doUpdateInformation = function() {\\n\\tvar sApiUrl = \"https://api.finance.naver.com/service/itemSummary.naver?itemcode=066570\"\\n\\n\\toUpdateAjax = jindo.$Ajax(sApiUrl, {\\n\\t\\ttype : \\'jsonp\\',\\n\\t\\tjsonp_charset : \"utf-8\",\\n\\t\\tonload : function(response) {\\n\\t\\t\\tif(response != null && response.readyState() == 4) {\\n\\t\\t\\t\\tvar json = response.json();\\n\\n\\t\\t\\t\\tif (json.now == undefined) {\\n\\t\\t\\t\\t\\tstartInformationTimer();\\n\\t\\t\\t\\t\\treturn;\\n\\t\\t\\t\\t}\\n\\n\\t\\t\\t\\tvar sMarketSum = (json.marketSum + \"\");\\n\\t\\t\\t\\tsMarketSum = sMarketSum.substring(0, sMarketSum.length - 2);\\n\\t\\t\\t\\tsMarketSum = changeNumberFormat(sMarketSum);\\n\\n\\t\\t\\t\\tvar sPer = changeNumberFormat(json.per);\\n\\t\\t\\t\\tvar sEps = changeNumberFormat(json.eps);\\n\\t\\t\\t\\tvar sNowVal = changeNumberFormat(json.now);\\n\\t\\t\\t\\tvar sDiff = changeNumberFormat(json.diff);\\n\\t\\t\\t\\tvar sRate = changeNumberFormat(json.rate) + \"%\";\\n\\t\\t\\t\\tvar sQuant = changeNumberFormat(json.quant);\\n\\t\\t\\t\\tvar sAmount = changeNumberFormat(json.amount);\\n\\t\\t\\t\\tvar sHigh = changeNumberFormat(json.high);\\n\\t\\t\\t\\tvar sLow = changeNumberFormat(json.low);\\n\\n\\t\\t\\t\\tif (sRate == \"0%\") {\\n\\t\\t\\t\\t\\tsRate = \"0.00%\";\\n\\t\\t\\t\\t}\\n\\n\\t\\t\\t\\tif (json.per == undefined) {\\n\\t\\t\\t\\t\\tsPer = \"N/A\";\\n\\t\\t\\t\\t}\\n\\n\\t\\t\\t\\tif (json.eps == undefined) {\\n\\t\\t\\t\\t\\tsEps = \"N/A\";\\n\\t\\t\\t\\t}\\n\\n\\t\\t\\t\\tjindo.$A(jindo.$$(\"#_sise_market_sum\")).forEach(function(v) {\\n\\t\\t\\t\\t\\tjindo.$Element(v).text(sMarketSum);\\n\\t\\t\\t\\t}, this);\\n\\n\\t\\t\\t\\tjindo.$A(jindo.$$(\"#_sise_per\")).forEach(function(v) {\\n\\t\\t\\t\\t\\tjindo.$Element(v).text(sPer);\\n\\t\\t\\t\\t}, this);\\n\\n\\t\\t\\t\\tjindo.$A(jindo.$$(\"#_sise_eps\")).forEach(function(v) {\\n\\t\\t\\t\\t\\tjindo.$Element(v).text(sEps);\\n\\t\\t\\t\\t}, this);\\n\\n\\t\\t\\t\\tjindo.$A(jindo.$$(\"#_nowVal\")).forEach(function(v) {\\n\\t\\t\\t\\t\\tjindo.$Element(v).text(sNowVal);\\n\\t\\t\\t\\t}, this);\\n\\n\\t\\t\\t\\tjindo.$A(jindo.$$(\"#_diff\")).forEach(function(v) {\\n\\t\\t\\t\\t\\tvar sFormat = null;\\n\\t\\t\\t\\t\\tvar sDiffToDisplay = sDiff.replace(\"-\", \"\");\\n\\n\\t\\t\\t\\t\\tif (json.risefall == 1) {\\n\\t\\t\\t\\t\\t\\tsFormat = \"<em class=\\\\\"bu_p bu_pup2\\\\\" style=\\\\\"margin:0 4px 0 0\\\\\"><span class=\\\\\"blind\\\\\">상한</span></em><span class=\\\\\"tah p11 red01\\\\\">%s</span>\";\\n\\t\\t\\t\\t\\t} else if (json.risefall == 2) {\\n\\t\\t\\t\\t\\t\\tsFormat = \"<em class=\\\\\"bu_p bu_pup\\\\\" style=\\\\\"margin:0 4px 0 0\\\\\"><span class=\\\\\"blind\\\\\">상승</span></em><span class=\\\\\"tah p11 red01\\\\\">%s</span>\";\\n\\t\\t\\t\\t\\t} else if (json.risefall == 3) {\\n\\t\\t\\t\\t\\t\\tsFormat = \"<span class=\\\\\"tah p11\\\\\">%s</span>\";\\n\\t\\t\\t\\t\\t} else if (json.risefall == 4) {\\n\\t\\t\\t\\t\\t\\tsFormat = \"<em class=\\\\\"bu_p bu_pdn2\\\\\" style=\\\\\"margin:0 4px 0 0\\\\\"><span class=\\\\\"blind\\\\\">하한</span></em><span class=\\\\\"tah p11 nv01\\\\\">%s</span>\";\\n\\t\\t\\t\\t\\t} else {\\n\\t\\t\\t\\t\\t\\tsFormat = \"<em class=\\\\\"bu_p bu_pdn\\\\\" style=\\\\\"margin:0 4px 0 0\\\\\"><span class=\\\\\"blind\\\\\">하락</span></em><span class=\\\\\"tah p11 nv01\\\\\">%s</span>\";\\n\\t\\t\\t\\t\\t}\\n\\n\\t\\t\\t\\t\\tvar sHtml = jindo.$S(sFormat).format(sDiffToDisplay);\\n\\n\\t\\t\\t\\t\\tjindo.$Element(v).html(sHtml);\\n\\t\\t\\t\\t}, this);\\n\\n\\t\\t\\t\\tjindo.$A(jindo.$$(\"#_rate\")).forEach(function(v) {\\n\\t\\t\\t\\t\\tvar sCss = \"red01\";\\n\\t\\t\\t\\t\\tvar sRateToDisplay = sRate;\\n\\n\\t\\t\\t\\t\\tif (sRate.indexOf(\"-\") > -1) {\\n\\t\\t\\t\\t\\t\\tsCss = \"nv01\";\\n\\t\\t\\t\\t\\t} else if (sRate.indexOf(\"0.00\") > -1) {\\n\\t\\t\\t\\t\\t\\tsCss = \"\";\\n\\t\\t\\t\\t\\t} else {\\n\\t\\t\\t\\t\\t\\tsRateToDisplay = \"+\" + sRateToDisplay;\\n\\t\\t\\t\\t\\t}\\n\\n\\t\\t\\t\\t\\tvar sHtml = \"<span class=\\\\\"tah p11 \" + sCss + \"\\\\\">\" + sRateToDisplay + \"</span>\";\\n\\t\\t\\t\\t\\tjindo.$Element(v).html(sHtml);\\n\\t\\t\\t\\t}, this);\\n\\n\\t\\t\\t\\tjindo.$A(jindo.$$(\"#_quant\")).forEach(function(v) {\\n\\t\\t\\t\\t\\tjindo.$Element(v).text(sQuant);\\n\\t\\t\\t\\t}, this);\\n\\n\\t\\t\\t\\tjindo.$A(jindo.$$(\"#_amount\")).forEach(function(v) {\\n\\t\\t\\t\\t\\tjindo.$Element(v).text(sAmount);\\n\\t\\t\\t\\t}, this);\\n\\n\\t\\t\\t\\tjindo.$A(jindo.$$(\"#_high\")).forEach(function(v) {\\n\\t\\t\\t\\t\\tjindo.$Element(v).text(sHigh);\\n\\t\\t\\t\\t}, this);\\n\\n\\t\\t\\t\\tjindo.$A(jindo.$$(\"#_low\")).forEach(function(v) {\\n\\t\\t\\t\\t\\tjindo.$Element(v).text(sLow);\\n\\t\\t\\t\\t}, this);\\n\\n\\t\\t\\t\\tstartInformationTimer();\\n\\t\\t\\t}\\n\\t\\t},\\n\\t\\ttimeout : 2,\\n\\t\\tontimeout : function() {\\n\\t\\t\\tstartInformationTimer();\\n\\t\\t},\\n\\t\\tasync : true\\n\\t});\\n\\toUpdateAjax.request();\\n}\\n\\nvar dateTime = \"20220913161146\";\\nvar closeDate = dateTime.substring(0,4) + \".\" + dateTime.substring(4,6) + \".\" + dateTime.substring(6,8);\\n\\n\\n\\n/**\\n * 선택한 타입(1일, 일주일, 3개월, 1년, 3년, 5년 , 10년)에 따라 이미지 차트 변경\\n *\\n * @param chartType 차트종류(1일, 일주일, 3개월, 1년, 3년, 5년, 10년)\\n */\\n// 선 차트 노출\\nfunction showChart(target) {\\n    jindo.$A(jindo.$$(\"dl.line dd ul li\")).forEach(function(v) {\\n        if (jindo.$Element(v).className() == target) {\\n            jindo.$Element(v).child()[0].addClass(\"on\");\\n            jindo.$Element(jindo.$$.getSingle(\"#img_chart_area\")).attr(\"src\", \"https://ssl.pstatic.net/imgfinance/chart/item/area/\" + target + \"/066570.png?sidcode=1663054844127\");\\n        } else {\\n            jindo.$Element(v).child()[0].removeClass(\"on\");\\n        }\\n    });\\n\\n    jindo.$A(jindo.$$(\"dl.bar dd ul li\")).forEach(function(v) {\\n        jindo.$Element(v).child()[0].removeClass(\"on\");\\n    });\\n\\n}\\n\\n/**\\n * 선택한 타입(일봉, 주봉, 월봉)에 따라 이미지 차트 변경\\n *\\n * @param chartType 차트종류(일봉, 주봉, 월봉)\\n */\\n// 봉 차트 노출\\nfunction showBarChart(target) {\\n    jindo.$A(jindo.$$(\"dl.bar dd ul li\")).forEach(function(v) {\\n        if (jindo.$Element(v).className() == target) {\\n            jindo.$Element(v).child()[0].addClass(\"on\");\\n            jindo.$Element(jindo.$$.getSingle(\"#img_chart_area\")).attr(\"src\", \"https://ssl.pstatic.net/imgfinance/chart/item/candle/\" + target + \"/066570.png?sidcode=1663054844127\");\\n        } else {\\n            jindo.$Element(v).child()[0].removeClass(\"on\");\\n        }\\n    });\\n\\n    jindo.$A(jindo.$$(\"dl.line dd ul li\")).forEach(function(v) {\\n        jindo.$Element(v).child()[0].removeClass(\"on\");\\n    });\\n}\\n\\n/**\\n * 플래시 지원여부 확인\\n */\\nfunction isInstalledFlash() {\\n    var aFlash = jindo.$Agent().flash();\\n    var bResult = false;\\n\\n    if (aFlash != null && aFlash.installed) {\\n        bResult = true;\\n    }\\n\\n    return bResult;\\n}\\n\\n/**\\n * 플래시 지원여부에 따라 차트 노출\\n */\\nfunction initChartArea(flashAreaClassName, htmlAreaClassName) {\\n    var eFlashChartArea = jindo.$Element(jindo.$$.getSingle(\".\" + flashAreaClassName));\\n    var eImgChartArea = jindo.$Element(jindo.$$.getSingle(\".\" + htmlAreaClassName));\\n\\n    if (eFlashChartArea != null && eImgChartArea != null) {\\n        if (isInstalledFlash()) {\\n            eImgChartArea.hide();\\n        } else {\\n            eFlashChartArea.hide();\\n        }\\n    }\\n}\\n\\n</script>\\n<script type=\"text/javascript\">\\n<!--\\njindo.$Fn(function() {\\n\\tvar itemAddLayer = new MyFinance.MyStock.ItemAddLayer(jindo.$$.getSingle(\\'.ly_lstmove\\'), {\\n\\t\\t\\'LayerPosition\\': {\\n\\t\\t\\tsPosition : \"outside-bottom\",\\n\\t\\t\\tsAlign : \"left\",\\n\\t\\t\\tnTop : 4,\\n\\t\\t\\tnLeft : -96\\n\\t\\t}\\n\\t});\\n\\n\\tjindo.$Fn(function(e) {\\n\\t\\te.stopDefault();\\n\\t\\titemAddLayer.open([\\'066570\\'], e.element);\\n\\t}, this).attach(jindo.$$.getSingle(\\'.snb_top1\\'), \\'click\\');\\n\\n\\t\\n}, this).attach(document, \\'domready\\');\\n//-->\\n</script>\\n<script type=\"text/javascript\" src=\"https://ssl.pstatic.net/imgstock/static.pc/20220907184351/js/release/commonSummary.js\"></script>\\n\\n\\n\\n\\n\\n\\n\\n\\t\\n\\t\\n\\t\\t\\n\\t\\t\\t\\n\\t\\t\\t\\t\\n\\t\\t\\t\\n\\t\\t\\t\\n\\t\\t\\t\\n\\t\\t\\t\\n\\t\\t\\t\\n\\t\\t\\t\\n\\t\\t\\t\\n\\t\\t\\t\\n\\t\\t\\t\\n\\t\\t\\t\\n\\t\\t\\t\\t\\t\\t\\t\\n\\t\\t\\t\\n\\t\\t\\t\\n\\t\\t\\t\\n\\t\\t\\t\\n\\t\\t\\t\\n\\t\\t\\t\\n\\t\\t\\n\\t\\t\\n\\t\\t\\t\\n\\t\\t\\t\\n\\t\\t\\t\\n\\t\\t\\t\\t<ul class=\"tabs_submenu tab_total_submenu\"> \\n\\t\\t\\t\\t\\t<li class=\"tab_on\"><a href=\"/item/main.naver?code=066570\" class=\"tab1\" onClick=\"clickcr(this,\\'sop.4\\',\\'\\',\\'\\',event);\"><span>종합정보</span></a></li>\\n\\t\\t\\t\\t\\t<li class=\"\"><a href=\"/item/sise.naver?code=066570\" class=\"tab2\" onClick=\"clickcr(this,\\'sop.5\\',\\'\\',\\'\\',event);\"><span>시세</span></a></li>\\n\\t\\t\\t\\t\\t<li class=\"\"><a href=\"/item/fchart.naver?code=066570\" class=\"tab3\" onClick=\"clickcr(this,\\'sop.6\\',\\'\\',\\'\\',event);\"><span>차트</span></a></li>\\n\\t\\t\\t\\t\\t<li class=\"\"><a href=\"/item/frgn.naver?code=066570\" class=\"tab4\" onClick=\"clickcr(this,\\'sop.10\\',\\'\\',\\'\\',event);\"><span>투자자별 매매동향</span></a></li>\\n\\t\\t\\t\\t\\t<li class=\"\"><a href=\"/item/news.naver?code=066570\" class=\"tab5\" onClick=\"clickcr(this,\\'sop.7\\',\\'\\',\\'\\',event);\"><span>뉴스&middot;공시</span></a></li>\\n\\t\\t\\t\\t\\t<li class=\"\"><a href=\"/item/coinfo.naver?code=066570\" class=\"tab6\" onClick=\"clickcr(this,\\'sop.9\\',\\'\\',\\'\\',event);\"><span>종목분석</span></a></li>\\n\\t\\t\\t\\t\\t<li class=\"\"><a href=\"/item/board.naver?code=066570\" class=\"tab7\" onClick=\"clickcr(this,\\'sop.11\\',\\'\\',\\'\\',event);\"><span>종목토론실</span></a></li>\\n\\t\\t\\t\\t\\t<li class=\"\"><a href=\"/item/dart.naver?code=066570\" class=\"tab8\" onClick=\"clickcr(this,\\'sop.12\\',\\'\\',\\'\\',event);\"><span>전자공시</span></a></li>\\n\\t\\t\\t\\t\\t<li class=\"\"><a href=\"/item/short_trade.naver?code=066570\" class=\"tab9\" onClick=\"clickcr(this,\\'sop.13\\',\\'\\',\\'\\',event);\"><span>공매도현황</span></a></li>\\n\\t\\t\\t\\t</ul>\\n\\t\\t\\t\\n\\t\\t\\n\\t\\n\\n\\n\\n\\n\\n\\t\\n\\t\\n\\t\\t<hr>\\n\\t\\t<h3 class=\"blind\">종합정보</h3>\\n\\t\\t\\n\\t\\t<div class=\"section invest_trend\">\\n\\t\\t\\t<h4 class=\"h_sub sub_tit2\"><span>투자자별 매매동향</span><em style=\"position:relative;left:100px;font-style:normal;font-weight:normal;font-size:11px;color:#666;\">거래원 정보 : 일별 상위 5위 거래원의 누적 정보 기준 (20분 지연)</em></h4>\\n\\t\\t\\t<div class=\"sub_section\">\\n\\t\\t\\t\\t<h5 class=\"h_th th_di\"><span>거래원 정보</span></h5>\\n\\t\\t\\t\\t<table summary=\"투자자별 매매동향 시세정보에 대한 표 중 거래원 정보(매도상위, 매수상위, 거래량)를 제공합니다.\" class=\"tb_type1\">\\n\\t\\t\\t\\t\\t<caption>거래원 정보</caption>\\n\\t\\t\\t\\t\\t<colgroup><col><col width=\"80\"><col width=\"90\"><col width=\"80\"></colgroup>\\n\\t\\t\\t\\t\\t<thead>\\n\\t\\t\\t\\t\\t<tr>\\n\\t\\t\\t\\t\\t\\t<th scope=\"col\" class=\"h_th th_sale_top\"><span>매도상위</span></th>\\n\\t\\t\\t\\t\\t\\t<th scope=\"col\" class=\"h_th th_deal_amount\"><span>거래량</span></th>\\n\\t\\t\\t\\t\\t\\t<th scope=\"col\" class=\"h_th th_buy_top\"><span>매수상위</span></th>\\n\\t\\t\\t\\t\\t\\t<th scope=\"col\" class=\"h_th th_deal_amount\"><span>거개량</span></th>\\n\\t\\t\\t\\t\\t</tr>\\n\\t\\t\\t\\t\\t</thead>\\n\\t\\t\\t\\t\\t<tfoot>\\n\\t\\t\\t\\t\\t<tr>\\n\\t\\t\\t\\t\\t\\t<td class=\"left\"><strong>외국계추정합</strong></td>\\n\\t\\t\\t\\t\\t\\t<td>\\n\\t\\t\\t\\t\\t\\t\\t<em class=\"f_down\">18,494</em>\\n\\t\\t\\t\\t\\t\\t</td>\\n\\t\\t\\t\\t\\t\\t<td class=\"left\">\\n\\t\\t\\t\\t\\t\\t\\t\\n\\t\\t\\t\\t<em class=\"f_up\">\\n\\t\\t\\t\\t+28,572\\n\\t\\t\\t\\t</em>\\n\\t\\t\\t\\n\\t\\t\\t\\t\\t\\t</td>\\n\\t\\t\\t\\t\\t\\t<td>\\n\\t\\t\\t\\t\\t\\t\\t<em class=\"f_up\">47,066</em>\\n\\t\\t\\t\\t\\t\\t</td>\\n\\t\\t\\t\\t\\t</tr>\\n\\t\\t\\t\\t\\t</tfoot>\\n\\t\\t\\t\\t\\t<tbody>\\n\\t\\t\\t\\t\\t<tr><td class=\"space\"></td></tr>\\n\\t\\t\\t\\t\\t\\n\\t\\t\\t\\t\\t\\t<tr>\\n\\t\\t\\t\\t\\t\\t\\t\\n\\t\\t\\t\\t\\t\\t\\t\\n\\t\\t\\t\\t\\t\\t<td class=\"left\">키움증권</td>\\n\\t\\t\\t\\t\\t\\t<td><em>97,924</em></td>\\n\\t\\t\\t\\n\\t\\t\\t\\t\\t\\t\\t\\n\\t\\t\\t\\t\\t\\t<td class=\"left\">신한금융투자</td>\\n\\t\\t\\t\\t\\t\\t<td><em>123,641</em></td>\\n\\t\\t\\t\\n\\t\\t\\t\\t\\t\\t</tr>\\n\\t\\t\\t\\t\\t\\n\\t\\t\\t\\t\\t\\t<tr>\\n\\t\\t\\t\\t\\t\\t\\t\\n\\t\\t\\t\\t\\t\\t\\t\\n\\t\\t\\t\\t\\t\\t<td class=\"left\">미래에셋증권</td>\\n\\t\\t\\t\\t\\t\\t<td><em>72,384</em></td>\\n\\t\\t\\t\\n\\t\\t\\t\\t\\t\\t\\t\\n\\t\\t\\t\\t\\t\\t<td class=\"left\">한국증권</td>\\n\\t\\t\\t\\t\\t\\t<td><em>81,904</em></td>\\n\\t\\t\\t\\n\\t\\t\\t\\t\\t\\t</tr>\\n\\t\\t\\t\\t\\t\\n\\t\\t\\t\\t\\t\\t<tr>\\n\\t\\t\\t\\t\\t\\t\\t\\n\\t\\t\\t\\t\\t\\t\\t\\n\\t\\t\\t\\t\\t\\t<td class=\"left\">삼성</td>\\n\\t\\t\\t\\t\\t\\t<td><em>64,334</em></td>\\n\\t\\t\\t\\n\\t\\t\\t\\t\\t\\t\\t\\n\\t\\t\\t\\t\\t\\t<td class=\"left\">NH투자증권</td>\\n\\t\\t\\t\\t\\t\\t<td><em>56,330</em></td>\\n\\t\\t\\t\\n\\t\\t\\t\\t\\t\\t</tr>\\n\\t\\t\\t\\t\\t\\n\\t\\t\\t\\t\\t\\t<tr>\\n\\t\\t\\t\\t\\t\\t\\t\\n\\t\\t\\t\\t\\t\\t\\t\\n\\t\\t\\t\\t\\t\\t<td class=\"left\">한국증권</td>\\n\\t\\t\\t\\t\\t\\t<td><em>62,262</em></td>\\n\\t\\t\\t\\n\\t\\t\\t\\t\\t\\t\\t\\n\\t\\t\\t\\t\\t\\t<td class=\"left\">미래에셋증권</td>\\n\\t\\t\\t\\t\\t\\t<td><em>48,051</em></td>\\n\\t\\t\\t\\n\\t\\t\\t\\t\\t\\t</tr>\\n\\t\\t\\t\\t\\t\\n\\t\\t\\t\\t\\t\\t<tr>\\n\\t\\t\\t\\t\\t\\t\\t\\n\\t\\t\\t\\t\\t\\t\\t\\n\\t\\t\\t\\t\\t\\t<td class=\"left\">신한금융투자</td>\\n\\t\\t\\t\\t\\t\\t<td><em>59,064</em></td>\\n\\t\\t\\t\\n\\t\\t\\t\\t\\t\\t\\t\\n\\t\\t\\t\\t\\t\\t<td class=\"left\"><span class=\"f_up\">제이피모간</span></td>\\n\\t\\t\\t\\t\\t\\t<td><em class=\"f_up\">47,066</em></td>\\n\\t\\t\\t\\n\\t\\t\\t\\t\\t\\t</tr>\\n\\t\\t\\t\\t\\t\\n\\t\\t\\t\\t\\t</tbody>\\n\\t\\t\\t\\t</table>\\n\\t\\t\\t</div>\\n\\n\\t\\t\\t<div class=\"sub_section right\">\\n\\t\\t\\t\\t<h5 class=\"h_th th_fo\"><span>외국인 기관</span></h5>\\n\\t\\t\\t\\t<table summary=\"투자자별 매매동향 시세정보에 대한 표 중 외국인 기관 정보(날짜, 종가, 전일비, 외국인, 기관)를 제공합니다.\" class=\"tb_type1\">\\n\\t\\t\\t\\t\\t<caption>외국인 기관</caption>\\n\\t\\t\\t\\t\\t<colgroup><col width=\"50\"><col width=\"65\"><col width=\"70\"><col width=\"70\"><col></colgroup>\\n\\t\\t\\t\\t\\t<thead>\\n\\t\\t\\t\\t\\t<tr>\\n\\t\\t\\t\\t\\t\\t<th class=\"h_th th_date\"><span>날짜</span></th>\\n\\t\\t\\t\\t\\t\\t<th scope=\"col\" class=\"h_th th_pass_price\"><span>종가</span></th>\\n\\t\\t\\t\\t\\t\\t<th scope=\"col\" class=\"h_th th_pass_day\"><span>전일비</span></th>\\n\\t\\t\\t\\t\\t\\t<th scope=\"col\" class=\"h_th th_foreigner\"><span>외국인</span></th>\\n\\t\\t\\t\\t\\t\\t<th scope=\"col\" class=\"h_th th_organ\"><span>기관</span></th>\\n\\t\\t\\t\\t\\t</tr>\\n\\t\\t\\t\\t\\t</thead>\\n\\t\\t\\t\\t\\t<tbody>\\n\\t\\t\\t\\t\\t<tr><td class=\"space\"></td></tr>\\n\\t\\t\\t\\t\\t\\n\\t\\t\\t\\t\\t\\t<tr>\\n\\t\\t\\t\\t\\t\\t\\t<th scope=\"row\">09/08</th>\\n\\t\\t\\t\\t\\t\\t\\t<td><em>93,800</em></td>\\n\\t\\t\\t\\t\\t\\t\\t<td>\\n\\t\\t\\t\\t\\t\\t\\t\\t\\n\\t\\t\\t\\t<em class=\"f_down down\"><span>하향</span>\\n\\t\\t\\t\\t600\\n\\t\\t\\t\\t</em>\\n\\t\\t\\t\\n\\t\\t\\t\\t\\t\\t\\t</td>\\n\\t\\t\\t\\t\\t\\t\\t<td>\\n\\t\\t\\t\\t\\t\\t\\t\\t\\n\\t\\t\\t\\t<em class=\"f_down\">\\n\\t\\t\\t\\t-153,882\\n\\t\\t\\t\\t</em>\\n\\t\\t\\t\\n\\t\\t\\t\\t\\t\\t\\t</td>\\n\\t\\t\\t\\t\\t\\t\\t<td>\\n\\t\\t\\t\\t\\t\\t\\t\\t\\n\\t\\t\\t\\t<em class=\"f_up\">\\n\\t\\t\\t\\t+61,180\\n\\t\\t\\t\\t</em>\\n\\t\\t\\t\\n\\t\\t\\t\\t\\t\\t\\t</td>\\n\\t\\t\\t\\t\\t\\t</tr>\\n\\t\\t\\t\\t\\t\\n\\t\\t\\t\\t\\t\\t<tr>\\n\\t\\t\\t\\t\\t\\t\\t<th scope=\"row\">09/07</th>\\n\\t\\t\\t\\t\\t\\t\\t<td><em>94,400</em></td>\\n\\t\\t\\t\\t\\t\\t\\t<td>\\n\\t\\t\\t\\t\\t\\t\\t\\t\\n\\t\\t\\t\\t<em class=\"f_down down\"><span>하향</span>\\n\\t\\t\\t\\t2,400\\n\\t\\t\\t\\t</em>\\n\\t\\t\\t\\n\\t\\t\\t\\t\\t\\t\\t</td>\\n\\t\\t\\t\\t\\t\\t\\t<td>\\n\\t\\t\\t\\t\\t\\t\\t\\t\\n\\t\\t\\t\\t<em class=\"f_down\">\\n\\t\\t\\t\\t-111,190\\n\\t\\t\\t\\t</em>\\n\\t\\t\\t\\n\\t\\t\\t\\t\\t\\t\\t</td>\\n\\t\\t\\t\\t\\t\\t\\t<td>\\n\\t\\t\\t\\t\\t\\t\\t\\t\\n\\t\\t\\t\\t<em class=\"f_down\">\\n\\t\\t\\t\\t-77,238\\n\\t\\t\\t\\t</em>\\n\\t\\t\\t\\n\\t\\t\\t\\t\\t\\t\\t</td>\\n\\t\\t\\t\\t\\t\\t</tr>\\n\\t\\t\\t\\t\\t\\n\\t\\t\\t\\t\\t\\t<tr>\\n\\t\\t\\t\\t\\t\\t\\t<th scope=\"row\">09/06</th>\\n\\t\\t\\t\\t\\t\\t\\t<td><em>96,800</em></td>\\n\\t\\t\\t\\t\\t\\t\\t<td>\\n\\t\\t\\t\\t\\t\\t\\t\\t\\n\\t\\t\\t\\t<em class=\"f_down down\"><span>하향</span>\\n\\t\\t\\t\\t400\\n\\t\\t\\t\\t</em>\\n\\t\\t\\t\\n\\t\\t\\t\\t\\t\\t\\t</td>\\n\\t\\t\\t\\t\\t\\t\\t<td>\\n\\t\\t\\t\\t\\t\\t\\t\\t\\n\\t\\t\\t\\t<em class=\"f_down\">\\n\\t\\t\\t\\t-47,617\\n\\t\\t\\t\\t</em>\\n\\t\\t\\t\\n\\t\\t\\t\\t\\t\\t\\t</td>\\n\\t\\t\\t\\t\\t\\t\\t<td>\\n\\t\\t\\t\\t\\t\\t\\t\\t\\n\\t\\t\\t\\t<em class=\"f_down\">\\n\\t\\t\\t\\t-34,304\\n\\t\\t\\t\\t</em>\\n\\t\\t\\t\\n\\t\\t\\t\\t\\t\\t\\t</td>\\n\\t\\t\\t\\t\\t\\t</tr>\\n\\t\\t\\t\\t\\t\\n\\t\\t\\t\\t\\t\\t<tr>\\n\\t\\t\\t\\t\\t\\t\\t<th scope=\"row\">09/05</th>\\n\\t\\t\\t\\t\\t\\t\\t<td><em>97,200</em></td>\\n\\t\\t\\t\\t\\t\\t\\t<td>\\n\\t\\t\\t\\t\\t\\t\\t\\t\\n\\t\\t\\t\\t<em class=\"f_down down\"><span>하향</span>\\n\\t\\t\\t\\t100\\n\\t\\t\\t\\t</em>\\n\\t\\t\\t\\n\\t\\t\\t\\t\\t\\t\\t</td>\\n\\t\\t\\t\\t\\t\\t\\t<td>\\n\\t\\t\\t\\t\\t\\t\\t\\t\\n\\t\\t\\t\\t<em class=\"f_up\">\\n\\t\\t\\t\\t+12,299\\n\\t\\t\\t\\t</em>\\n\\t\\t\\t\\n\\t\\t\\t\\t\\t\\t\\t</td>\\n\\t\\t\\t\\t\\t\\t\\t<td>\\n\\t\\t\\t\\t\\t\\t\\t\\t\\n\\t\\t\\t\\t<em class=\"f_up\">\\n\\t\\t\\t\\t+11,876\\n\\t\\t\\t\\t</em>\\n\\t\\t\\t\\n\\t\\t\\t\\t\\t\\t\\t</td>\\n\\t\\t\\t\\t\\t\\t</tr>\\n\\t\\t\\t\\t\\t\\n\\t\\t\\t\\t\\t\\t<tr>\\n\\t\\t\\t\\t\\t\\t\\t<th scope=\"row\">09/02</th>\\n\\t\\t\\t\\t\\t\\t\\t<td><em>97,300</em></td>\\n\\t\\t\\t\\t\\t\\t\\t<td>\\n\\t\\t\\t\\t\\t\\t\\t\\t\\n\\t\\t\\t\\t<em class=\"f_down down\"><span>하향</span>\\n\\t\\t\\t\\t400\\n\\t\\t\\t\\t</em>\\n\\t\\t\\t\\n\\t\\t\\t\\t\\t\\t\\t</td>\\n\\t\\t\\t\\t\\t\\t\\t<td>\\n\\t\\t\\t\\t\\t\\t\\t\\t\\n\\t\\t\\t\\t<em class=\"f_down\">\\n\\t\\t\\t\\t-9,214\\n\\t\\t\\t\\t</em>\\n\\t\\t\\t\\n\\t\\t\\t\\t\\t\\t\\t</td>\\n\\t\\t\\t\\t\\t\\t\\t<td>\\n\\t\\t\\t\\t\\t\\t\\t\\t\\n\\t\\t\\t\\t<em class=\"f_down\">\\n\\t\\t\\t\\t-17,997\\n\\t\\t\\t\\t</em>\\n\\t\\t\\t\\n\\t\\t\\t\\t\\t\\t\\t</td>\\n\\t\\t\\t\\t\\t\\t</tr>\\n\\t\\t\\t\\t\\t\\n\\t\\t\\t\\t\\t\\t<tr>\\n\\t\\t\\t\\t\\t\\t\\t<th scope=\"row\">09/01</th>\\n\\t\\t\\t\\t\\t\\t\\t<td><em>97,700</em></td>\\n\\t\\t\\t\\t\\t\\t\\t<td>\\n\\t\\t\\t\\t\\t\\t\\t\\t\\n\\t\\t\\t\\t<em class=\"f_down down\"><span>하향</span>\\n\\t\\t\\t\\t3,300\\n\\t\\t\\t\\t</em>\\n\\t\\t\\t\\n\\t\\t\\t\\t\\t\\t\\t</td>\\n\\t\\t\\t\\t\\t\\t\\t<td>\\n\\t\\t\\t\\t\\t\\t\\t\\t\\n\\t\\t\\t\\t<em class=\"f_down\">\\n\\t\\t\\t\\t-114,863\\n\\t\\t\\t\\t</em>\\n\\t\\t\\t\\n\\t\\t\\t\\t\\t\\t\\t</td>\\n\\t\\t\\t\\t\\t\\t\\t<td>\\n\\t\\t\\t\\t\\t\\t\\t\\t\\n\\t\\t\\t\\t<em class=\"f_down\">\\n\\t\\t\\t\\t-48,942\\n\\t\\t\\t\\t</em>\\n\\t\\t\\t\\n\\t\\t\\t\\t\\t\\t\\t</td>\\n\\t\\t\\t\\t\\t\\t</tr>\\n\\t\\t\\t\\t\\t\\n\\n\\t\\t\\t\\t\\t<tr><td class=\"space2\"></td></tr>\\n\\t\\t\\t\\t\\t</tbody>\\n\\t\\t\\t\\t</table>\\n\\t\\t\\t</div>\\n\\t\\t\\t<div class=\"dummy\"></div>\\n\\t\\t\\t<a href=\"/item/frgn.naver?code=066570\" class=\"more\" onClick=\"clickcr(this, \\'dle.7\\', \\'\\', \\'\\', event);\">더보기</a>\\n\\t\\t</div>\\n\\t\\t\\n\\t\\t<hr>\\n\\t\\t\\n\\t\\t<div class=\"section new_bbs\">\\n\\t\\t\\t<div class=\"sub_section news_section\">\\n\\t\\t\\t\\t<h4 class=\"h_sub sub_tit3\"><span>뉴스공시</span></h4>\\n\\t\\t\\t\\t\\n\\t\\t\\t\\t\\t\\n\\t\\t\\t\\t\\t\\t<ul>\\n\\t\\t\\t\\t\\t\\t\\n\\t\\t\\t\\t\\t\\t\\t\\n\\t\\t\\t\\t\\t\\t\\t\\t<li>\\n\\t\\t\\t\\t\\t\\t\\t<span class=\"txt\">\\n\\t\\t\\t\\t\\t\\t\\t\\n\\t\\t\\t\\t\\t\\t\\t\\t\\n\\t\\t\\t\\t\\t\\t\\t\\t\\t\\n\\t\\t\\t\\t\\t\\t\\t\\t\\n\\t\\t\\t\\t\\t\\t\\t\\t\\n\\t\\t\\t\\t\\t\\t\\t\\n\\t\\t\\t\\t\\t\\t\\t<a href=\"/item/news_read.naver?article_id=0004897636&office_id=014&code=066570&sm=title_entity_id.basic\" onClick=\"clickcr(this, \\'dle.1\\', \\'\\', \\'1\\', event);\">삼성&middot;LG전자, K-디자인으로 \\'세계...</a>\\n\\t\\t\\t\\t\\t\\t\\t<a href=\"/item/news.naver?code=066570&clusterId=0140004897636\" class=\"link_relation\" onClick=\"clickcr(this, \\'dle.11\\', \\'\\', \\'\\', event);\"><span class=\"bar\"></span>관련 <em>2</em>건</a>\\n\\t\\t\\t\\t\\t\\t\\t</span>\\n\\t\\t\\t\\t\\t\\t\\t\\t\\t<em> 09/13</em>\\n\\t\\t\\t\\t\\t\\t\\t\\t</li>\\n\\t\\t\\t\\t\\t\\t\\t\\n\\t\\t\\t\\t\\t\\t\\t\\n\\t\\t\\t\\t\\t\\t\\n\\t\\t\\t\\t\\t\\t\\t\\n\\t\\t\\t\\t\\t\\t\\t\\t<li>\\n\\t\\t\\t\\t\\t\\t\\t<span class=\"txt\">\\n\\t\\t\\t\\t\\t\\t\\t\\n\\t\\t\\t\\t\\t\\t\\t\\t\\n\\t\\t\\t\\t\\t\\t\\t\\t\\t\\n\\t\\t\\t\\t\\t\\t\\t\\t\\n\\t\\t\\t\\t\\t\\t\\t\\t\\n\\t\\t\\t\\t\\t\\t\\t\\n\\t\\t\\t\\t\\t\\t\\t<a href=\"/item/news_read.naver?article_id=0002039976&office_id=016&code=066570&sm=title_entity_id.basic\" onClick=\"clickcr(this, \\'dle.1\\', \\'\\', \\'2\\', event);\">삼성&middot;LG전자 &lsquo;IDEA 2022&rsquo; 55개...</a>\\n\\t\\t\\t\\t\\t\\t\\t<a href=\"/item/news.naver?code=066570&clusterId=0160002039976\" class=\"link_relation\" onClick=\"clickcr(this, \\'dle.11\\', \\'\\', \\'\\', event);\"><span class=\"bar\"></span>관련 <em>3</em>건</a>\\n\\t\\t\\t\\t\\t\\t\\t</span>\\n\\t\\t\\t\\t\\t\\t\\t\\t\\t<em> 09/13</em>\\n\\t\\t\\t\\t\\t\\t\\t\\t</li>\\n\\t\\t\\t\\t\\t\\t\\t\\n\\t\\t\\t\\t\\t\\t\\t\\n\\t\\t\\t\\t\\t\\t\\n\\t\\t\\t\\t\\t\\t\\t\\n\\t\\t\\t\\t\\t\\t\\t\\t<li>\\n\\t\\t\\t\\t\\t\\t\\t<span class=\"txt\">\\n\\t\\t\\t\\t\\t\\t\\t\\n\\t\\t\\t\\t\\t\\t\\t\\t\\n\\t\\t\\t\\t\\t\\t\\t\\t\\t\\n\\t\\t\\t\\t\\t\\t\\t\\t\\n\\t\\t\\t\\t\\t\\t\\t\\t\\n\\t\\t\\t\\t\\t\\t\\t\\n\\t\\t\\t\\t\\t\\t\\t<a href=\"/item/news_read.naver?article_id=0002039973&office_id=016&code=066570&sm=title_entity_id.basic\" onClick=\"clickcr(this, \\'dle.1\\', \\'\\', \\'3\\', event);\">LG전자, IDEA 대거 수상&hellip;최고상은...</a>\\n\\t\\t\\t\\t\\t\\t\\t<a href=\"/item/news.naver?code=066570&clusterId=0160002039973\" class=\"link_relation\" onClick=\"clickcr(this, \\'dle.11\\', \\'\\', \\'\\', event);\"><span class=\"bar\"></span>관련 <em>2</em>건</a>\\n\\t\\t\\t\\t\\t\\t\\t</span>\\n\\t\\t\\t\\t\\t\\t\\t\\t\\t<em> 09/13</em>\\n\\t\\t\\t\\t\\t\\t\\t\\t</li>\\n\\t\\t\\t\\t\\t\\t\\t\\n\\t\\t\\t\\t\\t\\t\\t\\n\\t\\t\\t\\t\\t\\t\\n\\t\\t\\t\\t\\t\\t\\t\\n\\t\\t\\t\\t\\t\\t\\t\\t<li>\\n\\t\\t\\t\\t\\t\\t\\t<span class=\"txt\">\\n\\t\\t\\t\\t\\t\\t\\t\\n\\t\\t\\t\\t\\t\\t\\t\\t\\n\\t\\t\\t\\t\\t\\t\\t\\t\\t\\n\\t\\t\\t\\t\\t\\t\\t\\t\\n\\t\\t\\t\\t\\t\\t\\t\\t\\n\\t\\t\\t\\t\\t\\t\\t\\n\\t\\t\\t\\t\\t\\t\\t<a href=\"/item/news_read.naver?article_id=0004897449&office_id=014&code=066570&sm=title_entity_id.basic\" onClick=\"clickcr(this, \\'dle.1\\', \\'\\', \\'4\\', event);\">&quot;화병이야 스피커야?&quot;...LG전자, ...</a>\\n\\t\\t\\t\\t\\t\\t\\t<a href=\"/item/news.naver?code=066570&clusterId=0140004897449\" class=\"link_relation\" onClick=\"clickcr(this, \\'dle.11\\', \\'\\', \\'\\', event);\"><span class=\"bar\"></span>관련 <em>3</em>건</a>\\n\\t\\t\\t\\t\\t\\t\\t</span>\\n\\t\\t\\t\\t\\t\\t\\t\\t\\t<em> 09/13</em>\\n\\t\\t\\t\\t\\t\\t\\t\\t</li>\\n\\t\\t\\t\\t\\t\\t\\t\\n\\t\\t\\t\\t\\t\\t\\t\\n\\t\\t\\t\\t\\t\\t\\n\\t\\t\\t\\t\\t\\t\\t\\n\\t\\t\\t\\t\\t\\t\\t\\t<li>\\n\\t\\t\\t\\t\\t\\t\\t<span class=\"txt\">\\n\\t\\t\\t\\t\\t\\t\\t\\n\\t\\t\\t\\t\\t\\t\\t\\t\\n\\t\\t\\t\\t\\t\\t\\t\\t\\t\\n\\t\\t\\t\\t\\t\\t\\t\\t\\n\\t\\t\\t\\t\\t\\t\\t\\t\\n\\t\\t\\t\\t\\t\\t\\t\\n\\t\\t\\t\\t\\t\\t\\t<a href=\"/item/news_read.naver?article_id=0005315008&office_id=018&code=066570&sm=title_entity_id.basic\" onClick=\"clickcr(this, \\'dle.1\\', \\'\\', \\'5\\', event);\">&ldquo;음악으로 공간 360도 채운다&rdquo; L...</a>\\n\\t\\t\\t\\t\\t\\t\\t<a href=\"/item/news.naver?code=066570&clusterId=0180005315008\" class=\"link_relation\" onClick=\"clickcr(this, \\'dle.11\\', \\'\\', \\'\\', event);\"><span class=\"bar\"></span>관련 <em>2</em>건</a>\\n\\t\\t\\t\\t\\t\\t\\t</span>\\n\\t\\t\\t\\t\\t\\t\\t\\t\\t<em> 09/13</em>\\n\\t\\t\\t\\t\\t\\t\\t\\t</li>\\n\\t\\t\\t\\t\\t\\t\\t\\n\\t\\t\\t\\t\\t\\t\\t</ul><ul class=\"line_dot\" />\\n\\t\\t\\t\\t\\t\\t\\n\\t\\t\\t\\t\\t\\t\\t\\n\\t\\t\\t\\t\\t\\t\\t\\t<li>\\n\\t\\t\\t\\t\\t\\t\\t<span class=\"txt\">\\n\\t\\t\\t\\t\\t\\t\\t\\n\\t\\t\\t\\t\\t\\t\\t\\t\\n\\t\\t\\t\\t\\t\\t\\t\\t\\t\\n\\t\\t\\t\\t\\t\\t\\t\\t\\n\\t\\t\\t\\t\\t\\t\\t\\t\\n\\t\\t\\t\\t\\t\\t\\t\\n\\t\\t\\t\\t\\t\\t\\t<a href=\"/item/news_read.naver?article_id=0002039592&office_id=016&code=066570&sm=title_entity_id.basic\" onClick=\"clickcr(this, \\'dle.1\\', \\'\\', \\'6\\', event);\">LG전자, 미래사업 발굴 위해 스타...</a>\\n\\t\\t\\t\\t\\t\\t\\t<a href=\"/item/news.naver?code=066570&clusterId=0160002039592\" class=\"link_relation\" onClick=\"clickcr(this, \\'dle.11\\', \\'\\', \\'\\', event);\"><span class=\"bar\"></span>관련 <em>4</em>건</a>\\n\\t\\t\\t\\t\\t\\t\\t</span>\\n\\t\\t\\t\\t\\t\\t\\t\\t\\t<em> 09/12</em>\\n\\t\\t\\t\\t\\t\\t\\t\\t</li>\\n\\t\\t\\t\\t\\t\\t\\t\\n\\t\\t\\t\\t\\t\\t\\t\\n\\t\\t\\t\\t\\t\\t\\n\\t\\t\\t\\t\\t\\t\\t\\n\\t\\t\\t\\t\\t\\t\\t\\t<li>\\n\\t\\t\\t\\t\\t\\t\\t<span class=\"txt\">\\n\\t\\t\\t\\t\\t\\t\\t\\n\\t\\t\\t\\t\\t\\t\\t\\t\\n\\t\\t\\t\\t\\t\\t\\t\\t\\t\\n\\t\\t\\t\\t\\t\\t\\t\\t\\n\\t\\t\\t\\t\\t\\t\\t\\t\\n\\t\\t\\t\\t\\t\\t\\t\\n\\t\\t\\t\\t\\t\\t\\t<a href=\"/item/news_read.naver?article_id=0005016021&office_id=009&code=066570&sm=title_entity_id.basic\" onClick=\"clickcr(this, \\'dle.1\\', \\'\\', \\'7\\', event);\">LG전자, 글로벌 스타트업과 손잡고...</a>\\n\\t\\t\\t\\t\\t\\t\\t<a href=\"/item/news.naver?code=066570&clusterId=0090005016021\" class=\"link_relation\" onClick=\"clickcr(this, \\'dle.11\\', \\'\\', \\'\\', event);\"><span class=\"bar\"></span>관련 <em>4</em>건</a>\\n\\t\\t\\t\\t\\t\\t\\t</span>\\n\\t\\t\\t\\t\\t\\t\\t\\t\\t<em> 09/12</em>\\n\\t\\t\\t\\t\\t\\t\\t\\t</li>\\n\\t\\t\\t\\t\\t\\t\\t\\n\\t\\t\\t\\t\\t\\t\\t\\n\\t\\t\\t\\t\\t\\t\\n\\t\\t\\t\\t\\t\\t\\t\\n\\t\\t\\t\\t\\t\\t\\t\\t<li>\\n\\t\\t\\t\\t\\t\\t\\t<span class=\"txt\">\\n\\t\\t\\t\\t\\t\\t\\t\\n\\t\\t\\t\\t\\t\\t\\t\\t\\n\\t\\t\\t\\t\\t\\t\\t\\t\\n\\t\\t\\t\\t\\t\\t\\t\\t\\t\\n\\t\\t\\t\\t\\t\\t\\t\\t\\n\\t\\t\\t\\t\\t\\t\\t\\n\\t\\t\\t\\t\\t\\t\\t<a href=\"/item/news_read.naver?article_id=0004896410&office_id=014&code=066570&sm=title_entity_id.basic\" onClick=\"clickcr(this, \\'dle.1\\', \\'\\', \\'8\\', event);\">삼성&middot;LG전자, 추석 연휴에도 냉장고 등 긴급 수리 ...</a>\\n\\t\\t\\t\\t\\t\\t\\t\\n\\t\\t\\t\\t\\t\\t\\t</span>\\n\\t\\t\\t\\t\\t\\t\\t\\t\\t<em> 09/09</em>\\n\\t\\t\\t\\t\\t\\t\\t\\t</li>\\n\\t\\t\\t\\t\\t\\t\\t\\n\\t\\t\\t\\t\\t\\t\\t\\n\\t\\t\\t\\t\\t\\t\\n\\t\\t\\t\\t\\t\\t\\t\\n\\t\\t\\t\\t\\t\\t\\t\\t<li>\\n\\t\\t\\t\\t\\t\\t\\t<span class=\"txt\">\\n\\t\\t\\t\\t\\t\\t\\t\\n\\t\\t\\t\\t\\t\\t\\t\\t\\n\\t\\t\\t\\t\\t\\t\\t\\t\\n\\t\\t\\t\\t\\t\\t\\t\\t\\t\\n\\t\\t\\t\\t\\t\\t\\t\\t\\n\\t\\t\\t\\t\\t\\t\\t\\n\\t\\t\\t\\t\\t\\t\\t<a href=\"/item/news_read.naver?article_id=0000062019&office_id=050&code=066570&sm=title_entity_id.basic\" onClick=\"clickcr(this, \\'dle.1\\', \\'\\', \\'9\\', event);\">베일 벗은 LG전자의 신가전 다음 타자 &lsquo;신발 전용 ...</a>\\n\\t\\t\\t\\t\\t\\t\\t\\n\\t\\t\\t\\t\\t\\t\\t</span>\\n\\t\\t\\t\\t\\t\\t\\t\\t\\t<em> 09/09</em>\\n\\t\\t\\t\\t\\t\\t\\t\\t</li>\\n\\t\\t\\t\\t\\t\\t\\t\\n\\t\\t\\t\\t\\t\\t\\t\\n\\t\\t\\t\\t\\t\\t\\n\\t\\t\\t\\t\\t\\t\\t\\n\\t\\t\\t\\t\\t\\t\\t\\t<li>\\n\\t\\t\\t\\t\\t\\t\\t<span class=\"txt\">\\n\\t\\t\\t\\t\\t\\t\\t\\n\\t\\t\\t\\t\\t\\t\\t\\t\\n\\t\\t\\t\\t\\t\\t\\t\\t\\n\\t\\t\\t\\t\\t\\t\\t\\t\\t\\n\\t\\t\\t\\t\\t\\t\\t\\t\\n\\t\\t\\t\\t\\t\\t\\t\\n\\t\\t\\t\\t\\t\\t\\t<a href=\"/item/news_read.naver?article_id=0004097346&office_id=011&code=066570&sm=title_entity_id.basic\" onClick=\"clickcr(this, \\'dle.1\\', \\'\\', \\'10\\', event);\">[태풍 피해복구 앞장서는 기업들] LG전자, 가전제품...</a>\\n\\t\\t\\t\\t\\t\\t\\t\\n\\t\\t\\t\\t\\t\\t\\t</span>\\n\\t\\t\\t\\t\\t\\t\\t\\t\\t<em> 09/08</em>\\n\\t\\t\\t\\t\\t\\t\\t\\t</li>\\n\\t\\t\\t\\t\\t\\t\\t\\n\\t\\t\\t\\t\\t\\t\\t\\n\\t\\t\\t\\t\\t\\t\\n\\t\\t\\t\\t\\t\\t</ul>\\n\\t\\t\\t\\t\\t\\n\\n\\t\\t\\t\\t\\t\\n\\t\\t\\t\\t\\n\\t\\t\\t\\t<a href=\"/item/news.naver?code=066570\" class=\"more\" onClick=\"clickcr(this, \\'dle.2\\', \\'\\', \\'\\', event);\">더보기</a>\\n\\t\\t\\t</div>\\n\\t\\t\\t<div class=\"sub_section right\">\\n\\t\\t\\t\\t<h4 class=\"h_sub sub_tit4\"><span>종목토론실</span><a href=\"/item/board_write_edit.naver?code=066570&mode=write\" onClick=\"clickcr(this, \\'dle.16\\', \\'\\', \\'\\', event);\" style=\"position:relative;left:60px\"><img src=\"https://ssl.pstatic.net/imgstock/item_renewal/btn_write_n.gif\" alt=\"글쓰기\" width=\"42\" height=\"18\"></a></h4>\\n\\t\\t\\t\\t\\n\\t\\t\\t\\t\\t\\n\\t\\t\\t\\t\\t\\t<ul>\\n\\t\\t\\t\\t\\t\\t\\n\\t\\t\\t\\t\\t\\t\\t<li>\\n\\t\\t\\t\\t\\t<span class=\"txt\">\\n\\t\\t\\t\\t\\t\\t<a href=\"/item/board_read.naver?code=066570&nid=230267634\" onClick=\"clickcr(this, \\'dle.3\\', \\'\\', \\'1\\', event);\">\\n\\t\\t\\t\\t\\t\\t시간외 폭등중이네 ㄷㄷㄷ 뭔일있나 ㄷㄷㄷ</a><em class=\"ea_reply\">[4]</em><img src=\"https://ssl.pstatic.net/imgstock/item_renewal/ico_new.gif\" alt=\"new\" width=\"8\" height=\"8\">\\n\\t\\t\\t\\t\\t</span>\\n\\t\\t\\t\\t\\t\\t\\t\\t<em>09/13 16:07</em>\\n\\t\\t\\t\\t\\t\\t\\t</li>\\n\\t\\t\\t\\t\\t\\t\\t\\n\\t\\t\\t\\t\\t\\t\\n\\t\\t\\t\\t\\t\\t\\t<li>\\n\\t\\t\\t\\t\\t<span class=\"txt\">\\n\\t\\t\\t\\t\\t\\t<a href=\"/item/board_read.naver?code=066570&nid=230267051\" onClick=\"clickcr(this, \\'dle.3\\', \\'\\', \\'2\\', event);\">\\n\\t\\t\\t\\t\\t\\t금일 밤 미 Cpi (yoy)</a><em class=\"ea_reply\">[1]</em><img src=\"https://ssl.pstatic.net/imgstock/item_renewal/ico_new.gif\" alt=\"new\" width=\"8\" height=\"8\">\\n\\t\\t\\t\\t\\t</span>\\n\\t\\t\\t\\t\\t\\t\\t\\t<em>09/13 16:02</em>\\n\\t\\t\\t\\t\\t\\t\\t</li>\\n\\t\\t\\t\\t\\t\\t\\t\\n\\t\\t\\t\\t\\t\\t\\n\\t\\t\\t\\t\\t\\t\\t<li>\\n\\t\\t\\t\\t\\t<span class=\"txt\">\\n\\t\\t\\t\\t\\t\\t<a href=\"/item/board_read.naver?code=066570&nid=230266247\" onClick=\"clickcr(this, \\'dle.3\\', \\'\\', \\'3\\', event);\">\\n\\t\\t\\t\\t\\t\\t민정이 야는 갈수록 낮빠닥이 마귀할멈닮아가네 맘뽀</a><img src=\"https://ssl.pstatic.net/imgstock/item_renewal/ico_new.gif\" alt=\"new\" width=\"8\" height=\"8\">\\n\\t\\t\\t\\t\\t</span>\\n\\t\\t\\t\\t\\t\\t\\t\\t<em>09/13 15:54</em>\\n\\t\\t\\t\\t\\t\\t\\t</li>\\n\\t\\t\\t\\t\\t\\t\\t\\n\\t\\t\\t\\t\\t\\t\\n\\t\\t\\t\\t\\t\\t\\t<li>\\n\\t\\t\\t\\t\\t<span class=\"txt\">\\n\\t\\t\\t\\t\\t\\t<a href=\"/item/board_read.naver?code=066570&nid=230266142\" onClick=\"clickcr(this, \\'dle.3\\', \\'\\', \\'4\\', event);\">\\n\\t\\t\\t\\t\\t\\t2021 17.3 500주</a><em class=\"ea_reply\">[2]</em><img src=\"https://ssl.pstatic.net/imgstock/item_renewal/ico_new.gif\" alt=\"new\" width=\"8\" height=\"8\">\\n\\t\\t\\t\\t\\t</span>\\n\\t\\t\\t\\t\\t\\t\\t\\t<em>09/13 15:53</em>\\n\\t\\t\\t\\t\\t\\t\\t</li>\\n\\t\\t\\t\\t\\t\\t\\t\\n\\t\\t\\t\\t\\t\\t\\n\\t\\t\\t\\t\\t\\t\\t<li>\\n\\t\\t\\t\\t\\t<span class=\"txt\">\\n\\t\\t\\t\\t\\t\\t<a href=\"/item/board_read.naver?code=066570&nid=230264819\" onClick=\"clickcr(this, \\'dle.3\\', \\'\\', \\'5\\', event);\">\\n\\t\\t\\t\\t\\t\\t단타꾼들의 작전--99500매도   종가기준10000원 상승</a><img src=\"https://ssl.pstatic.net/imgstock/item_renewal/ico_new.gif\" alt=\"new\" width=\"8\" height=\"8\">\\n\\t\\t\\t\\t\\t</span>\\n\\t\\t\\t\\t\\t\\t\\t\\t<em>09/13 15:42</em>\\n\\t\\t\\t\\t\\t\\t\\t</li>\\n\\t\\t\\t\\t\\t\\t\\t\\n\\t\\t\\t\\t\\t\\t\\t\\t</ul>\\n\\t\\t\\t\\t\\t\\t\\t\\t<ul class=\"line_dot\">\\n\\t\\t\\t\\t\\t\\t\\t\\n\\t\\t\\t\\t\\t\\t\\n\\t\\t\\t\\t\\t\\t\\t<li>\\n\\t\\t\\t\\t\\t<span class=\"txt\">\\n\\t\\t\\t\\t\\t\\t<a href=\"/item/board_read.naver?code=066570&nid=230260496\" onClick=\"clickcr(this, \\'dle.3\\', \\'\\', \\'6\\', event);\">\\n\\t\\t\\t\\t\\t\\t어찌삼전보다 더 무겁노</a><img src=\"https://ssl.pstatic.net/imgstock/item_renewal/ico_new.gif\" alt=\"new\" width=\"8\" height=\"8\">\\n\\t\\t\\t\\t\\t</span>\\n\\t\\t\\t\\t\\t\\t\\t\\t<em>09/13 15:15</em>\\n\\t\\t\\t\\t\\t\\t\\t</li>\\n\\t\\t\\t\\t\\t\\t\\t\\n\\t\\t\\t\\t\\t\\t\\n\\t\\t\\t\\t\\t\\t\\t<li>\\n\\t\\t\\t\\t\\t<span class=\"txt\">\\n\\t\\t\\t\\t\\t\\t<a href=\"/item/board_read.naver?code=066570&nid=230260103\" onClick=\"clickcr(this, \\'dle.3\\', \\'\\', \\'7\\', event);\">\\n\\t\\t\\t\\t\\t\\t98000 넘사벽</a><img src=\"https://ssl.pstatic.net/imgstock/item_renewal/ico_new.gif\" alt=\"new\" width=\"8\" height=\"8\">\\n\\t\\t\\t\\t\\t</span>\\n\\t\\t\\t\\t\\t\\t\\t\\t<em>09/13 15:13</em>\\n\\t\\t\\t\\t\\t\\t\\t</li>\\n\\t\\t\\t\\t\\t\\t\\t\\n\\t\\t\\t\\t\\t\\t\\n\\t\\t\\t\\t\\t\\t\\t<li>\\n\\t\\t\\t\\t\\t<span class=\"txt\">\\n\\t\\t\\t\\t\\t\\t<a href=\"/item/board_read.naver?code=066570&nid=230254207\" onClick=\"clickcr(this, \\'dle.3\\', \\'\\', \\'8\\', event);\">\\n\\t\\t\\t\\t\\t\\t와 주식 거품봐라 주식사고 싶겠냐?</a><img src=\"https://ssl.pstatic.net/imgstock/item_renewal/ico_new.gif\" alt=\"new\" width=\"8\" height=\"8\">\\n\\t\\t\\t\\t\\t</span>\\n\\t\\t\\t\\t\\t\\t\\t\\t<em>09/13 14:37</em>\\n\\t\\t\\t\\t\\t\\t\\t</li>\\n\\t\\t\\t\\t\\t\\t\\t\\n\\t\\t\\t\\t\\t\\t\\n\\t\\t\\t\\t\\t\\t\\t<li>\\n\\t\\t\\t\\t\\t<span class=\"txt\">\\n\\t\\t\\t\\t\\t\\t<a href=\"/item/board_read.naver?code=066570&nid=230244983\" onClick=\"clickcr(this, \\'dle.3\\', \\'\\', \\'9\\', event);\">\\n\\t\\t\\t\\t\\t\\t희망회로 돌리는 바보 없제</a><em class=\"ea_reply\">[9]</em><img src=\"https://ssl.pstatic.net/imgstock/item_renewal/ico_new.gif\" alt=\"new\" width=\"8\" height=\"8\">\\n\\t\\t\\t\\t\\t</span>\\n\\t\\t\\t\\t\\t\\t\\t\\t<em>09/13 13:27</em>\\n\\t\\t\\t\\t\\t\\t\\t</li>\\n\\t\\t\\t\\t\\t\\t\\t\\n\\t\\t\\t\\t\\t\\t\\n\\t\\t\\t\\t\\t\\t\\t<li>\\n\\t\\t\\t\\t\\t<span class=\"txt\">\\n\\t\\t\\t\\t\\t\\t<a href=\"/item/board_read.naver?code=066570&nid=230243688\" onClick=\"clickcr(this, \\'dle.3\\', \\'\\', \\'10\\', event);\">\\n\\t\\t\\t\\t\\t\\t헬지전자는 왜 시총이 15조에요?</a><em class=\"ea_reply\">[1]</em><img src=\"https://ssl.pstatic.net/imgstock/item_renewal/ico_new.gif\" alt=\"new\" width=\"8\" height=\"8\">\\n\\t\\t\\t\\t\\t</span>\\n\\t\\t\\t\\t\\t\\t\\t\\t<em>09/13 13:15</em>\\n\\t\\t\\t\\t\\t\\t\\t</li>\\n\\t\\t\\t\\t\\t\\t\\t\\n\\t\\t\\t\\t\\t\\t\\n\\n\\t\\t\\t\\t\\t\\t</ul>\\n\\t\\t\\t\\t\\t\\n\\t\\t\\t\\t\\t\\n\\t\\t\\t\\t\\n\\t\\t\\t\\t<a href=\"/item/board.naver?code=066570\" class=\"more\" onClick=\"clickcr(this, \\'dle.4\\', \\'\\', \\'\\', event);\">더보기</a>\\n\\t\\t\\t</div>\\n\\t\\t</div>\\n\\t\\t\\n\\t\\t<hr>\\n\\t\\t\\n\\n\\t\\t\\t\\n\\n\\t\\t\\t<div class=\"section cop_analysis\">\\n\\t\\t\\t\\t<h4 class=\"h_sub sub_tit6\"><span>기업실적분석</span></h4>\\n\\t\\t\\t\\t\\n\\t\\t\\t\\t\\t\\n\\t\\t\\t\\t\\t\\t<div class=\"sub_section\">\\n\\t\\t\\t\\t\\t\\t\\t<table summary=\"기업실적분석에 관한표이며 주요재무정보를 최근 연간 실적, 분기 실적에 따라 정보를 제공합니다.\" class=\"tb_type1 tb_num tb_type1_ifrs\">\\n\\t\\t\\t\\t\\t\\t\\t\\t<caption>기업실적분석 테이블</caption>\\n\\t\\t\\t\\t\\t\\t\\t\\t<colgroup>\\n\\t\\t\\t\\t\\t\\t\\t\\t\\t<col width=\"86\">\\n\\t\\t\\t\\t\\t\\t\\t\\t\\t<col width=\"59\">\\n\\t\\t\\t\\t\\t\\t\\t\\t\\t<col width=\"59\">\\n\\t\\t\\t\\t\\t\\t\\t\\t\\t<col width=\"59\">\\n\\t\\t\\t\\t\\t\\t\\t\\t\\t<col width=\"62\">\\n\\t\\t\\t\\t\\t\\t\\t\\t\\t<col width=\"58\">\\n\\t\\t\\t\\t\\t\\t\\t\\t\\t<col width=\"58\">\\n\\t\\t\\t\\t\\t\\t\\t\\t\\t<col width=\"58\">\\n\\t\\t\\t\\t\\t\\t\\t\\t\\t<col width=\"58\">\\n\\t\\t\\t\\t\\t\\t\\t\\t\\t<col>\\n\\t\\t\\t\\t\\t\\t\\t\\t</colgroup>\\n\\t\\t\\t\\t\\t\\t\\t\\t<thead>\\n\\t\\t\\t\\t\\t\\t\\t\\t<tr class=\"t_line\">\\n\\t\\t\\t\\t\\t\\t\\t\\t\\t<th rowspan=\"3\" class=\"h_th2 th_cop_anal5 b_line\"><strong>주요재무정보</strong></th>\\n\\t\\t\\t\\t\\t\\t\\t\\t\\t<th scope=\"col\" colspan=\"4\" class=\"h_th2 th_cop_anal6\"><strong>최근 연간 실적</strong></th>\\n\\t\\t\\t\\t\\t\\t\\t\\t\\t<th scope=\"col\" colspan=\"6\" class=\"h_th2 th_cop_anal7 last\"><strong>최근 분기 실적</strong></th>\\n\\t\\t\\t\\t\\t\\t\\t\\t</tr>\\n\\t\\t\\t\\t\\t\\t\\t\\t<tr>\\n\\t\\t\\t\\t\\t\\t\\t\\t\\t\\n\\t\\t\\t\\t\\t\\t\\t\\t\\t\\t\\n\\t\\t\\t\\t\\t\\t\\t\\t\\t\\t\\n\\t\\t\\t\\t\\t\\t\\t\\t\\t\\t\\n\\t\\t\\t\\t\\t\\t\\t\\t\\t\\t\\n\\t\\t\\t\\t\\t\\t\\t\\t\\t\\t<th scope=\"col\" class=\"\">\\n\\t\\t\\t\\t\\t\\t\\t\\t\\t\\t\\t2019.12\\n\\t\\t\\t\\t\\t\\t\\t\\t\\t\\t</th>\\n\\t\\t\\t\\t\\t\\t\\t\\t\\t\\t\\n\\t\\t\\t\\t\\t\\t\\t\\t\\t\\n\\t\\t\\t\\t\\t\\t\\t\\t\\t\\t\\n\\t\\t\\t\\t\\t\\t\\t\\t\\t\\t\\n\\t\\t\\t\\t\\t\\t\\t\\t\\t\\t\\n\\t\\t\\t\\t\\t\\t\\t\\t\\t\\t\\n\\t\\t\\t\\t\\t\\t\\t\\t\\t\\t<th scope=\"col\" class=\"\">\\n\\t\\t\\t\\t\\t\\t\\t\\t\\t\\t\\t2020.12\\n\\t\\t\\t\\t\\t\\t\\t\\t\\t\\t</th>\\n\\t\\t\\t\\t\\t\\t\\t\\t\\t\\t\\n\\t\\t\\t\\t\\t\\t\\t\\t\\t\\n\\t\\t\\t\\t\\t\\t\\t\\t\\t\\t\\n\\t\\t\\t\\t\\t\\t\\t\\t\\t\\t\\n\\t\\t\\t\\t\\t\\t\\t\\t\\t\\t\\n\\t\\t\\t\\t\\t\\t\\t\\t\\t\\t\\n\\t\\t\\t\\t\\t\\t\\t\\t\\t\\t<th scope=\"col\" class=\"\">\\n\\t\\t\\t\\t\\t\\t\\t\\t\\t\\t\\t2021.12\\n\\t\\t\\t\\t\\t\\t\\t\\t\\t\\t</th>\\n\\t\\t\\t\\t\\t\\t\\t\\t\\t\\t\\n\\t\\t\\t\\t\\t\\t\\t\\t\\t\\n\\t\\t\\t\\t\\t\\t\\t\\t\\t\\t\\n\\t\\t\\t\\t\\t\\t\\t\\t\\t\\t\\n\\t\\t\\t\\t\\t\\t\\t\\t\\t\\t\\n\\t\\t\\t\\t\\t\\t\\t\\t\\t\\t\\t\\n\\t\\t\\t\\t\\t\\t\\t\\t\\t\\t\\n\\t\\t\\t\\t\\t\\t\\t\\t\\t\\t\\n\\t\\t\\t\\t\\t\\t\\t\\t\\t\\t<th scope=\"col\" class=\"t_line cell_strong\">\\n\\t\\t\\t\\t\\t\\t\\t\\t\\t\\t\\t2022.12<em>&#40;E&#41;</em>\\n\\t\\t\\t\\t\\t\\t\\t\\t\\t\\t</th>\\n\\t\\t\\t\\t\\t\\t\\t\\t\\t\\t\\n\\t\\t\\t\\t\\t\\t\\t\\t\\t\\n\\t\\t\\t\\t\\t\\t\\t\\t\\t\\t\\n\\t\\t\\t\\t\\t\\t\\t\\t\\t\\t\\n\\t\\t\\t\\t\\t\\t\\t\\t\\t\\t\\n\\t\\t\\t\\t\\t\\t\\t\\t\\t\\t\\n\\t\\t\\t\\t\\t\\t\\t\\t\\t\\t<th scope=\"col\" class=\"\">\\n\\t\\t\\t\\t\\t\\t\\t\\t\\t\\t\\t2021.06\\n\\t\\t\\t\\t\\t\\t\\t\\t\\t\\t</th>\\n\\t\\t\\t\\t\\t\\t\\t\\t\\t\\t\\n\\t\\t\\t\\t\\t\\t\\t\\t\\t\\n\\t\\t\\t\\t\\t\\t\\t\\t\\t\\t\\n\\t\\t\\t\\t\\t\\t\\t\\t\\t\\t\\n\\t\\t\\t\\t\\t\\t\\t\\t\\t\\t\\n\\t\\t\\t\\t\\t\\t\\t\\t\\t\\t\\n\\t\\t\\t\\t\\t\\t\\t\\t\\t\\t<th scope=\"col\" class=\"\">\\n\\t\\t\\t\\t\\t\\t\\t\\t\\t\\t\\t2021.09\\n\\t\\t\\t\\t\\t\\t\\t\\t\\t\\t</th>\\n\\t\\t\\t\\t\\t\\t\\t\\t\\t\\t\\n\\t\\t\\t\\t\\t\\t\\t\\t\\t\\n\\t\\t\\t\\t\\t\\t\\t\\t\\t\\t\\n\\t\\t\\t\\t\\t\\t\\t\\t\\t\\t\\n\\t\\t\\t\\t\\t\\t\\t\\t\\t\\t\\n\\t\\t\\t\\t\\t\\t\\t\\t\\t\\t\\n\\t\\t\\t\\t\\t\\t\\t\\t\\t\\t<th scope=\"col\" class=\"\">\\n\\t\\t\\t\\t\\t\\t\\t\\t\\t\\t\\t2021.12\\n\\t\\t\\t\\t\\t\\t\\t\\t\\t\\t</th>\\n\\t\\t\\t\\t\\t\\t\\t\\t\\t\\t\\n\\t\\t\\t\\t\\t\\t\\t\\t\\t\\n\\t\\t\\t\\t\\t\\t\\t\\t\\t\\t\\n\\t\\t\\t\\t\\t\\t\\t\\t\\t\\t\\n\\t\\t\\t\\t\\t\\t\\t\\t\\t\\t\\n\\t\\t\\t\\t\\t\\t\\t\\t\\t\\t\\n\\t\\t\\t\\t\\t\\t\\t\\t\\t\\t<th scope=\"col\" class=\"\">\\n\\t\\t\\t\\t\\t\\t\\t\\t\\t\\t\\t2022.03\\n\\t\\t\\t\\t\\t\\t\\t\\t\\t\\t</th>\\n\\t\\t\\t\\t\\t\\t\\t\\t\\t\\t\\n\\t\\t\\t\\t\\t\\t\\t\\t\\t\\n\\t\\t\\t\\t\\t\\t\\t\\t\\t\\t\\n\\t\\t\\t\\t\\t\\t\\t\\t\\t\\t\\n\\t\\t\\t\\t\\t\\t\\t\\t\\t\\t\\n\\t\\t\\t\\t\\t\\t\\t\\t\\t\\t\\n\\t\\t\\t\\t\\t\\t\\t\\t\\t\\t<th scope=\"col\" class=\"\">\\n\\t\\t\\t\\t\\t\\t\\t\\t\\t\\t\\t2022.06\\n\\t\\t\\t\\t\\t\\t\\t\\t\\t\\t</th>\\n\\t\\t\\t\\t\\t\\t\\t\\t\\t\\t\\n\\t\\t\\t\\t\\t\\t\\t\\t\\t\\n\\t\\t\\t\\t\\t\\t\\t\\t\\t\\t\\n\\t\\t\\t\\t\\t\\t\\t\\t\\t\\t\\n\\t\\t\\t\\t\\t\\t\\t\\t\\t\\t\\n\\t\\t\\t\\t\\t\\t\\t\\t\\t\\t\\n\\t\\t\\t\\t\\t\\t\\t\\t\\t\\t\\t\\n\\t\\t\\t\\t\\t\\t\\t\\t\\t\\t\\n\\t\\t\\t\\t\\t\\t\\t\\t\\t\\t<th scope=\"col\" class=\"last cell_strong\">\\n\\t\\t\\t\\t\\t\\t\\t\\t\\t\\t\\t2022.09<em>&#40;E&#41;</em>\\n\\t\\t\\t\\t\\t\\t\\t\\t\\t\\t</th>\\n\\t\\t\\t\\t\\t\\t\\t\\t\\t\\t\\n\\t\\t\\t\\t\\t\\t\\t\\t\\t\\n\\t\\t\\t\\t\\t\\t\\t\\t</tr>\\n\\t\\t\\t\\t\\t\\t\\t\\t<tr class=\"b_line\">\\n\\t\\t\\t\\t\\t\\t\\t\\t\\t\\n\\t\\t\\t\\t\\t\\t\\t\\t\\t\\t\\n\\t\\t\\t\\t\\t\\t\\t\\t\\t\\t\\n\\t\\t\\t\\t\\t\\t\\t\\t\\t\\t\\n\\t\\t\\t\\t\\t\\t\\t\\t\\t\\t \\n\\n\\n\\t\\t\\t\\t\\t\\t\\t\\t\\t\\t\\n\\t\\t\\t\\t\\t\\t\\t\\t\\t\\t\\n\\t\\t\\t\\t\\t\\t\\t\\t\\t\\t\\n\\t\\t\\t\\t\\t\\t\\t\\t\\t\\t\\n\\t\\t\\t\\t\\t\\t\\t\\t\\t\\t<th scope=\"col\" class=\"link_ifrs\"><span>\\n\\t\\t\\t\\t\\t\\t\\t\\t\\t\\t\\n\\t\\t\\t\\t\\t\\t\\t\\t\\t\\t\\t\\n\\t\\t\\t\\t\\t\\t\\t\\t\\t\\t\\t\\n\\t\\t\\t\\t\\t\\t\\t\\t\\t\\t\\tIFRS연결\\n\\t\\t\\t\\t\\t\\t\\t\\t\\t\\t\\n\\t\\t\\t\\t\\t\\t\\t\\t\\t</span></th>\\n\\t\\t\\t\\t\\t\\t\\t\\t\\t\\t\\n\\t\\t\\t\\t\\t\\t\\t\\t\\t\\n\\t\\t\\t\\t\\t\\t\\t\\t\\t\\t\\n\\t\\t\\t\\t\\t\\t\\t\\t\\t\\t\\n\\t\\t\\t\\t\\t\\t\\t\\t\\t\\t\\n\\t\\t\\t\\t\\t\\t\\t\\t\\t\\t \\n\\n\\n\\t\\t\\t\\t\\t\\t\\t\\t\\t\\t\\n\\t\\t\\t\\t\\t\\t\\t\\t\\t\\t\\n\\t\\t\\t\\t\\t\\t\\t\\t\\t\\t\\n\\t\\t\\t\\t\\t\\t\\t\\t\\t\\t\\n\\t\\t\\t\\t\\t\\t\\t\\t\\t\\t<th scope=\"col\" class=\"link_ifrs\"><span>\\n\\t\\t\\t\\t\\t\\t\\t\\t\\t\\t\\n\\t\\t\\t\\t\\t\\t\\t\\t\\t\\t\\t\\n\\t\\t\\t\\t\\t\\t\\t\\t\\t\\t\\t\\n\\t\\t\\t\\t\\t\\t\\t\\t\\t\\t\\tIFRS연결\\n\\t\\t\\t\\t\\t\\t\\t\\t\\t\\t\\n\\t\\t\\t\\t\\t\\t\\t\\t\\t</span></th>\\n\\t\\t\\t\\t\\t\\t\\t\\t\\t\\t\\n\\t\\t\\t\\t\\t\\t\\t\\t\\t\\n\\t\\t\\t\\t\\t\\t\\t\\t\\t\\t\\n\\t\\t\\t\\t\\t\\t\\t\\t\\t\\t\\n\\t\\t\\t\\t\\t\\t\\t\\t\\t\\t\\n\\t\\t\\t\\t\\t\\t\\t\\t\\t\\t \\n\\n\\n\\t\\t\\t\\t\\t\\t\\t\\t\\t\\t\\n\\t\\t\\t\\t\\t\\t\\t\\t\\t\\t\\n\\t\\t\\t\\t\\t\\t\\t\\t\\t\\t\\n\\t\\t\\t\\t\\t\\t\\t\\t\\t\\t\\n\\t\\t\\t\\t\\t\\t\\t\\t\\t\\t<th scope=\"col\" class=\"link_ifrs\"><span>\\n\\t\\t\\t\\t\\t\\t\\t\\t\\t\\t\\n\\t\\t\\t\\t\\t\\t\\t\\t\\t\\t\\t\\n\\t\\t\\t\\t\\t\\t\\t\\t\\t\\t\\t\\n\\t\\t\\t\\t\\t\\t\\t\\t\\t\\t\\tIFRS연결\\n\\t\\t\\t\\t\\t\\t\\t\\t\\t\\t\\n\\t\\t\\t\\t\\t\\t\\t\\t\\t</span></th>\\n\\t\\t\\t\\t\\t\\t\\t\\t\\t\\t\\n\\t\\t\\t\\t\\t\\t\\t\\t\\t\\n\\t\\t\\t\\t\\t\\t\\t\\t\\t\\t\\n\\t\\t\\t\\t\\t\\t\\t\\t\\t\\t\\n\\t\\t\\t\\t\\t\\t\\t\\t\\t\\t\\n\\t\\t\\t\\t\\t\\t\\t\\t\\t\\t \\n\\n\\n\\t\\t\\t\\t\\t\\t\\t\\t\\t\\t\\n\\t\\t\\t\\t\\t\\t\\t\\t\\t\\t\\n\\t\\t\\t\\t\\t\\t\\t\\t\\t\\t\\n\\t\\t\\t\\t\\t\\t\\t\\t\\t\\t\\t\\n\\t\\t\\t\\t\\t\\t\\t\\t\\t\\t\\n\\t\\t\\t\\t\\t\\t\\t\\t\\t\\t\\n\\t\\t\\t\\t\\t\\t\\t\\t\\t\\t<th scope=\"col\" class=\"link_ifrs t_line cell_strong\"><span>\\n\\t\\t\\t\\t\\t\\t\\t\\t\\t\\t\\n\\t\\t\\t\\t\\t\\t\\t\\t\\t\\t\\t\\n\\t\\t\\t\\t\\t\\t\\t\\t\\t\\t\\t\\n\\t\\t\\t\\t\\t\\t\\t\\t\\t\\t\\tIFRS연결\\n\\t\\t\\t\\t\\t\\t\\t\\t\\t\\t\\n\\t\\t\\t\\t\\t\\t\\t\\t\\t</span></th>\\n\\t\\t\\t\\t\\t\\t\\t\\t\\t\\t\\n\\t\\t\\t\\t\\t\\t\\t\\t\\t\\n\\t\\t\\t\\t\\t\\t\\t\\t\\t\\t\\n\\t\\t\\t\\t\\t\\t\\t\\t\\t\\t\\n\\t\\t\\t\\t\\t\\t\\t\\t\\t\\t\\n\\t\\t\\t\\t\\t\\t\\t\\t\\t\\t \\n\\n\\n\\t\\t\\t\\t\\t\\t\\t\\t\\t\\t\\n\\t\\t\\t\\t\\t\\t\\t\\t\\t\\t\\n\\t\\t\\t\\t\\t\\t\\t\\t\\t\\t\\n\\t\\t\\t\\t\\t\\t\\t\\t\\t\\t\\n\\t\\t\\t\\t\\t\\t\\t\\t\\t\\t<th scope=\"col\" class=\"link_ifrs\"><span>\\n\\t\\t\\t\\t\\t\\t\\t\\t\\t\\t\\n\\t\\t\\t\\t\\t\\t\\t\\t\\t\\t\\t\\n\\t\\t\\t\\t\\t\\t\\t\\t\\t\\t\\t\\n\\t\\t\\t\\t\\t\\t\\t\\t\\t\\t\\tIFRS연결\\n\\t\\t\\t\\t\\t\\t\\t\\t\\t\\t\\n\\t\\t\\t\\t\\t\\t\\t\\t\\t</span></th>\\n\\t\\t\\t\\t\\t\\t\\t\\t\\t\\t\\n\\t\\t\\t\\t\\t\\t\\t\\t\\t\\n\\t\\t\\t\\t\\t\\t\\t\\t\\t\\t\\n\\t\\t\\t\\t\\t\\t\\t\\t\\t\\t\\n\\t\\t\\t\\t\\t\\t\\t\\t\\t\\t\\n\\t\\t\\t\\t\\t\\t\\t\\t\\t\\t \\n\\n\\n\\t\\t\\t\\t\\t\\t\\t\\t\\t\\t\\n\\t\\t\\t\\t\\t\\t\\t\\t\\t\\t\\n\\t\\t\\t\\t\\t\\t\\t\\t\\t\\t\\n\\t\\t\\t\\t\\t\\t\\t\\t\\t\\t\\n\\t\\t\\t\\t\\t\\t\\t\\t\\t\\t<th scope=\"col\" class=\"link_ifrs\"><span>\\n\\t\\t\\t\\t\\t\\t\\t\\t\\t\\t\\n\\t\\t\\t\\t\\t\\t\\t\\t\\t\\t\\t\\n\\t\\t\\t\\t\\t\\t\\t\\t\\t\\t\\t\\n\\t\\t\\t\\t\\t\\t\\t\\t\\t\\t\\tIFRS연결\\n\\t\\t\\t\\t\\t\\t\\t\\t\\t\\t\\n\\t\\t\\t\\t\\t\\t\\t\\t\\t</span></th>\\n\\t\\t\\t\\t\\t\\t\\t\\t\\t\\t\\n\\t\\t\\t\\t\\t\\t\\t\\t\\t\\n\\t\\t\\t\\t\\t\\t\\t\\t\\t\\t\\n\\t\\t\\t\\t\\t\\t\\t\\t\\t\\t\\n\\t\\t\\t\\t\\t\\t\\t\\t\\t\\t\\n\\t\\t\\t\\t\\t\\t\\t\\t\\t\\t \\n\\n\\n\\t\\t\\t\\t\\t\\t\\t\\t\\t\\t\\n\\t\\t\\t\\t\\t\\t\\t\\t\\t\\t\\n\\t\\t\\t\\t\\t\\t\\t\\t\\t\\t\\n\\t\\t\\t\\t\\t\\t\\t\\t\\t\\t\\n\\t\\t\\t\\t\\t\\t\\t\\t\\t\\t<th scope=\"col\" class=\"link_ifrs\"><span>\\n\\t\\t\\t\\t\\t\\t\\t\\t\\t\\t\\n\\t\\t\\t\\t\\t\\t\\t\\t\\t\\t\\t\\n\\t\\t\\t\\t\\t\\t\\t\\t\\t\\t\\t\\n\\t\\t\\t\\t\\t\\t\\t\\t\\t\\t\\tIFRS연결\\n\\t\\t\\t\\t\\t\\t\\t\\t\\t\\t\\n\\t\\t\\t\\t\\t\\t\\t\\t\\t</span></th>\\n\\t\\t\\t\\t\\t\\t\\t\\t\\t\\t\\n\\t\\t\\t\\t\\t\\t\\t\\t\\t\\n\\t\\t\\t\\t\\t\\t\\t\\t\\t\\t\\n\\t\\t\\t\\t\\t\\t\\t\\t\\t\\t\\n\\t\\t\\t\\t\\t\\t\\t\\t\\t\\t\\n\\t\\t\\t\\t\\t\\t\\t\\t\\t\\t \\n\\n\\n\\t\\t\\t\\t\\t\\t\\t\\t\\t\\t\\n\\t\\t\\t\\t\\t\\t\\t\\t\\t\\t\\n\\t\\t\\t\\t\\t\\t\\t\\t\\t\\t\\n\\t\\t\\t\\t\\t\\t\\t\\t\\t\\t\\n\\t\\t\\t\\t\\t\\t\\t\\t\\t\\t<th scope=\"col\" class=\"link_ifrs\"><span>\\n\\t\\t\\t\\t\\t\\t\\t\\t\\t\\t\\n\\t\\t\\t\\t\\t\\t\\t\\t\\t\\t\\t\\n\\t\\t\\t\\t\\t\\t\\t\\t\\t\\t\\t\\n\\t\\t\\t\\t\\t\\t\\t\\t\\t\\t\\tIFRS연결\\n\\t\\t\\t\\t\\t\\t\\t\\t\\t\\t\\n\\t\\t\\t\\t\\t\\t\\t\\t\\t</span></th>\\n\\t\\t\\t\\t\\t\\t\\t\\t\\t\\t\\n\\t\\t\\t\\t\\t\\t\\t\\t\\t\\n\\t\\t\\t\\t\\t\\t\\t\\t\\t\\t\\n\\t\\t\\t\\t\\t\\t\\t\\t\\t\\t\\n\\t\\t\\t\\t\\t\\t\\t\\t\\t\\t\\n\\t\\t\\t\\t\\t\\t\\t\\t\\t\\t \\n\\n\\n\\t\\t\\t\\t\\t\\t\\t\\t\\t\\t\\n\\t\\t\\t\\t\\t\\t\\t\\t\\t\\t\\n\\t\\t\\t\\t\\t\\t\\t\\t\\t\\t\\n\\t\\t\\t\\t\\t\\t\\t\\t\\t\\t\\n\\t\\t\\t\\t\\t\\t\\t\\t\\t\\t<th scope=\"col\" class=\"link_ifrs\"><span>\\n\\t\\t\\t\\t\\t\\t\\t\\t\\t\\t\\n\\t\\t\\t\\t\\t\\t\\t\\t\\t\\t\\t\\n\\t\\t\\t\\t\\t\\t\\t\\t\\t\\t\\t\\n\\t\\t\\t\\t\\t\\t\\t\\t\\t\\t\\tIFRS연결\\n\\t\\t\\t\\t\\t\\t\\t\\t\\t\\t\\n\\t\\t\\t\\t\\t\\t\\t\\t\\t</span></th>\\n\\t\\t\\t\\t\\t\\t\\t\\t\\t\\t\\n\\t\\t\\t\\t\\t\\t\\t\\t\\t\\n\\t\\t\\t\\t\\t\\t\\t\\t\\t\\t\\n\\t\\t\\t\\t\\t\\t\\t\\t\\t\\t\\n\\t\\t\\t\\t\\t\\t\\t\\t\\t\\t\\n\\t\\t\\t\\t\\t\\t\\t\\t\\t\\t \\n\\n\\n\\t\\t\\t\\t\\t\\t\\t\\t\\t\\t\\n\\t\\t\\t\\t\\t\\t\\t\\t\\t\\t\\n\\t\\t\\t\\t\\t\\t\\t\\t\\t\\t\\n\\t\\t\\t\\t\\t\\t\\t\\t\\t\\t\\n\\t\\t\\t\\t\\t\\t\\t\\t\\t\\t\\t\\n\\t\\t\\t\\t\\t\\t\\t\\t\\t\\t\\n\\t\\t\\t\\t\\t\\t\\t\\t\\t\\t<th scope=\"col\" class=\"link_ifrs last cell_strong\"><span>\\n\\t\\t\\t\\t\\t\\t\\t\\t\\t\\t\\n\\t\\t\\t\\t\\t\\t\\t\\t\\t\\t\\t\\n\\t\\t\\t\\t\\t\\t\\t\\t\\t\\t\\t\\n\\t\\t\\t\\t\\t\\t\\t\\t\\t\\t\\tIFRS연결\\n\\t\\t\\t\\t\\t\\t\\t\\t\\t\\t\\n\\t\\t\\t\\t\\t\\t\\t\\t\\t</span></th>\\n\\t\\t\\t\\t\\t\\t\\t\\t\\t\\t\\n\\t\\t\\t\\t\\t\\t\\t\\t\\t\\n\\t\\t\\t\\t\\t\\t\\t\\t</tr>\\n\\t\\t\\t\\t\\t\\t\\t\\t</thead>\\n\\t\\t\\t\\t\\t\\t\\t\\t<tbody>\\n\\t\\t\\t\\t\\t\\t\\t\\t<tr>\\n\\t\\t\\t\\t\\t\\t\\t\\t\\t<th scope=\"row\" class=\"h_th2 th_cop_anal8\"><strong>매출액</strong></th>\\n\\t\\t\\t\\t\\t\\t\\t\\t\\t\\n\\t\\t\\t\\t\\t\\t\\t\\t\\t\\t\\n\\t\\t\\t\\t\\t\\t\\t\\t\\t\\t\\n\\t\\t\\t\\t\\t\\t\\t\\t\\t\\t\\n\\t\\t\\t\\t\\t\\t\\t\\t\\t\\t\\n\\t\\t\\t\\t\\t\\t\\t\\t\\t\\t\\n\\n\\t\\t\\t\\t\\t\\t\\t\\t\\t\\t<td class=\"\">\\n\\t\\t\\t\\t\\t\\t\\t\\t\\t\\t\\t\\n\\t\\t\\t\\t\\t\\t\\t\\t\\t\\t\\t\\n\\t\\t\\t\\t\\t\\t\\t\\t\\t\\t\\t\\t\\n\\t\\t\\t\\t623,062\\n\\t\\t\\t\\n\\t\\t\\t\\t\\t\\t\\t\\t\\t\\t\\t\\n\\t\\t\\t\\t\\t\\t\\t\\t\\t\\t</td>\\n\\t\\t\\t\\t\\t\\t\\t\\t\\t\\t\\n\\t\\t\\t\\t\\t\\t\\t\\t\\t\\n\\t\\t\\t\\t\\t\\t\\t\\t\\t\\t\\n\\t\\t\\t\\t\\t\\t\\t\\t\\t\\t\\n\\t\\t\\t\\t\\t\\t\\t\\t\\t\\t\\n\\t\\t\\t\\t\\t\\t\\t\\t\\t\\t\\n\\t\\t\\t\\t\\t\\t\\t\\t\\t\\t\\n\\n\\t\\t\\t\\t\\t\\t\\t\\t\\t\\t<td class=\"\">\\n\\t\\t\\t\\t\\t\\t\\t\\t\\t\\t\\t\\n\\t\\t\\t\\t\\t\\t\\t\\t\\t\\t\\t\\n\\t\\t\\t\\t\\t\\t\\t\\t\\t\\t\\t\\t\\n\\t\\t\\t\\t580,579\\n\\t\\t\\t\\n\\t\\t\\t\\t\\t\\t\\t\\t\\t\\t\\t\\n\\t\\t\\t\\t\\t\\t\\t\\t\\t\\t</td>\\n\\t\\t\\t\\t\\t\\t\\t\\t\\t\\t\\n\\t\\t\\t\\t\\t\\t\\t\\t\\t\\n\\t\\t\\t\\t\\t\\t\\t\\t\\t\\t\\n\\t\\t\\t\\t\\t\\t\\t\\t\\t\\t\\n\\t\\t\\t\\t\\t\\t\\t\\t\\t\\t\\n\\t\\t\\t\\t\\t\\t\\t\\t\\t\\t\\n\\t\\t\\t\\t\\t\\t\\t\\t\\t\\t\\n\\n\\t\\t\\t\\t\\t\\t\\t\\t\\t\\t<td class=\"\">\\n\\t\\t\\t\\t\\t\\t\\t\\t\\t\\t\\t\\n\\t\\t\\t\\t\\t\\t\\t\\t\\t\\t\\t\\n\\t\\t\\t\\t\\t\\t\\t\\t\\t\\t\\t\\t\\n\\t\\t\\t\\t747,216\\n\\t\\t\\t\\n\\t\\t\\t\\t\\t\\t\\t\\t\\t\\t\\t\\n\\t\\t\\t\\t\\t\\t\\t\\t\\t\\t</td>\\n\\t\\t\\t\\t\\t\\t\\t\\t\\t\\t\\n\\t\\t\\t\\t\\t\\t\\t\\t\\t\\n\\t\\t\\t\\t\\t\\t\\t\\t\\t\\t\\n\\t\\t\\t\\t\\t\\t\\t\\t\\t\\t\\n\\t\\t\\t\\t\\t\\t\\t\\t\\t\\t\\n\\t\\t\\t\\t\\t\\t\\t\\t\\t\\t\\n\\t\\t\\t\\t\\t\\t\\t\\t\\t\\t\\t\\n\\t\\t\\t\\t\\t\\t\\t\\t\\t\\t\\n\\t\\t\\t\\t\\t\\t\\t\\t\\t\\t\\n\\n\\t\\t\\t\\t\\t\\t\\t\\t\\t\\t<td class=\" t_line cell_strong\">\\n\\t\\t\\t\\t\\t\\t\\t\\t\\t\\t\\t\\n\\t\\t\\t\\t\\t\\t\\t\\t\\t\\t\\t\\n\\t\\t\\t\\t\\t\\t\\t\\t\\t\\t\\t\\t\\n\\t\\t\\t\\t825,770\\n\\t\\t\\t\\n\\t\\t\\t\\t\\t\\t\\t\\t\\t\\t\\t\\n\\t\\t\\t\\t\\t\\t\\t\\t\\t\\t</td>\\n\\t\\t\\t\\t\\t\\t\\t\\t\\t\\t\\n\\t\\t\\t\\t\\t\\t\\t\\t\\t\\n\\t\\t\\t\\t\\t\\t\\t\\t\\t\\t\\n\\t\\t\\t\\t\\t\\t\\t\\t\\t\\t\\n\\t\\t\\t\\t\\t\\t\\t\\t\\t\\t\\n\\t\\t\\t\\t\\t\\t\\t\\t\\t\\t\\n\\t\\t\\t\\t\\t\\t\\t\\t\\t\\t\\n\\n\\t\\t\\t\\t\\t\\t\\t\\t\\t\\t<td class=\"\">\\n\\t\\t\\t\\t\\t\\t\\t\\t\\t\\t\\t\\n\\t\\t\\t\\t\\t\\t\\t\\t\\t\\t\\t\\n\\t\\t\\t\\t\\t\\t\\t\\t\\t\\t\\t\\t\\n\\t\\t\\t\\t171,139\\n\\t\\t\\t\\n\\t\\t\\t\\t\\t\\t\\t\\t\\t\\t\\t\\n\\t\\t\\t\\t\\t\\t\\t\\t\\t\\t</td>\\n\\t\\t\\t\\t\\t\\t\\t\\t\\t\\t\\n\\t\\t\\t\\t\\t\\t\\t\\t\\t\\n\\t\\t\\t\\t\\t\\t\\t\\t\\t\\t\\n\\t\\t\\t\\t\\t\\t\\t\\t\\t\\t\\n\\t\\t\\t\\t\\t\\t\\t\\t\\t\\t\\n\\t\\t\\t\\t\\t\\t\\t\\t\\t\\t\\n\\t\\t\\t\\t\\t\\t\\t\\t\\t\\t\\n\\n\\t\\t\\t\\t\\t\\t\\t\\t\\t\\t<td class=\"\">\\n\\t\\t\\t\\t\\t\\t\\t\\t\\t\\t\\t\\n\\t\\t\\t\\t\\t\\t\\t\\t\\t\\t\\t\\n\\t\\t\\t\\t\\t\\t\\t\\t\\t\\t\\t\\t\\n\\t\\t\\t\\t187,867\\n\\t\\t\\t\\n\\t\\t\\t\\t\\t\\t\\t\\t\\t\\t\\t\\n\\t\\t\\t\\t\\t\\t\\t\\t\\t\\t</td>\\n\\t\\t\\t\\t\\t\\t\\t\\t\\t\\t\\n\\t\\t\\t\\t\\t\\t\\t\\t\\t\\n\\t\\t\\t\\t\\t\\t\\t\\t\\t\\t\\n\\t\\t\\t\\t\\t\\t\\t\\t\\t\\t\\n\\t\\t\\t\\t\\t\\t\\t\\t\\t\\t\\n\\t\\t\\t\\t\\t\\t\\t\\t\\t\\t\\n\\t\\t\\t\\t\\t\\t\\t\\t\\t\\t\\n\\n\\t\\t\\t\\t\\t\\t\\t\\t\\t\\t<td class=\"\">\\n\\t\\t\\t\\t\\t\\t\\t\\t\\t\\t\\t\\n\\t\\t\\t\\t\\t\\t\\t\\t\\t\\t\\t\\n\\t\\t\\t\\t\\t\\t\\t\\t\\t\\t\\t\\t\\n\\t\\t\\t\\t210,087\\n\\t\\t\\t\\n\\t\\t\\t\\t\\t\\t\\t\\t\\t\\t\\t\\n\\t\\t\\t\\t\\t\\t\\t\\t\\t\\t</td>\\n\\t\\t\\t\\t\\t\\t\\t\\t\\t\\t\\n\\t\\t\\t\\t\\t\\t\\t\\t\\t\\n\\t\\t\\t\\t\\t\\t\\t\\t\\t\\t\\n\\t\\t\\t\\t\\t\\t\\t\\t\\t\\t\\n\\t\\t\\t\\t\\t\\t\\t\\t\\t\\t\\n\\t\\t\\t\\t\\t\\t\\t\\t\\t\\t\\n\\t\\t\\t\\t\\t\\t\\t\\t\\t\\t\\n\\n\\t\\t\\t\\t\\t\\t\\t\\t\\t\\t<td class=\"\">\\n\\t\\t\\t\\t\\t\\t\\t\\t\\t\\t\\t\\n\\t\\t\\t\\t\\t\\t\\t\\t\\t\\t\\t\\n\\t\\t\\t\\t\\t\\t\\t\\t\\t\\t\\t\\t\\n\\t\\t\\t\\t211,114\\n\\t\\t\\t\\n\\t\\t\\t\\t\\t\\t\\t\\t\\t\\t\\t\\n\\t\\t\\t\\t\\t\\t\\t\\t\\t\\t</td>\\n\\t\\t\\t\\t\\t\\t\\t\\t\\t\\t\\n\\t\\t\\t\\t\\t\\t\\t\\t\\t\\n\\t\\t\\t\\t\\t\\t\\t\\t\\t\\t\\n\\t\\t\\t\\t\\t\\t\\t\\t\\t\\t\\n\\t\\t\\t\\t\\t\\t\\t\\t\\t\\t\\n\\t\\t\\t\\t\\t\\t\\t\\t\\t\\t\\n\\t\\t\\t\\t\\t\\t\\t\\t\\t\\t\\n\\n\\t\\t\\t\\t\\t\\t\\t\\t\\t\\t<td class=\"\">\\n\\t\\t\\t\\t\\t\\t\\t\\t\\t\\t\\t\\n\\t\\t\\t\\t\\t\\t\\t\\t\\t\\t\\t\\n\\t\\t\\t\\t\\t\\t\\t\\t\\t\\t\\t\\t\\n\\t\\t\\t\\t194,640\\n\\t\\t\\t\\n\\t\\t\\t\\t\\t\\t\\t\\t\\t\\t\\t\\n\\t\\t\\t\\t\\t\\t\\t\\t\\t\\t</td>\\n\\t\\t\\t\\t\\t\\t\\t\\t\\t\\t\\n\\t\\t\\t\\t\\t\\t\\t\\t\\t\\n\\t\\t\\t\\t\\t\\t\\t\\t\\t\\t\\n\\t\\t\\t\\t\\t\\t\\t\\t\\t\\t\\n\\t\\t\\t\\t\\t\\t\\t\\t\\t\\t\\n\\t\\t\\t\\t\\t\\t\\t\\t\\t\\t\\n\\t\\t\\t\\t\\t\\t\\t\\t\\t\\t\\n\\t\\t\\t\\t\\t\\t\\t\\t\\t\\t\\t\\n\\t\\t\\t\\t\\t\\t\\t\\t\\t\\t\\n\\n\\t\\t\\t\\t\\t\\t\\t\\t\\t\\t<td class=\" last cell_strong\">\\n\\t\\t\\t\\t\\t\\t\\t\\t\\t\\t\\t\\n\\t\\t\\t\\t\\t\\t\\t\\t\\t\\t\\t\\n\\t\\t\\t\\t\\t\\t\\t\\t\\t\\t\\t\\t\\n\\t\\t\\t\\t201,644\\n\\t\\t\\t\\n\\t\\t\\t\\t\\t\\t\\t\\t\\t\\t\\t\\n\\t\\t\\t\\t\\t\\t\\t\\t\\t\\t</td>\\n\\t\\t\\t\\t\\t\\t\\t\\t\\t\\t\\n\\t\\t\\t\\t\\t\\t\\t\\t\\t\\n\\t\\t\\t\\t\\t\\t\\t\\t</tr>\\n\\t\\t\\t\\t\\t\\t\\t\\t<tr>\\n\\t\\t\\t\\t\\t\\t\\t\\t\\t<th scope=\"row\" class=\"h_th2 th_cop_anal9\"><strong>영업이익</strong></th>\\n\\n\\t\\t\\t\\t\\t\\t\\t\\t\\t\\n\\t\\t\\t\\t\\t\\t\\t\\t\\t\\t\\n\\t\\t\\t\\t\\t\\t\\t\\t\\t\\t\\n\\t\\t\\t\\t\\t\\t\\t\\t\\t\\t\\n\\t\\t\\t\\t\\t\\t\\t\\t\\t\\t\\n\\t\\t\\t\\t\\t\\t\\t\\t\\t\\t\\n\\n\\t\\t\\t\\t\\t\\t\\t\\t\\t\\t<td class=\"\">\\n\\t\\t\\t\\t\\t\\t\\t\\t\\t\\t\\t\\n\\t\\t\\t\\t\\t\\t\\t\\t\\t\\t\\t\\n\\t\\t\\t\\t\\t\\t\\t\\t\\t\\t\\t\\t\\n\\t\\t\\t\\t24,361\\n\\t\\t\\t\\n\\t\\t\\t\\t\\t\\t\\t\\t\\t\\t\\t\\n\\t\\t\\t\\t\\t\\t\\t\\t\\t\\t</td>\\n\\t\\t\\t\\t\\t\\t\\t\\t\\t\\t\\n\\t\\t\\t\\t\\t\\t\\t\\t\\t\\n\\t\\t\\t\\t\\t\\t\\t\\t\\t\\t\\n\\t\\t\\t\\t\\t\\t\\t\\t\\t\\t\\n\\t\\t\\t\\t\\t\\t\\t\\t\\t\\t\\n\\t\\t\\t\\t\\t\\t\\t\\t\\t\\t\\n\\t\\t\\t\\t\\t\\t\\t\\t\\t\\t\\n\\n\\t\\t\\t\\t\\t\\t\\t\\t\\t\\t<td class=\"\">\\n\\t\\t\\t\\t\\t\\t\\t\\t\\t\\t\\t\\n\\t\\t\\t\\t\\t\\t\\t\\t\\t\\t\\t\\n\\t\\t\\t\\t\\t\\t\\t\\t\\t\\t\\t\\t\\n\\t\\t\\t\\t39,051\\n\\t\\t\\t\\n\\t\\t\\t\\t\\t\\t\\t\\t\\t\\t\\t\\n\\t\\t\\t\\t\\t\\t\\t\\t\\t\\t</td>\\n\\t\\t\\t\\t\\t\\t\\t\\t\\t\\t\\n\\t\\t\\t\\t\\t\\t\\t\\t\\t\\n\\t\\t\\t\\t\\t\\t\\t\\t\\t\\t\\n\\t\\t\\t\\t\\t\\t\\t\\t\\t\\t\\n\\t\\t\\t\\t\\t\\t\\t\\t\\t\\t\\n\\t\\t\\t\\t\\t\\t\\t\\t\\t\\t\\n\\t\\t\\t\\t\\t\\t\\t\\t\\t\\t\\n\\n\\t\\t\\t\\t\\t\\t\\t\\t\\t\\t<td class=\"\">\\n\\t\\t\\t\\t\\t\\t\\t\\t\\t\\t\\t\\n\\t\\t\\t\\t\\t\\t\\t\\t\\t\\t\\t\\n\\t\\t\\t\\t\\t\\t\\t\\t\\t\\t\\t\\t\\n\\t\\t\\t\\t38,638\\n\\t\\t\\t\\n\\t\\t\\t\\t\\t\\t\\t\\t\\t\\t\\t\\n\\t\\t\\t\\t\\t\\t\\t\\t\\t\\t</td>\\n\\t\\t\\t\\t\\t\\t\\t\\t\\t\\t\\n\\t\\t\\t\\t\\t\\t\\t\\t\\t\\n\\t\\t\\t\\t\\t\\t\\t\\t\\t\\t\\n\\t\\t\\t\\t\\t\\t\\t\\t\\t\\t\\n\\t\\t\\t\\t\\t\\t\\t\\t\\t\\t\\n\\t\\t\\t\\t\\t\\t\\t\\t\\t\\t\\n\\t\\t\\t\\t\\t\\t\\t\\t\\t\\t\\t\\n\\t\\t\\t\\t\\t\\t\\t\\t\\t\\t\\n\\t\\t\\t\\t\\t\\t\\t\\t\\t\\t\\n\\n\\t\\t\\t\\t\\t\\t\\t\\t\\t\\t<td class=\" t_line cell_strong\">\\n\\t\\t\\t\\t\\t\\t\\t\\t\\t\\t\\t\\n\\t\\t\\t\\t\\t\\t\\t\\t\\t\\t\\t\\n\\t\\t\\t\\t\\t\\t\\t\\t\\t\\t\\t\\t\\n\\t\\t\\t\\t44,379\\n\\t\\t\\t\\n\\t\\t\\t\\t\\t\\t\\t\\t\\t\\t\\t\\n\\t\\t\\t\\t\\t\\t\\t\\t\\t\\t</td>\\n\\t\\t\\t\\t\\t\\t\\t\\t\\t\\t\\n\\t\\t\\t\\t\\t\\t\\t\\t\\t\\n\\t\\t\\t\\t\\t\\t\\t\\t\\t\\t\\n\\t\\t\\t\\t\\t\\t\\t\\t\\t\\t\\n\\t\\t\\t\\t\\t\\t\\t\\t\\t\\t\\n\\t\\t\\t\\t\\t\\t\\t\\t\\t\\t\\n\\t\\t\\t\\t\\t\\t\\t\\t\\t\\t\\n\\n\\t\\t\\t\\t\\t\\t\\t\\t\\t\\t<td class=\"\">\\n\\t\\t\\t\\t\\t\\t\\t\\t\\t\\t\\t\\n\\t\\t\\t\\t\\t\\t\\t\\t\\t\\t\\t\\n\\t\\t\\t\\t\\t\\t\\t\\t\\t\\t\\t\\t\\n\\t\\t\\t\\t8,781\\n\\t\\t\\t\\n\\t\\t\\t\\t\\t\\t\\t\\t\\t\\t\\t\\n\\t\\t\\t\\t\\t\\t\\t\\t\\t\\t</td>\\n\\t\\t\\t\\t\\t\\t\\t\\t\\t\\t\\n\\t\\t\\t\\t\\t\\t\\t\\t\\t\\n\\t\\t\\t\\t\\t\\t\\t\\t\\t\\t\\n\\t\\t\\t\\t\\t\\t\\t\\t\\t\\t\\n\\t\\t\\t\\t\\t\\t\\t\\t\\t\\t\\n\\t\\t\\t\\t\\t\\t\\t\\t\\t\\t\\n\\t\\t\\t\\t\\t\\t\\t\\t\\t\\t\\n\\n\\t\\t\\t\\t\\t\\t\\t\\t\\t\\t<td class=\"\">\\n\\t\\t\\t\\t\\t\\t\\t\\t\\t\\t\\t\\n\\t\\t\\t\\t\\t\\t\\t\\t\\t\\t\\t\\n\\t\\t\\t\\t\\t\\t\\t\\t\\t\\t\\t\\t\\n\\t\\t\\t\\t5,407\\n\\t\\t\\t\\n\\t\\t\\t\\t\\t\\t\\t\\t\\t\\t\\t\\n\\t\\t\\t\\t\\t\\t\\t\\t\\t\\t</td>\\n\\t\\t\\t\\t\\t\\t\\t\\t\\t\\t\\n\\t\\t\\t\\t\\t\\t\\t\\t\\t\\n\\t\\t\\t\\t\\t\\t\\t\\t\\t\\t\\n\\t\\t\\t\\t\\t\\t\\t\\t\\t\\t\\n\\t\\t\\t\\t\\t\\t\\t\\t\\t\\t\\n\\t\\t\\t\\t\\t\\t\\t\\t\\t\\t\\n\\t\\t\\t\\t\\t\\t\\t\\t\\t\\t\\n\\n\\t\\t\\t\\t\\t\\t\\t\\t\\t\\t<td class=\"\">\\n\\t\\t\\t\\t\\t\\t\\t\\t\\t\\t\\t\\n\\t\\t\\t\\t\\t\\t\\t\\t\\t\\t\\t\\n\\t\\t\\t\\t\\t\\t\\t\\t\\t\\t\\t\\t\\n\\t\\t\\t\\t6,777\\n\\t\\t\\t\\n\\t\\t\\t\\t\\t\\t\\t\\t\\t\\t\\t\\n\\t\\t\\t\\t\\t\\t\\t\\t\\t\\t</td>\\n\\t\\t\\t\\t\\t\\t\\t\\t\\t\\t\\n\\t\\t\\t\\t\\t\\t\\t\\t\\t\\n\\t\\t\\t\\t\\t\\t\\t\\t\\t\\t\\n\\t\\t\\t\\t\\t\\t\\t\\t\\t\\t\\n\\t\\t\\t\\t\\t\\t\\t\\t\\t\\t\\n\\t\\t\\t\\t\\t\\t\\t\\t\\t\\t\\n\\t\\t\\t\\t\\t\\t\\t\\t\\t\\t\\n\\n\\t\\t\\t\\t\\t\\t\\t\\t\\t\\t<td class=\"\">\\n\\t\\t\\t\\t\\t\\t\\t\\t\\t\\t\\t\\n\\t\\t\\t\\t\\t\\t\\t\\t\\t\\t\\t\\n\\t\\t\\t\\t\\t\\t\\t\\t\\t\\t\\t\\t\\n\\t\\t\\t\\t18,805\\n\\t\\t\\t\\n\\t\\t\\t\\t\\t\\t\\t\\t\\t\\t\\t\\n\\t\\t\\t\\t\\t\\t\\t\\t\\t\\t</td>\\n\\t\\t\\t\\t\\t\\t\\t\\t\\t\\t\\n\\t\\t\\t\\t\\t\\t\\t\\t\\t\\n\\t\\t\\t\\t\\t\\t\\t\\t\\t\\t\\n\\t\\t\\t\\t\\t\\t\\t\\t\\t\\t\\n\\t\\t\\t\\t\\t\\t\\t\\t\\t\\t\\n\\t\\t\\t\\t\\t\\t\\t\\t\\t\\t\\n\\t\\t\\t\\t\\t\\t\\t\\t\\t\\t\\n\\n\\t\\t\\t\\t\\t\\t\\t\\t\\t\\t<td class=\"\">\\n\\t\\t\\t\\t\\t\\t\\t\\t\\t\\t\\t\\n\\t\\t\\t\\t\\t\\t\\t\\t\\t\\t\\t\\n\\t\\t\\t\\t\\t\\t\\t\\t\\t\\t\\t\\t\\n\\t\\t\\t\\t7,923\\n\\t\\t\\t\\n\\t\\t\\t\\t\\t\\t\\t\\t\\t\\t\\t\\n\\t\\t\\t\\t\\t\\t\\t\\t\\t\\t</td>\\n\\t\\t\\t\\t\\t\\t\\t\\t\\t\\t\\n\\t\\t\\t\\t\\t\\t\\t\\t\\t\\n\\t\\t\\t\\t\\t\\t\\t\\t\\t\\t\\n\\t\\t\\t\\t\\t\\t\\t\\t\\t\\t\\n\\t\\t\\t\\t\\t\\t\\t\\t\\t\\t\\n\\t\\t\\t\\t\\t\\t\\t\\t\\t\\t\\n\\t\\t\\t\\t\\t\\t\\t\\t\\t\\t\\n\\t\\t\\t\\t\\t\\t\\t\\t\\t\\t\\t\\n\\t\\t\\t\\t\\t\\t\\t\\t\\t\\t\\n\\n\\t\\t\\t\\t\\t\\t\\t\\t\\t\\t<td class=\" last cell_strong\">\\n\\t\\t\\t\\t\\t\\t\\t\\t\\t\\t\\t\\n\\t\\t\\t\\t\\t\\t\\t\\t\\t\\t\\t\\n\\t\\t\\t\\t\\t\\t\\t\\t\\t\\t\\t\\t\\n\\t\\t\\t\\t8,889\\n\\t\\t\\t\\n\\t\\t\\t\\t\\t\\t\\t\\t\\t\\t\\t\\n\\t\\t\\t\\t\\t\\t\\t\\t\\t\\t</td>\\n\\t\\t\\t\\t\\t\\t\\t\\t\\t\\t\\n\\t\\t\\t\\t\\t\\t\\t\\t\\t\\n\\t\\t\\t\\t\\t\\t\\t\\t</tr>\\n\\t\\t\\t\\t\\t\\t\\t\\t<tr class=\"line_end\">\\n\\t\\t\\t\\t\\t\\t\\t\\t\\t<th scope=\"row\" class=\"h_th2 th_cop_anal10\"><strong>당기순이익</strong></th>\\n\\t\\t\\t\\t\\t\\t\\t\\t\\t\\n\\t\\t\\t\\t\\t\\t\\t\\t\\t\\t\\n\\t\\t\\t\\t\\t\\t\\t\\t\\t\\t\\n\\t\\t\\t\\t\\t\\t\\t\\t\\t\\t\\n\\t\\t\\t\\t\\t\\t\\t\\t\\t\\t\\n\\t\\t\\t\\t\\t\\t\\t\\t\\t\\t\\n\\t\\t\\t\\t\\t\\t\\t\\t\\t\\t<td class=\"\">\\n\\t\\t\\t\\t\\t\\t\\t\\t\\t\\t\\t\\n\\t\\t\\t\\t\\t\\t\\t\\t\\t\\t\\t\\n\\t\\t\\t\\t\\t\\t\\t\\t\\t\\t\\t\\t\\n\\t\\t\\t\\t1,799\\n\\t\\t\\t\\n\\t\\t\\t\\t\\t\\t\\t\\t\\t\\t\\t\\n\\t\\t\\t\\t\\t\\t\\t\\t\\t\\t</td>\\n\\t\\t\\t\\t\\t\\t\\t\\t\\t\\t\\n\\t\\t\\t\\t\\t\\t\\t\\t\\t\\n\\t\\t\\t\\t\\t\\t\\t\\t\\t\\t\\n\\t\\t\\t\\t\\t\\t\\t\\t\\t\\t\\n\\t\\t\\t\\t\\t\\t\\t\\t\\t\\t\\n\\t\\t\\t\\t\\t\\t\\t\\t\\t\\t\\n\\t\\t\\t\\t\\t\\t\\t\\t\\t\\t\\n\\t\\t\\t\\t\\t\\t\\t\\t\\t\\t<td class=\"\">\\n\\t\\t\\t\\t\\t\\t\\t\\t\\t\\t\\t\\n\\t\\t\\t\\t\\t\\t\\t\\t\\t\\t\\t\\n\\t\\t\\t\\t\\t\\t\\t\\t\\t\\t\\t\\t\\n\\t\\t\\t\\t20,638\\n\\t\\t\\t\\n\\t\\t\\t\\t\\t\\t\\t\\t\\t\\t\\t\\n\\t\\t\\t\\t\\t\\t\\t\\t\\t\\t</td>\\n\\t\\t\\t\\t\\t\\t\\t\\t\\t\\t\\n\\t\\t\\t\\t\\t\\t\\t\\t\\t\\n\\t\\t\\t\\t\\t\\t\\t\\t\\t\\t\\n\\t\\t\\t\\t\\t\\t\\t\\t\\t\\t\\n\\t\\t\\t\\t\\t\\t\\t\\t\\t\\t\\n\\t\\t\\t\\t\\t\\t\\t\\t\\t\\t\\n\\t\\t\\t\\t\\t\\t\\t\\t\\t\\t\\n\\t\\t\\t\\t\\t\\t\\t\\t\\t\\t<td class=\"\">\\n\\t\\t\\t\\t\\t\\t\\t\\t\\t\\t\\t\\n\\t\\t\\t\\t\\t\\t\\t\\t\\t\\t\\t\\n\\t\\t\\t\\t\\t\\t\\t\\t\\t\\t\\t\\t\\n\\t\\t\\t\\t14,150\\n\\t\\t\\t\\n\\t\\t\\t\\t\\t\\t\\t\\t\\t\\t\\t\\n\\t\\t\\t\\t\\t\\t\\t\\t\\t\\t</td>\\n\\t\\t\\t\\t\\t\\t\\t\\t\\t\\t\\n\\t\\t\\t\\t\\t\\t\\t\\t\\t\\n\\t\\t\\t\\t\\t\\t\\t\\t\\t\\t\\n\\t\\t\\t\\t\\t\\t\\t\\t\\t\\t\\n\\t\\t\\t\\t\\t\\t\\t\\t\\t\\t\\n\\t\\t\\t\\t\\t\\t\\t\\t\\t\\t\\n\\t\\t\\t\\t\\t\\t\\t\\t\\t\\t\\t\\n\\t\\t\\t\\t\\t\\t\\t\\t\\t\\t\\n\\t\\t\\t\\t\\t\\t\\t\\t\\t\\t\\n\\t\\t\\t\\t\\t\\t\\t\\t\\t\\t<td class=\" t_line cell_strong\">\\n\\t\\t\\t\\t\\t\\t\\t\\t\\t\\t\\t\\n\\t\\t\\t\\t\\t\\t\\t\\t\\t\\t\\t\\n\\t\\t\\t\\t\\t\\t\\t\\t\\t\\t\\t\\t\\n\\t\\t\\t\\t27,480\\n\\t\\t\\t\\n\\t\\t\\t\\t\\t\\t\\t\\t\\t\\t\\t\\n\\t\\t\\t\\t\\t\\t\\t\\t\\t\\t</td>\\n\\t\\t\\t\\t\\t\\t\\t\\t\\t\\t\\n\\t\\t\\t\\t\\t\\t\\t\\t\\t\\n\\t\\t\\t\\t\\t\\t\\t\\t\\t\\t\\n\\t\\t\\t\\t\\t\\t\\t\\t\\t\\t\\n\\t\\t\\t\\t\\t\\t\\t\\t\\t\\t\\n\\t\\t\\t\\t\\t\\t\\t\\t\\t\\t\\n\\t\\t\\t\\t\\t\\t\\t\\t\\t\\t\\n\\t\\t\\t\\t\\t\\t\\t\\t\\t\\t<td class=\"\">\\n\\t\\t\\t\\t\\t\\t\\t\\t\\t\\t\\t\\n\\t\\t\\t\\t\\t\\t\\t\\t\\t\\t\\t\\n\\t\\t\\t\\t\\t\\t\\t\\t\\t\\t\\t\\t\\n\\t\\t\\t\\t<em class=\"f_up\">\\n\\t\\t\\t\\t-2,920\\n\\t\\t\\t\\t</em>\\n\\t\\t\\t\\n\\t\\t\\t\\t\\t\\t\\t\\t\\t\\t\\t\\n\\t\\t\\t\\t\\t\\t\\t\\t\\t\\t</td>\\n\\t\\t\\t\\t\\t\\t\\t\\t\\t\\t\\n\\t\\t\\t\\t\\t\\t\\t\\t\\t\\n\\t\\t\\t\\t\\t\\t\\t\\t\\t\\t\\n\\t\\t\\t\\t\\t\\t\\t\\t\\t\\t\\n\\t\\t\\t\\t\\t\\t\\t\\t\\t\\t\\n\\t\\t\\t\\t\\t\\t\\t\\t\\t\\t\\n\\t\\t\\t\\t\\t\\t\\t\\t\\t\\t\\n\\t\\t\\t\\t\\t\\t\\t\\t\\t\\t<td class=\"\">\\n\\t\\t\\t\\t\\t\\t\\t\\t\\t\\t\\t\\n\\t\\t\\t\\t\\t\\t\\t\\t\\t\\t\\t\\n\\t\\t\\t\\t\\t\\t\\t\\t\\t\\t\\t\\t\\n\\t\\t\\t\\t5,165\\n\\t\\t\\t\\n\\t\\t\\t\\t\\t\\t\\t\\t\\t\\t\\t\\n\\t\\t\\t\\t\\t\\t\\t\\t\\t\\t</td>\\n\\t\\t\\t\\t\\t\\t\\t\\t\\t\\t\\n\\t\\t\\t\\t\\t\\t\\t\\t\\t\\n\\t\\t\\t\\t\\t\\t\\t\\t\\t\\t\\n\\t\\t\\t\\t\\t\\t\\t\\t\\t\\t\\n\\t\\t\\t\\t\\t\\t\\t\\t\\t\\t\\n\\t\\t\\t\\t\\t\\t\\t\\t\\t\\t\\n\\t\\t\\t\\t\\t\\t\\t\\t\\t\\t\\n\\t\\t\\t\\t\\t\\t\\t\\t\\t\\t<td class=\"\">\\n\\t\\t\\t\\t\\t\\t\\t\\t\\t\\t\\t\\n\\t\\t\\t\\t\\t\\t\\t\\t\\t\\t\\t\\n\\t\\t\\t\\t\\t\\t\\t\\t\\t\\t\\t\\t\\n\\t\\t\\t\\t213\\n\\t\\t\\t\\n\\t\\t\\t\\t\\t\\t\\t\\t\\t\\t\\t\\n\\t\\t\\t\\t\\t\\t\\t\\t\\t\\t</td>\\n\\t\\t\\t\\t\\t\\t\\t\\t\\t\\t\\n\\t\\t\\t\\t\\t\\t\\t\\t\\t\\n\\t\\t\\t\\t\\t\\t\\t\\t\\t\\t\\n\\t\\t\\t\\t\\t\\t\\t\\t\\t\\t\\n\\t\\t\\t\\t\\t\\t\\t\\t\\t\\t\\n\\t\\t\\t\\t\\t\\t\\t\\t\\t\\t\\n\\t\\t\\t\\t\\t\\t\\t\\t\\t\\t\\n\\t\\t\\t\\t\\t\\t\\t\\t\\t\\t<td class=\"\">\\n\\t\\t\\t\\t\\t\\t\\t\\t\\t\\t\\t\\n\\t\\t\\t\\t\\t\\t\\t\\t\\t\\t\\t\\n\\t\\t\\t\\t\\t\\t\\t\\t\\t\\t\\t\\t\\n\\t\\t\\t\\t14,010\\n\\t\\t\\t\\n\\t\\t\\t\\t\\t\\t\\t\\t\\t\\t\\t\\n\\t\\t\\t\\t\\t\\t\\t\\t\\t\\t</td>\\n\\t\\t\\t\\t\\t\\t\\t\\t\\t\\t\\n\\t\\t\\t\\t\\t\\t\\t\\t\\t\\n\\t\\t\\t\\t\\t\\t\\t\\t\\t\\t\\n\\t\\t\\t\\t\\t\\t\\t\\t\\t\\t\\n\\t\\t\\t\\t\\t\\t\\t\\t\\t\\t\\n\\t\\t\\t\\t\\t\\t\\t\\t\\t\\t\\n\\t\\t\\t\\t\\t\\t\\t\\t\\t\\t\\n\\t\\t\\t\\t\\t\\t\\t\\t\\t\\t<td class=\"\">\\n\\t\\t\\t\\t\\t\\t\\t\\t\\t\\t\\t\\n\\t\\t\\t\\t\\t\\t\\t\\t\\t\\t\\t\\n\\t\\t\\t\\t\\t\\t\\t\\t\\t\\t\\t\\t\\n\\t\\t\\t\\t3,380\\n\\t\\t\\t\\n\\t\\t\\t\\t\\t\\t\\t\\t\\t\\t\\t\\n\\t\\t\\t\\t\\t\\t\\t\\t\\t\\t</td>\\n\\t\\t\\t\\t\\t\\t\\t\\t\\t\\t\\n\\t\\t\\t\\t\\t\\t\\t\\t\\t\\n\\t\\t\\t\\t\\t\\t\\t\\t\\t\\t\\n\\t\\t\\t\\t\\t\\t\\t\\t\\t\\t\\n\\t\\t\\t\\t\\t\\t\\t\\t\\t\\t\\n\\t\\t\\t\\t\\t\\t\\t\\t\\t\\t\\n\\t\\t\\t\\t\\t\\t\\t\\t\\t\\t\\n\\t\\t\\t\\t\\t\\t\\t\\t\\t\\t\\t\\n\\t\\t\\t\\t\\t\\t\\t\\t\\t\\t\\n\\t\\t\\t\\t\\t\\t\\t\\t\\t\\t<td class=\" last cell_strong\">\\n\\t\\t\\t\\t\\t\\t\\t\\t\\t\\t\\t\\n\\t\\t\\t\\t\\t\\t\\t\\t\\t\\t\\t\\n\\t\\t\\t\\t\\t\\t\\t\\t\\t\\t\\t\\t\\n\\t\\t\\t\\t7,329\\n\\t\\t\\t\\n\\t\\t\\t\\t\\t\\t\\t\\t\\t\\t\\t\\n\\t\\t\\t\\t\\t\\t\\t\\t\\t\\t</td>\\n\\t\\t\\t\\t\\t\\t\\t\\t\\t\\t\\n\\t\\t\\t\\t\\t\\t\\t\\t\\t\\n\\t\\t\\t\\t\\t\\t\\t\\t</tr>\\n\\t\\t\\t\\t\\t\\t\\t\\t<tr>\\n\\t\\t\\t\\t\\t\\t\\t\\t\\t<th scope=\"row\" class=\"h_th2 th_cop_anal11\"><strong>영업이익률</strong></th>\\n\\t\\t\\t\\t\\t\\t\\t\\t\\t\\n\\t\\t\\t\\t\\t\\t\\t\\t\\t\\t\\n\\t\\t\\t\\t\\t\\t\\t\\t\\t\\t\\n\\t\\t\\t\\t\\t\\t\\t\\t\\t\\t\\n\\t\\t\\t\\t\\t\\t\\t\\t\\t\\t\\n\\t\\t\\t\\t\\t\\t\\t\\t\\t\\t\\n\\t\\t\\t\\t\\t\\t\\t\\t\\t\\t<td class=\"\">\\n\\t\\t\\t\\t\\t\\t\\t\\t\\t\\t\\t\\n\\t\\t\\t\\t\\t\\t\\t\\t\\t\\t\\t\\n\\t\\t\\t\\t\\t\\t\\t\\t\\t\\t\\t\\t\\n\\t\\t\\t\\t3.91\\n\\t\\t\\t\\n\\t\\t\\t\\t\\t\\t\\t\\t\\t\\t\\t\\n\\t\\t\\t\\t\\t\\t\\t\\t\\t\\t</td>\\n\\t\\t\\t\\t\\t\\t\\t\\t\\t\\t\\n\\t\\t\\t\\t\\t\\t\\t\\t\\t\\n\\t\\t\\t\\t\\t\\t\\t\\t\\t\\t\\n\\t\\t\\t\\t\\t\\t\\t\\t\\t\\t\\n\\t\\t\\t\\t\\t\\t\\t\\t\\t\\t\\n\\t\\t\\t\\t\\t\\t\\t\\t\\t\\t\\n\\t\\t\\t\\t\\t\\t\\t\\t\\t\\t\\n\\t\\t\\t\\t\\t\\t\\t\\t\\t\\t<td class=\"\">\\n\\t\\t\\t\\t\\t\\t\\t\\t\\t\\t\\t\\n\\t\\t\\t\\t\\t\\t\\t\\t\\t\\t\\t\\n\\t\\t\\t\\t\\t\\t\\t\\t\\t\\t\\t\\t\\n\\t\\t\\t\\t6.73\\n\\t\\t\\t\\n\\t\\t\\t\\t\\t\\t\\t\\t\\t\\t\\t\\n\\t\\t\\t\\t\\t\\t\\t\\t\\t\\t</td>\\n\\t\\t\\t\\t\\t\\t\\t\\t\\t\\t\\n\\t\\t\\t\\t\\t\\t\\t\\t\\t\\n\\t\\t\\t\\t\\t\\t\\t\\t\\t\\t\\n\\t\\t\\t\\t\\t\\t\\t\\t\\t\\t\\n\\t\\t\\t\\t\\t\\t\\t\\t\\t\\t\\n\\t\\t\\t\\t\\t\\t\\t\\t\\t\\t\\n\\t\\t\\t\\t\\t\\t\\t\\t\\t\\t\\n\\t\\t\\t\\t\\t\\t\\t\\t\\t\\t<td class=\"\">\\n\\t\\t\\t\\t\\t\\t\\t\\t\\t\\t\\t\\n\\t\\t\\t\\t\\t\\t\\t\\t\\t\\t\\t\\n\\t\\t\\t\\t\\t\\t\\t\\t\\t\\t\\t\\t\\n\\t\\t\\t\\t5.17\\n\\t\\t\\t\\n\\t\\t\\t\\t\\t\\t\\t\\t\\t\\t\\t\\n\\t\\t\\t\\t\\t\\t\\t\\t\\t\\t</td>\\n\\t\\t\\t\\t\\t\\t\\t\\t\\t\\t\\n\\t\\t\\t\\t\\t\\t\\t\\t\\t\\n\\t\\t\\t\\t\\t\\t\\t\\t\\t\\t\\n\\t\\t\\t\\t\\t\\t\\t\\t\\t\\t\\n\\t\\t\\t\\t\\t\\t\\t\\t\\t\\t\\n\\t\\t\\t\\t\\t\\t\\t\\t\\t\\t\\n\\t\\t\\t\\t\\t\\t\\t\\t\\t\\t\\t\\n\\t\\t\\t\\t\\t\\t\\t\\t\\t\\t\\n\\t\\t\\t\\t\\t\\t\\t\\t\\t\\t\\n\\t\\t\\t\\t\\t\\t\\t\\t\\t\\t<td class=\" t_line cell_strong\">\\n\\t\\t\\t\\t\\t\\t\\t\\t\\t\\t\\t\\n\\t\\t\\t\\t\\t\\t\\t\\t\\t\\t\\t\\n\\t\\t\\t\\t\\t\\t\\t\\t\\t\\t\\t\\t\\n\\t\\t\\t\\t5.37\\n\\t\\t\\t\\n\\t\\t\\t\\t\\t\\t\\t\\t\\t\\t\\t\\n\\t\\t\\t\\t\\t\\t\\t\\t\\t\\t</td>\\n\\t\\t\\t\\t\\t\\t\\t\\t\\t\\t\\n\\t\\t\\t\\t\\t\\t\\t\\t\\t\\n\\t\\t\\t\\t\\t\\t\\t\\t\\t\\t\\n\\t\\t\\t\\t\\t\\t\\t\\t\\t\\t\\n\\t\\t\\t\\t\\t\\t\\t\\t\\t\\t\\n\\t\\t\\t\\t\\t\\t\\t\\t\\t\\t\\n\\t\\t\\t\\t\\t\\t\\t\\t\\t\\t\\n\\t\\t\\t\\t\\t\\t\\t\\t\\t\\t<td class=\"\">\\n\\t\\t\\t\\t\\t\\t\\t\\t\\t\\t\\t\\n\\t\\t\\t\\t\\t\\t\\t\\t\\t\\t\\t\\n\\t\\t\\t\\t\\t\\t\\t\\t\\t\\t\\t\\t\\n\\t\\t\\t\\t5.13\\n\\t\\t\\t\\n\\t\\t\\t\\t\\t\\t\\t\\t\\t\\t\\t\\n\\t\\t\\t\\t\\t\\t\\t\\t\\t\\t</td>\\n\\t\\t\\t\\t\\t\\t\\t\\t\\t\\t\\n\\t\\t\\t\\t\\t\\t\\t\\t\\t\\n\\t\\t\\t\\t\\t\\t\\t\\t\\t\\t\\n\\t\\t\\t\\t\\t\\t\\t\\t\\t\\t\\n\\t\\t\\t\\t\\t\\t\\t\\t\\t\\t\\n\\t\\t\\t\\t\\t\\t\\t\\t\\t\\t\\n\\t\\t\\t\\t\\t\\t\\t\\t\\t\\t\\n\\t\\t\\t\\t\\t\\t\\t\\t\\t\\t<td class=\"\">\\n\\t\\t\\t\\t\\t\\t\\t\\t\\t\\t\\t\\n\\t\\t\\t\\t\\t\\t\\t\\t\\t\\t\\t\\n\\t\\t\\t\\t\\t\\t\\t\\t\\t\\t\\t\\t\\n\\t\\t\\t\\t2.88\\n\\t\\t\\t\\n\\t\\t\\t\\t\\t\\t\\t\\t\\t\\t\\t\\n\\t\\t\\t\\t\\t\\t\\t\\t\\t\\t</td>\\n\\t\\t\\t\\t\\t\\t\\t\\t\\t\\t\\n\\t\\t\\t\\t\\t\\t\\t\\t\\t\\n\\t\\t\\t\\t\\t\\t\\t\\t\\t\\t\\n\\t\\t\\t\\t\\t\\t\\t\\t\\t\\t\\n\\t\\t\\t\\t\\t\\t\\t\\t\\t\\t\\n\\t\\t\\t\\t\\t\\t\\t\\t\\t\\t\\n\\t\\t\\t\\t\\t\\t\\t\\t\\t\\t\\n\\t\\t\\t\\t\\t\\t\\t\\t\\t\\t<td class=\"\">\\n\\t\\t\\t\\t\\t\\t\\t\\t\\t\\t\\t\\n\\t\\t\\t\\t\\t\\t\\t\\t\\t\\t\\t\\n\\t\\t\\t\\t\\t\\t\\t\\t\\t\\t\\t\\t\\n\\t\\t\\t\\t3.23\\n\\t\\t\\t\\n\\t\\t\\t\\t\\t\\t\\t\\t\\t\\t\\t\\n\\t\\t\\t\\t\\t\\t\\t\\t\\t\\t</td>\\n\\t\\t\\t\\t\\t\\t\\t\\t\\t\\t\\n\\t\\t\\t\\t\\t\\t\\t\\t\\t\\n\\t\\t\\t\\t\\t\\t\\t\\t\\t\\t\\n\\t\\t\\t\\t\\t\\t\\t\\t\\t\\t\\n\\t\\t\\t\\t\\t\\t\\t\\t\\t\\t\\n\\t\\t\\t\\t\\t\\t\\t\\t\\t\\t\\n\\t\\t\\t\\t\\t\\t\\t\\t\\t\\t\\n\\t\\t\\t\\t\\t\\t\\t\\t\\t\\t<td class=\"\">\\n\\t\\t\\t\\t\\t\\t\\t\\t\\t\\t\\t\\n\\t\\t\\t\\t\\t\\t\\t\\t\\t\\t\\t\\n\\t\\t\\t\\t\\t\\t\\t\\t\\t\\t\\t\\t\\n\\t\\t\\t\\t8.91\\n\\t\\t\\t\\n\\t\\t\\t\\t\\t\\t\\t\\t\\t\\t\\t\\n\\t\\t\\t\\t\\t\\t\\t\\t\\t\\t</td>\\n\\t\\t\\t\\t\\t\\t\\t\\t\\t\\t\\n\\t\\t\\t\\t\\t\\t\\t\\t\\t\\n\\t\\t\\t\\t\\t\\t\\t\\t\\t\\t\\n\\t\\t\\t\\t\\t\\t\\t\\t\\t\\t\\n\\t\\t\\t\\t\\t\\t\\t\\t\\t\\t\\n\\t\\t\\t\\t\\t\\t\\t\\t\\t\\t\\n\\t\\t\\t\\t\\t\\t\\t\\t\\t\\t\\n\\t\\t\\t\\t\\t\\t\\t\\t\\t\\t<td class=\"\">\\n\\t\\t\\t\\t\\t\\t\\t\\t\\t\\t\\t\\n\\t\\t\\t\\t\\t\\t\\t\\t\\t\\t\\t\\n\\t\\t\\t\\t\\t\\t\\t\\t\\t\\t\\t\\t\\n\\t\\t\\t\\t4.07\\n\\t\\t\\t\\n\\t\\t\\t\\t\\t\\t\\t\\t\\t\\t\\t\\n\\t\\t\\t\\t\\t\\t\\t\\t\\t\\t</td>\\n\\t\\t\\t\\t\\t\\t\\t\\t\\t\\t\\n\\t\\t\\t\\t\\t\\t\\t\\t\\t\\n\\t\\t\\t\\t\\t\\t\\t\\t\\t\\t\\n\\t\\t\\t\\t\\t\\t\\t\\t\\t\\t\\n\\t\\t\\t\\t\\t\\t\\t\\t\\t\\t\\n\\t\\t\\t\\t\\t\\t\\t\\t\\t\\t\\n\\t\\t\\t\\t\\t\\t\\t\\t\\t\\t\\n\\t\\t\\t\\t\\t\\t\\t\\t\\t\\t\\t\\n\\t\\t\\t\\t\\t\\t\\t\\t\\t\\t\\n\\t\\t\\t\\t\\t\\t\\t\\t\\t\\t<td class=\" last cell_strong\">\\n\\t\\t\\t\\t\\t\\t\\t\\t\\t\\t\\t\\n\\t\\t\\t\\t\\t\\t\\t\\t\\t\\t\\t\\n\\t\\t\\t\\t\\t\\t\\t\\t\\t\\t\\t\\t\\n\\t\\t\\t\\t4.41\\n\\t\\t\\t\\n\\t\\t\\t\\t\\t\\t\\t\\t\\t\\t\\t\\n\\t\\t\\t\\t\\t\\t\\t\\t\\t\\t</td>\\n\\t\\t\\t\\t\\t\\t\\t\\t\\t\\t\\n\\t\\t\\t\\t\\t\\t\\t\\t\\t\\n\\t\\t\\t\\t\\t\\t\\t\\t</tr>\\n\\t\\t\\t\\t\\t\\t\\t\\t<tr>\\n\\t\\t\\t\\t\\t\\t\\t\\t\\t<th scope=\"row\" class=\"h_th2 th_cop_anal12\"><strong>순이익률</strong></th>\\n\\t\\t\\t\\t\\t\\t\\t\\t\\t\\n\\t\\t\\t\\t\\t\\t\\t\\t\\t\\t\\n\\t\\t\\t\\t\\t\\t\\t\\t\\t\\t\\n\\t\\t\\t\\t\\t\\t\\t\\t\\t\\t\\n\\t\\t\\t\\t\\t\\t\\t\\t\\t\\t\\n\\t\\t\\t\\t\\t\\t\\t\\t\\t\\t\\n\\t\\t\\t\\t\\t\\t\\t\\t\\t\\t<td class=\"\">\\n\\t\\t\\t\\t\\t\\t\\t\\t\\t\\t\\t\\n\\t\\t\\t\\t\\t\\t\\t\\t\\t\\t\\t\\n\\t\\t\\t\\t\\t\\t\\t\\t\\t\\t\\t\\t\\n\\t\\t\\t\\t0.29\\n\\t\\t\\t\\n\\t\\t\\t\\t\\t\\t\\t\\t\\t\\t\\t\\n\\t\\t\\t\\t\\t\\t\\t\\t\\t\\t</td>\\n\\t\\t\\t\\t\\t\\t\\t\\t\\t\\t\\n\\t\\t\\t\\t\\t\\t\\t\\t\\t\\n\\t\\t\\t\\t\\t\\t\\t\\t\\t\\t\\n\\t\\t\\t\\t\\t\\t\\t\\t\\t\\t\\n\\t\\t\\t\\t\\t\\t\\t\\t\\t\\t\\n\\t\\t\\t\\t\\t\\t\\t\\t\\t\\t\\n\\t\\t\\t\\t\\t\\t\\t\\t\\t\\t\\n\\t\\t\\t\\t\\t\\t\\t\\t\\t\\t<td class=\"\">\\n\\t\\t\\t\\t\\t\\t\\t\\t\\t\\t\\t\\n\\t\\t\\t\\t\\t\\t\\t\\t\\t\\t\\t\\n\\t\\t\\t\\t\\t\\t\\t\\t\\t\\t\\t\\t\\n\\t\\t\\t\\t3.55\\n\\t\\t\\t\\n\\t\\t\\t\\t\\t\\t\\t\\t\\t\\t\\t\\n\\t\\t\\t\\t\\t\\t\\t\\t\\t\\t</td>\\n\\t\\t\\t\\t\\t\\t\\t\\t\\t\\t\\n\\t\\t\\t\\t\\t\\t\\t\\t\\t\\n\\t\\t\\t\\t\\t\\t\\t\\t\\t\\t\\n\\t\\t\\t\\t\\t\\t\\t\\t\\t\\t\\n\\t\\t\\t\\t\\t\\t\\t\\t\\t\\t\\n\\t\\t\\t\\t\\t\\t\\t\\t\\t\\t\\n\\t\\t\\t\\t\\t\\t\\t\\t\\t\\t\\n\\t\\t\\t\\t\\t\\t\\t\\t\\t\\t<td class=\"\">\\n\\t\\t\\t\\t\\t\\t\\t\\t\\t\\t\\t\\n\\t\\t\\t\\t\\t\\t\\t\\t\\t\\t\\t\\n\\t\\t\\t\\t\\t\\t\\t\\t\\t\\t\\t\\t\\n\\t\\t\\t\\t1.89\\n\\t\\t\\t\\n\\t\\t\\t\\t\\t\\t\\t\\t\\t\\t\\t\\n\\t\\t\\t\\t\\t\\t\\t\\t\\t\\t</td>\\n\\t\\t\\t\\t\\t\\t\\t\\t\\t\\t\\n\\t\\t\\t\\t\\t\\t\\t\\t\\t\\n\\t\\t\\t\\t\\t\\t\\t\\t\\t\\t\\n\\t\\t\\t\\t\\t\\t\\t\\t\\t\\t\\n\\t\\t\\t\\t\\t\\t\\t\\t\\t\\t\\n\\t\\t\\t\\t\\t\\t\\t\\t\\t\\t\\n\\t\\t\\t\\t\\t\\t\\t\\t\\t\\t\\t\\n\\t\\t\\t\\t\\t\\t\\t\\t\\t\\t\\n\\t\\t\\t\\t\\t\\t\\t\\t\\t\\t\\n\\t\\t\\t\\t\\t\\t\\t\\t\\t\\t<td class=\" t_line cell_strong\">\\n\\t\\t\\t\\t\\t\\t\\t\\t\\t\\t\\t\\n\\t\\t\\t\\t\\t\\t\\t\\t\\t\\t\\t\\n\\t\\t\\t\\t\\t\\t\\t\\t\\t\\t\\t\\t\\n\\t\\t\\t\\t3.33\\n\\t\\t\\t\\n\\t\\t\\t\\t\\t\\t\\t\\t\\t\\t\\t\\n\\t\\t\\t\\t\\t\\t\\t\\t\\t\\t</td>\\n\\t\\t\\t\\t\\t\\t\\t\\t\\t\\t\\n\\t\\t\\t\\t\\t\\t\\t\\t\\t\\n\\t\\t\\t\\t\\t\\t\\t\\t\\t\\t\\n\\t\\t\\t\\t\\t\\t\\t\\t\\t\\t\\n\\t\\t\\t\\t\\t\\t\\t\\t\\t\\t\\n\\t\\t\\t\\t\\t\\t\\t\\t\\t\\t\\n\\t\\t\\t\\t\\t\\t\\t\\t\\t\\t\\n\\t\\t\\t\\t\\t\\t\\t\\t\\t\\t<td class=\"\">\\n\\t\\t\\t\\t\\t\\t\\t\\t\\t\\t\\t\\n\\t\\t\\t\\t\\t\\t\\t\\t\\t\\t\\t\\n\\t\\t\\t\\t\\t\\t\\t\\t\\t\\t\\t\\t\\n\\t\\t\\t\\t<em class=\"f_up\">\\n\\t\\t\\t\\t-1.71\\n\\t\\t\\t\\t</em>\\n\\t\\t\\t\\n\\t\\t\\t\\t\\t\\t\\t\\t\\t\\t\\t\\n\\t\\t\\t\\t\\t\\t\\t\\t\\t\\t</td>\\n\\t\\t\\t\\t\\t\\t\\t\\t\\t\\t\\n\\t\\t\\t\\t\\t\\t\\t\\t\\t\\n\\t\\t\\t\\t\\t\\t\\t\\t\\t\\t\\n\\t\\t\\t\\t\\t\\t\\t\\t\\t\\t\\n\\t\\t\\t\\t\\t\\t\\t\\t\\t\\t\\n\\t\\t\\t\\t\\t\\t\\t\\t\\t\\t\\n\\t\\t\\t\\t\\t\\t\\t\\t\\t\\t\\n\\t\\t\\t\\t\\t\\t\\t\\t\\t\\t<td class=\"\">\\n\\t\\t\\t\\t\\t\\t\\t\\t\\t\\t\\t\\n\\t\\t\\t\\t\\t\\t\\t\\t\\t\\t\\t\\n\\t\\t\\t\\t\\t\\t\\t\\t\\t\\t\\t\\t\\n\\t\\t\\t\\t2.75\\n\\t\\t\\t\\n\\t\\t\\t\\t\\t\\t\\t\\t\\t\\t\\t\\n\\t\\t\\t\\t\\t\\t\\t\\t\\t\\t</td>\\n\\t\\t\\t\\t\\t\\t\\t\\t\\t\\t\\n\\t\\t\\t\\t\\t\\t\\t\\t\\t\\n\\t\\t\\t\\t\\t\\t\\t\\t\\t\\t\\n\\t\\t\\t\\t\\t\\t\\t\\t\\t\\t\\n\\t\\t\\t\\t\\t\\t\\t\\t\\t\\t\\n\\t\\t\\t\\t\\t\\t\\t\\t\\t\\t\\n\\t\\t\\t\\t\\t\\t\\t\\t\\t\\t\\n\\t\\t\\t\\t\\t\\t\\t\\t\\t\\t<td class=\"\">\\n\\t\\t\\t\\t\\t\\t\\t\\t\\t\\t\\t\\n\\t\\t\\t\\t\\t\\t\\t\\t\\t\\t\\t\\n\\t\\t\\t\\t\\t\\t\\t\\t\\t\\t\\t\\t\\n\\t\\t\\t\\t0.10\\n\\t\\t\\t\\n\\t\\t\\t\\t\\t\\t\\t\\t\\t\\t\\t\\n\\t\\t\\t\\t\\t\\t\\t\\t\\t\\t</td>\\n\\t\\t\\t\\t\\t\\t\\t\\t\\t\\t\\n\\t\\t\\t\\t\\t\\t\\t\\t\\t\\n\\t\\t\\t\\t\\t\\t\\t\\t\\t\\t\\n\\t\\t\\t\\t\\t\\t\\t\\t\\t\\t\\n\\t\\t\\t\\t\\t\\t\\t\\t\\t\\t\\n\\t\\t\\t\\t\\t\\t\\t\\t\\t\\t\\n\\t\\t\\t\\t\\t\\t\\t\\t\\t\\t\\n\\t\\t\\t\\t\\t\\t\\t\\t\\t\\t<td class=\"\">\\n\\t\\t\\t\\t\\t\\t\\t\\t\\t\\t\\t\\n\\t\\t\\t\\t\\t\\t\\t\\t\\t\\t\\t\\n\\t\\t\\t\\t\\t\\t\\t\\t\\t\\t\\t\\t\\n\\t\\t\\t\\t6.64\\n\\t\\t\\t\\n\\t\\t\\t\\t\\t\\t\\t\\t\\t\\t\\t\\n\\t\\t\\t\\t\\t\\t\\t\\t\\t\\t</td>\\n\\t\\t\\t\\t\\t\\t\\t\\t\\t\\t\\n\\t\\t\\t\\t\\t\\t\\t\\t\\t\\n\\t\\t\\t\\t\\t\\t\\t\\t\\t\\t\\n\\t\\t\\t\\t\\t\\t\\t\\t\\t\\t\\n\\t\\t\\t\\t\\t\\t\\t\\t\\t\\t\\n\\t\\t\\t\\t\\t\\t\\t\\t\\t\\t\\n\\t\\t\\t\\t\\t\\t\\t\\t\\t\\t\\n\\t\\t\\t\\t\\t\\t\\t\\t\\t\\t<td class=\"\">\\n\\t\\t\\t\\t\\t\\t\\t\\t\\t\\t\\t\\n\\t\\t\\t\\t\\t\\t\\t\\t\\t\\t\\t\\n\\t\\t\\t\\t\\t\\t\\t\\t\\t\\t\\t\\t\\n\\t\\t\\t\\t1.74\\n\\t\\t\\t\\n\\t\\t\\t\\t\\t\\t\\t\\t\\t\\t\\t\\n\\t\\t\\t\\t\\t\\t\\t\\t\\t\\t</td>\\n\\t\\t\\t\\t\\t\\t\\t\\t\\t\\t\\n\\t\\t\\t\\t\\t\\t\\t\\t\\t\\n\\t\\t\\t\\t\\t\\t\\t\\t\\t\\t\\n\\t\\t\\t\\t\\t\\t\\t\\t\\t\\t\\n\\t\\t\\t\\t\\t\\t\\t\\t\\t\\t\\n\\t\\t\\t\\t\\t\\t\\t\\t\\t\\t\\n\\t\\t\\t\\t\\t\\t\\t\\t\\t\\t\\n\\t\\t\\t\\t\\t\\t\\t\\t\\t\\t\\t\\n\\t\\t\\t\\t\\t\\t\\t\\t\\t\\t\\n\\t\\t\\t\\t\\t\\t\\t\\t\\t\\t<td class=\" last cell_strong\">\\n\\t\\t\\t\\t\\t\\t\\t\\t\\t\\t\\t\\n\\t\\t\\t\\t\\t\\t\\t\\t\\t\\t\\t\\n\\t\\t\\t\\t\\t\\t\\t\\t\\t\\t\\t\\t\\n\\t\\t\\t\\t3.64\\n\\t\\t\\t\\n\\t\\t\\t\\t\\t\\t\\t\\t\\t\\t\\t\\n\\t\\t\\t\\t\\t\\t\\t\\t\\t\\t</td>\\n\\t\\t\\t\\t\\t\\t\\t\\t\\t\\t\\n\\t\\t\\t\\t\\t\\t\\t\\t\\t\\n\\t\\t\\t\\t\\t\\t\\t\\t</tr>\\n\\t\\t\\t\\t\\t\\t\\t\\t<tr class=\"line_end\">\\n\\t\\t\\t\\t\\t\\t\\t\\t\\t<th scope=\"row\" class=\"h_th2 th_cop_anal13\"><strong>ROE(지배주주)</strong></th>\\n\\t\\t\\t\\t\\t\\t\\t\\t\\t\\n\\t\\t\\t\\t\\t\\t\\t\\t\\t\\t\\n\\t\\t\\t\\t\\t\\t\\t\\t\\t\\t\\n\\t\\t\\t\\t\\t\\t\\t\\t\\t\\t\\n\\t\\t\\t\\t\\t\\t\\t\\t\\t\\t\\n\\t\\t\\t\\t\\t\\t\\t\\t\\t\\t\\n\\t\\t\\t\\t\\t\\t\\t\\t\\t\\t<td class=\"\">\\n\\t\\t\\t\\t\\t\\t\\t\\t\\t\\t\\t\\n\\t\\t\\t\\t\\t\\t\\t\\t\\t\\t\\t\\n\\t\\t\\t\\t\\t\\t\\t\\t\\t\\t\\t\\t\\n\\t\\t\\t\\t0.22\\n\\t\\t\\t\\n\\t\\t\\t\\t\\t\\t\\t\\t\\t\\t\\t\\n\\t\\t\\t\\t\\t\\t\\t\\t\\t\\t</td>\\n\\t\\t\\t\\t\\t\\t\\t\\t\\t\\t\\n\\t\\t\\t\\t\\t\\t\\t\\t\\t\\n\\t\\t\\t\\t\\t\\t\\t\\t\\t\\t\\n\\t\\t\\t\\t\\t\\t\\t\\t\\t\\t\\n\\t\\t\\t\\t\\t\\t\\t\\t\\t\\t\\n\\t\\t\\t\\t\\t\\t\\t\\t\\t\\t\\n\\t\\t\\t\\t\\t\\t\\t\\t\\t\\t\\n\\t\\t\\t\\t\\t\\t\\t\\t\\t\\t<td class=\"\">\\n\\t\\t\\t\\t\\t\\t\\t\\t\\t\\t\\t\\n\\t\\t\\t\\t\\t\\t\\t\\t\\t\\t\\t\\n\\t\\t\\t\\t\\t\\t\\t\\t\\t\\t\\t\\t\\n\\t\\t\\t\\t13.23\\n\\t\\t\\t\\n\\t\\t\\t\\t\\t\\t\\t\\t\\t\\t\\t\\n\\t\\t\\t\\t\\t\\t\\t\\t\\t\\t</td>\\n\\t\\t\\t\\t\\t\\t\\t\\t\\t\\t\\n\\t\\t\\t\\t\\t\\t\\t\\t\\t\\n\\t\\t\\t\\t\\t\\t\\t\\t\\t\\t\\n\\t\\t\\t\\t\\t\\t\\t\\t\\t\\t\\n\\t\\t\\t\\t\\t\\t\\t\\t\\t\\t\\n\\t\\t\\t\\t\\t\\t\\t\\t\\t\\t\\n\\t\\t\\t\\t\\t\\t\\t\\t\\t\\t\\n\\t\\t\\t\\t\\t\\t\\t\\t\\t\\t<td class=\"\">\\n\\t\\t\\t\\t\\t\\t\\t\\t\\t\\t\\t\\n\\t\\t\\t\\t\\t\\t\\t\\t\\t\\t\\t\\n\\t\\t\\t\\t\\t\\t\\t\\t\\t\\t\\t\\t\\n\\t\\t\\t\\t6.32\\n\\t\\t\\t\\n\\t\\t\\t\\t\\t\\t\\t\\t\\t\\t\\t\\n\\t\\t\\t\\t\\t\\t\\t\\t\\t\\t</td>\\n\\t\\t\\t\\t\\t\\t\\t\\t\\t\\t\\n\\t\\t\\t\\t\\t\\t\\t\\t\\t\\n\\t\\t\\t\\t\\t\\t\\t\\t\\t\\t\\n\\t\\t\\t\\t\\t\\t\\t\\t\\t\\t\\n\\t\\t\\t\\t\\t\\t\\t\\t\\t\\t\\n\\t\\t\\t\\t\\t\\t\\t\\t\\t\\t\\n\\t\\t\\t\\t\\t\\t\\t\\t\\t\\t\\t\\n\\t\\t\\t\\t\\t\\t\\t\\t\\t\\t\\n\\t\\t\\t\\t\\t\\t\\t\\t\\t\\t\\n\\t\\t\\t\\t\\t\\t\\t\\t\\t\\t<td class=\" t_line cell_strong\">\\n\\t\\t\\t\\t\\t\\t\\t\\t\\t\\t\\t\\n\\t\\t\\t\\t\\t\\t\\t\\t\\t\\t\\t\\n\\t\\t\\t\\t\\t\\t\\t\\t\\t\\t\\t\\t\\n\\t\\t\\t\\t12.51\\n\\t\\t\\t\\n\\t\\t\\t\\t\\t\\t\\t\\t\\t\\t\\t\\n\\t\\t\\t\\t\\t\\t\\t\\t\\t\\t</td>\\n\\t\\t\\t\\t\\t\\t\\t\\t\\t\\t\\n\\t\\t\\t\\t\\t\\t\\t\\t\\t\\n\\t\\t\\t\\t\\t\\t\\t\\t\\t\\t\\n\\t\\t\\t\\t\\t\\t\\t\\t\\t\\t\\n\\t\\t\\t\\t\\t\\t\\t\\t\\t\\t\\n\\t\\t\\t\\t\\t\\t\\t\\t\\t\\t\\n\\t\\t\\t\\t\\t\\t\\t\\t\\t\\t\\n\\t\\t\\t\\t\\t\\t\\t\\t\\t\\t<td class=\"\">\\n\\t\\t\\t\\t\\t\\t\\t\\t\\t\\t\\t\\n\\t\\t\\t\\t\\t\\t\\t\\t\\t\\t\\t\\n\\t\\t\\t\\t\\t\\t\\t\\t\\t\\t\\t\\t\\n\\t\\t\\t\\t9.47\\n\\t\\t\\t\\n\\t\\t\\t\\t\\t\\t\\t\\t\\t\\t\\t\\n\\t\\t\\t\\t\\t\\t\\t\\t\\t\\t</td>\\n\\t\\t\\t\\t\\t\\t\\t\\t\\t\\t\\n\\t\\t\\t\\t\\t\\t\\t\\t\\t\\n\\t\\t\\t\\t\\t\\t\\t\\t\\t\\t\\n\\t\\t\\t\\t\\t\\t\\t\\t\\t\\t\\n\\t\\t\\t\\t\\t\\t\\t\\t\\t\\t\\n\\t\\t\\t\\t\\t\\t\\t\\t\\t\\t\\n\\t\\t\\t\\t\\t\\t\\t\\t\\t\\t\\n\\t\\t\\t\\t\\t\\t\\t\\t\\t\\t<td class=\"\">\\n\\t\\t\\t\\t\\t\\t\\t\\t\\t\\t\\t\\n\\t\\t\\t\\t\\t\\t\\t\\t\\t\\t\\t\\n\\t\\t\\t\\t\\t\\t\\t\\t\\t\\t\\t\\t\\n\\t\\t\\t\\t7.59\\n\\t\\t\\t\\n\\t\\t\\t\\t\\t\\t\\t\\t\\t\\t\\t\\n\\t\\t\\t\\t\\t\\t\\t\\t\\t\\t</td>\\n\\t\\t\\t\\t\\t\\t\\t\\t\\t\\t\\n\\t\\t\\t\\t\\t\\t\\t\\t\\t\\n\\t\\t\\t\\t\\t\\t\\t\\t\\t\\t\\n\\t\\t\\t\\t\\t\\t\\t\\t\\t\\t\\n\\t\\t\\t\\t\\t\\t\\t\\t\\t\\t\\n\\t\\t\\t\\t\\t\\t\\t\\t\\t\\t\\n\\t\\t\\t\\t\\t\\t\\t\\t\\t\\t\\n\\t\\t\\t\\t\\t\\t\\t\\t\\t\\t<td class=\"\">\\n\\t\\t\\t\\t\\t\\t\\t\\t\\t\\t\\t\\n\\t\\t\\t\\t\\t\\t\\t\\t\\t\\t\\t\\n\\t\\t\\t\\t\\t\\t\\t\\t\\t\\t\\t\\t\\n\\t\\t\\t\\t6.32\\n\\t\\t\\t\\n\\t\\t\\t\\t\\t\\t\\t\\t\\t\\t\\t\\n\\t\\t\\t\\t\\t\\t\\t\\t\\t\\t</td>\\n\\t\\t\\t\\t\\t\\t\\t\\t\\t\\t\\n\\t\\t\\t\\t\\t\\t\\t\\t\\t\\n\\t\\t\\t\\t\\t\\t\\t\\t\\t\\t\\n\\t\\t\\t\\t\\t\\t\\t\\t\\t\\t\\n\\t\\t\\t\\t\\t\\t\\t\\t\\t\\t\\n\\t\\t\\t\\t\\t\\t\\t\\t\\t\\t\\n\\t\\t\\t\\t\\t\\t\\t\\t\\t\\t\\n\\t\\t\\t\\t\\t\\t\\t\\t\\t\\t<td class=\"\">\\n\\t\\t\\t\\t\\t\\t\\t\\t\\t\\t\\t\\n\\t\\t\\t\\t\\t\\t\\t\\t\\t\\t\\t\\n\\t\\t\\t\\t\\t\\t\\t\\t\\t\\t\\t\\t\\n\\t\\t\\t\\t7.12\\n\\t\\t\\t\\n\\t\\t\\t\\t\\t\\t\\t\\t\\t\\t\\t\\n\\t\\t\\t\\t\\t\\t\\t\\t\\t\\t</td>\\n\\t\\t\\t\\t\\t\\t\\t\\t\\t\\t\\n\\t\\t\\t\\t\\t\\t\\t\\t\\t\\n\\t\\t\\t\\t\\t\\t\\t\\t\\t\\t\\n\\t\\t\\t\\t\\t\\t\\t\\t\\t\\t\\n\\t\\t\\t\\t\\t\\t\\t\\t\\t\\t\\n\\t\\t\\t\\t\\t\\t\\t\\t\\t\\t\\n\\t\\t\\t\\t\\t\\t\\t\\t\\t\\t\\n\\t\\t\\t\\t\\t\\t\\t\\t\\t\\t<td class=\"\">\\n\\t\\t\\t\\t\\t\\t\\t\\t\\t\\t\\t\\n\\t\\t\\t\\t\\t\\t\\t\\t\\t\\t\\t\\n\\t\\t\\t\\t\\t\\t\\t\\t\\t\\t\\t\\t\\n\\t\\t\\t\\t10.13\\n\\t\\t\\t\\n\\t\\t\\t\\t\\t\\t\\t\\t\\t\\t\\t\\n\\t\\t\\t\\t\\t\\t\\t\\t\\t\\t</td>\\n\\t\\t\\t\\t\\t\\t\\t\\t\\t\\t\\n\\t\\t\\t\\t\\t\\t\\t\\t\\t\\n\\t\\t\\t\\t\\t\\t\\t\\t\\t\\t\\n\\t\\t\\t\\t\\t\\t\\t\\t\\t\\t\\n\\t\\t\\t\\t\\t\\t\\t\\t\\t\\t\\n\\t\\t\\t\\t\\t\\t\\t\\t\\t\\t\\t\\n\\t\\t\\t\\t\\t\\t\\t\\t\\t\\t\\n\\t\\t\\t\\t\\t\\t\\t\\t\\t\\t\\n\\t\\t\\t\\t\\t\\t\\t\\t\\t\\t\\n\\t\\t\\t\\t\\t\\t\\t\\t\\t\\t\\t\\n\\t\\t\\t\\t\\t\\t\\t\\t\\t\\t\\n\\t\\t\\t\\t\\t\\t\\t\\t\\t\\t<td class=\" null last cell_strong\">\\n\\t\\t\\t\\t\\t\\t\\t\\t\\t\\t\\t&nbsp;\\n\\t\\t\\t\\t\\t\\t\\t\\t\\t\\t\\t\\n\\t\\t\\t\\t\\t\\t\\t\\t\\t\\t</td>\\n\\t\\t\\t\\t\\t\\t\\t\\t\\t\\t\\n\\t\\t\\t\\t\\t\\t\\t\\t\\t\\n\\t\\t\\t\\t\\t\\t\\t\\t</tr>\\n\\t\\t\\t\\t\\t\\t\\t\\t<tr>\\n\\t\\t\\t\\t\\t\\t\\t\\t\\t<th scope=\"row\" class=\"h_th2 th_cop_anal14\"><strong>부채비율</strong></th>\\n\\t\\t\\t\\t\\t\\t\\t\\t\\t\\n\\t\\t\\t\\t\\t\\t\\t\\t\\t\\t\\n\\t\\t\\t\\t\\t\\t\\t\\t\\t\\t\\n\\t\\t\\t\\t\\t\\t\\t\\t\\t\\t\\n\\t\\t\\t\\t\\t\\t\\t\\t\\t\\t\\n\\t\\t\\t\\t\\t\\t\\t\\t\\t\\t\\n\\t\\t\\t\\t\\t\\t\\t\\t\\t\\t<td class=\"\">\\n\\t\\t\\t\\t\\t\\t\\t\\t\\t\\t\\t\\n\\t\\t\\t\\t\\t\\t\\t\\t\\t\\t\\t\\n\\t\\t\\t\\t\\t\\t\\t\\t\\t\\t\\t\\t\\n\\t\\t\\t\\t173.12\\n\\t\\t\\t\\n\\t\\t\\t\\t\\t\\t\\t\\t\\t\\t\\t\\n\\t\\t\\t\\t\\t\\t\\t\\t\\t\\t</td>\\n\\t\\t\\t\\t\\t\\t\\t\\t\\t\\t\\n\\t\\t\\t\\t\\t\\t\\t\\t\\t\\n\\t\\t\\t\\t\\t\\t\\t\\t\\t\\t\\n\\t\\t\\t\\t\\t\\t\\t\\t\\t\\t\\n\\t\\t\\t\\t\\t\\t\\t\\t\\t\\t\\n\\t\\t\\t\\t\\t\\t\\t\\t\\t\\t\\n\\t\\t\\t\\t\\t\\t\\t\\t\\t\\t\\n\\t\\t\\t\\t\\t\\t\\t\\t\\t\\t<td class=\"\">\\n\\t\\t\\t\\t\\t\\t\\t\\t\\t\\t\\t\\n\\t\\t\\t\\t\\t\\t\\t\\t\\t\\t\\t\\n\\t\\t\\t\\t\\t\\t\\t\\t\\t\\t\\t\\t\\n\\t\\t\\t\\t174.79\\n\\t\\t\\t\\n\\t\\t\\t\\t\\t\\t\\t\\t\\t\\t\\t\\n\\t\\t\\t\\t\\t\\t\\t\\t\\t\\t</td>\\n\\t\\t\\t\\t\\t\\t\\t\\t\\t\\t\\n\\t\\t\\t\\t\\t\\t\\t\\t\\t\\n\\t\\t\\t\\t\\t\\t\\t\\t\\t\\t\\n\\t\\t\\t\\t\\t\\t\\t\\t\\t\\t\\n\\t\\t\\t\\t\\t\\t\\t\\t\\t\\t\\n\\t\\t\\t\\t\\t\\t\\t\\t\\t\\t\\n\\t\\t\\t\\t\\t\\t\\t\\t\\t\\t\\n\\t\\t\\t\\t\\t\\t\\t\\t\\t\\t<td class=\"\">\\n\\t\\t\\t\\t\\t\\t\\t\\t\\t\\t\\t\\n\\t\\t\\t\\t\\t\\t\\t\\t\\t\\t\\t\\n\\t\\t\\t\\t\\t\\t\\t\\t\\t\\t\\t\\t\\n\\t\\t\\t\\t166.10\\n\\t\\t\\t\\n\\t\\t\\t\\t\\t\\t\\t\\t\\t\\t\\t\\n\\t\\t\\t\\t\\t\\t\\t\\t\\t\\t</td>\\n\\t\\t\\t\\t\\t\\t\\t\\t\\t\\t\\n\\t\\t\\t\\t\\t\\t\\t\\t\\t\\n\\t\\t\\t\\t\\t\\t\\t\\t\\t\\t\\n\\t\\t\\t\\t\\t\\t\\t\\t\\t\\t\\n\\t\\t\\t\\t\\t\\t\\t\\t\\t\\t\\n\\t\\t\\t\\t\\t\\t\\t\\t\\t\\t\\t\\n\\t\\t\\t\\t\\t\\t\\t\\t\\t\\t\\n\\t\\t\\t\\t\\t\\t\\t\\t\\t\\t\\n\\t\\t\\t\\t\\t\\t\\t\\t\\t\\t\\t\\n\\t\\t\\t\\t\\t\\t\\t\\t\\t\\t\\n\\t\\t\\t\\t\\t\\t\\t\\t\\t\\t\\n\\t\\t\\t\\t\\t\\t\\t\\t\\t\\t<td class=\" null t_line cell_strong\">\\n\\t\\t\\t\\t\\t\\t\\t\\t\\t\\t\\t&nbsp;\\n\\t\\t\\t\\t\\t\\t\\t\\t\\t\\t\\t\\n\\t\\t\\t\\t\\t\\t\\t\\t\\t\\t</td>\\n\\t\\t\\t\\t\\t\\t\\t\\t\\t\\t\\n\\t\\t\\t\\t\\t\\t\\t\\t\\t\\n\\t\\t\\t\\t\\t\\t\\t\\t\\t\\t\\n\\t\\t\\t\\t\\t\\t\\t\\t\\t\\t\\n\\t\\t\\t\\t\\t\\t\\t\\t\\t\\t\\n\\t\\t\\t\\t\\t\\t\\t\\t\\t\\t\\n\\t\\t\\t\\t\\t\\t\\t\\t\\t\\t\\n\\t\\t\\t\\t\\t\\t\\t\\t\\t\\t<td class=\"\">\\n\\t\\t\\t\\t\\t\\t\\t\\t\\t\\t\\t\\n\\t\\t\\t\\t\\t\\t\\t\\t\\t\\t\\t\\n\\t\\t\\t\\t\\t\\t\\t\\t\\t\\t\\t\\t\\n\\t\\t\\t\\t170.92\\n\\t\\t\\t\\n\\t\\t\\t\\t\\t\\t\\t\\t\\t\\t\\t\\n\\t\\t\\t\\t\\t\\t\\t\\t\\t\\t</td>\\n\\t\\t\\t\\t\\t\\t\\t\\t\\t\\t\\n\\t\\t\\t\\t\\t\\t\\t\\t\\t\\n\\t\\t\\t\\t\\t\\t\\t\\t\\t\\t\\n\\t\\t\\t\\t\\t\\t\\t\\t\\t\\t\\n\\t\\t\\t\\t\\t\\t\\t\\t\\t\\t\\n\\t\\t\\t\\t\\t\\t\\t\\t\\t\\t\\n\\t\\t\\t\\t\\t\\t\\t\\t\\t\\t\\n\\t\\t\\t\\t\\t\\t\\t\\t\\t\\t<td class=\"\">\\n\\t\\t\\t\\t\\t\\t\\t\\t\\t\\t\\t\\n\\t\\t\\t\\t\\t\\t\\t\\t\\t\\t\\t\\n\\t\\t\\t\\t\\t\\t\\t\\t\\t\\t\\t\\t\\n\\t\\t\\t\\t168.70\\n\\t\\t\\t\\n\\t\\t\\t\\t\\t\\t\\t\\t\\t\\t\\t\\n\\t\\t\\t\\t\\t\\t\\t\\t\\t\\t</td>\\n\\t\\t\\t\\t\\t\\t\\t\\t\\t\\t\\n\\t\\t\\t\\t\\t\\t\\t\\t\\t\\n\\t\\t\\t\\t\\t\\t\\t\\t\\t\\t\\n\\t\\t\\t\\t\\t\\t\\t\\t\\t\\t\\n\\t\\t\\t\\t\\t\\t\\t\\t\\t\\t\\n\\t\\t\\t\\t\\t\\t\\t\\t\\t\\t\\n\\t\\t\\t\\t\\t\\t\\t\\t\\t\\t\\n\\t\\t\\t\\t\\t\\t\\t\\t\\t\\t<td class=\"\">\\n\\t\\t\\t\\t\\t\\t\\t\\t\\t\\t\\t\\n\\t\\t\\t\\t\\t\\t\\t\\t\\t\\t\\t\\n\\t\\t\\t\\t\\t\\t\\t\\t\\t\\t\\t\\t\\n\\t\\t\\t\\t166.10\\n\\t\\t\\t\\n\\t\\t\\t\\t\\t\\t\\t\\t\\t\\t\\t\\n\\t\\t\\t\\t\\t\\t\\t\\t\\t\\t</td>\\n\\t\\t\\t\\t\\t\\t\\t\\t\\t\\t\\n\\t\\t\\t\\t\\t\\t\\t\\t\\t\\n\\t\\t\\t\\t\\t\\t\\t\\t\\t\\t\\n\\t\\t\\t\\t\\t\\t\\t\\t\\t\\t\\n\\t\\t\\t\\t\\t\\t\\t\\t\\t\\t\\n\\t\\t\\t\\t\\t\\t\\t\\t\\t\\t\\n\\t\\t\\t\\t\\t\\t\\t\\t\\t\\t\\n\\t\\t\\t\\t\\t\\t\\t\\t\\t\\t<td class=\"\">\\n\\t\\t\\t\\t\\t\\t\\t\\t\\t\\t\\t\\n\\t\\t\\t\\t\\t\\t\\t\\t\\t\\t\\t\\n\\t\\t\\t\\t\\t\\t\\t\\t\\t\\t\\t\\t\\n\\t\\t\\t\\t151.60\\n\\t\\t\\t\\n\\t\\t\\t\\t\\t\\t\\t\\t\\t\\t\\t\\n\\t\\t\\t\\t\\t\\t\\t\\t\\t\\t</td>\\n\\t\\t\\t\\t\\t\\t\\t\\t\\t\\t\\n\\t\\t\\t\\t\\t\\t\\t\\t\\t\\n\\t\\t\\t\\t\\t\\t\\t\\t\\t\\t\\n\\t\\t\\t\\t\\t\\t\\t\\t\\t\\t\\n\\t\\t\\t\\t\\t\\t\\t\\t\\t\\t\\n\\t\\t\\t\\t\\t\\t\\t\\t\\t\\t\\n\\t\\t\\t\\t\\t\\t\\t\\t\\t\\t\\n\\t\\t\\t\\t\\t\\t\\t\\t\\t\\t<td class=\"\">\\n\\t\\t\\t\\t\\t\\t\\t\\t\\t\\t\\t\\n\\t\\t\\t\\t\\t\\t\\t\\t\\t\\t\\t\\n\\t\\t\\t\\t\\t\\t\\t\\t\\t\\t\\t\\t\\n\\t\\t\\t\\t138.11\\n\\t\\t\\t\\n\\t\\t\\t\\t\\t\\t\\t\\t\\t\\t\\t\\n\\t\\t\\t\\t\\t\\t\\t\\t\\t\\t</td>\\n\\t\\t\\t\\t\\t\\t\\t\\t\\t\\t\\n\\t\\t\\t\\t\\t\\t\\t\\t\\t\\n\\t\\t\\t\\t\\t\\t\\t\\t\\t\\t\\n\\t\\t\\t\\t\\t\\t\\t\\t\\t\\t\\n\\t\\t\\t\\t\\t\\t\\t\\t\\t\\t\\n\\t\\t\\t\\t\\t\\t\\t\\t\\t\\t\\t\\n\\t\\t\\t\\t\\t\\t\\t\\t\\t\\t\\n\\t\\t\\t\\t\\t\\t\\t\\t\\t\\t\\n\\t\\t\\t\\t\\t\\t\\t\\t\\t\\t\\n\\t\\t\\t\\t\\t\\t\\t\\t\\t\\t\\t\\n\\t\\t\\t\\t\\t\\t\\t\\t\\t\\t\\n\\t\\t\\t\\t\\t\\t\\t\\t\\t\\t<td class=\" null last cell_strong\">\\n\\t\\t\\t\\t\\t\\t\\t\\t\\t\\t\\t&nbsp;\\n\\t\\t\\t\\t\\t\\t\\t\\t\\t\\t\\t\\n\\t\\t\\t\\t\\t\\t\\t\\t\\t\\t</td>\\n\\t\\t\\t\\t\\t\\t\\t\\t\\t\\t\\n\\t\\t\\t\\t\\t\\t\\t\\t\\t\\n\\t\\t\\t\\t\\t\\t\\t\\t</tr>\\n\\t\\t\\t\\t\\t\\t\\t\\t<tr>\\n\\t\\t\\t\\t\\t\\t\\t\\t\\t<th scope=\"row\" class=\"h_th2 th_cop_anal15\"><strong>당좌비율</strong></th>\\n\\t\\t\\t\\t\\t\\t\\t\\t\\t\\n\\t\\t\\t\\t\\t\\t\\t\\t\\t\\t\\n\\t\\t\\t\\t\\t\\t\\t\\t\\t\\t\\n\\t\\t\\t\\t\\t\\t\\t\\t\\t\\t\\n\\t\\t\\t\\t\\t\\t\\t\\t\\t\\t\\n\\t\\t\\t\\t\\t\\t\\t\\t\\t\\t\\n\\t\\t\\t\\t\\t\\t\\t\\t\\t\\t<td class=\"\">\\n\\t\\t\\t\\t\\t\\t\\t\\t\\t\\t\\t\\n\\t\\t\\t\\t\\t\\t\\t\\t\\t\\t\\t\\n\\t\\t\\t\\t\\t\\t\\t\\t\\t\\t\\t\\t\\n\\t\\t\\t\\t74.78\\n\\t\\t\\t\\n\\t\\t\\t\\t\\t\\t\\t\\t\\t\\t\\t\\n\\t\\t\\t\\t\\t\\t\\t\\t\\t\\t</td>\\n\\t\\t\\t\\t\\t\\t\\t\\t\\t\\t\\n\\t\\t\\t\\t\\t\\t\\t\\t\\t\\n\\t\\t\\t\\t\\t\\t\\t\\t\\t\\t\\n\\t\\t\\t\\t\\t\\t\\t\\t\\t\\t\\n\\t\\t\\t\\t\\t\\t\\t\\t\\t\\t\\n\\t\\t\\t\\t\\t\\t\\t\\t\\t\\t\\n\\t\\t\\t\\t\\t\\t\\t\\t\\t\\t\\n\\t\\t\\t\\t\\t\\t\\t\\t\\t\\t<td class=\"\">\\n\\t\\t\\t\\t\\t\\t\\t\\t\\t\\t\\t\\n\\t\\t\\t\\t\\t\\t\\t\\t\\t\\t\\t\\n\\t\\t\\t\\t\\t\\t\\t\\t\\t\\t\\t\\t\\n\\t\\t\\t\\t73.04\\n\\t\\t\\t\\n\\t\\t\\t\\t\\t\\t\\t\\t\\t\\t\\t\\n\\t\\t\\t\\t\\t\\t\\t\\t\\t\\t</td>\\n\\t\\t\\t\\t\\t\\t\\t\\t\\t\\t\\n\\t\\t\\t\\t\\t\\t\\t\\t\\t\\n\\t\\t\\t\\t\\t\\t\\t\\t\\t\\t\\n\\t\\t\\t\\t\\t\\t\\t\\t\\t\\t\\n\\t\\t\\t\\t\\t\\t\\t\\t\\t\\t\\n\\t\\t\\t\\t\\t\\t\\t\\t\\t\\t\\n\\t\\t\\t\\t\\t\\t\\t\\t\\t\\t\\n\\t\\t\\t\\t\\t\\t\\t\\t\\t\\t<td class=\"\">\\n\\t\\t\\t\\t\\t\\t\\t\\t\\t\\t\\t\\n\\t\\t\\t\\t\\t\\t\\t\\t\\t\\t\\t\\n\\t\\t\\t\\t\\t\\t\\t\\t\\t\\t\\t\\t\\n\\t\\t\\t\\t71.71\\n\\t\\t\\t\\n\\t\\t\\t\\t\\t\\t\\t\\t\\t\\t\\t\\n\\t\\t\\t\\t\\t\\t\\t\\t\\t\\t</td>\\n\\t\\t\\t\\t\\t\\t\\t\\t\\t\\t\\n\\t\\t\\t\\t\\t\\t\\t\\t\\t\\n\\t\\t\\t\\t\\t\\t\\t\\t\\t\\t\\n\\t\\t\\t\\t\\t\\t\\t\\t\\t\\t\\n\\t\\t\\t\\t\\t\\t\\t\\t\\t\\t\\n\\t\\t\\t\\t\\t\\t\\t\\t\\t\\t\\t\\n\\t\\t\\t\\t\\t\\t\\t\\t\\t\\t\\n\\t\\t\\t\\t\\t\\t\\t\\t\\t\\t\\n\\t\\t\\t\\t\\t\\t\\t\\t\\t\\t\\t\\n\\t\\t\\t\\t\\t\\t\\t\\t\\t\\t\\n\\t\\t\\t\\t\\t\\t\\t\\t\\t\\t\\n\\t\\t\\t\\t\\t\\t\\t\\t\\t\\t<td class=\" null t_line cell_strong\">\\n\\t\\t\\t\\t\\t\\t\\t\\t\\t\\t\\t&nbsp;\\n\\t\\t\\t\\t\\t\\t\\t\\t\\t\\t\\t\\n\\t\\t\\t\\t\\t\\t\\t\\t\\t\\t</td>\\n\\t\\t\\t\\t\\t\\t\\t\\t\\t\\t\\n\\t\\t\\t\\t\\t\\t\\t\\t\\t\\n\\t\\t\\t\\t\\t\\t\\t\\t\\t\\t\\n\\t\\t\\t\\t\\t\\t\\t\\t\\t\\t\\n\\t\\t\\t\\t\\t\\t\\t\\t\\t\\t\\n\\t\\t\\t\\t\\t\\t\\t\\t\\t\\t\\n\\t\\t\\t\\t\\t\\t\\t\\t\\t\\t\\n\\t\\t\\t\\t\\t\\t\\t\\t\\t\\t<td class=\"\">\\n\\t\\t\\t\\t\\t\\t\\t\\t\\t\\t\\t\\n\\t\\t\\t\\t\\t\\t\\t\\t\\t\\t\\t\\n\\t\\t\\t\\t\\t\\t\\t\\t\\t\\t\\t\\t\\n\\t\\t\\t\\t73.63\\n\\t\\t\\t\\n\\t\\t\\t\\t\\t\\t\\t\\t\\t\\t\\t\\n\\t\\t\\t\\t\\t\\t\\t\\t\\t\\t</td>\\n\\t\\t\\t\\t\\t\\t\\t\\t\\t\\t\\n\\t\\t\\t\\t\\t\\t\\t\\t\\t\\n\\t\\t\\t\\t\\t\\t\\t\\t\\t\\t\\n\\t\\t\\t\\t\\t\\t\\t\\t\\t\\t\\n\\t\\t\\t\\t\\t\\t\\t\\t\\t\\t\\n\\t\\t\\t\\t\\t\\t\\t\\t\\t\\t\\n\\t\\t\\t\\t\\t\\t\\t\\t\\t\\t\\n\\t\\t\\t\\t\\t\\t\\t\\t\\t\\t<td class=\"\">\\n\\t\\t\\t\\t\\t\\t\\t\\t\\t\\t\\t\\n\\t\\t\\t\\t\\t\\t\\t\\t\\t\\t\\t\\n\\t\\t\\t\\t\\t\\t\\t\\t\\t\\t\\t\\t\\n\\t\\t\\t\\t73.56\\n\\t\\t\\t\\n\\t\\t\\t\\t\\t\\t\\t\\t\\t\\t\\t\\n\\t\\t\\t\\t\\t\\t\\t\\t\\t\\t</td>\\n\\t\\t\\t\\t\\t\\t\\t\\t\\t\\t\\n\\t\\t\\t\\t\\t\\t\\t\\t\\t\\n\\t\\t\\t\\t\\t\\t\\t\\t\\t\\t\\n\\t\\t\\t\\t\\t\\t\\t\\t\\t\\t\\n\\t\\t\\t\\t\\t\\t\\t\\t\\t\\t\\n\\t\\t\\t\\t\\t\\t\\t\\t\\t\\t\\n\\t\\t\\t\\t\\t\\t\\t\\t\\t\\t\\n\\t\\t\\t\\t\\t\\t\\t\\t\\t\\t<td class=\"\">\\n\\t\\t\\t\\t\\t\\t\\t\\t\\t\\t\\t\\n\\t\\t\\t\\t\\t\\t\\t\\t\\t\\t\\t\\n\\t\\t\\t\\t\\t\\t\\t\\t\\t\\t\\t\\t\\n\\t\\t\\t\\t71.71\\n\\t\\t\\t\\n\\t\\t\\t\\t\\t\\t\\t\\t\\t\\t\\t\\n\\t\\t\\t\\t\\t\\t\\t\\t\\t\\t</td>\\n\\t\\t\\t\\t\\t\\t\\t\\t\\t\\t\\n\\t\\t\\t\\t\\t\\t\\t\\t\\t\\n\\t\\t\\t\\t\\t\\t\\t\\t\\t\\t\\n\\t\\t\\t\\t\\t\\t\\t\\t\\t\\t\\n\\t\\t\\t\\t\\t\\t\\t\\t\\t\\t\\n\\t\\t\\t\\t\\t\\t\\t\\t\\t\\t\\n\\t\\t\\t\\t\\t\\t\\t\\t\\t\\t\\n\\t\\t\\t\\t\\t\\t\\t\\t\\t\\t<td class=\"\">\\n\\t\\t\\t\\t\\t\\t\\t\\t\\t\\t\\t\\n\\t\\t\\t\\t\\t\\t\\t\\t\\t\\t\\t\\n\\t\\t\\t\\t\\t\\t\\t\\t\\t\\t\\t\\t\\n\\t\\t\\t\\t77.54\\n\\t\\t\\t\\n\\t\\t\\t\\t\\t\\t\\t\\t\\t\\t\\t\\n\\t\\t\\t\\t\\t\\t\\t\\t\\t\\t</td>\\n\\t\\t\\t\\t\\t\\t\\t\\t\\t\\t\\n\\t\\t\\t\\t\\t\\t\\t\\t\\t\\n\\t\\t\\t\\t\\t\\t\\t\\t\\t\\t\\n\\t\\t\\t\\t\\t\\t\\t\\t\\t\\t\\n\\t\\t\\t\\t\\t\\t\\t\\t\\t\\t\\n\\t\\t\\t\\t\\t\\t\\t\\t\\t\\t\\n\\t\\t\\t\\t\\t\\t\\t\\t\\t\\t\\n\\t\\t\\t\\t\\t\\t\\t\\t\\t\\t<td class=\"\">\\n\\t\\t\\t\\t\\t\\t\\t\\t\\t\\t\\t\\n\\t\\t\\t\\t\\t\\t\\t\\t\\t\\t\\t\\n\\t\\t\\t\\t\\t\\t\\t\\t\\t\\t\\t\\t\\n\\t\\t\\t\\t81.16\\n\\t\\t\\t\\n\\t\\t\\t\\t\\t\\t\\t\\t\\t\\t\\t\\n\\t\\t\\t\\t\\t\\t\\t\\t\\t\\t</td>\\n\\t\\t\\t\\t\\t\\t\\t\\t\\t\\t\\n\\t\\t\\t\\t\\t\\t\\t\\t\\t\\n\\t\\t\\t\\t\\t\\t\\t\\t\\t\\t\\n\\t\\t\\t\\t\\t\\t\\t\\t\\t\\t\\n\\t\\t\\t\\t\\t\\t\\t\\t\\t\\t\\n\\t\\t\\t\\t\\t\\t\\t\\t\\t\\t\\t\\n\\t\\t\\t\\t\\t\\t\\t\\t\\t\\t\\n\\t\\t\\t\\t\\t\\t\\t\\t\\t\\t\\n\\t\\t\\t\\t\\t\\t\\t\\t\\t\\t\\n\\t\\t\\t\\t\\t\\t\\t\\t\\t\\t\\t\\n\\t\\t\\t\\t\\t\\t\\t\\t\\t\\t\\n\\t\\t\\t\\t\\t\\t\\t\\t\\t\\t<td class=\" null last cell_strong\">\\n\\t\\t\\t\\t\\t\\t\\t\\t\\t\\t\\t&nbsp;\\n\\t\\t\\t\\t\\t\\t\\t\\t\\t\\t\\t\\n\\t\\t\\t\\t\\t\\t\\t\\t\\t\\t</td>\\n\\t\\t\\t\\t\\t\\t\\t\\t\\t\\t\\n\\t\\t\\t\\t\\t\\t\\t\\t\\t\\n\\t\\t\\t\\t\\t\\t\\t\\t</tr>\\n\\t\\t\\t\\t\\t\\t\\t\\t<tr class=\"line_end\">\\n\\t\\t\\t\\t\\t\\t\\t\\t\\t<th scope=\"row\" class=\"h_th2 th_cop_anal16\"><strong>유보율</strong></th>\\n\\t\\t\\t\\t\\t\\t\\t\\t\\t\\n\\t\\t\\t\\t\\t\\t\\t\\t\\t\\t\\n\\t\\t\\t\\t\\t\\t\\t\\t\\t\\t\\n\\t\\t\\t\\t\\t\\t\\t\\t\\t\\t\\n\\t\\t\\t\\t\\t\\t\\t\\t\\t\\t\\n\\t\\t\\t\\t\\t\\t\\t\\t\\t\\t\\n\\t\\t\\t\\t\\t\\t\\t\\t\\t\\t<td class=\"\">\\n\\t\\t\\t\\t\\t\\t\\t\\t\\t\\t\\t\\n\\t\\t\\t\\t\\t\\t\\t\\t\\t\\t\\t\\n\\t\\t\\t\\t\\t\\t\\t\\t\\t\\t\\t\\t\\n\\t\\t\\t\\t1,634.72\\n\\t\\t\\t\\n\\t\\t\\t\\t\\t\\t\\t\\t\\t\\t\\t\\n\\t\\t\\t\\t\\t\\t\\t\\t\\t\\t</td>\\n\\t\\t\\t\\t\\t\\t\\t\\t\\t\\t\\n\\t\\t\\t\\t\\t\\t\\t\\t\\t\\n\\t\\t\\t\\t\\t\\t\\t\\t\\t\\t\\n\\t\\t\\t\\t\\t\\t\\t\\t\\t\\t\\n\\t\\t\\t\\t\\t\\t\\t\\t\\t\\t\\n\\t\\t\\t\\t\\t\\t\\t\\t\\t\\t\\n\\t\\t\\t\\t\\t\\t\\t\\t\\t\\t\\n\\t\\t\\t\\t\\t\\t\\t\\t\\t\\t<td class=\"\">\\n\\t\\t\\t\\t\\t\\t\\t\\t\\t\\t\\t\\n\\t\\t\\t\\t\\t\\t\\t\\t\\t\\t\\t\\n\\t\\t\\t\\t\\t\\t\\t\\t\\t\\t\\t\\t\\n\\t\\t\\t\\t1,833.30\\n\\t\\t\\t\\n\\t\\t\\t\\t\\t\\t\\t\\t\\t\\t\\t\\n\\t\\t\\t\\t\\t\\t\\t\\t\\t\\t</td>\\n\\t\\t\\t\\t\\t\\t\\t\\t\\t\\t\\n\\t\\t\\t\\t\\t\\t\\t\\t\\t\\n\\t\\t\\t\\t\\t\\t\\t\\t\\t\\t\\n\\t\\t\\t\\t\\t\\t\\t\\t\\t\\t\\n\\t\\t\\t\\t\\t\\t\\t\\t\\t\\t\\n\\t\\t\\t\\t\\t\\t\\t\\t\\t\\t\\n\\t\\t\\t\\t\\t\\t\\t\\t\\t\\t\\n\\t\\t\\t\\t\\t\\t\\t\\t\\t\\t<td class=\"\">\\n\\t\\t\\t\\t\\t\\t\\t\\t\\t\\t\\t\\n\\t\\t\\t\\t\\t\\t\\t\\t\\t\\t\\t\\n\\t\\t\\t\\t\\t\\t\\t\\t\\t\\t\\t\\t\\n\\t\\t\\t\\t1,933.04\\n\\t\\t\\t\\n\\t\\t\\t\\t\\t\\t\\t\\t\\t\\t\\t\\n\\t\\t\\t\\t\\t\\t\\t\\t\\t\\t</td>\\n\\t\\t\\t\\t\\t\\t\\t\\t\\t\\t\\n\\t\\t\\t\\t\\t\\t\\t\\t\\t\\n\\t\\t\\t\\t\\t\\t\\t\\t\\t\\t\\n\\t\\t\\t\\t\\t\\t\\t\\t\\t\\t\\n\\t\\t\\t\\t\\t\\t\\t\\t\\t\\t\\n\\t\\t\\t\\t\\t\\t\\t\\t\\t\\t\\t\\n\\t\\t\\t\\t\\t\\t\\t\\t\\t\\t\\n\\t\\t\\t\\t\\t\\t\\t\\t\\t\\t\\n\\t\\t\\t\\t\\t\\t\\t\\t\\t\\t\\t\\n\\t\\t\\t\\t\\t\\t\\t\\t\\t\\t\\n\\t\\t\\t\\t\\t\\t\\t\\t\\t\\t\\n\\t\\t\\t\\t\\t\\t\\t\\t\\t\\t<td class=\" null t_line cell_strong\">\\n\\t\\t\\t\\t\\t\\t\\t\\t\\t\\t\\t&nbsp;\\n\\t\\t\\t\\t\\t\\t\\t\\t\\t\\t\\t\\n\\t\\t\\t\\t\\t\\t\\t\\t\\t\\t</td>\\n\\t\\t\\t\\t\\t\\t\\t\\t\\t\\t\\n\\t\\t\\t\\t\\t\\t\\t\\t\\t\\n\\t\\t\\t\\t\\t\\t\\t\\t\\t\\t\\n\\t\\t\\t\\t\\t\\t\\t\\t\\t\\t\\n\\t\\t\\t\\t\\t\\t\\t\\t\\t\\t\\n\\t\\t\\t\\t\\t\\t\\t\\t\\t\\t\\n\\t\\t\\t\\t\\t\\t\\t\\t\\t\\t\\n\\t\\t\\t\\t\\t\\t\\t\\t\\t\\t<td class=\"\">\\n\\t\\t\\t\\t\\t\\t\\t\\t\\t\\t\\t\\n\\t\\t\\t\\t\\t\\t\\t\\t\\t\\t\\t\\n\\t\\t\\t\\t\\t\\t\\t\\t\\t\\t\\t\\t\\n\\t\\t\\t\\t1,885.66\\n\\t\\t\\t\\n\\t\\t\\t\\t\\t\\t\\t\\t\\t\\t\\t\\n\\t\\t\\t\\t\\t\\t\\t\\t\\t\\t</td>\\n\\t\\t\\t\\t\\t\\t\\t\\t\\t\\t\\n\\t\\t\\t\\t\\t\\t\\t\\t\\t\\n\\t\\t\\t\\t\\t\\t\\t\\t\\t\\t\\n\\t\\t\\t\\t\\t\\t\\t\\t\\t\\t\\n\\t\\t\\t\\t\\t\\t\\t\\t\\t\\t\\n\\t\\t\\t\\t\\t\\t\\t\\t\\t\\t\\n\\t\\t\\t\\t\\t\\t\\t\\t\\t\\t\\n\\t\\t\\t\\t\\t\\t\\t\\t\\t\\t<td class=\"\">\\n\\t\\t\\t\\t\\t\\t\\t\\t\\t\\t\\t\\n\\t\\t\\t\\t\\t\\t\\t\\t\\t\\t\\t\\n\\t\\t\\t\\t\\t\\t\\t\\t\\t\\t\\t\\t\\n\\t\\t\\t\\t1,946.16\\n\\t\\t\\t\\n\\t\\t\\t\\t\\t\\t\\t\\t\\t\\t\\t\\n\\t\\t\\t\\t\\t\\t\\t\\t\\t\\t</td>\\n\\t\\t\\t\\t\\t\\t\\t\\t\\t\\t\\n\\t\\t\\t\\t\\t\\t\\t\\t\\t\\n\\t\\t\\t\\t\\t\\t\\t\\t\\t\\t\\n\\t\\t\\t\\t\\t\\t\\t\\t\\t\\t\\n\\t\\t\\t\\t\\t\\t\\t\\t\\t\\t\\n\\t\\t\\t\\t\\t\\t\\t\\t\\t\\t\\n\\t\\t\\t\\t\\t\\t\\t\\t\\t\\t\\n\\t\\t\\t\\t\\t\\t\\t\\t\\t\\t<td class=\"\">\\n\\t\\t\\t\\t\\t\\t\\t\\t\\t\\t\\t\\n\\t\\t\\t\\t\\t\\t\\t\\t\\t\\t\\t\\n\\t\\t\\t\\t\\t\\t\\t\\t\\t\\t\\t\\t\\n\\t\\t\\t\\t1,933.04\\n\\t\\t\\t\\n\\t\\t\\t\\t\\t\\t\\t\\t\\t\\t\\t\\n\\t\\t\\t\\t\\t\\t\\t\\t\\t\\t</td>\\n\\t\\t\\t\\t\\t\\t\\t\\t\\t\\t\\n\\t\\t\\t\\t\\t\\t\\t\\t\\t\\n\\t\\t\\t\\t\\t\\t\\t\\t\\t\\t\\n\\t\\t\\t\\t\\t\\t\\t\\t\\t\\t\\n\\t\\t\\t\\t\\t\\t\\t\\t\\t\\t\\n\\t\\t\\t\\t\\t\\t\\t\\t\\t\\t\\n\\t\\t\\t\\t\\t\\t\\t\\t\\t\\t\\n\\t\\t\\t\\t\\t\\t\\t\\t\\t\\t<td class=\"\">\\n\\t\\t\\t\\t\\t\\t\\t\\t\\t\\t\\t\\n\\t\\t\\t\\t\\t\\t\\t\\t\\t\\t\\t\\n\\t\\t\\t\\t\\t\\t\\t\\t\\t\\t\\t\\t\\n\\t\\t\\t\\t2,070.57\\n\\t\\t\\t\\n\\t\\t\\t\\t\\t\\t\\t\\t\\t\\t\\t\\n\\t\\t\\t\\t\\t\\t\\t\\t\\t\\t</td>\\n\\t\\t\\t\\t\\t\\t\\t\\t\\t\\t\\n\\t\\t\\t\\t\\t\\t\\t\\t\\t\\n\\t\\t\\t\\t\\t\\t\\t\\t\\t\\t\\n\\t\\t\\t\\t\\t\\t\\t\\t\\t\\t\\n\\t\\t\\t\\t\\t\\t\\t\\t\\t\\t\\n\\t\\t\\t\\t\\t\\t\\t\\t\\t\\t\\n\\t\\t\\t\\t\\t\\t\\t\\t\\t\\t\\n\\t\\t\\t\\t\\t\\t\\t\\t\\t\\t<td class=\"\">\\n\\t\\t\\t\\t\\t\\t\\t\\t\\t\\t\\t\\n\\t\\t\\t\\t\\t\\t\\t\\t\\t\\t\\t\\n\\t\\t\\t\\t\\t\\t\\t\\t\\t\\t\\t\\t\\n\\t\\t\\t\\t2,119.33\\n\\t\\t\\t\\n\\t\\t\\t\\t\\t\\t\\t\\t\\t\\t\\t\\n\\t\\t\\t\\t\\t\\t\\t\\t\\t\\t</td>\\n\\t\\t\\t\\t\\t\\t\\t\\t\\t\\t\\n\\t\\t\\t\\t\\t\\t\\t\\t\\t\\n\\t\\t\\t\\t\\t\\t\\t\\t\\t\\t\\n\\t\\t\\t\\t\\t\\t\\t\\t\\t\\t\\n\\t\\t\\t\\t\\t\\t\\t\\t\\t\\t\\n\\t\\t\\t\\t\\t\\t\\t\\t\\t\\t\\t\\n\\t\\t\\t\\t\\t\\t\\t\\t\\t\\t\\n\\t\\t\\t\\t\\t\\t\\t\\t\\t\\t\\n\\t\\t\\t\\t\\t\\t\\t\\t\\t\\t\\n\\t\\t\\t\\t\\t\\t\\t\\t\\t\\t\\t\\n\\t\\t\\t\\t\\t\\t\\t\\t\\t\\t\\n\\t\\t\\t\\t\\t\\t\\t\\t\\t\\t<td class=\" null last cell_strong\">\\n\\t\\t\\t\\t\\t\\t\\t\\t\\t\\t\\t&nbsp;\\n\\t\\t\\t\\t\\t\\t\\t\\t\\t\\t\\t\\n\\t\\t\\t\\t\\t\\t\\t\\t\\t\\t</td>\\n\\t\\t\\t\\t\\t\\t\\t\\t\\t\\t\\n\\t\\t\\t\\t\\t\\t\\t\\t\\t\\n\\t\\t\\t\\t\\t\\t\\t\\t</tr>\\n\\t\\t\\t\\t\\t\\t\\t\\t<tr>\\n\\t\\t\\t\\t\\t\\t\\t\\t\\t<th scope=\"row\" class=\"h_th2 th_cop_anal17\"><strong>EPS(원)</strong></th>\\n\\t\\t\\t\\t\\t\\t\\t\\t\\t\\n\\t\\t\\t\\t\\t\\t\\t\\t\\t\\t\\n\\t\\t\\t\\t\\t\\t\\t\\t\\t\\t\\n\\t\\t\\t\\t\\t\\t\\t\\t\\t\\t\\n\\t\\t\\t\\t\\t\\t\\t\\t\\t\\t\\n\\t\\t\\t\\t\\t\\t\\t\\t\\t\\t\\n\\t\\t\\t\\t\\t\\t\\t\\t\\t\\t<td class=\"\">\\n\\t\\t\\t\\t\\t\\t\\t\\t\\t\\t\\t\\n\\t\\t\\t\\t\\t\\t\\t\\t\\t\\t\\t\\n\\t\\t\\t\\t\\t\\t\\t\\t\\t\\t\\t\\t\\n\\t\\t\\t\\t173\\n\\t\\t\\t\\n\\t\\t\\t\\t\\t\\t\\t\\t\\t\\t\\t\\n\\t\\t\\t\\t\\t\\t\\t\\t\\t\\t</td>\\n\\t\\t\\t\\t\\t\\t\\t\\t\\t\\t\\n\\t\\t\\t\\t\\t\\t\\t\\t\\t\\n\\t\\t\\t\\t\\t\\t\\t\\t\\t\\t\\n\\t\\t\\t\\t\\t\\t\\t\\t\\t\\t\\n\\t\\t\\t\\t\\t\\t\\t\\t\\t\\t\\n\\t\\t\\t\\t\\t\\t\\t\\t\\t\\t\\n\\t\\t\\t\\t\\t\\t\\t\\t\\t\\t\\n\\t\\t\\t\\t\\t\\t\\t\\t\\t\\t<td class=\"\">\\n\\t\\t\\t\\t\\t\\t\\t\\t\\t\\t\\t\\n\\t\\t\\t\\t\\t\\t\\t\\t\\t\\t\\t\\n\\t\\t\\t\\t\\t\\t\\t\\t\\t\\t\\t\\t\\n\\t\\t\\t\\t10,885\\n\\t\\t\\t\\n\\t\\t\\t\\t\\t\\t\\t\\t\\t\\t\\t\\n\\t\\t\\t\\t\\t\\t\\t\\t\\t\\t</td>\\n\\t\\t\\t\\t\\t\\t\\t\\t\\t\\t\\n\\t\\t\\t\\t\\t\\t\\t\\t\\t\\n\\t\\t\\t\\t\\t\\t\\t\\t\\t\\t\\n\\t\\t\\t\\t\\t\\t\\t\\t\\t\\t\\n\\t\\t\\t\\t\\t\\t\\t\\t\\t\\t\\n\\t\\t\\t\\t\\t\\t\\t\\t\\t\\t\\n\\t\\t\\t\\t\\t\\t\\t\\t\\t\\t\\n\\t\\t\\t\\t\\t\\t\\t\\t\\t\\t<td class=\"\">\\n\\t\\t\\t\\t\\t\\t\\t\\t\\t\\t\\t\\n\\t\\t\\t\\t\\t\\t\\t\\t\\t\\t\\t\\n\\t\\t\\t\\t\\t\\t\\t\\t\\t\\t\\t\\t\\n\\t\\t\\t\\t5,705\\n\\t\\t\\t\\n\\t\\t\\t\\t\\t\\t\\t\\t\\t\\t\\t\\n\\t\\t\\t\\t\\t\\t\\t\\t\\t\\t</td>\\n\\t\\t\\t\\t\\t\\t\\t\\t\\t\\t\\n\\t\\t\\t\\t\\t\\t\\t\\t\\t\\n\\t\\t\\t\\t\\t\\t\\t\\t\\t\\t\\n\\t\\t\\t\\t\\t\\t\\t\\t\\t\\t\\n\\t\\t\\t\\t\\t\\t\\t\\t\\t\\t\\n\\t\\t\\t\\t\\t\\t\\t\\t\\t\\t\\n\\t\\t\\t\\t\\t\\t\\t\\t\\t\\t\\t\\n\\t\\t\\t\\t\\t\\t\\t\\t\\t\\t\\n\\t\\t\\t\\t\\t\\t\\t\\t\\t\\t\\n\\t\\t\\t\\t\\t\\t\\t\\t\\t\\t<td class=\" t_line cell_strong\">\\n\\t\\t\\t\\t\\t\\t\\t\\t\\t\\t\\t\\n\\t\\t\\t\\t\\t\\t\\t\\t\\t\\t\\t\\n\\t\\t\\t\\t\\t\\t\\t\\t\\t\\t\\t\\t\\n\\t\\t\\t\\t12,788\\n\\t\\t\\t\\n\\t\\t\\t\\t\\t\\t\\t\\t\\t\\t\\t\\n\\t\\t\\t\\t\\t\\t\\t\\t\\t\\t</td>\\n\\t\\t\\t\\t\\t\\t\\t\\t\\t\\t\\n\\t\\t\\t\\t\\t\\t\\t\\t\\t\\n\\t\\t\\t\\t\\t\\t\\t\\t\\t\\t\\n\\t\\t\\t\\t\\t\\t\\t\\t\\t\\t\\n\\t\\t\\t\\t\\t\\t\\t\\t\\t\\t\\n\\t\\t\\t\\t\\t\\t\\t\\t\\t\\t\\n\\t\\t\\t\\t\\t\\t\\t\\t\\t\\t\\n\\t\\t\\t\\t\\t\\t\\t\\t\\t\\t<td class=\"\">\\n\\t\\t\\t\\t\\t\\t\\t\\t\\t\\t\\t\\n\\t\\t\\t\\t\\t\\t\\t\\t\\t\\t\\t\\n\\t\\t\\t\\t\\t\\t\\t\\t\\t\\t\\t\\t\\n\\t\\t\\t\\t<em class=\"f_up\">\\n\\t\\t\\t\\t-2,157\\n\\t\\t\\t\\t</em>\\n\\t\\t\\t\\n\\t\\t\\t\\t\\t\\t\\t\\t\\t\\t\\t\\n\\t\\t\\t\\t\\t\\t\\t\\t\\t\\t</td>\\n\\t\\t\\t\\t\\t\\t\\t\\t\\t\\t\\n\\t\\t\\t\\t\\t\\t\\t\\t\\t\\n\\t\\t\\t\\t\\t\\t\\t\\t\\t\\t\\n\\t\\t\\t\\t\\t\\t\\t\\t\\t\\t\\n\\t\\t\\t\\t\\t\\t\\t\\t\\t\\t\\n\\t\\t\\t\\t\\t\\t\\t\\t\\t\\t\\n\\t\\t\\t\\t\\t\\t\\t\\t\\t\\t\\n\\t\\t\\t\\t\\t\\t\\t\\t\\t\\t<td class=\"\">\\n\\t\\t\\t\\t\\t\\t\\t\\t\\t\\t\\t\\n\\t\\t\\t\\t\\t\\t\\t\\t\\t\\t\\t\\n\\t\\t\\t\\t\\t\\t\\t\\t\\t\\t\\t\\t\\n\\t\\t\\t\\t2,129\\n\\t\\t\\t\\n\\t\\t\\t\\t\\t\\t\\t\\t\\t\\t\\t\\n\\t\\t\\t\\t\\t\\t\\t\\t\\t\\t</td>\\n\\t\\t\\t\\t\\t\\t\\t\\t\\t\\t\\n\\t\\t\\t\\t\\t\\t\\t\\t\\t\\n\\t\\t\\t\\t\\t\\t\\t\\t\\t\\t\\n\\t\\t\\t\\t\\t\\t\\t\\t\\t\\t\\n\\t\\t\\t\\t\\t\\t\\t\\t\\t\\t\\n\\t\\t\\t\\t\\t\\t\\t\\t\\t\\t\\n\\t\\t\\t\\t\\t\\t\\t\\t\\t\\t\\n\\t\\t\\t\\t\\t\\t\\t\\t\\t\\t<td class=\"\">\\n\\t\\t\\t\\t\\t\\t\\t\\t\\t\\t\\t\\n\\t\\t\\t\\t\\t\\t\\t\\t\\t\\t\\t\\n\\t\\t\\t\\t\\t\\t\\t\\t\\t\\t\\t\\t\\n\\t\\t\\t\\t214\\n\\t\\t\\t\\n\\t\\t\\t\\t\\t\\t\\t\\t\\t\\t\\t\\n\\t\\t\\t\\t\\t\\t\\t\\t\\t\\t</td>\\n\\t\\t\\t\\t\\t\\t\\t\\t\\t\\t\\n\\t\\t\\t\\t\\t\\t\\t\\t\\t\\n\\t\\t\\t\\t\\t\\t\\t\\t\\t\\t\\n\\t\\t\\t\\t\\t\\t\\t\\t\\t\\t\\n\\t\\t\\t\\t\\t\\t\\t\\t\\t\\t\\n\\t\\t\\t\\t\\t\\t\\t\\t\\t\\t\\n\\t\\t\\t\\t\\t\\t\\t\\t\\t\\t\\n\\t\\t\\t\\t\\t\\t\\t\\t\\t\\t<td class=\"\">\\n\\t\\t\\t\\t\\t\\t\\t\\t\\t\\t\\t\\n\\t\\t\\t\\t\\t\\t\\t\\t\\t\\t\\t\\n\\t\\t\\t\\t\\t\\t\\t\\t\\t\\t\\t\\t\\n\\t\\t\\t\\t6,783\\n\\t\\t\\t\\n\\t\\t\\t\\t\\t\\t\\t\\t\\t\\t\\t\\n\\t\\t\\t\\t\\t\\t\\t\\t\\t\\t</td>\\n\\t\\t\\t\\t\\t\\t\\t\\t\\t\\t\\n\\t\\t\\t\\t\\t\\t\\t\\t\\t\\n\\t\\t\\t\\t\\t\\t\\t\\t\\t\\t\\n\\t\\t\\t\\t\\t\\t\\t\\t\\t\\t\\n\\t\\t\\t\\t\\t\\t\\t\\t\\t\\t\\n\\t\\t\\t\\t\\t\\t\\t\\t\\t\\t\\n\\t\\t\\t\\t\\t\\t\\t\\t\\t\\t\\n\\t\\t\\t\\t\\t\\t\\t\\t\\t\\t<td class=\"\">\\n\\t\\t\\t\\t\\t\\t\\t\\t\\t\\t\\t\\n\\t\\t\\t\\t\\t\\t\\t\\t\\t\\t\\t\\n\\t\\t\\t\\t\\t\\t\\t\\t\\t\\t\\t\\t\\n\\t\\t\\t\\t1,067\\n\\t\\t\\t\\n\\t\\t\\t\\t\\t\\t\\t\\t\\t\\t\\t\\n\\t\\t\\t\\t\\t\\t\\t\\t\\t\\t</td>\\n\\t\\t\\t\\t\\t\\t\\t\\t\\t\\t\\n\\t\\t\\t\\t\\t\\t\\t\\t\\t\\n\\t\\t\\t\\t\\t\\t\\t\\t\\t\\t\\n\\t\\t\\t\\t\\t\\t\\t\\t\\t\\t\\n\\t\\t\\t\\t\\t\\t\\t\\t\\t\\t\\n\\t\\t\\t\\t\\t\\t\\t\\t\\t\\t\\n\\t\\t\\t\\t\\t\\t\\t\\t\\t\\t\\n\\t\\t\\t\\t\\t\\t\\t\\t\\t\\t\\t\\n\\t\\t\\t\\t\\t\\t\\t\\t\\t\\t\\n\\t\\t\\t\\t\\t\\t\\t\\t\\t\\t<td class=\" last cell_strong\">\\n\\t\\t\\t\\t\\t\\t\\t\\t\\t\\t\\t\\n\\t\\t\\t\\t\\t\\t\\t\\t\\t\\t\\t\\n\\t\\t\\t\\t\\t\\t\\t\\t\\t\\t\\t\\t\\n\\t\\t\\t\\t2,341\\n\\t\\t\\t\\n\\t\\t\\t\\t\\t\\t\\t\\t\\t\\t\\t\\n\\t\\t\\t\\t\\t\\t\\t\\t\\t\\t</td>\\n\\t\\t\\t\\t\\t\\t\\t\\t\\t\\t\\n\\t\\t\\t\\t\\t\\t\\t\\t\\t\\n\\t\\t\\t\\t\\t\\t\\t\\t</tr>\\n\\t\\t\\t\\t\\t\\t\\t\\t\\n\\t\\t\\t\\t\\t\\t\\t\\t<tr>\\n\\t\\t\\t\\t\\t\\t\\t\\t\\t<th scope=\"row\" class=\"h_th2 th_cop_anal20\"><strong>PER(배)</strong></th>\\n\\t\\t\\t\\t\\t\\t\\t\\t\\t\\n\\t\\t\\t\\t\\t\\t\\t\\t\\t\\t\\n\\t\\t\\t\\t\\t\\t\\t\\t\\t\\t\\n\\t\\t\\t\\t\\t\\t\\t\\t\\t\\t\\n\\t\\t\\t\\t\\t\\t\\t\\t\\t\\t\\n\\t\\t\\t\\t\\t\\t\\t\\t\\t\\t\\n\\t\\t\\t\\t\\t\\t\\t\\t\\t\\t<td class=\"\">\\n\\t\\t\\t\\t\\t\\t\\t\\t\\t\\t\\t\\n\\t\\t\\t\\t\\t\\t\\t\\t\\t\\t\\t\\n\\t\\t\\t\\t\\t\\t\\t\\t\\t\\t\\t\\t\\n\\t\\t\\t\\t416.75\\n\\t\\t\\t\\n\\t\\t\\t\\t\\t\\t\\t\\t\\t\\t\\t\\n\\t\\t\\t\\t\\t\\t\\t\\t\\t\\t</td>\\n\\t\\t\\t\\t\\t\\t\\t\\t\\t\\t\\n\\t\\t\\t\\t\\t\\t\\t\\t\\t\\n\\t\\t\\t\\t\\t\\t\\t\\t\\t\\t\\n\\t\\t\\t\\t\\t\\t\\t\\t\\t\\t\\n\\t\\t\\t\\t\\t\\t\\t\\t\\t\\t\\n\\t\\t\\t\\t\\t\\t\\t\\t\\t\\t\\n\\t\\t\\t\\t\\t\\t\\t\\t\\t\\t\\n\\t\\t\\t\\t\\t\\t\\t\\t\\t\\t<td class=\"\">\\n\\t\\t\\t\\t\\t\\t\\t\\t\\t\\t\\t\\n\\t\\t\\t\\t\\t\\t\\t\\t\\t\\t\\t\\n\\t\\t\\t\\t\\t\\t\\t\\t\\t\\t\\t\\t\\n\\t\\t\\t\\t12.40\\n\\t\\t\\t\\n\\t\\t\\t\\t\\t\\t\\t\\t\\t\\t\\t\\n\\t\\t\\t\\t\\t\\t\\t\\t\\t\\t</td>\\n\\t\\t\\t\\t\\t\\t\\t\\t\\t\\t\\n\\t\\t\\t\\t\\t\\t\\t\\t\\t\\n\\t\\t\\t\\t\\t\\t\\t\\t\\t\\t\\n\\t\\t\\t\\t\\t\\t\\t\\t\\t\\t\\n\\t\\t\\t\\t\\t\\t\\t\\t\\t\\t\\n\\t\\t\\t\\t\\t\\t\\t\\t\\t\\t\\n\\t\\t\\t\\t\\t\\t\\t\\t\\t\\t\\n\\t\\t\\t\\t\\t\\t\\t\\t\\t\\t<td class=\"\">\\n\\t\\t\\t\\t\\t\\t\\t\\t\\t\\t\\t\\n\\t\\t\\t\\t\\t\\t\\t\\t\\t\\t\\t\\n\\t\\t\\t\\t\\t\\t\\t\\t\\t\\t\\t\\t\\n\\t\\t\\t\\t24.19\\n\\t\\t\\t\\n\\t\\t\\t\\t\\t\\t\\t\\t\\t\\t\\t\\n\\t\\t\\t\\t\\t\\t\\t\\t\\t\\t</td>\\n\\t\\t\\t\\t\\t\\t\\t\\t\\t\\t\\n\\t\\t\\t\\t\\t\\t\\t\\t\\t\\n\\t\\t\\t\\t\\t\\t\\t\\t\\t\\t\\n\\t\\t\\t\\t\\t\\t\\t\\t\\t\\t\\n\\t\\t\\t\\t\\t\\t\\t\\t\\t\\t\\n\\t\\t\\t\\t\\t\\t\\t\\t\\t\\t\\n\\t\\t\\t\\t\\t\\t\\t\\t\\t\\t\\t\\n\\t\\t\\t\\t\\t\\t\\t\\t\\t\\t\\n\\t\\t\\t\\t\\t\\t\\t\\t\\t\\t\\n\\t\\t\\t\\t\\t\\t\\t\\t\\t\\t<td class=\" t_line cell_strong\">\\n\\t\\t\\t\\t\\t\\t\\t\\t\\t\\t\\t\\n\\t\\t\\t\\t\\t\\t\\t\\t\\t\\t\\t\\n\\t\\t\\t\\t\\t\\t\\t\\t\\t\\t\\t\\t\\n\\t\\t\\t\\t7.34\\n\\t\\t\\t\\n\\t\\t\\t\\t\\t\\t\\t\\t\\t\\t\\t\\n\\t\\t\\t\\t\\t\\t\\t\\t\\t\\t</td>\\n\\t\\t\\t\\t\\t\\t\\t\\t\\t\\t\\n\\t\\t\\t\\t\\t\\t\\t\\t\\t\\n\\t\\t\\t\\t\\t\\t\\t\\t\\t\\t\\n\\t\\t\\t\\t\\t\\t\\t\\t\\t\\t\\n\\t\\t\\t\\t\\t\\t\\t\\t\\t\\t\\n\\t\\t\\t\\t\\t\\t\\t\\t\\t\\t\\n\\t\\t\\t\\t\\t\\t\\t\\t\\t\\t\\n\\t\\t\\t\\t\\t\\t\\t\\t\\t\\t<td class=\"\">\\n\\t\\t\\t\\t\\t\\t\\t\\t\\t\\t\\t\\n\\t\\t\\t\\t\\t\\t\\t\\t\\t\\t\\t\\n\\t\\t\\t\\t\\t\\t\\t\\t\\t\\t\\t\\t\\n\\t\\t\\t\\t19.78\\n\\t\\t\\t\\n\\t\\t\\t\\t\\t\\t\\t\\t\\t\\t\\t\\n\\t\\t\\t\\t\\t\\t\\t\\t\\t\\t</td>\\n\\t\\t\\t\\t\\t\\t\\t\\t\\t\\t\\n\\t\\t\\t\\t\\t\\t\\t\\t\\t\\n\\t\\t\\t\\t\\t\\t\\t\\t\\t\\t\\n\\t\\t\\t\\t\\t\\t\\t\\t\\t\\t\\n\\t\\t\\t\\t\\t\\t\\t\\t\\t\\t\\n\\t\\t\\t\\t\\t\\t\\t\\t\\t\\t\\n\\t\\t\\t\\t\\t\\t\\t\\t\\t\\t\\n\\t\\t\\t\\t\\t\\t\\t\\t\\t\\t<td class=\"\">\\n\\t\\t\\t\\t\\t\\t\\t\\t\\t\\t\\t\\n\\t\\t\\t\\t\\t\\t\\t\\t\\t\\t\\t\\n\\t\\t\\t\\t\\t\\t\\t\\t\\t\\t\\t\\t\\n\\t\\t\\t\\t18.39\\n\\t\\t\\t\\n\\t\\t\\t\\t\\t\\t\\t\\t\\t\\t\\t\\n\\t\\t\\t\\t\\t\\t\\t\\t\\t\\t</td>\\n\\t\\t\\t\\t\\t\\t\\t\\t\\t\\t\\n\\t\\t\\t\\t\\t\\t\\t\\t\\t\\n\\t\\t\\t\\t\\t\\t\\t\\t\\t\\t\\n\\t\\t\\t\\t\\t\\t\\t\\t\\t\\t\\n\\t\\t\\t\\t\\t\\t\\t\\t\\t\\t\\n\\t\\t\\t\\t\\t\\t\\t\\t\\t\\t\\n\\t\\t\\t\\t\\t\\t\\t\\t\\t\\t\\n\\t\\t\\t\\t\\t\\t\\t\\t\\t\\t<td class=\"\">\\n\\t\\t\\t\\t\\t\\t\\t\\t\\t\\t\\t\\n\\t\\t\\t\\t\\t\\t\\t\\t\\t\\t\\t\\n\\t\\t\\t\\t\\t\\t\\t\\t\\t\\t\\t\\t\\n\\t\\t\\t\\t24.19\\n\\t\\t\\t\\n\\t\\t\\t\\t\\t\\t\\t\\t\\t\\t\\t\\n\\t\\t\\t\\t\\t\\t\\t\\t\\t\\t</td>\\n\\t\\t\\t\\t\\t\\t\\t\\t\\t\\t\\n\\t\\t\\t\\t\\t\\t\\t\\t\\t\\n\\t\\t\\t\\t\\t\\t\\t\\t\\t\\t\\n\\t\\t\\t\\t\\t\\t\\t\\t\\t\\t\\n\\t\\t\\t\\t\\t\\t\\t\\t\\t\\t\\n\\t\\t\\t\\t\\t\\t\\t\\t\\t\\t\\n\\t\\t\\t\\t\\t\\t\\t\\t\\t\\t\\n\\t\\t\\t\\t\\t\\t\\t\\t\\t\\t<td class=\"\">\\n\\t\\t\\t\\t\\t\\t\\t\\t\\t\\t\\t\\n\\t\\t\\t\\t\\t\\t\\t\\t\\t\\t\\t\\n\\t\\t\\t\\t\\t\\t\\t\\t\\t\\t\\t\\t\\n\\t\\t\\t\\t17.29\\n\\t\\t\\t\\n\\t\\t\\t\\t\\t\\t\\t\\t\\t\\t\\t\\n\\t\\t\\t\\t\\t\\t\\t\\t\\t\\t</td>\\n\\t\\t\\t\\t\\t\\t\\t\\t\\t\\t\\n\\t\\t\\t\\t\\t\\t\\t\\t\\t\\n\\t\\t\\t\\t\\t\\t\\t\\t\\t\\t\\n\\t\\t\\t\\t\\t\\t\\t\\t\\t\\t\\n\\t\\t\\t\\t\\t\\t\\t\\t\\t\\t\\n\\t\\t\\t\\t\\t\\t\\t\\t\\t\\t\\n\\t\\t\\t\\t\\t\\t\\t\\t\\t\\t\\n\\t\\t\\t\\t\\t\\t\\t\\t\\t\\t<td class=\"\">\\n\\t\\t\\t\\t\\t\\t\\t\\t\\t\\t\\t\\n\\t\\t\\t\\t\\t\\t\\t\\t\\t\\t\\t\\n\\t\\t\\t\\t\\t\\t\\t\\t\\t\\t\\t\\t\\n\\t\\t\\t\\t8.66\\n\\t\\t\\t\\n\\t\\t\\t\\t\\t\\t\\t\\t\\t\\t\\t\\n\\t\\t\\t\\t\\t\\t\\t\\t\\t\\t</td>\\n\\t\\t\\t\\t\\t\\t\\t\\t\\t\\t\\n\\t\\t\\t\\t\\t\\t\\t\\t\\t\\n\\t\\t\\t\\t\\t\\t\\t\\t\\t\\t\\n\\t\\t\\t\\t\\t\\t\\t\\t\\t\\t\\n\\t\\t\\t\\t\\t\\t\\t\\t\\t\\t\\n\\t\\t\\t\\t\\t\\t\\t\\t\\t\\t\\n\\t\\t\\t\\t\\t\\t\\t\\t\\t\\t\\n\\t\\t\\t\\t\\t\\t\\t\\t\\t\\t\\t\\n\\t\\t\\t\\t\\t\\t\\t\\t\\t\\t\\n\\t\\t\\t\\t\\t\\t\\t\\t\\t\\t<td class=\" last cell_strong\">\\n\\t\\t\\t\\t\\t\\t\\t\\t\\t\\t\\t\\n\\t\\t\\t\\t\\t\\t\\t\\t\\t\\t\\t\\n\\t\\t\\t\\t\\t\\t\\t\\t\\t\\t\\t\\t\\n\\t\\t\\t\\t40.07\\n\\t\\t\\t\\n\\t\\t\\t\\t\\t\\t\\t\\t\\t\\t\\t\\n\\t\\t\\t\\t\\t\\t\\t\\t\\t\\t</td>\\n\\t\\t\\t\\t\\t\\t\\t\\t\\t\\t\\n\\t\\t\\t\\t\\t\\t\\t\\t\\t\\n\\t\\t\\t\\t\\t\\t\\t\\t</tr>\\n\\t\\t\\t\\t\\t\\t\\t\\t\\n\\t\\t\\t\\t\\t\\t\\t\\t<tr>\\n\\t\\t\\t\\t\\t\\t\\t\\t\\t<th scope=\"row\" class=\"h_th2 th_cop_anal18\"><strong>BPS(원)</strong></th>\\n\\t\\t\\t\\t\\t\\t\\t\\t\\t\\n\\t\\t\\t\\t\\t\\t\\t\\t\\t\\t\\n\\t\\t\\t\\t\\t\\t\\t\\t\\t\\t\\n\\t\\t\\t\\t\\t\\t\\t\\t\\t\\t\\n\\t\\t\\t\\t\\t\\t\\t\\t\\t\\t\\n\\t\\t\\t\\t\\t\\t\\t\\t\\t\\t\\n\\t\\t\\t\\t\\t\\t\\t\\t\\t\\t<td class=\"\">\\n\\t\\t\\t\\t\\t\\t\\t\\t\\t\\t\\t\\n\\t\\t\\t\\t\\t\\t\\t\\t\\t\\t\\t\\n\\t\\t\\t\\t\\t\\t\\t\\t\\t\\t\\t\\t\\n\\t\\t\\t\\t79,582\\n\\t\\t\\t\\n\\t\\t\\t\\t\\t\\t\\t\\t\\t\\t\\t\\n\\t\\t\\t\\t\\t\\t\\t\\t\\t\\t</td>\\n\\t\\t\\t\\t\\t\\t\\t\\t\\t\\t\\n\\t\\t\\t\\t\\t\\t\\t\\t\\t\\n\\t\\t\\t\\t\\t\\t\\t\\t\\t\\t\\n\\t\\t\\t\\t\\t\\t\\t\\t\\t\\t\\n\\t\\t\\t\\t\\t\\t\\t\\t\\t\\t\\n\\t\\t\\t\\t\\t\\t\\t\\t\\t\\t\\n\\t\\t\\t\\t\\t\\t\\t\\t\\t\\t\\n\\t\\t\\t\\t\\t\\t\\t\\t\\t\\t<td class=\"\">\\n\\t\\t\\t\\t\\t\\t\\t\\t\\t\\t\\t\\n\\t\\t\\t\\t\\t\\t\\t\\t\\t\\t\\t\\n\\t\\t\\t\\t\\t\\t\\t\\t\\t\\t\\t\\t\\n\\t\\t\\t\\t85,732\\n\\t\\t\\t\\n\\t\\t\\t\\t\\t\\t\\t\\t\\t\\t\\t\\n\\t\\t\\t\\t\\t\\t\\t\\t\\t\\t</td>\\n\\t\\t\\t\\t\\t\\t\\t\\t\\t\\t\\n\\t\\t\\t\\t\\t\\t\\t\\t\\t\\n\\t\\t\\t\\t\\t\\t\\t\\t\\t\\t\\n\\t\\t\\t\\t\\t\\t\\t\\t\\t\\t\\n\\t\\t\\t\\t\\t\\t\\t\\t\\t\\t\\n\\t\\t\\t\\t\\t\\t\\t\\t\\t\\t\\n\\t\\t\\t\\t\\t\\t\\t\\t\\t\\t\\n\\t\\t\\t\\t\\t\\t\\t\\t\\t\\t<td class=\"\">\\n\\t\\t\\t\\t\\t\\t\\t\\t\\t\\t\\t\\n\\t\\t\\t\\t\\t\\t\\t\\t\\t\\t\\t\\n\\t\\t\\t\\t\\t\\t\\t\\t\\t\\t\\t\\t\\n\\t\\t\\t\\t95,691\\n\\t\\t\\t\\n\\t\\t\\t\\t\\t\\t\\t\\t\\t\\t\\t\\n\\t\\t\\t\\t\\t\\t\\t\\t\\t\\t</td>\\n\\t\\t\\t\\t\\t\\t\\t\\t\\t\\t\\n\\t\\t\\t\\t\\t\\t\\t\\t\\t\\n\\t\\t\\t\\t\\t\\t\\t\\t\\t\\t\\n\\t\\t\\t\\t\\t\\t\\t\\t\\t\\t\\n\\t\\t\\t\\t\\t\\t\\t\\t\\t\\t\\n\\t\\t\\t\\t\\t\\t\\t\\t\\t\\t\\n\\t\\t\\t\\t\\t\\t\\t\\t\\t\\t\\t\\n\\t\\t\\t\\t\\t\\t\\t\\t\\t\\t\\n\\t\\t\\t\\t\\t\\t\\t\\t\\t\\t\\n\\t\\t\\t\\t\\t\\t\\t\\t\\t\\t<td class=\" t_line cell_strong\">\\n\\t\\t\\t\\t\\t\\t\\t\\t\\t\\t\\t\\n\\t\\t\\t\\t\\t\\t\\t\\t\\t\\t\\t\\n\\t\\t\\t\\t\\t\\t\\t\\t\\t\\t\\t\\t\\n\\t\\t\\t\\t109,690\\n\\t\\t\\t\\n\\t\\t\\t\\t\\t\\t\\t\\t\\t\\t\\t\\n\\t\\t\\t\\t\\t\\t\\t\\t\\t\\t</td>\\n\\t\\t\\t\\t\\t\\t\\t\\t\\t\\t\\n\\t\\t\\t\\t\\t\\t\\t\\t\\t\\n\\t\\t\\t\\t\\t\\t\\t\\t\\t\\t\\n\\t\\t\\t\\t\\t\\t\\t\\t\\t\\t\\n\\t\\t\\t\\t\\t\\t\\t\\t\\t\\t\\n\\t\\t\\t\\t\\t\\t\\t\\t\\t\\t\\n\\t\\t\\t\\t\\t\\t\\t\\t\\t\\t\\n\\t\\t\\t\\t\\t\\t\\t\\t\\t\\t<td class=\"\">\\n\\t\\t\\t\\t\\t\\t\\t\\t\\t\\t\\t\\n\\t\\t\\t\\t\\t\\t\\t\\t\\t\\t\\t\\n\\t\\t\\t\\t\\t\\t\\t\\t\\t\\t\\t\\t\\n\\t\\t\\t\\t90,830\\n\\t\\t\\t\\n\\t\\t\\t\\t\\t\\t\\t\\t\\t\\t\\t\\n\\t\\t\\t\\t\\t\\t\\t\\t\\t\\t</td>\\n\\t\\t\\t\\t\\t\\t\\t\\t\\t\\t\\n\\t\\t\\t\\t\\t\\t\\t\\t\\t\\n\\t\\t\\t\\t\\t\\t\\t\\t\\t\\t\\n\\t\\t\\t\\t\\t\\t\\t\\t\\t\\t\\n\\t\\t\\t\\t\\t\\t\\t\\t\\t\\t\\n\\t\\t\\t\\t\\t\\t\\t\\t\\t\\t\\n\\t\\t\\t\\t\\t\\t\\t\\t\\t\\t\\n\\t\\t\\t\\t\\t\\t\\t\\t\\t\\t<td class=\"\">\\n\\t\\t\\t\\t\\t\\t\\t\\t\\t\\t\\t\\n\\t\\t\\t\\t\\t\\t\\t\\t\\t\\t\\t\\n\\t\\t\\t\\t\\t\\t\\t\\t\\t\\t\\t\\t\\n\\t\\t\\t\\t96,606\\n\\t\\t\\t\\n\\t\\t\\t\\t\\t\\t\\t\\t\\t\\t\\t\\n\\t\\t\\t\\t\\t\\t\\t\\t\\t\\t</td>\\n\\t\\t\\t\\t\\t\\t\\t\\t\\t\\t\\n\\t\\t\\t\\t\\t\\t\\t\\t\\t\\n\\t\\t\\t\\t\\t\\t\\t\\t\\t\\t\\n\\t\\t\\t\\t\\t\\t\\t\\t\\t\\t\\n\\t\\t\\t\\t\\t\\t\\t\\t\\t\\t\\n\\t\\t\\t\\t\\t\\t\\t\\t\\t\\t\\n\\t\\t\\t\\t\\t\\t\\t\\t\\t\\t\\n\\t\\t\\t\\t\\t\\t\\t\\t\\t\\t<td class=\"\">\\n\\t\\t\\t\\t\\t\\t\\t\\t\\t\\t\\t\\n\\t\\t\\t\\t\\t\\t\\t\\t\\t\\t\\t\\n\\t\\t\\t\\t\\t\\t\\t\\t\\t\\t\\t\\t\\n\\t\\t\\t\\t95,691\\n\\t\\t\\t\\n\\t\\t\\t\\t\\t\\t\\t\\t\\t\\t\\t\\n\\t\\t\\t\\t\\t\\t\\t\\t\\t\\t</td>\\n\\t\\t\\t\\t\\t\\t\\t\\t\\t\\t\\n\\t\\t\\t\\t\\t\\t\\t\\t\\t\\n\\t\\t\\t\\t\\t\\t\\t\\t\\t\\t\\n\\t\\t\\t\\t\\t\\t\\t\\t\\t\\t\\n\\t\\t\\t\\t\\t\\t\\t\\t\\t\\t\\n\\t\\t\\t\\t\\t\\t\\t\\t\\t\\t\\n\\t\\t\\t\\t\\t\\t\\t\\t\\t\\t\\n\\t\\t\\t\\t\\t\\t\\t\\t\\t\\t<td class=\"\">\\n\\t\\t\\t\\t\\t\\t\\t\\t\\t\\t\\t\\n\\t\\t\\t\\t\\t\\t\\t\\t\\t\\t\\t\\n\\t\\t\\t\\t\\t\\t\\t\\t\\t\\t\\t\\t\\n\\t\\t\\t\\t104,642\\n\\t\\t\\t\\n\\t\\t\\t\\t\\t\\t\\t\\t\\t\\t\\t\\n\\t\\t\\t\\t\\t\\t\\t\\t\\t\\t</td>\\n\\t\\t\\t\\t\\t\\t\\t\\t\\t\\t\\n\\t\\t\\t\\t\\t\\t\\t\\t\\t\\n\\t\\t\\t\\t\\t\\t\\t\\t\\t\\t\\n\\t\\t\\t\\t\\t\\t\\t\\t\\t\\t\\n\\t\\t\\t\\t\\t\\t\\t\\t\\t\\t\\n\\t\\t\\t\\t\\t\\t\\t\\t\\t\\t\\n\\t\\t\\t\\t\\t\\t\\t\\t\\t\\t\\n\\t\\t\\t\\t\\t\\t\\t\\t\\t\\t<td class=\"\">\\n\\t\\t\\t\\t\\t\\t\\t\\t\\t\\t\\t\\n\\t\\t\\t\\t\\t\\t\\t\\t\\t\\t\\t\\n\\t\\t\\t\\t\\t\\t\\t\\t\\t\\t\\t\\t\\n\\t\\t\\t\\t111,284\\n\\t\\t\\t\\n\\t\\t\\t\\t\\t\\t\\t\\t\\t\\t\\t\\n\\t\\t\\t\\t\\t\\t\\t\\t\\t\\t</td>\\n\\t\\t\\t\\t\\t\\t\\t\\t\\t\\t\\n\\t\\t\\t\\t\\t\\t\\t\\t\\t\\n\\t\\t\\t\\t\\t\\t\\t\\t\\t\\t\\n\\t\\t\\t\\t\\t\\t\\t\\t\\t\\t\\n\\t\\t\\t\\t\\t\\t\\t\\t\\t\\t\\n\\t\\t\\t\\t\\t\\t\\t\\t\\t\\t\\t\\n\\t\\t\\t\\t\\t\\t\\t\\t\\t\\t\\n\\t\\t\\t\\t\\t\\t\\t\\t\\t\\t\\n\\t\\t\\t\\t\\t\\t\\t\\t\\t\\t\\n\\t\\t\\t\\t\\t\\t\\t\\t\\t\\t\\t\\n\\t\\t\\t\\t\\t\\t\\t\\t\\t\\t\\n\\t\\t\\t\\t\\t\\t\\t\\t\\t\\t<td class=\" null last cell_strong\">\\n\\t\\t\\t\\t\\t\\t\\t\\t\\t\\t\\t&nbsp;\\n\\t\\t\\t\\t\\t\\t\\t\\t\\t\\t\\t\\n\\t\\t\\t\\t\\t\\t\\t\\t\\t\\t</td>\\n\\t\\t\\t\\t\\t\\t\\t\\t\\t\\t\\n\\t\\t\\t\\t\\t\\t\\t\\t\\t\\n\\t\\t\\t\\t\\t\\t\\t\\t</tr>\\n\\t\\t\\t\\t\\t\\t\\t\\t\\n\\t\\t\\t\\t\\t\\t\\t\\t<tr class=\"line_end\">\\n\\t\\t\\t\\t\\t\\t\\t\\t\\t<th scope=\"row\" class=\"h_th2 th_cop_anal21\"><strong>PBR(배)</strong></th>\\n\\t\\t\\t\\t\\t\\t\\t\\t\\t\\n\\t\\t\\t\\t\\t\\t\\t\\t\\t\\t\\n\\t\\t\\t\\t\\t\\t\\t\\t\\t\\t\\n\\t\\t\\t\\t\\t\\t\\t\\t\\t\\t\\n\\t\\t\\t\\t\\t\\t\\t\\t\\t\\t\\n\\t\\t\\t\\t\\t\\t\\t\\t\\t\\t\\n\\t\\t\\t\\t\\t\\t\\t\\t\\t\\t<td class=\"\">\\n\\t\\t\\t\\t\\t\\t\\t\\t\\t\\t\\t\\n\\t\\t\\t\\t\\t\\t\\t\\t\\t\\t\\t\\n\\t\\t\\t\\t\\t\\t\\t\\t\\t\\t\\t\\t\\n\\t\\t\\t\\t0.91\\n\\t\\t\\t\\n\\t\\t\\t\\t\\t\\t\\t\\t\\t\\t\\t\\n\\t\\t\\t\\t\\t\\t\\t\\t\\t\\t</td>\\n\\t\\t\\t\\t\\t\\t\\t\\t\\t\\t\\n\\t\\t\\t\\t\\t\\t\\t\\t\\t\\n\\t\\t\\t\\t\\t\\t\\t\\t\\t\\t\\n\\t\\t\\t\\t\\t\\t\\t\\t\\t\\t\\n\\t\\t\\t\\t\\t\\t\\t\\t\\t\\t\\n\\t\\t\\t\\t\\t\\t\\t\\t\\t\\t\\n\\t\\t\\t\\t\\t\\t\\t\\t\\t\\t\\n\\t\\t\\t\\t\\t\\t\\t\\t\\t\\t<td class=\"\">\\n\\t\\t\\t\\t\\t\\t\\t\\t\\t\\t\\t\\n\\t\\t\\t\\t\\t\\t\\t\\t\\t\\t\\t\\n\\t\\t\\t\\t\\t\\t\\t\\t\\t\\t\\t\\t\\n\\t\\t\\t\\t1.57\\n\\t\\t\\t\\n\\t\\t\\t\\t\\t\\t\\t\\t\\t\\t\\t\\n\\t\\t\\t\\t\\t\\t\\t\\t\\t\\t</td>\\n\\t\\t\\t\\t\\t\\t\\t\\t\\t\\t\\n\\t\\t\\t\\t\\t\\t\\t\\t\\t\\n\\t\\t\\t\\t\\t\\t\\t\\t\\t\\t\\n\\t\\t\\t\\t\\t\\t\\t\\t\\t\\t\\n\\t\\t\\t\\t\\t\\t\\t\\t\\t\\t\\n\\t\\t\\t\\t\\t\\t\\t\\t\\t\\t\\n\\t\\t\\t\\t\\t\\t\\t\\t\\t\\t\\n\\t\\t\\t\\t\\t\\t\\t\\t\\t\\t<td class=\"\">\\n\\t\\t\\t\\t\\t\\t\\t\\t\\t\\t\\t\\n\\t\\t\\t\\t\\t\\t\\t\\t\\t\\t\\t\\n\\t\\t\\t\\t\\t\\t\\t\\t\\t\\t\\t\\t\\n\\t\\t\\t\\t1.44\\n\\t\\t\\t\\n\\t\\t\\t\\t\\t\\t\\t\\t\\t\\t\\t\\n\\t\\t\\t\\t\\t\\t\\t\\t\\t\\t</td>\\n\\t\\t\\t\\t\\t\\t\\t\\t\\t\\t\\n\\t\\t\\t\\t\\t\\t\\t\\t\\t\\n\\t\\t\\t\\t\\t\\t\\t\\t\\t\\t\\n\\t\\t\\t\\t\\t\\t\\t\\t\\t\\t\\n\\t\\t\\t\\t\\t\\t\\t\\t\\t\\t\\n\\t\\t\\t\\t\\t\\t\\t\\t\\t\\t\\n\\t\\t\\t\\t\\t\\t\\t\\t\\t\\t\\t\\n\\t\\t\\t\\t\\t\\t\\t\\t\\t\\t\\n\\t\\t\\t\\t\\t\\t\\t\\t\\t\\t\\n\\t\\t\\t\\t\\t\\t\\t\\t\\t\\t<td class=\" t_line cell_strong\">\\n\\t\\t\\t\\t\\t\\t\\t\\t\\t\\t\\t\\n\\t\\t\\t\\t\\t\\t\\t\\t\\t\\t\\t\\n\\t\\t\\t\\t\\t\\t\\t\\t\\t\\t\\t\\t\\n\\t\\t\\t\\t0.86\\n\\t\\t\\t\\n\\t\\t\\t\\t\\t\\t\\t\\t\\t\\t\\t\\n\\t\\t\\t\\t\\t\\t\\t\\t\\t\\t</td>\\n\\t\\t\\t\\t\\t\\t\\t\\t\\t\\t\\n\\t\\t\\t\\t\\t\\t\\t\\t\\t\\n\\t\\t\\t\\t\\t\\t\\t\\t\\t\\t\\n\\t\\t\\t\\t\\t\\t\\t\\t\\t\\t\\n\\t\\t\\t\\t\\t\\t\\t\\t\\t\\t\\n\\t\\t\\t\\t\\t\\t\\t\\t\\t\\t\\n\\t\\t\\t\\t\\t\\t\\t\\t\\t\\t\\n\\t\\t\\t\\t\\t\\t\\t\\t\\t\\t<td class=\"\">\\n\\t\\t\\t\\t\\t\\t\\t\\t\\t\\t\\t\\n\\t\\t\\t\\t\\t\\t\\t\\t\\t\\t\\t\\n\\t\\t\\t\\t\\t\\t\\t\\t\\t\\t\\t\\t\\n\\t\\t\\t\\t1.80\\n\\t\\t\\t\\n\\t\\t\\t\\t\\t\\t\\t\\t\\t\\t\\t\\n\\t\\t\\t\\t\\t\\t\\t\\t\\t\\t</td>\\n\\t\\t\\t\\t\\t\\t\\t\\t\\t\\t\\n\\t\\t\\t\\t\\t\\t\\t\\t\\t\\n\\t\\t\\t\\t\\t\\t\\t\\t\\t\\t\\n\\t\\t\\t\\t\\t\\t\\t\\t\\t\\t\\n\\t\\t\\t\\t\\t\\t\\t\\t\\t\\t\\n\\t\\t\\t\\t\\t\\t\\t\\t\\t\\t\\n\\t\\t\\t\\t\\t\\t\\t\\t\\t\\t\\n\\t\\t\\t\\t\\t\\t\\t\\t\\t\\t<td class=\"\">\\n\\t\\t\\t\\t\\t\\t\\t\\t\\t\\t\\t\\n\\t\\t\\t\\t\\t\\t\\t\\t\\t\\t\\t\\n\\t\\t\\t\\t\\t\\t\\t\\t\\t\\t\\t\\t\\n\\t\\t\\t\\t1.32\\n\\t\\t\\t\\n\\t\\t\\t\\t\\t\\t\\t\\t\\t\\t\\t\\n\\t\\t\\t\\t\\t\\t\\t\\t\\t\\t</td>\\n\\t\\t\\t\\t\\t\\t\\t\\t\\t\\t\\n\\t\\t\\t\\t\\t\\t\\t\\t\\t\\n\\t\\t\\t\\t\\t\\t\\t\\t\\t\\t\\n\\t\\t\\t\\t\\t\\t\\t\\t\\t\\t\\n\\t\\t\\t\\t\\t\\t\\t\\t\\t\\t\\n\\t\\t\\t\\t\\t\\t\\t\\t\\t\\t\\n\\t\\t\\t\\t\\t\\t\\t\\t\\t\\t\\n\\t\\t\\t\\t\\t\\t\\t\\t\\t\\t<td class=\"\">\\n\\t\\t\\t\\t\\t\\t\\t\\t\\t\\t\\t\\n\\t\\t\\t\\t\\t\\t\\t\\t\\t\\t\\t\\n\\t\\t\\t\\t\\t\\t\\t\\t\\t\\t\\t\\t\\n\\t\\t\\t\\t1.44\\n\\t\\t\\t\\n\\t\\t\\t\\t\\t\\t\\t\\t\\t\\t\\t\\n\\t\\t\\t\\t\\t\\t\\t\\t\\t\\t</td>\\n\\t\\t\\t\\t\\t\\t\\t\\t\\t\\t\\n\\t\\t\\t\\t\\t\\t\\t\\t\\t\\n\\t\\t\\t\\t\\t\\t\\t\\t\\t\\t\\n\\t\\t\\t\\t\\t\\t\\t\\t\\t\\t\\n\\t\\t\\t\\t\\t\\t\\t\\t\\t\\t\\n\\t\\t\\t\\t\\t\\t\\t\\t\\t\\t\\n\\t\\t\\t\\t\\t\\t\\t\\t\\t\\t\\n\\t\\t\\t\\t\\t\\t\\t\\t\\t\\t<td class=\"\">\\n\\t\\t\\t\\t\\t\\t\\t\\t\\t\\t\\t\\n\\t\\t\\t\\t\\t\\t\\t\\t\\t\\t\\t\\n\\t\\t\\t\\t\\t\\t\\t\\t\\t\\t\\t\\t\\n\\t\\t\\t\\t1.15\\n\\t\\t\\t\\n\\t\\t\\t\\t\\t\\t\\t\\t\\t\\t\\t\\n\\t\\t\\t\\t\\t\\t\\t\\t\\t\\t</td>\\n\\t\\t\\t\\t\\t\\t\\t\\t\\t\\t\\n\\t\\t\\t\\t\\t\\t\\t\\t\\t\\n\\t\\t\\t\\t\\t\\t\\t\\t\\t\\t\\n\\t\\t\\t\\t\\t\\t\\t\\t\\t\\t\\n\\t\\t\\t\\t\\t\\t\\t\\t\\t\\t\\n\\t\\t\\t\\t\\t\\t\\t\\t\\t\\t\\n\\t\\t\\t\\t\\t\\t\\t\\t\\t\\t\\n\\t\\t\\t\\t\\t\\t\\t\\t\\t\\t<td class=\"\">\\n\\t\\t\\t\\t\\t\\t\\t\\t\\t\\t\\t\\n\\t\\t\\t\\t\\t\\t\\t\\t\\t\\t\\t\\n\\t\\t\\t\\t\\t\\t\\t\\t\\t\\t\\t\\t\\n\\t\\t\\t\\t0.79\\n\\t\\t\\t\\n\\t\\t\\t\\t\\t\\t\\t\\t\\t\\t\\t\\n\\t\\t\\t\\t\\t\\t\\t\\t\\t\\t</td>\\n\\t\\t\\t\\t\\t\\t\\t\\t\\t\\t\\n\\t\\t\\t\\t\\t\\t\\t\\t\\t\\n\\t\\t\\t\\t\\t\\t\\t\\t\\t\\t\\n\\t\\t\\t\\t\\t\\t\\t\\t\\t\\t\\n\\t\\t\\t\\t\\t\\t\\t\\t\\t\\t\\n\\t\\t\\t\\t\\t\\t\\t\\t\\t\\t\\t\\n\\t\\t\\t\\t\\t\\t\\t\\t\\t\\t\\n\\t\\t\\t\\t\\t\\t\\t\\t\\t\\t\\n\\t\\t\\t\\t\\t\\t\\t\\t\\t\\t\\n\\t\\t\\t\\t\\t\\t\\t\\t\\t\\t\\t\\n\\t\\t\\t\\t\\t\\t\\t\\t\\t\\t\\n\\t\\t\\t\\t\\t\\t\\t\\t\\t\\t<td class=\" null last cell_strong\">\\n\\t\\t\\t\\t\\t\\t\\t\\t\\t\\t\\t&nbsp;\\n\\t\\t\\t\\t\\t\\t\\t\\t\\t\\t\\t\\n\\t\\t\\t\\t\\t\\t\\t\\t\\t\\t</td>\\n\\t\\t\\t\\t\\t\\t\\t\\t\\t\\t\\n\\t\\t\\t\\t\\t\\t\\t\\t\\t\\n\\t\\t\\t\\t\\t\\t\\t\\t</tr>\\n\\t\\t\\t\\t\\t\\t\\t\\t\\n\\t\\t\\t\\t\\t\\t\\t\\t<tr>\\n\\t\\t\\t\\t\\t\\t\\t\\t\\t<th scope=\"row\" class=\"h_th2 th_cop_anal19\"><strong>주당배당금(원)</strong></th>\\n\\t\\t\\t\\t\\t\\t\\t\\t\\t\\n\\t\\t\\t\\t\\t\\t\\t\\t\\t\\t\\n\\t\\t\\t\\t\\t\\t\\t\\t\\t\\t\\n\\t\\t\\t\\t\\t\\t\\t\\t\\t\\t\\n\\t\\t\\t\\t\\t\\t\\t\\t\\t\\t\\n\\t\\t\\t\\t\\t\\t\\t\\t\\t\\t<td class=\"\">\\n\\t\\t\\t\\t\\t\\t\\t\\t\\t\\t\\t\\n\\t\\t\\t\\t\\t\\t\\t\\t\\t\\t\\t\\t\\n\\t\\t\\t\\t750\\n\\t\\t\\t\\n\\t\\t\\t\\t\\t\\t\\t\\t\\t\\t\\t\\n\\t\\t\\t\\t\\t\\t\\t\\t\\t\\t</td>\\n\\t\\t\\t\\t\\t\\t\\t\\t\\t\\t\\n\\t\\t\\t\\t\\t\\t\\t\\t\\t\\n\\t\\t\\t\\t\\t\\t\\t\\t\\t\\t\\n\\t\\t\\t\\t\\t\\t\\t\\t\\t\\t\\n\\t\\t\\t\\t\\t\\t\\t\\t\\t\\t\\n\\t\\t\\t\\t\\t\\t\\t\\t\\t\\t\\n\\t\\t\\t\\t\\t\\t\\t\\t\\t\\t<td class=\"\">\\n\\t\\t\\t\\t\\t\\t\\t\\t\\t\\t\\t\\n\\t\\t\\t\\t\\t\\t\\t\\t\\t\\t\\t\\t\\n\\t\\t\\t\\t1,200\\n\\t\\t\\t\\n\\t\\t\\t\\t\\t\\t\\t\\t\\t\\t\\t\\n\\t\\t\\t\\t\\t\\t\\t\\t\\t\\t</td>\\n\\t\\t\\t\\t\\t\\t\\t\\t\\t\\t\\n\\t\\t\\t\\t\\t\\t\\t\\t\\t\\n\\t\\t\\t\\t\\t\\t\\t\\t\\t\\t\\n\\t\\t\\t\\t\\t\\t\\t\\t\\t\\t\\n\\t\\t\\t\\t\\t\\t\\t\\t\\t\\t\\n\\t\\t\\t\\t\\t\\t\\t\\t\\t\\t\\n\\t\\t\\t\\t\\t\\t\\t\\t\\t\\t<td class=\"\">\\n\\t\\t\\t\\t\\t\\t\\t\\t\\t\\t\\t\\n\\t\\t\\t\\t\\t\\t\\t\\t\\t\\t\\t\\t\\n\\t\\t\\t\\t850\\n\\t\\t\\t\\n\\t\\t\\t\\t\\t\\t\\t\\t\\t\\t\\t\\n\\t\\t\\t\\t\\t\\t\\t\\t\\t\\t</td>\\n\\t\\t\\t\\t\\t\\t\\t\\t\\t\\t\\n\\t\\t\\t\\t\\t\\t\\t\\t\\t\\n\\t\\t\\t\\t\\t\\t\\t\\t\\t\\t\\n\\t\\t\\t\\t\\t\\t\\t\\t\\t\\t\\n\\t\\t\\t\\t\\t\\t\\t\\t\\t\\t\\n\\t\\t\\t\\t\\t\\t\\t\\t\\t\\t\\t\\n\\t\\t\\t\\t\\t\\t\\t\\t\\t\\t\\n\\t\\t\\t\\t\\t\\t\\t\\t\\t\\t\\n\\t\\t\\t\\t\\t\\t\\t\\t\\t\\t<td class=\" t_line cell_strong\">\\n\\t\\t\\t\\t\\t\\t\\t\\t\\t\\t\\t\\n\\t\\t\\t\\t\\t\\t\\t\\t\\t\\t\\t\\t\\n\\t\\t\\t\\t1,154\\n\\t\\t\\t\\n\\t\\t\\t\\t\\t\\t\\t\\t\\t\\t\\t\\n\\t\\t\\t\\t\\t\\t\\t\\t\\t\\t</td>\\n\\t\\t\\t\\t\\t\\t\\t\\t\\t\\t\\n\\t\\t\\t\\t\\t\\t\\t\\t\\t\\n\\t\\t\\t\\t\\t\\t\\t\\t\\t\\t\\n\\t\\t\\t\\t\\t\\t\\t\\t\\t\\t\\n\\t\\t\\t\\t\\t\\t\\t\\t\\t\\t\\t\\n\\t\\t\\t\\t\\t\\t\\t\\t\\t\\t\\n\\t\\t\\t\\t\\t\\t\\t\\t\\t\\t\\n\\t\\t\\t\\t\\t\\t\\t\\t\\t\\t\\n\\t\\t\\t\\t\\t\\t\\t\\t\\t\\t<td class=\"no_data 2\">\\n\\t\\t\\t\\t\\t\\t\\t\\t\\t\\t\\t\\n\\t\\t\\t\\t\\t\\t\\t\\t\\t\\t</td>\\n\\t\\t\\t\\t\\t\\t\\t\\t\\t\\t\\n\\t\\t\\t\\t\\t\\t\\t\\t\\t\\n\\t\\t\\t\\t\\t\\t\\t\\t\\t\\t\\n\\t\\t\\t\\t\\t\\t\\t\\t\\t\\t\\n\\t\\t\\t\\t\\t\\t\\t\\t\\t\\t\\t\\n\\t\\t\\t\\t\\t\\t\\t\\t\\t\\t\\n\\t\\t\\t\\t\\t\\t\\t\\t\\t\\t\\n\\t\\t\\t\\t\\t\\t\\t\\t\\t\\t\\n\\t\\t\\t\\t\\t\\t\\t\\t\\t\\t<td class=\"no_data 2\">\\n\\t\\t\\t\\t\\t\\t\\t\\t\\t\\t\\t\\n\\t\\t\\t\\t\\t\\t\\t\\t\\t\\t</td>\\n\\t\\t\\t\\t\\t\\t\\t\\t\\t\\t\\n\\t\\t\\t\\t\\t\\t\\t\\t\\t\\n\\t\\t\\t\\t\\t\\t\\t\\t\\t\\t\\n\\t\\t\\t\\t\\t\\t\\t\\t\\t\\t\\n\\t\\t\\t\\t\\t\\t\\t\\t\\t\\t\\t\\n\\t\\t\\t\\t\\t\\t\\t\\t\\t\\t\\n\\t\\t\\t\\t\\t\\t\\t\\t\\t\\t\\n\\t\\t\\t\\t\\t\\t\\t\\t\\t\\t\\n\\t\\t\\t\\t\\t\\t\\t\\t\\t\\t<td class=\"no_data 2\">\\n\\t\\t\\t\\t\\t\\t\\t\\t\\t\\t\\t\\n\\t\\t\\t\\t\\t\\t\\t\\t\\t\\t</td>\\n\\t\\t\\t\\t\\t\\t\\t\\t\\t\\t\\n\\t\\t\\t\\t\\t\\t\\t\\t\\t\\n\\t\\t\\t\\t\\t\\t\\t\\t\\t\\t\\n\\t\\t\\t\\t\\t\\t\\t\\t\\t\\t\\n\\t\\t\\t\\t\\t\\t\\t\\t\\t\\t\\t\\n\\t\\t\\t\\t\\t\\t\\t\\t\\t\\t\\n\\t\\t\\t\\t\\t\\t\\t\\t\\t\\t\\n\\t\\t\\t\\t\\t\\t\\t\\t\\t\\t\\n\\t\\t\\t\\t\\t\\t\\t\\t\\t\\t<td class=\"no_data 2\">\\n\\t\\t\\t\\t\\t\\t\\t\\t\\t\\t\\t\\n\\t\\t\\t\\t\\t\\t\\t\\t\\t\\t</td>\\n\\t\\t\\t\\t\\t\\t\\t\\t\\t\\t\\n\\t\\t\\t\\t\\t\\t\\t\\t\\t\\n\\t\\t\\t\\t\\t\\t\\t\\t\\t\\t\\n\\t\\t\\t\\t\\t\\t\\t\\t\\t\\t\\n\\t\\t\\t\\t\\t\\t\\t\\t\\t\\t\\t\\n\\t\\t\\t\\t\\t\\t\\t\\t\\t\\t\\n\\t\\t\\t\\t\\t\\t\\t\\t\\t\\t\\n\\t\\t\\t\\t\\t\\t\\t\\t\\t\\t\\n\\t\\t\\t\\t\\t\\t\\t\\t\\t\\t<td class=\"no_data 2\">\\n\\t\\t\\t\\t\\t\\t\\t\\t\\t\\t\\t\\n\\t\\t\\t\\t\\t\\t\\t\\t\\t\\t</td>\\n\\t\\t\\t\\t\\t\\t\\t\\t\\t\\t\\n\\t\\t\\t\\t\\t\\t\\t\\t\\t\\n\\t\\t\\t\\t\\t\\t\\t\\t\\t\\t\\n\\t\\t\\t\\t\\t\\t\\t\\t\\t\\t\\n\\t\\t\\t\\t\\t\\t\\t\\t\\t\\t\\t\\n\\t\\t\\t\\t\\t\\t\\t\\t\\t\\t\\n\\t\\t\\t\\t\\t\\t\\t\\t\\t\\t\\n\\t\\t\\t\\t\\t\\t\\t\\t\\t\\t\\n\\t\\t\\t\\t\\t\\t\\t\\t\\t\\t\\t\\n\\t\\t\\t\\t\\t\\t\\t\\t\\t\\t\\n\\t\\t\\t\\t\\t\\t\\t\\t\\t\\t<td class=\"no_data 2 last cell_strong\">\\n\\t\\t\\t\\t\\t\\t\\t\\t\\t\\t\\t\\n\\t\\t\\t\\t\\t\\t\\t\\t\\t\\t</td>\\n\\t\\t\\t\\t\\t\\t\\t\\t\\t\\t\\n\\t\\t\\t\\t\\t\\t\\t\\t\\t\\n\\n\\t\\t\\t\\t\\t\\t\\t\\t</tr>\\n\\t\\t\\t\\t\\t\\t\\t\\t<tr>\\n\\t\\t\\t\\t\\t\\t\\t\\t\\t<th scope=\"row\" class=\"h_th2 th_cop_anal22\"><strong>시가배당률(%)</strong></th>\\n\\t\\t\\t\\t\\t\\t\\t\\t\\t\\n\\t\\t\\t\\t\\t\\t\\t\\t\\t\\t\\n\\t\\t\\t\\t\\t\\t\\t\\t\\t\\t\\n\\t\\t\\t\\t\\t\\t\\t\\t\\t\\t\\n\\t\\t\\t\\t\\t\\t\\t\\t\\t\\t\\n\\t\\t\\t\\t\\t\\t\\t\\t\\t\\t<td class=\"\">\\n\\t\\t\\t\\t\\t\\t\\t\\t\\t\\t\\t\\n\\t\\t\\t\\t\\t\\t\\t\\t\\t\\t\\t\\t\\n\\t\\t\\t\\t1.04\\n\\t\\t\\t\\n\\t\\t\\t\\t\\t\\t\\t\\t\\t\\t\\t\\n\\t\\t\\t\\t\\t\\t\\t\\t\\t\\t</td>\\n\\t\\t\\t\\t\\t\\t\\t\\t\\t\\t\\n\\t\\t\\t\\t\\t\\t\\t\\t\\t\\n\\t\\t\\t\\t\\t\\t\\t\\t\\t\\t\\n\\t\\t\\t\\t\\t\\t\\t\\t\\t\\t\\n\\t\\t\\t\\t\\t\\t\\t\\t\\t\\t\\n\\t\\t\\t\\t\\t\\t\\t\\t\\t\\t\\n\\t\\t\\t\\t\\t\\t\\t\\t\\t\\t<td class=\"\">\\n\\t\\t\\t\\t\\t\\t\\t\\t\\t\\t\\t\\n\\t\\t\\t\\t\\t\\t\\t\\t\\t\\t\\t\\t\\n\\t\\t\\t\\t0.89\\n\\t\\t\\t\\n\\t\\t\\t\\t\\t\\t\\t\\t\\t\\t\\t\\n\\t\\t\\t\\t\\t\\t\\t\\t\\t\\t</td>\\n\\t\\t\\t\\t\\t\\t\\t\\t\\t\\t\\n\\t\\t\\t\\t\\t\\t\\t\\t\\t\\n\\t\\t\\t\\t\\t\\t\\t\\t\\t\\t\\n\\t\\t\\t\\t\\t\\t\\t\\t\\t\\t\\n\\t\\t\\t\\t\\t\\t\\t\\t\\t\\t\\n\\t\\t\\t\\t\\t\\t\\t\\t\\t\\t\\n\\t\\t\\t\\t\\t\\t\\t\\t\\t\\t<td class=\"\">\\n\\t\\t\\t\\t\\t\\t\\t\\t\\t\\t\\t\\n\\t\\t\\t\\t\\t\\t\\t\\t\\t\\t\\t\\t\\n\\t\\t\\t\\t0.62\\n\\t\\t\\t\\n\\t\\t\\t\\t\\t\\t\\t\\t\\t\\t\\t\\n\\t\\t\\t\\t\\t\\t\\t\\t\\t\\t</td>\\n\\t\\t\\t\\t\\t\\t\\t\\t\\t\\t\\n\\t\\t\\t\\t\\t\\t\\t\\t\\t\\n\\t\\t\\t\\t\\t\\t\\t\\t\\t\\t\\n\\t\\t\\t\\t\\t\\t\\t\\t\\t\\t\\n\\t\\t\\t\\t\\t\\t\\t\\t\\t\\t\\t\\n\\t\\t\\t\\t\\t\\t\\t\\t\\t\\t\\n\\t\\t\\t\\t\\t\\t\\t\\t\\t\\t\\n\\t\\t\\t\\t\\t\\t\\t\\t\\t\\t\\t\\n\\t\\t\\t\\t\\t\\t\\t\\t\\t\\t\\n\\t\\t\\t\\t\\t\\t\\t\\t\\t\\t\\n\\t\\t\\t\\t\\t\\t\\t\\t\\t\\t<td class=\"no_data 2 t_line cell_strong\">\\n\\t\\t\\t\\t\\t\\t\\t\\t\\t\\t\\t\\n\\t\\t\\t\\t\\t\\t\\t\\t\\t\\t</td>\\n\\t\\t\\t\\t\\t\\t\\t\\t\\t\\t\\n\\t\\t\\t\\t\\t\\t\\t\\t\\t\\n\\t\\t\\t\\t\\t\\t\\t\\t\\t\\t\\n\\t\\t\\t\\t\\t\\t\\t\\t\\t\\t\\n\\t\\t\\t\\t\\t\\t\\t\\t\\t\\t\\t\\n\\t\\t\\t\\t\\t\\t\\t\\t\\t\\t\\n\\t\\t\\t\\t\\t\\t\\t\\t\\t\\t\\n\\t\\t\\t\\t\\t\\t\\t\\t\\t\\t\\n\\t\\t\\t\\t\\t\\t\\t\\t\\t\\t<td class=\"no_data 2\">\\n\\t\\t\\t\\t\\t\\t\\t\\t\\t\\t\\t\\n\\t\\t\\t\\t\\t\\t\\t\\t\\t\\t</td>\\n\\t\\t\\t\\t\\t\\t\\t\\t\\t\\t\\n\\t\\t\\t\\t\\t\\t\\t\\t\\t\\n\\t\\t\\t\\t\\t\\t\\t\\t\\t\\t\\n\\t\\t\\t\\t\\t\\t\\t\\t\\t\\t\\n\\t\\t\\t\\t\\t\\t\\t\\t\\t\\t\\t\\n\\t\\t\\t\\t\\t\\t\\t\\t\\t\\t\\n\\t\\t\\t\\t\\t\\t\\t\\t\\t\\t\\n\\t\\t\\t\\t\\t\\t\\t\\t\\t\\t\\n\\t\\t\\t\\t\\t\\t\\t\\t\\t\\t<td class=\"no_data 2\">\\n\\t\\t\\t\\t\\t\\t\\t\\t\\t\\t\\t\\n\\t\\t\\t\\t\\t\\t\\t\\t\\t\\t</td>\\n\\t\\t\\t\\t\\t\\t\\t\\t\\t\\t\\n\\t\\t\\t\\t\\t\\t\\t\\t\\t\\n\\t\\t\\t\\t\\t\\t\\t\\t\\t\\t\\n\\t\\t\\t\\t\\t\\t\\t\\t\\t\\t\\n\\t\\t\\t\\t\\t\\t\\t\\t\\t\\t\\t\\n\\t\\t\\t\\t\\t\\t\\t\\t\\t\\t\\n\\t\\t\\t\\t\\t\\t\\t\\t\\t\\t\\n\\t\\t\\t\\t\\t\\t\\t\\t\\t\\t\\n\\t\\t\\t\\t\\t\\t\\t\\t\\t\\t<td class=\"no_data 2\">\\n\\t\\t\\t\\t\\t\\t\\t\\t\\t\\t\\t\\n\\t\\t\\t\\t\\t\\t\\t\\t\\t\\t</td>\\n\\t\\t\\t\\t\\t\\t\\t\\t\\t\\t\\n\\t\\t\\t\\t\\t\\t\\t\\t\\t\\n\\t\\t\\t\\t\\t\\t\\t\\t\\t\\t\\n\\t\\t\\t\\t\\t\\t\\t\\t\\t\\t\\n\\t\\t\\t\\t\\t\\t\\t\\t\\t\\t\\t\\n\\t\\t\\t\\t\\t\\t\\t\\t\\t\\t\\n\\t\\t\\t\\t\\t\\t\\t\\t\\t\\t\\n\\t\\t\\t\\t\\t\\t\\t\\t\\t\\t\\n\\t\\t\\t\\t\\t\\t\\t\\t\\t\\t<td class=\"no_data 2\">\\n\\t\\t\\t\\t\\t\\t\\t\\t\\t\\t\\t\\n\\t\\t\\t\\t\\t\\t\\t\\t\\t\\t</td>\\n\\t\\t\\t\\t\\t\\t\\t\\t\\t\\t\\n\\t\\t\\t\\t\\t\\t\\t\\t\\t\\n\\t\\t\\t\\t\\t\\t\\t\\t\\t\\t\\n\\t\\t\\t\\t\\t\\t\\t\\t\\t\\t\\n\\t\\t\\t\\t\\t\\t\\t\\t\\t\\t\\t\\n\\t\\t\\t\\t\\t\\t\\t\\t\\t\\t\\n\\t\\t\\t\\t\\t\\t\\t\\t\\t\\t\\n\\t\\t\\t\\t\\t\\t\\t\\t\\t\\t\\n\\t\\t\\t\\t\\t\\t\\t\\t\\t\\t<td class=\"no_data 2\">\\n\\t\\t\\t\\t\\t\\t\\t\\t\\t\\t\\t\\n\\t\\t\\t\\t\\t\\t\\t\\t\\t\\t</td>\\n\\t\\t\\t\\t\\t\\t\\t\\t\\t\\t\\n\\t\\t\\t\\t\\t\\t\\t\\t\\t\\n\\t\\t\\t\\t\\t\\t\\t\\t\\t\\t\\n\\t\\t\\t\\t\\t\\t\\t\\t\\t\\t\\n\\t\\t\\t\\t\\t\\t\\t\\t\\t\\t\\t\\n\\t\\t\\t\\t\\t\\t\\t\\t\\t\\t\\n\\t\\t\\t\\t\\t\\t\\t\\t\\t\\t\\n\\t\\t\\t\\t\\t\\t\\t\\t\\t\\t\\n\\t\\t\\t\\t\\t\\t\\t\\t\\t\\t\\t\\n\\t\\t\\t\\t\\t\\t\\t\\t\\t\\t\\n\\t\\t\\t\\t\\t\\t\\t\\t\\t\\t<td class=\"no_data 2 last cell_strong\">\\n\\t\\t\\t\\t\\t\\t\\t\\t\\t\\t\\t\\n\\t\\t\\t\\t\\t\\t\\t\\t\\t\\t</td>\\n\\t\\t\\t\\t\\t\\t\\t\\t\\t\\t\\n\\t\\t\\t\\t\\t\\t\\t\\t\\t\\n\\n\\t\\t\\t\\t\\t\\t\\t\\t</tr>\\n\\t\\t\\t\\t\\t\\t\\t\\t<tr>\\n\\t\\t\\t\\t\\t\\t\\t\\t\\t<th scope=\"row\" class=\"h_th2 th_cop_anal23\"><strong>배당성향(%)</strong></th>\\n\\t\\t\\t\\t\\t\\t\\t\\t\\t\\n\\t\\t\\t\\t\\t\\t\\t\\t\\t\\t\\n\\t\\t\\t\\t\\t\\t\\t\\t\\t\\t\\n\\t\\t\\t\\t\\t\\t\\t\\t\\t\\t\\n\\t\\t\\t\\t\\t\\t\\t\\t\\t\\t\\n\\t\\t\\t\\t\\t\\t\\t\\t\\t\\t<td class=\"\">\\n\\t\\t\\t\\t\\t\\t\\t\\t\\t\\t\\t\\n\\t\\t\\t\\t\\t\\t\\t\\t\\t\\t\\t\\t\\n\\t\\t\\t\\t434.42\\n\\t\\t\\t\\n\\t\\t\\t\\t\\t\\t\\t\\t\\t\\t\\t\\n\\t\\t\\t\\t\\t\\t\\t\\t\\t\\t</td>\\n\\t\\t\\t\\t\\t\\t\\t\\t\\t\\t\\n\\t\\t\\t\\t\\t\\t\\t\\t\\t\\n\\t\\t\\t\\t\\t\\t\\t\\t\\t\\t\\n\\t\\t\\t\\t\\t\\t\\t\\t\\t\\t\\n\\t\\t\\t\\t\\t\\t\\t\\t\\t\\t\\n\\t\\t\\t\\t\\t\\t\\t\\t\\t\\t\\n\\t\\t\\t\\t\\t\\t\\t\\t\\t\\t<td class=\"\">\\n\\t\\t\\t\\t\\t\\t\\t\\t\\t\\t\\t\\n\\t\\t\\t\\t\\t\\t\\t\\t\\t\\t\\t\\t\\n\\t\\t\\t\\t11.02\\n\\t\\t\\t\\n\\t\\t\\t\\t\\t\\t\\t\\t\\t\\t\\t\\n\\t\\t\\t\\t\\t\\t\\t\\t\\t\\t</td>\\n\\t\\t\\t\\t\\t\\t\\t\\t\\t\\t\\n\\t\\t\\t\\t\\t\\t\\t\\t\\t\\n\\t\\t\\t\\t\\t\\t\\t\\t\\t\\t\\n\\t\\t\\t\\t\\t\\t\\t\\t\\t\\t\\n\\t\\t\\t\\t\\t\\t\\t\\t\\t\\t\\n\\t\\t\\t\\t\\t\\t\\t\\t\\t\\t\\n\\t\\t\\t\\t\\t\\t\\t\\t\\t\\t<td class=\"\">\\n\\t\\t\\t\\t\\t\\t\\t\\t\\t\\t\\t\\n\\t\\t\\t\\t\\t\\t\\t\\t\\t\\t\\t\\t\\n\\t\\t\\t\\t14.92\\n\\t\\t\\t\\n\\t\\t\\t\\t\\t\\t\\t\\t\\t\\t\\t\\n\\t\\t\\t\\t\\t\\t\\t\\t\\t\\t</td>\\n\\t\\t\\t\\t\\t\\t\\t\\t\\t\\t\\n\\t\\t\\t\\t\\t\\t\\t\\t\\t\\n\\t\\t\\t\\t\\t\\t\\t\\t\\t\\t\\n\\t\\t\\t\\t\\t\\t\\t\\t\\t\\t\\n\\t\\t\\t\\t\\t\\t\\t\\t\\t\\t\\t\\n\\t\\t\\t\\t\\t\\t\\t\\t\\t\\t\\n\\t\\t\\t\\t\\t\\t\\t\\t\\t\\t\\n\\t\\t\\t\\t\\t\\t\\t\\t\\t\\t\\t\\n\\t\\t\\t\\t\\t\\t\\t\\t\\t\\t\\n\\t\\t\\t\\t\\t\\t\\t\\t\\t\\t\\n\\t\\t\\t\\t\\t\\t\\t\\t\\t\\t<td class=\"no_data 2 t_line cell_strong\">\\n\\t\\t\\t\\t\\t\\t\\t\\t\\t\\t\\t\\n\\t\\t\\t\\t\\t\\t\\t\\t\\t\\t</td>\\n\\t\\t\\t\\t\\t\\t\\t\\t\\t\\t\\n\\t\\t\\t\\t\\t\\t\\t\\t\\t\\n\\t\\t\\t\\t\\t\\t\\t\\t\\t\\t\\n\\t\\t\\t\\t\\t\\t\\t\\t\\t\\t\\n\\t\\t\\t\\t\\t\\t\\t\\t\\t\\t\\t\\n\\t\\t\\t\\t\\t\\t\\t\\t\\t\\t\\n\\t\\t\\t\\t\\t\\t\\t\\t\\t\\t\\n\\t\\t\\t\\t\\t\\t\\t\\t\\t\\t\\n\\t\\t\\t\\t\\t\\t\\t\\t\\t\\t<td class=\"no_data 2\">\\n\\t\\t\\t\\t\\t\\t\\t\\t\\t\\t\\t\\n\\t\\t\\t\\t\\t\\t\\t\\t\\t\\t</td>\\n\\t\\t\\t\\t\\t\\t\\t\\t\\t\\t\\n\\t\\t\\t\\t\\t\\t\\t\\t\\t\\n\\t\\t\\t\\t\\t\\t\\t\\t\\t\\t\\n\\t\\t\\t\\t\\t\\t\\t\\t\\t\\t\\n\\t\\t\\t\\t\\t\\t\\t\\t\\t\\t\\t\\n\\t\\t\\t\\t\\t\\t\\t\\t\\t\\t\\n\\t\\t\\t\\t\\t\\t\\t\\t\\t\\t\\n\\t\\t\\t\\t\\t\\t\\t\\t\\t\\t\\n\\t\\t\\t\\t\\t\\t\\t\\t\\t\\t<td class=\"no_data 2\">\\n\\t\\t\\t\\t\\t\\t\\t\\t\\t\\t\\t\\n\\t\\t\\t\\t\\t\\t\\t\\t\\t\\t</td>\\n\\t\\t\\t\\t\\t\\t\\t\\t\\t\\t\\n\\t\\t\\t\\t\\t\\t\\t\\t\\t\\n\\t\\t\\t\\t\\t\\t\\t\\t\\t\\t\\n\\t\\t\\t\\t\\t\\t\\t\\t\\t\\t\\n\\t\\t\\t\\t\\t\\t\\t\\t\\t\\t\\t\\n\\t\\t\\t\\t\\t\\t\\t\\t\\t\\t\\n\\t\\t\\t\\t\\t\\t\\t\\t\\t\\t\\n\\t\\t\\t\\t\\t\\t\\t\\t\\t\\t\\n\\t\\t\\t\\t\\t\\t\\t\\t\\t\\t<td class=\"no_data 2\">\\n\\t\\t\\t\\t\\t\\t\\t\\t\\t\\t\\t\\n\\t\\t\\t\\t\\t\\t\\t\\t\\t\\t</td>\\n\\t\\t\\t\\t\\t\\t\\t\\t\\t\\t\\n\\t\\t\\t\\t\\t\\t\\t\\t\\t\\n\\t\\t\\t\\t\\t\\t\\t\\t\\t\\t\\n\\t\\t\\t\\t\\t\\t\\t\\t\\t\\t\\n\\t\\t\\t\\t\\t\\t\\t\\t\\t\\t\\t\\n\\t\\t\\t\\t\\t\\t\\t\\t\\t\\t\\n\\t\\t\\t\\t\\t\\t\\t\\t\\t\\t\\n\\t\\t\\t\\t\\t\\t\\t\\t\\t\\t\\n\\t\\t\\t\\t\\t\\t\\t\\t\\t\\t<td class=\"no_data 2\">\\n\\t\\t\\t\\t\\t\\t\\t\\t\\t\\t\\t\\n\\t\\t\\t\\t\\t\\t\\t\\t\\t\\t</td>\\n\\t\\t\\t\\t\\t\\t\\t\\t\\t\\t\\n\\t\\t\\t\\t\\t\\t\\t\\t\\t\\n\\t\\t\\t\\t\\t\\t\\t\\t\\t\\t\\n\\t\\t\\t\\t\\t\\t\\t\\t\\t\\t\\n\\t\\t\\t\\t\\t\\t\\t\\t\\t\\t\\t\\n\\t\\t\\t\\t\\t\\t\\t\\t\\t\\t\\n\\t\\t\\t\\t\\t\\t\\t\\t\\t\\t\\n\\t\\t\\t\\t\\t\\t\\t\\t\\t\\t\\n\\t\\t\\t\\t\\t\\t\\t\\t\\t\\t<td class=\"no_data 2\">\\n\\t\\t\\t\\t\\t\\t\\t\\t\\t\\t\\t\\n\\t\\t\\t\\t\\t\\t\\t\\t\\t\\t</td>\\n\\t\\t\\t\\t\\t\\t\\t\\t\\t\\t\\n\\t\\t\\t\\t\\t\\t\\t\\t\\t\\n\\t\\t\\t\\t\\t\\t\\t\\t\\t\\t\\n\\t\\t\\t\\t\\t\\t\\t\\t\\t\\t\\n\\t\\t\\t\\t\\t\\t\\t\\t\\t\\t\\t\\n\\t\\t\\t\\t\\t\\t\\t\\t\\t\\t\\n\\t\\t\\t\\t\\t\\t\\t\\t\\t\\t\\n\\t\\t\\t\\t\\t\\t\\t\\t\\t\\t\\n\\t\\t\\t\\t\\t\\t\\t\\t\\t\\t\\t\\n\\t\\t\\t\\t\\t\\t\\t\\t\\t\\t\\n\\t\\t\\t\\t\\t\\t\\t\\t\\t\\t<td class=\"no_data 2 last cell_strong\">\\n\\t\\t\\t\\t\\t\\t\\t\\t\\t\\t\\t\\n\\t\\t\\t\\t\\t\\t\\t\\t\\t\\t</td>\\n\\t\\t\\t\\t\\t\\t\\t\\t\\t\\t\\n\\t\\t\\t\\t\\t\\t\\t\\t\\t\\n\\n\\t\\t\\t\\t\\t\\t\\t\\t</tr>\\n\\t\\t\\t\\t\\t\\t\\t\\t</tbody>\\n\\t\\t\\t\\t\\t\\t\\t</table>\\n\\t\\t\\t\\t\\t\\t</div>\\n\\t\\t\\t\\t\\t\\t<div class=\"dsc_ifrs\">\\n\\t\\t\\t\\t\\t\\t\\t<ul>\\n\\t\\t\\t\\t\\t\\t\\t\\t<li>분기 실적은 해당 분기까지의 누적 실적에서 직전 분기까지의 누적 실적을 차감하는 방식으로 계산되므로,<br>기업에서 공시한 분기 실적과 차이가 있을 수 있습니다.</li>\\n\\t\\t\\t\\t\\t\\t\\t\\t<li>컨센서스(<em>E</em>) : 최근 3개월간 증권사에서 발표한 전망치의 평균값입니다.</li>\\n\\t\\t\\t\\t\\t\\t\\t</ul>\\n\\t\\t\\t\\t\\t\\t</div>\\n\\t\\t\\t\\t\\t\\t<div class=\"ly_moreifrs\" style=\"display:none\">\\n\\t\\t\\t\\t\\t\\t\\t<ul class=\"blind\">\\n\\t\\t\\t\\t\\t\\t\\t\\t<li> 손익계산서\\n\\t\\t\\t\\t\\t\\t\\t\\t\\t<dl>\\n\\t\\t\\t\\t\\t\\t\\t\\t\\t\\t<dt>조정영업이익</dt>\\n\\t\\t\\t\\t\\t\\t\\t\\t\\t\\t<dd>매출액-매출원가-판관비</dd>\\n\\t\\t\\t\\t\\t\\t\\t\\t\\t\\t<dt>지배주주지분</dt>\\n\\t\\t\\t\\t\\t\\t\\t\\t\\t\\t<dd>지배회상의 지분에 귀속되는 당기순이익</dd>\\n\\t\\t\\t\\t\\t\\t\\t\\t\\t\\t<dt>비지배주주지분</dt>\\n\\t\\t\\t\\t\\t\\t\\t\\t\\t\\t<dd>종속회사의 지분에 귀속되는 당기순이익</dd>\\n\\t\\t\\t\\t\\t\\t\\t\\t\\t</dl>\\n\\t\\t\\t\\t\\t\\t\\t\\t</li>\\n\\t\\t\\t\\t\\t\\t\\t\\t<li> 수익성\\n\\t\\t\\t\\t\\t\\t\\t\\t\\t<dl>\\n\\t\\t\\t\\t\\t\\t\\t\\t\\t\\t<dt>조정영업이익률</dt>\\n\\t\\t\\t\\t\\t\\t\\t\\t\\t\\t<dd>조정영업이익/매출액</dd>\\n\\t\\t\\t\\t\\t\\t\\t\\t\\t\\t<dt>ROE(지배주주지분)</dt>\\n\\t\\t\\t\\t\\t\\t\\t\\t\\t\\t<dd>지배주주지분 당기순이익 / (자본총계 - 비지배주주지분)</dd>\\n\\t\\t\\t\\t\\t\\t\\t\\t\\t</dl>\\n\\t\\t\\t\\t\\t\\t\\t\\t</li>\\n\\t\\t\\t\\t\\t\\t\\t\\t<li> 가치지표\\n\\t\\t\\t\\t\\t\\t\\t\\t\\t<dl>\\n\\t\\t\\t\\t\\t\\t\\t\\t\\t\\t<dt>EPS(지배주주지분)</dt>\\n\\t\\t\\t\\t\\t\\t\\t\\t\\t\\t<dd>지배주주지분 당기순이익/지배주주 평균발행주식수(우선주+보통주)</dd>\\n\\t\\t\\t\\t\\t\\t\\t\\t\\t\\t<dt>BPS(지배주주지분</dt>\\n\\t\\t\\t\\t\\t\\t\\t\\t\\t\\t<dd>지배주주지분 귀속 순자산/지배주주 기말발행주식(우선주+보통주)</dd>\\n\\t\\t\\t\\t\\t\\t\\t\\t\\t</dl>\\n\\t\\t\\t\\t\\t\\t\\t\\t</li>\\n\\t\\t\\t\\t\\t\\t\\t</ul>\\n\\t\\t\\t\\t\\t\\t</div>\\n\\t\\t\\t\\t\\t\\t<div class=\"dummy\"></div>\\n\\t\\t\\t\\t\\t\\t<span class=\"btn_more\"><a href=\"/item/coinfo.naver?code=066570&target=finsum_more\">더보기</a></span>\\n\\t\\t\\t\\t\\t\\n\\t\\t\\t\\t\\t\\n\\t\\t\\t\\t\\n\\t\\t\\t</div>\\n\\t\\t\\t\\n\\t\\t\\t\\n\\t\\t\\t<hr>\\n\\t\\t\\t\\n\\t\\t\\t\\n\\t\\t\\t\\n\\t\\t\\t\\n\\t\\t\\t\\t<div class=\"section trade_compare\">\\n\\t\\t\\t\\t\\t<h4 class=\"h_sub sub_tit7\"><span>동종업종비교</span><em style=\"position:relative;left:70px;\">(업종명 : <a href=\"/sise/sise_group_detail.naver?type=upjong&no=307\">전자제품</a><span class=\"bar\">｜</span>재무정보: 2022.06 분기 기준)</em></h4>\\n\\t\\t\\t\\t\\t<table summary=\"동종업종 비교에 관한표이며 종목명에 따라 정보를 제공합니다.\"  class=\"tb_type1 tb_num\">\\n\\t\\t\\t\\t\\t\\t<caption>동종업종비교</caption>\\n\\t\\t\\t\\t\\t\\t<thead>\\n\\t\\t\\t\\t\\t\\t<tr>\\n\\t\\t\\t\\t\\t\\t\\t<th class=\"h_th2 th_cop_comp1\"><span>종목명</span></th>\\n\\t\\t\\t\\t\\t\\t\\t\\n\\t\\t\\t\\t\\t\\t\\t\\n\\t\\t\\t\\t\\t\\t\\t\\t<th scope=\"col\"><a href=\"/item/main.naver?code=066570\">LG전자<span class=\"star\">*</span><em>066570</em></a></th>\\n\\t\\t\\t\\t\\t\\t\\t\\t\\n\\t\\t\\t\\t\\t\\t\\t\\n\\t\\t\\t\\t\\t\\t\\t\\t<th scope=\"col\"><a href=\"/item/main.naver?code=008700\">아남전자<span class=\"star\">*</span><em>008700</em></a></th>\\n\\t\\t\\t\\t\\t\\t\\t\\t\\n\\t\\t\\t\\t\\t\\t\\t\\n\\t\\t\\t\\t\\t\\t\\t\\t<th scope=\"col\"><a href=\"/item/main.naver?code=115160\">휴맥스<span class=\"star\">*</span><em>115160</em></a></th>\\n\\t\\t\\t\\t\\t\\t\\t\\t\\n\\t\\t\\t\\t\\t\\t\\t\\n\\t\\t\\t\\t\\t\\t\\t\\t<th scope=\"col\"><a href=\"/item/main.naver?code=084730\">팅크웨어<span class=\"star\">*</span><em>084730</em></a></th>\\n\\t\\t\\t\\t\\t\\t\\t\\t\\n\\t\\t\\t\\t\\t\\t\\t\\n\\t\\t\\t\\t\\t\\t\\t\\t<th scope=\"col\"><a href=\"/item/main.naver?code=064240\">홈캐스트<span class=\"star\">*</span><em>064240</em></a></th>\\n\\t\\t\\t\\t\\t\\t\\t\\t\\n\\t\\t\\t\\t\\t\\t\\t\\n\\t\\t\\t\\t\\t\\t\\t\\n\\t\\t\\t\\t\\t\\t</tr>\\n\\t\\t\\t\\t\\t\\t</thead>\\n\\t\\t\\t\\t\\t\\t<tbody>\\n\\t\\t\\t\\t\\t\\t<tr>\\n\\t\\t\\t\\t\\t\\t\\t<th scope=\"row\" class=\"h_th2 th_cop_comp2\"><span>현재가</span></th>\\n\\t\\t\\t\\t\\t\\t\\t\\n\\t\\t\\t\\t\\t\\t\\t\\t\\n\\t\\t\\t\\t\\t\\t\\t\\t\\t\\n\\t\\t\\t\\t\\t\\t\\t\\t\\t\\n\\t\\t\\t\\t\\t\\t\\t\\t\\t\\n\\t\\t\\t\\t\\t\\t\\t\\t\\t\\t<td>97,900</td>\\n\\t\\t\\t\\t\\t\\t\\t\\t\\t\\n\\t\\t\\t\\t\\t\\t\\t\\t\\n\\t\\t\\t\\t\\t\\t\\t\\n\\t\\t\\t\\t\\t\\t\\t\\t\\n\\t\\t\\t\\t\\t\\t\\t\\t\\t\\n\\t\\t\\t\\t\\t\\t\\t\\t\\t\\n\\t\\t\\t\\t\\t\\t\\t\\t\\t\\n\\t\\t\\t\\t\\t\\t\\t\\t\\t\\t<td>2,355</td>\\n\\t\\t\\t\\t\\t\\t\\t\\t\\t\\n\\t\\t\\t\\t\\t\\t\\t\\t\\n\\t\\t\\t\\t\\t\\t\\t\\n\\t\\t\\t\\t\\t\\t\\t\\t\\n\\t\\t\\t\\t\\t\\t\\t\\t\\t\\n\\t\\t\\t\\t\\t\\t\\t\\t\\t\\n\\t\\t\\t\\t\\t\\t\\t\\t\\t\\n\\t\\t\\t\\t\\t\\t\\t\\t\\t\\t<td>4,075</td>\\n\\t\\t\\t\\t\\t\\t\\t\\t\\t\\n\\t\\t\\t\\t\\t\\t\\t\\t\\n\\t\\t\\t\\t\\t\\t\\t\\n\\t\\t\\t\\t\\t\\t\\t\\t\\n\\t\\t\\t\\t\\t\\t\\t\\t\\t\\n\\t\\t\\t\\t\\t\\t\\t\\t\\t\\n\\t\\t\\t\\t\\t\\t\\t\\t\\t\\n\\t\\t\\t\\t\\t\\t\\t\\t\\t\\t<td>15,700</td>\\n\\t\\t\\t\\t\\t\\t\\t\\t\\t\\n\\t\\t\\t\\t\\t\\t\\t\\t\\n\\t\\t\\t\\t\\t\\t\\t\\n\\t\\t\\t\\t\\t\\t\\t\\t\\n\\t\\t\\t\\t\\t\\t\\t\\t\\t\\n\\t\\t\\t\\t\\t\\t\\t\\t\\t\\n\\t\\t\\t\\t\\t\\t\\t\\t\\t\\n\\t\\t\\t\\t\\t\\t\\t\\t\\t\\t<td>4,240</td>\\n\\t\\t\\t\\t\\t\\t\\t\\t\\t\\n\\t\\t\\t\\t\\t\\t\\t\\t\\n\\t\\t\\t\\t\\t\\t\\t\\n\\t\\t\\t\\t\\t\\t\\t\\n\\t\\t\\t\\t\\t\\t</tr>\\n\\t\\t\\t\\t\\t\\t<tr>\\n\\t\\t\\t\\t\\t\\t\\t<th scope=\"row\" class=\"h_th2 th_cop_comp3\"><span>전일대비</span></th>\\n\\t\\t\\t\\t\\t\\t\\t\\n\\t\\t\\t\\t\\t\\t\\t\\t\\n\\t\\t\\t\\t\\t\\t\\t\\t\\n\\t\\t\\t\\t\\t\\t\\t\\t\\t\\n\\t\\t\\t\\t\\t\\t\\t\\t\\t\\n\\t\\t\\t\\t\\t\\t\\t\\t\\t\\t<td>\\n\\t\\t\\t\\t<em class=\"f_up up\"><span>상향</span>\\n\\t\\t\\t\\t4,100\\n\\t\\t\\t\\t</em>\\n\\t\\t\\t</td>\\n\\t\\t\\t\\t\\t\\t\\t\\t\\t\\n\\t\\t\\t\\t\\t\\t\\t\\t\\n\\t\\t\\t\\t\\t\\t\\t\\n\\t\\t\\t\\t\\t\\t\\t\\t\\n\\t\\t\\t\\t\\t\\t\\t\\t\\n\\t\\t\\t\\t\\t\\t\\t\\t\\t\\n\\t\\t\\t\\t\\t\\t\\t\\t\\t\\n\\t\\t\\t\\t\\t\\t\\t\\t\\t\\t<td>\\n\\t\\t\\t\\t<em class=\"f_up up\"><span>상향</span>\\n\\t\\t\\t\\t75\\n\\t\\t\\t\\t</em>\\n\\t\\t\\t</td>\\n\\t\\t\\t\\t\\t\\t\\t\\t\\t\\n\\t\\t\\t\\t\\t\\t\\t\\t\\n\\t\\t\\t\\t\\t\\t\\t\\n\\t\\t\\t\\t\\t\\t\\t\\t\\n\\t\\t\\t\\t\\t\\t\\t\\t\\n\\t\\t\\t\\t\\t\\t\\t\\t\\t\\n\\t\\t\\t\\t\\t\\t\\t\\t\\t\\n\\t\\t\\t\\t\\t\\t\\t\\t\\t\\t<td>\\n\\t\\t\\t\\t<em class=\"f_up up\"><span>상향</span>\\n\\t\\t\\t\\t35\\n\\t\\t\\t\\t</em>\\n\\t\\t\\t</td>\\n\\t\\t\\t\\t\\t\\t\\t\\t\\t\\n\\t\\t\\t\\t\\t\\t\\t\\t\\n\\t\\t\\t\\t\\t\\t\\t\\n\\t\\t\\t\\t\\t\\t\\t\\t\\n\\t\\t\\t\\t\\t\\t\\t\\t\\n\\t\\t\\t\\t\\t\\t\\t\\t\\t\\n\\t\\t\\t\\t\\t\\t\\t\\t\\t\\n\\t\\t\\t\\t\\t\\t\\t\\t\\t\\t<td>\\n\\t\\t\\t\\t<em class=\"f_up up\"><span>상향</span>\\n\\t\\t\\t\\t450\\n\\t\\t\\t\\t</em>\\n\\t\\t\\t</td>\\n\\t\\t\\t\\t\\t\\t\\t\\t\\t\\n\\t\\t\\t\\t\\t\\t\\t\\t\\n\\t\\t\\t\\t\\t\\t\\t\\n\\t\\t\\t\\t\\t\\t\\t\\t\\n\\t\\t\\t\\t\\t\\t\\t\\t\\n\\t\\t\\t\\t\\t\\t\\t\\t\\t\\n\\t\\t\\t\\t\\t\\t\\t\\t\\t\\n\\t\\t\\t\\t\\t\\t\\t\\t\\t\\t<td>\\n\\t\\t\\t\\t<em class=\"f_down down\"><span>하향</span>\\n\\t\\t\\t\\t20\\n\\t\\t\\t\\t</em>\\n\\t\\t\\t</td>\\n\\t\\t\\t\\t\\t\\t\\t\\t\\t\\n\\t\\t\\t\\t\\t\\t\\t\\t\\n\\t\\t\\t\\t\\t\\t\\t\\n\\t\\t\\t\\t\\t\\t</tr>\\n\\t\\t\\t\\t\\t\\t<tr>\\n\\t\\t\\t\\t\\t\\t\\t<th scope=\"row\" class=\"h_th2 th_cop_comp4\"><span>등락률</span></th>\\n\\t\\t\\t\\t\\t\\t\\t\\n\\t\\t\\t\\t\\t\\t\\t\\t\\n\\t\\t\\t\\t\\t\\t\\t\\t\\t\\n\\t\\t\\t\\t\\t\\t\\t\\t\\t\\n\\t\\t\\t\\t\\t\\t\\t\\t\\t\\t<td>\\n\\t\\t\\t\\t<em class=\"f_up\"><span>상향</span>\\n\\t\\t\\t\\t+4.37%\\n\\t\\t\\t\\t</em>\\n\\t\\t\\t</td>\\n\\t\\t\\t\\t\\t\\t\\t\\t\\t\\n\\t\\t\\t\\t\\t\\t\\t\\t\\n\\t\\t\\t\\t\\t\\t\\t\\n\\t\\t\\t\\t\\t\\t\\t\\t\\n\\t\\t\\t\\t\\t\\t\\t\\t\\t\\n\\t\\t\\t\\t\\t\\t\\t\\t\\t\\n\\t\\t\\t\\t\\t\\t\\t\\t\\t\\t<td>\\n\\t\\t\\t\\t<em class=\"f_up\"><span>상향</span>\\n\\t\\t\\t\\t+3.29%\\n\\t\\t\\t\\t</em>\\n\\t\\t\\t</td>\\n\\t\\t\\t\\t\\t\\t\\t\\t\\t\\n\\t\\t\\t\\t\\t\\t\\t\\t\\n\\t\\t\\t\\t\\t\\t\\t\\n\\t\\t\\t\\t\\t\\t\\t\\t\\n\\t\\t\\t\\t\\t\\t\\t\\t\\t\\n\\t\\t\\t\\t\\t\\t\\t\\t\\t\\n\\t\\t\\t\\t\\t\\t\\t\\t\\t\\t<td>\\n\\t\\t\\t\\t<em class=\"f_up\"><span>상향</span>\\n\\t\\t\\t\\t+0.87%\\n\\t\\t\\t\\t</em>\\n\\t\\t\\t</td>\\n\\t\\t\\t\\t\\t\\t\\t\\t\\t\\n\\t\\t\\t\\t\\t\\t\\t\\t\\n\\t\\t\\t\\t\\t\\t\\t\\n\\t\\t\\t\\t\\t\\t\\t\\t\\n\\t\\t\\t\\t\\t\\t\\t\\t\\t\\n\\t\\t\\t\\t\\t\\t\\t\\t\\t\\n\\t\\t\\t\\t\\t\\t\\t\\t\\t\\t<td>\\n\\t\\t\\t\\t<em class=\"f_up\"><span>상향</span>\\n\\t\\t\\t\\t+2.95%\\n\\t\\t\\t\\t</em>\\n\\t\\t\\t</td>\\n\\t\\t\\t\\t\\t\\t\\t\\t\\t\\n\\t\\t\\t\\t\\t\\t\\t\\t\\n\\t\\t\\t\\t\\t\\t\\t\\n\\t\\t\\t\\t\\t\\t\\t\\t\\n\\t\\t\\t\\t\\t\\t\\t\\t\\t\\n\\t\\t\\t\\t\\t\\t\\t\\t\\t\\n\\t\\t\\t\\t\\t\\t\\t\\t\\t\\t<td>\\n\\t\\t\\t\\t<em class=\"f_down\"><span>하향</span>\\n\\t\\t\\t\\t-0.47%\\n\\t\\t\\t\\t</em>\\n\\t\\t\\t</td>\\n\\t\\t\\t\\t\\t\\t\\t\\t\\t\\n\\t\\t\\t\\t\\t\\t\\t\\t\\n\\t\\t\\t\\t\\t\\t\\t\\n\\t\\t\\t\\t\\t\\t</tr>\\n\\t\\t\\t\\t\\t\\t<tr>\\n\\t\\t\\t\\t\\t\\t\\t<th scope=\"row\" class=\"h_th2 th_cop_comp5\"><span>시가총액(억)</span></th>\\n\\t\\t\\t\\t\\t\\t\\t\\n\\t\\t\\t\\t\\t\\t\\t\\t\\n\\t\\t\\t\\t\\t\\t\\t\\t\\t\\n\\t\\t\\t\\t\\t\\t\\t\\t\\t\\n\\t\\t\\t\\t\\t\\t\\t\\t\\t\\n\\t\\t\\t\\t\\t\\t\\t\\t\\t\\t<td>160,211</td>\\n\\t\\t\\t\\t\\t\\t\\t\\t\\t\\n\\t\\t\\t\\t\\t\\t\\t\\t\\n\\t\\t\\t\\t\\t\\t\\t\\n\\t\\t\\t\\t\\t\\t\\t\\t\\n\\t\\t\\t\\t\\t\\t\\t\\t\\t\\n\\t\\t\\t\\t\\t\\t\\t\\t\\t\\n\\t\\t\\t\\t\\t\\t\\t\\t\\t\\n\\t\\t\\t\\t\\t\\t\\t\\t\\t\\t<td>1,816</td>\\n\\t\\t\\t\\t\\t\\t\\t\\t\\t\\n\\t\\t\\t\\t\\t\\t\\t\\t\\n\\t\\t\\t\\t\\t\\t\\t\\n\\t\\t\\t\\t\\t\\t\\t\\t\\n\\t\\t\\t\\t\\t\\t\\t\\t\\t\\n\\t\\t\\t\\t\\t\\t\\t\\t\\t\\n\\t\\t\\t\\t\\t\\t\\t\\t\\t\\n\\t\\t\\t\\t\\t\\t\\t\\t\\t\\t<td>1,790</td>\\n\\t\\t\\t\\t\\t\\t\\t\\t\\t\\n\\t\\t\\t\\t\\t\\t\\t\\t\\n\\t\\t\\t\\t\\t\\t\\t\\n\\t\\t\\t\\t\\t\\t\\t\\t\\n\\t\\t\\t\\t\\t\\t\\t\\t\\t\\n\\t\\t\\t\\t\\t\\t\\t\\t\\t\\n\\t\\t\\t\\t\\t\\t\\t\\t\\t\\n\\t\\t\\t\\t\\t\\t\\t\\t\\t\\t<td>1,636</td>\\n\\t\\t\\t\\t\\t\\t\\t\\t\\t\\n\\t\\t\\t\\t\\t\\t\\t\\t\\n\\t\\t\\t\\t\\t\\t\\t\\n\\t\\t\\t\\t\\t\\t\\t\\t\\n\\t\\t\\t\\t\\t\\t\\t\\t\\t\\n\\t\\t\\t\\t\\t\\t\\t\\t\\t\\n\\t\\t\\t\\t\\t\\t\\t\\t\\t\\n\\t\\t\\t\\t\\t\\t\\t\\t\\t\\t<td>1,485</td>\\n\\t\\t\\t\\t\\t\\t\\t\\t\\t\\n\\t\\t\\t\\t\\t\\t\\t\\t\\n\\t\\t\\t\\t\\t\\t\\t\\n\\t\\t\\t\\t\\t\\t</tr>\\n\\t\\t\\t\\t\\t\\t<tr>\\n\\t\\t\\t\\t\\t\\t\\t<th scope=\"row\" class=\"h_th2 th_cop_comp6\"><span>외국인비율(%)</span></th>\\n\\t\\t\\t\\t\\t\\t\\t\\n\\t\\t\\t\\t\\t\\t\\t\\t\\n\\t\\t\\t\\t\\t\\t\\t\\t\\t\\n\\t\\t\\t\\t\\t\\t\\t\\t\\t\\n\\t\\t\\t\\t\\t\\t\\t\\t\\t\\n\\t\\t\\t\\t\\t\\t\\t\\t\\t\\t<td>25.93</td>\\n\\t\\t\\t\\t\\t\\t\\t\\t\\t\\n\\t\\t\\t\\t\\t\\t\\t\\t\\n\\t\\t\\t\\t\\t\\t\\t\\n\\t\\t\\t\\t\\t\\t\\t\\t\\n\\t\\t\\t\\t\\t\\t\\t\\t\\t\\n\\t\\t\\t\\t\\t\\t\\t\\t\\t\\n\\t\\t\\t\\t\\t\\t\\t\\t\\t\\n\\t\\t\\t\\t\\t\\t\\t\\t\\t\\t<td>3.25</td>\\n\\t\\t\\t\\t\\t\\t\\t\\t\\t\\n\\t\\t\\t\\t\\t\\t\\t\\t\\n\\t\\t\\t\\t\\t\\t\\t\\n\\t\\t\\t\\t\\t\\t\\t\\t\\n\\t\\t\\t\\t\\t\\t\\t\\t\\t\\n\\t\\t\\t\\t\\t\\t\\t\\t\\t\\n\\t\\t\\t\\t\\t\\t\\t\\t\\t\\n\\t\\t\\t\\t\\t\\t\\t\\t\\t\\t<td>5.06</td>\\n\\t\\t\\t\\t\\t\\t\\t\\t\\t\\n\\t\\t\\t\\t\\t\\t\\t\\t\\n\\t\\t\\t\\t\\t\\t\\t\\n\\t\\t\\t\\t\\t\\t\\t\\t\\n\\t\\t\\t\\t\\t\\t\\t\\t\\t\\n\\t\\t\\t\\t\\t\\t\\t\\t\\t\\n\\t\\t\\t\\t\\t\\t\\t\\t\\t\\n\\t\\t\\t\\t\\t\\t\\t\\t\\t\\t<td>2.94</td>\\n\\t\\t\\t\\t\\t\\t\\t\\t\\t\\n\\t\\t\\t\\t\\t\\t\\t\\t\\n\\t\\t\\t\\t\\t\\t\\t\\n\\t\\t\\t\\t\\t\\t\\t\\t\\n\\t\\t\\t\\t\\t\\t\\t\\t\\t\\n\\t\\t\\t\\t\\t\\t\\t\\t\\t\\n\\t\\t\\t\\t\\t\\t\\t\\t\\t\\n\\t\\t\\t\\t\\t\\t\\t\\t\\t\\t<td>5.62</td>\\n\\t\\t\\t\\t\\t\\t\\t\\t\\t\\n\\t\\t\\t\\t\\t\\t\\t\\t\\n\\t\\t\\t\\t\\t\\t\\t\\n\\t\\t\\t\\t\\t\\t</tr>\\n\\t\\t\\t\\t\\t\\t<tr>\\n\\t\\t\\t\\t\\t\\t\\t<th scope=\"row\" class=\"h_th2 th_cop_comp7\"><span>매출액(억)</span></th>\\n\\t\\t\\t\\t\\t\\t\\t\\n\\t\\t\\t\\t\\t\\t\\t\\t\\n\\t\\t\\t\\t\\t\\t\\t\\t\\t\\n\\t\\t\\t\\t\\t\\t\\t\\t\\t\\n\\t\\t\\t\\t\\t\\t\\t\\t\\t\\n\\t\\t\\t\\t\\t\\t\\t\\t\\t\\t<td>194,640</td>\\n\\t\\t\\t\\t\\t\\t\\t\\t\\t\\n\\t\\t\\t\\t\\t\\t\\t\\t\\n\\t\\t\\t\\t\\t\\t\\t\\n\\t\\t\\t\\t\\t\\t\\t\\t\\n\\t\\t\\t\\t\\t\\t\\t\\t\\t\\n\\t\\t\\t\\t\\t\\t\\t\\t\\t\\n\\t\\t\\t\\t\\t\\t\\t\\t\\t\\n\\t\\t\\t\\t\\t\\t\\t\\t\\t\\t<td>1,251</td>\\n\\t\\t\\t\\t\\t\\t\\t\\t\\t\\n\\t\\t\\t\\t\\t\\t\\t\\t\\n\\t\\t\\t\\t\\t\\t\\t\\n\\t\\t\\t\\t\\t\\t\\t\\t\\n\\t\\t\\t\\t\\t\\t\\t\\t\\t\\n\\t\\t\\t\\t\\t\\t\\t\\t\\t\\n\\t\\t\\t\\t\\t\\t\\t\\t\\t\\n\\t\\t\\t\\t\\t\\t\\t\\t\\t\\t<td>1,615</td>\\n\\t\\t\\t\\t\\t\\t\\t\\t\\t\\n\\t\\t\\t\\t\\t\\t\\t\\t\\n\\t\\t\\t\\t\\t\\t\\t\\n\\t\\t\\t\\t\\t\\t\\t\\t\\n\\t\\t\\t\\t\\t\\t\\t\\t\\t\\n\\t\\t\\t\\t\\t\\t\\t\\t\\t\\n\\t\\t\\t\\t\\t\\t\\t\\t\\t\\n\\t\\t\\t\\t\\t\\t\\t\\t\\t\\t<td>898</td>\\n\\t\\t\\t\\t\\t\\t\\t\\t\\t\\n\\t\\t\\t\\t\\t\\t\\t\\t\\n\\t\\t\\t\\t\\t\\t\\t\\n\\t\\t\\t\\t\\t\\t\\t\\t\\n\\t\\t\\t\\t\\t\\t\\t\\t\\t\\n\\t\\t\\t\\t\\t\\t\\t\\t\\t\\n\\t\\t\\t\\t\\t\\t\\t\\t\\t\\n\\t\\t\\t\\t\\t\\t\\t\\t\\t\\t<td>160</td>\\n\\t\\t\\t\\t\\t\\t\\t\\t\\t\\n\\t\\t\\t\\t\\t\\t\\t\\t\\n\\t\\t\\t\\t\\t\\t\\t\\n\\t\\t\\t\\t\\t\\t</tr>\\n\\t\\t\\t\\t\\t\\t<tr>\\n\\t\\t\\t\\t\\t\\t\\t<th scope=\"row\" class=\"h_th2 th_cop_comp8\"><span>영업이익(억)</span></th>\\n\\t\\t\\t\\t\\t\\t\\t\\n\\t\\t\\t\\t\\t\\t\\t\\t\\n\\t\\t\\t\\t\\t\\t\\t\\t\\t\\n\\t\\t\\t\\t\\t\\t\\t\\t\\t\\n\\t\\t\\t\\t\\t\\t\\t\\t\\t\\n\\t\\t\\t\\t\\t\\t\\t\\t\\t\\t<td>7,923</td>\\n\\t\\t\\t\\t\\t\\t\\t\\t\\t\\n\\t\\t\\t\\t\\t\\t\\t\\t\\n\\t\\t\\t\\t\\t\\t\\t\\n\\t\\t\\t\\t\\t\\t\\t\\t\\n\\t\\t\\t\\t\\t\\t\\t\\t\\t\\n\\t\\t\\t\\t\\t\\t\\t\\t\\t\\n\\t\\t\\t\\t\\t\\t\\t\\t\\t\\n\\t\\t\\t\\t\\t\\t\\t\\t\\t\\t<td>56</td>\\n\\t\\t\\t\\t\\t\\t\\t\\t\\t\\n\\t\\t\\t\\t\\t\\t\\t\\t\\n\\t\\t\\t\\t\\t\\t\\t\\n\\t\\t\\t\\t\\t\\t\\t\\t\\n\\t\\t\\t\\t\\t\\t\\t\\t\\t\\n\\t\\t\\t\\t\\t\\t\\t\\t\\t\\n\\t\\t\\t\\t\\t\\t\\t\\t\\t\\n\\t\\t\\t\\t\\t\\t\\t\\t\\t\\t<td>42</td>\\n\\t\\t\\t\\t\\t\\t\\t\\t\\t\\n\\t\\t\\t\\t\\t\\t\\t\\t\\n\\t\\t\\t\\t\\t\\t\\t\\n\\t\\t\\t\\t\\t\\t\\t\\t\\n\\t\\t\\t\\t\\t\\t\\t\\t\\t\\n\\t\\t\\t\\t\\t\\t\\t\\t\\t\\n\\t\\t\\t\\t\\t\\t\\t\\t\\t\\n\\t\\t\\t\\t\\t\\t\\t\\t\\t\\t<td>5</td>\\n\\t\\t\\t\\t\\t\\t\\t\\t\\t\\n\\t\\t\\t\\t\\t\\t\\t\\t\\n\\t\\t\\t\\t\\t\\t\\t\\n\\t\\t\\t\\t\\t\\t\\t\\t\\n\\t\\t\\t\\t\\t\\t\\t\\t\\t\\n\\t\\t\\t\\t\\t\\t\\t\\t\\t\\n\\t\\t\\t\\t\\t\\t\\t\\t\\t\\n\\t\\t\\t\\t\\t\\t\\t\\t\\t\\t<td>-1</td>\\n\\t\\t\\t\\t\\t\\t\\t\\t\\t\\n\\t\\t\\t\\t\\t\\t\\t\\t\\n\\t\\t\\t\\t\\t\\t\\t\\n\\t\\t\\t\\t\\t\\t</tr>\\n\\t\\t\\t\\t\\t\\t<tr>\\n\\t\\t\\t\\t\\t\\t\\t<th scope=\"row\" class=\"h_th2 th_cop_comp15\"><span>조정영업이익(억)</span></th>\\n\\t\\t\\t\\t\\t\\t\\t\\n\\t\\t\\t\\t\\t\\t\\t\\t\\n\\t\\t\\t\\t\\t\\t\\t\\t\\t\\n\\t\\t\\t\\t\\t\\t\\t\\t\\t\\n\\t\\t\\t\\t\\t\\t\\t\\t\\t\\n\\t\\t\\t\\t\\t\\t\\t\\t\\t\\t<td>7,923</td>\\n\\t\\t\\t\\t\\t\\t\\t\\t\\t\\n\\t\\t\\t\\t\\t\\t\\t\\t\\n\\t\\t\\t\\t\\t\\t\\t\\n\\t\\t\\t\\t\\t\\t\\t\\t\\n\\t\\t\\t\\t\\t\\t\\t\\t\\t\\n\\t\\t\\t\\t\\t\\t\\t\\t\\t\\n\\t\\t\\t\\t\\t\\t\\t\\t\\t\\n\\t\\t\\t\\t\\t\\t\\t\\t\\t\\t<td>56</td>\\n\\t\\t\\t\\t\\t\\t\\t\\t\\t\\n\\t\\t\\t\\t\\t\\t\\t\\t\\n\\t\\t\\t\\t\\t\\t\\t\\n\\t\\t\\t\\t\\t\\t\\t\\t\\n\\t\\t\\t\\t\\t\\t\\t\\t\\t\\n\\t\\t\\t\\t\\t\\t\\t\\t\\t\\n\\t\\t\\t\\t\\t\\t\\t\\t\\t\\n\\t\\t\\t\\t\\t\\t\\t\\t\\t\\t<td>42</td>\\n\\t\\t\\t\\t\\t\\t\\t\\t\\t\\n\\t\\t\\t\\t\\t\\t\\t\\t\\n\\t\\t\\t\\t\\t\\t\\t\\n\\t\\t\\t\\t\\t\\t\\t\\t\\n\\t\\t\\t\\t\\t\\t\\t\\t\\t\\n\\t\\t\\t\\t\\t\\t\\t\\t\\t\\n\\t\\t\\t\\t\\t\\t\\t\\t\\t\\n\\t\\t\\t\\t\\t\\t\\t\\t\\t\\t<td>5</td>\\n\\t\\t\\t\\t\\t\\t\\t\\t\\t\\n\\t\\t\\t\\t\\t\\t\\t\\t\\n\\t\\t\\t\\t\\t\\t\\t\\n\\t\\t\\t\\t\\t\\t\\t\\t\\n\\t\\t\\t\\t\\t\\t\\t\\t\\t\\n\\t\\t\\t\\t\\t\\t\\t\\t\\t\\n\\t\\t\\t\\t\\t\\t\\t\\t\\t\\n\\t\\t\\t\\t\\t\\t\\t\\t\\t\\t<td>-1</td>\\n\\t\\t\\t\\t\\t\\t\\t\\t\\t\\n\\t\\t\\t\\t\\t\\t\\t\\t\\n\\t\\t\\t\\t\\t\\t\\t\\n\\t\\t\\t\\t\\t\\t</tr>\\n\\t\\t\\t\\t\\t\\t<tr>\\n\\t\\t\\t\\t\\t\\t\\t<th scope=\"row\" class=\"h_th2 th_cop_comp9\"><span>영업이익증가율(%)</span></th>\\n\\t\\t\\t\\t\\t\\t\\t\\n\\t\\t\\t\\t\\t\\t\\t\\t\\n\\t\\t\\t\\t\\t\\t\\t\\t\\t\\n\\t\\t\\t\\t\\t\\t\\t\\t\\t\\n\\t\\t\\t\\t\\t\\t\\t\\t\\t\\n\\t\\t\\t\\t\\t\\t\\t\\t\\t\\t<td>-54.55</td>\\n\\t\\t\\t\\t\\t\\t\\t\\t\\t\\n\\t\\t\\t\\t\\t\\t\\t\\t\\n\\t\\t\\t\\t\\t\\t\\t\\n\\t\\t\\t\\t\\t\\t\\t\\t\\n\\t\\t\\t\\t\\t\\t\\t\\t\\t\\n\\t\\t\\t\\t\\t\\t\\t\\t\\t\\n\\t\\t\\t\\t\\t\\t\\t\\t\\t\\n\\t\\t\\t\\t\\t\\t\\t\\t\\t\\t<td>-0.62</td>\\n\\t\\t\\t\\t\\t\\t\\t\\t\\t\\n\\t\\t\\t\\t\\t\\t\\t\\t\\n\\t\\t\\t\\t\\t\\t\\t\\n\\t\\t\\t\\t\\t\\t\\t\\t\\n\\t\\t\\t\\t\\t\\t\\t\\t\\t\\n\\t\\t\\t\\t\\t\\t\\t\\t\\t\\n\\t\\t\\t\\t\\t\\t\\t\\t\\t\\n\\t\\t\\t\\t\\t\\t\\t\\t\\t\\t<td>266.83</td>\\n\\t\\t\\t\\t\\t\\t\\t\\t\\t\\n\\t\\t\\t\\t\\t\\t\\t\\t\\n\\t\\t\\t\\t\\t\\t\\t\\n\\t\\t\\t\\t\\t\\t\\t\\t\\n\\t\\t\\t\\t\\t\\t\\t\\t\\t\\n\\t\\t\\t\\t\\t\\t\\t\\t\\t\\n\\t\\t\\t\\t\\t\\t\\t\\t\\t\\n\\t\\t\\t\\t\\t\\t\\t\\t\\t\\t<td>-29.44</td>\\n\\t\\t\\t\\t\\t\\t\\t\\t\\t\\n\\t\\t\\t\\t\\t\\t\\t\\t\\n\\t\\t\\t\\t\\t\\t\\t\\n\\t\\t\\t\\t\\t\\t\\t\\t\\n\\t\\t\\t\\t\\t\\t\\t\\t\\t\\n\\t\\t\\t\\t\\t\\t\\t\\t\\t\\n\\t\\t\\t\\t\\t\\t\\t\\t\\t\\n\\t\\t\\t\\t\\t\\t\\t\\t\\t\\t<td>65.03</td>\\n\\t\\t\\t\\t\\t\\t\\t\\t\\t\\n\\t\\t\\t\\t\\t\\t\\t\\t\\n\\t\\t\\t\\t\\t\\t\\t\\n\\t\\t\\t\\t\\t\\t</tr>\\n\\t\\t\\t\\t\\t\\t<tr>\\n\\t\\t\\t\\t\\t\\t\\t<th scope=\"row\" class=\"h_th2 th_cop_comp10\"><span>당기순이익(억)</span></th>\\n\\t\\t\\t\\t\\t\\t\\t\\n\\t\\t\\t\\t\\t\\t\\t\\t\\n\\t\\t\\t\\t\\t\\t\\t\\t\\t\\n\\t\\t\\t\\t\\t\\t\\t\\t\\t\\n\\t\\t\\t\\t\\t\\t\\t\\t\\t\\n\\t\\t\\t\\t\\t\\t\\t\\t\\t\\t<td>3,380</td>\\n\\t\\t\\t\\t\\t\\t\\t\\t\\t\\n\\t\\t\\t\\t\\t\\t\\t\\t\\n\\t\\t\\t\\t\\t\\t\\t\\n\\t\\t\\t\\t\\t\\t\\t\\t\\n\\t\\t\\t\\t\\t\\t\\t\\t\\t\\n\\t\\t\\t\\t\\t\\t\\t\\t\\t\\n\\t\\t\\t\\t\\t\\t\\t\\t\\t\\n\\t\\t\\t\\t\\t\\t\\t\\t\\t\\t<td>43</td>\\n\\t\\t\\t\\t\\t\\t\\t\\t\\t\\n\\t\\t\\t\\t\\t\\t\\t\\t\\n\\t\\t\\t\\t\\t\\t\\t\\n\\t\\t\\t\\t\\t\\t\\t\\t\\n\\t\\t\\t\\t\\t\\t\\t\\t\\t\\n\\t\\t\\t\\t\\t\\t\\t\\t\\t\\n\\t\\t\\t\\t\\t\\t\\t\\t\\t\\n\\t\\t\\t\\t\\t\\t\\t\\t\\t\\t<td>149</td>\\n\\t\\t\\t\\t\\t\\t\\t\\t\\t\\n\\t\\t\\t\\t\\t\\t\\t\\t\\n\\t\\t\\t\\t\\t\\t\\t\\n\\t\\t\\t\\t\\t\\t\\t\\t\\n\\t\\t\\t\\t\\t\\t\\t\\t\\t\\n\\t\\t\\t\\t\\t\\t\\t\\t\\t\\n\\t\\t\\t\\t\\t\\t\\t\\t\\t\\n\\t\\t\\t\\t\\t\\t\\t\\t\\t\\t<td>162</td>\\n\\t\\t\\t\\t\\t\\t\\t\\t\\t\\n\\t\\t\\t\\t\\t\\t\\t\\t\\n\\t\\t\\t\\t\\t\\t\\t\\n\\t\\t\\t\\t\\t\\t\\t\\t\\n\\t\\t\\t\\t\\t\\t\\t\\t\\t\\n\\t\\t\\t\\t\\t\\t\\t\\t\\t\\n\\t\\t\\t\\t\\t\\t\\t\\t\\t\\n\\t\\t\\t\\t\\t\\t\\t\\t\\t\\t<td>-9</td>\\n\\t\\t\\t\\t\\t\\t\\t\\t\\t\\n\\t\\t\\t\\t\\t\\t\\t\\t\\n\\t\\t\\t\\t\\t\\t\\t\\n\\t\\t\\t\\t\\t\\t</tr>\\n\\t\\t\\t\\t\\t\\t<tr>\\n\\t\\t\\t\\t\\t\\t\\t<th scope=\"row\" class=\"h_th2 th_cop_comp11\"><span>주당순이익(원)</span></th>\\n\\t\\t\\t\\t\\t\\t\\t\\n\\t\\t\\t\\t\\t\\t\\t\\t\\n\\t\\t\\t\\t\\t\\t\\t\\t\\t\\n\\t\\t\\t\\t\\t\\t\\t\\t\\t\\n\\t\\t\\t\\t\\t\\t\\t\\t\\t\\n\\t\\t\\t\\t\\t\\t\\t\\t\\t\\t<td>1,067.44</td>\\n\\t\\t\\t\\t\\t\\t\\t\\t\\t\\n\\t\\t\\t\\t\\t\\t\\t\\t\\n\\t\\t\\t\\t\\t\\t\\t\\n\\t\\t\\t\\t\\t\\t\\t\\t\\n\\t\\t\\t\\t\\t\\t\\t\\t\\t\\n\\t\\t\\t\\t\\t\\t\\t\\t\\t\\n\\t\\t\\t\\t\\t\\t\\t\\t\\t\\n\\t\\t\\t\\t\\t\\t\\t\\t\\t\\t<td>56.32</td>\\n\\t\\t\\t\\t\\t\\t\\t\\t\\t\\n\\t\\t\\t\\t\\t\\t\\t\\t\\n\\t\\t\\t\\t\\t\\t\\t\\n\\t\\t\\t\\t\\t\\t\\t\\t\\n\\t\\t\\t\\t\\t\\t\\t\\t\\t\\n\\t\\t\\t\\t\\t\\t\\t\\t\\t\\n\\t\\t\\t\\t\\t\\t\\t\\t\\t\\n\\t\\t\\t\\t\\t\\t\\t\\t\\t\\t<td>386.21</td>\\n\\t\\t\\t\\t\\t\\t\\t\\t\\t\\n\\t\\t\\t\\t\\t\\t\\t\\t\\n\\t\\t\\t\\t\\t\\t\\t\\n\\t\\t\\t\\t\\t\\t\\t\\t\\n\\t\\t\\t\\t\\t\\t\\t\\t\\t\\n\\t\\t\\t\\t\\t\\t\\t\\t\\t\\n\\t\\t\\t\\t\\t\\t\\t\\t\\t\\n\\t\\t\\t\\t\\t\\t\\t\\t\\t\\t<td>1,249.96</td>\\n\\t\\t\\t\\t\\t\\t\\t\\t\\t\\n\\t\\t\\t\\t\\t\\t\\t\\t\\n\\t\\t\\t\\t\\t\\t\\t\\n\\t\\t\\t\\t\\t\\t\\t\\t\\n\\t\\t\\t\\t\\t\\t\\t\\t\\t\\n\\t\\t\\t\\t\\t\\t\\t\\t\\t\\n\\t\\t\\t\\t\\t\\t\\t\\t\\t\\n\\t\\t\\t\\t\\t\\t\\t\\t\\t\\t<td>-25.91</td>\\n\\t\\t\\t\\t\\t\\t\\t\\t\\t\\n\\t\\t\\t\\t\\t\\t\\t\\t\\n\\t\\t\\t\\t\\t\\t\\t\\n\\t\\t\\t\\t\\t\\t</tr>\\n\\t\\t\\t\\t\\t\\t<tr>\\n\\t\\t\\t\\t\\t\\t\\t<th scope=\"row\" class=\"h_th2 th_cop_comp12\"><span>ROE(%)</span></th>\\n\\t\\t\\t\\t\\t\\t\\t\\n\\t\\t\\t\\t\\t\\t\\t\\t\\n\\t\\t\\t\\t\\t\\t\\t\\t\\t\\n\\t\\t\\t\\t\\t\\t\\t\\t\\t\\n\\t\\t\\t\\t\\t\\t\\t\\t\\t\\n\\t\\t\\t\\t\\t\\t\\t\\t\\t\\t<td>10.13</td>\\n\\t\\t\\t\\t\\t\\t\\t\\t\\t\\n\\t\\t\\t\\t\\t\\t\\t\\t\\n\\t\\t\\t\\t\\t\\t\\t\\n\\t\\t\\t\\t\\t\\t\\t\\t\\n\\t\\t\\t\\t\\t\\t\\t\\t\\t\\n\\t\\t\\t\\t\\t\\t\\t\\t\\t\\n\\t\\t\\t\\t\\t\\t\\t\\t\\t\\n\\t\\t\\t\\t\\t\\t\\t\\t\\t\\t<td>23.28</td>\\n\\t\\t\\t\\t\\t\\t\\t\\t\\t\\n\\t\\t\\t\\t\\t\\t\\t\\t\\n\\t\\t\\t\\t\\t\\t\\t\\n\\t\\t\\t\\t\\t\\t\\t\\t\\n\\t\\t\\t\\t\\t\\t\\t\\t\\t\\n\\t\\t\\t\\t\\t\\t\\t\\t\\t\\n\\t\\t\\t\\t\\t\\t\\t\\t\\t\\n\\t\\t\\t\\t\\t\\t\\t\\t\\t\\t<td>-10.05</td>\\n\\t\\t\\t\\t\\t\\t\\t\\t\\t\\n\\t\\t\\t\\t\\t\\t\\t\\t\\n\\t\\t\\t\\t\\t\\t\\t\\n\\t\\t\\t\\t\\t\\t\\t\\t\\n\\t\\t\\t\\t\\t\\t\\t\\t\\t\\n\\t\\t\\t\\t\\t\\t\\t\\t\\t\\n\\t\\t\\t\\t\\t\\t\\t\\t\\t\\n\\t\\t\\t\\t\\t\\t\\t\\t\\t\\t<td>11.63</td>\\n\\t\\t\\t\\t\\t\\t\\t\\t\\t\\n\\t\\t\\t\\t\\t\\t\\t\\t\\n\\t\\t\\t\\t\\t\\t\\t\\n\\t\\t\\t\\t\\t\\t\\t\\t\\n\\t\\t\\t\\t\\t\\t\\t\\t\\t\\n\\t\\t\\t\\t\\t\\t\\t\\t\\t\\t<td class=\"no_data\"></td>\\n\\t\\t\\t\\t\\t\\t\\t\\t\\t\\n\\t\\t\\t\\t\\t\\t\\t\\t\\t\\n\\t\\t\\t\\t\\t\\t\\t\\t\\t\\n\\t\\t\\t\\t\\t\\t\\t\\t\\n\\t\\t\\t\\t\\t\\t\\t\\n\\t\\t\\t\\t\\t\\t</tr>\\n\\t\\t\\t\\t\\t\\t<tr>\\n\\t\\t\\t\\t\\t\\t\\t<th scope=\"row\" class=\"h_th2 th_cop_comp13\"><span>PER(%)</span></th>\\n\\t\\t\\t\\t\\t\\t\\t\\n\\t\\t\\t\\t\\t\\t\\t\\t\\n\\t\\t\\t\\t\\t\\t\\t\\t\\t\\n\\t\\t\\t\\t\\t\\t\\t\\t\\t\\n\\t\\t\\t\\t\\t\\t\\t\\t\\t\\n\\t\\t\\t\\t\\t\\t\\t\\t\\t\\t<td>9.60</td>\\n\\t\\t\\t\\t\\t\\t\\t\\t\\t\\n\\t\\t\\t\\t\\t\\t\\t\\t\\n\\t\\t\\t\\t\\t\\t\\t\\n\\t\\t\\t\\t\\t\\t\\t\\t\\n\\t\\t\\t\\t\\t\\t\\t\\t\\t\\n\\t\\t\\t\\t\\t\\t\\t\\t\\t\\n\\t\\t\\t\\t\\t\\t\\t\\t\\t\\n\\t\\t\\t\\t\\t\\t\\t\\t\\t\\t<td>9.61</td>\\n\\t\\t\\t\\t\\t\\t\\t\\t\\t\\n\\t\\t\\t\\t\\t\\t\\t\\t\\n\\t\\t\\t\\t\\t\\t\\t\\n\\t\\t\\t\\t\\t\\t\\t\\t\\n\\t\\t\\t\\t\\t\\t\\t\\t\\t\\n\\t\\t\\t\\t\\t\\t\\t\\t\\t\\n\\t\\t\\t\\t\\t\\t\\t\\t\\t\\n\\t\\t\\t\\t\\t\\t\\t\\t\\t\\t<td>-5.12</td>\\n\\t\\t\\t\\t\\t\\t\\t\\t\\t\\n\\t\\t\\t\\t\\t\\t\\t\\t\\n\\t\\t\\t\\t\\t\\t\\t\\n\\t\\t\\t\\t\\t\\t\\t\\t\\n\\t\\t\\t\\t\\t\\t\\t\\t\\t\\n\\t\\t\\t\\t\\t\\t\\t\\t\\t\\n\\t\\t\\t\\t\\t\\t\\t\\t\\t\\n\\t\\t\\t\\t\\t\\t\\t\\t\\t\\t<td>10.10</td>\\n\\t\\t\\t\\t\\t\\t\\t\\t\\t\\n\\t\\t\\t\\t\\t\\t\\t\\t\\n\\t\\t\\t\\t\\t\\t\\t\\n\\t\\t\\t\\t\\t\\t\\t\\t\\n\\t\\t\\t\\t\\t\\t\\t\\t\\t\\n\\t\\t\\t\\t\\t\\t\\t\\t\\t\\n\\t\\t\\t\\t\\t\\t\\t\\t\\t\\n\\t\\t\\t\\t\\t\\t\\t\\t\\t\\t<td>6.08</td>\\n\\t\\t\\t\\t\\t\\t\\t\\t\\t\\n\\t\\t\\t\\t\\t\\t\\t\\t\\n\\t\\t\\t\\t\\t\\t\\t\\n\\t\\t\\t\\t\\t\\t</tr>\\n\\t\\t\\t\\t\\t\\t<tr>\\n\\t\\t\\t\\t\\t\\t\\t<th scope=\"row\" class=\"h_th2 th_cop_comp14\"><span>PBR(배)</span></th>\\n\\t\\t\\t\\t\\t\\t\\t\\n\\t\\t\\t\\t\\t\\t\\t\\t\\n\\t\\t\\t\\t\\t\\t\\t\\t\\t\\n\\t\\t\\t\\t\\t\\t\\t\\t\\t\\n\\t\\t\\t\\t\\t\\t\\t\\t\\t\\n\\t\\t\\t\\t\\t\\t\\t\\t\\t\\t<td>0.88</td>\\n\\t\\t\\t\\t\\t\\t\\t\\t\\t\\n\\t\\t\\t\\t\\t\\t\\t\\t\\n\\t\\t\\t\\t\\t\\t\\t\\n\\t\\t\\t\\t\\t\\t\\t\\t\\n\\t\\t\\t\\t\\t\\t\\t\\t\\t\\n\\t\\t\\t\\t\\t\\t\\t\\t\\t\\n\\t\\t\\t\\t\\t\\t\\t\\t\\t\\n\\t\\t\\t\\t\\t\\t\\t\\t\\t\\t<td>1.90</td>\\n\\t\\t\\t\\t\\t\\t\\t\\t\\t\\n\\t\\t\\t\\t\\t\\t\\t\\t\\n\\t\\t\\t\\t\\t\\t\\t\\n\\t\\t\\t\\t\\t\\t\\t\\t\\n\\t\\t\\t\\t\\t\\t\\t\\t\\t\\n\\t\\t\\t\\t\\t\\t\\t\\t\\t\\n\\t\\t\\t\\t\\t\\t\\t\\t\\t\\n\\t\\t\\t\\t\\t\\t\\t\\t\\t\\t<td>0.55</td>\\n\\t\\t\\t\\t\\t\\t\\t\\t\\t\\n\\t\\t\\t\\t\\t\\t\\t\\t\\n\\t\\t\\t\\t\\t\\t\\t\\n\\t\\t\\t\\t\\t\\t\\t\\t\\n\\t\\t\\t\\t\\t\\t\\t\\t\\t\\n\\t\\t\\t\\t\\t\\t\\t\\t\\t\\n\\t\\t\\t\\t\\t\\t\\t\\t\\t\\n\\t\\t\\t\\t\\t\\t\\t\\t\\t\\t<td>1.03</td>\\n\\t\\t\\t\\t\\t\\t\\t\\t\\t\\n\\t\\t\\t\\t\\t\\t\\t\\t\\n\\t\\t\\t\\t\\t\\t\\t\\n\\t\\t\\t\\t\\t\\t\\t\\t\\n\\t\\t\\t\\t\\t\\t\\t\\t\\t\\n\\t\\t\\t\\t\\t\\t\\t\\t\\t\\n\\t\\t\\t\\t\\t\\t\\t\\t\\t\\n\\t\\t\\t\\t\\t\\t\\t\\t\\t\\t<td>1.51</td>\\n\\t\\t\\t\\t\\t\\t\\t\\t\\t\\n\\t\\t\\t\\t\\t\\t\\t\\t\\n\\t\\t\\t\\t\\t\\t\\t\\n\\t\\t\\t\\t\\t\\t</tr>\\n\\t\\t\\t\\t\\t\\t</tbody>\\n\\t\\t\\t\\t\\t</table>\\n\\t\\t\\t\\t\\t<a href=\"/sise/sise_group_detail.naver?type=upjong&no=307\" class=\"more\" onClick=\"clickcr(this, \\'dle.22\\', \\'\\', \\'\\', event);\">더보기</a>\\n\\t\\t\\t\\t</div>\\n\\t\\t\\t\\t\\n\\t\\t\\t\\t<hr>\\n\\t\\t\\t\\t<div class=\"dsc_ifrs2\">\\n\\t\\t\\t\\t\\t<ul>\\n\\t\\t\\t\\t\\t\\t<li>PER, PBR 수치는 최근 4분기 기준입니다.</li>\\n\\t\\t\\t\\t\\t\\t<li><em>*</em> 종목은 IFRS (연결) 회계기준을 적용한 종목입니다. (최근 분기보고서 기준이며, 기준 분기는 업종마다 다를 수 있습니다.)</li>\\n\\t\\t\\t\\t\\t\\t<li>IFRS (연결) 적용 종목의 당기순이익 및 가치지표(주당순이익, PER, PBR)는 지배주주지분을 기준으로 산출하였습니다.</li>\\n\\t\\t\\t\\t\\t</ul>\\n\\t\\t\\t\\t</div>\\n\\t\\t\\t\\n\\t\\t\\n\\n\\t\\t\\n\\t\\t\\n\\t\\n\\n</div>\\n\\n\\n<div id=\"aside\">\\n\\t<div class=\"bg_line\"></div>\\n\\t<div class=\"aside_invest_info\">\\n\\t\\t<div id=\"tab_invest\" class=\"tab tab_invest1\">\\n\\t\\t\\t<a href=\"javascript:showArea(\\'tab_invest\\', \\'tab tab_invest1\\', \\'tab_con1\\', \\'tab_con2\\')\" onClick=\"clickcr(this, \\'sop.18\\', \\'\\', \\'2\\', event)\"><span>투자정보</span></a>\\n\\t\\t\\t<a href=\"javascript:showArea(\\'tab_invest\\', \\'tab tab_invest2\\', \\'tab_con2\\', \\'tab_con1\\')\" onClick=\"clickcr(this, \\'sop.20\\', \\'\\', \\'2\\', event)\"><span>호가10단계</span></a>\\n\\t\\t</div>\\n\\n\\t\\t\\n\\t\\t<div id=\"tab_con1\" class=\"tab_con1\" style=\"display:block\">\\n\\t\\t\\n\\t\\t\\t\\n\\t\\t\\t\\n\\t\\t\\t\\t\\n\\t\\t\\t\\t\\t\\n\\t\\t\\t\\t\\t\\n\\t\\t\\t\\t\\t\\t<h3 class=\"blind\">투자정보</h3>\\n\\t\\t\\t\\t\\t\\t<div class=\"first\">\\n\\t\\t\\t\\t\\t\\t<table summary=\"시가총액 정보\">\\n\\t\\t\\t\\t\\t\\t<caption>시가총액</caption>\\n\\t\\t\\t\\t\\t\\t\\n\\t\\t\\t\\t\\t\\t\\t\\n\\t\\t\\t\\t\\t\\t\\t\\t\\n\\t\\t\\t\\t\\t\\t\\t\\n\\t\\t\\t\\t\\t\\t\\t\\n\\t\\t\\t\\t\\t\\t\\n\\t\\t\\t\\t\\t\\t<tr class=\"strong\">\\n\\t\\t\\t\\t\\t\\t\\t<th scope=\"row\">시가총액</th>\\n\\t\\t\\t\\t\\t\\t\\t<td><em id=\"_market_sum\">\\n\\t\\t\\t\\t\\t\\t\\t\\t\\n\\t\\t\\t\\t\\t\\t\\t\\t\\n\\t\\t\\t\\t\\t\\t\\t\\t\\t\\n\\t\\t\\t\\t\\t\\t\\t\\t\\t\\n\\t\\t\\t\\t\\t\\t\\t\\t\\t\\t\\n\\t\\t\\t\\t\\t\\t\\t\\t\\t\\t\\n\\t\\t\\t\\t\\t\\t\\t\\t\\t\\t16조\\n\\t\\t\\t\\t\\t\\t\\t\\t\\t\\t\\n\\t\\t\\t\\t\\t\\t\\t\\t\\t\\t\\t211\\n\\t\\t\\t\\t\\t\\t\\t\\t\\t\\t\\n\\t\\t\\t\\t\\t\\t\\t\\t\\t\\n\\t\\t\\t\\t\\t\\t\\t\\t</em>억원</td>\\n\\t\\t\\t\\t\\t\\t</tr>\\n\\t\\t\\t\\t\\t\\t\\n\\t\\t\\t\\t\\t\\t\\t<tr><th scope=\"row\">\\n\\t\\t\\t\\t\\t\\t\\t\\t\\n\\t\\t\\t\\t\\t\\t\\t\\t\\t<a class=\"link_site\" href=\"/sise/sise_market_sum.naver\" class=\"link_site\" onClick=\"clickcr(this, \\'sop.19\\', \\'\\', \\'1\\', event)\">시가총액순위</a>\\n\\t\\t\\t\\t\\t\\t\\t\\t\\t\\n\\t\\t\\t\\t\\t\\t\\t\\t\\n\\t\\t\\t\\t\\t\\t\\t</th><td>코스피 <em>20</em>위</td></tr>\\n\\t\\t\\t\\t\\t\\t\\n\\t\\t\\t\\t\\t\\t<tr>\\n\\t\\t\\t\\t\\t\\t\\t<th scope=\"row\">상장주식수</th>\\n\\t\\t\\t\\t\\t\\t\\t<td><em>163,647,814</em></td>\\n\\t\\t\\t\\t\\t\\t</tr>\\n\\t\\t\\t\\t\\t\\t\\n\\t\\t\\t\\t\\t\\t\\t<tr><th scope=\"row\">액면가<span class=\"bar\">l</span>매매단위</th>\\n\\t\\t\\t\\t\\t\\t\\t\\t<td>\\n\\t\\t\\t\\t\\t\\t\\t\\t\\t<em>5,000</em>원\\n\\t\\t\\t\\t\\t\\t\\t\\t\\t<span class=\"bar\">l</span>\\n\\t\\t\\t\\t\\t\\t\\t\\t\\t<em>1</em>주\\n\\t\\t\\t\\t\\t\\t\\t\\t</td>\\n\\t\\t\\t\\t\\t\\t\\t</tr>\\n\\t\\t\\t\\t\\t\\t\\n\\t\\t\\t\\t\\t\\t\\n\\t\\t\\t\\t\\t\\t</table>\\n\\t\\t\\t\\t\\t\\t</div>\\n\\n\\t\\t\\t\\t\\t\\t\\n\\t\\t\\t\\t\\t\\t\\t<div class=\"gray\">\\n\\t\\t\\t\\t\\t\\t\\t<table summary=\"외국인한도주식수 정보\" class=\"lwidth\">\\n\\t\\t\\t\\t\\t\\t\\t<caption>외국인한도주식수</caption>\\n\\t\\t\\t\\t\\t\\t\\t<tr>\\n\\t\\t\\t\\t\\t\\t\\t\\t<th scope=\"row\">외국인한도주식수(A)</th>\\n\\t\\t\\t\\t\\t\\t\\t\\t<td><em>163,647,814</em></td>\\n\\t\\t\\t\\t\\t\\t\\t</tr>\\n\\t\\t\\t\\t\\t\\t\\t<tr>\\n\\t\\t\\t\\t\\t\\t\\t\\t<th scope=\"row\">외국인보유주식수(B)</th>\\n\\t\\t\\t\\t\\t\\t\\t\\t<td><em>42,433,464</em></td>\\n\\t\\t\\t\\t\\t\\t\\t</tr>\\n\\t\\t\\t\\t\\t\\t\\t<tr class=\"strong\">\\n\\t\\t\\t\\t\\t\\t\\t\\t<th scope=\"row\"><strong>외국인소진율(B/A)</strong><a href=\"javascript:togglePannel(\\'helpPannel0\\');\" onMouseOver=\"showPannel(\\'helpPannel0\\');\" onMouseOut=\"hidePannel(\\'helpPannel0\\');\"><img src=\"https://ssl.pstatic.net/static/nfinance/2018/10/26/btn_help.png\" width=\"11\" height=\"11\" alt=\"외국인소진율(B/A) 상세설명\"></a>\\n\\t\\t\\t\\t\\t\\t\\t\\t\\t<div class=\"lyr_section\">\\n\\t\\t                                 <div id=\"helpPannel0\" class=\"tooltip_lyr\" style=\"display:none\">\\n\\t\\t                                     <p>외국인(한도)소진율이란 외국인보유주식수를 외국인한도주식수으로 나눈 값입니다.</p>\\n\\t\\t                                     <p>일반적인 경우에는 외국인한도주식수와 상장주식수가 같아서 외국인 소진율과 보유율이 동일하지만, 국가 기간산업의 경우 한도주식수가 정해져 있어 두 비율이 달라질 수 있습니다.(Ex. 한국전력)</p>\\n\\t\\t                                     <span class=\"arrow\"></span>\\n\\t\\t                                 </div>\\n\\t\\t                            </div>\\n\\t\\t\\t\\t\\t\\t\\t\\t</th>\\n\\t\\t\\t\\t\\t\\t\\t\\t<td><em>25.93%</em></td>\\n\\t\\t\\t\\t\\t\\t\\t</tr>\\n\\t\\t\\t\\t\\t\\t\\t</table>\\n\\t\\t\\t\\t\\t\\t\\t</div>\\n\\t\\t\\t\\t\\t\\t\\n\\n\\t\\t\\t\\t\\t\\t<div>\\n\\t\\t\\t\\t\\t\\t<table summary=\"투자의견 정보\" class=\"rwidth\">\\n\\t\\t\\t\\t\\t\\t\\n\\t\\t\\t\\t\\t\\t\\t<caption>투자의견</caption>\\n\\t\\t\\t\\t\\t\\t\\t<tr><th scope=\"row\" style=\"width:115px\">투자의견<span class=\"bar\">l</span>목표주가</th>\\n\\t\\t\\t\\t\\t\\t\\t<td style=\"width:115px\">\\n\\t\\t\\t\\t\\t\\t\\t\\n\\t\\t\\t\\t\\t\\t\\t\\t\\n\\t\\t\\t\\t\\t\\t\\t\\t\\n\\t\\t\\t\\t\\t\\t\\t\\t\\t<span class=\"f_up\"><em>4.00</em>매수</span>\\n\\t\\t\\t\\t\\t\\t\\t\\t\\n\\t\\t\\t\\t\\t\\t\\t\\t\\n\\t\\t\\t\\t\\t\\t\\t\\t\\n\\t\\t\\t\\t\\t\\t\\t\\t\\n\\t\\t\\t\\t\\t\\t\\t\\n\\t\\t\\t\\t\\t\\t\\t<span class=\"bar\">l</span>\\n\\t\\t\\t\\t\\t\\t\\t\\n\\t\\t\\t\\t\\t\\t\\t\\t\\n\\t\\t\\t\\t\\t\\t\\t\\t<em>141,389</em>\\n\\t\\t\\t\\t\\t\\t\\t\\n\\t\\t\\t\\t\\t\\t\\t</td></tr>\\n\\t\\t\\t\\t\\t\\t\\n\\t\\t\\t\\t\\t\\t<tr>\\n\\t\\t\\t\\t\\t\\t\\t<th scope=\"row\">52주최고<span class=\"bar\">l</span>최저\\n\\t\\t\\t\\t\\t\\t\\t\\t\\n\\t\\t\\t\\t\\t\\t\\t</th>\\n\\t\\t\\t\\t\\t\\t\\t\\n\\t\\t\\t\\t\\t\\t\\t\\t\\n\\t\\t\\t\\t\\t\\t\\t\\t\\n\\t\\t\\t\\t\\t\\t\\t\\t\\t<td>\\n\\t\\t\\t\\t\\t\\t\\t\\t\\t\\t<em>150,500</em>\\n\\t\\t\\t\\t\\t\\t\\t\\t\\t\\t<span class=\"bar\">l</span>\\n\\t\\t\\t\\t\\t\\t\\t\\t\\t\\t<em>85,600</em>\\n\\t\\t\\t\\t\\t\\t\\t\\t\\t</td>\\n\\t\\t\\t\\t\\t\\t\\t\\t\\n\\t\\t\\t\\t\\t\\t\\t\\n\\t\\t\\t\\t\\t\\t</tr>\\n\\t\\t\\t\\t\\t\\t</table>\\n\\t\\t\\t\\t\\t\\t</div>\\n\\n\\t\\t\\t\\t\\t\\t\\n\\t\\t\\t\\t\\t\\t\\t<div>\\n\\t\\t\\t\\t\\t\\t\\t<table summary=\"PER/EPS 정보\" class=\"per_table\">\\n\\t\\t\\t\\t\\t\\t\\t<caption>PER/EPS</caption>\\n\\t\\t                    <tbody>\\n\\t\\t                    <tr>\\n\\t \\t\\t\\t\\t\\t\\t\\t<th scope=\"row\">\\n\\t \\t\\t\\t\\t\\t\\t\\t\\tPER<span class=\"bar\">l</span>EPS<span class=\"date\">(2022.06)</span><a href=\"javascript:togglePannel(\\'helpPannel1\\');\" onMouseOver=\"showPannel(\\'helpPannel1\\');\" onMouseOut=\"hidePannel(\\'helpPannel1\\');\"><img src=\"https://ssl.pstatic.net/static/nfinance/2018/10/26/btn_help.png\" width=\"11\" height=\"11\" alt=\"추정PER EPS 상세설명\"></a>\\n\\t \\t\\t\\t\\t\\t\\t\\t\\t<div class=\"lyr_section\">\\n\\t \\t\\t\\t\\t\\t\\t\\t\\t\\t<div id=\"helpPannel1\" class=\"tooltip_lyr\" style=\"display:none\">\\n\\t \\t\\t\\t\\t\\t\\t\\t\\t\\t\\t<p>\\n\\t \\t\\t\\t\\t\\t\\t\\t\\t\\t\\t\\t<strong>PER = 현재가 ÷ EPS</strong>\\n\\t\\t\\t\\t\\t\\t\\t\\t\\t\\t\\t\\tEPS는 지배기업귀속 최근 4분기 합산 순이익을\\n\\t\\t\\t\\t\\t\\t\\t\\t\\t\\t\\t\\t수정평균발행주식수로 나눈 값이며, 보통주와\\n\\t\\t\\t\\t\\t\\t\\t\\t\\t\\t\\t\\t우선주를 합산해서 계산합니다.\\n\\t\\t\\t\\t\\t\\t\\t\\t\\t\\t\\t</p>\\n\\t\\t\\t\\t\\t\\t\\t\\t\\t\\t\\t<span class=\"arrow\"></span>\\n\\t \\t\\t\\t\\t\\t\\t\\t\\t\\t</div>\\n\\t \\t\\t\\t\\t\\t\\t\\t\\t</div>\\n\\t \\t\\t\\t\\t\\t\\t\\t</th>\\n\\t\\t\\t\\t\\t\\t\\t\\t<td>\\n\\t\\t\\t\\t\\t\\t\\t\\t\\t\\n\\t\\t\\t\\t\\t\\t\\t\\t\\t\\n\\t\\t\\t\\t\\t\\t\\t\\t\\t\\t\\n\\t\\t\\t\\t\\t\\t\\t\\t\\t\\t<em id=\"_per\">9.60</em>배\\n\\t\\t\\t\\t\\t\\t\\t\\t\\t\\n\\t\\t\\t\\t\\t\\t\\t\\t\\t<span class=\"bar\">l</span>\\n\\t\\t\\t\\t\\t\\t\\t\\t\\t\\n\\t\\t\\t\\t\\t\\t\\t\\t\\t\\t\\n\\t\\t\\t\\t\\t\\t\\t\\t\\t\\t<em id=\"_eps\">10,193</em>원\\n\\t\\t\\t\\t\\t\\t\\t\\t\\t\\n\\t \\t\\t\\t\\t\\t\\t\\t</td>\\n \\t\\t\\t\\t\\t\\t    </tr>\\n\\t\\t                    </tbody>\\n\\t\\t                    <tr>\\n\\t\\t                        <th scope=\"row\">추정PER<span class=\"bar\">l</span>EPS<a href=\"javascript:togglePannel(\\'helpPannel3\\');\" onMouseOver=\"showPannel(\\'helpPannel3\\');\" onMouseOut=\"hidePannel(\\'helpPannel3\\');\"><img src=\"https://ssl.pstatic.net/static/nfinance/2018/10/26/btn_help.png\" width=\"11\" height=\"11\" alt=\"추정PER EPS 상세설명\"></a>\\n \\t\\t\\t\\t\\t\\t\\t\\t<div class=\"lyr_section\">\\n\\t\\t\\t\\t\\t\\t\\t\\t\\t\\t<div id=\"helpPannel3\" class=\"tooltip_lyr tooltip_lyr2\" style=\"display:none\">\\n\\t\\t\\t\\t\\t\\t\\t\\t\\t\\t\\t<p>\\n\\t\\t\\t\\t\\t\\t\\t\\t\\t\\t\\t\\t<strong>추정PER = 현재가÷추정EPS</strong>\\n\\t\\t\\t\\t\\t\\t\\t\\t\\t\\t\\t\\t추정EPS는 올해 예상EPS에 대한 증권사 추정 평균값(컨센서스)으로 에프앤가이드에서 제공합니다. 추정 증권사가 3개 이상인 경우에만 제공합니다.\\n\\t\\t\\t\\t\\t\\t\\t\\t\\t\\t\\t</p>\\n\\t\\t\\t\\t\\t\\t\\t\\t\\t\\t\\t<span class=\"arrow\"></span>\\n\\t\\t\\t\\t\\t\\t\\t\\t\\t\\t</div>\\n\\t\\t\\t\\t\\t\\t\\t\\t\\t</div>\\n\\t\\t\\t\\t\\t\\t\\t\\t</th>\\n\\t\\t\\t\\t\\t\\t\\t\\t<td>\\n\\t\\t\\t\\t\\t\\t\\t\\t\\t\\n\\t\\t\\t\\t\\t\\t\\t\\t\\t\\t\\n\\t\\t\\t\\t\\t\\t\\t\\t\\t\\t<em id=\"_cns_per\">8.00</em>배\\n\\t\\t\\t\\t\\t\\t\\t\\t\\t\\n\\t\\t\\t\\t\\t\\t\\t\\t\\t<span class=\"bar\">l</span>\\n\\t\\t\\t\\t\\t\\t\\t\\t\\t\\n\\t\\t\\t\\t\\t\\t\\t\\t\\t\\t\\n\\t\\t\\t\\t\\t\\t\\t\\t\\t\\t<em id=\"_cns_eps\">12,788</em>원\\n\\t\\t\\t\\t\\t\\t\\t\\t\\t\\n\\t\\t\\t\\t\\t\\t\\t\\t</td>\\n\\t\\t\\t\\t\\t\\t\\t</tr>\\n\\t\\t\\t\\t\\t\\t\\t<tr>\\n\\t\\t\\t\\t\\t\\t\\t\\t<th scope=\"row\">PBR<span class=\"bar\">l</span>BPS <span class=\"date\">(2022.06)</span><a href=\"javascript:togglePannel(\\'helpPannel4\\');\" onMouseOver=\"showPannel(\\'helpPannel4\\');\" onMouseOut=\"hidePannel(\\'helpPannel4\\');\"><img src=\"https://ssl.pstatic.net/static/nfinance/2018/10/26/btn_help.png\" width=\"11\" height=\"11\" alt=\"PBR | BPS 상세설명\"></a>\\n\\t\\t\\t\\t\\t\\t\\t\\t\\t<div class=\"lyr_section\">\\n\\t\\t\\t\\t\\t\\t\\t\\t\\t\\t<div id=\"helpPannel4\" class=\"tooltip_lyr tooltip_lyr3\" style=\"display:none\">\\n\\t\\t\\t\\t\\t\\t\\t\\t\\t\\t\\t<p>\\n\\t\\t\\t\\t\\t\\t\\t\\t\\t\\t\\t\\t<strong>PBR= 현재가 ÷ BPS</strong>\\n\\t\\t\\t\\t\\t\\t\\t\\t\\t\\t\\t\\tBPS는 최근 분기 자본총계를 수정기말유통주식수로\\n\\t\\t\\t\\t\\t\\t\\t\\t\\t\\t\\t\\t나눈 값이며, 보통주와 우선주를 합산해서 계산합니다.\\n\\t\\t\\t\\t\\t\\t\\t\\t\\t\\t\\t</p>\\n\\t\\t\\t\\t\\t\\t\\t\\t\\t\\t\\t<span class=\"arrow\"></span>\\n\\t\\t\\t\\t\\t\\t\\t\\t\\t\\t</div>\\n\\t\\t\\t\\t\\t\\t\\t\\t\\t</div>\\n\\t\\t\\t\\t\\t\\t\\t\\t</th>\\n\\t\\t\\t\\t\\t\\t\\t\\t<td>\\n\\t\\t\\t\\t\\t\\t\\t\\t\\t\\n\\t\\t\\t\\t\\t\\t\\t\\t\\t\\t\\n\\t\\t\\t\\t\\t\\t\\t\\t\\t\\t<em id=\"_pbr\">0.88</em>배\\n\\t\\t\\t\\t\\t\\t\\t\\t\\t\\n\\t\\t\\t\\t\\t\\t\\t\\t\\t<span class=\"bar\">l</span>\\n\\t\\t\\t\\t\\t\\t\\t\\t\\t\\n\\t\\t\\t\\t\\t\\t\\t\\t\\t\\t\\n\\t\\t\\t\\t\\t\\t\\t\\t\\t\\t<em>111,284</em>원\\n\\t\\t\\t\\t\\t\\t\\t\\t\\t\\n\\t\\t\\t\\t\\t\\t\\t\\t</td>\\n\\t\\t\\t\\t\\t\\t\\t</tr>\\n\\t\\t\\t\\t\\t\\t\\t<tr>\\n\\t\\t\\t\\t\\t\\t\\t\\t\\n\\t\\t\\t\\t\\t\\t\\t\\t\\n\\t\\t\\t\\t\\t\\t\\t\\t\\n\\t\\t\\t\\t\\t\\t\\t\\t\\n\\t\\t\\t\\t\\t\\t\\t\\t<th scope=\"row\">배당수익률<span class=\"bar\">l</span><span>2021.12</span><a href=\"javascript:togglePannel(\\'helpPannel5\\');\" onMouseOver=\"showPannel(\\'helpPannel5\\');\" onMouseOut=\"hidePannel(\\'helpPannel5\\');\"><img src=\"https://ssl.pstatic.net/static/nfinance/2018/10/26/btn_help.png\" width=\"11\" height=\"11\" alt=\"배당수익률 상세설명\"></a>\\n\\t\\t\\t\\t\\t\\t\\t\\t\\t<div class=\"lyr_section\">\\n\\t\\t\\t\\t\\t\\t\\t\\t\\t\\t<div id=\"helpPannel5\" class=\"tooltip_lyr dividend_layer\"  style=\"display:none\">\\n\\t\\t\\t\\t\\t\\t\\t\\t\\t\\t\\t<strong>배당수익률 = (배당금 / 현재가) x 100</strong>\\n\\t\\t\\t\\t\\t\\t\\t\\t\\t\\t\\t<p>배당금은 최근 결산연도 기준의 중간배당을 포함한 총 배당금입니다.</p>\\n\\t\\t\\t\\t\\t\\t\\t\\t\\t\\t\\t<span class=\"arrow\"></span>\\n\\t\\t\\t\\t\\t\\t\\t\\t\\t\\t</div>\\n\\t\\t\\t\\t\\t\\t\\t\\t\\t</div>\\n\\t\\t\\t\\t\\t\\t\\t\\t</th>\\n\\t\\t\\t\\t\\t\\t\\t\\t<td>\\n\\t\\t\\t\\t\\t\\t\\t\\t\\t\\n\\t\\t\\t\\t\\t\\t\\t\\t\\t\\t\\n\\t\\t\\t\\t\\t\\t\\t\\t\\t\\t<em id=\"_dvr\">0.87</em>%\\n\\t\\t\\t\\t\\t\\t\\t\\t\\t\\n\\t\\t\\t\\t\\t\\t\\t\\t</td>\\n\\t\\t\\t\\t\\t\\t\\t</tr>\\n\\t\\t\\t\\t\\t\\t\\t</table>\\n\\t\\t\\t\\t\\t\\t\\t</div>\\n\\t\\t\\t\\t\\t\\t\\t<div class=\"gray\">\\n\\t\\t\\t\\t\\t\\t\\t<table summary=\"동일업종 PER 정보\">\\n\\t\\t\\t\\t\\t\\t\\t<caption>동일업종 PER</caption>\\n\\t\\t\\t\\t\\t\\t\\t<tr class=\"strong\">\\n\\t\\t\\t\\t\\t\\t\\t\\t<th scope=\"row\"><a class=\"link_site\" href=\"/sise/sise_group_detail.naver?type=upjong&no=307\" class=\"link_site\" onClick=\"clickcr(this, \\'sop.19\\', \\'\\', \\'2\\', event)\">동일업종 PER</a></th>\\n\\t\\t\\t\\t\\t\\t\\t\\t<td>\\n\\t\\t\\t\\t\\t\\t\\t\\t\\t\\n\\t\\t\\t\\t\\t\\t\\t\\t\\t\\t\\n\\t\\t\\t\\t\\t\\t\\t\\t\\t\\t<em>9.17</em>배\\n\\t\\t\\t\\t\\t\\t\\t\\t\\t\\n\\t\\t\\t\\t\\t\\t\\t\\t</td>\\n\\t\\t\\t\\t\\t\\t\\t</tr>\\n\\t\\t\\t\\t\\t\\t\\t<tr>\\n\\t\\t\\t\\t\\t\\t\\t\\t<th scope=\"row\"><a class=\"link_site\" href=\"/sise/sise_group_detail.naver?type=upjong&no=307\" class=\"link_site\" onClick=\"clickcr(this, \\'sop.19\\', \\'\\', \\'3\\', event)\">동일업종 등락률</a></th>\\n\\t\\t\\t\\t\\t\\t\\t\\t\\n\\t\\t\\t\\t\\t\\t\\t\\t\\t\\n\\t\\t\\t\\t\\t\\t\\t\\t\\t\\n\\t\\t\\t\\t<td class=\"f_up\"><em>\\n\\t\\t\\t\\t+4.07%\\n\\t\\t\\t\\t</em></td>\\n\\t\\t\\t\\n\\t\\t\\t\\t\\t\\t\\t\\t\\n\\t\\t\\t\\t\\t\\t\\t</tr>\\n\\t\\t\\t\\t\\t\\t\\t</table>\\n\\t\\t\\t\\t\\t\\t\\t</div>\\n\\t\\t\\t\\t\\t\\t\\n\\t\\t\\t\\t\\t\\n\\t\\t\\t\\t\\n\\t\\t\\t\\n\\t\\t\\n\\t\\t</div>\\n\\n\\t\\t\\n\\t\\t<div id=\"tab_con2\" class=\"tab_con2\" style=\"display:none\">\\n\\t\\t\\t<h3 class=\"blind\">호가 10단계</h3>\\n\\t\\t\\t<table summary=\"호가10단계 정보\">\\n\\t\\t\\t<caption>호가 10단계</caption>\\n\\t\\t\\t<tr>\\n\\t\\t\\t\\t<th scope=\"col\">매도잔량</th>\\n\\t\\t\\t\\t<th scope=\"col\">호가<span class=\"txt_color\">(20분지연)</span></th>\\n\\t\\t\\t\\t<th scope=\"col\" class=\"th_r\">매수잔량</th>\\n\\t\\t\\t</tr>\\n\\t\\t\\t<tr><td colspan=\"3\" class=\"space\"></td></tr>\\n\\t\\t\\t\\n\\t\\t\\t\\t<tr class=\"f_down\">\\n\\t\\t\\t\\t<td>\\n\\t\\t\\t\\t\\n\\t\\t\\t\\t\\t\\n\\t\\t\\t\\t\\t1,753\\n\\t\\t\\t\\t\\n\\t\\t\\t\\t</td>\\n\\t\\t\\t\\t<td>\\n\\t\\t\\t\\t\\n\\t\\t\\t\\t\\t\\n\\t\\t\\t\\t\\t98,900\\n\\t\\t\\t\\t\\n\\t\\t\\t\\t</td>\\n\\t\\t\\t\\t<td class=\"td_r\"></td>\\n\\t\\t\\t\\t</tr>\\n\\t\\t\\t\\n\\t\\t\\t\\t<tr class=\"f_down\">\\n\\t\\t\\t\\t<td>\\n\\t\\t\\t\\t\\n\\t\\t\\t\\t\\t\\n\\t\\t\\t\\t\\t3,433\\n\\t\\t\\t\\t\\n\\t\\t\\t\\t</td>\\n\\t\\t\\t\\t<td>\\n\\t\\t\\t\\t\\n\\t\\t\\t\\t\\t\\n\\t\\t\\t\\t\\t98,800\\n\\t\\t\\t\\t\\n\\t\\t\\t\\t</td>\\n\\t\\t\\t\\t<td class=\"td_r\"></td>\\n\\t\\t\\t\\t</tr>\\n\\t\\t\\t\\n\\t\\t\\t\\t<tr class=\"f_down\">\\n\\t\\t\\t\\t<td>\\n\\t\\t\\t\\t\\n\\t\\t\\t\\t\\t\\n\\t\\t\\t\\t\\t4,298\\n\\t\\t\\t\\t\\n\\t\\t\\t\\t</td>\\n\\t\\t\\t\\t<td>\\n\\t\\t\\t\\t\\n\\t\\t\\t\\t\\t\\n\\t\\t\\t\\t\\t98,700\\n\\t\\t\\t\\t\\n\\t\\t\\t\\t</td>\\n\\t\\t\\t\\t<td class=\"td_r\"></td>\\n\\t\\t\\t\\t</tr>\\n\\t\\t\\t\\n\\t\\t\\t\\t<tr class=\"f_down\">\\n\\t\\t\\t\\t<td>\\n\\t\\t\\t\\t\\n\\t\\t\\t\\t\\t\\n\\t\\t\\t\\t\\t3,545\\n\\t\\t\\t\\t\\n\\t\\t\\t\\t</td>\\n\\t\\t\\t\\t<td>\\n\\t\\t\\t\\t\\n\\t\\t\\t\\t\\t\\n\\t\\t\\t\\t\\t98,600\\n\\t\\t\\t\\t\\n\\t\\t\\t\\t</td>\\n\\t\\t\\t\\t<td class=\"td_r\"></td>\\n\\t\\t\\t\\t</tr>\\n\\t\\t\\t\\n\\t\\t\\t\\t<tr class=\"f_down\">\\n\\t\\t\\t\\t<td>\\n\\t\\t\\t\\t\\n\\t\\t\\t\\t\\t\\n\\t\\t\\t\\t\\t9,068\\n\\t\\t\\t\\t\\n\\t\\t\\t\\t</td>\\n\\t\\t\\t\\t<td>\\n\\t\\t\\t\\t\\n\\t\\t\\t\\t\\t\\n\\t\\t\\t\\t\\t98,500\\n\\t\\t\\t\\t\\n\\t\\t\\t\\t</td>\\n\\t\\t\\t\\t<td class=\"td_r\"></td>\\n\\t\\t\\t\\t</tr>\\n\\t\\t\\t\\n\\t\\t\\t\\t<tr class=\"f_down\">\\n\\t\\t\\t\\t<td>\\n\\t\\t\\t\\t\\n\\t\\t\\t\\t\\t\\n\\t\\t\\t\\t\\t5,006\\n\\t\\t\\t\\t\\n\\t\\t\\t\\t</td>\\n\\t\\t\\t\\t<td>\\n\\t\\t\\t\\t\\n\\t\\t\\t\\t\\t\\n\\t\\t\\t\\t\\t98,400\\n\\t\\t\\t\\t\\n\\t\\t\\t\\t</td>\\n\\t\\t\\t\\t<td class=\"td_r\"></td>\\n\\t\\t\\t\\t</tr>\\n\\t\\t\\t\\n\\t\\t\\t\\t<tr class=\"f_down\">\\n\\t\\t\\t\\t<td>\\n\\t\\t\\t\\t\\n\\t\\t\\t\\t\\t\\n\\t\\t\\t\\t\\t4,778\\n\\t\\t\\t\\t\\n\\t\\t\\t\\t</td>\\n\\t\\t\\t\\t<td>\\n\\t\\t\\t\\t\\n\\t\\t\\t\\t\\t\\n\\t\\t\\t\\t\\t98,300\\n\\t\\t\\t\\t\\n\\t\\t\\t\\t</td>\\n\\t\\t\\t\\t<td class=\"td_r\"></td>\\n\\t\\t\\t\\t</tr>\\n\\t\\t\\t\\n\\t\\t\\t\\t<tr class=\"f_down\">\\n\\t\\t\\t\\t<td>\\n\\t\\t\\t\\t\\n\\t\\t\\t\\t\\t\\n\\t\\t\\t\\t\\t8,078\\n\\t\\t\\t\\t\\n\\t\\t\\t\\t</td>\\n\\t\\t\\t\\t<td>\\n\\t\\t\\t\\t\\n\\t\\t\\t\\t\\t\\n\\t\\t\\t\\t\\t98,200\\n\\t\\t\\t\\t\\n\\t\\t\\t\\t</td>\\n\\t\\t\\t\\t<td class=\"td_r\"></td>\\n\\t\\t\\t\\t</tr>\\n\\t\\t\\t\\n\\t\\t\\t\\t<tr class=\"f_down\">\\n\\t\\t\\t\\t<td>\\n\\t\\t\\t\\t\\n\\t\\t\\t\\t\\t\\n\\t\\t\\t\\t\\t5,018\\n\\t\\t\\t\\t\\n\\t\\t\\t\\t</td>\\n\\t\\t\\t\\t<td>\\n\\t\\t\\t\\t\\n\\t\\t\\t\\t\\t\\n\\t\\t\\t\\t\\t98,100\\n\\t\\t\\t\\t\\n\\t\\t\\t\\t</td>\\n\\t\\t\\t\\t<td class=\"td_r\"></td>\\n\\t\\t\\t\\t</tr>\\n\\t\\t\\t\\n\\t\\t\\t<tr class=\"f_down strong\">\\n\\t\\t\\t\\t<td>\\n\\t\\t\\t\\t\\n\\t\\t\\t\\t\\t\\n\\t\\t\\t\\t\\t22,259\\n\\t\\t\\t\\t\\n\\t\\t\\t\\t</td>\\n\\t\\t\\t\\t<td>\\n\\t\\t\\t\\t\\n\\t\\t\\t\\t\\t\\n\\t\\t\\t\\t\\t98,000\\n\\t\\t\\t\\t\\n\\t\\t\\t\\t</td>\\n\\t\\t\\t\\t<td class=\"td_r\"></td>\\n\\t\\t\\t</tr>\\n\\t\\t\\t<tr><td colspan=\"3\" class=\"line_dot\"></td></tr>\\n\\t\\t\\t<tr class=\"f_up strong\">\\n\\t\\t\\t\\t<td></td>\\n\\t\\t\\t\\t<td>\\n\\t\\t\\t\\t\\n\\t\\t\\t\\t\\t\\n\\t\\t\\t\\t\\t97,900\\n\\t\\t\\t\\t\\n\\t\\t\\t\\t</td>\\n\\t\\t\\t\\t<td class=\"td_r\">\\n\\t\\t\\t\\t\\n\\t\\t\\t\\t\\t\\n\\t\\t\\t\\t\\t994\\n\\t\\t\\t\\t\\n\\t\\t\\t\\t</td>\\n\\t\\t\\t</tr>\\n\\t\\t\\t\\n\\t\\t\\t\\t<tr class=\"f_up\">\\n\\t\\t\\t\\t<td></td>\\n\\t\\t\\t\\t<td>\\n\\t\\t\\t\\t\\n\\t\\t\\t\\t\\t\\n\\t\\t\\t\\t\\t97,800\\n\\t\\t\\t\\t\\n\\t\\t\\t\\t</td>\\n\\t\\t\\t\\t<td class=\"td_r\">\\n\\t\\t\\t\\t\\n\\t\\t\\t\\t\\t\\n\\t\\t\\t\\t\\t1,965\\n\\t\\t\\t\\t\\n\\t\\t\\t\\t</td>\\n\\t\\t\\t\\t</tr>\\n\\t\\t\\t\\n\\t\\t\\t\\t<tr class=\"f_up\">\\n\\t\\t\\t\\t<td></td>\\n\\t\\t\\t\\t<td>\\n\\t\\t\\t\\t\\n\\t\\t\\t\\t\\t\\n\\t\\t\\t\\t\\t97,700\\n\\t\\t\\t\\t\\n\\t\\t\\t\\t</td>\\n\\t\\t\\t\\t<td class=\"td_r\">\\n\\t\\t\\t\\t\\n\\t\\t\\t\\t\\t\\n\\t\\t\\t\\t\\t836\\n\\t\\t\\t\\t\\n\\t\\t\\t\\t</td>\\n\\t\\t\\t\\t</tr>\\n\\t\\t\\t\\n\\t\\t\\t\\t<tr class=\"f_up\">\\n\\t\\t\\t\\t<td></td>\\n\\t\\t\\t\\t<td>\\n\\t\\t\\t\\t\\n\\t\\t\\t\\t\\t\\n\\t\\t\\t\\t\\t97,600\\n\\t\\t\\t\\t\\n\\t\\t\\t\\t</td>\\n\\t\\t\\t\\t<td class=\"td_r\">\\n\\t\\t\\t\\t\\n\\t\\t\\t\\t\\t\\n\\t\\t\\t\\t\\t2,881\\n\\t\\t\\t\\t\\n\\t\\t\\t\\t</td>\\n\\t\\t\\t\\t</tr>\\n\\t\\t\\t\\n\\t\\t\\t\\t<tr class=\"f_up\">\\n\\t\\t\\t\\t<td></td>\\n\\t\\t\\t\\t<td>\\n\\t\\t\\t\\t\\n\\t\\t\\t\\t\\t\\n\\t\\t\\t\\t\\t97,500\\n\\t\\t\\t\\t\\n\\t\\t\\t\\t</td>\\n\\t\\t\\t\\t<td class=\"td_r\">\\n\\t\\t\\t\\t\\n\\t\\t\\t\\t\\t\\n\\t\\t\\t\\t\\t2,715\\n\\t\\t\\t\\t\\n\\t\\t\\t\\t</td>\\n\\t\\t\\t\\t</tr>\\n\\t\\t\\t\\n\\t\\t\\t\\t<tr class=\"f_up\">\\n\\t\\t\\t\\t<td></td>\\n\\t\\t\\t\\t<td>\\n\\t\\t\\t\\t\\n\\t\\t\\t\\t\\t\\n\\t\\t\\t\\t\\t97,400\\n\\t\\t\\t\\t\\n\\t\\t\\t\\t</td>\\n\\t\\t\\t\\t<td class=\"td_r\">\\n\\t\\t\\t\\t\\n\\t\\t\\t\\t\\t\\n\\t\\t\\t\\t\\t2,584\\n\\t\\t\\t\\t\\n\\t\\t\\t\\t</td>\\n\\t\\t\\t\\t</tr>\\n\\t\\t\\t\\n\\t\\t\\t\\t<tr class=\"f_up\">\\n\\t\\t\\t\\t<td></td>\\n\\t\\t\\t\\t<td>\\n\\t\\t\\t\\t\\n\\t\\t\\t\\t\\t\\n\\t\\t\\t\\t\\t97,300\\n\\t\\t\\t\\t\\n\\t\\t\\t\\t</td>\\n\\t\\t\\t\\t<td class=\"td_r\">\\n\\t\\t\\t\\t\\n\\t\\t\\t\\t\\t\\n\\t\\t\\t\\t\\t3,342\\n\\t\\t\\t\\t\\n\\t\\t\\t\\t</td>\\n\\t\\t\\t\\t</tr>\\n\\t\\t\\t\\n\\t\\t\\t\\t<tr class=\"f_up\">\\n\\t\\t\\t\\t<td></td>\\n\\t\\t\\t\\t<td>\\n\\t\\t\\t\\t\\n\\t\\t\\t\\t\\t\\n\\t\\t\\t\\t\\t97,200\\n\\t\\t\\t\\t\\n\\t\\t\\t\\t</td>\\n\\t\\t\\t\\t<td class=\"td_r\">\\n\\t\\t\\t\\t\\n\\t\\t\\t\\t\\t\\n\\t\\t\\t\\t\\t2,081\\n\\t\\t\\t\\t\\n\\t\\t\\t\\t</td>\\n\\t\\t\\t\\t</tr>\\n\\t\\t\\t\\n\\t\\t\\t\\t<tr class=\"f_up\">\\n\\t\\t\\t\\t<td></td>\\n\\t\\t\\t\\t<td>\\n\\t\\t\\t\\t\\n\\t\\t\\t\\t\\t\\n\\t\\t\\t\\t\\t97,100\\n\\t\\t\\t\\t\\n\\t\\t\\t\\t</td>\\n\\t\\t\\t\\t<td class=\"td_r\">\\n\\t\\t\\t\\t\\n\\t\\t\\t\\t\\t\\n\\t\\t\\t\\t\\t1,970\\n\\t\\t\\t\\t\\n\\t\\t\\t\\t</td>\\n\\t\\t\\t\\t</tr>\\n\\t\\t\\t\\n\\t\\t\\t\\t<tr class=\"f_up\">\\n\\t\\t\\t\\t<td></td>\\n\\t\\t\\t\\t<td>\\n\\t\\t\\t\\t\\n\\t\\t\\t\\t\\t\\n\\t\\t\\t\\t\\t97,000\\n\\t\\t\\t\\t\\n\\t\\t\\t\\t</td>\\n\\t\\t\\t\\t<td class=\"td_r\">\\n\\t\\t\\t\\t\\n\\t\\t\\t\\t\\t\\n\\t\\t\\t\\t\\t4,609\\n\\t\\t\\t\\t\\n\\t\\t\\t\\t</td>\\n\\t\\t\\t\\t</tr>\\n\\t\\t\\t\\n\\t\\t\\t<tr><td colspan=\"3\" class=\"space\"></td></tr>\\n\\t\\t\\t<tr class=\"total\">\\n\\t\\t\\t\\t<td class=\"f_down\">\\n\\t\\t\\t\\t\\t\\n\\t\\t\\t\\t\\t\\t\\n\\t\\t\\t\\t\\t\\t67,236\\n\\t\\t\\t\\t\\t\\n\\t\\t\\t\\t</td>\\n\\t\\t\\t\\t<td>잔량합계</td>\\n\\t\\t\\t\\t<td class=\"f_up\">\\n\\t\\t\\t\\t\\t\\n\\t\\t\\t\\t\\t\\t\\n\\t\\t\\t\\t\\t\\t23,977\\n\\t\\t\\t\\t\\t\\n\\t\\t\\t\\t</td>\\n\\t\\t\\t</tr>\\n\\t\\t\\t</table>\\n\\t\\t</div>\\n\\t</div>\\n\\n\\n\\n\\n\\t\\n<script language=javascript src=\"https://ssl.pstatic.net/imgstock/static.pc/20220907184351/js/item_main_right_area.js\"></script>\\n\\n\\t\\t\\n\\t\\t<div class=\"aside_section cop_list\">\\n\\t\\t\\t\\n\\t\\t\\t\\t\\n\\t\\t\\t\\t\\t<div id=\"tab_search\" class=\"tab tab_search1\">\\n\\t\\t\\t\\t\\n\\t\\t\\t\\t\\n\\t\\t\\t\\n\\t\\t\\t<a href=\"javascript:showRecent(\\'tab_search\\', \\'tab tab_search1\\', \\'066570\\', \\'recent\\')\" onClick=\"jindo.$Cookie().set(\\'summary_item_type\\', \\'recent\\', 30, \\'finance.naver.com\\'); clickcr(this, \\'rch.1\\', \\'\\', \\'\\', event);\"><span>최근조회</span></a>\\n\\t\\t\\t<a href=\"javascript:showRecent(\\'tab_search\\', \\'tab tab_search2\\', \\'066570\\', \\'mystock\\')\" onClick=\"jindo.$Cookie().set(\\'summary_item_type\\', \\'mystock\\', 30, \\'finance.naver.com\\'); clickcr(this, \\'rch.3\\', \\'\\', \\'\\', event);\"><span>MY STOCK</span></a>\\n\\t\\t\\t<!-- [D] 활성화된 탭메뉴에 따라 blind text 변경해주세요 -->\\n\\t\\t\\t<h2 class=\"blind\" id=\"blind_text_tab_search\">최근조회</h2>\\n\\t\\t</div>\\n\\n\\t\\t\\n\\t\\t<script type=\"text/template\" id=\"recent_list_none\">\\n\\t\\t\\t<div class=\"no_result\">\\n\\t\\t\\t\\t<img src=\"https://ssl.pstatic.net/static/nfinance/img/no_result_aside1_v2.gif\" width=\"144\" height=\"13\" border=\"0\" alt=\"최근 조회된 종목이 없습니다.\" class=\"noresult_txt1\">\\n\\t\\t\\t</div>\\n\\t\\t</script>\\n\\t\\t<script type=\"text/template\" id=\"mystock_logout\">\\n\\t\\t\\t<div class=\"no_result\">\\n\\t\\t\\t\\t<map name=\"no_result_aside2\">\\n\\t\\t\\t\\t<area shape=\"rect\" coords=\"6,38,107,52\" href=\"javascript:naver_login()\" alt=\"My stock 로그인\">\\n\\t\\t\\t\\t</map>\\n\\t\\t\\t\\t<img src=\"https://ssl.pstatic.net/imgstock/item_renewal/no_result_aside2.gif\" width=\"116\" height=\"53\" border=\"0\" usemap=\"#no_result_aside2\" title=\"\" alt=\"로그인하시면 등록하신 종목의 시세가 제공됩니다.\" class=\"noresult_txt2\">\\n\\t\\t\\t</div>\\n\\t\\t</script>\\n\\t\\t<script type=\"text/template\" id=\"mystock_list_none\">\\n\\t\\t\\t<div class=\"no_result\">\\n\\t\\t\\t\\t<map name=\"no_result_aside3\">\\n\\t\\t\\t\\t<area shape=\"rect\" coords=\"11,38,125,52\" href=\"/mystock/\" alt=\"My stock 바로가기\">\\n\\t\\t\\t\\t</map>\\n\\t\\t\\t\\t<img src=\"https://ssl.pstatic.net/imgstock/item_renewal/no_result_aside3.gif\" width=\"137\" height=\"53\" border=\"0\" usemap=\"#no_result_aside3\" title=\"\" alt=\"MY STOCK에 관심종목을 등록하시면 시세가 제공됩니다.\" class=\"noresult_txt3\">\\n\\t\\t\\t</div>\\n\\t\\t</script>\\n\\t\\t<script type=\"text/template\" id=\"recent_list_exist\">\\n\\t\\t\\t{if type == \"recent\"}\\n\\t\\t\\t\\t{set listNclicksId=\"rch.2\"}\\n\\t\\t\\t\\t<table summary=\"최근조회 리스트\" class=\"con_search1\">\\n\\t\\t\\t\\t<caption>최근조회</caption>\\n\\t\\t\\t\\t\\t<colgroup><col><col width=\"50\"><col width=\"72\"></colgroup>\\n\\t\\t\\t{else}\\n\\t\\t\\t\\t{set listNclicksId=\"rch.4\"}\\n\\t\\t\\t\\t<table summary=\"MY STOCK 리스트\" class=\"con_search2\">\\n\\t\\t\\t\\t<caption>MY STOCK</caption>\\n\\t\\t\\t\\t\\t<colgroup><col><col width=\"60\"><col width=\"60\"></colgroup>\\n\\t\\t\\t{/if}\\n\\t\\t\\t\\t<thead>\\n\\t\\t\\t\\t<tr>\\n\\t\\t\\t\\t\\t<th>업체명</th>\\n\\t\\t\\t\\t\\t<th scope=\"col\">거래량</th>\\n\\t\\t\\t\\t\\t<th scope=\"col\">전일비</th>\\n\\t\\t\\t\\t</tr>\\n\\t\\t\\t\\t</thead>\\n\\t\\t\\t\\t{for index:itemList in item_list}\\n\\t\\t\\t\\t\\t{if index == 5 || index == 10}\\n\\t\\t\\t\\t\\t\\t<tr><td colspan=\"3\" class=\"line\"></td></tr>\\n\\t\\t\\t\\t\\t{/if}\\n\\t\\t\\t\\t\\t<tr>\\n\\t\\t\\t\\t\\t\\t<th scope=\"row\">\\n\\t\\t\\t\\t\\t\\t<a href=\"/item/main.naver?code={=itemList.itemcode}\" onClick=\"clickcr(this, \\'{=listNclicksId}\\', \\'{=itemList.itemcode}\\', \\'{=index + 1}\\', event);\" target=_top>{=itemList.itemname}</a>\\n\\t\\t\\t\\t\\t\\t</th>\\n\\t\\t\\t\\t\\t\\t<td id=\"nowVal_td_{=index}\">{=itemList.now_val}</td>\\n\\t\\t\\t\\t\\t\\t<td>\\n\\t\\t\\t\\t\\t\\t\\t{if itemList.risefall == \\'1\\'}\\n\\t\\t\\t\\t\\t\\t\\t\\t<em class=\"f_up up_arrow\" id=\"changeVal_em_{=index}\"><span id=\"changeVal_span_{=index}\">상한가</span>{=itemList.change_val}</em>\\n\\t\\t\\t\\t\\t\\t\\t{elseif itemList.risefall == \\'2\\'}\\n\\t\\t\\t\\t\\t\\t\\t\\t<em class=\"f_up up\" id=\"changeVal_em_{=index}\"><span id=\"changeVal_span_{=index}\">상향</span>{=itemList.change_val}</em>\\n\\t\\t\\t\\t\\t\\t\\t{elseif itemList.risefall == \\'4\\'}\\n\\t\\t\\t\\t\\t\\t\\t\\t<em class=\"f_down down_arrow\" id=\"changeVal_em_{=index}\"><span id=\"changeVal_span_{=index}\">하한가</span>{=itemList.change_val}</em>\\n\\t\\t\\t\\t\\t\\t\\t{elseif itemList.risefall == \\'5\\'}\\n\\t\\t\\t\\t\\t\\t\\t\\t<em class=\"f_down down\" id=\"changeVal_em_{=index}\"><span id=\"changeVal_span_{=index}\">하향</span>{=itemList.change_val}</em>\\n\\t\\t\\t\\t\\t\\t\\t{else}\\n\\t\\t\\t\\t\\t\\t\\t\\t<em class=\"sam\" id=\"changeVal_em_{=index}\"><span id=\"changeVal_span_{=index}\">보합</span></em>\\n\\t\\t\\t\\t\\t\\t\\t{/if}\\n\\t\\t\\t\\t\\t\\t\\t{if type == \"recent\"}\\n\\t\\t\\t\\t\\t\\t\\t\\t<a href=\"javascript:deleteCodeFromRecent(\\'{=itemList.itemcode}\\', \\'{=code}\\', \\'{=type}\\', \\'{=page}\\')\"><img src=\"https://ssl.pstatic.net/imgstock/item_renewal/btn_delete.gif\" alt=\"삭제\" width=\"11\" height=\"11\"></a>\\n\\t\\t\\t\\t\\t\\t\\t{/if}\\n\\t\\t\\t\\t\\t\\t</td>\\n\\t\\t\\t\\t\\t</tr>\\n\\t\\t\\t\\t{/for}\\n\\t\\t\\t</table>\\n\\t\\t</script>\\n\\t\\t<div id=\"recent_area\"></div>\\n\\n\\t\\t\\n\\t\\t<script type=\"text/template\" id=\"recent_btn_tmpl\">\\n\\t\\t\\t<span>\\n\\t\\t\\t\\t{if prev_page != 0 || next_page != 0}\\n\\t\\t\\t\\t{if prev_page == 0}\\n\\t\\t\\t\\t\\t<a href=\"#\" onClick=\"clickcr(this, \\'rch.5\\', \\'\\', \\'\\', event); return false;\"><img src=\"https://ssl.pstatic.net/static/nfinance/btn_prev2.gif\" width=\"17\" height=\"15\" alt=\"이전\"></a>\\n\\t\\t\\t\\t{elseif prev_page > 0}\\n\\t\\t\\t\\t\\t<a href=\"javascript:movePage(\\'{=code}\\', \\'{=type}\\', \\'{=prev_page}\\');\" onClick=\"clickcr(this, \\'rch.5\\', \\'\\', \\'\\', event)\"><img src=\"https://ssl.pstatic.net/static/nfinance/btn_prev2.gif\" width=\"17\" height=\"15\" alt=\"이전\"></a>\\n\\t\\t\\t\\t{/if}\\n\\t\\t\\t\\t{if next_page == 0}\\n\\t\\t\\t\\t\\t<a href=\"#\" onClick=\"clickcr(this, \\'rch.6\\', \\'\\', \\'\\', event); return false;\"><img src=\"https://ssl.pstatic.net/static/nfinance/btn_next2.gif\" width=\"17\" height=\"15\" alt=\"다음\"></a>\\n\\t\\t\\t\\t{elseif next_page > 0}\\n\\t\\t\\t\\t\\t<a href=\"javascript:movePage(\\'{=code}\\', \\'{=type}\\', \\'{=next_page}\\');\" onClick=\"clickcr(this, \\'rch.6\\', \\'\\', \\'\\', event)\"><img src=\"https://ssl.pstatic.net/static/nfinance/btn_next2.gif\" width=\"17\" height=\"15\" alt=\"다음\"></a>\\n\\t\\t\\t\\t{/if}\\n\\t\\t\\t\\t{/if}\\n\\t\\t\\t</span>\\n\\t\\t\\t{if type != \\'recent\\'}\\n\\t\\t\\t<a href=\"/mystock/\" class=\"more\" onClick=\"clickcr(this, \\'rch.7\\', \\'\\', \\'\\', event)\">더보기</a>\\n\\t\\t\\t{/if}\\n\\t\\t</script>\\n\\t\\t<div id=\"recent_button\" class=\"more_info\"></div>\\n\\n\\t\\t\\n\\t\\t\\t<script type=\"text/javascript\">\\n\\t\\t\\tvar comment_code = \"066570\";\\n\\t\\t\\tvar comment_type = \"recent\";\\n\\t\\t\\tvar comment_page = \"1\";\\n\\t\\t\\t\\n\\t\\t\\t  \\tjindo.$Fn(function() {\\n\\t\\t\\t\\t\\tmovePage(\\'066570\\', \\'recent\\', \\'1\\');\\n\\t\\t\\t\\t}).attach(document,\"domready\");\\n\\t\\t\\t\\n\\t\\t\\t</script>\\n\\t</div>\\n\\t\\n\\n\\t\\n\\t\\n\\t\\n\\n\\t\\n\\t<div class=\"aside_section cop_list\">\\n\\t\\t <h2 class=\"h_sub sub_tit9\"><span>인기검색종목</span></h2>\\n\\t\\t<div id=\"tab_fav\" class=\"tab tab_fav1\">\\n\\t\\t\\t<a href=\"javascript:showArea(\\'tab_fav\\', \\'tab tab_fav1\\', \\'fav_kospi\\', \\'fav_kosdaq\\')\" onClick=\"clickcr(this, \\'pss.1\\', \\'\\', \\'\\', event);\"><span>코스피</span></a>\\n\\t\\t\\t<a href=\"javascript:showArea(\\'tab_fav\\', \\'tab tab_fav2\\', \\'fav_kosdaq\\', \\'fav_kospi\\')\" onClick=\"clickcr(this, \\'pss.3\\', \\'\\', \\'\\', event);\"><span>코스닥</span></a>\\n\\t\\t\\t<!-- [D] 활성화된 탭메뉴에 따라 blind text 변경해주세요 -->\\n\\t\\t\\t<h3 class=\"blind\" id=\"blind_text_tab_fav\">코스피</h3>\\n\\t\\t</div>\\n\\n\\t\\t<div id=\"fav_kospi\" style=\"display:block\">\\n\\t\\t<table summary=\"코스피 인기검색종목 리스트\" class=\"rank\">\\n\\t\\t<caption>코스피 인기검색종목</caption>\\n\\t\\t<colgroup><col><col width=\"60\"><col width=\"86\"></colgroup>\\n\\t\\t<thead>\\n\\t\\t<tr>\\n\\t\\t\\t<th>업체명</th>\\n\\t\\t\\t<th scope=\"col\">거래량</th>\\n\\t\\t\\t<th scope=\"col\">전일비</th>\\n\\t\\t</tr>\\n\\t\\t</thead>\\n\\t\\t\\n\\t\\t\\t\\n\\t\\t\\t<tr>\\n\\t\\t\\t\\t<th scope=\"row\" class=\"no1\"><a href=\"/item/main.naver?code=005930\" target=_top onClick=\"clickcr(this, \\'pss.2\\', \\'\\', \\'1\\', event);\">삼성전자</a></th>\\n\\t\\t\\t\\t<td>58,100</td>\\n\\t\\t\\t\\t<td>\\n\\t\\t\\t\\t\\t\\n\\t\\t\\t\\t<em class=\"f_up up\"><span>상향</span>\\n\\t\\t\\t\\t2,500\\n\\t\\t\\t\\t</em>\\n\\t\\t\\t\\n\\t\\t\\t\\t</td>\\n\\t\\t\\t</tr>\\n\\t\\t\\n\\t\\t\\t\\n\\t\\t\\t<tr>\\n\\t\\t\\t\\t<th scope=\"row\" class=\"no2\"><a href=\"/item/main.naver?code=035720\" target=_top onClick=\"clickcr(this, \\'pss.2\\', \\'\\', \\'2\\', event);\">카카오</a></th>\\n\\t\\t\\t\\t<td>70,000</td>\\n\\t\\t\\t\\t<td>\\n\\t\\t\\t\\t\\t\\n\\t\\t\\t\\t<em class=\"f_up up\"><span>상향</span>\\n\\t\\t\\t\\t2,000\\n\\t\\t\\t\\t</em>\\n\\t\\t\\t\\n\\t\\t\\t\\t</td>\\n\\t\\t\\t</tr>\\n\\t\\t\\n\\t\\t\\t\\n\\t\\t\\t<tr>\\n\\t\\t\\t\\t<th scope=\"row\" class=\"no3\"><a href=\"/item/main.naver?code=005950\" target=_top onClick=\"clickcr(this, \\'pss.2\\', \\'\\', \\'3\\', event);\">이수화학</a></th>\\n\\t\\t\\t\\t<td>32,550</td>\\n\\t\\t\\t\\t<td>\\n\\t\\t\\t\\t\\t\\n\\t\\t\\t\\t<em class=\"f_up up\"><span>상향</span>\\n\\t\\t\\t\\t3,650\\n\\t\\t\\t\\t</em>\\n\\t\\t\\t\\n\\t\\t\\t\\t</td>\\n\\t\\t\\t</tr>\\n\\t\\t\\n\\t\\t\\t\\n\\t\\t\\t<tr>\\n\\t\\t\\t\\t<th scope=\"row\" class=\"no4\"><a href=\"/item/main.naver?code=005380\" target=_top onClick=\"clickcr(this, \\'pss.2\\', \\'\\', \\'4\\', event);\">현대차</a></th>\\n\\t\\t\\t\\t<td>200,500</td>\\n\\t\\t\\t\\t<td>\\n\\t\\t\\t\\t\\t\\n\\t\\t\\t\\t<em class=\"f_up up\"><span>상향</span>\\n\\t\\t\\t\\t500\\n\\t\\t\\t\\t</em>\\n\\t\\t\\t\\n\\t\\t\\t\\t</td>\\n\\t\\t\\t</tr>\\n\\t\\t\\n\\t\\t\\t\\n\\t\\t\\t<tr>\\n\\t\\t\\t\\t<th scope=\"row\" class=\"no5\"><a href=\"/item/main.naver?code=161510\" target=_top onClick=\"clickcr(this, \\'pss.2\\', \\'\\', \\'5\\', event);\">ARIRANG 고배..</a></th>\\n\\t\\t\\t\\t<td>11,325</td>\\n\\t\\t\\t\\t<td>\\n\\t\\t\\t\\t\\t\\n\\t\\t\\t\\t<em class=\"f_up up\"><span>상향</span>\\n\\t\\t\\t\\t255\\n\\t\\t\\t\\t</em>\\n\\t\\t\\t\\n\\t\\t\\t\\t</td>\\n\\t\\t\\t</tr>\\n\\t\\t\\n\\t\\t\\t\\n\\t\\t\\t\\t<tr><td colspan=\"3\" class=\"line\"></td></tr>\\n\\t\\t\\t\\n\\t\\t\\t<tr>\\n\\t\\t\\t\\t<th scope=\"row\" class=\"no6\"><a href=\"/item/main.naver?code=035420\" target=_top onClick=\"clickcr(this, \\'pss.2\\', \\'\\', \\'6\\', event);\">NAVER</a></th>\\n\\t\\t\\t\\t<td>238,500</td>\\n\\t\\t\\t\\t<td>\\n\\t\\t\\t\\t\\t\\n\\t\\t\\t\\t<em class=\"f_up up\"><span>상향</span>\\n\\t\\t\\t\\t7,000\\n\\t\\t\\t\\t</em>\\n\\t\\t\\t\\n\\t\\t\\t\\t</td>\\n\\t\\t\\t</tr>\\n\\t\\t\\n\\t\\t\\t\\n\\t\\t\\t<tr>\\n\\t\\t\\t\\t<th scope=\"row\" class=\"no7\"><a href=\"/item/main.naver?code=009540\" target=_top onClick=\"clickcr(this, \\'pss.2\\', \\'\\', \\'7\\', event);\">한국조선해양</a></th>\\n\\t\\t\\t\\t<td>88,300</td>\\n\\t\\t\\t\\t<td>\\n\\t\\t\\t\\t\\t\\n\\t\\t\\t\\t<em class=\"f_up up\"><span>상향</span>\\n\\t\\t\\t\\t200\\n\\t\\t\\t\\t</em>\\n\\t\\t\\t\\n\\t\\t\\t\\t</td>\\n\\t\\t\\t</tr>\\n\\t\\t\\n\\t\\t\\t\\n\\t\\t\\t<tr>\\n\\t\\t\\t\\t<th scope=\"row\" class=\"no8\"><a href=\"/item/main.naver?code=006400\" target=_top onClick=\"clickcr(this, \\'pss.2\\', \\'\\', \\'8\\', event);\">삼성SDI</a></th>\\n\\t\\t\\t\\t<td>602,000</td>\\n\\t\\t\\t\\t<td>\\n\\t\\t\\t\\t\\t\\n\\t\\t\\t\\t<em class=\"f_up up\"><span>상향</span>\\n\\t\\t\\t\\t31,000\\n\\t\\t\\t\\t</em>\\n\\t\\t\\t\\n\\t\\t\\t\\t</td>\\n\\t\\t\\t</tr>\\n\\t\\t\\n\\t\\t\\t\\n\\t\\t\\t<tr>\\n\\t\\t\\t\\t<th scope=\"row\" class=\"no9\"><a href=\"/item/main.naver?code=005490\" target=_top onClick=\"clickcr(this, \\'pss.2\\', \\'\\', \\'9\\', event);\">POSCO홀딩스</a></th>\\n\\t\\t\\t\\t<td>248,000</td>\\n\\t\\t\\t\\t<td>\\n\\t\\t\\t\\t\\t\\n\\t\\t\\t\\t<em class=\"f_up up\"><span>상향</span>\\n\\t\\t\\t\\t6,500\\n\\t\\t\\t\\t</em>\\n\\t\\t\\t\\n\\t\\t\\t\\t</td>\\n\\t\\t\\t</tr>\\n\\t\\t\\n\\t\\t\\t\\n\\t\\t\\t<tr>\\n\\t\\t\\t\\t<th scope=\"row\" class=\"no10\"><a href=\"/item/main.naver?code=211900\" target=_top onClick=\"clickcr(this, \\'pss.2\\', \\'\\', \\'10\\', event);\">KODEX 배당성..</a></th>\\n\\t\\t\\t\\t<td>12,930</td>\\n\\t\\t\\t\\t<td>\\n\\t\\t\\t\\t\\t\\n\\t\\t\\t\\t<em class=\"f_up up\"><span>상향</span>\\n\\t\\t\\t\\t355\\n\\t\\t\\t\\t</em>\\n\\t\\t\\t\\n\\t\\t\\t\\t</td>\\n\\t\\t\\t</tr>\\n\\t\\t\\n\\t\\t</table>\\n\\t\\t</div>\\n\\t\\t<div id=\"fav_kosdaq\" style=\"display:none\">\\n\\t\\t<table summary=\"코스닥 인기검색종목 리스트\" class=\"rank\">\\n\\t\\t<caption>코스피 인기검색종목</caption>\\n\\t\\t<colgroup><col><col width=\"50\"><col width=\"86\"></colgroup>\\n\\t\\t<thead>\\n\\t\\t<tr>\\n\\t\\t\\t<th>업체명</th>\\n\\t\\t\\t<th scope=\"col\">거래량</th>\\n\\t\\t\\t<th scope=\"col\">전일비</th>\\n\\t\\t</tr>\\n\\t\\t</thead>\\n\\t\\t\\n\\t\\t\\t\\n\\t\\t\\t<tr>\\n\\t\\t\\t\\t<th scope=\"row\" class=\"no1\"><a href=\"/item/main.naver?code=900100\" target=_top onClick=\"clickcr(this, \\'pss.4\\', \\'\\', \\'1\\', event);\">애머릿지</a></th>\\n\\t\\t\\t\\t<td>3,585</td>\\n\\t\\t\\t\\t<td>\\n\\t\\t\\t\\t<em class=\"sam\"><span>보합</span></em>\\n\\t\\t\\t</td>\\n\\t\\t\\t</tr>\\n\\t\\t\\n\\t\\t\\t\\n\\t\\t\\t<tr>\\n\\t\\t\\t\\t<th scope=\"row\" class=\"no2\"><a href=\"/item/main.naver?code=079810\" target=_top onClick=\"clickcr(this, \\'pss.4\\', \\'\\', \\'2\\', event);\">디이엔티</a></th>\\n\\t\\t\\t\\t<td>10,750</td>\\n\\t\\t\\t\\t<td>\\n\\t\\t\\t\\t<em class=\"f_up up\"><span>상향</span>\\n\\t\\t\\t\\t700\\n\\t\\t\\t\\t</em>\\n\\t\\t\\t</td>\\n\\t\\t\\t</tr>\\n\\t\\t\\n\\t\\t\\t\\n\\t\\t\\t<tr>\\n\\t\\t\\t\\t<th scope=\"row\" class=\"no3\"><a href=\"/item/main.naver?code=046390\" target=_top onClick=\"clickcr(this, \\'pss.4\\', \\'\\', \\'3\\', event);\">삼화네트웍스</a></th>\\n\\t\\t\\t\\t<td>3,195</td>\\n\\t\\t\\t\\t<td>\\n\\t\\t\\t\\t<em class=\"f_up up\"><span>상향</span>\\n\\t\\t\\t\\t175\\n\\t\\t\\t\\t</em>\\n\\t\\t\\t</td>\\n\\t\\t\\t</tr>\\n\\t\\t\\n\\t\\t\\t\\n\\t\\t\\t<tr>\\n\\t\\t\\t\\t<th scope=\"row\" class=\"no4\"><a href=\"/item/main.naver?code=365340\" target=_top onClick=\"clickcr(this, \\'pss.4\\', \\'\\', \\'4\\', event);\">성일하이텍</a></th>\\n\\t\\t\\t\\t<td>154,600</td>\\n\\t\\t\\t\\t<td>\\n\\t\\t\\t\\t<em class=\"f_up up\"><span>상향</span>\\n\\t\\t\\t\\t3,400\\n\\t\\t\\t\\t</em>\\n\\t\\t\\t</td>\\n\\t\\t\\t</tr>\\n\\t\\t\\n\\t\\t\\t\\n\\t\\t\\t<tr>\\n\\t\\t\\t\\t<th scope=\"row\" class=\"no5\"><a href=\"/item/main.naver?code=263750\" target=_top onClick=\"clickcr(this, \\'pss.4\\', \\'\\', \\'5\\', event);\">펄어비스</a></th>\\n\\t\\t\\t\\t<td>57,400</td>\\n\\t\\t\\t\\t<td>\\n\\t\\t\\t\\t<em class=\"f_up up\"><span>상향</span>\\n\\t\\t\\t\\t2,400\\n\\t\\t\\t\\t</em>\\n\\t\\t\\t</td>\\n\\t\\t\\t</tr>\\n\\t\\t\\n\\t\\t\\t\\n\\t\\t\\t\\t<tr><td colspan=\"3\" class=\"line\"></td></tr>\\n\\t\\t\\t\\n\\t\\t\\t<tr>\\n\\t\\t\\t\\t<th scope=\"row\" class=\"no6\"><a href=\"/item/main.naver?code=282880\" target=_top onClick=\"clickcr(this, \\'pss.4\\', \\'\\', \\'6\\', event);\">코윈테크</a></th>\\n\\t\\t\\t\\t<td>27,700</td>\\n\\t\\t\\t\\t<td>\\n\\t\\t\\t\\t<em class=\"f_down down\"><span>하향</span>\\n\\t\\t\\t\\t400\\n\\t\\t\\t\\t</em>\\n\\t\\t\\t</td>\\n\\t\\t\\t</tr>\\n\\t\\t\\n\\t\\t\\t\\n\\t\\t\\t<tr>\\n\\t\\t\\t\\t<th scope=\"row\" class=\"no7\"><a href=\"/item/main.naver?code=230240\" target=_top onClick=\"clickcr(this, \\'pss.4\\', \\'\\', \\'7\\', event);\">에치에프알</a></th>\\n\\t\\t\\t\\t<td>35,250</td>\\n\\t\\t\\t\\t<td>\\n\\t\\t\\t\\t<em class=\"f_down down\"><span>하향</span>\\n\\t\\t\\t\\t500\\n\\t\\t\\t\\t</em>\\n\\t\\t\\t</td>\\n\\t\\t\\t</tr>\\n\\t\\t\\n\\t\\t\\t\\n\\t\\t\\t<tr>\\n\\t\\t\\t\\t<th scope=\"row\" class=\"no8\"><a href=\"/item/main.naver?code=002230\" target=_top onClick=\"clickcr(this, \\'pss.4\\', \\'\\', \\'8\\', event);\">피에스텍</a></th>\\n\\t\\t\\t\\t<td>3,895</td>\\n\\t\\t\\t\\t<td>\\n\\t\\t\\t\\t<em class=\"f_up up\"><span>상향</span>\\n\\t\\t\\t\\t80\\n\\t\\t\\t\\t</em>\\n\\t\\t\\t</td>\\n\\t\\t\\t</tr>\\n\\t\\t\\n\\t\\t\\t\\n\\t\\t\\t<tr>\\n\\t\\t\\t\\t<th scope=\"row\" class=\"no9\"><a href=\"/item/main.naver?code=391710\" target=_top onClick=\"clickcr(this, \\'pss.4\\', \\'\\', \\'9\\', event);\">코닉오토메이..</a></th>\\n\\t\\t\\t\\t<td>5,970</td>\\n\\t\\t\\t\\t<td>\\n\\t\\t\\t\\t<em class=\"f_up up_arrow\"><span>상한가</span>\\n\\t\\t\\t\\t1,375\\n\\t\\t\\t\\t</em>\\n\\t\\t\\t</td>\\n\\t\\t\\t</tr>\\n\\t\\t\\n\\t\\t\\t\\n\\t\\t\\t<tr>\\n\\t\\t\\t\\t<th scope=\"row\" class=\"no10\"><a href=\"/item/main.naver?code=293490\" target=_top onClick=\"clickcr(this, \\'pss.4\\', \\'\\', \\'10\\', event);\">카카오게임즈</a></th>\\n\\t\\t\\t\\t<td>51,800</td>\\n\\t\\t\\t\\t<td>\\n\\t\\t\\t\\t<em class=\"f_up up\"><span>상향</span>\\n\\t\\t\\t\\t2,600\\n\\t\\t\\t\\t</em>\\n\\t\\t\\t</td>\\n\\t\\t\\t</tr>\\n\\t\\t\\n\\t\\t</table>\\n\\t\\t</div>\\n\\t</div>\\n\\t\\n\\n\\t\\n\\t<div class=\"aside_section rate\">\\n\\t\\t<h2 class=\"h_sub sub_tit8\"><span>시세정보바로가기</span></h2>\\n\\t\\t<p>\\n\\t\\t\\t<a href=\"/sise/sise_index.naver?code=KOSPI\" onClick=\"clickcr(this, \\'quk.2\\', \\'\\', \\'\\', event);\">코스피</a>\\n\\t\\t\\t<a href=\"/sise/sise_index.naver?code=KOSDAQ\" onClick=\"clickcr(this, \\'quk.3\\', \\'\\', \\'\\', event);\">코스닥</a>\\n\\t\\t\\t<a href=\"/sise/sise_index.naver?code=FUT\" onClick=\"clickcr(this, \\'quk.4\\', \\'\\', \\'\\', event);\">선물</a>\\n\\t\\t\\t<a href=\"/sise/konex.naver\" class=\"end\" onClick=\"clickcr(this, \\'quk.konex\\', \\'\\', \\'\\', event);\">코넥스</a><br>\\n\\t\\t\\t<a href=\"/sise/sise_index.naver?code=KPI200\" onClick=\"clickcr(this, \\'quk.30\\', \\'\\', \\'\\', event);\">코스피200</a>\\n\\t\\t\\t<a href=\"/sise/etf.naver\" onClick=\"clickcr(this, \\'quk.31\\', \\'\\', \\'\\', event);\">ETF</a>\\n\\t\\t\\t<a href=\"/sise/sise_group.naver?type=upjong\" onClick=\"clickcr(this, \\'quk.5\\', \\'\\', \\'\\', event);\"><strong>업종별</strong></a>\\n\\t\\t\\t<a href=\"/sise/theme.naver\" class=\"end\" onClick=\"clickcr(this, \\'quk.6\\', \\'\\', \\'\\', event);\">테마별</a><br>\\n\\t\\t\\t<a href=\"/sise/sise_upper.naver\" onClick=\"clickcr(this, \\'quk.7\\', \\'\\', \\'\\', event);\"><strong>상한가</strong></a>\\n\\t\\t\\t<a href=\"/sise/sise_lower.naver\" onClick=\"clickcr(this, \\'quk.8\\', \\'\\', \\'\\', event);\">하한가</a>\\n\\t\\t\\t<a href=\"/sise/sise_rise.naver\" onClick=\"clickcr(this, \\'quk.9\\', \\'\\', \\'\\', event);\">상승</a>\\n\\t\\t\\t<a href=\"/sise/sise_steady.naver\" onClick=\"clickcr(this, \\'quk.10\\', \\'\\', \\'\\', event);\">보합</a>\\n\\t\\t\\t<a href=\"/sise/sise_fall.naver\" class=\"end\" onClick=\"clickcr(this, \\'quk.11\\', \\'\\', \\'\\', event);\">하락</a><br>\\n\\t\\t\\t<a href=\"/sise/sise_quant.naver\" onClick=\"clickcr(this, \\'quk.12\\', \\'\\', \\'\\', event);\">거래상위</a>\\n\\t\\t\\t<a href=\"/sise/sise_quant_high.naver\" onClick=\"clickcr(this, \\'quk.13\\', \\'\\', \\'\\', event);\"><strong>급증</strong></a>\\n\\t\\t\\t<a href=\"/sise/sise_quant_low.naver\" class=\"end\" onClick=\"clickcr(this, \\'quk.14\\', \\'\\', \\'\\', event);\">급감</a><br>\\n\\t\\t\\t<a href=\"/sise/sise_high_down.naver\" onClick=\"clickcr(this, \\'quk.15\\', \\'\\', \\'\\', event);\">고가대비급락</a>\\n\\t\\t\\t<a href=\"/sise/sise_low_up.naver\" class=\"end\" onClick=\"clickcr(this, \\'quk.16\\', \\'\\', \\'\\', event);\">저가대비급등</a>\\n\\t\\t</p>\\n\\t\\t<p>\\n\\t\\t\\t<a href=\"/sise/sise_market_sum.naver\" onClick=\"clickcr(this, \\'quk.17\\', \\'\\', \\'\\', event);\"><strong>시가총액상위</strong></a>\\n\\t\\t\\t<a href=\"/sise/sise_foreign_hold.naver\" class=\"end\" onClick=\"clickcr(this, \\'quk.18\\', \\'\\', \\'\\', event);\">외국인보유현황</a><br>\\n\\t\\t\\t<a href=\"/sise/sise_deal_rank.naver\" onClick=\"clickcr(this, \\'quk.19\\', \\'\\', \\'\\', event);\">외국인매매</a>\\n\\t\\t\\t<a href=\"/sise/sise_deal_rank.naver?investor_gubun=1000\" onClick=\"clickcr(this, \\'quk.19-1\\', \\'\\', \\'\\', event);\">기관매매</a>\\n\\t\\t\\t<a href=\"/sise/sise_program.naver\" class=\"end\" onClick=\"clickcr(this, \\'quk.20\\', \\'\\', \\'\\', event);\">프로그램매매</a><br>\\n\\t\\t\\t<a href=\"/sise/management.naver\" onClick=\"clickcr(this, \\'quk.21\\', \\'\\', \\'\\', event);\">관리·감리종목</a>\\n\\t\\t\\t<a href=\"/sise/sise_new_stock.naver\" class=\"end\" onClick=\"clickcr(this, \\'quk.22\\', \\'\\', \\'\\', event);\">신규상장종목</a><br>\\n\\t\\t\\t<a href=\"/sise/sise_deposit.naver\" onClick=\"clickcr(this, \\'quk.23\\', \\'\\', \\'\\', event);\">증시자금동향</a>\\n\\t\\t\\t<a href=\"/sise/sise_trans_style.naver\" class=\"end\" onClick=\"clickcr(this, \\'quk.24\\', \\'\\', \\'\\', event);\">투자자별매매동향</a>\\n\\t\\t</p>\\n\\t\\t<p>\\n\\t\\t\\t<a href=\"/sise/item_gap.naver\" onClick=\"clickcr(this, \\'quk.25\\', \\'\\', \\'\\', event);\">갭상승 종목</a>\\n\\t\\t\\t<a href=\"/sise/item_gold.naver\" class=\"end\" onClick=\"clickcr(this, \\'quk.26\\', \\'\\', \\'\\', event);\">골든크로스 종목</a><br>\\n\\t\\t\\t<a href=\"/sise/item_igyuk.naver\" onClick=\"clickcr(this, \\'quk.27\\', \\'\\', \\'\\', event);\">이격도과열종목</a>\\n\\t\\t\\t<a href=\"/sise/item_overheating_1.naver\" class=\"end\" onClick=\"clickcr(this, \\'quk.28\\', \\'\\', \\'\\', event);\">투자심리과열종목</a><br>\\n\\t\\t\\t<a href=\"/sise/item_overheating_2.naver\" class=\"end\" onClick=\"clickcr(this, \\'quk.29\\', \\'\\', \\'\\', event);\">상대강도과열종목</a>\\n\\t\\t</p>\\n\\t\\t<a href=\"/sise/\" class=\"more\" onClick=\"clickcr(this, \\'quk.1\\', \\'\\', \\'\\', event);\">더보기</a>\\n\\t\\t<div class=\"hidden_line\"></div>\\n\\t</div>\\n\\t\\n\\n\\t\\n\\t\\n\\n\\t\\n\\t<div class=\"aside_section notice\">\\n\\t\\t<h2 class=\"h_sub sub_tit10\"><span>공지사항</span></h2>\\n\\t\\t<ul>\\n\\t\\t\\t\\n\\t\\t\\t\\t<li><a href=\"https://finance.naver.com/notice.naver?noticeId=7471\"  onClick=\"clickcr(this, \\'ice.2\\', \\'https://finance.naver.com/notice.naver?noticeId=7471\\', \\'1\\', event)\">[서울경찰청] 수익률 300%보장...</a></li>\\n\\t\\t\\t\\n\\t\\t\\t\\t<li><a href=\"\"  onClick=\"clickcr(this, \\'ice.2\\', \\'\\', \\'2\\', event)\"></a></li>\\n\\t\\t\\t\\n\\t\\t\\t\\t<li><a href=\"\"  onClick=\"clickcr(this, \\'ice.2\\', \\'\\', \\'3\\', event)\"></a></li>\\n\\t\\t\\t\\n\\t\\t\\t\\t<li><a href=\"\"  onClick=\"clickcr(this, \\'ice.2\\', \\'\\', \\'4\\', event)\"></a></li>\\n\\t\\t\\t\\n\\t\\t\\t\\t<li><a href=\"\"  onClick=\"clickcr(this, \\'ice.2\\', \\'\\', \\'5\\', event)\"></a></li>\\n\\t\\t\\t\\n\\t\\t</ul>\\n\\t\\t<a href=\"https://finance.naver.com/notice.naver\" class=\"more\" onClick=\"clickcr(this, \\'ice.1\\', \\'\\', \\'\\', event);\">더보기</a>\\n\\t</div>\\n\\t\\n\\n\\n\\n</div>\\n</div>\\n\\n</div>\\n\\n\\n\\n\\n\\n\\n\\n\\t\\n\\n\\n\\n\\n\\n\\n\\t<div id=\"footer\">\\n\\t\\t<ul>\\n\\t\\t\\t<li class=\"first\">\\n\\t\\t\\t\\t<a href=\"https://www.naver.com/rules/service.html\" onClick=\"clickcr(this, \\'fot.service\\', \\'\\', \\'\\', event);\" target=\"_blank\">이용약관</a>\\n\\t\\t\\t</li>\\n\\t\\t\\t<li>\\n\\t\\t\\t\\t<a href=\"https://finance.naver.com/rules.naver\" onClick=\"clickcr(this, \\'fot.policy\\', \\'\\', \\'\\', event);\" target=\"_blank\">금융게시판 운영원칙</a>\\n\\t\\t\\t</li>\\n\\t\\t\\t<li>\\n\\t\\t\\t\\t<a href=\"https://www.naver.com/rules/privacy.html\" onClick=\"clickcr(this, \\'fot.privacy\\', \\'\\', \\'\\', event);\" target=\"_blank\"><strong>개인정보처리방침</strong></a>\\n\\t\\t\\t</li>\\n\\t\\t\\t<li>\\n\\t\\t\\t\\t<a href=\"https://www.naver.com/rules/disclaimer.html\" onClick=\"clickcr(this, \\'fot.limit\\', \\'\\', \\'\\', event);\" target=\"_blank\">책임의 한계와 법적고지</a>\\n\\t\\t\\t</li>\\n\\t\\t\\t<li>\\n\\t\\t\\t\\t<a href=\"https://help.naver.com/service/5617/category/bookmark?lang=ko\" onclick=\"clickcr(this, \\'fot.help\\', \\'\\', \\'\\', event);\" target=\"_blank\">금융 고객센터</a>\\n\\t\\t\\t</li>\\n\\t\\t</ul>\\n\\t\\t<p class=\"desc\">네이버(주)가 제공하는 금융 정보는 각 콘텐츠 제공업체<a href=\"javascript:;\" onclick=\"togglePanelFooter(\\'footerPanel0\\');\" class=\"desc_help\"><img src=\"https://ssl.pstatic.net/static/nfinance/2018/06/29/btn_help.png\" width=\"17\" height=\"17\" alt=\"제공업체 상세설명\"></a>로부터 받는 투자 참고사항이며, 오류가 발생하거나 지연될 수 있습니다.<br>네이버(주)와 콘텐츠 제공업체는 제공된 정보에 의한 투자 결과에 법적인 책임을 지지 않습니다. 게시된 정보는 무단으로 배포할 수 없습니다.</p>\\n\\t\\t<div id=\"footerPanel0\" class=\"provider_layer\" style=\"display:none\" tabindex=\"0\" onblur=\"hidePannel(\\'footerPanel0\\')\">\\n\\t\\t\\t<strong class=\"provider_layer__tit\">콘텐츠 제공업체</strong>\\n\\t\\t\\t<div class=\"provider_layer__txt\">\\n\\t\\t\\t\\t<p><span>코스콤 : </span>실시간 주가정보 및 국내시세정보</p>\\n\\t\\t\\t\\t<p><span>에프앤가이드 : </span>기업 및 재무정보</p>\\n\\t\\t\\t\\t<p><span>KG제로인 : </span>해외 시세, 시장지표 및 펀드 정보</p>\\n\\t\\t\\t\\t<p><span>한국예탁결제원 : </span>주주총회일 및 전자투표 정보</p>\\n\\t\\t\\t\\t<p><span>인포스탁 : </span>국내 테마 정보</p>\\n\\t\\t\\t</div>\\n\\t\\t\\t<span class=\"arrow\"></span>\\n\\t\\t</div>\\n\\t\\t<address>\\n\\t\\t\\t<a href=\"https://www.navercorp.com/\" target=\"_blank\" class=\"logo\" onClick=\"clickcr(this, \\'fot.nhn\\', \\'\\', \\'\\', event);\"><img src=\"https://ssl.pstatic.net/static/nfinance/2019/02/22/ci_naver.png\" width=\"58\" height=\"11\" alt=\"NAVER\" /></a>\\n\\t\\t\\t<em>Copyright &copy;</em>\\n\\t\\t\\t<a href=\"https://www.navercorp.com/\" target=\"_blank\" onClick=\"clickcr(this, \\'fot.nhn\\', \\'\\', \\'\\', event);\">NAVER Corp.</a>\\n\\t\\t\\t<span>All Rights Reserved.</span>\\n\\t\\t</address>\\n\\t\\t\\n\\t\\t\\n\\t\\t\\n\\t</div>\\n\\n\\n\\n<script type=\"text/javascript\">\\nfunction isVisible(obj) {\\n    if (obj == document) return true\\n \\n    if (!obj) return false\\n    if (!obj.parentNode) return false\\n    if (obj.style) {\\n        if (obj.style.display == \\'none\\') return false\\n        if (obj.style.visibility == \\'hidden\\') return false\\n    }\\n \\n    if (window.getComputedStyle) {\\n        var style = window.getComputedStyle(obj, \"\")\\n        if (style.display == \\'none\\') return false\\n        if (style.visibility == \\'hidden\\') return false\\n    }\\n \\n    var style = obj.currentStyle\\n    if (style) {\\n        if (style[\\'display\\'] == \\'none\\') return false\\n        if (style[\\'visibility\\'] == \\'hidden\\') return false\\n    }\\n \\n    return isVisible(obj.parentNode)\\n}\\n\\nfunction isChildOf(myobj, containerObj) {\\n\\twhile(myobj != undefined) {\\n\\t\\tif (myobj == document.body) {\\n\\t\\t\\tbreak;\\n\\t\\t} \\n\\t\\tif (myobj == containerObj) {\\n\\t\\t\\treturn true;\\n\\t\\t}\\n\\t\\tmyobj = myobj.parentElement;\\n\\t}\\n\\treturn false;\\t\\n}\\n\\nfunction gnbLayerClose(e){\\n\\tvar target = e.target ? e.target : e.srcElement;\\n\\tif (isVisible(document.getElementById(\\'gnb_service_lyr\\')) || isVisible(document.getElementById(\\'gnb_notice_lyr\\')) ||isVisible(document.getElementById(\\'gnb_my_lyr\\')) ) {\\n\\t\\tif (!isChildOf(target, document.getElementById(\\'gnb\\'))) {\\n\\t\\t\\tgnbAllLayerClose();\\n\\t\\t}\\n\\t}\\t\\n}\\n\\nvar isIE = (navigator.userAgent.toLowerCase().indexOf(\"msie\")!=-1 && window.document.all) ? true:false;\\nif (isIE) {\\n\\tdocument.attachEvent(\\'onmousedown\\', gnbLayerClose);\\n} else {\\n\\twindow.addEventListener(\\'mousedown\\', gnbLayerClose);\\n}\\n\\nfunction showPannel(layerId){\\n    var layer = jindo.$(layerId);\\n    layer.style.display=\\'block\\';\\n\\n    if (layerId == \"summary_lyr\") {\\n        var layerHeight = jindo.$Element(layer).height();\\n        jindo.$Element(\"summary_ifr\").height(layerHeight);\\n    }\\n}\\n\\nfunction hidePannel(layerId){\\n    var layer = jindo.$(layerId);\\n    layer.style.display=\\'none\\';\\n}\\n\\nfunction togglePanelFooter(layerId) {\\n    var elTargetLayer = jindo.$Element(jindo.$$.getSingle(\"#\" + layerId));\\n\\n    if (elTargetLayer != null) {\\n        if (elTargetLayer.visible()) {\\n            hidePannel(layerId);\\n        } else {\\n            showPannel(layerId);\\n        }\\n    }\\n}\\n\\n// add data-useragent\\ndocument.documentElement.setAttribute(\\'data-useragent\\',navigator.userAgent);\\n</script>\\n\\n</div>\\n</body>\\n</html>\\n\\n<script language=\"javascript\" type=\"text/javascript\">\\n\\tjindo.$Fn(function(){\\n\\t\\tjindo.EllipseText.factory(jindo.$$(\".new_bbs DIV.sub_section li span.txt\"), {nAssistWidth: 9});\\n\\t}).attach(document,\\'domready\\');\\n</script>\\n'"
      ]
     },
     "execution_count": 448,
     "metadata": {},
     "output_type": "execute_result"
    }
   ],
   "source": [
    "res.text"
   ]
  },
  {
   "cell_type": "code",
   "execution_count": 451,
   "id": "e7c65363",
   "metadata": {},
   "outputs": [],
   "source": [
    "soup=bts(markup=res.text, features='html.parser')"
   ]
  },
  {
   "cell_type": "code",
   "execution_count": null,
   "id": "de4b0742",
   "metadata": {},
   "outputs": [],
   "source": []
  },
  {
   "cell_type": "code",
   "execution_count": 452,
   "id": "783652d1",
   "metadata": {},
   "outputs": [
    {
     "data": {
      "text/plain": [
       "\n",
       "<html lang=\"ko\">\n",
       "<head>\n",
       "<title>LG전자 : 네이버 금융</title>\n",
       "<meta content=\"text/html; charset=utf-8\" http-equiv=\"Content-Type\"/>\n",
       "<meta content=\"text/javascript\" http-equiv=\"Content-Script-Type\"/>\n",
       "<meta content=\"text/css\" http-equiv=\"Content-Style-Type\"/>\n",
       "<meta content=\"https://finance.naver.com/item/main.naver?code=066570\" property=\"og:url\">\n",
       "<meta content=\"LG전자 - 네이버 금융 : 네이버 금융\" property=\"og:title\">\n",
       "<meta content=\"관심종목의 실시간 주가를 가장 빠르게 확인하는 곳\" property=\"og:description\"/>\n",
       "<meta content=\"https://ssl.pstatic.net/static/m/stock/im/2016/08/og_stock-200.png\" property=\"og:image\"/>\n",
       "<meta content=\"article\" property=\"og:type\"/>\n",
       "<meta content=\"\" property=\"og:article:thumbnailUrl\"/>\n",
       "<meta content=\"네이버금융\" property=\"og:article:author\"/>\n",
       "<meta content=\"http://FINANCE.NAVER.COM\" property=\"og:article:author:url\"/>\n",
       "<link href=\"https://ssl.pstatic.net/imgstock/static.pc/20220907184351/css/finance_header.css\" rel=\"stylesheet\" type=\"text/css\"/>\n",
       "<link href=\"https://ssl.pstatic.net/imgstock/static.pc/20220907184351/css/newstock.css\" rel=\"stylesheet\" type=\"text/css\"/>\n",
       "<link href=\"https://ssl.pstatic.net/imgstock/static.pc/20220907184351/css/common.css\" rel=\"stylesheet\" type=\"text/css\"/>\n",
       "<link href=\"https://ssl.pstatic.net/imgstock/static.pc/20220907184351/css/layout.css\" rel=\"stylesheet\" type=\"text/css\"/>\n",
       "<link href=\"https://ssl.pstatic.net/imgstock/static.pc/20220907184351/css/main.css\" rel=\"stylesheet\" type=\"text/css\"/>\n",
       "<link href=\"https://ssl.pstatic.net/imgstock/static.pc/20220907184351/css/newstock2.css\" rel=\"stylesheet\" type=\"text/css\"/>\n",
       "<link href=\"https://ssl.pstatic.net/imgstock/static.pc/20220907184351/css/newstock3.css\" rel=\"stylesheet\" type=\"text/css\"/>\n",
       "<link href=\"https://ssl.pstatic.net/imgstock/static.pc/20220907184351/css/world.css\" rel=\"stylesheet\" type=\"text/css\"/>\n",
       "<script src=\"https://ssl.pstatic.net/imgstock/static.pc/20220907184351/js/jindo.min.ns.1.5.3.euckr.js\" type=\"text/javascript\"></script>\n",
       "<script src=\"https://ssl.pstatic.net/imgstock/static.pc/20220907184351/js/release/common.js\" type=\"text/javascript\"></script>\n",
       "<script src=\"https://ssl.pstatic.net/imgstock/static.pc/20220907184351/js/jindoComponent/jindo.Component.1.0.3.js\" type=\"text/javascript\"></script>\n",
       "<script src=\"https://ssl.pstatic.net/imgstock/static.pc/20220907184351/js/nhn.autocomplete.stock.js\" type=\"text/javascript\"></script>\n",
       "<script>\n",
       "\tvar ieVersion = (function () {\n",
       "        var version = -1;\n",
       "        if (\n",
       "          navigator.appName == 'Microsoft Internet Explorer' &&\n",
       "          navigator.userAgent.toLowerCase().indexOf('msie') != -1 &&\n",
       "          new RegExp('MSIE ([0-9]{1,}[\\./0-9]{0,})').exec(navigator.userAgent) != null\n",
       "        ) {\n",
       "          version = parseInt(RegExp.$1);\n",
       "        }\n",
       "        return version;\n",
       "      })();\n",
       "</script>\n",
       "<link href=\"https://ssl.pstatic.net/imgstock/favi/favicon.ico\" rel=\"shortcut icon\" type=\"image/x-icon\"/>\n",
       "<script type=\"text/javascript\">\n",
       "    (function(){\n",
       "\t\tdocument.write(\n",
       "\t\t\t\t[\n",
       "\t\t\t\t\t'<link rel=\"apple-touch-icon-precomposed\" href=\"https://ssl.pstatic.net/imgstock/favi/favicon-96x96.png\"/>',\n",
       "\t\t\t\t\t'<link rel=\"apple-touch-icon-precomposed\" sizes=\"180x180\" href=\"https://ssl.pstatic.net/imgstock/favi/favicon-180x180.png\"/>',\n",
       "\t\t\t\t\t'<link rel=\"apple-touch-icon-precomposed\" sizes=\"192x192\" href=\"https://ssl.pstatic.net/imgstock/favi/favicon-192x192.png\"/>',\n",
       "\t\t\t\t\t'<link rel=\"icon\" type=\"image/png\" sizes=\"16x16\" href=\"https://ssl.pstatic.net/imgstock/favi/favicon-16x16.png\"/>',\n",
       "\t\t\t\t\t'<link rel=\"icon\" type=\"image/png\" sizes=\"32x32\" href=\"https://ssl.pstatic.net/imgstock/favi/favicon-32x32.png\"/>',\n",
       "\t\t\t\t\t'<link rel=\"icon\" type=\"image/png\" sizes=\"96x96\" href=\"https://ssl.pstatic.net/imgstock/favi/favicon-96x96.png\"/>',\n",
       "\t\t\t\t\t'<link rel=\"icon\" type=\"image/png\" sizes=\"192x192\" href=\"https://ssl.pstatic.net/imgstock/favi/favicon-192x192.png\"/>'\n",
       "\t\t\t\t]\n",
       "\t\t\t.join('\\n')\n",
       "\t\t);\n",
       "    })();\n",
       "    </script>\n",
       "</meta></meta></head>\n",
       "<body onload=\"getGNB();\">\n",
       "<script type=\"text/javascript\">\n",
       "\n",
       "\tvar nclk_evt = 3;\n",
       "\tnclk_do();\n",
       "</script>\n",
       "<script type=\"text/javascript\">\n",
       "\n",
       "\n",
       "\n",
       "\n",
       "\n",
       "\n",
       "\n",
       "var nsc=\"finance.stockend\";\n",
       "\n",
       "\n",
       "var ccsrv=\"cc.naver.com\";\n",
       "\n",
       "\n",
       "\t\n",
       "\t\n",
       "\tvar gnb_service='finance';\n",
       "\t\n",
       "\n",
       "\n",
       "var gnb_logout=document.URL; //GNB에서 로그아웃 후 redirect 될 URL\n",
       "var gnb_searchbox='off'; //미니 검색창을 on 할지 off 할지. default는 off\n",
       "var gnb_shortnick='off'; //닉네임 말줄임(10자)을 on할지 off 할지. default는 off.\n",
       "\n",
       "\n",
       "var gnb_naverme_layer_open_callback = function(){\n",
       "\t   var naverLayerSize = gnbNaverMeLayer.getLayerSize();\n",
       "\t\t\n",
       "\t\tvar me_layers = document.getElementById(\"me_layers\");\n",
       "\t\tme_layers.width=naverLayerSize.width;\n",
       "\t\tme_layers.height=naverLayerSize.height;};\n",
       "\n",
       "var gnb_naverme_layer_close_callback = function(){\n",
       "\t\t\n",
       "\t\t\tvar me_layers = document.getElementById(\"me_layers\");\n",
       "\t\t\tme_layers.width=\"0\";\n",
       "\t\t\tme_layers.height=\"0\";};\n",
       "</script>\n",
       "<div id=\"u_skip\">\n",
       "<a href=\"#menu\" tabindex=\"1\"><span>메인 메뉴로 바로가기</span></a>\n",
       "<a href=\"#middle\" tabindex=\"2\"><span>본문으로 바로가기</span></a>\n",
       "</div>\n",
       "<div id=\"header\">\n",
       "<div class=\"snb_area\">\n",
       "<div class=\"snb_inner\">\n",
       "<div id=\"gnb_area\">\n",
       "<div id=\"gnb\">\n",
       "<script charset=\"EUC-KR\" type=\"text/javascript\">\n",
       "\t\t\t\t\tvar gnb_service = \"gnbtest\";\n",
       "                    var gnb_template = location.protocol == \"http:\" ? \"gnb_quirks_euckr\" : \"gnb_utf8\" ;\n",
       "\t\t\t\t\tvar gnb_dark = false;\n",
       "\t\t\t\t\tvar gnb_brightness = 1;\n",
       "\t\t\t\t\tvar gnb_logout=encodeURIComponent(location.href);\n",
       "\t\t\t\t\tvar gnb_one_naver = 1;\n",
       "\t\t\t\t\t</script>\n",
       "<script charset=\"utf-8\" src=\"https://ssl.pstatic.net/static.gn/templates/gnb_utf8.nhn?20220913\" type=\"text/javascript\">\n",
       "</script>\n",
       "</div>\n",
       "</div>\n",
       "<div class=\"sta\">\n",
       "<h1 class=\"logo\"> <a class=\"logo_naver\" href=\"https://www.naver.com/\" onclick=\"clickcr(this, 'STA.naver', '', '', event);\"><span class=\"blind\">네이버</span></a>\n",
       "<a class=\"logo_service\" href=\"/\" onclick=\"clickcr(this, 'STA.finance', '', '', event);\"><span class=\"blind\">금융</span></a> </h1>\n",
       "<form action=\"/search/search.naver\" method=\"get\" name=\"search\" onsubmit=\"return delayed_submit(this)\" style=\"margin:0; padding:0;\">\n",
       "<fieldset>\n",
       "<legend>검색</legend>\n",
       "<div class=\"snb_search_box\">\n",
       "<div class=\"snb_search_box_sub\">\n",
       "<input accesskey=\"s\" autocomplete=\"off\" class=\"snb_search_text snb_default\" id=\"stock_items\" name=\"query\" title=\"검색\" type=\"text\" value=\"종목명·지수명 입력\"/>\n",
       "<a class=\"btn_arrow\" href=\"#\" id=\"nautocomplete\" onclick=\"return false\"><span class=\"blind\">자동완성 펼치기</span></a>\n",
       "</div>\n",
       "<div class=\"auto_area\">\n",
       "<h2 class=\"blind\">자동완성</h2>\n",
       "<div id=\"autoFrame\" style=\"display: none;\">\n",
       "<div class=\"wrap\" id=\"atcmp\" style=\"display:none;\">\n",
       "<div class=\"wrap_in\">\n",
       "<div class=\"words\">\n",
       "<ul class=\"_resultBox\">\n",
       "<li>\n",
       "<a class=\"_au_real_list\" href=\"#\" onclick=\"clickcr(this, 'AUT.list', '', '', event); return false;\">\n",
       "<span class=\"num _au_real_list\">@code@</span>\n",
       "<span class=\"_au_real_list\">@txt@</span>\n",
       "<span class=\"type _au_real_list\">@market@</span>\n",
       "</a>\n",
       "<div class=\"_au_full\" style=\"display:none\">@full_txt@</div>\n",
       "<div class=\"_au_code\" style=\"display:none\">@in_code@</div>\n",
       "<div class=\"_au_name\" style=\"display:none\">@in_name@</div>\n",
       "<div class=\"_au_link\" style=\"display:none\">@in_link@</div>\n",
       "<div class=\"_au_market\" style=\"display:none\">@in_market@</div>\n",
       "</li>\n",
       "</ul>\n",
       "</div>\n",
       "<p class=\"func\">\n",
       "<span><a class=\"fire_event funoff\" href=\"#\" onclick=\"clickcr(this, 'AUT.x', '', '', event); smartSearch.unuse(); return false;\">기능끄기</a></span>\n",
       "</p>\n",
       "</div>\n",
       "</div>\n",
       "<!-- 현재 자동완성 기능을 사용하고 계십니다 -->\n",
       "<div class=\"wrap\" id=\"atcmpIng\" style=\"display:none;\">\n",
       "<div class=\"wrap_in\">\n",
       "<div class=\"words\">\n",
       "<p class=\"msg\">\n",
       "\t\t\t\t\t\t\t\t\t\t\t\t현재 자동완성 기능을 사용하고 계십니다.\n",
       "\t\t\t\t\t\t\t\t\t\t\t</p>\n",
       "</div>\n",
       "<p class=\"func\">\n",
       "<span><a class=\"fire_event funoff\" href=\"#\" onclick=\"clickcr(this, 'AUT.x', '', '', event); smartSearch.unuse(); return false;\">기능끄기</a></span>\n",
       "</p>\n",
       "</div>\n",
       "</div>\n",
       "<!--// 현재 자동완성 기능을 사용하고 계십니다 -->\n",
       "<!-- 자동완성 기능이 활성화 -->\n",
       "<div class=\"wrap\" id=\"atcmpStart\" style=\"display:none;\">\n",
       "<div class=\"wrap_in\">\n",
       "<div class=\"words\">\n",
       "<p class=\"msg\">\n",
       "\t\t\t\t\t\t\t\t\t\t\t\t자동완성 기능이 활성화되었습니다.\n",
       "\t\t\t\t\t\t\t\t\t\t\t</p>\n",
       "</div>\n",
       "<p class=\"func\">\n",
       "<span><a class=\"fire_event funoff\" href=\"#\" onclick=\"clickcr(this, 'AUT.x', '', '', event); smartSearch.unuse(); return false;\">기능끄기</a></span>\n",
       "</p>\n",
       "</div>\n",
       "</div>\n",
       "</div>\n",
       "</div>\n",
       "<button alt=\"검색\" class=\"snb_search_btn\" onclick=\"clickcr(this, 'STA.search', '', '', event);\" type=\"submit\"><span class=\"blind\">검색</span></button>\n",
       "<a class=\"snb_search_btn-total\" href=\"#\" onclick=\"itegrationSearch();clickcr(this, 'STA.nx', '', '', event);return false;\" target=\"_blank\">통합검색</a>\n",
       "</div>\n",
       "</fieldset>\n",
       "</form>\n",
       "</div>\n",
       "</div>\n",
       "</div>\n",
       "<div class=\"lnb_area\">\n",
       "<div class=\"lnb_inner\">\n",
       "<div id=\"menu\">\n",
       "<ul class=\"menu\">\n",
       "<li class=\"m1 first\"><a href=\"/\" onclick=\"clickcr(this, 'LNB.home', '', '', event);\"><span class=\"tx\">금융 홈</span></a></li>\n",
       "<li class=\"m2 on\"><a href=\"/sise/\" onclick=\"clickcr(this, 'LNB.sise', '', '', event);\"><span class=\"tx\">국내증시</span></a></li>\n",
       "<li class=\"m3\"><a href=\"/world/\" onclick=\"clickcr(this, 'LNB.world', '', '', event);\"><span class=\"tx\">해외증시</span></a></li>\n",
       "<li class=\"m4\"><a href=\"/marketindex/\" onclick=\"clickcr(this, 'LNB.market', '', '', event);\"><span class=\"tx\">시장지표</span></a></li>\n",
       "<li class=\"m6\"><a href=\"/research/\" onclick=\"clickcr(this, 'LNB.research', '', '', event);\"><span class=\"tx\">리서치</span></a></li>\n",
       "<li class=\"m7\"><a href=\"/news/\"><span class=\"tx\">뉴스</span></a></li>\n",
       "<li class=\"m8\"><a href=\"/mystock/\" onclick=\"clickcr(this, 'LNB.mystock', '', '', event);\"><span class=\"tx\">MY</span></a></li>\n",
       "</ul>\n",
       "</div>\n",
       "</div>\n",
       "</div>\n",
       "<script type=\"text/JavaScript\">\n",
       "\t\t/* lcs 집계 */\n",
       "        ;(function(){\n",
       "            var eventType = \"onpageshow\" in window ? \"pageshow\" : \"load\";\n",
       "            jindo.$Fn(function(){\n",
       "                lcs_do();\n",
       "            }).attach(window, eventType);\n",
       "        })();\n",
       "\n",
       "\t\t/* 검색 자동완성 [ 인자1 : 검색input의 ID, 인자2 : iframe 태그 ID ]   */\n",
       "\t\t// AutoComplete 생성\n",
       "\t\tvar acDomain = \"ac.finance.naver.com\";\n",
       "        if (location.hostname.indexOf(\"staging-\") > -1) {\n",
       "            acDomain = \"staging-\" + acDomain;\n",
       "        } else if (location.hostname.indexOf(\"dev-\") > -1 || location.hostname.indexOf(\"localhost\") > -1 || location.hostname.indexOf(\"local-\") > -1) {\n",
       "\t\t\tacDomain = \"dev-\" + acDomain;\n",
       "\t\t}\n",
       "\n",
       "        var acUrl = \"https://\" + acDomain + \"/ac\";\n",
       "\n",
       "\t\tsmartSearch = new nhn.Autocomplete(\n",
       "\t\t\t// InputManager 생성\n",
       "\t\t\tnew nhn.AcInputManager(jindo.$(\"stock_items\")),\n",
       "\t\t\t// DataManager 생성\n",
       "\t\t\tnew nhn.AcDataManager(acUrl, \"jsonp\", \"get\", {\n",
       "                    st: \"111\",\n",
       "                    r_lt : \"111\",\n",
       "                    q_enc : \"euc-kr\",\n",
       "                    r_enc : \"euc-kr\",\n",
       "                    frm: \"stock\"}),\n",
       "\t\t\t// ViewManager 생성\n",
       "\t\t\tnew nhn.AcStockViewManager(jindo.$(\"autoFrame\"), jindo.$(\"nautocomplete\"), {\n",
       "                                        strMax: 200,\n",
       "                                        listMax: [7, 2, 2],\n",
       "                                        aRedirectUrl : [\n",
       "                            \t\t\t\"https://finance.naver.com\",\n",
       "                            \t\t\t\"https://finance.naver.com\",\n",
       "                            \t\t\t\"https://finance.naver.com\"]}),\n",
       "\t\t\t// Autocomplete Option\n",
       "            {formId:\"search\", cookieDomain:location.hostname, cookieName:\"NaverCommonStock\"});\n",
       "\n",
       "\t\t\tsmartSearch.attach({\n",
       "\t            onFocus: function () {\n",
       "\t                var weInput = jindo.$Element('stock_items');\n",
       "\t                if (weInput && weInput.hasClass(\"snb_default\")) {\n",
       "\t                        weInput.text(\"\");\n",
       "\t                        weInput.removeClass('snb_default');\n",
       "\t                }\n",
       "\t            }\n",
       "\t        });\n",
       "\n",
       "\t\t/* 통합검색  start ----->  */\n",
       "\t\t//document.domain = 'naver.com';\n",
       "\t\tvar sSearchHintText = '종목명·지수명·환율명·원자재명 입력';\n",
       "\t\tfunction itegrationSearch() {\n",
       "\t\t\tvar query = jindo.$('stock_items').value;\n",
       "\n",
       "\t\t\tif ( query == ''  || encodeURIComponent(query) == encodeURIComponent(sSearchHintText))\n",
       "\t\t\t{\n",
       "\t\t\t\talert ( '검색어를 입력해 주세요.' );\n",
       "\t\t\t\treturn;\n",
       "\t\t\t}\n",
       "\n",
       "            var url = location.protocol + \"//search.naver.com/search.naver?sm=sta_hty.finance&where=nexearch&ie=UTF8&query=\" + encodeURIComponent(query);\n",
       "            window.open(url, \"_blank\");\n",
       "\n",
       "\t\t\treturn false;\n",
       "\t\t}\n",
       "\n",
       "\t\tfunction delayed_submit(object) {\n",
       "\t\t\tif (navigator.userAgent.indexOf('MSIE') == -1) {\n",
       "\t\t\t\twindow.setTimeout(function() {stock_search(object)}, 300);\n",
       "\t\t\t} else {\n",
       "\t\t\t\tstock_search(object);\n",
       "\t\t\t}\n",
       "\t\t\treturn false;\n",
       "\t\t}\n",
       "\n",
       "\t\tfunction stock_search (object)\n",
       "\t\t{\n",
       "\t\t\tquery = object.query.value.replace(/^\\s*/,'').replace(/\\s*$/,'');\t// trim\n",
       "\t\t\tobject.query.value=query;\n",
       "\n",
       "\t\t\tif ( query == '' || query == sSearchHintText.replace(/^\\s*/,'').replace(/\\s*$/,''))\n",
       "\t\t\t{\n",
       "\t\t\t\talert ( '검색어를 입력해 주세요.' );\n",
       "\t\t\t\treturn;\n",
       "\t\t\t}\n",
       "\t\t\telse {\n",
       "\t\t\t\tobject.submit();\n",
       "\t\t\t}\n",
       "\t\t}\n",
       "\t\t/* <---------- 통합검색  end */\n",
       "\n",
       "\t\tfunction popup()\n",
       "\t\t{\n",
       "\t\t\twin = window.open('/template/group_limit_pop.jsp','finan_popup','width=569 height=278 scrollbars=no status=no');\n",
       "\t\t\twin.focus();\n",
       "\t\t}\n",
       "\t</script>\n",
       "<iframe frameborder=\"0\" height=\"0\" id=\"me_layers\" name=\"test\" scrolling=\"no\" style=\"display:block;top: 22px; right: 209px; position: absolute; z-index: 15;\" title=\"네이버미 영역\" width=\"0\"></iframe>\n",
       "</div>\n",
       "<div id=\"wrap\">\n",
       "<script language=\"javascript\" src=\"https://ssl.pstatic.net/imgstock/static.pc/20220907184351/js/ellipse.js\"></script>\n",
       "<script type=\"text/javascript\">\n",
       "\tfunction financialInfoCommentToggle() {\n",
       "\t\tif(jindo.$Element(jindo.$$.getSingle(\"div.ly_moreifrs\")).visible()) {\n",
       "\t\t\tjindo.$Element(jindo.$$.getSingle(\"a.more_ifrs\")).html(\"항목별 상세기준 보기\");\n",
       "\t\t\tjindo.$Element(jindo.$$.getSingle(\"a.more_ifrs\")).removeClass(\"fd\");\n",
       "\t\t} else {\n",
       "\t\t\tjindo.$Element(jindo.$$.getSingle(\"a.more_ifrs\")).html(\"항목별 상세기준 닫기\");\n",
       "\t\t\tjindo.$Element(jindo.$$.getSingle(\"a.more_ifrs\")).addClass(\"fd\");\n",
       "\t\t}\n",
       "\t\tjindo.$Element(jindo.$$.getSingle(\"div.ly_moreifrs\")).toggle();\n",
       "\t}\n",
       "\n",
       "</script>\n",
       "<script language=\"javascript\" src=\"https://ssl.pstatic.net/imgstock/static.pc/20220907184351/js/recent_code.js\"></script>\n",
       "<script language=\"javascript\">addCode('066570');</script>\n",
       "<script language=\"JavaScript\" src=\"https://ssl.pstatic.net/imgstock/static.pc/20220907184351/js/summary.js\"></script>\n",
       "<script language=\"JavaScript\">fchartStatus.setChartStatus('on');</script>\n",
       "<style>\n",
       "\n",
       ".hide_chart {\n",
       "position: absolute;\n",
       "top: 0;\n",
       "left: -9999px;\n",
       "}\n",
       "</style>\n",
       "<div class=\"new_totalinfo\" id=\"middle\">\n",
       "<dl class=\"blind\">\n",
       "<dt>종목 시세 정보</dt>\n",
       "<dd>2022년 09월 13일 16시 11분 기준 장마감</dd>\n",
       "<dd>종목명 LG전자</dd>\n",
       "<dd>종목코드 066570 코스피</dd>\n",
       "<dd>현재가 97,900 전일대비 상승 4,100 플러스 4.37 퍼센트</dd>\n",
       "<dd>전일가 93,800</dd>\n",
       "<dd>시가 95,700</dd>\n",
       "<dd>고가 98,200</dd>\n",
       "<dd>상한가 121,500</dd>\n",
       "<dd>저가 95,100</dd>\n",
       "<dd>하한가 65,700</dd>\n",
       "<dd>거래량 700,027</dd>\n",
       "<dd>거래대금 68,025백만</dd>\n",
       "</dl>\n",
       "<div class=\"h_company\">\n",
       "<div class=\"wrap_company\">\n",
       "<h2><a href=\"#\" onclick=\"clickcr(this, 'sop.title', '', '', event);window.location.reload();\">LG전자</a></h2>\n",
       "<div class=\"description\">\n",
       "<span class=\"code\">066570</span>\n",
       "<img alt=\"코스피\" class=\"kospi\" height=\"16\" src=\"https://ssl.pstatic.net/imgstock/item_renewal/btn_kospi.gif\" width=\"33\"/>\n",
       "<span class=\"blind\">날짜</span>\n",
       "<span id=\"time\">\n",
       "<em class=\"date\">2022.09.13 <span>기준(장마감)</span></em>\n",
       "</span>\n",
       "<em class=\"realtime\">\n",
       "<span class=\"blind\">실시간</span>\n",
       "</em>\n",
       "<em class=\"summary\">\n",
       "<a href=\"#\" onclick=\"togglePannel('summary_lyr'); return false;\"></a>\n",
       "<span class=\"blind\">기업개요</span>\n",
       "<div class=\"summary_lyr\" id=\"summary_lyr\" style=\"display:none;top:22px;left:0\">\n",
       "<iframe frameborder=\"0\" height=\"\" id=\"summary_ifr\" name=\"summary_ifr\" scrolling=\"no\" src=\"\" style=\"position:absolute;left:0;top:-2;z-index:20\" width=\"410\"></iframe>\n",
       "<div class=\"summary_info\" id=\"summary_info\">\n",
       "<h4>기업개요</h4>\n",
       "<p>동사와 종속기업의 주요사업부문은 Home Appliance &amp; Air 솔루션, Home Entertainment, Mobile Communications, Vehicle component 솔루션 등 6개로 구분.</p>\n",
       "<p>OLED TV는 초슬림, 월페이퍼, 롤러블 TV 등 지속적인 혁신 제품 출시로 프리미엄 시장을 지속 선도하고 있음.</p>\n",
       "<p>디스플레이 오디오와 내비게이션 영역에서는 동사의 디스플레이 및 소프트웨어 역량을 활용하여 제품 차별화중.</p>\n",
       "<div class=\"txt_notice\">출처 : 에프앤가이드</div>\n",
       "<div class=\"btn_area_top\">\n",
       "<a href=\"#\" onclick=\"hidePannel('summary_lyr'); return false;\"><img alt=\"닫기\" height=\"11\" src=\"https://ssl.pstatic.net/static/nfinance/img/btn_close.gif\" width=\"11\"/></a>\n",
       "</div>\n",
       "<div class=\"bg_btm\"></div>\n",
       "</div>\n",
       "<span class=\"bg_lt\"></span>\n",
       "<span class=\"bg_rt\"></span>\n",
       "<div class=\"bu_arrow\"></div>\n",
       "</div>\n",
       "</em>\n",
       "</div>\n",
       "</div>\n",
       "<div class=\"quick\">\n",
       "<p>\n",
       "<a class=\"snb_top1\" href=\"#\" onclick=\"clickcr(this,'sop.2','','',event);\"><span class=\"blind\">MY STOCK 추가</span></a>\n",
       "<a class=\"snb_top3\" href=\"javascript:quickorder('on')\" onclick=\"clickcr(this,'sop.3','','',event);\"><span class=\"blind\">빠른주문</span></a>\n",
       "</p>\n",
       "<div class=\"ly_lstmove blind NE=a:sop*m\">\n",
       "<span class=\"bg\"></span>\n",
       "<div class=\"txt _ly_group\">\n",
       "<div class=\"bx_sel scr_white2 _ly_group_list\">\n",
       "<ul></ul>\n",
       "</div>\n",
       "<div class=\"bx_sel _ly_group_blank\" style=\"display:none;\">\n",
       "<p class=\"txt_inner type7\">추가할 그룹이 없습니다.<br/>그룹을 추가해주세요.</p>\n",
       "</div>\n",
       "<p class=\"rgt\"><button class=\"btn_spr btn_groupadd2 NPI=a:add\" type=\"button\"><span class=\"blind\">그룹추가</span></button></p>\n",
       "<p>\n",
       "<button class=\"btn_spr btn_cfm2 _btn_ok NPI=a:confirm\" type=\"button\"><span class=\"blind\">확인</span></button>\n",
       "<button class=\"btn_spr btn_clse2 _btn_cancel NPI=a:close\" type=\"button\"><span class=\"blind\">닫기</span></button>\n",
       "</p>\n",
       "</div>\n",
       "<div class=\"txt _ly_message\" style=\"display:none;\">\n",
       "</div>\n",
       "</div>\n",
       "<div class=\"layer_quick_order\" id=\"quickOrderArea\" style=\"display:none\">\n",
       "<div class=\"content\">\n",
       "<h5>네이버 주식거래연결<br/>빠른 주문을 도와드립니다!</h5>\n",
       "<ul>\n",
       "<li>본 서비스는 고객님의 빠른 주문을 돕기 위해<br/><span>증권사의 로그인을 연결</span>해드리고 있습니다.</li>\n",
       "<li>고객님이 보유하고 계신 증권사를 클릭한 후<br/><span>증권사의 아이디, 비밀번호, 공인인증서로 주문</span>을<br/>하실 수 있습니다. </li>\n",
       "<li>증권사 로그인 이후 시스템 문제가 발생하면,<br/><span>증권사 고객센터로 직접 문의</span> 하시기 바랍니다.   </li>\n",
       "<li>네이버는 증권사 서비스의 시스템 장애에 따른<br/>법적 책임을 지지 않습니다. </li>\n",
       "</ul>\n",
       "<div class=\"ci_area\">\n",
       "<div id=\"quickOrderCiBanner0\"></div>\n",
       "<div id=\"quickOrderCiBanner1\"></div>\n",
       "<div id=\"quickOrderCiBanner2\"></div>\n",
       "<div id=\"quickOrderCiBanner3\"></div>\n",
       "</div>\n",
       "<div class=\"btn_area_btm\"><a href=\"javascript:quickorder('off')\"><img alt=\"닫기\" height=\"20\" src=\"https://ssl.pstatic.net/imgstock/item_renewal/btn_close.gif\" width=\"38\"/></a></div>\n",
       "<div class=\"btn_area_top\"><a href=\"javascript:quickorder('off')\"><img alt=\"닫기\" height=\"19\" src=\"https://ssl.pstatic.net/imgstock/item_renewal/btn_close_x.gif\" width=\"19\"/></a></div>\n",
       "</div>\n",
       "</div>\n",
       "</div>\n",
       "</div>\n",
       "<div class=\"content_wrap\">\n",
       "<div id=\"content\">\n",
       "<div class=\"spot\" id=\"chart_area\"><!-- chart가 사라질때  <div class=\"spot spot_short\">-->\n",
       "<div class=\"rate_info\">\n",
       "<dl class=\"blind\">\n",
       "<dt><strong>LG전자</strong></dt>\n",
       "<dd>오늘의시세 97,900 포인트</dd>\n",
       "<dd>4,100 포인트 상승</dd>\n",
       "<dd>4.37% 플러스</dd>\n",
       "</dl>\n",
       "<div class=\"today\">\n",
       "<p class=\"no_today\">\n",
       "<em class=\"no_up\">\n",
       "<span class=\"blind\">97,900</span>\n",
       "<span class=\"no9\">9</span><span class=\"no7\">7</span><span class=\"shim\">,</span><span class=\"no9\">9</span><span class=\"no0\">0</span><span class=\"no0\">0</span>\n",
       "</em>\n",
       "</p>\n",
       "<p class=\"no_exday\">\n",
       "<span class=\"sptxt sp_txt1\">전일대비</span>\n",
       "<em class=\"no_up\">\n",
       "<span class=\"ico up\">상승</span>\n",
       "<span class=\"blind\">4,100</span>\n",
       "<span class=\"no4\">4</span><span class=\"shim\">,</span><span class=\"no1\">1</span><span class=\"no0\">0</span><span class=\"no0\">0</span>\n",
       "</em>\n",
       "<span class=\"bar\">l</span>\n",
       "<em class=\"no_up\">\n",
       "<span class=\"ico plus\">+</span>\n",
       "<span class=\"blind\">4.37</span>\n",
       "<span class=\"no4\">4</span><span class=\"jum\">.</span><span class=\"no3\">3</span><span class=\"no7\">7</span>\n",
       "<span class=\"per\">%</span>\n",
       "</em>\n",
       "</p>\n",
       "</div>\n",
       "<table class=\"no_info\" summary=\"주요 시세(전일종가, 시고저가, 거래량, 거래대금)을 제공합니다.\">\n",
       "<caption>주요 시세</caption>\n",
       "<colgroup><col/><col width=\"214\"/><col width=\"157\"/></colgroup>\n",
       "<tr>\n",
       "<td class=\"first\">\n",
       "<span class=\"sptxt sp_txt2\">전일</span>\n",
       "<em>\n",
       "<span class=\"blind\">93,800</span>\n",
       "<span class=\"no9\">9</span><span class=\"no3\">3</span><span class=\"shim\">,</span><span class=\"no8\">8</span><span class=\"no0\">0</span><span class=\"no0\">0</span>\n",
       "</em>\n",
       "</td>\n",
       "<td>\n",
       "<span class=\"sptxt sp_txt4\">고가</span>\n",
       "<em class=\"no_up\">\n",
       "<span class=\"blind\">98,200</span><span class=\"no9\">9</span><span class=\"no8\">8</span><span class=\"shim\">,</span><span class=\"no2\">2</span><span class=\"no0\">0</span><span class=\"no0\">0</span>\n",
       "</em>\n",
       "<span class=\"sptxt sp_txt6\">(상한가</span>\n",
       "<em class=\"no_cha\">\n",
       "<span class=\"blind\">121,500</span><span class=\"no1\">1</span><span class=\"no2\">2</span><span class=\"no1\">1</span><span class=\"shim\">,</span><span class=\"no5\">5</span><span class=\"no0\">0</span><span class=\"no0\">0</span>\n",
       "</em>\n",
       "<span class=\"sptxt sp_txt8\">)</span>\n",
       "</td>\n",
       "<td>\n",
       "<span class=\"sptxt sp_txt9\">거래량</span>\n",
       "<em>\n",
       "<span class=\"blind\">700,027</span>\n",
       "<span class=\"no7\">7</span><span class=\"no0\">0</span><span class=\"no0\">0</span><span class=\"shim\">,</span><span class=\"no0\">0</span><span class=\"no2\">2</span><span class=\"no7\">7</span>\n",
       "</em>\n",
       "</td>\n",
       "</tr>\n",
       "<tr>\n",
       "<td class=\"first\">\n",
       "<span class=\"sptxt sp_txt3\">시가</span>\n",
       "<em class=\"no_up\">\n",
       "<span class=\"blind\">95,700</span><span class=\"no9\">9</span><span class=\"no5\">5</span><span class=\"shim\">,</span><span class=\"no7\">7</span><span class=\"no0\">0</span><span class=\"no0\">0</span>\n",
       "</em>\n",
       "</td>\n",
       "<td>\n",
       "<span class=\"sptxt sp_txt5\">저가</span>\n",
       "<em class=\"no_up\">\n",
       "<span class=\"blind\">95,100</span><span class=\"no9\">9</span><span class=\"no5\">5</span><span class=\"shim\">,</span><span class=\"no1\">1</span><span class=\"no0\">0</span><span class=\"no0\">0</span>\n",
       "</em>\n",
       "<span class=\"sptxt sp_txt7\">(하한가</span>\n",
       "<em class=\"no_cha\">\n",
       "<span class=\"no6\">6</span><span class=\"no5\">5</span><span class=\"shim\">,</span><span class=\"no7\">7</span><span class=\"no0\">0</span><span class=\"no0\">0</span>\n",
       "</em>\n",
       "<span class=\"sptxt sp_txt8\">)</span>\n",
       "</td>\n",
       "<td>\n",
       "<span class=\"sptxt sp_txt10\">거래대금</span>\n",
       "<em>\n",
       "<span class=\"blind\">68,025</span>\n",
       "<span class=\"no6\">6</span><span class=\"no8\">8</span><span class=\"shim\">,</span><span class=\"no0\">0</span><span class=\"no2\">2</span><span class=\"no5\">5</span>\n",
       "</em>\n",
       "<span class=\"sptxt sp_txt11\">백만</span>\n",
       "</td>\n",
       "</tr>\n",
       "</table>\n",
       "</div>\n",
       "<div class=\"chart\">\n",
       "<p class=\"blind\">종목 시세 차트</p>\n",
       "<div class=\"chart_control_area\">\n",
       "<dl class=\"line\">\n",
       "<dt>선차트</dt>\n",
       "<dd>\n",
       "<ul>\n",
       "<li class=\"day\"><a class=\"on\" href=\"#\" onclick=\"showChart('day')\">1일</a></li>\n",
       "<li class=\"week\"><a href=\"#\" onclick=\"showChart('week')\">1주일</a></li>\n",
       "<li class=\"month3\"><a href=\"#\" onclick=\"showChart('month3');\">3개월</a></li>\n",
       "<li class=\"year\"><a href=\"#\" onclick=\"showChart('year');\">1년</a></li>\n",
       "<li class=\"year3\"><a href=\"#\" onclick=\"showChart('year3');\">3년</a></li>\n",
       "<li class=\"year5\"><a href=\"#\" onclick=\"showChart('year5');\">5년</a></li>\n",
       "<li class=\"year10\"><a href=\"#\" onclick=\"showChart('year10');\">10년</a></li>\n",
       "</ul>\n",
       "</dd>\n",
       "</dl>\n",
       "<dl class=\"bar\">\n",
       "<dt>봉차트</dt>\n",
       "<dd>\n",
       "<ul>\n",
       "<li class=\"day\"><a href=\"#\" onclick=\"showBarChart('day');\">일봉</a></li>\n",
       "<li class=\"week\"><a href=\"#\" onclick=\"showBarChart('week');\">주봉</a></li>\n",
       "<li class=\"month\"><a href=\"#\" onclick=\"showBarChart('month');\">월봉</a></li>\n",
       "</ul>\n",
       "</dd>\n",
       "</dl>\n",
       "</div>\n",
       "<h5 class=\"blind\">이미지 차트</h5>\n",
       "<img alt=\"이미지 차트\" height=\"289\" id=\"img_chart_area\" onerror=\"this.src='https://ssl.pstatic.net/imgstock/chart3/world2008/error_700x289.png'\" src=\"https://ssl.pstatic.net/imgfinance/chart/item/area/day/066570.png?sidcode=1663054844127\" width=\"700\"/>\n",
       "</div>\n",
       "<a class=\"btn_close\" href=\"javascript:fchartStatus.showChartArea('066570', 'LG%C0%FC%C0%DA', 'false')\" onclick=\"clickcr(this,'sop.toggle','','',event);\">\n",
       "<div id=\"btn_close\">\n",
       "<img alt=\"차트닫기\" height=\"11\" src=\"https://ssl.pstatic.net/imgstock/item_renewal/btn_lay_close.gif\" width=\"45\"/>\n",
       "</div>\n",
       "</a>\n",
       "</div>\n",
       "<script id=\"summaryTpl\" type=\"text/template\">\n",
       "\t<div class=\"today\">\n",
       "\t\t<p class=\"no_today\">\n",
       "\t\t\t{if rf == 1 || rf == 2}\n",
       "\t\t\t\t<em class=\"no_up\">\n",
       "\t\t\t{elseif rf == 4 || rf == 5}\n",
       "\t\t\t\t<em class=\"no_down\">\n",
       "\t\t\t{else}\n",
       "\t\t\t\t<em class=\"X\">\n",
       "\t\t\t{/if}\n",
       "\t\t\t{js numberFont(changeNumberFormat(=nv))}\n",
       "\t\t\t</em>\n",
       "\t\t</p>\n",
       "\t\t<p class=\"no_exday\">\n",
       "\t\t\t<span class=\"sptxt sp_txt1\">전일대비</span>\n",
       "\t\t\t{if rf == 1}\n",
       "\t\t\t\t\t<em class=\"no_up\">\n",
       "\t\t\t\t\t\t<span class=\"ico up_price\">상한가</span>\n",
       "\t\t\t{elseif rf == 2}\n",
       "\t\t\t\t\t<em class=\"no_up\">\n",
       "\t\t\t\t\t\t<span class=\"ico up\">상승</span>\n",
       "\t\t\t{elseif rf == 4}\n",
       "\t\t\t\t\t<em class=\"no_down\">\n",
       "\t\t\t\t\t\t<span class=\"ico down_price\">하한가</span>\n",
       "\t\t\t{elseif rf == 5}\n",
       "\t\t\t\t\t<em class=\"no_down\">\n",
       "\t\t\t\t\t\t<span class=\"ico down\">하락</span>\n",
       "\t\t\t{else}\n",
       "\t\t\t\t\t<em class=\"X\">\n",
       "\t\t\t\t\t\t<span class=\"ico sam\">보합</span>\n",
       "\t\t\t{/if}\n",
       "\t\t\t{js numberFont(changeNumberFormat(=cv))}\n",
       "\t\t\t</em>\n",
       "\n",
       "\t\t\t<span class=\"bar\">l</span>\n",
       "\t\t\t{if rf == 1 || rf == 2}\n",
       "\t\t\t\t\t<em class=\"no_up\">\n",
       "\t\t\t\t\t\t<span class=\"ico plus\">+</span>\n",
       "\t\t\t{elseif rf == 4 || rf == 5}\n",
       "\t\t\t\t\t<em class=\"no_down\">\n",
       "\t\t\t\t\t\t<span class=\"ico minus\">-</span>\n",
       "\t\t\t{else}\n",
       "\t\t\t\t\t<em class=\"X\">\n",
       "\t\t\t{/if}\n",
       "\t\t\t{if cr != null}\n",
       "\t\t\t\t\t{js numberFont(changeNumberFormat(=cr.toFixed(2)))}\n",
       "\t\t\t{/if}\n",
       "\t\t\t\t<span class=\"per\">%</span>\n",
       "\t\t\t</em>\n",
       "\t\t</p>\n",
       "\t</div>\n",
       "\t<table summary=\"주요 시세(전일종가, 시고저가, 거래량, 거래대금)을 제공합니다.\" class=\"no_info\">\n",
       "\t<caption>주요 시세</caption>\n",
       "\t<colgroup><col><col width=\"214\"><col width=\"157\"></colgroup>\n",
       "\t<tr>\n",
       "\t\t<td class=\"first\">\n",
       "\t\t\t<span class=\"sptxt sp_txt2\">전일</span>\n",
       "\t\t\t<em>\n",
       "                {if sv == 0}\n",
       "\t\t\t\t{js numberFont(changeNumberFormat(=pcv))}\n",
       "                {else}\n",
       "\t\t\t\t{js numberFont(changeNumberFormat(=sv))}\n",
       "                {/if}\n",
       "\t\t\t</em>\n",
       "\t\t</td>\n",
       "\t\t<td>\n",
       "\t\t\t<span class=\"sptxt sp_txt4\">고가</span>\n",
       "\t\t\t{if tyn == \"Y\"}\n",
       "\t\t\t\t<em>\n",
       "\t\t\t{else}\n",
       "\t\t\t\t{if hv == 0}\n",
       "\t\t\t\t<em>\n",
       "\t\t\t\t{elseif pcv < hv}\n",
       "\t\t\t\t<em class=\"no_up\">\n",
       "\t\t\t\t{elseif pcv > hv}\n",
       "\t\t\t\t<em class=\"no_down\">\n",
       "\t\t\t\t{else}\n",
       "\t\t\t\t<em>\n",
       "\t\t\t\t{/if}\n",
       "\t\t\t{/if}\n",
       "\t\t\t{if ms == \"PREOPEN\"}\n",
       "\t\t\t\t{js numberFont(0)}\n",
       "\t\t\t{else}\n",
       "\t\t\t\t{js numberFont(changeNumberFormat(=hv))}\n",
       "\t\t\t{/if}\n",
       "\t\t\t</em>\n",
       "\t\t\t<span class=\"sptxt sp_txt6\">(상한가</span>\n",
       "\t\t\t<em class=\"no_cha\">\n",
       "\t\t\t\t{if ms == \"PREOPEN\"}\n",
       "\t\t\t\t\t{js numberFont(0)}\n",
       "\t\t\t\t{else}\n",
       "\t\t\t\t\t{js numberFont(changeNumberFormat(=ul))}\n",
       "\t\t\t\t{/if}\n",
       "\t\t\t</em>\n",
       "\t\t\t<span class=\"sptxt sp_txt8\">)</span>\n",
       "\t\t</td>\n",
       "\t\t<td>\n",
       "\t\t\t<span class=\"sptxt sp_txt9\">거래량</span>\n",
       "\t\t\t<em>\n",
       "\t\t\t\t{js numberFont(changeNumberFormat(=aq))}\n",
       "\t\t\t</em>\n",
       "\t\t</td>\n",
       "\t</tr>\n",
       "\t<tr>\n",
       "\t\t<td class=\"first\">\n",
       "\t\t\t<span class=\"sptxt sp_txt3\">시가</span>\n",
       "\t\t\t{if tyn == \"Y\"}\n",
       "\t\t\t\t<em>\n",
       "\t\t\t{else}\n",
       "\t\t\t\t{if ov == 0}\n",
       "\t\t\t\t<em>\n",
       "\t\t\t\t{elseif pcv < ov}\n",
       "\t\t\t\t<em class=\"no_up\">\n",
       "\t\t\t\t{elseif pcv > ov}\n",
       "\t\t\t\t<em class=\"no_down\">\n",
       "\t\t\t\t{else}\n",
       "\t\t\t\t<em>\n",
       "\t\t\t\t{/if}\n",
       "\t\t\t{/if}\n",
       "\t\t\t{if ms == \"PREOPEN\"}\n",
       "\t\t\t\t{js numberFont(0)}\n",
       "\t\t\t{else}\n",
       "\t\t\t\t{js numberFont(changeNumberFormat(=ov))}\n",
       "\t\t\t{/if}\n",
       "\t\t\t</em>\n",
       "\t\t</td>\n",
       "\t\t<td>\n",
       "\t\t\t<span class=\"sptxt sp_txt5\">저가</span>\n",
       "\t\t\t{if tyn == \"Y\"}\n",
       "\t\t\t\t<em>\n",
       "\t\t\t{else}\n",
       "\t\t\t\t{if lv == 0}\n",
       "\t\t\t\t<em>\n",
       "\t\t\t\t{elseif pcv < lv}\n",
       "\t\t\t\t<em class=\"no_up\">\n",
       "\t\t\t\t{elseif pcv > lv}\n",
       "\t\t\t\t<em class=\"no_down\">\n",
       "\t\t\t\t{else}\n",
       "\t\t\t\t<em>\n",
       "\t\t\t\t{/if}\n",
       "\t\t\t{/if}\n",
       "\t\t\t{if ms == \"PREOPEN\"}\n",
       "\t\t\t\t{js numberFont(0)}\n",
       "\t\t\t{else}\n",
       "\t\t\t\t{js numberFont(changeNumberFormat(=lv))}\n",
       "\t\t\t{/if}\n",
       "\t\t\t</em>\n",
       "\t\t\t<span class=\"sptxt sp_txt7\">(하한가</span>\n",
       "\t\t\t<em class=\"no_cha\">\n",
       "\t\t\t\t{if ms == \"PREOPEN\"}\n",
       "\t\t\t\t\t{js numberFont(0)}\n",
       "\t\t\t\t{else}\n",
       "\t\t\t\t\t{js numberFont(changeNumberFormat(=ll))}\n",
       "\t\t\t\t{/if}\n",
       "\t\t\t</em>\n",
       "\t\t\t<span class=\"sptxt sp_txt8\">)</span>\n",
       "\t\t</td>\n",
       "\t\t<td>\n",
       "\t\t\t<span class=\"sptxt sp_txt10\">거래대금</span>\n",
       "\t\t\t<em>\n",
       "\t\t\t\t{js numberFont(changeNumberFormat((=aa/1000000).toFixed(0)))}\n",
       "\t\t\t</em>\n",
       "\t\t\t<span class=\"sptxt sp_txt11\">백만</span>\n",
       "\t\t</td>\n",
       "\t</tr>\n",
       "\t</table>\n",
       "</script>\n",
       "<script type=\"text/javascript\">\n",
       "var pollingInterval = 2000;\n",
       "var timer = null;\n",
       "var pollingAjax = null;\n",
       "var itemcodes = '';\n",
       "\n",
       "var startTimer = function() {\n",
       "\tclearTimer();\n",
       "\ttimer = setInterval('doPolling()', pollingInterval);\n",
       "}\n",
       "\n",
       "var clearTimer = function() {\n",
       "\tif (pollingAjax) {\n",
       "\t\tpollingAjax.abort();\n",
       "\t\tpollingAjax = null;\n",
       "\t}\n",
       "\n",
       "\ttimer = window.clearInterval(timer);\n",
       "}\n",
       "\n",
       "var doPolling = function() {\n",
       "\tvar pollingApiUrl = \"https://polling.finance.naver.com/api/realtime?query=SERVICE_ITEM:\" + \"066570\"\n",
       "\n",
       "\tif (requestType == 'recent' && itemcodes != \"\") {\n",
       "\t\tpollingApiUrl += \"|\" + \"SERVICE_RECENT_ITEM:\" + itemcodes;\n",
       "\t} else if (requestType == 'mystock' && itemcodes != \"\"){\n",
       "\t\tpollingApiUrl += \"|\" + \"SERVICE_MYSTOCK_ITEM:\" + itemcodes;\n",
       "\t}\n",
       "\n",
       "\tpollingAjax = jindo.$Ajax(pollingApiUrl, {\n",
       "\t\ttype : 'jsonp',\n",
       "\t\tjsonp_charset : \"euc-kr\",\n",
       "\t\tonload : function(response) {\n",
       "\t\t\tif(response != null && response.readyState() == 4) {\n",
       "\t\t\t\trefreshQuote(response.json());\n",
       "\t\t\t\tstartTimer();\n",
       "\t\t\t}\n",
       "\t\t},\n",
       "\t\ttimeout : 2,\n",
       "\t\tontimeout : function() {\n",
       "\t\t\tstartTimer();\n",
       "\t\t},\n",
       "\t\tasync : true\n",
       "\t});\n",
       "\tpollingAjax.request();\n",
       "}\n",
       "\n",
       "function displayTime(ms, time) {\n",
       "\tvar result;\n",
       "\n",
       "\tvar utcDate = new Date(time);\n",
       "\tutcDate.setMinutes(utcDate.getMinutes() + utcDate.getTimezoneOffset());\n",
       "\tutcDate.setHours(utcDate.getHours() + 9);\n",
       "\n",
       "\tvar oDate = jindo.$Date(utcDate);\n",
       "\n",
       "\tif (ms == \"PREOPEN\") {\n",
       "\t\tcloseDate = oDate.format('Y.m.d')\n",
       "\t\tresult = '<em class=\"date\">' + oDate.format('Y.m.d') + ' <span>기준(개장전)</span></em> ';\n",
       "\t} else if (ms == \"CLOSE\") {\n",
       "\t\tresult = '<em class=\"date\">' + closeDate + ' <span>기준(장마감)</span></em> ';\n",
       "\t} else {\n",
       "\t\tcloseDate = oDate.format('Y.m.d')\n",
       "\t\tresult = '<em class=\"date\">' + oDate.format('Y.m.d H:i') + ' <span>기준(장중)</span></em> ';\n",
       "\t}\n",
       "\n",
       "\treturn result;\n",
       "}\n",
       "\n",
       "/**\n",
       " * 우측상단 투자정보 영역 중, NAV 값 갱신\n",
       " */\n",
       "function refreshEtfNav(etfNav) {\n",
       "\tvar elEtfNav = jindo.$Element(jindo.$$.getSingle(\"#on_board_last_nav\"));\n",
       "\tif (elEtfNav != null) {\n",
       "\t\tif (etfNav != null) {\n",
       "\t\t\telEtfNav.html(\"<em><strong>\" + changeNumberFormat(etfNav.toFixed(0)) + \"</strong></em>\");\n",
       "\t\t} else {\n",
       "\t\t\telEtfNav.html(\"<em><strong>N/A</strong></em>\");\n",
       "\t\t}\n",
       "\t}\n",
       "}\n",
       "\n",
       "function refreshInvestmentSummary(nv) {\n",
       "\tif (!(false && false && false)) {\n",
       "\t\treturn;\n",
       "\t}\n",
       "\n",
       "\tvar averageBuyingPrice = 0;\n",
       "\tvar holdingShares = 0;\n",
       "\n",
       "\tvar elEvaluationProfitAmount = jindo.$Element(jindo.$$.getSingle(\"#evaluation_profit_amount\"));\n",
       "\t// 평가손익 = (nv - 평균매입가) * 보유수량\n",
       "\tvar evaluationProfitAmount = (nv - 0) * 0;\n",
       "\t// 평가수익률 = 평가손익 / (평균매입가 * 보유수량) * 100\n",
       "\tvar evaluationProfitRate = evaluationProfitAmount / (0 * 0) * 100;\n",
       "\n",
       "\tvar sPointClass = \"\";\n",
       "\tvar sSign = \"\";\n",
       "\tif (evaluationProfitAmount > 0) {\n",
       "\t\tsPointClass = \"f_up\";\n",
       "\t\tsSign = \"+\";\n",
       "\t} else {\n",
       "\t\tsPointClass = \"f_down\";\n",
       "\t\tsSign = \"\";\n",
       "\t}\n",
       "\n",
       "\tvar evaluationProfitAmoutText = \"\"\n",
       "\tif (evaluationProfitAmount > 10000000000) {\n",
       "\t\tvar evaluationProfitAmountDivideBillion = evaluationProfitAmount / 100000000;\n",
       "\t\tevaluationProfitAmountText = \"<em>\" + sSign + changeNumberFormat(evaluationProfitAmountDivideBillion.toFixed(0)) + \"억</em>\";\n",
       "\t} else {\n",
       "\t\tevaluationProfitAmountText = \"<em>\" + sSign + changeNumberFormat(evaluationProfitAmount) + \"</em>\";\n",
       "\t}\n",
       "\n",
       "\tif (elEvaluationProfitAmount != null) {\n",
       "\t\telEvaluationProfitAmount.removeClass(\"f_up\");\n",
       "\t\telEvaluationProfitAmount.removeClass(\"f_down\");\n",
       "\t\telEvaluationProfitAmount.addClass(sPointClass);\n",
       "\t\telEvaluationProfitAmount.html(evaluationProfitAmountText);\n",
       "\t}\n",
       "\n",
       "\tvar elEvaluationProfitRate = jindo.$Element(jindo.$$.getSingle(\"#evaluation_profit_rate\"));\n",
       "\tif (elEvaluationProfitRate != null) {\n",
       "\n",
       "\t\telEvaluationProfitRate.removeClass(\"f_up\");\n",
       "\t\telEvaluationProfitRate.removeClass(\"f_down\");\n",
       "\t\telEvaluationProfitRate.addClass(sPointClass);\n",
       "\n",
       "\t\telEvaluationProfitRate.html(\"<em>\" + sSign + changeNumberFormat(evaluationProfitRate.toFixed(2)) + \"%</em>\");\n",
       "\t}\n",
       "}\n",
       "\n",
       "\n",
       "function refreshCompanyValue(json) {\n",
       "\tvar sPer = \"N/A\";\n",
       "\tvar sKrxPer = \"N/A\";\n",
       "\t/* if ((json.per !== undefined) && (json.per !== null)) {\n",
       "\t\tsPer = converToFixedPointNotation(json.per, 2);\n",
       "\t}\n",
       "\n",
       "\tjindo.$A(jindo.$$(\"#_per\")).forEach(function(v) {\n",
       "\t\tjindo.$Element(v).text(sPer);\n",
       "\t}, this); */\n",
       "\n",
       "\tif ((json.eps !== undefined) && (json.eps !== null)) {\n",
       "\t\tsPer = converToFixedPointNotation(json.nv / json.eps, 2);\n",
       "\t}\n",
       "\n",
       "\tjindo.$A(jindo.$$(\"#_per\")).forEach(function(v) {\n",
       "\t\tjindo.$Element(v).text(sPer);\n",
       "\t}, this);\n",
       "\n",
       "\tif ((json.keps !== undefined) && (json.keps !== null)) {\n",
       "\t\tsKrxPer = converToFixedPointNotation(json.nv / json.keps, 2);\n",
       "\t}\n",
       "\n",
       "\tjindo.$A(jindo.$$(\"#krx_per\")).forEach(function(v) {\n",
       "\t\tjindo.$Element(v).text(sKrxPer);\n",
       "\t}, this);\n",
       "\n",
       "\tvar sCnsPer = \"N/A\";\n",
       "\tif ((json.cnsEps !== undefined) && (json.cnsEps !== null)) {\n",
       "\t\tsCnsPer = converToFixedPointNotation(json.nv / json.cnsEps, 2);\n",
       "\t}\n",
       "\n",
       "\tjindo.$A(jindo.$$(\"#_cns_per\")).forEach(function(v) {\n",
       "\t\tjindo.$Element(v).text(sCnsPer);\n",
       "\t}, this);\n",
       "\n",
       "\tvar sPbr = \"N/A\";\n",
       "\tif ((json.bps !== undefined) && (json.bps !== null)) {\n",
       "\t\tvar bps = converToFixedPointNotation(json.bps, 0)\n",
       "\t\tsPbr = converToFixedPointNotation(json.nv / bps, 2);\n",
       "\t}\n",
       "\n",
       "\tjindo.$A(jindo.$$(\"#_pbr\")).forEach(function(v) {\n",
       "\t\tjindo.$Element(v).text(sPbr);\n",
       "\t}, this);\n",
       "\n",
       "\tvar sDvr = \"N/A\";\n",
       "\tif ((json.dv !== undefined) && (json.dv !== null)) {\n",
       "\t\tvar dv = converToFixedPointNotation(json.dv, 0)\n",
       "\t\tsDvr = converToFixedPointNotation((dv * 100)/ json.nv, 2);\n",
       "\t}\n",
       "\n",
       "\tjindo.$A(jindo.$$(\"#_dvr\")).forEach(function(v) {\n",
       "\t\tjindo.$Element(v).text(sDvr);\n",
       "\t}, this);\n",
       "}\n",
       "\n",
       "function refreshQuote(res) {\n",
       "\tif(res != null && res.resultCode == 'success') {\n",
       "\t\tpollingInterval = res.result.pollingInterval;\n",
       "\n",
       "\t\tfor (var index = 0 ; index < res.result.areas.length ; index++) {\n",
       "\t\t\tif (res.result.areas[index].name == \"SERVICE_ITEM\") {\n",
       "\t\t\t\tvar ms = \"NOT DEFINED\";\n",
       "\t\t\t\tms = res.result.areas[index].datas[0].ms;\n",
       "\t\t\t\tdocument.getElementById(\"time\").innerHTML = displayTime(ms, res.result.time);\n",
       "\n",
       "\t\t\t\tjindo.$Element(jindo.$$.getSingle(\"#chart_area .rate_info\")).html(jindo.$Template(\"summaryTpl\").process(res.result.areas[index].datas[0]));\n",
       "\n",
       "\t\t\t\trefreshInvestmentSummary(res.result.areas[index].datas[0].nv);\n",
       "\t\t\t\trefreshEtfNav(res.result.areas[index].datas[0].nav);\n",
       "\t\t\t\trefreshCompanyValue(res.result.areas[index].datas[0]);\n",
       "\t\t\t} else if (res.result.areas[index].name == \"SERVICE_RECENT_ITEM\") {\n",
       "\t\t\t\trenderRecentAreaRealtime(\"recent\", res.result.areas[index]);\n",
       "\t\t\t} else if (res.result.areas[index].name == \"SERVICE_MYSTOCK_ITEM\") {\n",
       "\t\t\t\trenderRecentAreaRealtime(\"mystock\", res.result.areas[index]);\n",
       "\t\t\t}\n",
       "\t\t}\n",
       "\t}\n",
       "}\n",
       "\n",
       "function numberFont(value) {\n",
       "\tvalue = value + \"\";\n",
       "\tvar result = \"\";\n",
       "\n",
       "\tfor (i = 0; i < value.length; i++) {\n",
       "\t\tvar tmpChar = value.charAt(i);\n",
       "\n",
       "\t\tresult += '<span class=\"';\n",
       "\t\tif (tmpChar == \".\") {\n",
       "\t\t\tresult += \"jum\";\n",
       "\t\t} else if (tmpChar == \",\") {\n",
       "\t\t\tresult += \"shim\";\n",
       "\t\t} else {\n",
       "\t\t\tresult += \"no\" + tmpChar;\n",
       "\t\t}\n",
       "\t\tresult += '\">' + tmpChar + '</span>';\n",
       "\t}\n",
       "\n",
       "\treturn result;\n",
       "}\n",
       "\n",
       "function changeNumberFormat(vNumber){\n",
       "\tvar sUnderNumber = \"\";\n",
       "\tvar sNumberString = vNumber || 0;\n",
       "\tsNumberString = (typeof sNumberString != \"String\") ? String(sNumberString) : sNumberString;\n",
       "\n",
       "\tif(sNumberString.indexOf(\".\") > -1){\n",
       "\t\tvar aNumber = sNumberString.split(\".\");\n",
       "\t\tsNumberString = aNumber[0];\n",
       "\t\tsUnderNumber = \".\" + aNumber[1];\n",
       "\t}\n",
       "\n",
       "\treturn sNumberString.replace(/(\\d)(?=(\\d{3})+$)/igm, \"$1,\") + sUnderNumber;\n",
       "}\n",
       "\n",
       "function converToFixedPointNotation (nNumber, nDecimalLength){\n",
       "\treturn parseFloat(nNumber).toFixed(nDecimalLength || 0);\n",
       "}\n",
       "\n",
       "// 1분마다 정보 업데이트\n",
       "var updateInformationInterval = 60000;\n",
       "var informationTimer = null;\n",
       "var oUpdateAjax = null;\n",
       "\n",
       "var startInformationTimer = function() {\n",
       "\tclearInformationTimer();\n",
       "\tinformationTimer = setInterval('doUpdateInformation()', updateInformationInterval);\n",
       "}\n",
       "\n",
       "var clearInformationTimer = function() {\n",
       "\tif (oUpdateAjax) {\n",
       "\t\toUpdateAjax.abort();\n",
       "\t\toUpdateAjax = null;\n",
       "\t}\n",
       "\n",
       "\tinformationTimer = window.clearInterval(informationTimer);\n",
       "}\n",
       "\n",
       "var doUpdateInformation = function() {\n",
       "\tvar sApiUrl = \"https://api.finance.naver.com/service/itemSummary.naver?itemcode=066570\"\n",
       "\n",
       "\toUpdateAjax = jindo.$Ajax(sApiUrl, {\n",
       "\t\ttype : 'jsonp',\n",
       "\t\tjsonp_charset : \"utf-8\",\n",
       "\t\tonload : function(response) {\n",
       "\t\t\tif(response != null && response.readyState() == 4) {\n",
       "\t\t\t\tvar json = response.json();\n",
       "\n",
       "\t\t\t\tif (json.now == undefined) {\n",
       "\t\t\t\t\tstartInformationTimer();\n",
       "\t\t\t\t\treturn;\n",
       "\t\t\t\t}\n",
       "\n",
       "\t\t\t\tvar sMarketSum = (json.marketSum + \"\");\n",
       "\t\t\t\tsMarketSum = sMarketSum.substring(0, sMarketSum.length - 2);\n",
       "\t\t\t\tsMarketSum = changeNumberFormat(sMarketSum);\n",
       "\n",
       "\t\t\t\tvar sPer = changeNumberFormat(json.per);\n",
       "\t\t\t\tvar sEps = changeNumberFormat(json.eps);\n",
       "\t\t\t\tvar sNowVal = changeNumberFormat(json.now);\n",
       "\t\t\t\tvar sDiff = changeNumberFormat(json.diff);\n",
       "\t\t\t\tvar sRate = changeNumberFormat(json.rate) + \"%\";\n",
       "\t\t\t\tvar sQuant = changeNumberFormat(json.quant);\n",
       "\t\t\t\tvar sAmount = changeNumberFormat(json.amount);\n",
       "\t\t\t\tvar sHigh = changeNumberFormat(json.high);\n",
       "\t\t\t\tvar sLow = changeNumberFormat(json.low);\n",
       "\n",
       "\t\t\t\tif (sRate == \"0%\") {\n",
       "\t\t\t\t\tsRate = \"0.00%\";\n",
       "\t\t\t\t}\n",
       "\n",
       "\t\t\t\tif (json.per == undefined) {\n",
       "\t\t\t\t\tsPer = \"N/A\";\n",
       "\t\t\t\t}\n",
       "\n",
       "\t\t\t\tif (json.eps == undefined) {\n",
       "\t\t\t\t\tsEps = \"N/A\";\n",
       "\t\t\t\t}\n",
       "\n",
       "\t\t\t\tjindo.$A(jindo.$$(\"#_sise_market_sum\")).forEach(function(v) {\n",
       "\t\t\t\t\tjindo.$Element(v).text(sMarketSum);\n",
       "\t\t\t\t}, this);\n",
       "\n",
       "\t\t\t\tjindo.$A(jindo.$$(\"#_sise_per\")).forEach(function(v) {\n",
       "\t\t\t\t\tjindo.$Element(v).text(sPer);\n",
       "\t\t\t\t}, this);\n",
       "\n",
       "\t\t\t\tjindo.$A(jindo.$$(\"#_sise_eps\")).forEach(function(v) {\n",
       "\t\t\t\t\tjindo.$Element(v).text(sEps);\n",
       "\t\t\t\t}, this);\n",
       "\n",
       "\t\t\t\tjindo.$A(jindo.$$(\"#_nowVal\")).forEach(function(v) {\n",
       "\t\t\t\t\tjindo.$Element(v).text(sNowVal);\n",
       "\t\t\t\t}, this);\n",
       "\n",
       "\t\t\t\tjindo.$A(jindo.$$(\"#_diff\")).forEach(function(v) {\n",
       "\t\t\t\t\tvar sFormat = null;\n",
       "\t\t\t\t\tvar sDiffToDisplay = sDiff.replace(\"-\", \"\");\n",
       "\n",
       "\t\t\t\t\tif (json.risefall == 1) {\n",
       "\t\t\t\t\t\tsFormat = \"<em class=\\\"bu_p bu_pup2\\\" style=\\\"margin:0 4px 0 0\\\"><span class=\\\"blind\\\">상한</span></em><span class=\\\"tah p11 red01\\\">%s</span>\";\n",
       "\t\t\t\t\t} else if (json.risefall == 2) {\n",
       "\t\t\t\t\t\tsFormat = \"<em class=\\\"bu_p bu_pup\\\" style=\\\"margin:0 4px 0 0\\\"><span class=\\\"blind\\\">상승</span></em><span class=\\\"tah p11 red01\\\">%s</span>\";\n",
       "\t\t\t\t\t} else if (json.risefall == 3) {\n",
       "\t\t\t\t\t\tsFormat = \"<span class=\\\"tah p11\\\">%s</span>\";\n",
       "\t\t\t\t\t} else if (json.risefall == 4) {\n",
       "\t\t\t\t\t\tsFormat = \"<em class=\\\"bu_p bu_pdn2\\\" style=\\\"margin:0 4px 0 0\\\"><span class=\\\"blind\\\">하한</span></em><span class=\\\"tah p11 nv01\\\">%s</span>\";\n",
       "\t\t\t\t\t} else {\n",
       "\t\t\t\t\t\tsFormat = \"<em class=\\\"bu_p bu_pdn\\\" style=\\\"margin:0 4px 0 0\\\"><span class=\\\"blind\\\">하락</span></em><span class=\\\"tah p11 nv01\\\">%s</span>\";\n",
       "\t\t\t\t\t}\n",
       "\n",
       "\t\t\t\t\tvar sHtml = jindo.$S(sFormat).format(sDiffToDisplay);\n",
       "\n",
       "\t\t\t\t\tjindo.$Element(v).html(sHtml);\n",
       "\t\t\t\t}, this);\n",
       "\n",
       "\t\t\t\tjindo.$A(jindo.$$(\"#_rate\")).forEach(function(v) {\n",
       "\t\t\t\t\tvar sCss = \"red01\";\n",
       "\t\t\t\t\tvar sRateToDisplay = sRate;\n",
       "\n",
       "\t\t\t\t\tif (sRate.indexOf(\"-\") > -1) {\n",
       "\t\t\t\t\t\tsCss = \"nv01\";\n",
       "\t\t\t\t\t} else if (sRate.indexOf(\"0.00\") > -1) {\n",
       "\t\t\t\t\t\tsCss = \"\";\n",
       "\t\t\t\t\t} else {\n",
       "\t\t\t\t\t\tsRateToDisplay = \"+\" + sRateToDisplay;\n",
       "\t\t\t\t\t}\n",
       "\n",
       "\t\t\t\t\tvar sHtml = \"<span class=\\\"tah p11 \" + sCss + \"\\\">\" + sRateToDisplay + \"</span>\";\n",
       "\t\t\t\t\tjindo.$Element(v).html(sHtml);\n",
       "\t\t\t\t}, this);\n",
       "\n",
       "\t\t\t\tjindo.$A(jindo.$$(\"#_quant\")).forEach(function(v) {\n",
       "\t\t\t\t\tjindo.$Element(v).text(sQuant);\n",
       "\t\t\t\t}, this);\n",
       "\n",
       "\t\t\t\tjindo.$A(jindo.$$(\"#_amount\")).forEach(function(v) {\n",
       "\t\t\t\t\tjindo.$Element(v).text(sAmount);\n",
       "\t\t\t\t}, this);\n",
       "\n",
       "\t\t\t\tjindo.$A(jindo.$$(\"#_high\")).forEach(function(v) {\n",
       "\t\t\t\t\tjindo.$Element(v).text(sHigh);\n",
       "\t\t\t\t}, this);\n",
       "\n",
       "\t\t\t\tjindo.$A(jindo.$$(\"#_low\")).forEach(function(v) {\n",
       "\t\t\t\t\tjindo.$Element(v).text(sLow);\n",
       "\t\t\t\t}, this);\n",
       "\n",
       "\t\t\t\tstartInformationTimer();\n",
       "\t\t\t}\n",
       "\t\t},\n",
       "\t\ttimeout : 2,\n",
       "\t\tontimeout : function() {\n",
       "\t\t\tstartInformationTimer();\n",
       "\t\t},\n",
       "\t\tasync : true\n",
       "\t});\n",
       "\toUpdateAjax.request();\n",
       "}\n",
       "\n",
       "var dateTime = \"20220913161146\";\n",
       "var closeDate = dateTime.substring(0,4) + \".\" + dateTime.substring(4,6) + \".\" + dateTime.substring(6,8);\n",
       "\n",
       "\n",
       "\n",
       "/**\n",
       " * 선택한 타입(1일, 일주일, 3개월, 1년, 3년, 5년 , 10년)에 따라 이미지 차트 변경\n",
       " *\n",
       " * @param chartType 차트종류(1일, 일주일, 3개월, 1년, 3년, 5년, 10년)\n",
       " */\n",
       "// 선 차트 노출\n",
       "function showChart(target) {\n",
       "    jindo.$A(jindo.$$(\"dl.line dd ul li\")).forEach(function(v) {\n",
       "        if (jindo.$Element(v).className() == target) {\n",
       "            jindo.$Element(v).child()[0].addClass(\"on\");\n",
       "            jindo.$Element(jindo.$$.getSingle(\"#img_chart_area\")).attr(\"src\", \"https://ssl.pstatic.net/imgfinance/chart/item/area/\" + target + \"/066570.png?sidcode=1663054844127\");\n",
       "        } else {\n",
       "            jindo.$Element(v).child()[0].removeClass(\"on\");\n",
       "        }\n",
       "    });\n",
       "\n",
       "    jindo.$A(jindo.$$(\"dl.bar dd ul li\")).forEach(function(v) {\n",
       "        jindo.$Element(v).child()[0].removeClass(\"on\");\n",
       "    });\n",
       "\n",
       "}\n",
       "\n",
       "/**\n",
       " * 선택한 타입(일봉, 주봉, 월봉)에 따라 이미지 차트 변경\n",
       " *\n",
       " * @param chartType 차트종류(일봉, 주봉, 월봉)\n",
       " */\n",
       "// 봉 차트 노출\n",
       "function showBarChart(target) {\n",
       "    jindo.$A(jindo.$$(\"dl.bar dd ul li\")).forEach(function(v) {\n",
       "        if (jindo.$Element(v).className() == target) {\n",
       "            jindo.$Element(v).child()[0].addClass(\"on\");\n",
       "            jindo.$Element(jindo.$$.getSingle(\"#img_chart_area\")).attr(\"src\", \"https://ssl.pstatic.net/imgfinance/chart/item/candle/\" + target + \"/066570.png?sidcode=1663054844127\");\n",
       "        } else {\n",
       "            jindo.$Element(v).child()[0].removeClass(\"on\");\n",
       "        }\n",
       "    });\n",
       "\n",
       "    jindo.$A(jindo.$$(\"dl.line dd ul li\")).forEach(function(v) {\n",
       "        jindo.$Element(v).child()[0].removeClass(\"on\");\n",
       "    });\n",
       "}\n",
       "\n",
       "/**\n",
       " * 플래시 지원여부 확인\n",
       " */\n",
       "function isInstalledFlash() {\n",
       "    var aFlash = jindo.$Agent().flash();\n",
       "    var bResult = false;\n",
       "\n",
       "    if (aFlash != null && aFlash.installed) {\n",
       "        bResult = true;\n",
       "    }\n",
       "\n",
       "    return bResult;\n",
       "}\n",
       "\n",
       "/**\n",
       " * 플래시 지원여부에 따라 차트 노출\n",
       " */\n",
       "function initChartArea(flashAreaClassName, htmlAreaClassName) {\n",
       "    var eFlashChartArea = jindo.$Element(jindo.$$.getSingle(\".\" + flashAreaClassName));\n",
       "    var eImgChartArea = jindo.$Element(jindo.$$.getSingle(\".\" + htmlAreaClassName));\n",
       "\n",
       "    if (eFlashChartArea != null && eImgChartArea != null) {\n",
       "        if (isInstalledFlash()) {\n",
       "            eImgChartArea.hide();\n",
       "        } else {\n",
       "            eFlashChartArea.hide();\n",
       "        }\n",
       "    }\n",
       "}\n",
       "\n",
       "</script>\n",
       "<script type=\"text/javascript\">\n",
       "<!--\n",
       "jindo.$Fn(function() {\n",
       "\tvar itemAddLayer = new MyFinance.MyStock.ItemAddLayer(jindo.$$.getSingle('.ly_lstmove'), {\n",
       "\t\t'LayerPosition': {\n",
       "\t\t\tsPosition : \"outside-bottom\",\n",
       "\t\t\tsAlign : \"left\",\n",
       "\t\t\tnTop : 4,\n",
       "\t\t\tnLeft : -96\n",
       "\t\t}\n",
       "\t});\n",
       "\n",
       "\tjindo.$Fn(function(e) {\n",
       "\t\te.stopDefault();\n",
       "\t\titemAddLayer.open(['066570'], e.element);\n",
       "\t}, this).attach(jindo.$$.getSingle('.snb_top1'), 'click');\n",
       "\n",
       "\t\n",
       "}, this).attach(document, 'domready');\n",
       "//-->\n",
       "</script>\n",
       "<script src=\"https://ssl.pstatic.net/imgstock/static.pc/20220907184351/js/release/commonSummary.js\" type=\"text/javascript\"></script>\n",
       "<ul class=\"tabs_submenu tab_total_submenu\">\n",
       "<li class=\"tab_on\"><a class=\"tab1\" href=\"/item/main.naver?code=066570\" onclick=\"clickcr(this,'sop.4','','',event);\"><span>종합정보</span></a></li>\n",
       "<li class=\"\"><a class=\"tab2\" href=\"/item/sise.naver?code=066570\" onclick=\"clickcr(this,'sop.5','','',event);\"><span>시세</span></a></li>\n",
       "<li class=\"\"><a class=\"tab3\" href=\"/item/fchart.naver?code=066570\" onclick=\"clickcr(this,'sop.6','','',event);\"><span>차트</span></a></li>\n",
       "<li class=\"\"><a class=\"tab4\" href=\"/item/frgn.naver?code=066570\" onclick=\"clickcr(this,'sop.10','','',event);\"><span>투자자별 매매동향</span></a></li>\n",
       "<li class=\"\"><a class=\"tab5\" href=\"/item/news.naver?code=066570\" onclick=\"clickcr(this,'sop.7','','',event);\"><span>뉴스·공시</span></a></li>\n",
       "<li class=\"\"><a class=\"tab6\" href=\"/item/coinfo.naver?code=066570\" onclick=\"clickcr(this,'sop.9','','',event);\"><span>종목분석</span></a></li>\n",
       "<li class=\"\"><a class=\"tab7\" href=\"/item/board.naver?code=066570\" onclick=\"clickcr(this,'sop.11','','',event);\"><span>종목토론실</span></a></li>\n",
       "<li class=\"\"><a class=\"tab8\" href=\"/item/dart.naver?code=066570\" onclick=\"clickcr(this,'sop.12','','',event);\"><span>전자공시</span></a></li>\n",
       "<li class=\"\"><a class=\"tab9\" href=\"/item/short_trade.naver?code=066570\" onclick=\"clickcr(this,'sop.13','','',event);\"><span>공매도현황</span></a></li>\n",
       "</ul>\n",
       "<hr/>\n",
       "<h3 class=\"blind\">종합정보</h3>\n",
       "<div class=\"section invest_trend\">\n",
       "<h4 class=\"h_sub sub_tit2\"><span>투자자별 매매동향</span><em style=\"position:relative;left:100px;font-style:normal;font-weight:normal;font-size:11px;color:#666;\">거래원 정보 : 일별 상위 5위 거래원의 누적 정보 기준 (20분 지연)</em></h4>\n",
       "<div class=\"sub_section\">\n",
       "<h5 class=\"h_th th_di\"><span>거래원 정보</span></h5>\n",
       "<table class=\"tb_type1\" summary=\"투자자별 매매동향 시세정보에 대한 표 중 거래원 정보(매도상위, 매수상위, 거래량)를 제공합니다.\">\n",
       "<caption>거래원 정보</caption>\n",
       "<colgroup><col/><col width=\"80\"/><col width=\"90\"/><col width=\"80\"/></colgroup>\n",
       "<thead>\n",
       "<tr>\n",
       "<th class=\"h_th th_sale_top\" scope=\"col\"><span>매도상위</span></th>\n",
       "<th class=\"h_th th_deal_amount\" scope=\"col\"><span>거래량</span></th>\n",
       "<th class=\"h_th th_buy_top\" scope=\"col\"><span>매수상위</span></th>\n",
       "<th class=\"h_th th_deal_amount\" scope=\"col\"><span>거개량</span></th>\n",
       "</tr>\n",
       "</thead>\n",
       "<tfoot>\n",
       "<tr>\n",
       "<td class=\"left\"><strong>외국계추정합</strong></td>\n",
       "<td>\n",
       "<em class=\"f_down\">18,494</em>\n",
       "</td>\n",
       "<td class=\"left\">\n",
       "<em class=\"f_up\">\n",
       "\t\t\t\t+28,572\n",
       "\t\t\t\t</em>\n",
       "</td>\n",
       "<td>\n",
       "<em class=\"f_up\">47,066</em>\n",
       "</td>\n",
       "</tr>\n",
       "</tfoot>\n",
       "<tbody>\n",
       "<tr><td class=\"space\"></td></tr>\n",
       "<tr>\n",
       "<td class=\"left\">키움증권</td>\n",
       "<td><em>97,924</em></td>\n",
       "<td class=\"left\">신한금융투자</td>\n",
       "<td><em>123,641</em></td>\n",
       "</tr>\n",
       "<tr>\n",
       "<td class=\"left\">미래에셋증권</td>\n",
       "<td><em>72,384</em></td>\n",
       "<td class=\"left\">한국증권</td>\n",
       "<td><em>81,904</em></td>\n",
       "</tr>\n",
       "<tr>\n",
       "<td class=\"left\">삼성</td>\n",
       "<td><em>64,334</em></td>\n",
       "<td class=\"left\">NH투자증권</td>\n",
       "<td><em>56,330</em></td>\n",
       "</tr>\n",
       "<tr>\n",
       "<td class=\"left\">한국증권</td>\n",
       "<td><em>62,262</em></td>\n",
       "<td class=\"left\">미래에셋증권</td>\n",
       "<td><em>48,051</em></td>\n",
       "</tr>\n",
       "<tr>\n",
       "<td class=\"left\">신한금융투자</td>\n",
       "<td><em>59,064</em></td>\n",
       "<td class=\"left\"><span class=\"f_up\">제이피모간</span></td>\n",
       "<td><em class=\"f_up\">47,066</em></td>\n",
       "</tr>\n",
       "</tbody>\n",
       "</table>\n",
       "</div>\n",
       "<div class=\"sub_section right\">\n",
       "<h5 class=\"h_th th_fo\"><span>외국인 기관</span></h5>\n",
       "<table class=\"tb_type1\" summary=\"투자자별 매매동향 시세정보에 대한 표 중 외국인 기관 정보(날짜, 종가, 전일비, 외국인, 기관)를 제공합니다.\">\n",
       "<caption>외국인 기관</caption>\n",
       "<colgroup><col width=\"50\"/><col width=\"65\"/><col width=\"70\"/><col width=\"70\"/><col/></colgroup>\n",
       "<thead>\n",
       "<tr>\n",
       "<th class=\"h_th th_date\"><span>날짜</span></th>\n",
       "<th class=\"h_th th_pass_price\" scope=\"col\"><span>종가</span></th>\n",
       "<th class=\"h_th th_pass_day\" scope=\"col\"><span>전일비</span></th>\n",
       "<th class=\"h_th th_foreigner\" scope=\"col\"><span>외국인</span></th>\n",
       "<th class=\"h_th th_organ\" scope=\"col\"><span>기관</span></th>\n",
       "</tr>\n",
       "</thead>\n",
       "<tbody>\n",
       "<tr><td class=\"space\"></td></tr>\n",
       "<tr>\n",
       "<th scope=\"row\">09/08</th>\n",
       "<td><em>93,800</em></td>\n",
       "<td>\n",
       "<em class=\"f_down down\"><span>하향</span>\n",
       "\t\t\t\t600\n",
       "\t\t\t\t</em>\n",
       "</td>\n",
       "<td>\n",
       "<em class=\"f_down\">\n",
       "\t\t\t\t-153,882\n",
       "\t\t\t\t</em>\n",
       "</td>\n",
       "<td>\n",
       "<em class=\"f_up\">\n",
       "\t\t\t\t+61,180\n",
       "\t\t\t\t</em>\n",
       "</td>\n",
       "</tr>\n",
       "<tr>\n",
       "<th scope=\"row\">09/07</th>\n",
       "<td><em>94,400</em></td>\n",
       "<td>\n",
       "<em class=\"f_down down\"><span>하향</span>\n",
       "\t\t\t\t2,400\n",
       "\t\t\t\t</em>\n",
       "</td>\n",
       "<td>\n",
       "<em class=\"f_down\">\n",
       "\t\t\t\t-111,190\n",
       "\t\t\t\t</em>\n",
       "</td>\n",
       "<td>\n",
       "<em class=\"f_down\">\n",
       "\t\t\t\t-77,238\n",
       "\t\t\t\t</em>\n",
       "</td>\n",
       "</tr>\n",
       "<tr>\n",
       "<th scope=\"row\">09/06</th>\n",
       "<td><em>96,800</em></td>\n",
       "<td>\n",
       "<em class=\"f_down down\"><span>하향</span>\n",
       "\t\t\t\t400\n",
       "\t\t\t\t</em>\n",
       "</td>\n",
       "<td>\n",
       "<em class=\"f_down\">\n",
       "\t\t\t\t-47,617\n",
       "\t\t\t\t</em>\n",
       "</td>\n",
       "<td>\n",
       "<em class=\"f_down\">\n",
       "\t\t\t\t-34,304\n",
       "\t\t\t\t</em>\n",
       "</td>\n",
       "</tr>\n",
       "<tr>\n",
       "<th scope=\"row\">09/05</th>\n",
       "<td><em>97,200</em></td>\n",
       "<td>\n",
       "<em class=\"f_down down\"><span>하향</span>\n",
       "\t\t\t\t100\n",
       "\t\t\t\t</em>\n",
       "</td>\n",
       "<td>\n",
       "<em class=\"f_up\">\n",
       "\t\t\t\t+12,299\n",
       "\t\t\t\t</em>\n",
       "</td>\n",
       "<td>\n",
       "<em class=\"f_up\">\n",
       "\t\t\t\t+11,876\n",
       "\t\t\t\t</em>\n",
       "</td>\n",
       "</tr>\n",
       "<tr>\n",
       "<th scope=\"row\">09/02</th>\n",
       "<td><em>97,300</em></td>\n",
       "<td>\n",
       "<em class=\"f_down down\"><span>하향</span>\n",
       "\t\t\t\t400\n",
       "\t\t\t\t</em>\n",
       "</td>\n",
       "<td>\n",
       "<em class=\"f_down\">\n",
       "\t\t\t\t-9,214\n",
       "\t\t\t\t</em>\n",
       "</td>\n",
       "<td>\n",
       "<em class=\"f_down\">\n",
       "\t\t\t\t-17,997\n",
       "\t\t\t\t</em>\n",
       "</td>\n",
       "</tr>\n",
       "<tr>\n",
       "<th scope=\"row\">09/01</th>\n",
       "<td><em>97,700</em></td>\n",
       "<td>\n",
       "<em class=\"f_down down\"><span>하향</span>\n",
       "\t\t\t\t3,300\n",
       "\t\t\t\t</em>\n",
       "</td>\n",
       "<td>\n",
       "<em class=\"f_down\">\n",
       "\t\t\t\t-114,863\n",
       "\t\t\t\t</em>\n",
       "</td>\n",
       "<td>\n",
       "<em class=\"f_down\">\n",
       "\t\t\t\t-48,942\n",
       "\t\t\t\t</em>\n",
       "</td>\n",
       "</tr>\n",
       "<tr><td class=\"space2\"></td></tr>\n",
       "</tbody>\n",
       "</table>\n",
       "</div>\n",
       "<div class=\"dummy\"></div>\n",
       "<a class=\"more\" href=\"/item/frgn.naver?code=066570\" onclick=\"clickcr(this, 'dle.7', '', '', event);\">더보기</a>\n",
       "</div>\n",
       "<hr/>\n",
       "<div class=\"section new_bbs\">\n",
       "<div class=\"sub_section news_section\">\n",
       "<h4 class=\"h_sub sub_tit3\"><span>뉴스공시</span></h4>\n",
       "<ul>\n",
       "<li>\n",
       "<span class=\"txt\">\n",
       "<a href=\"/item/news_read.naver?article_id=0004897636&amp;office_id=014&amp;code=066570&amp;sm=title_entity_id.basic\" onclick=\"clickcr(this, 'dle.1', '', '1', event);\">삼성·LG전자, K-디자인으로 '세계...</a>\n",
       "<a class=\"link_relation\" href=\"/item/news.naver?code=066570&amp;clusterId=0140004897636\" onclick=\"clickcr(this, 'dle.11', '', '', event);\"><span class=\"bar\"></span>관련 <em>2</em>건</a>\n",
       "</span>\n",
       "<em> 09/13</em>\n",
       "</li>\n",
       "<li>\n",
       "<span class=\"txt\">\n",
       "<a href=\"/item/news_read.naver?article_id=0002039976&amp;office_id=016&amp;code=066570&amp;sm=title_entity_id.basic\" onclick=\"clickcr(this, 'dle.1', '', '2', event);\">삼성·LG전자 ‘IDEA 2022’ 55개...</a>\n",
       "<a class=\"link_relation\" href=\"/item/news.naver?code=066570&amp;clusterId=0160002039976\" onclick=\"clickcr(this, 'dle.11', '', '', event);\"><span class=\"bar\"></span>관련 <em>3</em>건</a>\n",
       "</span>\n",
       "<em> 09/13</em>\n",
       "</li>\n",
       "<li>\n",
       "<span class=\"txt\">\n",
       "<a href=\"/item/news_read.naver?article_id=0002039973&amp;office_id=016&amp;code=066570&amp;sm=title_entity_id.basic\" onclick=\"clickcr(this, 'dle.1', '', '3', event);\">LG전자, IDEA 대거 수상…최고상은...</a>\n",
       "<a class=\"link_relation\" href=\"/item/news.naver?code=066570&amp;clusterId=0160002039973\" onclick=\"clickcr(this, 'dle.11', '', '', event);\"><span class=\"bar\"></span>관련 <em>2</em>건</a>\n",
       "</span>\n",
       "<em> 09/13</em>\n",
       "</li>\n",
       "<li>\n",
       "<span class=\"txt\">\n",
       "<a href=\"/item/news_read.naver?article_id=0004897449&amp;office_id=014&amp;code=066570&amp;sm=title_entity_id.basic\" onclick=\"clickcr(this, 'dle.1', '', '4', event);\">\"화병이야 스피커야?\"...LG전자, ...</a>\n",
       "<a class=\"link_relation\" href=\"/item/news.naver?code=066570&amp;clusterId=0140004897449\" onclick=\"clickcr(this, 'dle.11', '', '', event);\"><span class=\"bar\"></span>관련 <em>3</em>건</a>\n",
       "</span>\n",
       "<em> 09/13</em>\n",
       "</li>\n",
       "<li>\n",
       "<span class=\"txt\">\n",
       "<a href=\"/item/news_read.naver?article_id=0005315008&amp;office_id=018&amp;code=066570&amp;sm=title_entity_id.basic\" onclick=\"clickcr(this, 'dle.1', '', '5', event);\">“음악으로 공간 360도 채운다” L...</a>\n",
       "<a class=\"link_relation\" href=\"/item/news.naver?code=066570&amp;clusterId=0180005315008\" onclick=\"clickcr(this, 'dle.11', '', '', event);\"><span class=\"bar\"></span>관련 <em>2</em>건</a>\n",
       "</span>\n",
       "<em> 09/13</em>\n",
       "</li>\n",
       "</ul><ul class=\"line_dot\"></ul>\n",
       "<li>\n",
       "<span class=\"txt\">\n",
       "<a href=\"/item/news_read.naver?article_id=0002039592&amp;office_id=016&amp;code=066570&amp;sm=title_entity_id.basic\" onclick=\"clickcr(this, 'dle.1', '', '6', event);\">LG전자, 미래사업 발굴 위해 스타...</a>\n",
       "<a class=\"link_relation\" href=\"/item/news.naver?code=066570&amp;clusterId=0160002039592\" onclick=\"clickcr(this, 'dle.11', '', '', event);\"><span class=\"bar\"></span>관련 <em>4</em>건</a>\n",
       "</span>\n",
       "<em> 09/12</em>\n",
       "</li>\n",
       "<li>\n",
       "<span class=\"txt\">\n",
       "<a href=\"/item/news_read.naver?article_id=0005016021&amp;office_id=009&amp;code=066570&amp;sm=title_entity_id.basic\" onclick=\"clickcr(this, 'dle.1', '', '7', event);\">LG전자, 글로벌 스타트업과 손잡고...</a>\n",
       "<a class=\"link_relation\" href=\"/item/news.naver?code=066570&amp;clusterId=0090005016021\" onclick=\"clickcr(this, 'dle.11', '', '', event);\"><span class=\"bar\"></span>관련 <em>4</em>건</a>\n",
       "</span>\n",
       "<em> 09/12</em>\n",
       "</li>\n",
       "<li>\n",
       "<span class=\"txt\">\n",
       "<a href=\"/item/news_read.naver?article_id=0004896410&amp;office_id=014&amp;code=066570&amp;sm=title_entity_id.basic\" onclick=\"clickcr(this, 'dle.1', '', '8', event);\">삼성·LG전자, 추석 연휴에도 냉장고 등 긴급 수리 ...</a>\n",
       "</span>\n",
       "<em> 09/09</em>\n",
       "</li>\n",
       "<li>\n",
       "<span class=\"txt\">\n",
       "<a href=\"/item/news_read.naver?article_id=0000062019&amp;office_id=050&amp;code=066570&amp;sm=title_entity_id.basic\" onclick=\"clickcr(this, 'dle.1', '', '9', event);\">베일 벗은 LG전자의 신가전 다음 타자 ‘신발 전용 ...</a>\n",
       "</span>\n",
       "<em> 09/09</em>\n",
       "</li>\n",
       "<li>\n",
       "<span class=\"txt\">\n",
       "<a href=\"/item/news_read.naver?article_id=0004097346&amp;office_id=011&amp;code=066570&amp;sm=title_entity_id.basic\" onclick=\"clickcr(this, 'dle.1', '', '10', event);\">[태풍 피해복구 앞장서는 기업들] LG전자, 가전제품...</a>\n",
       "</span>\n",
       "<em> 09/08</em>\n",
       "</li>\n",
       "\n",
       "<a class=\"more\" href=\"/item/news.naver?code=066570\" onclick=\"clickcr(this, 'dle.2', '', '', event);\">더보기</a>\n",
       "</div>\n",
       "<div class=\"sub_section right\">\n",
       "<h4 class=\"h_sub sub_tit4\"><span>종목토론실</span><a href=\"/item/board_write_edit.naver?code=066570&amp;mode=write\" onclick=\"clickcr(this, 'dle.16', '', '', event);\" style=\"position:relative;left:60px\"><img alt=\"글쓰기\" height=\"18\" src=\"https://ssl.pstatic.net/imgstock/item_renewal/btn_write_n.gif\" width=\"42\"/></a></h4>\n",
       "<ul>\n",
       "<li>\n",
       "<span class=\"txt\">\n",
       "<a href=\"/item/board_read.naver?code=066570&amp;nid=230267634\" onclick=\"clickcr(this, 'dle.3', '', '1', event);\">\n",
       "\t\t\t\t\t\t시간외 폭등중이네 ㄷㄷㄷ 뭔일있나 ㄷㄷㄷ</a><em class=\"ea_reply\">[4]</em><img alt=\"new\" height=\"8\" src=\"https://ssl.pstatic.net/imgstock/item_renewal/ico_new.gif\" width=\"8\"/>\n",
       "</span>\n",
       "<em>09/13 16:07</em>\n",
       "</li>\n",
       "<li>\n",
       "<span class=\"txt\">\n",
       "<a href=\"/item/board_read.naver?code=066570&amp;nid=230267051\" onclick=\"clickcr(this, 'dle.3', '', '2', event);\">\n",
       "\t\t\t\t\t\t금일 밤 미 Cpi (yoy)</a><em class=\"ea_reply\">[1]</em><img alt=\"new\" height=\"8\" src=\"https://ssl.pstatic.net/imgstock/item_renewal/ico_new.gif\" width=\"8\"/>\n",
       "</span>\n",
       "<em>09/13 16:02</em>\n",
       "</li>\n",
       "<li>\n",
       "<span class=\"txt\">\n",
       "<a href=\"/item/board_read.naver?code=066570&amp;nid=230266247\" onclick=\"clickcr(this, 'dle.3', '', '3', event);\">\n",
       "\t\t\t\t\t\t민정이 야는 갈수록 낮빠닥이 마귀할멈닮아가네 맘뽀</a><img alt=\"new\" height=\"8\" src=\"https://ssl.pstatic.net/imgstock/item_renewal/ico_new.gif\" width=\"8\"/>\n",
       "</span>\n",
       "<em>09/13 15:54</em>\n",
       "</li>\n",
       "<li>\n",
       "<span class=\"txt\">\n",
       "<a href=\"/item/board_read.naver?code=066570&amp;nid=230266142\" onclick=\"clickcr(this, 'dle.3', '', '4', event);\">\n",
       "\t\t\t\t\t\t2021 17.3 500주</a><em class=\"ea_reply\">[2]</em><img alt=\"new\" height=\"8\" src=\"https://ssl.pstatic.net/imgstock/item_renewal/ico_new.gif\" width=\"8\"/>\n",
       "</span>\n",
       "<em>09/13 15:53</em>\n",
       "</li>\n",
       "<li>\n",
       "<span class=\"txt\">\n",
       "<a href=\"/item/board_read.naver?code=066570&amp;nid=230264819\" onclick=\"clickcr(this, 'dle.3', '', '5', event);\">\n",
       "\t\t\t\t\t\t단타꾼들의 작전--99500매도   종가기준10000원 상승</a><img alt=\"new\" height=\"8\" src=\"https://ssl.pstatic.net/imgstock/item_renewal/ico_new.gif\" width=\"8\"/>\n",
       "</span>\n",
       "<em>09/13 15:42</em>\n",
       "</li>\n",
       "</ul>\n",
       "<ul class=\"line_dot\">\n",
       "<li>\n",
       "<span class=\"txt\">\n",
       "<a href=\"/item/board_read.naver?code=066570&amp;nid=230260496\" onclick=\"clickcr(this, 'dle.3', '', '6', event);\">\n",
       "\t\t\t\t\t\t어찌삼전보다 더 무겁노</a><img alt=\"new\" height=\"8\" src=\"https://ssl.pstatic.net/imgstock/item_renewal/ico_new.gif\" width=\"8\"/>\n",
       "</span>\n",
       "<em>09/13 15:15</em>\n",
       "</li>\n",
       "<li>\n",
       "<span class=\"txt\">\n",
       "<a href=\"/item/board_read.naver?code=066570&amp;nid=230260103\" onclick=\"clickcr(this, 'dle.3', '', '7', event);\">\n",
       "\t\t\t\t\t\t98000 넘사벽</a><img alt=\"new\" height=\"8\" src=\"https://ssl.pstatic.net/imgstock/item_renewal/ico_new.gif\" width=\"8\"/>\n",
       "</span>\n",
       "<em>09/13 15:13</em>\n",
       "</li>\n",
       "<li>\n",
       "<span class=\"txt\">\n",
       "<a href=\"/item/board_read.naver?code=066570&amp;nid=230254207\" onclick=\"clickcr(this, 'dle.3', '', '8', event);\">\n",
       "\t\t\t\t\t\t와 주식 거품봐라 주식사고 싶겠냐?</a><img alt=\"new\" height=\"8\" src=\"https://ssl.pstatic.net/imgstock/item_renewal/ico_new.gif\" width=\"8\"/>\n",
       "</span>\n",
       "<em>09/13 14:37</em>\n",
       "</li>\n",
       "<li>\n",
       "<span class=\"txt\">\n",
       "<a href=\"/item/board_read.naver?code=066570&amp;nid=230244983\" onclick=\"clickcr(this, 'dle.3', '', '9', event);\">\n",
       "\t\t\t\t\t\t희망회로 돌리는 바보 없제</a><em class=\"ea_reply\">[9]</em><img alt=\"new\" height=\"8\" src=\"https://ssl.pstatic.net/imgstock/item_renewal/ico_new.gif\" width=\"8\"/>\n",
       "</span>\n",
       "<em>09/13 13:27</em>\n",
       "</li>\n",
       "<li>\n",
       "<span class=\"txt\">\n",
       "<a href=\"/item/board_read.naver?code=066570&amp;nid=230243688\" onclick=\"clickcr(this, 'dle.3', '', '10', event);\">\n",
       "\t\t\t\t\t\t헬지전자는 왜 시총이 15조에요?</a><em class=\"ea_reply\">[1]</em><img alt=\"new\" height=\"8\" src=\"https://ssl.pstatic.net/imgstock/item_renewal/ico_new.gif\" width=\"8\"/>\n",
       "</span>\n",
       "<em>09/13 13:15</em>\n",
       "</li>\n",
       "</ul>\n",
       "<a class=\"more\" href=\"/item/board.naver?code=066570\" onclick=\"clickcr(this, 'dle.4', '', '', event);\">더보기</a>\n",
       "</div>\n",
       "</div>\n",
       "<hr/>\n",
       "<div class=\"section cop_analysis\">\n",
       "<h4 class=\"h_sub sub_tit6\"><span>기업실적분석</span></h4>\n",
       "<div class=\"sub_section\">\n",
       "<table class=\"tb_type1 tb_num tb_type1_ifrs\" summary=\"기업실적분석에 관한표이며 주요재무정보를 최근 연간 실적, 분기 실적에 따라 정보를 제공합니다.\">\n",
       "<caption>기업실적분석 테이블</caption>\n",
       "<colgroup>\n",
       "<col width=\"86\"/>\n",
       "<col width=\"59\"/>\n",
       "<col width=\"59\"/>\n",
       "<col width=\"59\"/>\n",
       "<col width=\"62\"/>\n",
       "<col width=\"58\"/>\n",
       "<col width=\"58\"/>\n",
       "<col width=\"58\"/>\n",
       "<col width=\"58\"/>\n",
       "<col/>\n",
       "</colgroup>\n",
       "<thead>\n",
       "<tr class=\"t_line\">\n",
       "<th class=\"h_th2 th_cop_anal5 b_line\" rowspan=\"3\"><strong>주요재무정보</strong></th>\n",
       "<th class=\"h_th2 th_cop_anal6\" colspan=\"4\" scope=\"col\"><strong>최근 연간 실적</strong></th>\n",
       "<th class=\"h_th2 th_cop_anal7 last\" colspan=\"6\" scope=\"col\"><strong>최근 분기 실적</strong></th>\n",
       "</tr>\n",
       "<tr>\n",
       "<th class=\"\" scope=\"col\">\n",
       "\t\t\t\t\t\t\t\t\t\t\t2019.12\n",
       "\t\t\t\t\t\t\t\t\t\t</th>\n",
       "<th class=\"\" scope=\"col\">\n",
       "\t\t\t\t\t\t\t\t\t\t\t2020.12\n",
       "\t\t\t\t\t\t\t\t\t\t</th>\n",
       "<th class=\"\" scope=\"col\">\n",
       "\t\t\t\t\t\t\t\t\t\t\t2021.12\n",
       "\t\t\t\t\t\t\t\t\t\t</th>\n",
       "<th class=\"t_line cell_strong\" scope=\"col\">\n",
       "\t\t\t\t\t\t\t\t\t\t\t2022.12<em>(E)</em>\n",
       "</th>\n",
       "<th class=\"\" scope=\"col\">\n",
       "\t\t\t\t\t\t\t\t\t\t\t2021.06\n",
       "\t\t\t\t\t\t\t\t\t\t</th>\n",
       "<th class=\"\" scope=\"col\">\n",
       "\t\t\t\t\t\t\t\t\t\t\t2021.09\n",
       "\t\t\t\t\t\t\t\t\t\t</th>\n",
       "<th class=\"\" scope=\"col\">\n",
       "\t\t\t\t\t\t\t\t\t\t\t2021.12\n",
       "\t\t\t\t\t\t\t\t\t\t</th>\n",
       "<th class=\"\" scope=\"col\">\n",
       "\t\t\t\t\t\t\t\t\t\t\t2022.03\n",
       "\t\t\t\t\t\t\t\t\t\t</th>\n",
       "<th class=\"\" scope=\"col\">\n",
       "\t\t\t\t\t\t\t\t\t\t\t2022.06\n",
       "\t\t\t\t\t\t\t\t\t\t</th>\n",
       "<th class=\"last cell_strong\" scope=\"col\">\n",
       "\t\t\t\t\t\t\t\t\t\t\t2022.09<em>(E)</em>\n",
       "</th>\n",
       "</tr>\n",
       "<tr class=\"b_line\">\n",
       "<th class=\"link_ifrs\" scope=\"col\"><span>\n",
       "\t\t\t\t\t\t\t\t\t\t\n",
       "\t\t\t\t\t\t\t\t\t\t\t\n",
       "\t\t\t\t\t\t\t\t\t\t\t\n",
       "\t\t\t\t\t\t\t\t\t\t\tIFRS연결\n",
       "\t\t\t\t\t\t\t\t\t\t\n",
       "\t\t\t\t\t\t\t\t\t</span></th>\n",
       "<th class=\"link_ifrs\" scope=\"col\"><span>\n",
       "\t\t\t\t\t\t\t\t\t\t\n",
       "\t\t\t\t\t\t\t\t\t\t\t\n",
       "\t\t\t\t\t\t\t\t\t\t\t\n",
       "\t\t\t\t\t\t\t\t\t\t\tIFRS연결\n",
       "\t\t\t\t\t\t\t\t\t\t\n",
       "\t\t\t\t\t\t\t\t\t</span></th>\n",
       "<th class=\"link_ifrs\" scope=\"col\"><span>\n",
       "\t\t\t\t\t\t\t\t\t\t\n",
       "\t\t\t\t\t\t\t\t\t\t\t\n",
       "\t\t\t\t\t\t\t\t\t\t\t\n",
       "\t\t\t\t\t\t\t\t\t\t\tIFRS연결\n",
       "\t\t\t\t\t\t\t\t\t\t\n",
       "\t\t\t\t\t\t\t\t\t</span></th>\n",
       "<th class=\"link_ifrs t_line cell_strong\" scope=\"col\"><span>\n",
       "\t\t\t\t\t\t\t\t\t\t\n",
       "\t\t\t\t\t\t\t\t\t\t\t\n",
       "\t\t\t\t\t\t\t\t\t\t\t\n",
       "\t\t\t\t\t\t\t\t\t\t\tIFRS연결\n",
       "\t\t\t\t\t\t\t\t\t\t\n",
       "\t\t\t\t\t\t\t\t\t</span></th>\n",
       "<th class=\"link_ifrs\" scope=\"col\"><span>\n",
       "\t\t\t\t\t\t\t\t\t\t\n",
       "\t\t\t\t\t\t\t\t\t\t\t\n",
       "\t\t\t\t\t\t\t\t\t\t\t\n",
       "\t\t\t\t\t\t\t\t\t\t\tIFRS연결\n",
       "\t\t\t\t\t\t\t\t\t\t\n",
       "\t\t\t\t\t\t\t\t\t</span></th>\n",
       "<th class=\"link_ifrs\" scope=\"col\"><span>\n",
       "\t\t\t\t\t\t\t\t\t\t\n",
       "\t\t\t\t\t\t\t\t\t\t\t\n",
       "\t\t\t\t\t\t\t\t\t\t\t\n",
       "\t\t\t\t\t\t\t\t\t\t\tIFRS연결\n",
       "\t\t\t\t\t\t\t\t\t\t\n",
       "\t\t\t\t\t\t\t\t\t</span></th>\n",
       "<th class=\"link_ifrs\" scope=\"col\"><span>\n",
       "\t\t\t\t\t\t\t\t\t\t\n",
       "\t\t\t\t\t\t\t\t\t\t\t\n",
       "\t\t\t\t\t\t\t\t\t\t\t\n",
       "\t\t\t\t\t\t\t\t\t\t\tIFRS연결\n",
       "\t\t\t\t\t\t\t\t\t\t\n",
       "\t\t\t\t\t\t\t\t\t</span></th>\n",
       "<th class=\"link_ifrs\" scope=\"col\"><span>\n",
       "\t\t\t\t\t\t\t\t\t\t\n",
       "\t\t\t\t\t\t\t\t\t\t\t\n",
       "\t\t\t\t\t\t\t\t\t\t\t\n",
       "\t\t\t\t\t\t\t\t\t\t\tIFRS연결\n",
       "\t\t\t\t\t\t\t\t\t\t\n",
       "\t\t\t\t\t\t\t\t\t</span></th>\n",
       "<th class=\"link_ifrs\" scope=\"col\"><span>\n",
       "\t\t\t\t\t\t\t\t\t\t\n",
       "\t\t\t\t\t\t\t\t\t\t\t\n",
       "\t\t\t\t\t\t\t\t\t\t\t\n",
       "\t\t\t\t\t\t\t\t\t\t\tIFRS연결\n",
       "\t\t\t\t\t\t\t\t\t\t\n",
       "\t\t\t\t\t\t\t\t\t</span></th>\n",
       "<th class=\"link_ifrs last cell_strong\" scope=\"col\"><span>\n",
       "\t\t\t\t\t\t\t\t\t\t\n",
       "\t\t\t\t\t\t\t\t\t\t\t\n",
       "\t\t\t\t\t\t\t\t\t\t\t\n",
       "\t\t\t\t\t\t\t\t\t\t\tIFRS연결\n",
       "\t\t\t\t\t\t\t\t\t\t\n",
       "\t\t\t\t\t\t\t\t\t</span></th>\n",
       "</tr>\n",
       "</thead>\n",
       "<tbody>\n",
       "<tr>\n",
       "<th class=\"h_th2 th_cop_anal8\" scope=\"row\"><strong>매출액</strong></th>\n",
       "<td class=\"\">\n",
       "\t\t\t\t\t\t\t\t\t\t\t\n",
       "\t\t\t\t\t\t\t\t\t\t\t\n",
       "\t\t\t\t\t\t\t\t\t\t\t\t\n",
       "\t\t\t\t623,062\n",
       "\t\t\t\n",
       "\t\t\t\t\t\t\t\t\t\t\t\n",
       "\t\t\t\t\t\t\t\t\t\t</td>\n",
       "<td class=\"\">\n",
       "\t\t\t\t\t\t\t\t\t\t\t\n",
       "\t\t\t\t\t\t\t\t\t\t\t\n",
       "\t\t\t\t\t\t\t\t\t\t\t\t\n",
       "\t\t\t\t580,579\n",
       "\t\t\t\n",
       "\t\t\t\t\t\t\t\t\t\t\t\n",
       "\t\t\t\t\t\t\t\t\t\t</td>\n",
       "<td class=\"\">\n",
       "\t\t\t\t\t\t\t\t\t\t\t\n",
       "\t\t\t\t\t\t\t\t\t\t\t\n",
       "\t\t\t\t\t\t\t\t\t\t\t\t\n",
       "\t\t\t\t747,216\n",
       "\t\t\t\n",
       "\t\t\t\t\t\t\t\t\t\t\t\n",
       "\t\t\t\t\t\t\t\t\t\t</td>\n",
       "<td class=\"t_line cell_strong\">\n",
       "\t\t\t\t\t\t\t\t\t\t\t\n",
       "\t\t\t\t\t\t\t\t\t\t\t\n",
       "\t\t\t\t\t\t\t\t\t\t\t\t\n",
       "\t\t\t\t825,770\n",
       "\t\t\t\n",
       "\t\t\t\t\t\t\t\t\t\t\t\n",
       "\t\t\t\t\t\t\t\t\t\t</td>\n",
       "<td class=\"\">\n",
       "\t\t\t\t\t\t\t\t\t\t\t\n",
       "\t\t\t\t\t\t\t\t\t\t\t\n",
       "\t\t\t\t\t\t\t\t\t\t\t\t\n",
       "\t\t\t\t171,139\n",
       "\t\t\t\n",
       "\t\t\t\t\t\t\t\t\t\t\t\n",
       "\t\t\t\t\t\t\t\t\t\t</td>\n",
       "<td class=\"\">\n",
       "\t\t\t\t\t\t\t\t\t\t\t\n",
       "\t\t\t\t\t\t\t\t\t\t\t\n",
       "\t\t\t\t\t\t\t\t\t\t\t\t\n",
       "\t\t\t\t187,867\n",
       "\t\t\t\n",
       "\t\t\t\t\t\t\t\t\t\t\t\n",
       "\t\t\t\t\t\t\t\t\t\t</td>\n",
       "<td class=\"\">\n",
       "\t\t\t\t\t\t\t\t\t\t\t\n",
       "\t\t\t\t\t\t\t\t\t\t\t\n",
       "\t\t\t\t\t\t\t\t\t\t\t\t\n",
       "\t\t\t\t210,087\n",
       "\t\t\t\n",
       "\t\t\t\t\t\t\t\t\t\t\t\n",
       "\t\t\t\t\t\t\t\t\t\t</td>\n",
       "<td class=\"\">\n",
       "\t\t\t\t\t\t\t\t\t\t\t\n",
       "\t\t\t\t\t\t\t\t\t\t\t\n",
       "\t\t\t\t\t\t\t\t\t\t\t\t\n",
       "\t\t\t\t211,114\n",
       "\t\t\t\n",
       "\t\t\t\t\t\t\t\t\t\t\t\n",
       "\t\t\t\t\t\t\t\t\t\t</td>\n",
       "<td class=\"\">\n",
       "\t\t\t\t\t\t\t\t\t\t\t\n",
       "\t\t\t\t\t\t\t\t\t\t\t\n",
       "\t\t\t\t\t\t\t\t\t\t\t\t\n",
       "\t\t\t\t194,640\n",
       "\t\t\t\n",
       "\t\t\t\t\t\t\t\t\t\t\t\n",
       "\t\t\t\t\t\t\t\t\t\t</td>\n",
       "<td class=\"last cell_strong\">\n",
       "\t\t\t\t\t\t\t\t\t\t\t\n",
       "\t\t\t\t\t\t\t\t\t\t\t\n",
       "\t\t\t\t\t\t\t\t\t\t\t\t\n",
       "\t\t\t\t201,644\n",
       "\t\t\t\n",
       "\t\t\t\t\t\t\t\t\t\t\t\n",
       "\t\t\t\t\t\t\t\t\t\t</td>\n",
       "</tr>\n",
       "<tr>\n",
       "<th class=\"h_th2 th_cop_anal9\" scope=\"row\"><strong>영업이익</strong></th>\n",
       "<td class=\"\">\n",
       "\t\t\t\t\t\t\t\t\t\t\t\n",
       "\t\t\t\t\t\t\t\t\t\t\t\n",
       "\t\t\t\t\t\t\t\t\t\t\t\t\n",
       "\t\t\t\t24,361\n",
       "\t\t\t\n",
       "\t\t\t\t\t\t\t\t\t\t\t\n",
       "\t\t\t\t\t\t\t\t\t\t</td>\n",
       "<td class=\"\">\n",
       "\t\t\t\t\t\t\t\t\t\t\t\n",
       "\t\t\t\t\t\t\t\t\t\t\t\n",
       "\t\t\t\t\t\t\t\t\t\t\t\t\n",
       "\t\t\t\t39,051\n",
       "\t\t\t\n",
       "\t\t\t\t\t\t\t\t\t\t\t\n",
       "\t\t\t\t\t\t\t\t\t\t</td>\n",
       "<td class=\"\">\n",
       "\t\t\t\t\t\t\t\t\t\t\t\n",
       "\t\t\t\t\t\t\t\t\t\t\t\n",
       "\t\t\t\t\t\t\t\t\t\t\t\t\n",
       "\t\t\t\t38,638\n",
       "\t\t\t\n",
       "\t\t\t\t\t\t\t\t\t\t\t\n",
       "\t\t\t\t\t\t\t\t\t\t</td>\n",
       "<td class=\"t_line cell_strong\">\n",
       "\t\t\t\t\t\t\t\t\t\t\t\n",
       "\t\t\t\t\t\t\t\t\t\t\t\n",
       "\t\t\t\t\t\t\t\t\t\t\t\t\n",
       "\t\t\t\t44,379\n",
       "\t\t\t\n",
       "\t\t\t\t\t\t\t\t\t\t\t\n",
       "\t\t\t\t\t\t\t\t\t\t</td>\n",
       "<td class=\"\">\n",
       "\t\t\t\t\t\t\t\t\t\t\t\n",
       "\t\t\t\t\t\t\t\t\t\t\t\n",
       "\t\t\t\t\t\t\t\t\t\t\t\t\n",
       "\t\t\t\t8,781\n",
       "\t\t\t\n",
       "\t\t\t\t\t\t\t\t\t\t\t\n",
       "\t\t\t\t\t\t\t\t\t\t</td>\n",
       "<td class=\"\">\n",
       "\t\t\t\t\t\t\t\t\t\t\t\n",
       "\t\t\t\t\t\t\t\t\t\t\t\n",
       "\t\t\t\t\t\t\t\t\t\t\t\t\n",
       "\t\t\t\t5,407\n",
       "\t\t\t\n",
       "\t\t\t\t\t\t\t\t\t\t\t\n",
       "\t\t\t\t\t\t\t\t\t\t</td>\n",
       "<td class=\"\">\n",
       "\t\t\t\t\t\t\t\t\t\t\t\n",
       "\t\t\t\t\t\t\t\t\t\t\t\n",
       "\t\t\t\t\t\t\t\t\t\t\t\t\n",
       "\t\t\t\t6,777\n",
       "\t\t\t\n",
       "\t\t\t\t\t\t\t\t\t\t\t\n",
       "\t\t\t\t\t\t\t\t\t\t</td>\n",
       "<td class=\"\">\n",
       "\t\t\t\t\t\t\t\t\t\t\t\n",
       "\t\t\t\t\t\t\t\t\t\t\t\n",
       "\t\t\t\t\t\t\t\t\t\t\t\t\n",
       "\t\t\t\t18,805\n",
       "\t\t\t\n",
       "\t\t\t\t\t\t\t\t\t\t\t\n",
       "\t\t\t\t\t\t\t\t\t\t</td>\n",
       "<td class=\"\">\n",
       "\t\t\t\t\t\t\t\t\t\t\t\n",
       "\t\t\t\t\t\t\t\t\t\t\t\n",
       "\t\t\t\t\t\t\t\t\t\t\t\t\n",
       "\t\t\t\t7,923\n",
       "\t\t\t\n",
       "\t\t\t\t\t\t\t\t\t\t\t\n",
       "\t\t\t\t\t\t\t\t\t\t</td>\n",
       "<td class=\"last cell_strong\">\n",
       "\t\t\t\t\t\t\t\t\t\t\t\n",
       "\t\t\t\t\t\t\t\t\t\t\t\n",
       "\t\t\t\t\t\t\t\t\t\t\t\t\n",
       "\t\t\t\t8,889\n",
       "\t\t\t\n",
       "\t\t\t\t\t\t\t\t\t\t\t\n",
       "\t\t\t\t\t\t\t\t\t\t</td>\n",
       "</tr>\n",
       "<tr class=\"line_end\">\n",
       "<th class=\"h_th2 th_cop_anal10\" scope=\"row\"><strong>당기순이익</strong></th>\n",
       "<td class=\"\">\n",
       "\t\t\t\t\t\t\t\t\t\t\t\n",
       "\t\t\t\t\t\t\t\t\t\t\t\n",
       "\t\t\t\t\t\t\t\t\t\t\t\t\n",
       "\t\t\t\t1,799\n",
       "\t\t\t\n",
       "\t\t\t\t\t\t\t\t\t\t\t\n",
       "\t\t\t\t\t\t\t\t\t\t</td>\n",
       "<td class=\"\">\n",
       "\t\t\t\t\t\t\t\t\t\t\t\n",
       "\t\t\t\t\t\t\t\t\t\t\t\n",
       "\t\t\t\t\t\t\t\t\t\t\t\t\n",
       "\t\t\t\t20,638\n",
       "\t\t\t\n",
       "\t\t\t\t\t\t\t\t\t\t\t\n",
       "\t\t\t\t\t\t\t\t\t\t</td>\n",
       "<td class=\"\">\n",
       "\t\t\t\t\t\t\t\t\t\t\t\n",
       "\t\t\t\t\t\t\t\t\t\t\t\n",
       "\t\t\t\t\t\t\t\t\t\t\t\t\n",
       "\t\t\t\t14,150\n",
       "\t\t\t\n",
       "\t\t\t\t\t\t\t\t\t\t\t\n",
       "\t\t\t\t\t\t\t\t\t\t</td>\n",
       "<td class=\"t_line cell_strong\">\n",
       "\t\t\t\t\t\t\t\t\t\t\t\n",
       "\t\t\t\t\t\t\t\t\t\t\t\n",
       "\t\t\t\t\t\t\t\t\t\t\t\t\n",
       "\t\t\t\t27,480\n",
       "\t\t\t\n",
       "\t\t\t\t\t\t\t\t\t\t\t\n",
       "\t\t\t\t\t\t\t\t\t\t</td>\n",
       "<td class=\"\">\n",
       "<em class=\"f_up\">\n",
       "\t\t\t\t-2,920\n",
       "\t\t\t\t</em>\n",
       "</td>\n",
       "<td class=\"\">\n",
       "\t\t\t\t\t\t\t\t\t\t\t\n",
       "\t\t\t\t\t\t\t\t\t\t\t\n",
       "\t\t\t\t\t\t\t\t\t\t\t\t\n",
       "\t\t\t\t5,165\n",
       "\t\t\t\n",
       "\t\t\t\t\t\t\t\t\t\t\t\n",
       "\t\t\t\t\t\t\t\t\t\t</td>\n",
       "<td class=\"\">\n",
       "\t\t\t\t\t\t\t\t\t\t\t\n",
       "\t\t\t\t\t\t\t\t\t\t\t\n",
       "\t\t\t\t\t\t\t\t\t\t\t\t\n",
       "\t\t\t\t213\n",
       "\t\t\t\n",
       "\t\t\t\t\t\t\t\t\t\t\t\n",
       "\t\t\t\t\t\t\t\t\t\t</td>\n",
       "<td class=\"\">\n",
       "\t\t\t\t\t\t\t\t\t\t\t\n",
       "\t\t\t\t\t\t\t\t\t\t\t\n",
       "\t\t\t\t\t\t\t\t\t\t\t\t\n",
       "\t\t\t\t14,010\n",
       "\t\t\t\n",
       "\t\t\t\t\t\t\t\t\t\t\t\n",
       "\t\t\t\t\t\t\t\t\t\t</td>\n",
       "<td class=\"\">\n",
       "\t\t\t\t\t\t\t\t\t\t\t\n",
       "\t\t\t\t\t\t\t\t\t\t\t\n",
       "\t\t\t\t\t\t\t\t\t\t\t\t\n",
       "\t\t\t\t3,380\n",
       "\t\t\t\n",
       "\t\t\t\t\t\t\t\t\t\t\t\n",
       "\t\t\t\t\t\t\t\t\t\t</td>\n",
       "<td class=\"last cell_strong\">\n",
       "\t\t\t\t\t\t\t\t\t\t\t\n",
       "\t\t\t\t\t\t\t\t\t\t\t\n",
       "\t\t\t\t\t\t\t\t\t\t\t\t\n",
       "\t\t\t\t7,329\n",
       "\t\t\t\n",
       "\t\t\t\t\t\t\t\t\t\t\t\n",
       "\t\t\t\t\t\t\t\t\t\t</td>\n",
       "</tr>\n",
       "<tr>\n",
       "<th class=\"h_th2 th_cop_anal11\" scope=\"row\"><strong>영업이익률</strong></th>\n",
       "<td class=\"\">\n",
       "\t\t\t\t\t\t\t\t\t\t\t\n",
       "\t\t\t\t\t\t\t\t\t\t\t\n",
       "\t\t\t\t\t\t\t\t\t\t\t\t\n",
       "\t\t\t\t3.91\n",
       "\t\t\t\n",
       "\t\t\t\t\t\t\t\t\t\t\t\n",
       "\t\t\t\t\t\t\t\t\t\t</td>\n",
       "<td class=\"\">\n",
       "\t\t\t\t\t\t\t\t\t\t\t\n",
       "\t\t\t\t\t\t\t\t\t\t\t\n",
       "\t\t\t\t\t\t\t\t\t\t\t\t\n",
       "\t\t\t\t6.73\n",
       "\t\t\t\n",
       "\t\t\t\t\t\t\t\t\t\t\t\n",
       "\t\t\t\t\t\t\t\t\t\t</td>\n",
       "<td class=\"\">\n",
       "\t\t\t\t\t\t\t\t\t\t\t\n",
       "\t\t\t\t\t\t\t\t\t\t\t\n",
       "\t\t\t\t\t\t\t\t\t\t\t\t\n",
       "\t\t\t\t5.17\n",
       "\t\t\t\n",
       "\t\t\t\t\t\t\t\t\t\t\t\n",
       "\t\t\t\t\t\t\t\t\t\t</td>\n",
       "<td class=\"t_line cell_strong\">\n",
       "\t\t\t\t\t\t\t\t\t\t\t\n",
       "\t\t\t\t\t\t\t\t\t\t\t\n",
       "\t\t\t\t\t\t\t\t\t\t\t\t\n",
       "\t\t\t\t5.37\n",
       "\t\t\t\n",
       "\t\t\t\t\t\t\t\t\t\t\t\n",
       "\t\t\t\t\t\t\t\t\t\t</td>\n",
       "<td class=\"\">\n",
       "\t\t\t\t\t\t\t\t\t\t\t\n",
       "\t\t\t\t\t\t\t\t\t\t\t\n",
       "\t\t\t\t\t\t\t\t\t\t\t\t\n",
       "\t\t\t\t5.13\n",
       "\t\t\t\n",
       "\t\t\t\t\t\t\t\t\t\t\t\n",
       "\t\t\t\t\t\t\t\t\t\t</td>\n",
       "<td class=\"\">\n",
       "\t\t\t\t\t\t\t\t\t\t\t\n",
       "\t\t\t\t\t\t\t\t\t\t\t\n",
       "\t\t\t\t\t\t\t\t\t\t\t\t\n",
       "\t\t\t\t2.88\n",
       "\t\t\t\n",
       "\t\t\t\t\t\t\t\t\t\t\t\n",
       "\t\t\t\t\t\t\t\t\t\t</td>\n",
       "<td class=\"\">\n",
       "\t\t\t\t\t\t\t\t\t\t\t\n",
       "\t\t\t\t\t\t\t\t\t\t\t\n",
       "\t\t\t\t\t\t\t\t\t\t\t\t\n",
       "\t\t\t\t3.23\n",
       "\t\t\t\n",
       "\t\t\t\t\t\t\t\t\t\t\t\n",
       "\t\t\t\t\t\t\t\t\t\t</td>\n",
       "<td class=\"\">\n",
       "\t\t\t\t\t\t\t\t\t\t\t\n",
       "\t\t\t\t\t\t\t\t\t\t\t\n",
       "\t\t\t\t\t\t\t\t\t\t\t\t\n",
       "\t\t\t\t8.91\n",
       "\t\t\t\n",
       "\t\t\t\t\t\t\t\t\t\t\t\n",
       "\t\t\t\t\t\t\t\t\t\t</td>\n",
       "<td class=\"\">\n",
       "\t\t\t\t\t\t\t\t\t\t\t\n",
       "\t\t\t\t\t\t\t\t\t\t\t\n",
       "\t\t\t\t\t\t\t\t\t\t\t\t\n",
       "\t\t\t\t4.07\n",
       "\t\t\t\n",
       "\t\t\t\t\t\t\t\t\t\t\t\n",
       "\t\t\t\t\t\t\t\t\t\t</td>\n",
       "<td class=\"last cell_strong\">\n",
       "\t\t\t\t\t\t\t\t\t\t\t\n",
       "\t\t\t\t\t\t\t\t\t\t\t\n",
       "\t\t\t\t\t\t\t\t\t\t\t\t\n",
       "\t\t\t\t4.41\n",
       "\t\t\t\n",
       "\t\t\t\t\t\t\t\t\t\t\t\n",
       "\t\t\t\t\t\t\t\t\t\t</td>\n",
       "</tr>\n",
       "<tr>\n",
       "<th class=\"h_th2 th_cop_anal12\" scope=\"row\"><strong>순이익률</strong></th>\n",
       "<td class=\"\">\n",
       "\t\t\t\t\t\t\t\t\t\t\t\n",
       "\t\t\t\t\t\t\t\t\t\t\t\n",
       "\t\t\t\t\t\t\t\t\t\t\t\t\n",
       "\t\t\t\t0.29\n",
       "\t\t\t\n",
       "\t\t\t\t\t\t\t\t\t\t\t\n",
       "\t\t\t\t\t\t\t\t\t\t</td>\n",
       "<td class=\"\">\n",
       "\t\t\t\t\t\t\t\t\t\t\t\n",
       "\t\t\t\t\t\t\t\t\t\t\t\n",
       "\t\t\t\t\t\t\t\t\t\t\t\t\n",
       "\t\t\t\t3.55\n",
       "\t\t\t\n",
       "\t\t\t\t\t\t\t\t\t\t\t\n",
       "\t\t\t\t\t\t\t\t\t\t</td>\n",
       "<td class=\"\">\n",
       "\t\t\t\t\t\t\t\t\t\t\t\n",
       "\t\t\t\t\t\t\t\t\t\t\t\n",
       "\t\t\t\t\t\t\t\t\t\t\t\t\n",
       "\t\t\t\t1.89\n",
       "\t\t\t\n",
       "\t\t\t\t\t\t\t\t\t\t\t\n",
       "\t\t\t\t\t\t\t\t\t\t</td>\n",
       "<td class=\"t_line cell_strong\">\n",
       "\t\t\t\t\t\t\t\t\t\t\t\n",
       "\t\t\t\t\t\t\t\t\t\t\t\n",
       "\t\t\t\t\t\t\t\t\t\t\t\t\n",
       "\t\t\t\t3.33\n",
       "\t\t\t\n",
       "\t\t\t\t\t\t\t\t\t\t\t\n",
       "\t\t\t\t\t\t\t\t\t\t</td>\n",
       "<td class=\"\">\n",
       "<em class=\"f_up\">\n",
       "\t\t\t\t-1.71\n",
       "\t\t\t\t</em>\n",
       "</td>\n",
       "<td class=\"\">\n",
       "\t\t\t\t\t\t\t\t\t\t\t\n",
       "\t\t\t\t\t\t\t\t\t\t\t\n",
       "\t\t\t\t\t\t\t\t\t\t\t\t\n",
       "\t\t\t\t2.75\n",
       "\t\t\t\n",
       "\t\t\t\t\t\t\t\t\t\t\t\n",
       "\t\t\t\t\t\t\t\t\t\t</td>\n",
       "<td class=\"\">\n",
       "\t\t\t\t\t\t\t\t\t\t\t\n",
       "\t\t\t\t\t\t\t\t\t\t\t\n",
       "\t\t\t\t\t\t\t\t\t\t\t\t\n",
       "\t\t\t\t0.10\n",
       "\t\t\t\n",
       "\t\t\t\t\t\t\t\t\t\t\t\n",
       "\t\t\t\t\t\t\t\t\t\t</td>\n",
       "<td class=\"\">\n",
       "\t\t\t\t\t\t\t\t\t\t\t\n",
       "\t\t\t\t\t\t\t\t\t\t\t\n",
       "\t\t\t\t\t\t\t\t\t\t\t\t\n",
       "\t\t\t\t6.64\n",
       "\t\t\t\n",
       "\t\t\t\t\t\t\t\t\t\t\t\n",
       "\t\t\t\t\t\t\t\t\t\t</td>\n",
       "<td class=\"\">\n",
       "\t\t\t\t\t\t\t\t\t\t\t\n",
       "\t\t\t\t\t\t\t\t\t\t\t\n",
       "\t\t\t\t\t\t\t\t\t\t\t\t\n",
       "\t\t\t\t1.74\n",
       "\t\t\t\n",
       "\t\t\t\t\t\t\t\t\t\t\t\n",
       "\t\t\t\t\t\t\t\t\t\t</td>\n",
       "<td class=\"last cell_strong\">\n",
       "\t\t\t\t\t\t\t\t\t\t\t\n",
       "\t\t\t\t\t\t\t\t\t\t\t\n",
       "\t\t\t\t\t\t\t\t\t\t\t\t\n",
       "\t\t\t\t3.64\n",
       "\t\t\t\n",
       "\t\t\t\t\t\t\t\t\t\t\t\n",
       "\t\t\t\t\t\t\t\t\t\t</td>\n",
       "</tr>\n",
       "<tr class=\"line_end\">\n",
       "<th class=\"h_th2 th_cop_anal13\" scope=\"row\"><strong>ROE(지배주주)</strong></th>\n",
       "<td class=\"\">\n",
       "\t\t\t\t\t\t\t\t\t\t\t\n",
       "\t\t\t\t\t\t\t\t\t\t\t\n",
       "\t\t\t\t\t\t\t\t\t\t\t\t\n",
       "\t\t\t\t0.22\n",
       "\t\t\t\n",
       "\t\t\t\t\t\t\t\t\t\t\t\n",
       "\t\t\t\t\t\t\t\t\t\t</td>\n",
       "<td class=\"\">\n",
       "\t\t\t\t\t\t\t\t\t\t\t\n",
       "\t\t\t\t\t\t\t\t\t\t\t\n",
       "\t\t\t\t\t\t\t\t\t\t\t\t\n",
       "\t\t\t\t13.23\n",
       "\t\t\t\n",
       "\t\t\t\t\t\t\t\t\t\t\t\n",
       "\t\t\t\t\t\t\t\t\t\t</td>\n",
       "<td class=\"\">\n",
       "\t\t\t\t\t\t\t\t\t\t\t\n",
       "\t\t\t\t\t\t\t\t\t\t\t\n",
       "\t\t\t\t\t\t\t\t\t\t\t\t\n",
       "\t\t\t\t6.32\n",
       "\t\t\t\n",
       "\t\t\t\t\t\t\t\t\t\t\t\n",
       "\t\t\t\t\t\t\t\t\t\t</td>\n",
       "<td class=\"t_line cell_strong\">\n",
       "\t\t\t\t\t\t\t\t\t\t\t\n",
       "\t\t\t\t\t\t\t\t\t\t\t\n",
       "\t\t\t\t\t\t\t\t\t\t\t\t\n",
       "\t\t\t\t12.51\n",
       "\t\t\t\n",
       "\t\t\t\t\t\t\t\t\t\t\t\n",
       "\t\t\t\t\t\t\t\t\t\t</td>\n",
       "<td class=\"\">\n",
       "\t\t\t\t\t\t\t\t\t\t\t\n",
       "\t\t\t\t\t\t\t\t\t\t\t\n",
       "\t\t\t\t\t\t\t\t\t\t\t\t\n",
       "\t\t\t\t9.47\n",
       "\t\t\t\n",
       "\t\t\t\t\t\t\t\t\t\t\t\n",
       "\t\t\t\t\t\t\t\t\t\t</td>\n",
       "<td class=\"\">\n",
       "\t\t\t\t\t\t\t\t\t\t\t\n",
       "\t\t\t\t\t\t\t\t\t\t\t\n",
       "\t\t\t\t\t\t\t\t\t\t\t\t\n",
       "\t\t\t\t7.59\n",
       "\t\t\t\n",
       "\t\t\t\t\t\t\t\t\t\t\t\n",
       "\t\t\t\t\t\t\t\t\t\t</td>\n",
       "<td class=\"\">\n",
       "\t\t\t\t\t\t\t\t\t\t\t\n",
       "\t\t\t\t\t\t\t\t\t\t\t\n",
       "\t\t\t\t\t\t\t\t\t\t\t\t\n",
       "\t\t\t\t6.32\n",
       "\t\t\t\n",
       "\t\t\t\t\t\t\t\t\t\t\t\n",
       "\t\t\t\t\t\t\t\t\t\t</td>\n",
       "<td class=\"\">\n",
       "\t\t\t\t\t\t\t\t\t\t\t\n",
       "\t\t\t\t\t\t\t\t\t\t\t\n",
       "\t\t\t\t\t\t\t\t\t\t\t\t\n",
       "\t\t\t\t7.12\n",
       "\t\t\t\n",
       "\t\t\t\t\t\t\t\t\t\t\t\n",
       "\t\t\t\t\t\t\t\t\t\t</td>\n",
       "<td class=\"\">\n",
       "\t\t\t\t\t\t\t\t\t\t\t\n",
       "\t\t\t\t\t\t\t\t\t\t\t\n",
       "\t\t\t\t\t\t\t\t\t\t\t\t\n",
       "\t\t\t\t10.13\n",
       "\t\t\t\n",
       "\t\t\t\t\t\t\t\t\t\t\t\n",
       "\t\t\t\t\t\t\t\t\t\t</td>\n",
       "<td class=\"null last cell_strong\">\n",
       "\t\t\t\t\t\t\t\t\t\t\t \n",
       "\t\t\t\t\t\t\t\t\t\t\t\n",
       "\t\t\t\t\t\t\t\t\t\t</td>\n",
       "</tr>\n",
       "<tr>\n",
       "<th class=\"h_th2 th_cop_anal14\" scope=\"row\"><strong>부채비율</strong></th>\n",
       "<td class=\"\">\n",
       "\t\t\t\t\t\t\t\t\t\t\t\n",
       "\t\t\t\t\t\t\t\t\t\t\t\n",
       "\t\t\t\t\t\t\t\t\t\t\t\t\n",
       "\t\t\t\t173.12\n",
       "\t\t\t\n",
       "\t\t\t\t\t\t\t\t\t\t\t\n",
       "\t\t\t\t\t\t\t\t\t\t</td>\n",
       "<td class=\"\">\n",
       "\t\t\t\t\t\t\t\t\t\t\t\n",
       "\t\t\t\t\t\t\t\t\t\t\t\n",
       "\t\t\t\t\t\t\t\t\t\t\t\t\n",
       "\t\t\t\t174.79\n",
       "\t\t\t\n",
       "\t\t\t\t\t\t\t\t\t\t\t\n",
       "\t\t\t\t\t\t\t\t\t\t</td>\n",
       "<td class=\"\">\n",
       "\t\t\t\t\t\t\t\t\t\t\t\n",
       "\t\t\t\t\t\t\t\t\t\t\t\n",
       "\t\t\t\t\t\t\t\t\t\t\t\t\n",
       "\t\t\t\t166.10\n",
       "\t\t\t\n",
       "\t\t\t\t\t\t\t\t\t\t\t\n",
       "\t\t\t\t\t\t\t\t\t\t</td>\n",
       "<td class=\"null t_line cell_strong\">\n",
       "\t\t\t\t\t\t\t\t\t\t\t \n",
       "\t\t\t\t\t\t\t\t\t\t\t\n",
       "\t\t\t\t\t\t\t\t\t\t</td>\n",
       "<td class=\"\">\n",
       "\t\t\t\t\t\t\t\t\t\t\t\n",
       "\t\t\t\t\t\t\t\t\t\t\t\n",
       "\t\t\t\t\t\t\t\t\t\t\t\t\n",
       "\t\t\t\t170.92\n",
       "\t\t\t\n",
       "\t\t\t\t\t\t\t\t\t\t\t\n",
       "\t\t\t\t\t\t\t\t\t\t</td>\n",
       "<td class=\"\">\n",
       "\t\t\t\t\t\t\t\t\t\t\t\n",
       "\t\t\t\t\t\t\t\t\t\t\t\n",
       "\t\t\t\t\t\t\t\t\t\t\t\t\n",
       "\t\t\t\t168.70\n",
       "\t\t\t\n",
       "\t\t\t\t\t\t\t\t\t\t\t\n",
       "\t\t\t\t\t\t\t\t\t\t</td>\n",
       "<td class=\"\">\n",
       "\t\t\t\t\t\t\t\t\t\t\t\n",
       "\t\t\t\t\t\t\t\t\t\t\t\n",
       "\t\t\t\t\t\t\t\t\t\t\t\t\n",
       "\t\t\t\t166.10\n",
       "\t\t\t\n",
       "\t\t\t\t\t\t\t\t\t\t\t\n",
       "\t\t\t\t\t\t\t\t\t\t</td>\n",
       "<td class=\"\">\n",
       "\t\t\t\t\t\t\t\t\t\t\t\n",
       "\t\t\t\t\t\t\t\t\t\t\t\n",
       "\t\t\t\t\t\t\t\t\t\t\t\t\n",
       "\t\t\t\t151.60\n",
       "\t\t\t\n",
       "\t\t\t\t\t\t\t\t\t\t\t\n",
       "\t\t\t\t\t\t\t\t\t\t</td>\n",
       "<td class=\"\">\n",
       "\t\t\t\t\t\t\t\t\t\t\t\n",
       "\t\t\t\t\t\t\t\t\t\t\t\n",
       "\t\t\t\t\t\t\t\t\t\t\t\t\n",
       "\t\t\t\t138.11\n",
       "\t\t\t\n",
       "\t\t\t\t\t\t\t\t\t\t\t\n",
       "\t\t\t\t\t\t\t\t\t\t</td>\n",
       "<td class=\"null last cell_strong\">\n",
       "\t\t\t\t\t\t\t\t\t\t\t \n",
       "\t\t\t\t\t\t\t\t\t\t\t\n",
       "\t\t\t\t\t\t\t\t\t\t</td>\n",
       "</tr>\n",
       "<tr>\n",
       "<th class=\"h_th2 th_cop_anal15\" scope=\"row\"><strong>당좌비율</strong></th>\n",
       "<td class=\"\">\n",
       "\t\t\t\t\t\t\t\t\t\t\t\n",
       "\t\t\t\t\t\t\t\t\t\t\t\n",
       "\t\t\t\t\t\t\t\t\t\t\t\t\n",
       "\t\t\t\t74.78\n",
       "\t\t\t\n",
       "\t\t\t\t\t\t\t\t\t\t\t\n",
       "\t\t\t\t\t\t\t\t\t\t</td>\n",
       "<td class=\"\">\n",
       "\t\t\t\t\t\t\t\t\t\t\t\n",
       "\t\t\t\t\t\t\t\t\t\t\t\n",
       "\t\t\t\t\t\t\t\t\t\t\t\t\n",
       "\t\t\t\t73.04\n",
       "\t\t\t\n",
       "\t\t\t\t\t\t\t\t\t\t\t\n",
       "\t\t\t\t\t\t\t\t\t\t</td>\n",
       "<td class=\"\">\n",
       "\t\t\t\t\t\t\t\t\t\t\t\n",
       "\t\t\t\t\t\t\t\t\t\t\t\n",
       "\t\t\t\t\t\t\t\t\t\t\t\t\n",
       "\t\t\t\t71.71\n",
       "\t\t\t\n",
       "\t\t\t\t\t\t\t\t\t\t\t\n",
       "\t\t\t\t\t\t\t\t\t\t</td>\n",
       "<td class=\"null t_line cell_strong\">\n",
       "\t\t\t\t\t\t\t\t\t\t\t \n",
       "\t\t\t\t\t\t\t\t\t\t\t\n",
       "\t\t\t\t\t\t\t\t\t\t</td>\n",
       "<td class=\"\">\n",
       "\t\t\t\t\t\t\t\t\t\t\t\n",
       "\t\t\t\t\t\t\t\t\t\t\t\n",
       "\t\t\t\t\t\t\t\t\t\t\t\t\n",
       "\t\t\t\t73.63\n",
       "\t\t\t\n",
       "\t\t\t\t\t\t\t\t\t\t\t\n",
       "\t\t\t\t\t\t\t\t\t\t</td>\n",
       "<td class=\"\">\n",
       "\t\t\t\t\t\t\t\t\t\t\t\n",
       "\t\t\t\t\t\t\t\t\t\t\t\n",
       "\t\t\t\t\t\t\t\t\t\t\t\t\n",
       "\t\t\t\t73.56\n",
       "\t\t\t\n",
       "\t\t\t\t\t\t\t\t\t\t\t\n",
       "\t\t\t\t\t\t\t\t\t\t</td>\n",
       "<td class=\"\">\n",
       "\t\t\t\t\t\t\t\t\t\t\t\n",
       "\t\t\t\t\t\t\t\t\t\t\t\n",
       "\t\t\t\t\t\t\t\t\t\t\t\t\n",
       "\t\t\t\t71.71\n",
       "\t\t\t\n",
       "\t\t\t\t\t\t\t\t\t\t\t\n",
       "\t\t\t\t\t\t\t\t\t\t</td>\n",
       "<td class=\"\">\n",
       "\t\t\t\t\t\t\t\t\t\t\t\n",
       "\t\t\t\t\t\t\t\t\t\t\t\n",
       "\t\t\t\t\t\t\t\t\t\t\t\t\n",
       "\t\t\t\t77.54\n",
       "\t\t\t\n",
       "\t\t\t\t\t\t\t\t\t\t\t\n",
       "\t\t\t\t\t\t\t\t\t\t</td>\n",
       "<td class=\"\">\n",
       "\t\t\t\t\t\t\t\t\t\t\t\n",
       "\t\t\t\t\t\t\t\t\t\t\t\n",
       "\t\t\t\t\t\t\t\t\t\t\t\t\n",
       "\t\t\t\t81.16\n",
       "\t\t\t\n",
       "\t\t\t\t\t\t\t\t\t\t\t\n",
       "\t\t\t\t\t\t\t\t\t\t</td>\n",
       "<td class=\"null last cell_strong\">\n",
       "\t\t\t\t\t\t\t\t\t\t\t \n",
       "\t\t\t\t\t\t\t\t\t\t\t\n",
       "\t\t\t\t\t\t\t\t\t\t</td>\n",
       "</tr>\n",
       "<tr class=\"line_end\">\n",
       "<th class=\"h_th2 th_cop_anal16\" scope=\"row\"><strong>유보율</strong></th>\n",
       "<td class=\"\">\n",
       "\t\t\t\t\t\t\t\t\t\t\t\n",
       "\t\t\t\t\t\t\t\t\t\t\t\n",
       "\t\t\t\t\t\t\t\t\t\t\t\t\n",
       "\t\t\t\t1,634.72\n",
       "\t\t\t\n",
       "\t\t\t\t\t\t\t\t\t\t\t\n",
       "\t\t\t\t\t\t\t\t\t\t</td>\n",
       "<td class=\"\">\n",
       "\t\t\t\t\t\t\t\t\t\t\t\n",
       "\t\t\t\t\t\t\t\t\t\t\t\n",
       "\t\t\t\t\t\t\t\t\t\t\t\t\n",
       "\t\t\t\t1,833.30\n",
       "\t\t\t\n",
       "\t\t\t\t\t\t\t\t\t\t\t\n",
       "\t\t\t\t\t\t\t\t\t\t</td>\n",
       "<td class=\"\">\n",
       "\t\t\t\t\t\t\t\t\t\t\t\n",
       "\t\t\t\t\t\t\t\t\t\t\t\n",
       "\t\t\t\t\t\t\t\t\t\t\t\t\n",
       "\t\t\t\t1,933.04\n",
       "\t\t\t\n",
       "\t\t\t\t\t\t\t\t\t\t\t\n",
       "\t\t\t\t\t\t\t\t\t\t</td>\n",
       "<td class=\"null t_line cell_strong\">\n",
       "\t\t\t\t\t\t\t\t\t\t\t \n",
       "\t\t\t\t\t\t\t\t\t\t\t\n",
       "\t\t\t\t\t\t\t\t\t\t</td>\n",
       "<td class=\"\">\n",
       "\t\t\t\t\t\t\t\t\t\t\t\n",
       "\t\t\t\t\t\t\t\t\t\t\t\n",
       "\t\t\t\t\t\t\t\t\t\t\t\t\n",
       "\t\t\t\t1,885.66\n",
       "\t\t\t\n",
       "\t\t\t\t\t\t\t\t\t\t\t\n",
       "\t\t\t\t\t\t\t\t\t\t</td>\n",
       "<td class=\"\">\n",
       "\t\t\t\t\t\t\t\t\t\t\t\n",
       "\t\t\t\t\t\t\t\t\t\t\t\n",
       "\t\t\t\t\t\t\t\t\t\t\t\t\n",
       "\t\t\t\t1,946.16\n",
       "\t\t\t\n",
       "\t\t\t\t\t\t\t\t\t\t\t\n",
       "\t\t\t\t\t\t\t\t\t\t</td>\n",
       "<td class=\"\">\n",
       "\t\t\t\t\t\t\t\t\t\t\t\n",
       "\t\t\t\t\t\t\t\t\t\t\t\n",
       "\t\t\t\t\t\t\t\t\t\t\t\t\n",
       "\t\t\t\t1,933.04\n",
       "\t\t\t\n",
       "\t\t\t\t\t\t\t\t\t\t\t\n",
       "\t\t\t\t\t\t\t\t\t\t</td>\n",
       "<td class=\"\">\n",
       "\t\t\t\t\t\t\t\t\t\t\t\n",
       "\t\t\t\t\t\t\t\t\t\t\t\n",
       "\t\t\t\t\t\t\t\t\t\t\t\t\n",
       "\t\t\t\t2,070.57\n",
       "\t\t\t\n",
       "\t\t\t\t\t\t\t\t\t\t\t\n",
       "\t\t\t\t\t\t\t\t\t\t</td>\n",
       "<td class=\"\">\n",
       "\t\t\t\t\t\t\t\t\t\t\t\n",
       "\t\t\t\t\t\t\t\t\t\t\t\n",
       "\t\t\t\t\t\t\t\t\t\t\t\t\n",
       "\t\t\t\t2,119.33\n",
       "\t\t\t\n",
       "\t\t\t\t\t\t\t\t\t\t\t\n",
       "\t\t\t\t\t\t\t\t\t\t</td>\n",
       "<td class=\"null last cell_strong\">\n",
       "\t\t\t\t\t\t\t\t\t\t\t \n",
       "\t\t\t\t\t\t\t\t\t\t\t\n",
       "\t\t\t\t\t\t\t\t\t\t</td>\n",
       "</tr>\n",
       "<tr>\n",
       "<th class=\"h_th2 th_cop_anal17\" scope=\"row\"><strong>EPS(원)</strong></th>\n",
       "<td class=\"\">\n",
       "\t\t\t\t\t\t\t\t\t\t\t\n",
       "\t\t\t\t\t\t\t\t\t\t\t\n",
       "\t\t\t\t\t\t\t\t\t\t\t\t\n",
       "\t\t\t\t173\n",
       "\t\t\t\n",
       "\t\t\t\t\t\t\t\t\t\t\t\n",
       "\t\t\t\t\t\t\t\t\t\t</td>\n",
       "<td class=\"\">\n",
       "\t\t\t\t\t\t\t\t\t\t\t\n",
       "\t\t\t\t\t\t\t\t\t\t\t\n",
       "\t\t\t\t\t\t\t\t\t\t\t\t\n",
       "\t\t\t\t10,885\n",
       "\t\t\t\n",
       "\t\t\t\t\t\t\t\t\t\t\t\n",
       "\t\t\t\t\t\t\t\t\t\t</td>\n",
       "<td class=\"\">\n",
       "\t\t\t\t\t\t\t\t\t\t\t\n",
       "\t\t\t\t\t\t\t\t\t\t\t\n",
       "\t\t\t\t\t\t\t\t\t\t\t\t\n",
       "\t\t\t\t5,705\n",
       "\t\t\t\n",
       "\t\t\t\t\t\t\t\t\t\t\t\n",
       "\t\t\t\t\t\t\t\t\t\t</td>\n",
       "<td class=\"t_line cell_strong\">\n",
       "\t\t\t\t\t\t\t\t\t\t\t\n",
       "\t\t\t\t\t\t\t\t\t\t\t\n",
       "\t\t\t\t\t\t\t\t\t\t\t\t\n",
       "\t\t\t\t12,788\n",
       "\t\t\t\n",
       "\t\t\t\t\t\t\t\t\t\t\t\n",
       "\t\t\t\t\t\t\t\t\t\t</td>\n",
       "<td class=\"\">\n",
       "<em class=\"f_up\">\n",
       "\t\t\t\t-2,157\n",
       "\t\t\t\t</em>\n",
       "</td>\n",
       "<td class=\"\">\n",
       "\t\t\t\t\t\t\t\t\t\t\t\n",
       "\t\t\t\t\t\t\t\t\t\t\t\n",
       "\t\t\t\t\t\t\t\t\t\t\t\t\n",
       "\t\t\t\t2,129\n",
       "\t\t\t\n",
       "\t\t\t\t\t\t\t\t\t\t\t\n",
       "\t\t\t\t\t\t\t\t\t\t</td>\n",
       "<td class=\"\">\n",
       "\t\t\t\t\t\t\t\t\t\t\t\n",
       "\t\t\t\t\t\t\t\t\t\t\t\n",
       "\t\t\t\t\t\t\t\t\t\t\t\t\n",
       "\t\t\t\t214\n",
       "\t\t\t\n",
       "\t\t\t\t\t\t\t\t\t\t\t\n",
       "\t\t\t\t\t\t\t\t\t\t</td>\n",
       "<td class=\"\">\n",
       "\t\t\t\t\t\t\t\t\t\t\t\n",
       "\t\t\t\t\t\t\t\t\t\t\t\n",
       "\t\t\t\t\t\t\t\t\t\t\t\t\n",
       "\t\t\t\t6,783\n",
       "\t\t\t\n",
       "\t\t\t\t\t\t\t\t\t\t\t\n",
       "\t\t\t\t\t\t\t\t\t\t</td>\n",
       "<td class=\"\">\n",
       "\t\t\t\t\t\t\t\t\t\t\t\n",
       "\t\t\t\t\t\t\t\t\t\t\t\n",
       "\t\t\t\t\t\t\t\t\t\t\t\t\n",
       "\t\t\t\t1,067\n",
       "\t\t\t\n",
       "\t\t\t\t\t\t\t\t\t\t\t\n",
       "\t\t\t\t\t\t\t\t\t\t</td>\n",
       "<td class=\"last cell_strong\">\n",
       "\t\t\t\t\t\t\t\t\t\t\t\n",
       "\t\t\t\t\t\t\t\t\t\t\t\n",
       "\t\t\t\t\t\t\t\t\t\t\t\t\n",
       "\t\t\t\t2,341\n",
       "\t\t\t\n",
       "\t\t\t\t\t\t\t\t\t\t\t\n",
       "\t\t\t\t\t\t\t\t\t\t</td>\n",
       "</tr>\n",
       "<tr>\n",
       "<th class=\"h_th2 th_cop_anal20\" scope=\"row\"><strong>PER(배)</strong></th>\n",
       "<td class=\"\">\n",
       "\t\t\t\t\t\t\t\t\t\t\t\n",
       "\t\t\t\t\t\t\t\t\t\t\t\n",
       "\t\t\t\t\t\t\t\t\t\t\t\t\n",
       "\t\t\t\t416.75\n",
       "\t\t\t\n",
       "\t\t\t\t\t\t\t\t\t\t\t\n",
       "\t\t\t\t\t\t\t\t\t\t</td>\n",
       "<td class=\"\">\n",
       "\t\t\t\t\t\t\t\t\t\t\t\n",
       "\t\t\t\t\t\t\t\t\t\t\t\n",
       "\t\t\t\t\t\t\t\t\t\t\t\t\n",
       "\t\t\t\t12.40\n",
       "\t\t\t\n",
       "\t\t\t\t\t\t\t\t\t\t\t\n",
       "\t\t\t\t\t\t\t\t\t\t</td>\n",
       "<td class=\"\">\n",
       "\t\t\t\t\t\t\t\t\t\t\t\n",
       "\t\t\t\t\t\t\t\t\t\t\t\n",
       "\t\t\t\t\t\t\t\t\t\t\t\t\n",
       "\t\t\t\t24.19\n",
       "\t\t\t\n",
       "\t\t\t\t\t\t\t\t\t\t\t\n",
       "\t\t\t\t\t\t\t\t\t\t</td>\n",
       "<td class=\"t_line cell_strong\">\n",
       "\t\t\t\t\t\t\t\t\t\t\t\n",
       "\t\t\t\t\t\t\t\t\t\t\t\n",
       "\t\t\t\t\t\t\t\t\t\t\t\t\n",
       "\t\t\t\t7.34\n",
       "\t\t\t\n",
       "\t\t\t\t\t\t\t\t\t\t\t\n",
       "\t\t\t\t\t\t\t\t\t\t</td>\n",
       "<td class=\"\">\n",
       "\t\t\t\t\t\t\t\t\t\t\t\n",
       "\t\t\t\t\t\t\t\t\t\t\t\n",
       "\t\t\t\t\t\t\t\t\t\t\t\t\n",
       "\t\t\t\t19.78\n",
       "\t\t\t\n",
       "\t\t\t\t\t\t\t\t\t\t\t\n",
       "\t\t\t\t\t\t\t\t\t\t</td>\n",
       "<td class=\"\">\n",
       "\t\t\t\t\t\t\t\t\t\t\t\n",
       "\t\t\t\t\t\t\t\t\t\t\t\n",
       "\t\t\t\t\t\t\t\t\t\t\t\t\n",
       "\t\t\t\t18.39\n",
       "\t\t\t\n",
       "\t\t\t\t\t\t\t\t\t\t\t\n",
       "\t\t\t\t\t\t\t\t\t\t</td>\n",
       "<td class=\"\">\n",
       "\t\t\t\t\t\t\t\t\t\t\t\n",
       "\t\t\t\t\t\t\t\t\t\t\t\n",
       "\t\t\t\t\t\t\t\t\t\t\t\t\n",
       "\t\t\t\t24.19\n",
       "\t\t\t\n",
       "\t\t\t\t\t\t\t\t\t\t\t\n",
       "\t\t\t\t\t\t\t\t\t\t</td>\n",
       "<td class=\"\">\n",
       "\t\t\t\t\t\t\t\t\t\t\t\n",
       "\t\t\t\t\t\t\t\t\t\t\t\n",
       "\t\t\t\t\t\t\t\t\t\t\t\t\n",
       "\t\t\t\t17.29\n",
       "\t\t\t\n",
       "\t\t\t\t\t\t\t\t\t\t\t\n",
       "\t\t\t\t\t\t\t\t\t\t</td>\n",
       "<td class=\"\">\n",
       "\t\t\t\t\t\t\t\t\t\t\t\n",
       "\t\t\t\t\t\t\t\t\t\t\t\n",
       "\t\t\t\t\t\t\t\t\t\t\t\t\n",
       "\t\t\t\t8.66\n",
       "\t\t\t\n",
       "\t\t\t\t\t\t\t\t\t\t\t\n",
       "\t\t\t\t\t\t\t\t\t\t</td>\n",
       "<td class=\"last cell_strong\">\n",
       "\t\t\t\t\t\t\t\t\t\t\t\n",
       "\t\t\t\t\t\t\t\t\t\t\t\n",
       "\t\t\t\t\t\t\t\t\t\t\t\t\n",
       "\t\t\t\t40.07\n",
       "\t\t\t\n",
       "\t\t\t\t\t\t\t\t\t\t\t\n",
       "\t\t\t\t\t\t\t\t\t\t</td>\n",
       "</tr>\n",
       "<tr>\n",
       "<th class=\"h_th2 th_cop_anal18\" scope=\"row\"><strong>BPS(원)</strong></th>\n",
       "<td class=\"\">\n",
       "\t\t\t\t\t\t\t\t\t\t\t\n",
       "\t\t\t\t\t\t\t\t\t\t\t\n",
       "\t\t\t\t\t\t\t\t\t\t\t\t\n",
       "\t\t\t\t79,582\n",
       "\t\t\t\n",
       "\t\t\t\t\t\t\t\t\t\t\t\n",
       "\t\t\t\t\t\t\t\t\t\t</td>\n",
       "<td class=\"\">\n",
       "\t\t\t\t\t\t\t\t\t\t\t\n",
       "\t\t\t\t\t\t\t\t\t\t\t\n",
       "\t\t\t\t\t\t\t\t\t\t\t\t\n",
       "\t\t\t\t85,732\n",
       "\t\t\t\n",
       "\t\t\t\t\t\t\t\t\t\t\t\n",
       "\t\t\t\t\t\t\t\t\t\t</td>\n",
       "<td class=\"\">\n",
       "\t\t\t\t\t\t\t\t\t\t\t\n",
       "\t\t\t\t\t\t\t\t\t\t\t\n",
       "\t\t\t\t\t\t\t\t\t\t\t\t\n",
       "\t\t\t\t95,691\n",
       "\t\t\t\n",
       "\t\t\t\t\t\t\t\t\t\t\t\n",
       "\t\t\t\t\t\t\t\t\t\t</td>\n",
       "<td class=\"t_line cell_strong\">\n",
       "\t\t\t\t\t\t\t\t\t\t\t\n",
       "\t\t\t\t\t\t\t\t\t\t\t\n",
       "\t\t\t\t\t\t\t\t\t\t\t\t\n",
       "\t\t\t\t109,690\n",
       "\t\t\t\n",
       "\t\t\t\t\t\t\t\t\t\t\t\n",
       "\t\t\t\t\t\t\t\t\t\t</td>\n",
       "<td class=\"\">\n",
       "\t\t\t\t\t\t\t\t\t\t\t\n",
       "\t\t\t\t\t\t\t\t\t\t\t\n",
       "\t\t\t\t\t\t\t\t\t\t\t\t\n",
       "\t\t\t\t90,830\n",
       "\t\t\t\n",
       "\t\t\t\t\t\t\t\t\t\t\t\n",
       "\t\t\t\t\t\t\t\t\t\t</td>\n",
       "<td class=\"\">\n",
       "\t\t\t\t\t\t\t\t\t\t\t\n",
       "\t\t\t\t\t\t\t\t\t\t\t\n",
       "\t\t\t\t\t\t\t\t\t\t\t\t\n",
       "\t\t\t\t96,606\n",
       "\t\t\t\n",
       "\t\t\t\t\t\t\t\t\t\t\t\n",
       "\t\t\t\t\t\t\t\t\t\t</td>\n",
       "<td class=\"\">\n",
       "\t\t\t\t\t\t\t\t\t\t\t\n",
       "\t\t\t\t\t\t\t\t\t\t\t\n",
       "\t\t\t\t\t\t\t\t\t\t\t\t\n",
       "\t\t\t\t95,691\n",
       "\t\t\t\n",
       "\t\t\t\t\t\t\t\t\t\t\t\n",
       "\t\t\t\t\t\t\t\t\t\t</td>\n",
       "<td class=\"\">\n",
       "\t\t\t\t\t\t\t\t\t\t\t\n",
       "\t\t\t\t\t\t\t\t\t\t\t\n",
       "\t\t\t\t\t\t\t\t\t\t\t\t\n",
       "\t\t\t\t104,642\n",
       "\t\t\t\n",
       "\t\t\t\t\t\t\t\t\t\t\t\n",
       "\t\t\t\t\t\t\t\t\t\t</td>\n",
       "<td class=\"\">\n",
       "\t\t\t\t\t\t\t\t\t\t\t\n",
       "\t\t\t\t\t\t\t\t\t\t\t\n",
       "\t\t\t\t\t\t\t\t\t\t\t\t\n",
       "\t\t\t\t111,284\n",
       "\t\t\t\n",
       "\t\t\t\t\t\t\t\t\t\t\t\n",
       "\t\t\t\t\t\t\t\t\t\t</td>\n",
       "<td class=\"null last cell_strong\">\n",
       "\t\t\t\t\t\t\t\t\t\t\t \n",
       "\t\t\t\t\t\t\t\t\t\t\t\n",
       "\t\t\t\t\t\t\t\t\t\t</td>\n",
       "</tr>\n",
       "<tr class=\"line_end\">\n",
       "<th class=\"h_th2 th_cop_anal21\" scope=\"row\"><strong>PBR(배)</strong></th>\n",
       "<td class=\"\">\n",
       "\t\t\t\t\t\t\t\t\t\t\t\n",
       "\t\t\t\t\t\t\t\t\t\t\t\n",
       "\t\t\t\t\t\t\t\t\t\t\t\t\n",
       "\t\t\t\t0.91\n",
       "\t\t\t\n",
       "\t\t\t\t\t\t\t\t\t\t\t\n",
       "\t\t\t\t\t\t\t\t\t\t</td>\n",
       "<td class=\"\">\n",
       "\t\t\t\t\t\t\t\t\t\t\t\n",
       "\t\t\t\t\t\t\t\t\t\t\t\n",
       "\t\t\t\t\t\t\t\t\t\t\t\t\n",
       "\t\t\t\t1.57\n",
       "\t\t\t\n",
       "\t\t\t\t\t\t\t\t\t\t\t\n",
       "\t\t\t\t\t\t\t\t\t\t</td>\n",
       "<td class=\"\">\n",
       "\t\t\t\t\t\t\t\t\t\t\t\n",
       "\t\t\t\t\t\t\t\t\t\t\t\n",
       "\t\t\t\t\t\t\t\t\t\t\t\t\n",
       "\t\t\t\t1.44\n",
       "\t\t\t\n",
       "\t\t\t\t\t\t\t\t\t\t\t\n",
       "\t\t\t\t\t\t\t\t\t\t</td>\n",
       "<td class=\"t_line cell_strong\">\n",
       "\t\t\t\t\t\t\t\t\t\t\t\n",
       "\t\t\t\t\t\t\t\t\t\t\t\n",
       "\t\t\t\t\t\t\t\t\t\t\t\t\n",
       "\t\t\t\t0.86\n",
       "\t\t\t\n",
       "\t\t\t\t\t\t\t\t\t\t\t\n",
       "\t\t\t\t\t\t\t\t\t\t</td>\n",
       "<td class=\"\">\n",
       "\t\t\t\t\t\t\t\t\t\t\t\n",
       "\t\t\t\t\t\t\t\t\t\t\t\n",
       "\t\t\t\t\t\t\t\t\t\t\t\t\n",
       "\t\t\t\t1.80\n",
       "\t\t\t\n",
       "\t\t\t\t\t\t\t\t\t\t\t\n",
       "\t\t\t\t\t\t\t\t\t\t</td>\n",
       "<td class=\"\">\n",
       "\t\t\t\t\t\t\t\t\t\t\t\n",
       "\t\t\t\t\t\t\t\t\t\t\t\n",
       "\t\t\t\t\t\t\t\t\t\t\t\t\n",
       "\t\t\t\t1.32\n",
       "\t\t\t\n",
       "\t\t\t\t\t\t\t\t\t\t\t\n",
       "\t\t\t\t\t\t\t\t\t\t</td>\n",
       "<td class=\"\">\n",
       "\t\t\t\t\t\t\t\t\t\t\t\n",
       "\t\t\t\t\t\t\t\t\t\t\t\n",
       "\t\t\t\t\t\t\t\t\t\t\t\t\n",
       "\t\t\t\t1.44\n",
       "\t\t\t\n",
       "\t\t\t\t\t\t\t\t\t\t\t\n",
       "\t\t\t\t\t\t\t\t\t\t</td>\n",
       "<td class=\"\">\n",
       "\t\t\t\t\t\t\t\t\t\t\t\n",
       "\t\t\t\t\t\t\t\t\t\t\t\n",
       "\t\t\t\t\t\t\t\t\t\t\t\t\n",
       "\t\t\t\t1.15\n",
       "\t\t\t\n",
       "\t\t\t\t\t\t\t\t\t\t\t\n",
       "\t\t\t\t\t\t\t\t\t\t</td>\n",
       "<td class=\"\">\n",
       "\t\t\t\t\t\t\t\t\t\t\t\n",
       "\t\t\t\t\t\t\t\t\t\t\t\n",
       "\t\t\t\t\t\t\t\t\t\t\t\t\n",
       "\t\t\t\t0.79\n",
       "\t\t\t\n",
       "\t\t\t\t\t\t\t\t\t\t\t\n",
       "\t\t\t\t\t\t\t\t\t\t</td>\n",
       "<td class=\"null last cell_strong\">\n",
       "\t\t\t\t\t\t\t\t\t\t\t \n",
       "\t\t\t\t\t\t\t\t\t\t\t\n",
       "\t\t\t\t\t\t\t\t\t\t</td>\n",
       "</tr>\n",
       "<tr>\n",
       "<th class=\"h_th2 th_cop_anal19\" scope=\"row\"><strong>주당배당금(원)</strong></th>\n",
       "<td class=\"\">\n",
       "\t\t\t\t\t\t\t\t\t\t\t\n",
       "\t\t\t\t\t\t\t\t\t\t\t\t\n",
       "\t\t\t\t750\n",
       "\t\t\t\n",
       "\t\t\t\t\t\t\t\t\t\t\t\n",
       "\t\t\t\t\t\t\t\t\t\t</td>\n",
       "<td class=\"\">\n",
       "\t\t\t\t\t\t\t\t\t\t\t\n",
       "\t\t\t\t\t\t\t\t\t\t\t\t\n",
       "\t\t\t\t1,200\n",
       "\t\t\t\n",
       "\t\t\t\t\t\t\t\t\t\t\t\n",
       "\t\t\t\t\t\t\t\t\t\t</td>\n",
       "<td class=\"\">\n",
       "\t\t\t\t\t\t\t\t\t\t\t\n",
       "\t\t\t\t\t\t\t\t\t\t\t\t\n",
       "\t\t\t\t850\n",
       "\t\t\t\n",
       "\t\t\t\t\t\t\t\t\t\t\t\n",
       "\t\t\t\t\t\t\t\t\t\t</td>\n",
       "<td class=\"t_line cell_strong\">\n",
       "\t\t\t\t\t\t\t\t\t\t\t\n",
       "\t\t\t\t\t\t\t\t\t\t\t\t\n",
       "\t\t\t\t1,154\n",
       "\t\t\t\n",
       "\t\t\t\t\t\t\t\t\t\t\t\n",
       "\t\t\t\t\t\t\t\t\t\t</td>\n",
       "<td class=\"no_data 2\">\n",
       "</td>\n",
       "<td class=\"no_data 2\">\n",
       "</td>\n",
       "<td class=\"no_data 2\">\n",
       "</td>\n",
       "<td class=\"no_data 2\">\n",
       "</td>\n",
       "<td class=\"no_data 2\">\n",
       "</td>\n",
       "<td class=\"no_data 2 last cell_strong\">\n",
       "</td>\n",
       "</tr>\n",
       "<tr>\n",
       "<th class=\"h_th2 th_cop_anal22\" scope=\"row\"><strong>시가배당률(%)</strong></th>\n",
       "<td class=\"\">\n",
       "\t\t\t\t\t\t\t\t\t\t\t\n",
       "\t\t\t\t\t\t\t\t\t\t\t\t\n",
       "\t\t\t\t1.04\n",
       "\t\t\t\n",
       "\t\t\t\t\t\t\t\t\t\t\t\n",
       "\t\t\t\t\t\t\t\t\t\t</td>\n",
       "<td class=\"\">\n",
       "\t\t\t\t\t\t\t\t\t\t\t\n",
       "\t\t\t\t\t\t\t\t\t\t\t\t\n",
       "\t\t\t\t0.89\n",
       "\t\t\t\n",
       "\t\t\t\t\t\t\t\t\t\t\t\n",
       "\t\t\t\t\t\t\t\t\t\t</td>\n",
       "<td class=\"\">\n",
       "\t\t\t\t\t\t\t\t\t\t\t\n",
       "\t\t\t\t\t\t\t\t\t\t\t\t\n",
       "\t\t\t\t0.62\n",
       "\t\t\t\n",
       "\t\t\t\t\t\t\t\t\t\t\t\n",
       "\t\t\t\t\t\t\t\t\t\t</td>\n",
       "<td class=\"no_data 2 t_line cell_strong\">\n",
       "</td>\n",
       "<td class=\"no_data 2\">\n",
       "</td>\n",
       "<td class=\"no_data 2\">\n",
       "</td>\n",
       "<td class=\"no_data 2\">\n",
       "</td>\n",
       "<td class=\"no_data 2\">\n",
       "</td>\n",
       "<td class=\"no_data 2\">\n",
       "</td>\n",
       "<td class=\"no_data 2 last cell_strong\">\n",
       "</td>\n",
       "</tr>\n",
       "<tr>\n",
       "<th class=\"h_th2 th_cop_anal23\" scope=\"row\"><strong>배당성향(%)</strong></th>\n",
       "<td class=\"\">\n",
       "\t\t\t\t\t\t\t\t\t\t\t\n",
       "\t\t\t\t\t\t\t\t\t\t\t\t\n",
       "\t\t\t\t434.42\n",
       "\t\t\t\n",
       "\t\t\t\t\t\t\t\t\t\t\t\n",
       "\t\t\t\t\t\t\t\t\t\t</td>\n",
       "<td class=\"\">\n",
       "\t\t\t\t\t\t\t\t\t\t\t\n",
       "\t\t\t\t\t\t\t\t\t\t\t\t\n",
       "\t\t\t\t11.02\n",
       "\t\t\t\n",
       "\t\t\t\t\t\t\t\t\t\t\t\n",
       "\t\t\t\t\t\t\t\t\t\t</td>\n",
       "<td class=\"\">\n",
       "\t\t\t\t\t\t\t\t\t\t\t\n",
       "\t\t\t\t\t\t\t\t\t\t\t\t\n",
       "\t\t\t\t14.92\n",
       "\t\t\t\n",
       "\t\t\t\t\t\t\t\t\t\t\t\n",
       "\t\t\t\t\t\t\t\t\t\t</td>\n",
       "<td class=\"no_data 2 t_line cell_strong\">\n",
       "</td>\n",
       "<td class=\"no_data 2\">\n",
       "</td>\n",
       "<td class=\"no_data 2\">\n",
       "</td>\n",
       "<td class=\"no_data 2\">\n",
       "</td>\n",
       "<td class=\"no_data 2\">\n",
       "</td>\n",
       "<td class=\"no_data 2\">\n",
       "</td>\n",
       "<td class=\"no_data 2 last cell_strong\">\n",
       "</td>\n",
       "</tr>\n",
       "</tbody>\n",
       "</table>\n",
       "</div>\n",
       "<div class=\"dsc_ifrs\">\n",
       "<ul>\n",
       "<li>분기 실적은 해당 분기까지의 누적 실적에서 직전 분기까지의 누적 실적을 차감하는 방식으로 계산되므로,<br/>기업에서 공시한 분기 실적과 차이가 있을 수 있습니다.</li>\n",
       "<li>컨센서스(<em>E</em>) : 최근 3개월간 증권사에서 발표한 전망치의 평균값입니다.</li>\n",
       "</ul>\n",
       "</div>\n",
       "<div class=\"ly_moreifrs\" style=\"display:none\">\n",
       "<ul class=\"blind\">\n",
       "<li> 손익계산서\n",
       "\t\t\t\t\t\t\t\t\t<dl>\n",
       "<dt>조정영업이익</dt>\n",
       "<dd>매출액-매출원가-판관비</dd>\n",
       "<dt>지배주주지분</dt>\n",
       "<dd>지배회상의 지분에 귀속되는 당기순이익</dd>\n",
       "<dt>비지배주주지분</dt>\n",
       "<dd>종속회사의 지분에 귀속되는 당기순이익</dd>\n",
       "</dl>\n",
       "</li>\n",
       "<li> 수익성\n",
       "\t\t\t\t\t\t\t\t\t<dl>\n",
       "<dt>조정영업이익률</dt>\n",
       "<dd>조정영업이익/매출액</dd>\n",
       "<dt>ROE(지배주주지분)</dt>\n",
       "<dd>지배주주지분 당기순이익 / (자본총계 - 비지배주주지분)</dd>\n",
       "</dl>\n",
       "</li>\n",
       "<li> 가치지표\n",
       "\t\t\t\t\t\t\t\t\t<dl>\n",
       "<dt>EPS(지배주주지분)</dt>\n",
       "<dd>지배주주지분 당기순이익/지배주주 평균발행주식수(우선주+보통주)</dd>\n",
       "<dt>BPS(지배주주지분</dt>\n",
       "<dd>지배주주지분 귀속 순자산/지배주주 기말발행주식(우선주+보통주)</dd>\n",
       "</dl>\n",
       "</li>\n",
       "</ul>\n",
       "</div>\n",
       "<div class=\"dummy\"></div>\n",
       "<span class=\"btn_more\"><a href=\"/item/coinfo.naver?code=066570&amp;target=finsum_more\">더보기</a></span>\n",
       "</div>\n",
       "<hr/>\n",
       "<div class=\"section trade_compare\">\n",
       "<h4 class=\"h_sub sub_tit7\"><span>동종업종비교</span><em style=\"position:relative;left:70px;\">(업종명 : <a href=\"/sise/sise_group_detail.naver?type=upjong&amp;no=307\">전자제품</a><span class=\"bar\">｜</span>재무정보: 2022.06 분기 기준)</em></h4>\n",
       "<table class=\"tb_type1 tb_num\" summary=\"동종업종 비교에 관한표이며 종목명에 따라 정보를 제공합니다.\">\n",
       "<caption>동종업종비교</caption>\n",
       "<thead>\n",
       "<tr>\n",
       "<th class=\"h_th2 th_cop_comp1\"><span>종목명</span></th>\n",
       "<th scope=\"col\"><a href=\"/item/main.naver?code=066570\">LG전자<span class=\"star\">*</span><em>066570</em></a></th>\n",
       "<th scope=\"col\"><a href=\"/item/main.naver?code=008700\">아남전자<span class=\"star\">*</span><em>008700</em></a></th>\n",
       "<th scope=\"col\"><a href=\"/item/main.naver?code=115160\">휴맥스<span class=\"star\">*</span><em>115160</em></a></th>\n",
       "<th scope=\"col\"><a href=\"/item/main.naver?code=084730\">팅크웨어<span class=\"star\">*</span><em>084730</em></a></th>\n",
       "<th scope=\"col\"><a href=\"/item/main.naver?code=064240\">홈캐스트<span class=\"star\">*</span><em>064240</em></a></th>\n",
       "</tr>\n",
       "</thead>\n",
       "<tbody>\n",
       "<tr>\n",
       "<th class=\"h_th2 th_cop_comp2\" scope=\"row\"><span>현재가</span></th>\n",
       "<td>97,900</td>\n",
       "<td>2,355</td>\n",
       "<td>4,075</td>\n",
       "<td>15,700</td>\n",
       "<td>4,240</td>\n",
       "</tr>\n",
       "<tr>\n",
       "<th class=\"h_th2 th_cop_comp3\" scope=\"row\"><span>전일대비</span></th>\n",
       "<td>\n",
       "<em class=\"f_up up\"><span>상향</span>\n",
       "\t\t\t\t4,100\n",
       "\t\t\t\t</em>\n",
       "</td>\n",
       "<td>\n",
       "<em class=\"f_up up\"><span>상향</span>\n",
       "\t\t\t\t75\n",
       "\t\t\t\t</em>\n",
       "</td>\n",
       "<td>\n",
       "<em class=\"f_up up\"><span>상향</span>\n",
       "\t\t\t\t35\n",
       "\t\t\t\t</em>\n",
       "</td>\n",
       "<td>\n",
       "<em class=\"f_up up\"><span>상향</span>\n",
       "\t\t\t\t450\n",
       "\t\t\t\t</em>\n",
       "</td>\n",
       "<td>\n",
       "<em class=\"f_down down\"><span>하향</span>\n",
       "\t\t\t\t20\n",
       "\t\t\t\t</em>\n",
       "</td>\n",
       "</tr>\n",
       "<tr>\n",
       "<th class=\"h_th2 th_cop_comp4\" scope=\"row\"><span>등락률</span></th>\n",
       "<td>\n",
       "<em class=\"f_up\"><span>상향</span>\n",
       "\t\t\t\t+4.37%\n",
       "\t\t\t\t</em>\n",
       "</td>\n",
       "<td>\n",
       "<em class=\"f_up\"><span>상향</span>\n",
       "\t\t\t\t+3.29%\n",
       "\t\t\t\t</em>\n",
       "</td>\n",
       "<td>\n",
       "<em class=\"f_up\"><span>상향</span>\n",
       "\t\t\t\t+0.87%\n",
       "\t\t\t\t</em>\n",
       "</td>\n",
       "<td>\n",
       "<em class=\"f_up\"><span>상향</span>\n",
       "\t\t\t\t+2.95%\n",
       "\t\t\t\t</em>\n",
       "</td>\n",
       "<td>\n",
       "<em class=\"f_down\"><span>하향</span>\n",
       "\t\t\t\t-0.47%\n",
       "\t\t\t\t</em>\n",
       "</td>\n",
       "</tr>\n",
       "<tr>\n",
       "<th class=\"h_th2 th_cop_comp5\" scope=\"row\"><span>시가총액(억)</span></th>\n",
       "<td>160,211</td>\n",
       "<td>1,816</td>\n",
       "<td>1,790</td>\n",
       "<td>1,636</td>\n",
       "<td>1,485</td>\n",
       "</tr>\n",
       "<tr>\n",
       "<th class=\"h_th2 th_cop_comp6\" scope=\"row\"><span>외국인비율(%)</span></th>\n",
       "<td>25.93</td>\n",
       "<td>3.25</td>\n",
       "<td>5.06</td>\n",
       "<td>2.94</td>\n",
       "<td>5.62</td>\n",
       "</tr>\n",
       "<tr>\n",
       "<th class=\"h_th2 th_cop_comp7\" scope=\"row\"><span>매출액(억)</span></th>\n",
       "<td>194,640</td>\n",
       "<td>1,251</td>\n",
       "<td>1,615</td>\n",
       "<td>898</td>\n",
       "<td>160</td>\n",
       "</tr>\n",
       "<tr>\n",
       "<th class=\"h_th2 th_cop_comp8\" scope=\"row\"><span>영업이익(억)</span></th>\n",
       "<td>7,923</td>\n",
       "<td>56</td>\n",
       "<td>42</td>\n",
       "<td>5</td>\n",
       "<td>-1</td>\n",
       "</tr>\n",
       "<tr>\n",
       "<th class=\"h_th2 th_cop_comp15\" scope=\"row\"><span>조정영업이익(억)</span></th>\n",
       "<td>7,923</td>\n",
       "<td>56</td>\n",
       "<td>42</td>\n",
       "<td>5</td>\n",
       "<td>-1</td>\n",
       "</tr>\n",
       "<tr>\n",
       "<th class=\"h_th2 th_cop_comp9\" scope=\"row\"><span>영업이익증가율(%)</span></th>\n",
       "<td>-54.55</td>\n",
       "<td>-0.62</td>\n",
       "<td>266.83</td>\n",
       "<td>-29.44</td>\n",
       "<td>65.03</td>\n",
       "</tr>\n",
       "<tr>\n",
       "<th class=\"h_th2 th_cop_comp10\" scope=\"row\"><span>당기순이익(억)</span></th>\n",
       "<td>3,380</td>\n",
       "<td>43</td>\n",
       "<td>149</td>\n",
       "<td>162</td>\n",
       "<td>-9</td>\n",
       "</tr>\n",
       "<tr>\n",
       "<th class=\"h_th2 th_cop_comp11\" scope=\"row\"><span>주당순이익(원)</span></th>\n",
       "<td>1,067.44</td>\n",
       "<td>56.32</td>\n",
       "<td>386.21</td>\n",
       "<td>1,249.96</td>\n",
       "<td>-25.91</td>\n",
       "</tr>\n",
       "<tr>\n",
       "<th class=\"h_th2 th_cop_comp12\" scope=\"row\"><span>ROE(%)</span></th>\n",
       "<td>10.13</td>\n",
       "<td>23.28</td>\n",
       "<td>-10.05</td>\n",
       "<td>11.63</td>\n",
       "<td class=\"no_data\"></td>\n",
       "</tr>\n",
       "<tr>\n",
       "<th class=\"h_th2 th_cop_comp13\" scope=\"row\"><span>PER(%)</span></th>\n",
       "<td>9.60</td>\n",
       "<td>9.61</td>\n",
       "<td>-5.12</td>\n",
       "<td>10.10</td>\n",
       "<td>6.08</td>\n",
       "</tr>\n",
       "<tr>\n",
       "<th class=\"h_th2 th_cop_comp14\" scope=\"row\"><span>PBR(배)</span></th>\n",
       "<td>0.88</td>\n",
       "<td>1.90</td>\n",
       "<td>0.55</td>\n",
       "<td>1.03</td>\n",
       "<td>1.51</td>\n",
       "</tr>\n",
       "</tbody>\n",
       "</table>\n",
       "<a class=\"more\" href=\"/sise/sise_group_detail.naver?type=upjong&amp;no=307\" onclick=\"clickcr(this, 'dle.22', '', '', event);\">더보기</a>\n",
       "</div>\n",
       "<hr/>\n",
       "<div class=\"dsc_ifrs2\">\n",
       "<ul>\n",
       "<li>PER, PBR 수치는 최근 4분기 기준입니다.</li>\n",
       "<li><em>*</em> 종목은 IFRS (연결) 회계기준을 적용한 종목입니다. (최근 분기보고서 기준이며, 기준 분기는 업종마다 다를 수 있습니다.)</li>\n",
       "<li>IFRS (연결) 적용 종목의 당기순이익 및 가치지표(주당순이익, PER, PBR)는 지배주주지분을 기준으로 산출하였습니다.</li>\n",
       "</ul>\n",
       "</div>\n",
       "</div>\n",
       "<div id=\"aside\">\n",
       "<div class=\"bg_line\"></div>\n",
       "<div class=\"aside_invest_info\">\n",
       "<div class=\"tab tab_invest1\" id=\"tab_invest\">\n",
       "<a href=\"javascript:showArea('tab_invest', 'tab tab_invest1', 'tab_con1', 'tab_con2')\" onclick=\"clickcr(this, 'sop.18', '', '2', event)\"><span>투자정보</span></a>\n",
       "<a href=\"javascript:showArea('tab_invest', 'tab tab_invest2', 'tab_con2', 'tab_con1')\" onclick=\"clickcr(this, 'sop.20', '', '2', event)\"><span>호가10단계</span></a>\n",
       "</div>\n",
       "<div class=\"tab_con1\" id=\"tab_con1\" style=\"display:block\">\n",
       "<h3 class=\"blind\">투자정보</h3>\n",
       "<div class=\"first\">\n",
       "<table summary=\"시가총액 정보\">\n",
       "<caption>시가총액</caption>\n",
       "<tr class=\"strong\">\n",
       "<th scope=\"row\">시가총액</th>\n",
       "<td><em id=\"_market_sum\">\n",
       "\t\t\t\t\t\t\t\t\n",
       "\t\t\t\t\t\t\t\t\n",
       "\t\t\t\t\t\t\t\t\t\n",
       "\t\t\t\t\t\t\t\t\t\n",
       "\t\t\t\t\t\t\t\t\t\t\n",
       "\t\t\t\t\t\t\t\t\t\t\n",
       "\t\t\t\t\t\t\t\t\t\t16조\n",
       "\t\t\t\t\t\t\t\t\t\t\n",
       "\t\t\t\t\t\t\t\t\t\t\t211\n",
       "\t\t\t\t\t\t\t\t\t\t\n",
       "\t\t\t\t\t\t\t\t\t\n",
       "\t\t\t\t\t\t\t\t</em>억원</td>\n",
       "</tr>\n",
       "<tr><th scope=\"row\">\n",
       "<a class=\"link_site\" href=\"/sise/sise_market_sum.naver\" onclick=\"clickcr(this, 'sop.19', '', '1', event)\">시가총액순위</a>\n",
       "</th><td>코스피 <em>20</em>위</td></tr>\n",
       "<tr>\n",
       "<th scope=\"row\">상장주식수</th>\n",
       "<td><em>163,647,814</em></td>\n",
       "</tr>\n",
       "<tr><th scope=\"row\">액면가<span class=\"bar\">l</span>매매단위</th>\n",
       "<td>\n",
       "<em>5,000</em>원\n",
       "\t\t\t\t\t\t\t\t\t<span class=\"bar\">l</span>\n",
       "<em>1</em>주\n",
       "\t\t\t\t\t\t\t\t</td>\n",
       "</tr>\n",
       "</table>\n",
       "</div>\n",
       "<div class=\"gray\">\n",
       "<table class=\"lwidth\" summary=\"외국인한도주식수 정보\">\n",
       "<caption>외국인한도주식수</caption>\n",
       "<tr>\n",
       "<th scope=\"row\">외국인한도주식수(A)</th>\n",
       "<td><em>163,647,814</em></td>\n",
       "</tr>\n",
       "<tr>\n",
       "<th scope=\"row\">외국인보유주식수(B)</th>\n",
       "<td><em>42,433,464</em></td>\n",
       "</tr>\n",
       "<tr class=\"strong\">\n",
       "<th scope=\"row\"><strong>외국인소진율(B/A)</strong><a href=\"javascript:togglePannel('helpPannel0');\" onmouseout=\"hidePannel('helpPannel0');\" onmouseover=\"showPannel('helpPannel0');\"><img alt=\"외국인소진율(B/A) 상세설명\" height=\"11\" src=\"https://ssl.pstatic.net/static/nfinance/2018/10/26/btn_help.png\" width=\"11\"/></a>\n",
       "<div class=\"lyr_section\">\n",
       "<div class=\"tooltip_lyr\" id=\"helpPannel0\" style=\"display:none\">\n",
       "<p>외국인(한도)소진율이란 외국인보유주식수를 외국인한도주식수으로 나눈 값입니다.</p>\n",
       "<p>일반적인 경우에는 외국인한도주식수와 상장주식수가 같아서 외국인 소진율과 보유율이 동일하지만, 국가 기간산업의 경우 한도주식수가 정해져 있어 두 비율이 달라질 수 있습니다.(Ex. 한국전력)</p>\n",
       "<span class=\"arrow\"></span>\n",
       "</div>\n",
       "</div>\n",
       "</th>\n",
       "<td><em>25.93%</em></td>\n",
       "</tr>\n",
       "</table>\n",
       "</div>\n",
       "<div>\n",
       "<table class=\"rwidth\" summary=\"투자의견 정보\">\n",
       "<caption>투자의견</caption>\n",
       "<tr><th scope=\"row\" style=\"width:115px\">투자의견<span class=\"bar\">l</span>목표주가</th>\n",
       "<td style=\"width:115px\">\n",
       "<span class=\"f_up\"><em>4.00</em>매수</span>\n",
       "<span class=\"bar\">l</span>\n",
       "<em>141,389</em>\n",
       "</td></tr>\n",
       "<tr>\n",
       "<th scope=\"row\">52주최고<span class=\"bar\">l</span>최저\n",
       "\t\t\t\t\t\t\t\t\n",
       "\t\t\t\t\t\t\t</th>\n",
       "<td>\n",
       "<em>150,500</em>\n",
       "<span class=\"bar\">l</span>\n",
       "<em>85,600</em>\n",
       "</td>\n",
       "</tr>\n",
       "</table>\n",
       "</div>\n",
       "<div>\n",
       "<table class=\"per_table\" summary=\"PER/EPS 정보\">\n",
       "<caption>PER/EPS</caption>\n",
       "<tbody>\n",
       "<tr>\n",
       "<th scope=\"row\">\n",
       "\t \t\t\t\t\t\t\t\tPER<span class=\"bar\">l</span>EPS<span class=\"date\">(2022.06)</span><a href=\"javascript:togglePannel('helpPannel1');\" onmouseout=\"hidePannel('helpPannel1');\" onmouseover=\"showPannel('helpPannel1');\"><img alt=\"추정PER EPS 상세설명\" height=\"11\" src=\"https://ssl.pstatic.net/static/nfinance/2018/10/26/btn_help.png\" width=\"11\"/></a>\n",
       "<div class=\"lyr_section\">\n",
       "<div class=\"tooltip_lyr\" id=\"helpPannel1\" style=\"display:none\">\n",
       "<p>\n",
       "<strong>PER = 현재가 ÷ EPS</strong>\n",
       "\t\t\t\t\t\t\t\t\t\t\t\tEPS는 지배기업귀속 최근 4분기 합산 순이익을\n",
       "\t\t\t\t\t\t\t\t\t\t\t\t수정평균발행주식수로 나눈 값이며, 보통주와\n",
       "\t\t\t\t\t\t\t\t\t\t\t\t우선주를 합산해서 계산합니다.\n",
       "\t\t\t\t\t\t\t\t\t\t\t</p>\n",
       "<span class=\"arrow\"></span>\n",
       "</div>\n",
       "</div>\n",
       "</th>\n",
       "<td>\n",
       "<em id=\"_per\">9.60</em>배\n",
       "\t\t\t\t\t\t\t\t\t\n",
       "\t\t\t\t\t\t\t\t\t<span class=\"bar\">l</span>\n",
       "<em id=\"_eps\">10,193</em>원\n",
       "\t\t\t\t\t\t\t\t\t\n",
       "\t \t\t\t\t\t\t\t</td>\n",
       "</tr>\n",
       "</tbody>\n",
       "<tr>\n",
       "<th scope=\"row\">추정PER<span class=\"bar\">l</span>EPS<a href=\"javascript:togglePannel('helpPannel3');\" onmouseout=\"hidePannel('helpPannel3');\" onmouseover=\"showPannel('helpPannel3');\"><img alt=\"추정PER EPS 상세설명\" height=\"11\" src=\"https://ssl.pstatic.net/static/nfinance/2018/10/26/btn_help.png\" width=\"11\"/></a>\n",
       "<div class=\"lyr_section\">\n",
       "<div class=\"tooltip_lyr tooltip_lyr2\" id=\"helpPannel3\" style=\"display:none\">\n",
       "<p>\n",
       "<strong>추정PER = 현재가÷추정EPS</strong>\n",
       "\t\t\t\t\t\t\t\t\t\t\t\t추정EPS는 올해 예상EPS에 대한 증권사 추정 평균값(컨센서스)으로 에프앤가이드에서 제공합니다. 추정 증권사가 3개 이상인 경우에만 제공합니다.\n",
       "\t\t\t\t\t\t\t\t\t\t\t</p>\n",
       "<span class=\"arrow\"></span>\n",
       "</div>\n",
       "</div>\n",
       "</th>\n",
       "<td>\n",
       "<em id=\"_cns_per\">8.00</em>배\n",
       "\t\t\t\t\t\t\t\t\t\n",
       "\t\t\t\t\t\t\t\t\t<span class=\"bar\">l</span>\n",
       "<em id=\"_cns_eps\">12,788</em>원\n",
       "\t\t\t\t\t\t\t\t\t\n",
       "\t\t\t\t\t\t\t\t</td>\n",
       "</tr>\n",
       "<tr>\n",
       "<th scope=\"row\">PBR<span class=\"bar\">l</span>BPS <span class=\"date\">(2022.06)</span><a href=\"javascript:togglePannel('helpPannel4');\" onmouseout=\"hidePannel('helpPannel4');\" onmouseover=\"showPannel('helpPannel4');\"><img alt=\"PBR | BPS 상세설명\" height=\"11\" src=\"https://ssl.pstatic.net/static/nfinance/2018/10/26/btn_help.png\" width=\"11\"/></a>\n",
       "<div class=\"lyr_section\">\n",
       "<div class=\"tooltip_lyr tooltip_lyr3\" id=\"helpPannel4\" style=\"display:none\">\n",
       "<p>\n",
       "<strong>PBR= 현재가 ÷ BPS</strong>\n",
       "\t\t\t\t\t\t\t\t\t\t\t\tBPS는 최근 분기 자본총계를 수정기말유통주식수로\n",
       "\t\t\t\t\t\t\t\t\t\t\t\t나눈 값이며, 보통주와 우선주를 합산해서 계산합니다.\n",
       "\t\t\t\t\t\t\t\t\t\t\t</p>\n",
       "<span class=\"arrow\"></span>\n",
       "</div>\n",
       "</div>\n",
       "</th>\n",
       "<td>\n",
       "<em id=\"_pbr\">0.88</em>배\n",
       "\t\t\t\t\t\t\t\t\t\n",
       "\t\t\t\t\t\t\t\t\t<span class=\"bar\">l</span>\n",
       "<em>111,284</em>원\n",
       "\t\t\t\t\t\t\t\t\t\n",
       "\t\t\t\t\t\t\t\t</td>\n",
       "</tr>\n",
       "<tr>\n",
       "<th scope=\"row\">배당수익률<span class=\"bar\">l</span><span>2021.12</span><a href=\"javascript:togglePannel('helpPannel5');\" onmouseout=\"hidePannel('helpPannel5');\" onmouseover=\"showPannel('helpPannel5');\"><img alt=\"배당수익률 상세설명\" height=\"11\" src=\"https://ssl.pstatic.net/static/nfinance/2018/10/26/btn_help.png\" width=\"11\"/></a>\n",
       "<div class=\"lyr_section\">\n",
       "<div class=\"tooltip_lyr dividend_layer\" id=\"helpPannel5\" style=\"display:none\">\n",
       "<strong>배당수익률 = (배당금 / 현재가) x 100</strong>\n",
       "<p>배당금은 최근 결산연도 기준의 중간배당을 포함한 총 배당금입니다.</p>\n",
       "<span class=\"arrow\"></span>\n",
       "</div>\n",
       "</div>\n",
       "</th>\n",
       "<td>\n",
       "<em id=\"_dvr\">0.87</em>%\n",
       "\t\t\t\t\t\t\t\t\t\n",
       "\t\t\t\t\t\t\t\t</td>\n",
       "</tr>\n",
       "</table>\n",
       "</div>\n",
       "<div class=\"gray\">\n",
       "<table summary=\"동일업종 PER 정보\">\n",
       "<caption>동일업종 PER</caption>\n",
       "<tr class=\"strong\">\n",
       "<th scope=\"row\"><a class=\"link_site\" href=\"/sise/sise_group_detail.naver?type=upjong&amp;no=307\" onclick=\"clickcr(this, 'sop.19', '', '2', event)\">동일업종 PER</a></th>\n",
       "<td>\n",
       "<em>9.17</em>배\n",
       "\t\t\t\t\t\t\t\t\t\n",
       "\t\t\t\t\t\t\t\t</td>\n",
       "</tr>\n",
       "<tr>\n",
       "<th scope=\"row\"><a class=\"link_site\" href=\"/sise/sise_group_detail.naver?type=upjong&amp;no=307\" onclick=\"clickcr(this, 'sop.19', '', '3', event)\">동일업종 등락률</a></th>\n",
       "<td class=\"f_up\"><em>\n",
       "\t\t\t\t+4.07%\n",
       "\t\t\t\t</em></td>\n",
       "</tr>\n",
       "</table>\n",
       "</div>\n",
       "</div>\n",
       "<div class=\"tab_con2\" id=\"tab_con2\" style=\"display:none\">\n",
       "<h3 class=\"blind\">호가 10단계</h3>\n",
       "<table summary=\"호가10단계 정보\">\n",
       "<caption>호가 10단계</caption>\n",
       "<tr>\n",
       "<th scope=\"col\">매도잔량</th>\n",
       "<th scope=\"col\">호가<span class=\"txt_color\">(20분지연)</span></th>\n",
       "<th class=\"th_r\" scope=\"col\">매수잔량</th>\n",
       "</tr>\n",
       "<tr><td class=\"space\" colspan=\"3\"></td></tr>\n",
       "<tr class=\"f_down\">\n",
       "<td>\n",
       "\t\t\t\t\n",
       "\t\t\t\t\t\n",
       "\t\t\t\t\t1,753\n",
       "\t\t\t\t\n",
       "\t\t\t\t</td>\n",
       "<td>\n",
       "\t\t\t\t\n",
       "\t\t\t\t\t\n",
       "\t\t\t\t\t98,900\n",
       "\t\t\t\t\n",
       "\t\t\t\t</td>\n",
       "<td class=\"td_r\"></td>\n",
       "</tr>\n",
       "<tr class=\"f_down\">\n",
       "<td>\n",
       "\t\t\t\t\n",
       "\t\t\t\t\t\n",
       "\t\t\t\t\t3,433\n",
       "\t\t\t\t\n",
       "\t\t\t\t</td>\n",
       "<td>\n",
       "\t\t\t\t\n",
       "\t\t\t\t\t\n",
       "\t\t\t\t\t98,800\n",
       "\t\t\t\t\n",
       "\t\t\t\t</td>\n",
       "<td class=\"td_r\"></td>\n",
       "</tr>\n",
       "<tr class=\"f_down\">\n",
       "<td>\n",
       "\t\t\t\t\n",
       "\t\t\t\t\t\n",
       "\t\t\t\t\t4,298\n",
       "\t\t\t\t\n",
       "\t\t\t\t</td>\n",
       "<td>\n",
       "\t\t\t\t\n",
       "\t\t\t\t\t\n",
       "\t\t\t\t\t98,700\n",
       "\t\t\t\t\n",
       "\t\t\t\t</td>\n",
       "<td class=\"td_r\"></td>\n",
       "</tr>\n",
       "<tr class=\"f_down\">\n",
       "<td>\n",
       "\t\t\t\t\n",
       "\t\t\t\t\t\n",
       "\t\t\t\t\t3,545\n",
       "\t\t\t\t\n",
       "\t\t\t\t</td>\n",
       "<td>\n",
       "\t\t\t\t\n",
       "\t\t\t\t\t\n",
       "\t\t\t\t\t98,600\n",
       "\t\t\t\t\n",
       "\t\t\t\t</td>\n",
       "<td class=\"td_r\"></td>\n",
       "</tr>\n",
       "<tr class=\"f_down\">\n",
       "<td>\n",
       "\t\t\t\t\n",
       "\t\t\t\t\t\n",
       "\t\t\t\t\t9,068\n",
       "\t\t\t\t\n",
       "\t\t\t\t</td>\n",
       "<td>\n",
       "\t\t\t\t\n",
       "\t\t\t\t\t\n",
       "\t\t\t\t\t98,500\n",
       "\t\t\t\t\n",
       "\t\t\t\t</td>\n",
       "<td class=\"td_r\"></td>\n",
       "</tr>\n",
       "<tr class=\"f_down\">\n",
       "<td>\n",
       "\t\t\t\t\n",
       "\t\t\t\t\t\n",
       "\t\t\t\t\t5,006\n",
       "\t\t\t\t\n",
       "\t\t\t\t</td>\n",
       "<td>\n",
       "\t\t\t\t\n",
       "\t\t\t\t\t\n",
       "\t\t\t\t\t98,400\n",
       "\t\t\t\t\n",
       "\t\t\t\t</td>\n",
       "<td class=\"td_r\"></td>\n",
       "</tr>\n",
       "<tr class=\"f_down\">\n",
       "<td>\n",
       "\t\t\t\t\n",
       "\t\t\t\t\t\n",
       "\t\t\t\t\t4,778\n",
       "\t\t\t\t\n",
       "\t\t\t\t</td>\n",
       "<td>\n",
       "\t\t\t\t\n",
       "\t\t\t\t\t\n",
       "\t\t\t\t\t98,300\n",
       "\t\t\t\t\n",
       "\t\t\t\t</td>\n",
       "<td class=\"td_r\"></td>\n",
       "</tr>\n",
       "<tr class=\"f_down\">\n",
       "<td>\n",
       "\t\t\t\t\n",
       "\t\t\t\t\t\n",
       "\t\t\t\t\t8,078\n",
       "\t\t\t\t\n",
       "\t\t\t\t</td>\n",
       "<td>\n",
       "\t\t\t\t\n",
       "\t\t\t\t\t\n",
       "\t\t\t\t\t98,200\n",
       "\t\t\t\t\n",
       "\t\t\t\t</td>\n",
       "<td class=\"td_r\"></td>\n",
       "</tr>\n",
       "<tr class=\"f_down\">\n",
       "<td>\n",
       "\t\t\t\t\n",
       "\t\t\t\t\t\n",
       "\t\t\t\t\t5,018\n",
       "\t\t\t\t\n",
       "\t\t\t\t</td>\n",
       "<td>\n",
       "\t\t\t\t\n",
       "\t\t\t\t\t\n",
       "\t\t\t\t\t98,100\n",
       "\t\t\t\t\n",
       "\t\t\t\t</td>\n",
       "<td class=\"td_r\"></td>\n",
       "</tr>\n",
       "<tr class=\"f_down strong\">\n",
       "<td>\n",
       "\t\t\t\t\n",
       "\t\t\t\t\t\n",
       "\t\t\t\t\t22,259\n",
       "\t\t\t\t\n",
       "\t\t\t\t</td>\n",
       "<td>\n",
       "\t\t\t\t\n",
       "\t\t\t\t\t\n",
       "\t\t\t\t\t98,000\n",
       "\t\t\t\t\n",
       "\t\t\t\t</td>\n",
       "<td class=\"td_r\"></td>\n",
       "</tr>\n",
       "<tr><td class=\"line_dot\" colspan=\"3\"></td></tr>\n",
       "<tr class=\"f_up strong\">\n",
       "<td></td>\n",
       "<td>\n",
       "\t\t\t\t\n",
       "\t\t\t\t\t\n",
       "\t\t\t\t\t97,900\n",
       "\t\t\t\t\n",
       "\t\t\t\t</td>\n",
       "<td class=\"td_r\">\n",
       "\t\t\t\t\n",
       "\t\t\t\t\t\n",
       "\t\t\t\t\t994\n",
       "\t\t\t\t\n",
       "\t\t\t\t</td>\n",
       "</tr>\n",
       "<tr class=\"f_up\">\n",
       "<td></td>\n",
       "<td>\n",
       "\t\t\t\t\n",
       "\t\t\t\t\t\n",
       "\t\t\t\t\t97,800\n",
       "\t\t\t\t\n",
       "\t\t\t\t</td>\n",
       "<td class=\"td_r\">\n",
       "\t\t\t\t\n",
       "\t\t\t\t\t\n",
       "\t\t\t\t\t1,965\n",
       "\t\t\t\t\n",
       "\t\t\t\t</td>\n",
       "</tr>\n",
       "<tr class=\"f_up\">\n",
       "<td></td>\n",
       "<td>\n",
       "\t\t\t\t\n",
       "\t\t\t\t\t\n",
       "\t\t\t\t\t97,700\n",
       "\t\t\t\t\n",
       "\t\t\t\t</td>\n",
       "<td class=\"td_r\">\n",
       "\t\t\t\t\n",
       "\t\t\t\t\t\n",
       "\t\t\t\t\t836\n",
       "\t\t\t\t\n",
       "\t\t\t\t</td>\n",
       "</tr>\n",
       "<tr class=\"f_up\">\n",
       "<td></td>\n",
       "<td>\n",
       "\t\t\t\t\n",
       "\t\t\t\t\t\n",
       "\t\t\t\t\t97,600\n",
       "\t\t\t\t\n",
       "\t\t\t\t</td>\n",
       "<td class=\"td_r\">\n",
       "\t\t\t\t\n",
       "\t\t\t\t\t\n",
       "\t\t\t\t\t2,881\n",
       "\t\t\t\t\n",
       "\t\t\t\t</td>\n",
       "</tr>\n",
       "<tr class=\"f_up\">\n",
       "<td></td>\n",
       "<td>\n",
       "\t\t\t\t\n",
       "\t\t\t\t\t\n",
       "\t\t\t\t\t97,500\n",
       "\t\t\t\t\n",
       "\t\t\t\t</td>\n",
       "<td class=\"td_r\">\n",
       "\t\t\t\t\n",
       "\t\t\t\t\t\n",
       "\t\t\t\t\t2,715\n",
       "\t\t\t\t\n",
       "\t\t\t\t</td>\n",
       "</tr>\n",
       "<tr class=\"f_up\">\n",
       "<td></td>\n",
       "<td>\n",
       "\t\t\t\t\n",
       "\t\t\t\t\t\n",
       "\t\t\t\t\t97,400\n",
       "\t\t\t\t\n",
       "\t\t\t\t</td>\n",
       "<td class=\"td_r\">\n",
       "\t\t\t\t\n",
       "\t\t\t\t\t\n",
       "\t\t\t\t\t2,584\n",
       "\t\t\t\t\n",
       "\t\t\t\t</td>\n",
       "</tr>\n",
       "<tr class=\"f_up\">\n",
       "<td></td>\n",
       "<td>\n",
       "\t\t\t\t\n",
       "\t\t\t\t\t\n",
       "\t\t\t\t\t97,300\n",
       "\t\t\t\t\n",
       "\t\t\t\t</td>\n",
       "<td class=\"td_r\">\n",
       "\t\t\t\t\n",
       "\t\t\t\t\t\n",
       "\t\t\t\t\t3,342\n",
       "\t\t\t\t\n",
       "\t\t\t\t</td>\n",
       "</tr>\n",
       "<tr class=\"f_up\">\n",
       "<td></td>\n",
       "<td>\n",
       "\t\t\t\t\n",
       "\t\t\t\t\t\n",
       "\t\t\t\t\t97,200\n",
       "\t\t\t\t\n",
       "\t\t\t\t</td>\n",
       "<td class=\"td_r\">\n",
       "\t\t\t\t\n",
       "\t\t\t\t\t\n",
       "\t\t\t\t\t2,081\n",
       "\t\t\t\t\n",
       "\t\t\t\t</td>\n",
       "</tr>\n",
       "<tr class=\"f_up\">\n",
       "<td></td>\n",
       "<td>\n",
       "\t\t\t\t\n",
       "\t\t\t\t\t\n",
       "\t\t\t\t\t97,100\n",
       "\t\t\t\t\n",
       "\t\t\t\t</td>\n",
       "<td class=\"td_r\">\n",
       "\t\t\t\t\n",
       "\t\t\t\t\t\n",
       "\t\t\t\t\t1,970\n",
       "\t\t\t\t\n",
       "\t\t\t\t</td>\n",
       "</tr>\n",
       "<tr class=\"f_up\">\n",
       "<td></td>\n",
       "<td>\n",
       "\t\t\t\t\n",
       "\t\t\t\t\t\n",
       "\t\t\t\t\t97,000\n",
       "\t\t\t\t\n",
       "\t\t\t\t</td>\n",
       "<td class=\"td_r\">\n",
       "\t\t\t\t\n",
       "\t\t\t\t\t\n",
       "\t\t\t\t\t4,609\n",
       "\t\t\t\t\n",
       "\t\t\t\t</td>\n",
       "</tr>\n",
       "<tr><td class=\"space\" colspan=\"3\"></td></tr>\n",
       "<tr class=\"total\">\n",
       "<td class=\"f_down\">\n",
       "\t\t\t\t\t\n",
       "\t\t\t\t\t\t\n",
       "\t\t\t\t\t\t67,236\n",
       "\t\t\t\t\t\n",
       "\t\t\t\t</td>\n",
       "<td>잔량합계</td>\n",
       "<td class=\"f_up\">\n",
       "\t\t\t\t\t\n",
       "\t\t\t\t\t\t\n",
       "\t\t\t\t\t\t23,977\n",
       "\t\t\t\t\t\n",
       "\t\t\t\t</td>\n",
       "</tr>\n",
       "</table>\n",
       "</div>\n",
       "</div>\n",
       "<script language=\"javascript\" src=\"https://ssl.pstatic.net/imgstock/static.pc/20220907184351/js/item_main_right_area.js\"></script>\n",
       "<div class=\"aside_section cop_list\">\n",
       "<div class=\"tab tab_search1\" id=\"tab_search\">\n",
       "<a href=\"javascript:showRecent('tab_search', 'tab tab_search1', '066570', 'recent')\" onclick=\"jindo.$Cookie().set('summary_item_type', 'recent', 30, 'finance.naver.com'); clickcr(this, 'rch.1', '', '', event);\"><span>최근조회</span></a>\n",
       "<a href=\"javascript:showRecent('tab_search', 'tab tab_search2', '066570', 'mystock')\" onclick=\"jindo.$Cookie().set('summary_item_type', 'mystock', 30, 'finance.naver.com'); clickcr(this, 'rch.3', '', '', event);\"><span>MY STOCK</span></a>\n",
       "<!-- [D] 활성화된 탭메뉴에 따라 blind text 변경해주세요 -->\n",
       "<h2 class=\"blind\" id=\"blind_text_tab_search\">최근조회</h2>\n",
       "</div>\n",
       "<script id=\"recent_list_none\" type=\"text/template\">\n",
       "\t\t\t<div class=\"no_result\">\n",
       "\t\t\t\t<img src=\"https://ssl.pstatic.net/static/nfinance/img/no_result_aside1_v2.gif\" width=\"144\" height=\"13\" border=\"0\" alt=\"최근 조회된 종목이 없습니다.\" class=\"noresult_txt1\">\n",
       "\t\t\t</div>\n",
       "\t\t</script>\n",
       "<script id=\"mystock_logout\" type=\"text/template\">\n",
       "\t\t\t<div class=\"no_result\">\n",
       "\t\t\t\t<map name=\"no_result_aside2\">\n",
       "\t\t\t\t<area shape=\"rect\" coords=\"6,38,107,52\" href=\"javascript:naver_login()\" alt=\"My stock 로그인\">\n",
       "\t\t\t\t</map>\n",
       "\t\t\t\t<img src=\"https://ssl.pstatic.net/imgstock/item_renewal/no_result_aside2.gif\" width=\"116\" height=\"53\" border=\"0\" usemap=\"#no_result_aside2\" title=\"\" alt=\"로그인하시면 등록하신 종목의 시세가 제공됩니다.\" class=\"noresult_txt2\">\n",
       "\t\t\t</div>\n",
       "\t\t</script>\n",
       "<script id=\"mystock_list_none\" type=\"text/template\">\n",
       "\t\t\t<div class=\"no_result\">\n",
       "\t\t\t\t<map name=\"no_result_aside3\">\n",
       "\t\t\t\t<area shape=\"rect\" coords=\"11,38,125,52\" href=\"/mystock/\" alt=\"My stock 바로가기\">\n",
       "\t\t\t\t</map>\n",
       "\t\t\t\t<img src=\"https://ssl.pstatic.net/imgstock/item_renewal/no_result_aside3.gif\" width=\"137\" height=\"53\" border=\"0\" usemap=\"#no_result_aside3\" title=\"\" alt=\"MY STOCK에 관심종목을 등록하시면 시세가 제공됩니다.\" class=\"noresult_txt3\">\n",
       "\t\t\t</div>\n",
       "\t\t</script>\n",
       "<script id=\"recent_list_exist\" type=\"text/template\">\n",
       "\t\t\t{if type == \"recent\"}\n",
       "\t\t\t\t{set listNclicksId=\"rch.2\"}\n",
       "\t\t\t\t<table summary=\"최근조회 리스트\" class=\"con_search1\">\n",
       "\t\t\t\t<caption>최근조회</caption>\n",
       "\t\t\t\t\t<colgroup><col><col width=\"50\"><col width=\"72\"></colgroup>\n",
       "\t\t\t{else}\n",
       "\t\t\t\t{set listNclicksId=\"rch.4\"}\n",
       "\t\t\t\t<table summary=\"MY STOCK 리스트\" class=\"con_search2\">\n",
       "\t\t\t\t<caption>MY STOCK</caption>\n",
       "\t\t\t\t\t<colgroup><col><col width=\"60\"><col width=\"60\"></colgroup>\n",
       "\t\t\t{/if}\n",
       "\t\t\t\t<thead>\n",
       "\t\t\t\t<tr>\n",
       "\t\t\t\t\t<th>업체명</th>\n",
       "\t\t\t\t\t<th scope=\"col\">거래량</th>\n",
       "\t\t\t\t\t<th scope=\"col\">전일비</th>\n",
       "\t\t\t\t</tr>\n",
       "\t\t\t\t</thead>\n",
       "\t\t\t\t{for index:itemList in item_list}\n",
       "\t\t\t\t\t{if index == 5 || index == 10}\n",
       "\t\t\t\t\t\t<tr><td colspan=\"3\" class=\"line\"></td></tr>\n",
       "\t\t\t\t\t{/if}\n",
       "\t\t\t\t\t<tr>\n",
       "\t\t\t\t\t\t<th scope=\"row\">\n",
       "\t\t\t\t\t\t<a href=\"/item/main.naver?code={=itemList.itemcode}\" onClick=\"clickcr(this, '{=listNclicksId}', '{=itemList.itemcode}', '{=index + 1}', event);\" target=_top>{=itemList.itemname}</a>\n",
       "\t\t\t\t\t\t</th>\n",
       "\t\t\t\t\t\t<td id=\"nowVal_td_{=index}\">{=itemList.now_val}</td>\n",
       "\t\t\t\t\t\t<td>\n",
       "\t\t\t\t\t\t\t{if itemList.risefall == '1'}\n",
       "\t\t\t\t\t\t\t\t<em class=\"f_up up_arrow\" id=\"changeVal_em_{=index}\"><span id=\"changeVal_span_{=index}\">상한가</span>{=itemList.change_val}</em>\n",
       "\t\t\t\t\t\t\t{elseif itemList.risefall == '2'}\n",
       "\t\t\t\t\t\t\t\t<em class=\"f_up up\" id=\"changeVal_em_{=index}\"><span id=\"changeVal_span_{=index}\">상향</span>{=itemList.change_val}</em>\n",
       "\t\t\t\t\t\t\t{elseif itemList.risefall == '4'}\n",
       "\t\t\t\t\t\t\t\t<em class=\"f_down down_arrow\" id=\"changeVal_em_{=index}\"><span id=\"changeVal_span_{=index}\">하한가</span>{=itemList.change_val}</em>\n",
       "\t\t\t\t\t\t\t{elseif itemList.risefall == '5'}\n",
       "\t\t\t\t\t\t\t\t<em class=\"f_down down\" id=\"changeVal_em_{=index}\"><span id=\"changeVal_span_{=index}\">하향</span>{=itemList.change_val}</em>\n",
       "\t\t\t\t\t\t\t{else}\n",
       "\t\t\t\t\t\t\t\t<em class=\"sam\" id=\"changeVal_em_{=index}\"><span id=\"changeVal_span_{=index}\">보합</span></em>\n",
       "\t\t\t\t\t\t\t{/if}\n",
       "\t\t\t\t\t\t\t{if type == \"recent\"}\n",
       "\t\t\t\t\t\t\t\t<a href=\"javascript:deleteCodeFromRecent('{=itemList.itemcode}', '{=code}', '{=type}', '{=page}')\"><img src=\"https://ssl.pstatic.net/imgstock/item_renewal/btn_delete.gif\" alt=\"삭제\" width=\"11\" height=\"11\"></a>\n",
       "\t\t\t\t\t\t\t{/if}\n",
       "\t\t\t\t\t\t</td>\n",
       "\t\t\t\t\t</tr>\n",
       "\t\t\t\t{/for}\n",
       "\t\t\t</table>\n",
       "\t\t</script>\n",
       "<div id=\"recent_area\"></div>\n",
       "<script id=\"recent_btn_tmpl\" type=\"text/template\">\n",
       "\t\t\t<span>\n",
       "\t\t\t\t{if prev_page != 0 || next_page != 0}\n",
       "\t\t\t\t{if prev_page == 0}\n",
       "\t\t\t\t\t<a href=\"#\" onClick=\"clickcr(this, 'rch.5', '', '', event); return false;\"><img src=\"https://ssl.pstatic.net/static/nfinance/btn_prev2.gif\" width=\"17\" height=\"15\" alt=\"이전\"></a>\n",
       "\t\t\t\t{elseif prev_page > 0}\n",
       "\t\t\t\t\t<a href=\"javascript:movePage('{=code}', '{=type}', '{=prev_page}');\" onClick=\"clickcr(this, 'rch.5', '', '', event)\"><img src=\"https://ssl.pstatic.net/static/nfinance/btn_prev2.gif\" width=\"17\" height=\"15\" alt=\"이전\"></a>\n",
       "\t\t\t\t{/if}\n",
       "\t\t\t\t{if next_page == 0}\n",
       "\t\t\t\t\t<a href=\"#\" onClick=\"clickcr(this, 'rch.6', '', '', event); return false;\"><img src=\"https://ssl.pstatic.net/static/nfinance/btn_next2.gif\" width=\"17\" height=\"15\" alt=\"다음\"></a>\n",
       "\t\t\t\t{elseif next_page > 0}\n",
       "\t\t\t\t\t<a href=\"javascript:movePage('{=code}', '{=type}', '{=next_page}');\" onClick=\"clickcr(this, 'rch.6', '', '', event)\"><img src=\"https://ssl.pstatic.net/static/nfinance/btn_next2.gif\" width=\"17\" height=\"15\" alt=\"다음\"></a>\n",
       "\t\t\t\t{/if}\n",
       "\t\t\t\t{/if}\n",
       "\t\t\t</span>\n",
       "\t\t\t{if type != 'recent'}\n",
       "\t\t\t<a href=\"/mystock/\" class=\"more\" onClick=\"clickcr(this, 'rch.7', '', '', event)\">더보기</a>\n",
       "\t\t\t{/if}\n",
       "\t\t</script>\n",
       "<div class=\"more_info\" id=\"recent_button\"></div>\n",
       "<script type=\"text/javascript\">\n",
       "\t\t\tvar comment_code = \"066570\";\n",
       "\t\t\tvar comment_type = \"recent\";\n",
       "\t\t\tvar comment_page = \"1\";\n",
       "\t\t\t\n",
       "\t\t\t  \tjindo.$Fn(function() {\n",
       "\t\t\t\t\tmovePage('066570', 'recent', '1');\n",
       "\t\t\t\t}).attach(document,\"domready\");\n",
       "\t\t\t\n",
       "\t\t\t</script>\n",
       "</div>\n",
       "<div class=\"aside_section cop_list\">\n",
       "<h2 class=\"h_sub sub_tit9\"><span>인기검색종목</span></h2>\n",
       "<div class=\"tab tab_fav1\" id=\"tab_fav\">\n",
       "<a href=\"javascript:showArea('tab_fav', 'tab tab_fav1', 'fav_kospi', 'fav_kosdaq')\" onclick=\"clickcr(this, 'pss.1', '', '', event);\"><span>코스피</span></a>\n",
       "<a href=\"javascript:showArea('tab_fav', 'tab tab_fav2', 'fav_kosdaq', 'fav_kospi')\" onclick=\"clickcr(this, 'pss.3', '', '', event);\"><span>코스닥</span></a>\n",
       "<!-- [D] 활성화된 탭메뉴에 따라 blind text 변경해주세요 -->\n",
       "<h3 class=\"blind\" id=\"blind_text_tab_fav\">코스피</h3>\n",
       "</div>\n",
       "<div id=\"fav_kospi\" style=\"display:block\">\n",
       "<table class=\"rank\" summary=\"코스피 인기검색종목 리스트\">\n",
       "<caption>코스피 인기검색종목</caption>\n",
       "<colgroup><col/><col width=\"60\"/><col width=\"86\"/></colgroup>\n",
       "<thead>\n",
       "<tr>\n",
       "<th>업체명</th>\n",
       "<th scope=\"col\">거래량</th>\n",
       "<th scope=\"col\">전일비</th>\n",
       "</tr>\n",
       "</thead>\n",
       "<tr>\n",
       "<th class=\"no1\" scope=\"row\"><a href=\"/item/main.naver?code=005930\" onclick=\"clickcr(this, 'pss.2', '', '1', event);\" target=\"_top\">삼성전자</a></th>\n",
       "<td>58,100</td>\n",
       "<td>\n",
       "<em class=\"f_up up\"><span>상향</span>\n",
       "\t\t\t\t2,500\n",
       "\t\t\t\t</em>\n",
       "</td>\n",
       "</tr>\n",
       "<tr>\n",
       "<th class=\"no2\" scope=\"row\"><a href=\"/item/main.naver?code=035720\" onclick=\"clickcr(this, 'pss.2', '', '2', event);\" target=\"_top\">카카오</a></th>\n",
       "<td>70,000</td>\n",
       "<td>\n",
       "<em class=\"f_up up\"><span>상향</span>\n",
       "\t\t\t\t2,000\n",
       "\t\t\t\t</em>\n",
       "</td>\n",
       "</tr>\n",
       "<tr>\n",
       "<th class=\"no3\" scope=\"row\"><a href=\"/item/main.naver?code=005950\" onclick=\"clickcr(this, 'pss.2', '', '3', event);\" target=\"_top\">이수화학</a></th>\n",
       "<td>32,550</td>\n",
       "<td>\n",
       "<em class=\"f_up up\"><span>상향</span>\n",
       "\t\t\t\t3,650\n",
       "\t\t\t\t</em>\n",
       "</td>\n",
       "</tr>\n",
       "<tr>\n",
       "<th class=\"no4\" scope=\"row\"><a href=\"/item/main.naver?code=005380\" onclick=\"clickcr(this, 'pss.2', '', '4', event);\" target=\"_top\">현대차</a></th>\n",
       "<td>200,500</td>\n",
       "<td>\n",
       "<em class=\"f_up up\"><span>상향</span>\n",
       "\t\t\t\t500\n",
       "\t\t\t\t</em>\n",
       "</td>\n",
       "</tr>\n",
       "<tr>\n",
       "<th class=\"no5\" scope=\"row\"><a href=\"/item/main.naver?code=161510\" onclick=\"clickcr(this, 'pss.2', '', '5', event);\" target=\"_top\">ARIRANG 고배..</a></th>\n",
       "<td>11,325</td>\n",
       "<td>\n",
       "<em class=\"f_up up\"><span>상향</span>\n",
       "\t\t\t\t255\n",
       "\t\t\t\t</em>\n",
       "</td>\n",
       "</tr>\n",
       "<tr><td class=\"line\" colspan=\"3\"></td></tr>\n",
       "<tr>\n",
       "<th class=\"no6\" scope=\"row\"><a href=\"/item/main.naver?code=035420\" onclick=\"clickcr(this, 'pss.2', '', '6', event);\" target=\"_top\">NAVER</a></th>\n",
       "<td>238,500</td>\n",
       "<td>\n",
       "<em class=\"f_up up\"><span>상향</span>\n",
       "\t\t\t\t7,000\n",
       "\t\t\t\t</em>\n",
       "</td>\n",
       "</tr>\n",
       "<tr>\n",
       "<th class=\"no7\" scope=\"row\"><a href=\"/item/main.naver?code=009540\" onclick=\"clickcr(this, 'pss.2', '', '7', event);\" target=\"_top\">한국조선해양</a></th>\n",
       "<td>88,300</td>\n",
       "<td>\n",
       "<em class=\"f_up up\"><span>상향</span>\n",
       "\t\t\t\t200\n",
       "\t\t\t\t</em>\n",
       "</td>\n",
       "</tr>\n",
       "<tr>\n",
       "<th class=\"no8\" scope=\"row\"><a href=\"/item/main.naver?code=006400\" onclick=\"clickcr(this, 'pss.2', '', '8', event);\" target=\"_top\">삼성SDI</a></th>\n",
       "<td>602,000</td>\n",
       "<td>\n",
       "<em class=\"f_up up\"><span>상향</span>\n",
       "\t\t\t\t31,000\n",
       "\t\t\t\t</em>\n",
       "</td>\n",
       "</tr>\n",
       "<tr>\n",
       "<th class=\"no9\" scope=\"row\"><a href=\"/item/main.naver?code=005490\" onclick=\"clickcr(this, 'pss.2', '', '9', event);\" target=\"_top\">POSCO홀딩스</a></th>\n",
       "<td>248,000</td>\n",
       "<td>\n",
       "<em class=\"f_up up\"><span>상향</span>\n",
       "\t\t\t\t6,500\n",
       "\t\t\t\t</em>\n",
       "</td>\n",
       "</tr>\n",
       "<tr>\n",
       "<th class=\"no10\" scope=\"row\"><a href=\"/item/main.naver?code=211900\" onclick=\"clickcr(this, 'pss.2', '', '10', event);\" target=\"_top\">KODEX 배당성..</a></th>\n",
       "<td>12,930</td>\n",
       "<td>\n",
       "<em class=\"f_up up\"><span>상향</span>\n",
       "\t\t\t\t355\n",
       "\t\t\t\t</em>\n",
       "</td>\n",
       "</tr>\n",
       "</table>\n",
       "</div>\n",
       "<div id=\"fav_kosdaq\" style=\"display:none\">\n",
       "<table class=\"rank\" summary=\"코스닥 인기검색종목 리스트\">\n",
       "<caption>코스피 인기검색종목</caption>\n",
       "<colgroup><col/><col width=\"50\"/><col width=\"86\"/></colgroup>\n",
       "<thead>\n",
       "<tr>\n",
       "<th>업체명</th>\n",
       "<th scope=\"col\">거래량</th>\n",
       "<th scope=\"col\">전일비</th>\n",
       "</tr>\n",
       "</thead>\n",
       "<tr>\n",
       "<th class=\"no1\" scope=\"row\"><a href=\"/item/main.naver?code=900100\" onclick=\"clickcr(this, 'pss.4', '', '1', event);\" target=\"_top\">애머릿지</a></th>\n",
       "<td>3,585</td>\n",
       "<td>\n",
       "<em class=\"sam\"><span>보합</span></em>\n",
       "</td>\n",
       "</tr>\n",
       "<tr>\n",
       "<th class=\"no2\" scope=\"row\"><a href=\"/item/main.naver?code=079810\" onclick=\"clickcr(this, 'pss.4', '', '2', event);\" target=\"_top\">디이엔티</a></th>\n",
       "<td>10,750</td>\n",
       "<td>\n",
       "<em class=\"f_up up\"><span>상향</span>\n",
       "\t\t\t\t700\n",
       "\t\t\t\t</em>\n",
       "</td>\n",
       "</tr>\n",
       "<tr>\n",
       "<th class=\"no3\" scope=\"row\"><a href=\"/item/main.naver?code=046390\" onclick=\"clickcr(this, 'pss.4', '', '3', event);\" target=\"_top\">삼화네트웍스</a></th>\n",
       "<td>3,195</td>\n",
       "<td>\n",
       "<em class=\"f_up up\"><span>상향</span>\n",
       "\t\t\t\t175\n",
       "\t\t\t\t</em>\n",
       "</td>\n",
       "</tr>\n",
       "<tr>\n",
       "<th class=\"no4\" scope=\"row\"><a href=\"/item/main.naver?code=365340\" onclick=\"clickcr(this, 'pss.4', '', '4', event);\" target=\"_top\">성일하이텍</a></th>\n",
       "<td>154,600</td>\n",
       "<td>\n",
       "<em class=\"f_up up\"><span>상향</span>\n",
       "\t\t\t\t3,400\n",
       "\t\t\t\t</em>\n",
       "</td>\n",
       "</tr>\n",
       "<tr>\n",
       "<th class=\"no5\" scope=\"row\"><a href=\"/item/main.naver?code=263750\" onclick=\"clickcr(this, 'pss.4', '', '5', event);\" target=\"_top\">펄어비스</a></th>\n",
       "<td>57,400</td>\n",
       "<td>\n",
       "<em class=\"f_up up\"><span>상향</span>\n",
       "\t\t\t\t2,400\n",
       "\t\t\t\t</em>\n",
       "</td>\n",
       "</tr>\n",
       "<tr><td class=\"line\" colspan=\"3\"></td></tr>\n",
       "<tr>\n",
       "<th class=\"no6\" scope=\"row\"><a href=\"/item/main.naver?code=282880\" onclick=\"clickcr(this, 'pss.4', '', '6', event);\" target=\"_top\">코윈테크</a></th>\n",
       "<td>27,700</td>\n",
       "<td>\n",
       "<em class=\"f_down down\"><span>하향</span>\n",
       "\t\t\t\t400\n",
       "\t\t\t\t</em>\n",
       "</td>\n",
       "</tr>\n",
       "<tr>\n",
       "<th class=\"no7\" scope=\"row\"><a href=\"/item/main.naver?code=230240\" onclick=\"clickcr(this, 'pss.4', '', '7', event);\" target=\"_top\">에치에프알</a></th>\n",
       "<td>35,250</td>\n",
       "<td>\n",
       "<em class=\"f_down down\"><span>하향</span>\n",
       "\t\t\t\t500\n",
       "\t\t\t\t</em>\n",
       "</td>\n",
       "</tr>\n",
       "<tr>\n",
       "<th class=\"no8\" scope=\"row\"><a href=\"/item/main.naver?code=002230\" onclick=\"clickcr(this, 'pss.4', '', '8', event);\" target=\"_top\">피에스텍</a></th>\n",
       "<td>3,895</td>\n",
       "<td>\n",
       "<em class=\"f_up up\"><span>상향</span>\n",
       "\t\t\t\t80\n",
       "\t\t\t\t</em>\n",
       "</td>\n",
       "</tr>\n",
       "<tr>\n",
       "<th class=\"no9\" scope=\"row\"><a href=\"/item/main.naver?code=391710\" onclick=\"clickcr(this, 'pss.4', '', '9', event);\" target=\"_top\">코닉오토메이..</a></th>\n",
       "<td>5,970</td>\n",
       "<td>\n",
       "<em class=\"f_up up_arrow\"><span>상한가</span>\n",
       "\t\t\t\t1,375\n",
       "\t\t\t\t</em>\n",
       "</td>\n",
       "</tr>\n",
       "<tr>\n",
       "<th class=\"no10\" scope=\"row\"><a href=\"/item/main.naver?code=293490\" onclick=\"clickcr(this, 'pss.4', '', '10', event);\" target=\"_top\">카카오게임즈</a></th>\n",
       "<td>51,800</td>\n",
       "<td>\n",
       "<em class=\"f_up up\"><span>상향</span>\n",
       "\t\t\t\t2,600\n",
       "\t\t\t\t</em>\n",
       "</td>\n",
       "</tr>\n",
       "</table>\n",
       "</div>\n",
       "</div>\n",
       "<div class=\"aside_section rate\">\n",
       "<h2 class=\"h_sub sub_tit8\"><span>시세정보바로가기</span></h2>\n",
       "<p>\n",
       "<a href=\"/sise/sise_index.naver?code=KOSPI\" onclick=\"clickcr(this, 'quk.2', '', '', event);\">코스피</a>\n",
       "<a href=\"/sise/sise_index.naver?code=KOSDAQ\" onclick=\"clickcr(this, 'quk.3', '', '', event);\">코스닥</a>\n",
       "<a href=\"/sise/sise_index.naver?code=FUT\" onclick=\"clickcr(this, 'quk.4', '', '', event);\">선물</a>\n",
       "<a class=\"end\" href=\"/sise/konex.naver\" onclick=\"clickcr(this, 'quk.konex', '', '', event);\">코넥스</a><br/>\n",
       "<a href=\"/sise/sise_index.naver?code=KPI200\" onclick=\"clickcr(this, 'quk.30', '', '', event);\">코스피200</a>\n",
       "<a href=\"/sise/etf.naver\" onclick=\"clickcr(this, 'quk.31', '', '', event);\">ETF</a>\n",
       "<a href=\"/sise/sise_group.naver?type=upjong\" onclick=\"clickcr(this, 'quk.5', '', '', event);\"><strong>업종별</strong></a>\n",
       "<a class=\"end\" href=\"/sise/theme.naver\" onclick=\"clickcr(this, 'quk.6', '', '', event);\">테마별</a><br/>\n",
       "<a href=\"/sise/sise_upper.naver\" onclick=\"clickcr(this, 'quk.7', '', '', event);\"><strong>상한가</strong></a>\n",
       "<a href=\"/sise/sise_lower.naver\" onclick=\"clickcr(this, 'quk.8', '', '', event);\">하한가</a>\n",
       "<a href=\"/sise/sise_rise.naver\" onclick=\"clickcr(this, 'quk.9', '', '', event);\">상승</a>\n",
       "<a href=\"/sise/sise_steady.naver\" onclick=\"clickcr(this, 'quk.10', '', '', event);\">보합</a>\n",
       "<a class=\"end\" href=\"/sise/sise_fall.naver\" onclick=\"clickcr(this, 'quk.11', '', '', event);\">하락</a><br/>\n",
       "<a href=\"/sise/sise_quant.naver\" onclick=\"clickcr(this, 'quk.12', '', '', event);\">거래상위</a>\n",
       "<a href=\"/sise/sise_quant_high.naver\" onclick=\"clickcr(this, 'quk.13', '', '', event);\"><strong>급증</strong></a>\n",
       "<a class=\"end\" href=\"/sise/sise_quant_low.naver\" onclick=\"clickcr(this, 'quk.14', '', '', event);\">급감</a><br/>\n",
       "<a href=\"/sise/sise_high_down.naver\" onclick=\"clickcr(this, 'quk.15', '', '', event);\">고가대비급락</a>\n",
       "<a class=\"end\" href=\"/sise/sise_low_up.naver\" onclick=\"clickcr(this, 'quk.16', '', '', event);\">저가대비급등</a>\n",
       "</p>\n",
       "<p>\n",
       "<a href=\"/sise/sise_market_sum.naver\" onclick=\"clickcr(this, 'quk.17', '', '', event);\"><strong>시가총액상위</strong></a>\n",
       "<a class=\"end\" href=\"/sise/sise_foreign_hold.naver\" onclick=\"clickcr(this, 'quk.18', '', '', event);\">외국인보유현황</a><br/>\n",
       "<a href=\"/sise/sise_deal_rank.naver\" onclick=\"clickcr(this, 'quk.19', '', '', event);\">외국인매매</a>\n",
       "<a href=\"/sise/sise_deal_rank.naver?investor_gubun=1000\" onclick=\"clickcr(this, 'quk.19-1', '', '', event);\">기관매매</a>\n",
       "<a class=\"end\" href=\"/sise/sise_program.naver\" onclick=\"clickcr(this, 'quk.20', '', '', event);\">프로그램매매</a><br/>\n",
       "<a href=\"/sise/management.naver\" onclick=\"clickcr(this, 'quk.21', '', '', event);\">관리·감리종목</a>\n",
       "<a class=\"end\" href=\"/sise/sise_new_stock.naver\" onclick=\"clickcr(this, 'quk.22', '', '', event);\">신규상장종목</a><br/>\n",
       "<a href=\"/sise/sise_deposit.naver\" onclick=\"clickcr(this, 'quk.23', '', '', event);\">증시자금동향</a>\n",
       "<a class=\"end\" href=\"/sise/sise_trans_style.naver\" onclick=\"clickcr(this, 'quk.24', '', '', event);\">투자자별매매동향</a>\n",
       "</p>\n",
       "<p>\n",
       "<a href=\"/sise/item_gap.naver\" onclick=\"clickcr(this, 'quk.25', '', '', event);\">갭상승 종목</a>\n",
       "<a class=\"end\" href=\"/sise/item_gold.naver\" onclick=\"clickcr(this, 'quk.26', '', '', event);\">골든크로스 종목</a><br/>\n",
       "<a href=\"/sise/item_igyuk.naver\" onclick=\"clickcr(this, 'quk.27', '', '', event);\">이격도과열종목</a>\n",
       "<a class=\"end\" href=\"/sise/item_overheating_1.naver\" onclick=\"clickcr(this, 'quk.28', '', '', event);\">투자심리과열종목</a><br/>\n",
       "<a class=\"end\" href=\"/sise/item_overheating_2.naver\" onclick=\"clickcr(this, 'quk.29', '', '', event);\">상대강도과열종목</a>\n",
       "</p>\n",
       "<a class=\"more\" href=\"/sise/\" onclick=\"clickcr(this, 'quk.1', '', '', event);\">더보기</a>\n",
       "<div class=\"hidden_line\"></div>\n",
       "</div>\n",
       "<div class=\"aside_section notice\">\n",
       "<h2 class=\"h_sub sub_tit10\"><span>공지사항</span></h2>\n",
       "<ul>\n",
       "<li><a href=\"https://finance.naver.com/notice.naver?noticeId=7471\" onclick=\"clickcr(this, 'ice.2', 'https://finance.naver.com/notice.naver?noticeId=7471', '1', event)\">[서울경찰청] 수익률 300%보장...</a></li>\n",
       "<li><a href=\"\" onclick=\"clickcr(this, 'ice.2', '', '2', event)\"></a></li>\n",
       "<li><a href=\"\" onclick=\"clickcr(this, 'ice.2', '', '3', event)\"></a></li>\n",
       "<li><a href=\"\" onclick=\"clickcr(this, 'ice.2', '', '4', event)\"></a></li>\n",
       "<li><a href=\"\" onclick=\"clickcr(this, 'ice.2', '', '5', event)\"></a></li>\n",
       "</ul>\n",
       "<a class=\"more\" href=\"https://finance.naver.com/notice.naver\" onclick=\"clickcr(this, 'ice.1', '', '', event);\">더보기</a>\n",
       "</div>\n",
       "</div>\n",
       "</div>\n",
       "</div>\n",
       "<div id=\"footer\">\n",
       "<ul>\n",
       "<li class=\"first\">\n",
       "<a href=\"https://www.naver.com/rules/service.html\" onclick=\"clickcr(this, 'fot.service', '', '', event);\" target=\"_blank\">이용약관</a>\n",
       "</li>\n",
       "<li>\n",
       "<a href=\"https://finance.naver.com/rules.naver\" onclick=\"clickcr(this, 'fot.policy', '', '', event);\" target=\"_blank\">금융게시판 운영원칙</a>\n",
       "</li>\n",
       "<li>\n",
       "<a href=\"https://www.naver.com/rules/privacy.html\" onclick=\"clickcr(this, 'fot.privacy', '', '', event);\" target=\"_blank\"><strong>개인정보처리방침</strong></a>\n",
       "</li>\n",
       "<li>\n",
       "<a href=\"https://www.naver.com/rules/disclaimer.html\" onclick=\"clickcr(this, 'fot.limit', '', '', event);\" target=\"_blank\">책임의 한계와 법적고지</a>\n",
       "</li>\n",
       "<li>\n",
       "<a href=\"https://help.naver.com/service/5617/category/bookmark?lang=ko\" onclick=\"clickcr(this, 'fot.help', '', '', event);\" target=\"_blank\">금융 고객센터</a>\n",
       "</li>\n",
       "</ul>\n",
       "<p class=\"desc\">네이버(주)가 제공하는 금융 정보는 각 콘텐츠 제공업체<a class=\"desc_help\" href=\"javascript:;\" onclick=\"togglePanelFooter('footerPanel0');\"><img alt=\"제공업체 상세설명\" height=\"17\" src=\"https://ssl.pstatic.net/static/nfinance/2018/06/29/btn_help.png\" width=\"17\"/></a>로부터 받는 투자 참고사항이며, 오류가 발생하거나 지연될 수 있습니다.<br/>네이버(주)와 콘텐츠 제공업체는 제공된 정보에 의한 투자 결과에 법적인 책임을 지지 않습니다. 게시된 정보는 무단으로 배포할 수 없습니다.</p>\n",
       "<div class=\"provider_layer\" id=\"footerPanel0\" onblur=\"hidePannel('footerPanel0')\" style=\"display:none\" tabindex=\"0\">\n",
       "<strong class=\"provider_layer__tit\">콘텐츠 제공업체</strong>\n",
       "<div class=\"provider_layer__txt\">\n",
       "<p><span>코스콤 : </span>실시간 주가정보 및 국내시세정보</p>\n",
       "<p><span>에프앤가이드 : </span>기업 및 재무정보</p>\n",
       "<p><span>KG제로인 : </span>해외 시세, 시장지표 및 펀드 정보</p>\n",
       "<p><span>한국예탁결제원 : </span>주주총회일 및 전자투표 정보</p>\n",
       "<p><span>인포스탁 : </span>국내 테마 정보</p>\n",
       "</div>\n",
       "<span class=\"arrow\"></span>\n",
       "</div>\n",
       "<address>\n",
       "<a class=\"logo\" href=\"https://www.navercorp.com/\" onclick=\"clickcr(this, 'fot.nhn', '', '', event);\" target=\"_blank\"><img alt=\"NAVER\" height=\"11\" src=\"https://ssl.pstatic.net/static/nfinance/2019/02/22/ci_naver.png\" width=\"58\"/></a>\n",
       "<em>Copyright ©</em>\n",
       "<a href=\"https://www.navercorp.com/\" onclick=\"clickcr(this, 'fot.nhn', '', '', event);\" target=\"_blank\">NAVER Corp.</a>\n",
       "<span>All Rights Reserved.</span>\n",
       "</address>\n",
       "</div>\n",
       "<script type=\"text/javascript\">\n",
       "function isVisible(obj) {\n",
       "    if (obj == document) return true\n",
       " \n",
       "    if (!obj) return false\n",
       "    if (!obj.parentNode) return false\n",
       "    if (obj.style) {\n",
       "        if (obj.style.display == 'none') return false\n",
       "        if (obj.style.visibility == 'hidden') return false\n",
       "    }\n",
       " \n",
       "    if (window.getComputedStyle) {\n",
       "        var style = window.getComputedStyle(obj, \"\")\n",
       "        if (style.display == 'none') return false\n",
       "        if (style.visibility == 'hidden') return false\n",
       "    }\n",
       " \n",
       "    var style = obj.currentStyle\n",
       "    if (style) {\n",
       "        if (style['display'] == 'none') return false\n",
       "        if (style['visibility'] == 'hidden') return false\n",
       "    }\n",
       " \n",
       "    return isVisible(obj.parentNode)\n",
       "}\n",
       "\n",
       "function isChildOf(myobj, containerObj) {\n",
       "\twhile(myobj != undefined) {\n",
       "\t\tif (myobj == document.body) {\n",
       "\t\t\tbreak;\n",
       "\t\t} \n",
       "\t\tif (myobj == containerObj) {\n",
       "\t\t\treturn true;\n",
       "\t\t}\n",
       "\t\tmyobj = myobj.parentElement;\n",
       "\t}\n",
       "\treturn false;\t\n",
       "}\n",
       "\n",
       "function gnbLayerClose(e){\n",
       "\tvar target = e.target ? e.target : e.srcElement;\n",
       "\tif (isVisible(document.getElementById('gnb_service_lyr')) || isVisible(document.getElementById('gnb_notice_lyr')) ||isVisible(document.getElementById('gnb_my_lyr')) ) {\n",
       "\t\tif (!isChildOf(target, document.getElementById('gnb'))) {\n",
       "\t\t\tgnbAllLayerClose();\n",
       "\t\t}\n",
       "\t}\t\n",
       "}\n",
       "\n",
       "var isIE = (navigator.userAgent.toLowerCase().indexOf(\"msie\")!=-1 && window.document.all) ? true:false;\n",
       "if (isIE) {\n",
       "\tdocument.attachEvent('onmousedown', gnbLayerClose);\n",
       "} else {\n",
       "\twindow.addEventListener('mousedown', gnbLayerClose);\n",
       "}\n",
       "\n",
       "function showPannel(layerId){\n",
       "    var layer = jindo.$(layerId);\n",
       "    layer.style.display='block';\n",
       "\n",
       "    if (layerId == \"summary_lyr\") {\n",
       "        var layerHeight = jindo.$Element(layer).height();\n",
       "        jindo.$Element(\"summary_ifr\").height(layerHeight);\n",
       "    }\n",
       "}\n",
       "\n",
       "function hidePannel(layerId){\n",
       "    var layer = jindo.$(layerId);\n",
       "    layer.style.display='none';\n",
       "}\n",
       "\n",
       "function togglePanelFooter(layerId) {\n",
       "    var elTargetLayer = jindo.$Element(jindo.$$.getSingle(\"#\" + layerId));\n",
       "\n",
       "    if (elTargetLayer != null) {\n",
       "        if (elTargetLayer.visible()) {\n",
       "            hidePannel(layerId);\n",
       "        } else {\n",
       "            showPannel(layerId);\n",
       "        }\n",
       "    }\n",
       "}\n",
       "\n",
       "// add data-useragent\n",
       "document.documentElement.setAttribute('data-useragent',navigator.userAgent);\n",
       "</script>\n",
       "</div>\n",
       "</body>\n",
       "</html>\n",
       "<script language=\"javascript\" type=\"text/javascript\">\n",
       "\tjindo.$Fn(function(){\n",
       "\t\tjindo.EllipseText.factory(jindo.$$(\".new_bbs DIV.sub_section li span.txt\"), {nAssistWidth: 9});\n",
       "\t}).attach(document,'domready');\n",
       "</script>"
      ]
     },
     "execution_count": 452,
     "metadata": {},
     "output_type": "execute_result"
    }
   ],
   "source": [
    "soup"
   ]
  },
  {
   "cell_type": "code",
   "execution_count": 459,
   "id": "cb2afc14",
   "metadata": {},
   "outputs": [
    {
     "data": {
      "text/plain": [
       "97900"
      ]
     },
     "execution_count": 459,
     "metadata": {},
     "output_type": "execute_result"
    }
   ],
   "source": [
    "int(soup.select('p.no_today > em > span')[0].text.replace(',', ''))"
   ]
  },
  {
   "cell_type": "code",
   "execution_count": 460,
   "id": "f155b3a9",
   "metadata": {},
   "outputs": [
    {
     "name": "stdout",
     "output_type": "stream",
     "text": [
      "1\n"
     ]
    }
   ],
   "source": [
    "print(1)"
   ]
  },
  {
   "cell_type": "code",
   "execution_count": null,
   "id": "908aa9eb",
   "metadata": {},
   "outputs": [],
   "source": []
  }
 ],
 "metadata": {
  "kernelspec": {
   "display_name": "Python 3 (ipykernel)",
   "language": "python",
   "name": "python3"
  },
  "language_info": {
   "codemirror_mode": {
    "name": "ipython",
    "version": 3
   },
   "file_extension": ".py",
   "mimetype": "text/x-python",
   "name": "python",
   "nbconvert_exporter": "python",
   "pygments_lexer": "ipython3",
   "version": "3.10.6"
  }
 },
 "nbformat": 4,
 "nbformat_minor": 5
}
