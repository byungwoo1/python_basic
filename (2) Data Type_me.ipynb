{
  "cells": [
    {
      "cell_type": "markdown",
      "id": "e45a7069",
      "metadata": {
        "id": "e45a7069"
      },
      "source": [
        "[링크 텍스트](https:// [링크 텍스트](https://))![image.png](attachment:image.png)"
      ]
    },
    {
      "cell_type": "markdown",
      "id": "28538d5d",
      "metadata": {
        "id": "28538d5d"
      },
      "source": [
        "## 자료형(Data Types)"
      ]
    },
    {
      "cell_type": "markdown",
      "id": "worse-origin",
      "metadata": {
        "id": "worse-origin"
      },
      "source": [
        "### 수: 정수, 실수"
      ]
    },
    {
      "cell_type": "code",
      "execution_count": null,
      "id": "7cf6fd5f",
      "metadata": {
        "id": "7cf6fd5f"
      },
      "outputs": [],
      "source": [
        "# 정수(integer)는 소수점이 없는 자료형입니다.\n",
        "# 실수(float)는 소수점이 있는 자료형입니다."
      ]
    },
    {
      "cell_type": "code",
      "execution_count": null,
      "id": "unlike-vegetation",
      "metadata": {
        "id": "unlike-vegetation"
      },
      "outputs": [],
      "source": [
        "# a에 정수 3을 할당합니다.\n",
        "a = 3"
      ]
    },
    {
      "cell_type": "code",
      "execution_count": null,
      "id": "designing-diabetes",
      "metadata": {
        "id": "designing-diabetes",
        "outputId": "dcd1f369-c58c-452b-ee34-ec1217f5772d"
      },
      "outputs": [
        {
          "data": {
            "text/plain": [
              "3"
            ]
          },
          "execution_count": 2,
          "metadata": {},
          "output_type": "execute_result"
        }
      ],
      "source": [
        "# a를 출력합니다.\n",
        "a"
      ]
    },
    {
      "cell_type": "code",
      "execution_count": null,
      "id": "convenient-counter",
      "metadata": {
        "id": "convenient-counter",
        "outputId": "35e84986-3143-4a57-bdff-c4f233423d68"
      },
      "outputs": [
        {
          "data": {
            "text/plain": [
              "int"
            ]
          },
          "execution_count": 3,
          "metadata": {},
          "output_type": "execute_result"
        }
      ],
      "source": [
        "# a의 클래스를 확인합니다. a의 클래스는 int입니다.\n",
        "type(a)"
      ]
    },
    {
      "cell_type": "code",
      "execution_count": null,
      "id": "adjacent-superintendent",
      "metadata": {
        "id": "adjacent-superintendent"
      },
      "outputs": [],
      "source": [
        "# b에 실수 3.0을 할당합니다.\n",
        "b = 3.0"
      ]
    },
    {
      "cell_type": "code",
      "execution_count": null,
      "id": "posted-intention",
      "metadata": {
        "id": "posted-intention",
        "outputId": "5ba63a58-14d1-4951-e8e5-f289e979d011"
      },
      "outputs": [
        {
          "data": {
            "text/plain": [
              "3.0"
            ]
          },
          "execution_count": 5,
          "metadata": {},
          "output_type": "execute_result"
        }
      ],
      "source": [
        "# b를 출력합니다.\n",
        "b"
      ]
    },
    {
      "cell_type": "code",
      "execution_count": null,
      "id": "received-commerce",
      "metadata": {
        "id": "received-commerce",
        "outputId": "05a60df5-082e-4277-9dbf-2e07b13956c4"
      },
      "outputs": [
        {
          "data": {
            "text/plain": [
              "float"
            ]
          },
          "execution_count": 6,
          "metadata": {},
          "output_type": "execute_result"
        }
      ],
      "source": [
        "# b의 클래스를 확인합니다. b의 클래스는 float입니다.\n",
        "type(b)"
      ]
    },
    {
      "cell_type": "markdown",
      "id": "sustainable-paint",
      "metadata": {
        "id": "sustainable-paint"
      },
      "source": [
        "### 산술 연산자"
      ]
    },
    {
      "cell_type": "code",
      "execution_count": null,
      "id": "proper-xerox",
      "metadata": {
        "id": "proper-xerox",
        "outputId": "4604a46a-6d3a-431b-ae40-81dd05b8d463"
      },
      "outputs": [
        {
          "data": {
            "text/plain": [
              "6.0"
            ]
          },
          "execution_count": 7,
          "metadata": {},
          "output_type": "execute_result"
        }
      ],
      "source": [
        "# a와 b를 더합니다.\n",
        "a + b"
      ]
    },
    {
      "cell_type": "code",
      "execution_count": null,
      "id": "supported-balance",
      "metadata": {
        "id": "supported-balance",
        "outputId": "ca0e7bcb-f63c-4ac4-938a-20d53147de7c"
      },
      "outputs": [
        {
          "data": {
            "text/plain": [
              "0.0"
            ]
          },
          "execution_count": 8,
          "metadata": {},
          "output_type": "execute_result"
        }
      ],
      "source": [
        "# a에서 b를 뺍니다.\n",
        "a - b"
      ]
    },
    {
      "cell_type": "code",
      "execution_count": null,
      "id": "gothic-organization",
      "metadata": {
        "id": "gothic-organization",
        "outputId": "12177b49-c233-47b5-aef6-0778494a7c6d"
      },
      "outputs": [
        {
          "data": {
            "text/plain": [
              "9.0"
            ]
          },
          "execution_count": 9,
          "metadata": {},
          "output_type": "execute_result"
        }
      ],
      "source": [
        "# a와 b를 곱합니다.\n",
        "a * b"
      ]
    },
    {
      "cell_type": "code",
      "execution_count": null,
      "id": "sought-terrace",
      "metadata": {
        "id": "sought-terrace",
        "outputId": "25f7a822-2a23-4a70-e162-52e42c827e79"
      },
      "outputs": [
        {
          "data": {
            "text/plain": [
              "27.0"
            ]
          },
          "execution_count": 11,
          "metadata": {},
          "output_type": "execute_result"
        }
      ],
      "source": [
        "# a를 b로 거듭제곱합니다.\n",
        "a ** b"
      ]
    },
    {
      "cell_type": "code",
      "execution_count": null,
      "id": "funky-entry",
      "metadata": {
        "id": "funky-entry",
        "outputId": "fcd03dab-8598-4c96-874f-9c73bebc8ff2"
      },
      "outputs": [
        {
          "data": {
            "text/plain": [
              "1.0"
            ]
          },
          "execution_count": 12,
          "metadata": {},
          "output_type": "execute_result"
        }
      ],
      "source": [
        "# a를 b로 나눕니다.\n",
        "a / b"
      ]
    },
    {
      "cell_type": "code",
      "execution_count": null,
      "id": "worldwide-experiment",
      "metadata": {
        "id": "worldwide-experiment",
        "outputId": "993af7b6-e183-4d82-e35a-81fa92356d63"
      },
      "outputs": [
        {
          "data": {
            "text/plain": [
              "0.0"
            ]
          },
          "execution_count": 13,
          "metadata": {},
          "output_type": "execute_result"
        }
      ],
      "source": [
        "# a를 b로 나눈 나머지를 반환합니다.\n",
        "a % b"
      ]
    },
    {
      "cell_type": "code",
      "execution_count": null,
      "id": "approved-asset",
      "metadata": {
        "id": "approved-asset",
        "outputId": "75e6ef3f-d229-4af7-f5ce-3c757f9994d5"
      },
      "outputs": [
        {
          "data": {
            "text/plain": [
              "1.0"
            ]
          },
          "execution_count": 14,
          "metadata": {},
          "output_type": "execute_result"
        }
      ],
      "source": [
        "# a를 b로 나눈 몫을 반환합니다.\n",
        "a // b"
      ]
    },
    {
      "cell_type": "markdown",
      "id": "cardiovascular-encounter",
      "metadata": {
        "id": "cardiovascular-encounter"
      },
      "source": [
        "### 할당 연산자"
      ]
    },
    {
      "cell_type": "code",
      "execution_count": null,
      "id": "thermal-happiness",
      "metadata": {
        "id": "thermal-happiness",
        "outputId": "b03f2589-64f4-4644-e624-42831f3722af"
      },
      "outputs": [
        {
          "data": {
            "text/plain": [
              "5"
            ]
          },
          "execution_count": 15,
          "metadata": {},
          "output_type": "execute_result"
        }
      ],
      "source": [
        "# a에 정수 5를 할당하고, a를 출력합니다.\n",
        "a = 5\n",
        "a"
      ]
    },
    {
      "cell_type": "code",
      "execution_count": null,
      "id": "animated-requirement",
      "metadata": {
        "id": "animated-requirement",
        "outputId": "4d857210-37fb-45b2-9018-d5bd304dda47"
      },
      "outputs": [
        {
          "data": {
            "text/plain": [
              "6"
            ]
          },
          "execution_count": 16,
          "metadata": {},
          "output_type": "execute_result"
        }
      ],
      "source": [
        "# a에 1을 더한 값을 a에 재할당하고, a를 출력합니다.\n",
        "a += 1 # a=a+1과 동일\n",
        "a"
      ]
    },
    {
      "cell_type": "code",
      "execution_count": null,
      "id": "tracked-variance",
      "metadata": {
        "id": "tracked-variance",
        "outputId": "f005f7a1-1441-4900-a079-968b5e2b4a84"
      },
      "outputs": [
        {
          "data": {
            "text/plain": [
              "4"
            ]
          },
          "execution_count": 17,
          "metadata": {},
          "output_type": "execute_result"
        }
      ],
      "source": [
        "# a에서 2를 뺀 값을 a에 재할당하고, a를 출력합니다.\n",
        "a -= 2 # a=a-2과 동일\n",
        "a"
      ]
    },
    {
      "cell_type": "code",
      "execution_count": null,
      "id": "wrapped-bridges",
      "metadata": {
        "id": "wrapped-bridges",
        "outputId": "2822fd40-dc74-4d8f-8b20-face29a00d53"
      },
      "outputs": [
        {
          "data": {
            "text/plain": [
              "9.0"
            ]
          },
          "execution_count": 18,
          "metadata": {},
          "output_type": "execute_result"
        }
      ],
      "source": [
        "# b에 3을 곱한 값을 b에 재할당하고, b를 출력합니다.\n",
        "b *= 3 # a=a*3과 동일\n",
        "b"
      ]
    },
    {
      "cell_type": "code",
      "execution_count": null,
      "id": "brief-oliver",
      "metadata": {
        "id": "brief-oliver",
        "outputId": "23b79f67-6fae-48d4-8773-17c76624a142"
      },
      "outputs": [
        {
          "data": {
            "text/plain": [
              "2.25"
            ]
          },
          "execution_count": 19,
          "metadata": {},
          "output_type": "execute_result"
        }
      ],
      "source": [
        "# b를 4로 나눈 값을 b에 재할당하고, b를 출력합니다.\n",
        "b /= 4 # a=a/4과 동일\n",
        "b"
      ]
    },
    {
      "cell_type": "markdown",
      "id": "athletic-hamilton",
      "metadata": {
        "id": "athletic-hamilton"
      },
      "source": [
        "### 비교 연산자"
      ]
    },
    {
      "cell_type": "markdown",
      "id": "025587cb",
      "metadata": {
        "id": "025587cb"
      },
      "source": [
        "#### 비교 연산자의 결과는 bool이다"
      ]
    },
    {
      "cell_type": "code",
      "execution_count": null,
      "id": "1d4f1577",
      "metadata": {
        "id": "1d4f1577",
        "outputId": "2faf85e9-740a-4bc2-86f1-9813105804ee"
      },
      "outputs": [
        {
          "data": {
            "text/plain": [
              "4"
            ]
          },
          "execution_count": 25,
          "metadata": {},
          "output_type": "execute_result"
        }
      ],
      "source": [
        "a"
      ]
    },
    {
      "cell_type": "code",
      "execution_count": null,
      "id": "competent-revolution",
      "metadata": {
        "id": "competent-revolution",
        "outputId": "a516d191-a1b5-4937-daf0-80ef362c2951"
      },
      "outputs": [
        {
          "data": {
            "text/plain": [
              "False"
            ]
          },
          "execution_count": 23,
          "metadata": {},
          "output_type": "execute_result"
        }
      ],
      "source": [
        "# a가 4보다 크면 True, 작거나 같으면 False를 반환합니다.\n",
        "a > 4"
      ]
    },
    {
      "cell_type": "code",
      "execution_count": null,
      "id": "based-kenya",
      "metadata": {
        "id": "based-kenya",
        "outputId": "3ff13ceb-abad-402c-cf71-81a223f64684"
      },
      "outputs": [
        {
          "data": {
            "text/plain": [
              "True"
            ]
          },
          "execution_count": 22,
          "metadata": {},
          "output_type": "execute_result"
        }
      ],
      "source": [
        "# a가 4보다 크거나 같으면 True, 작으면 False를 반환합니다.\n",
        "a >= 4"
      ]
    },
    {
      "cell_type": "code",
      "execution_count": null,
      "id": "valuable-charles",
      "metadata": {
        "id": "valuable-charles",
        "outputId": "9048a38c-2833-410c-f60a-d482f08d2c66"
      },
      "outputs": [
        {
          "data": {
            "text/plain": [
              "False"
            ]
          },
          "execution_count": 26,
          "metadata": {},
          "output_type": "execute_result"
        }
      ],
      "source": [
        "# a가 4보다 작으면 True, 크거나 같으면 False를 반환합니다.\n",
        "a < 4"
      ]
    },
    {
      "cell_type": "code",
      "execution_count": null,
      "id": "standing-morning",
      "metadata": {
        "id": "standing-morning",
        "outputId": "ccc58b6c-bafe-446a-ff98-d94c5ee853cb"
      },
      "outputs": [
        {
          "data": {
            "text/plain": [
              "True"
            ]
          },
          "execution_count": 27,
          "metadata": {},
          "output_type": "execute_result"
        }
      ],
      "source": [
        "# a가 4보다 작거나 같으면 True, 크면 False를 반환합니다.\n",
        "a <= 4"
      ]
    },
    {
      "cell_type": "code",
      "execution_count": null,
      "id": "fossil-capture",
      "metadata": {
        "id": "fossil-capture",
        "outputId": "a270a3ce-3f10-4405-812a-e934cb84c09e"
      },
      "outputs": [
        {
          "data": {
            "text/plain": [
              "True"
            ]
          },
          "execution_count": 28,
          "metadata": {},
          "output_type": "execute_result"
        }
      ],
      "source": [
        "# a가 4이면 True, 4가 아니면 False를 반환합니다.\n",
        "a == 4"
      ]
    },
    {
      "cell_type": "code",
      "execution_count": null,
      "id": "seasonal-chester",
      "metadata": {
        "id": "seasonal-chester",
        "outputId": "fc72ccec-e316-4a04-88b2-7277484171dc"
      },
      "outputs": [
        {
          "data": {
            "text/plain": [
              "False"
            ]
          },
          "execution_count": 29,
          "metadata": {},
          "output_type": "execute_result"
        }
      ],
      "source": [
        "# a가 4가 아니면 True, 4이면 False를 반환합니다.\n",
        "a != 4"
      ]
    },
    {
      "cell_type": "markdown",
      "id": "reverse-therapist",
      "metadata": {
        "id": "reverse-therapist"
      },
      "source": [
        "### 논리 연산자"
      ]
    },
    {
      "cell_type": "markdown",
      "id": "de7a497c",
      "metadata": {
        "id": "de7a497c"
      },
      "source": [
        "![image.png](attachment:image.png)"
      ]
    },
    {
      "cell_type": "markdown",
      "id": "3c8a696d",
      "metadata": {
        "id": "3c8a696d"
      },
      "source": [
        "![image.png](attachment:image.png)"
      ]
    },
    {
      "cell_type": "code",
      "execution_count": null,
      "id": "85591f12",
      "metadata": {
        "id": "85591f12",
        "outputId": "0ce93bad-541d-432d-a071-adc36b926596"
      },
      "outputs": [
        {
          "name": "stdout",
          "output_type": "stream",
          "text": [
            "True\n",
            "False\n"
          ]
        }
      ],
      "source": [
        "# 비교 연산을 실행하여 True 또는 False를 반환합니다.\n",
        "print(a > 3)\n",
        "print(b > 3)"
      ]
    },
    {
      "cell_type": "code",
      "execution_count": null,
      "id": "suitable-nirvana",
      "metadata": {
        "id": "suitable-nirvana",
        "outputId": "f88b7791-6d4a-4f04-a133-7a8c85d0cd3d"
      },
      "outputs": [
        {
          "data": {
            "text/plain": [
              "False"
            ]
          },
          "execution_count": 31,
          "metadata": {},
          "output_type": "execute_result"
        }
      ],
      "source": [
        "# [논리곱] 두 진리값이 모두 True면 True, 아니면 False를 반환합니다.\n",
        "a > 3 and b > 3"
      ]
    },
    {
      "cell_type": "code",
      "execution_count": null,
      "id": "statewide-distance",
      "metadata": {
        "id": "statewide-distance",
        "outputId": "a8d74fd4-6440-44e6-a17d-173444c63981"
      },
      "outputs": [
        {
          "data": {
            "text/plain": [
              "True"
            ]
          },
          "execution_count": 32,
          "metadata": {},
          "output_type": "execute_result"
        }
      ],
      "source": [
        "# [논리합] 두 진리값 중 하나 이상 True면 True, 아니면 False를 반환합니다.\n",
        "a > 3 or b > 3"
      ]
    },
    {
      "cell_type": "code",
      "execution_count": null,
      "id": "1086073d",
      "metadata": {
        "id": "1086073d",
        "outputId": "309459d0-ba7a-477c-c479-a268ef5049ca"
      },
      "outputs": [
        {
          "data": {
            "text/plain": [
              "False"
            ]
          },
          "execution_count": 33,
          "metadata": {},
          "output_type": "execute_result"
        }
      ],
      "source": [
        "# [논리부정] not 뒤에 오는 진리값을 반전합니다.\n",
        "not (a > 3 or b > 3)"
      ]
    },
    {
      "cell_type": "markdown",
      "id": "unique-verification",
      "metadata": {
        "id": "unique-verification"
      },
      "source": [
        "### 문자열"
      ]
    },
    {
      "cell_type": "raw",
      "id": "973dee88",
      "metadata": {
        "id": "973dee88"
      },
      "source": [
        "# 문자열(string)은 여러 문자/숫자 순서대로 나열하고 따옴표로 감싼 자료형입니다."
      ]
    },
    {
      "cell_type": "code",
      "execution_count": null,
      "id": "configured-repository",
      "metadata": {
        "id": "configured-repository"
      },
      "outputs": [],
      "source": [
        "# str1에 문자열을 할당합니다. 홑따옴표를 사용했습니다.\n",
        "str1 = 'Life is short, '"
      ]
    },
    {
      "cell_type": "code",
      "execution_count": null,
      "id": "indonesian-marking",
      "metadata": {
        "id": "indonesian-marking",
        "outputId": "c83a766e-1591-49f9-827b-b197771ec264"
      },
      "outputs": [
        {
          "data": {
            "text/plain": [
              "'Life is short, '"
            ]
          },
          "execution_count": 38,
          "metadata": {},
          "output_type": "execute_result"
        }
      ],
      "source": [
        "# str1을 출력합니다.\n",
        "str1"
      ]
    },
    {
      "cell_type": "code",
      "execution_count": null,
      "id": "sublime-trace",
      "metadata": {
        "id": "sublime-trace",
        "outputId": "44f999d8-412a-400c-9ff0-85238077539a"
      },
      "outputs": [
        {
          "name": "stdout",
          "output_type": "stream",
          "text": [
            "Life is short, \n"
          ]
        }
      ],
      "source": [
        "# print() 함수를 실행하면 따옴표 없이 글자만 출력합니다.\n",
        "print(str1)"
      ]
    },
    {
      "cell_type": "code",
      "execution_count": null,
      "id": "dangerous-refrigerator",
      "metadata": {
        "id": "dangerous-refrigerator",
        "outputId": "f763b0c3-f6a4-45ed-8da1-018a9bb944f3"
      },
      "outputs": [
        {
          "data": {
            "text/plain": [
              "str"
            ]
          },
          "execution_count": 40,
          "metadata": {},
          "output_type": "execute_result"
        }
      ],
      "source": [
        "# str1의 클래스를 확인합니다. str1의 클래스는 str입니다.\n",
        "type(str1)"
      ]
    },
    {
      "cell_type": "code",
      "execution_count": null,
      "id": "fewer-aircraft",
      "metadata": {
        "id": "fewer-aircraft",
        "outputId": "25c88bae-ac49-4b75-b26f-0dcdcb55a59a"
      },
      "outputs": [
        {
          "data": {
            "text/plain": [
              "15"
            ]
          },
          "execution_count": 41,
          "metadata": {},
          "output_type": "execute_result"
        }
      ],
      "source": [
        "# str1의 글자수를 반환합니다.\n",
        "len(str1)"
      ]
    },
    {
      "cell_type": "code",
      "execution_count": null,
      "id": "reported-greece",
      "metadata": {
        "id": "reported-greece"
      },
      "outputs": [],
      "source": [
        "# str2에 문자열을 할당합니다. 겹따옴표를 사용했습니다.\n",
        "str2 = \"you need Python!\""
      ]
    },
    {
      "cell_type": "code",
      "execution_count": null,
      "id": "constitutional-trunk",
      "metadata": {
        "id": "constitutional-trunk",
        "outputId": "6b1395bd-5dd2-46c4-9801-0bd53ec1c349"
      },
      "outputs": [
        {
          "data": {
            "text/plain": [
              "'you need Python!'"
            ]
          },
          "execution_count": 43,
          "metadata": {},
          "output_type": "execute_result"
        }
      ],
      "source": [
        "# str2를 출력합니다.\n",
        "str2"
      ]
    },
    {
      "cell_type": "markdown",
      "id": "continuous-inspiration",
      "metadata": {
        "id": "continuous-inspiration"
      },
      "source": [
        "### [참고] 따옴표 사용법"
      ]
    },
    {
      "cell_type": "raw",
      "id": "4bdea9c1",
      "metadata": {
        "id": "4bdea9c1"
      },
      "source": [
        "# 홑따옴표로 감싼 문자열 안에 홑따옴표를 추가할 수 없습니다.\n",
        "# [주의] 이 셀을 Code로 변경하고 실행하면 에러를 반환합니다.\n",
        "'Monty Python's Flying Circus'"
      ]
    },
    {
      "cell_type": "code",
      "execution_count": null,
      "id": "imposed-mechanism",
      "metadata": {
        "id": "imposed-mechanism",
        "outputId": "022a628d-f157-4ebe-be3d-d037ef07aae2"
      },
      "outputs": [
        {
          "data": {
            "text/plain": [
              "\"Monty Python's Flying Circus\""
            ]
          },
          "execution_count": 44,
          "metadata": {},
          "output_type": "execute_result"
        }
      ],
      "source": [
        "# 문자열 안에 홑따옴표를 추가하려면 문자열을 홑따옴표 대신에 겹따옴표로 감싸야 합니다.\n",
        "\"Monty Python's Flying Circus\""
      ]
    },
    {
      "cell_type": "code",
      "execution_count": null,
      "id": "special-commitment",
      "metadata": {
        "id": "special-commitment",
        "outputId": "b9c75506-189e-4c2c-f1dd-a289ee60962b"
      },
      "outputs": [
        {
          "data": {
            "text/plain": [
              "\"Monty Python's Flying Circus\""
            ]
          },
          "execution_count": 45,
          "metadata": {},
          "output_type": "execute_result"
        }
      ],
      "source": [
        "# 홑따옴표로 감싼 문자열 안 홑따옴표 앞에 역슬래쉬(\\) 기호를 추가합니다.\n",
        "# [참고] \\ 기호는 정규표현식의 이스케이프입니다.\n",
        "'Monty Python\\'s Flying Circus'"
      ]
    },
    {
      "cell_type": "code",
      "execution_count": null,
      "id": "requested-click",
      "metadata": {
        "id": "requested-click",
        "outputId": "71e7bd08-c70e-42df-be11-ff67860d537f"
      },
      "outputs": [
        {
          "data": {
            "text/plain": [
              "'I\\'m saying \"You need Python!\" now.'"
            ]
          },
          "execution_count": 46,
          "metadata": {},
          "output_type": "execute_result"
        }
      ],
      "source": [
        "# 두 가지 경우를 모두 포함하는 예제입니다.\n",
        "'I\\'m saying \"You need Python!\" now.'"
      ]
    },
    {
      "cell_type": "code",
      "execution_count": null,
      "id": "classical-disney",
      "metadata": {
        "id": "classical-disney",
        "outputId": "0c379eb2-73e8-4257-c1ef-4d67c3a55e55"
      },
      "outputs": [
        {
          "data": {
            "text/plain": [
              "'I\\'m saying \"You need Python!\" now.'"
            ]
          },
          "execution_count": 47,
          "metadata": {},
          "output_type": "execute_result"
        }
      ],
      "source": [
        "# 문자열을 겹따옴표로 감쌌다면 문자열 안 겹따옴표 앞에 \\ 기호를 추가합니다.\n",
        "\"I'm saying \\\"You need Python!\\\" now.\""
      ]
    },
    {
      "cell_type": "code",
      "execution_count": null,
      "id": "crazy-criterion",
      "metadata": {
        "id": "crazy-criterion",
        "outputId": "e95e61d6-b4cc-4957-c252-2f37550b87ed"
      },
      "outputs": [
        {
          "data": {
            "text/plain": [
              "'hello!\\nGood to see you.'"
            ]
          },
          "execution_count": 48,
          "metadata": {},
          "output_type": "execute_result"
        }
      ],
      "source": [
        "# 여러 줄의 문자열을 생성하려면 홑따옴표나 겹따옴표를 세 번 반복하는데 \n",
        "# 이를 독스트링(docstring)이라고 합니다.\n",
        "'''hello!\n",
        "Good to see you.'''"
      ]
    },
    {
      "cell_type": "markdown",
      "id": "authentic-champion",
      "metadata": {
        "id": "authentic-champion"
      },
      "source": [
        "### 문자열 연산자"
      ]
    },
    {
      "cell_type": "code",
      "execution_count": null,
      "id": "split-andorra",
      "metadata": {
        "id": "split-andorra",
        "outputId": "caedeed7-2ccb-4bc5-9482-4f8fc50bb0dc"
      },
      "outputs": [
        {
          "data": {
            "text/plain": [
              "'Life is short, you need Python!'"
            ]
          },
          "execution_count": 49,
          "metadata": {},
          "output_type": "execute_result"
        }
      ],
      "source": [
        "# + 연산자는 두 문자열을 결합합니다.\n",
        "# [주의] 수와 문자열을 섞으면 에러를 반환합니다.\n",
        "str1 + str2"
      ]
    },
    {
      "cell_type": "code",
      "execution_count": null,
      "id": "international-bolivia",
      "metadata": {
        "id": "international-bolivia",
        "outputId": "50a725d9-9dd3-4a51-abdb-5b711be031a4"
      },
      "outputs": [
        {
          "data": {
            "text/plain": [
              "'you need Python!you need Python!you need Python!'"
            ]
          },
          "execution_count": 50,
          "metadata": {},
          "output_type": "execute_result"
        }
      ],
      "source": [
        "# * 연산자는 왼쪽 문자열을 오른쪽에 지정한 정수만큼 반복합니다.\n",
        "# [주의] 오른쪽에 실수를 지정하면 에러를 반환합니다.\n",
        "str2 * 3"
      ]
    },
    {
      "cell_type": "code",
      "execution_count": null,
      "id": "offshore-europe",
      "metadata": {
        "id": "offshore-europe",
        "outputId": "99729eab-d42f-452e-be66-faf87f15bd8e"
      },
      "outputs": [
        {
          "data": {
            "text/plain": [
              "False"
            ]
          },
          "execution_count": 51,
          "metadata": {},
          "output_type": "execute_result"
        }
      ],
      "source": [
        "# str1에 문자열 'a'가 있으면 True, 없으면 False를 반환합니다.\n",
        "'a' in str1"
      ]
    },
    {
      "cell_type": "code",
      "execution_count": null,
      "id": "straight-region",
      "metadata": {
        "id": "straight-region",
        "outputId": "64601224-88e8-47ea-d7b5-398a9ac9a951"
      },
      "outputs": [
        {
          "data": {
            "text/plain": [
              "True"
            ]
          },
          "execution_count": 53,
          "metadata": {},
          "output_type": "execute_result"
        }
      ],
      "source": [
        "# str1에 문자열 'a'가 없으면 True, 있으면 False를 반환합니다.\n",
        "'a' not in str1"
      ]
    },
    {
      "cell_type": "markdown",
      "id": "smart-evolution",
      "metadata": {
        "id": "smart-evolution"
      },
      "source": [
        "### 문자열 인덱싱"
      ]
    },
    {
      "cell_type": "markdown",
      "id": "3c5703c2",
      "metadata": {
        "id": "3c5703c2"
      },
      "source": [
        "![image.png](attachment:image.png)"
      ]
    },
    {
      "cell_type": "code",
      "execution_count": null,
      "id": "worthy-adelaide",
      "metadata": {
        "id": "worthy-adelaide"
      },
      "outputs": [],
      "source": [
        "# 실습할 문자열을 생성합니다.\n",
        "sen = '아버지가 안방에 들어가신다.'"
      ]
    },
    {
      "cell_type": "code",
      "execution_count": null,
      "id": "willing-breakdown",
      "metadata": {
        "id": "willing-breakdown",
        "outputId": "d25d1a1b-6756-4b3f-b7ac-a07d99e4f6ca"
      },
      "outputs": [
        {
          "data": {
            "text/plain": [
              "'아'"
            ]
          },
          "execution_count": 58,
          "metadata": {},
          "output_type": "execute_result"
        }
      ],
      "source": [
        "# sen의 0번 인덱스(첫 번째) 문자를 선택합니다.\n",
        "sen[0]"
      ]
    },
    {
      "cell_type": "code",
      "execution_count": null,
      "id": "formed-church",
      "metadata": {
        "id": "formed-church",
        "outputId": "2cfb1a3a-e1c0-45ad-8897-fa8457599b43"
      },
      "outputs": [
        {
          "data": {
            "text/plain": [
              "'버'"
            ]
          },
          "execution_count": 59,
          "metadata": {},
          "output_type": "execute_result"
        }
      ],
      "source": [
        "# sen의 1번 인덱스(두 번째) 문자를 선택합니다.\n",
        "sen[1]"
      ]
    },
    {
      "cell_type": "code",
      "execution_count": null,
      "id": "8aac4d98",
      "metadata": {
        "id": "8aac4d98",
        "outputId": "efef673f-a1ba-4b8a-bb05-1c575e52a9cb"
      },
      "outputs": [
        {
          "data": {
            "text/plain": [
              "'.'"
            ]
          },
          "execution_count": 60,
          "metadata": {},
          "output_type": "execute_result"
        }
      ],
      "source": [
        "# sen의 -1번 인덱스(마지막) 문자를 선택합니다.\n",
        "sen[-1]"
      ]
    },
    {
      "cell_type": "markdown",
      "id": "impaired-simulation",
      "metadata": {
        "id": "impaired-simulation"
      },
      "source": [
        "### 문자열 슬라이싱"
      ]
    },
    {
      "cell_type": "raw",
      "id": "9c156498",
      "metadata": {
        "id": "9c156498"
      },
      "source": [
        "# 문자열 슬라이싱(slicing)은 시작과 끝 인덱스를 콜론(:)으로 연결한 슬라이스(slice)로 연속된 문자열을 선택합니다.(시작 : 끝+1)\n",
        "# [주의] 끝 인덱스(콜론 오른쪽 정수)를 포함하지 않으므로 끝 인덱스에 1을 더한 값을 지정해야합니다."
      ]
    },
    {
      "cell_type": "code",
      "execution_count": null,
      "id": "renewable-blair",
      "metadata": {
        "id": "renewable-blair",
        "outputId": "2e84942a-d2b4-419d-ec88-91f3cc193945"
      },
      "outputs": [
        {
          "data": {
            "text/plain": [
              "'아버지'"
            ]
          },
          "execution_count": 61,
          "metadata": {},
          "output_type": "execute_result"
        }
      ],
      "source": [
        "# sen의 0~2번 인덱스 문자를 결합합니다.\n",
        "sen[0] + sen[1] + sen[2]"
      ]
    },
    {
      "cell_type": "code",
      "execution_count": null,
      "id": "upset-hebrew",
      "metadata": {
        "id": "upset-hebrew",
        "outputId": "eadc868b-ef74-4c17-c780-33ce685bfdcb"
      },
      "outputs": [
        {
          "data": {
            "text/plain": [
              "'아버지'"
            ]
          },
          "execution_count": 62,
          "metadata": {},
          "output_type": "execute_result"
        }
      ],
      "source": [
        "# sen의 0번 인덱스(첫 번째)부터 3-1번 인덱스(세 번째)까지 연속된 문자를 선택합니다.\n",
        "sen[0:3]"
      ]
    },
    {
      "cell_type": "code",
      "execution_count": null,
      "id": "behavioral-reduction",
      "metadata": {
        "id": "behavioral-reduction",
        "outputId": "7181f9b0-a952-4fb1-fae0-fde61fa96d1a"
      },
      "outputs": [
        {
          "data": {
            "text/plain": [
              "'아버지'"
            ]
          },
          "execution_count": 63,
          "metadata": {},
          "output_type": "execute_result"
        }
      ],
      "source": [
        "# 콜론 앞에 정수를 생략하면 첫 번째 문자부터 선택합니다.\n",
        "sen[:3]"
      ]
    },
    {
      "cell_type": "code",
      "execution_count": null,
      "id": "weird-cooling",
      "metadata": {
        "id": "weird-cooling",
        "outputId": "f4a174ad-eb73-4cc7-c402-8508063da008"
      },
      "outputs": [
        {
          "data": {
            "text/plain": [
              "'들어가신다.'"
            ]
          },
          "execution_count": 64,
          "metadata": {},
          "output_type": "execute_result"
        }
      ],
      "source": [
        "# 콜론 뒤에 정수를 생략하면 마지막 문자까지 선택합니다.\n",
        "sen[9:]"
      ]
    },
    {
      "cell_type": "code",
      "execution_count": null,
      "id": "acquired-wrestling",
      "metadata": {
        "id": "acquired-wrestling",
        "outputId": "1c637292-216e-4936-a501-aadd3e2c2c88"
      },
      "outputs": [
        {
          "data": {
            "text/plain": [
              "'아버지가 안방에 들어가신다.'"
            ]
          },
          "execution_count": 65,
          "metadata": {},
          "output_type": "execute_result"
        }
      ],
      "source": [
        "# 빈 콜론을 입력하면 처음부터 끝까지 연속된 문자를 선택합니다.\n",
        "# [주의] 대괄호 안에 아무것도 입력하지 않으면 에러를 반환합니다.\n",
        "sen[:]"
      ]
    },
    {
      "cell_type": "markdown",
      "id": "beginning-resistance",
      "metadata": {
        "id": "beginning-resistance"
      },
      "source": [
        "### 문자열 공백 제거 및 변경"
      ]
    },
    {
      "cell_type": "code",
      "execution_count": null,
      "id": "likely-generator",
      "metadata": {
        "id": "likely-generator",
        "outputId": "a89038a4-8069-4a6c-952e-5d88c186c74d"
      },
      "outputs": [
        {
          "data": {
            "text/plain": [
              "'\\n 파이썬 \\t 문자열 다루기 '"
            ]
          },
          "execution_count": 80,
          "metadata": {},
          "output_type": "execute_result"
        }
      ],
      "source": [
        "# 문자열 양쪽에 공백을 추가합니다. [참고] '\\n'은 줄바꿈, '\\t'는 탭입니다.\n",
        "sen = '\\n 파이썬 \\t 문자열 다루기 '\n",
        "sen"
      ]
    },
    {
      "cell_type": "code",
      "execution_count": null,
      "id": "47a60397",
      "metadata": {
        "id": "47a60397",
        "outputId": "a39a1270-48ee-4372-9503-37a09c47cc67"
      },
      "outputs": [
        {
          "name": "stdout",
          "output_type": "stream",
          "text": [
            "\n",
            " 파이썬 \t 문자열 다루기 \n"
          ]
        }
      ],
      "source": [
        "# print() 함수는 따옴표와 공백 없이 글자만 출력하므로 문자열의 공백을 확인할 수 없습니다.\n",
        "print(sen)"
      ]
    },
    {
      "cell_type": "code",
      "execution_count": null,
      "id": "dependent-whale",
      "metadata": {
        "scrolled": true,
        "id": "dependent-whale",
        "outputId": "2f700723-b314-4469-dd44-d15c09481fb7"
      },
      "outputs": [
        {
          "data": {
            "text/plain": [
              "['__add__',\n",
              " '__class__',\n",
              " '__contains__',\n",
              " '__delattr__',\n",
              " '__dir__',\n",
              " '__doc__',\n",
              " '__eq__',\n",
              " '__format__',\n",
              " '__ge__',\n",
              " '__getattribute__',\n",
              " '__getitem__',\n",
              " '__getnewargs__',\n",
              " '__gt__',\n",
              " '__hash__',\n",
              " '__init__',\n",
              " '__init_subclass__',\n",
              " '__iter__',\n",
              " '__le__',\n",
              " '__len__',\n",
              " '__lt__',\n",
              " '__mod__',\n",
              " '__mul__',\n",
              " '__ne__',\n",
              " '__new__',\n",
              " '__reduce__',\n",
              " '__reduce_ex__',\n",
              " '__repr__',\n",
              " '__rmod__',\n",
              " '__rmul__',\n",
              " '__setattr__',\n",
              " '__sizeof__',\n",
              " '__str__',\n",
              " '__subclasshook__',\n",
              " 'capitalize',\n",
              " 'casefold',\n",
              " 'center',\n",
              " 'count',\n",
              " 'encode',\n",
              " 'endswith',\n",
              " 'expandtabs',\n",
              " 'find',\n",
              " 'format',\n",
              " 'format_map',\n",
              " 'index',\n",
              " 'isalnum',\n",
              " 'isalpha',\n",
              " 'isascii',\n",
              " 'isdecimal',\n",
              " 'isdigit',\n",
              " 'isidentifier',\n",
              " 'islower',\n",
              " 'isnumeric',\n",
              " 'isprintable',\n",
              " 'isspace',\n",
              " 'istitle',\n",
              " 'isupper',\n",
              " 'join',\n",
              " 'ljust',\n",
              " 'lower',\n",
              " 'lstrip',\n",
              " 'maketrans',\n",
              " 'partition',\n",
              " 'removeprefix',\n",
              " 'removesuffix',\n",
              " 'replace',\n",
              " 'rfind',\n",
              " 'rindex',\n",
              " 'rjust',\n",
              " 'rpartition',\n",
              " 'rsplit',\n",
              " 'rstrip',\n",
              " 'split',\n",
              " 'splitlines',\n",
              " 'startswith',\n",
              " 'strip',\n",
              " 'swapcase',\n",
              " 'title',\n",
              " 'translate',\n",
              " 'upper',\n",
              " 'zfill']"
            ]
          },
          "execution_count": 78,
          "metadata": {},
          "output_type": "execute_result"
        }
      ],
      "source": [
        "# sen의 속성과 방식을 리스트로 반환합니다.\n",
        "dir(sen)"
      ]
    },
    {
      "cell_type": "code",
      "execution_count": null,
      "id": "d3a7d86e",
      "metadata": {
        "id": "d3a7d86e",
        "outputId": "b7c4ee52-53b6-42ac-e0cc-003d3bb68908"
      },
      "outputs": [
        {
          "data": {
            "text/plain": [
              "'\\n 파이썬 \\t 문자열 다루기 '"
            ]
          },
          "execution_count": 81,
          "metadata": {},
          "output_type": "execute_result"
        }
      ],
      "source": [
        "sen"
      ]
    },
    {
      "cell_type": "code",
      "execution_count": null,
      "id": "29adb7ea-822d-47b2-9361-eef63425c391",
      "metadata": {
        "id": "29adb7ea-822d-47b2-9361-eef63425c391",
        "outputId": "288283c3-fc3f-44c6-f547-62dc14f07a80"
      },
      "outputs": [
        {
          "data": {
            "text/plain": [
              "'파이썬 \\t 문자열 다루기'"
            ]
          },
          "execution_count": 82,
          "metadata": {},
          "output_type": "execute_result"
        }
      ],
      "source": [
        "# sen에서 양쪽 공백을 제거한 결과를 출력합니다.\n",
        "sen.strip()"
      ]
    },
    {
      "cell_type": "code",
      "execution_count": null,
      "id": "convertible-muslim",
      "metadata": {
        "id": "convertible-muslim"
      },
      "outputs": [],
      "source": [
        "# sen에서 양쪽 공백을 제거하고 sen에 재할당합니다.\n",
        "sen = sen.strip()"
      ]
    },
    {
      "cell_type": "code",
      "execution_count": null,
      "id": "athletic-snapshot",
      "metadata": {
        "id": "athletic-snapshot",
        "outputId": "67c35fb0-194d-4462-9959-91ed25b073b8"
      },
      "outputs": [
        {
          "data": {
            "text/plain": [
              "'파이썬  문자열 다루기'"
            ]
          },
          "execution_count": 84,
          "metadata": {},
          "output_type": "execute_result"
        }
      ],
      "source": [
        "# sen에서 '\\t'을 빈 문자열 ''로 바꾼 결과를 출력합니다.\n",
        "sen.replace('\\t', '')"
      ]
    },
    {
      "cell_type": "markdown",
      "id": "static-mineral",
      "metadata": {
        "id": "static-mineral"
      },
      "source": [
        "### 문자열 분리 및 결합"
      ]
    },
    {
      "cell_type": "code",
      "execution_count": null,
      "id": "cad553a2",
      "metadata": {
        "id": "cad553a2",
        "outputId": "19f52822-fb37-46a7-8ea1-6034aa02af77"
      },
      "outputs": [
        {
          "data": {
            "text/plain": [
              "'파이썬 \\t 문자열 다루기'"
            ]
          },
          "execution_count": 95,
          "metadata": {},
          "output_type": "execute_result"
        }
      ],
      "source": [
        "sen"
      ]
    },
    {
      "cell_type": "code",
      "execution_count": null,
      "id": "offensive-spoke",
      "metadata": {
        "id": "offensive-spoke",
        "outputId": "89da0822-016a-4011-fb0b-17581329751d"
      },
      "outputs": [
        {
          "data": {
            "text/plain": [
              "['파이썬 ', ' 문자열 다루기']"
            ]
          },
          "execution_count": 85,
          "metadata": {},
          "output_type": "execute_result"
        }
      ],
      "source": [
        "# sen을 구분자 '\\t'으로 분리합니다. [참고] 문자열을 분리하면 리스트로 반환합니다.\n",
        "sen.split('\\t')"
      ]
    },
    {
      "cell_type": "code",
      "execution_count": null,
      "id": "swedish-civilization",
      "metadata": {
        "id": "swedish-civilization"
      },
      "outputs": [],
      "source": [
        "# sen을 공백으로 분리하고 strs에 할당합니다. [참고] '\\n'과 '\\t'는 공백으로 처리합니다.\n",
        "strs = sen.split()"
      ]
    },
    {
      "cell_type": "code",
      "execution_count": null,
      "id": "twelve-mediterranean",
      "metadata": {
        "id": "twelve-mediterranean",
        "outputId": "7535ca34-f056-4ed4-9a47-fb24e5927e8a"
      },
      "outputs": [
        {
          "data": {
            "text/plain": [
              "['파이썬', '문자열', '다루기']"
            ]
          },
          "execution_count": 99,
          "metadata": {},
          "output_type": "execute_result"
        }
      ],
      "source": [
        "# strs를 출력합니다. 대괄호 안에 여러 문자열이 있습니다.\n",
        "strs"
      ]
    },
    {
      "cell_type": "code",
      "execution_count": null,
      "id": "centered-negotiation",
      "metadata": {
        "id": "centered-negotiation",
        "outputId": "f3385d54-68ba-4cda-9c35-868c52618d04"
      },
      "outputs": [
        {
          "data": {
            "text/plain": [
              "list"
            ]
          },
          "execution_count": 101,
          "metadata": {},
          "output_type": "execute_result"
        }
      ],
      "source": [
        "# strs의 클래스를 확인합니다. strs의 클래스는 list입니다.\n",
        "type(strs)"
      ]
    },
    {
      "cell_type": "code",
      "execution_count": null,
      "id": "structured-ordinance",
      "metadata": {
        "id": "structured-ordinance",
        "outputId": "f8c02111-b026-4531-81bf-a983b4c15b9d"
      },
      "outputs": [
        {
          "data": {
            "text/plain": [
              "'파이썬 문자열 다루기'"
            ]
          },
          "execution_count": 103,
          "metadata": {},
          "output_type": "execute_result"
        }
      ],
      "source": [
        "# strs의 원소 사이에 공백을 추가하여 문자열로 결합합니다.\n",
        "' '.join(strs)"
      ]
    },
    {
      "cell_type": "code",
      "execution_count": null,
      "id": "finnish-identity",
      "metadata": {
        "id": "finnish-identity",
        "outputId": "d874fe43-570e-488c-97ff-b76326d2bd63"
      },
      "outputs": [
        {
          "data": {
            "text/plain": [
              "'파이썬-문자열-다루기'"
            ]
          },
          "execution_count": 90,
          "metadata": {},
          "output_type": "execute_result"
        }
      ],
      "source": [
        "# 구분자에 따라 실행 결과가 달라집니다.\n",
        "'-'.join(strs)"
      ]
    },
    {
      "cell_type": "markdown",
      "id": "earlier-circular",
      "metadata": {
        "id": "earlier-circular"
      },
      "source": [
        "### 자료형 변환"
      ]
    },
    {
      "cell_type": "markdown",
      "id": "f7568cdd",
      "metadata": {
        "id": "f7568cdd"
      },
      "source": [
        "![image.png](attachment:image.png)"
      ]
    },
    {
      "cell_type": "code",
      "execution_count": null,
      "id": "systematic-arrival",
      "metadata": {
        "id": "systematic-arrival",
        "outputId": "1f9eed08-f3a3-44d3-a3cb-fde054968412"
      },
      "outputs": [
        {
          "data": {
            "text/plain": [
              "1.0"
            ]
          },
          "execution_count": 106,
          "metadata": {},
          "output_type": "execute_result"
        }
      ],
      "source": [
        "# 정수 1을 실수로 변환합니다.\n",
        "float(1)"
      ]
    },
    {
      "cell_type": "code",
      "execution_count": null,
      "id": "beneficial-mailing",
      "metadata": {
        "id": "beneficial-mailing",
        "outputId": "45b07ec7-8aa2-4bee-b326-ec529bf99325"
      },
      "outputs": [
        {
          "data": {
            "text/plain": [
              "'1'"
            ]
          },
          "execution_count": 107,
          "metadata": {},
          "output_type": "execute_result"
        }
      ],
      "source": [
        "# 정수 1을 문자열로 변환합니다.\n",
        "str(1)"
      ]
    },
    {
      "cell_type": "code",
      "execution_count": null,
      "id": "generous-outside",
      "metadata": {
        "id": "generous-outside",
        "outputId": "bdd69dfa-0e3d-4ab2-85e6-3908277856da"
      },
      "outputs": [
        {
          "data": {
            "text/plain": [
              "1"
            ]
          },
          "execution_count": 108,
          "metadata": {},
          "output_type": "execute_result"
        }
      ],
      "source": [
        "# 실수 1.2를 정수로 변환합니다.\n",
        "int(1.2)"
      ]
    },
    {
      "cell_type": "code",
      "execution_count": null,
      "id": "circular-brand",
      "metadata": {
        "id": "circular-brand",
        "outputId": "f91624d7-6152-46de-9ad0-3531bcae3233"
      },
      "outputs": [
        {
          "data": {
            "text/plain": [
              "'1.2'"
            ]
          },
          "execution_count": 109,
          "metadata": {},
          "output_type": "execute_result"
        }
      ],
      "source": [
        "# 실수 1.2를 문자열로 변환합니다.\n",
        "str(1.2)"
      ]
    },
    {
      "cell_type": "code",
      "execution_count": null,
      "id": "spread-tenant",
      "metadata": {
        "id": "spread-tenant",
        "outputId": "f2ff2b3e-ec1c-49c8-f6f5-a0471a3b1218"
      },
      "outputs": [
        {
          "data": {
            "text/plain": [
              "1.2"
            ]
          },
          "execution_count": 110,
          "metadata": {},
          "output_type": "execute_result"
        }
      ],
      "source": [
        "# 문자열 '1.2'를 실수로 변환합니다.\n",
        "float('1.2')"
      ]
    },
    {
      "cell_type": "raw",
      "id": "cf5c3f98-b590-49df-9027-dbcb5054e5c3",
      "metadata": {
        "id": "cf5c3f98-b590-49df-9027-dbcb5054e5c3"
      },
      "source": [
        "# 문자열 '1.2'를 정수로 변환합니다.\n",
        "# [주의] 소수점 있는 문자열을 정수로 변환할 수 없습니다.\n",
        "int('1.2')"
      ]
    },
    {
      "cell_type": "markdown",
      "id": "junior-peoples",
      "metadata": {
        "id": "junior-peoples"
      },
      "source": [
        "### 문자열 포맷팅: 포맷 코드"
      ]
    },
    {
      "cell_type": "code",
      "execution_count": null,
      "id": "overall-overview",
      "metadata": {
        "id": "overall-overview"
      },
      "outputs": [],
      "source": [
        "# name에 문자열, rate에 실수를 할당합니다.\n",
        "name = '홍길동'\n",
        "rate = 3.2"
      ]
    },
    {
      "cell_type": "code",
      "execution_count": null,
      "id": "4b42ea66",
      "metadata": {
        "id": "4b42ea66",
        "outputId": "44cbcfa1-dc5b-487f-a18d-bacae764b0e9"
      },
      "outputs": [
        {
          "data": {
            "text/plain": [
              "'홍길동 고객님의 이자율은 3.2 %입니다.'"
            ]
          },
          "execution_count": 115,
          "metadata": {},
          "output_type": "execute_result"
        }
      ],
      "source": [
        "# 여러 문자열을 결합합니다.\n",
        "name + ' 고객님의 이자율은 ' + str(rate) + ' %입니다.'"
      ]
    },
    {
      "cell_type": "markdown",
      "id": "4225c5d3",
      "metadata": {
        "id": "4225c5d3"
      },
      "source": [
        "![image.png](attachment:image.png)"
      ]
    },
    {
      "cell_type": "code",
      "execution_count": null,
      "id": "loving-helen",
      "metadata": {
        "id": "loving-helen",
        "outputId": "23ee159b-48af-4f4a-bcb3-4d6d3abcb250"
      },
      "outputs": [
        {
          "data": {
            "text/plain": [
              "'홍길동 고객님의 이자율은 3.200000 %입니다.'"
            ]
          },
          "execution_count": 113,
          "metadata": {},
          "output_type": "execute_result"
        }
      ],
      "source": [
        "# name과 rate에 할당한 값을 포맷 코드(%s와 %f)에 대입합니다.\n",
        "'%s 고객님의 이자율은 %f %%입니다.' %(name, rate)"
      ]
    },
    {
      "cell_type": "code",
      "execution_count": null,
      "id": "compound-associate",
      "metadata": {
        "id": "compound-associate",
        "outputId": "4c0961c8-e1d4-4bc7-8e07-4059a580a0bf"
      },
      "outputs": [
        {
          "data": {
            "text/plain": [
              "'홍길동 고객님의 이자율은 3.20 %입니다.'"
            ]
          },
          "execution_count": 114,
          "metadata": {},
          "output_type": "execute_result"
        }
      ],
      "source": [
        "# 실수의 소수점 자리수를 설정할 수 있습니다.\n",
        "'%s 고객님의 이자율은 %.2f %%입니다.' %(name, rate)"
      ]
    },
    {
      "cell_type": "markdown",
      "id": "novel-albuquerque",
      "metadata": {
        "id": "novel-albuquerque"
      },
      "source": [
        "### 문자열 포맷팅: format(), f-문자열"
      ]
    },
    {
      "cell_type": "code",
      "execution_count": null,
      "id": "sunrise-matter",
      "metadata": {
        "id": "sunrise-matter",
        "outputId": "3ac25a95-7a24-4326-be97-010000b6e787"
      },
      "outputs": [
        {
          "data": {
            "text/plain": [
              "'홍길동 고객님의 이자율은 3.2 %입니다.'"
            ]
          },
          "execution_count": 118,
          "metadata": {},
          "output_type": "execute_result"
        }
      ],
      "source": [
        "# format() 함수는 포맷 코드 대신 중괄호를 사용합니다.\n",
        "# 중괄호에 변수값을 순서대로 대입합니다.\n",
        "'{} 고객님의 이자율은 {} %입니다.'.format(name, rate)"
      ]
    },
    {
      "cell_type": "code",
      "execution_count": null,
      "id": "tender-ghana",
      "metadata": {
        "id": "tender-ghana",
        "outputId": "f924937d-ae0f-4082-a46e-3d497137d98c"
      },
      "outputs": [
        {
          "data": {
            "text/plain": [
              "'홍길동 고객님의 이자율은 3.2 %입니다.'"
            ]
          },
          "execution_count": 119,
          "metadata": {},
          "output_type": "execute_result"
        }
      ],
      "source": [
        "# 중괄호 안에 변수의 정수 인덱스를 지정합니다.\n",
        "'{0} 고객님의 이자율은 {1} %입니다.'.format(name, rate)"
      ]
    },
    {
      "cell_type": "code",
      "execution_count": null,
      "id": "renewable-charge",
      "metadata": {
        "id": "renewable-charge",
        "outputId": "abfd89c0-3862-4c1c-f69b-5909454ceddb"
      },
      "outputs": [
        {
          "data": {
            "text/plain": [
              "'홍길동 고객님의 이자율은 3.20 %입니다.'"
            ]
          },
          "execution_count": 120,
          "metadata": {},
          "output_type": "execute_result"
        }
      ],
      "source": [
        "# [주의] 실수의 소수점 자리수를 지정하려면 % 대신 콜론(:)을 추가합니다.\n",
        "'{0} 고객님의 이자율은 {1:.2f} %입니다.'.format(name, rate)"
      ]
    },
    {
      "cell_type": "code",
      "execution_count": null,
      "id": "sound-rings",
      "metadata": {
        "id": "sound-rings",
        "outputId": "426d7cdb-e322-4409-d9e1-8b87de69e677"
      },
      "outputs": [
        {
          "data": {
            "text/plain": [
              "'홍길동 고객님의 이자율은 3.20 %입니다.'"
            ]
          },
          "execution_count": 122,
          "metadata": {},
          "output_type": "execute_result"
        }
      ],
      "source": [
        "# Python 3.6에서 도입한 f-문자열을 사용하면 코드 가독성을 높일 수 있습니다.\n",
        "f'{name} 고객님의 이자율은 {rate:.2f} %입니다.'\n",
        "# f-문자열은 따옴표 앞에 f를 추가합니다. 만약 f를 추가하지 않으면 중광호 안 내용을 문자 그대로 출력합니다."
      ]
    },
    {
      "cell_type": "markdown",
      "id": "applicable-vulnerability",
      "metadata": {
        "id": "applicable-vulnerability"
      },
      "source": [
        "### 부울"
      ]
    },
    {
      "cell_type": "raw",
      "id": "5af28aa3",
      "metadata": {
        "id": "5af28aa3"
      },
      "source": [
        "# 부울(bool)은 True 또는 False를 표현하는 자료형입니다."
      ]
    },
    {
      "cell_type": "code",
      "execution_count": null,
      "id": "ranging-alexandria",
      "metadata": {
        "id": "ranging-alexandria"
      },
      "outputs": [],
      "source": [
        "# t에 True를 할당합니다. [주의] 따옴표로 감싸면 문자열이 됩니다.\n",
        "t = True"
      ]
    },
    {
      "cell_type": "code",
      "execution_count": null,
      "id": "multiple-reggae",
      "metadata": {
        "id": "multiple-reggae",
        "outputId": "ea6b64ee-9360-43a8-efb0-545fde6cf642"
      },
      "outputs": [
        {
          "data": {
            "text/plain": [
              "bool"
            ]
          },
          "execution_count": 129,
          "metadata": {},
          "output_type": "execute_result"
        }
      ],
      "source": [
        "# t의 클래스를 확인합니다. t의 클래스는 bool입니다.\n",
        "type(t)"
      ]
    },
    {
      "cell_type": "code",
      "execution_count": null,
      "id": "b6514678",
      "metadata": {
        "id": "b6514678",
        "outputId": "f7003f88-7e41-45d9-c96a-1aca830563d3"
      },
      "outputs": [
        {
          "data": {
            "text/plain": [
              "1"
            ]
          },
          "execution_count": 134,
          "metadata": {},
          "output_type": "execute_result"
        }
      ],
      "source": [
        "# True는 정수 1, False는 정수 0이므로 진리값을 더하면 True 개수를 반환합니다.\n",
        "True + False"
      ]
    },
    {
      "cell_type": "markdown",
      "id": "34b671de",
      "metadata": {
        "id": "34b671de"
      },
      "source": [
        "![image.png](attachment:image.png)\n",
        "![image.png](data:image/png;base64,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)"
      ]
    },
    {
      "cell_type": "code",
      "execution_count": null,
      "id": "macro-burden",
      "metadata": {
        "id": "macro-burden",
        "outputId": "fe3a0ae9-8cc2-4906-d430-91e7248431fb"
      },
      "outputs": [
        {
          "data": {
            "text/plain": [
              "True"
            ]
          },
          "execution_count": 133,
          "metadata": {},
          "output_type": "execute_result"
        }
      ],
      "source": [
        "# 어떤 객체에 값 또는 원소가 있으면 True, 없으면 False를 반환합니다.\n",
        "bool(1)"
      ]
    },
    {
      "cell_type": "code",
      "source": [],
      "metadata": {
        "id": "G1EsVlPZifDX"
      },
      "id": "G1EsVlPZifDX",
      "execution_count": null,
      "outputs": []
    },
    {
      "cell_type": "markdown",
      "id": "alive-supply",
      "metadata": {
        "id": "alive-supply"
      },
      "source": [
        "## End of Document"
      ]
    }
  ],
  "metadata": {
    "kernelspec": {
      "display_name": "Python 3 (ipykernel)",
      "language": "python",
      "name": "python3"
    },
    "language_info": {
      "codemirror_mode": {
        "name": "ipython",
        "version": 3
      },
      "file_extension": ".py",
      "mimetype": "text/x-python",
      "name": "python",
      "nbconvert_exporter": "python",
      "pygments_lexer": "ipython3",
      "version": "3.10.6"
    },
    "toc": {
      "base_numbering": 1,
      "nav_menu": {},
      "number_sections": false,
      "sideBar": true,
      "skip_h1_title": false,
      "title_cell": "Table of Contents",
      "title_sidebar": "Contents",
      "toc_cell": false,
      "toc_position": {},
      "toc_section_display": true,
      "toc_window_display": false
    },
    "varInspector": {
      "cols": {
        "lenName": 16,
        "lenType": 16,
        "lenVar": 40
      },
      "kernels_config": {
        "python": {
          "delete_cmd_postfix": "",
          "delete_cmd_prefix": "del ",
          "library": "var_list.py",
          "varRefreshCmd": "print(var_dic_list())"
        },
        "r": {
          "delete_cmd_postfix": ") ",
          "delete_cmd_prefix": "rm(",
          "library": "var_list.r",
          "varRefreshCmd": "cat(var_dic_list()) "
        }
      },
      "position": {
        "height": "299.844px",
        "left": "687.859px",
        "right": "20px",
        "top": "90px",
        "width": "325px"
      },
      "types_to_exclude": [
        "module",
        "function",
        "builtin_function_or_method",
        "instance",
        "_Feature"
      ],
      "window_display": false
    },
    "colab": {
      "provenance": []
    }
  },
  "nbformat": 4,
  "nbformat_minor": 5
}