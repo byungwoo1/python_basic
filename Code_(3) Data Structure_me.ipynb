{
 "cells": [
  {
   "cell_type": "markdown",
   "id": "96237ba2",
   "metadata": {},
   "source": [
    "## 자료구조(Data Structures)"
   ]
  },
  {
   "cell_type": "markdown",
   "id": "6126d063",
   "metadata": {},
   "source": [
    "### 자료 구조에는 List, Tuple, Set, Dictionary가 있다"
   ]
  },
  {
   "cell_type": "markdown",
   "id": "coastal-potter",
   "metadata": {},
   "source": [
    "## 리스트(List)"
   ]
  },
  {
   "cell_type": "raw",
   "id": "b905d4d8",
   "metadata": {},
   "source": [
    "# 리스트(List)는 수, 문자열 또는 리스트 등 다양한 원소를 갖는 자료구조입니다."
   ]
  },
  {
   "cell_type": "code",
   "execution_count": 185,
   "id": "important-receiver",
   "metadata": {
    "ExecuteTime": {
     "end_time": "2022-06-12T06:39:00.528353Z",
     "start_time": "2022-06-12T06:39:00.517159Z"
    }
   },
   "outputs": [
    {
     "data": {
      "text/plain": [
       "[]"
      ]
     },
     "execution_count": 185,
     "metadata": {},
     "output_type": "execute_result"
    }
   ],
   "source": [
    "# 빈 리스트를 생성합니다. 리스트를 생성할 때 대괄호 안에 원소를 콤마로 나열합니다. \n",
    "lst1 = []\n",
    "lst1\n",
    "\n",
    "# [참고] 위 코드는 lst1 = list()를 실행한 결과와 같습니다."
   ]
  },
  {
   "cell_type": "code",
   "execution_count": 186,
   "id": "intense-wallace",
   "metadata": {
    "ExecuteTime": {
     "end_time": "2022-06-12T06:39:00.533431Z",
     "start_time": "2022-06-12T06:39:00.530363Z"
    }
   },
   "outputs": [
    {
     "data": {
      "text/plain": [
       "list"
      ]
     },
     "execution_count": 186,
     "metadata": {},
     "output_type": "execute_result"
    }
   ],
   "source": [
    "# lst1의 클래스를 확인합니다. lst1의 클래스는 list입니다.\n",
    "type(lst1)"
   ]
  },
  {
   "cell_type": "code",
   "execution_count": 187,
   "id": "00d8dbf9",
   "metadata": {
    "scrolled": true
   },
   "outputs": [
    {
     "data": {
      "text/plain": [
       "['__add__',\n",
       " '__class__',\n",
       " '__class_getitem__',\n",
       " '__contains__',\n",
       " '__delattr__',\n",
       " '__delitem__',\n",
       " '__dir__',\n",
       " '__doc__',\n",
       " '__eq__',\n",
       " '__format__',\n",
       " '__ge__',\n",
       " '__getattribute__',\n",
       " '__getitem__',\n",
       " '__gt__',\n",
       " '__hash__',\n",
       " '__iadd__',\n",
       " '__imul__',\n",
       " '__init__',\n",
       " '__init_subclass__',\n",
       " '__iter__',\n",
       " '__le__',\n",
       " '__len__',\n",
       " '__lt__',\n",
       " '__mul__',\n",
       " '__ne__',\n",
       " '__new__',\n",
       " '__reduce__',\n",
       " '__reduce_ex__',\n",
       " '__repr__',\n",
       " '__reversed__',\n",
       " '__rmul__',\n",
       " '__setattr__',\n",
       " '__setitem__',\n",
       " '__sizeof__',\n",
       " '__str__',\n",
       " '__subclasshook__',\n",
       " 'append',\n",
       " 'clear',\n",
       " 'copy',\n",
       " 'count',\n",
       " 'extend',\n",
       " 'index',\n",
       " 'insert',\n",
       " 'pop',\n",
       " 'remove',\n",
       " 'reverse',\n",
       " 'sort']"
      ]
     },
     "execution_count": 187,
     "metadata": {},
     "output_type": "execute_result"
    }
   ],
   "source": [
    "# lst1의 속성과 방식을 리스트로 반환합니다.\n",
    "dir(lst1)"
   ]
  },
  {
   "cell_type": "code",
   "execution_count": 188,
   "id": "happy-handle",
   "metadata": {
    "ExecuteTime": {
     "end_time": "2022-06-12T06:39:00.548665Z",
     "start_time": "2022-06-12T06:39:00.545514Z"
    }
   },
   "outputs": [
    {
     "data": {
      "text/plain": [
       "[1, 2.0, '3']"
      ]
     },
     "execution_count": 188,
     "metadata": {},
     "output_type": "execute_result"
    }
   ],
   "source": [
    "# 리스트는 원소를 입력한 순서를 유지하며, 다양한 자료형을 원소로 가질 수 있습니다.\n",
    "lst2 = [1, 2.0, '3']\n",
    "lst2"
   ]
  },
  {
   "cell_type": "code",
   "execution_count": 189,
   "id": "e8099c6d",
   "metadata": {
    "ExecuteTime": {
     "end_time": "2022-06-12T06:39:00.543976Z",
     "start_time": "2022-06-12T06:39:00.540721Z"
    }
   },
   "outputs": [
    {
     "data": {
      "text/plain": [
       "3"
      ]
     },
     "execution_count": 189,
     "metadata": {},
     "output_type": "execute_result"
    }
   ],
   "source": [
    "# 리스트의 길이(원소 개수)를 반환합니다. [참고] 문자열은 글자수를 반환합니다.\n",
    "len(lst2)"
   ]
  },
  {
   "cell_type": "code",
   "execution_count": 292,
   "id": "innocent-hydrogen",
   "metadata": {
    "ExecuteTime": {
     "end_time": "2022-06-12T06:39:00.538238Z",
     "start_time": "2022-06-12T06:39:00.535027Z"
    }
   },
   "outputs": [
    {
     "data": {
      "text/plain": [
       "[1, 5, 3, 3]"
      ]
     },
     "execution_count": 292,
     "metadata": {},
     "output_type": "execute_result"
    }
   ],
   "source": [
    "# 리스트는 원소의 중복을 허용합니다.\n",
    "lst3 = [1, 5, 3, 3]\n",
    "lst3"
   ]
  },
  {
   "cell_type": "markdown",
   "id": "living-cornwall",
   "metadata": {},
   "source": [
    "### 리스트 연산자"
   ]
  },
  {
   "cell_type": "code",
   "execution_count": 191,
   "id": "systematic-complexity",
   "metadata": {
    "ExecuteTime": {
     "end_time": "2022-06-12T06:39:00.558165Z",
     "start_time": "2022-06-12T06:39:00.555119Z"
    }
   },
   "outputs": [
    {
     "data": {
      "text/plain": [
       "[1, 2.0, '3', 1, 5, 3, 3]"
      ]
     },
     "execution_count": 191,
     "metadata": {},
     "output_type": "execute_result"
    }
   ],
   "source": [
    "# + 연산자는 두 리스트를 결합합니다.\n",
    "lst2 + lst3"
   ]
  },
  {
   "cell_type": "code",
   "execution_count": 192,
   "id": "accompanied-cross",
   "metadata": {
    "ExecuteTime": {
     "end_time": "2022-06-12T06:39:00.562838Z",
     "start_time": "2022-06-12T06:39:00.559750Z"
    }
   },
   "outputs": [
    {
     "data": {
      "text/plain": [
       "[1, 5, 3, 3, 1, 5, 3, 3]"
      ]
     },
     "execution_count": 192,
     "metadata": {},
     "output_type": "execute_result"
    }
   ],
   "source": [
    "# * 연산자는 왼쪽 리스트를 오른쪽에 지정한 정수만큼 반복합니다.\n",
    "lst3 * 2"
   ]
  },
  {
   "cell_type": "code",
   "execution_count": 193,
   "id": "behind-folks",
   "metadata": {
    "ExecuteTime": {
     "end_time": "2022-06-12T06:39:00.567586Z",
     "start_time": "2022-06-12T06:39:00.564538Z"
    }
   },
   "outputs": [
    {
     "data": {
      "text/plain": [
       "True"
      ]
     },
     "execution_count": 193,
     "metadata": {},
     "output_type": "execute_result"
    }
   ],
   "source": [
    "# lst3의 원소 중에 정수 1이 있으면 True, 없으면 False를 반환합니다.\n",
    "1 in lst3"
   ]
  },
  {
   "cell_type": "code",
   "execution_count": 194,
   "id": "automated-broad",
   "metadata": {
    "ExecuteTime": {
     "end_time": "2022-06-12T06:39:00.574600Z",
     "start_time": "2022-06-12T06:39:00.571261Z"
    }
   },
   "outputs": [
    {
     "data": {
      "text/plain": [
       "False"
      ]
     },
     "execution_count": 194,
     "metadata": {},
     "output_type": "execute_result"
    }
   ],
   "source": [
    "# lst3의 원소 중에 정수 1이 없으면 True, 있으면 False를 반환합니다.\n",
    "1 not in lst3"
   ]
  },
  {
   "cell_type": "markdown",
   "id": "cognitive-survey",
   "metadata": {},
   "source": [
    "### 리스트 인덱싱"
   ]
  },
  {
   "cell_type": "code",
   "execution_count": 195,
   "id": "naked-interface",
   "metadata": {
    "ExecuteTime": {
     "end_time": "2022-06-12T06:39:00.578380Z",
     "start_time": "2022-06-12T06:39:00.576154Z"
    }
   },
   "outputs": [],
   "source": [
    "# 실습할 리스트를 생성합니다.\n",
    "lst4 = [1, 2, '3', '4', ['가', '나', '다']]"
   ]
  },
  {
   "attachments": {
    "image.png": {
     "image/png": "[encoded data removed]"
    }
   },
   "cell_type": "markdown",
   "id": "dc15ed66",
   "metadata": {},
   "source": [
    "![image.png](attachment:image.png)"
   ]
  },
  {
   "cell_type": "code",
   "execution_count": 196,
   "id": "careful-suffering",
   "metadata": {
    "ExecuteTime": {
     "end_time": "2022-06-12T06:39:00.583058Z",
     "start_time": "2022-06-12T06:39:00.580015Z"
    }
   },
   "outputs": [
    {
     "data": {
      "text/plain": [
       "3"
      ]
     },
     "execution_count": 196,
     "metadata": {},
     "output_type": "execute_result"
    }
   ],
   "source": [
    "# lst4의 0번과 1번 인덱스 원소를 더합니다.\n",
    "lst4[0] + lst4[1]"
   ]
  },
  {
   "cell_type": "code",
   "execution_count": 197,
   "id": "acute-charter",
   "metadata": {
    "ExecuteTime": {
     "end_time": "2022-06-12T06:39:00.587759Z",
     "start_time": "2022-06-12T06:39:00.584579Z"
    }
   },
   "outputs": [
    {
     "data": {
      "text/plain": [
       "'34'"
      ]
     },
     "execution_count": 197,
     "metadata": {},
     "output_type": "execute_result"
    }
   ],
   "source": [
    "# lst4의 2번과 3번 인덱스 원소를 결합합니다.\n",
    "lst4[2] + lst4[3]"
   ]
  },
  {
   "cell_type": "code",
   "execution_count": 198,
   "id": "adjusted-cincinnati",
   "metadata": {
    "ExecuteTime": {
     "end_time": "2022-06-12T06:39:00.592424Z",
     "start_time": "2022-06-12T06:39:00.589381Z"
    }
   },
   "outputs": [
    {
     "data": {
      "text/plain": [
       "'가'"
      ]
     },
     "execution_count": 198,
     "metadata": {},
     "output_type": "execute_result"
    }
   ],
   "source": [
    "# lst4의 4번 인덱스 원소는 리스트이므로 대괄호를 추가하면 리스트 원소를 반환합니다.\n",
    "lst4[4][0]"
   ]
  },
  {
   "cell_type": "markdown",
   "id": "desperate-television",
   "metadata": {},
   "source": [
    "### 리스트 슬라이싱"
   ]
  },
  {
   "cell_type": "raw",
   "id": "feaa0806",
   "metadata": {},
   "source": [
    "# 리스트 슬라이싱은 시작과 끝 인덱스를 콜론(:)으로 연결한 슬라이스로 연속된 원소를 선택합니다.(시작:끝+1)\n",
    "# [주의] 끝 인덱스(콜론 오른쪽 정수)를 포함하지 않으므로 끝 인덱스에 1을 더한 값을 지정해야 합니다."
   ]
  },
  {
   "cell_type": "code",
   "execution_count": 199,
   "id": "received-cabinet",
   "metadata": {
    "ExecuteTime": {
     "end_time": "2022-06-12T06:39:00.597075Z",
     "start_time": "2022-06-12T06:39:00.593985Z"
    }
   },
   "outputs": [
    {
     "data": {
      "text/plain": [
       "[1, 2]"
      ]
     },
     "execution_count": 199,
     "metadata": {},
     "output_type": "execute_result"
    }
   ],
   "source": [
    "# lst4의 0~1번 인덱스 원소를 선택하고 리스트로 반환합니다.\n",
    "lst4[0:2]"
   ]
  },
  {
   "cell_type": "code",
   "execution_count": 200,
   "id": "brief-symphony",
   "metadata": {
    "ExecuteTime": {
     "end_time": "2022-06-12T06:39:00.601748Z",
     "start_time": "2022-06-12T06:39:00.598731Z"
    }
   },
   "outputs": [
    {
     "data": {
      "text/plain": [
       "['3', '4']"
      ]
     },
     "execution_count": 200,
     "metadata": {},
     "output_type": "execute_result"
    }
   ],
   "source": [
    "# lst4의 2~3번 인덱스 원소를 선택하고 리스트로 반환합니다.\n",
    "lst4[2:4]"
   ]
  },
  {
   "cell_type": "code",
   "execution_count": 201,
   "id": "unable-distinction",
   "metadata": {
    "ExecuteTime": {
     "end_time": "2022-06-12T06:39:00.606213Z",
     "start_time": "2022-06-12T06:39:00.603318Z"
    }
   },
   "outputs": [
    {
     "data": {
      "text/plain": [
       "[1, 2, '3', '4']"
      ]
     },
     "execution_count": 201,
     "metadata": {},
     "output_type": "execute_result"
    }
   ],
   "source": [
    "# lst4의 0~3번 인덱스 원소를 선택하고 리스트로 반환합니다.\n",
    "lst4[:4]"
   ]
  },
  {
   "cell_type": "code",
   "execution_count": 202,
   "id": "elect-apparel",
   "metadata": {
    "ExecuteTime": {
     "end_time": "2022-06-12T06:39:00.610956Z",
     "start_time": "2022-06-12T06:39:00.607883Z"
    }
   },
   "outputs": [
    {
     "data": {
      "text/plain": [
       "[['가', '나', '다']]"
      ]
     },
     "execution_count": 202,
     "metadata": {},
     "output_type": "execute_result"
    }
   ],
   "source": [
    "# lst4의 4번~마지막 원소를 선택하고 리스트로 반환합니다.\n",
    "lst4[4:]"
   ]
  },
  {
   "cell_type": "markdown",
   "id": "beneficial-horizontal",
   "metadata": {},
   "source": [
    "### [참고] 리스트 인덱싱 및 슬라이싱 관련 주의사항"
   ]
  },
  {
   "cell_type": "raw",
   "id": "09ab314e",
   "metadata": {},
   "source": [
    "# 대괄호 안에 아무것도 지정하지 않으면 에러를 반환합니다.\n",
    "lst4[]"
   ]
  },
  {
   "cell_type": "code",
   "execution_count": 203,
   "id": "pointed-investor",
   "metadata": {
    "ExecuteTime": {
     "end_time": "2022-06-12T06:39:00.615449Z",
     "start_time": "2022-06-12T06:39:00.612576Z"
    }
   },
   "outputs": [
    {
     "data": {
      "text/plain": [
       "[1, 2, '3', '4', ['가', '나', '다']]"
      ]
     },
     "execution_count": 203,
     "metadata": {},
     "output_type": "execute_result"
    }
   ],
   "source": [
    "# 빈 콜론을 지정하면 리스트의 전체 원소를 리스트로 반환합니다.\n",
    "lst4[:]"
   ]
  },
  {
   "cell_type": "code",
   "execution_count": 204,
   "id": "applied-mechanism",
   "metadata": {
    "ExecuteTime": {
     "end_time": "2022-06-12T06:39:00.619987Z",
     "start_time": "2022-06-12T06:39:00.616890Z"
    }
   },
   "outputs": [
    {
     "data": {
      "text/plain": [
       "1"
      ]
     },
     "execution_count": 204,
     "metadata": {},
     "output_type": "execute_result"
    }
   ],
   "source": [
    "# 대괄호 안에 인덱스를 스칼라(길이가 1인 값)로 지정하면 해당 원소를 본래 자료형으로 반환합니다.\n",
    "lst4[0]"
   ]
  },
  {
   "cell_type": "code",
   "execution_count": 205,
   "id": "therapeutic-ballet",
   "metadata": {
    "ExecuteTime": {
     "end_time": "2022-06-12T06:39:00.624818Z",
     "start_time": "2022-06-12T06:39:00.621713Z"
    }
   },
   "outputs": [
    {
     "data": {
      "text/plain": [
       "[1]"
      ]
     },
     "execution_count": 205,
     "metadata": {},
     "output_type": "execute_result"
    }
   ],
   "source": [
    "# 대괄호 안에 콜론을 사용한 슬라이스를 지정하면 항상 리스트로 반환합니다.\n",
    "lst4[0:1]"
   ]
  },
  {
   "cell_type": "raw",
   "id": "5e58701f",
   "metadata": {},
   "source": [
    "# 대괄호 안에 리스트를 지정하면 에러를 반환합니다.\n",
    "# [주의] 대괄호 안에 인덱스 스칼라 또는 콜론으로 연결한 슬라이스만 지정할 수 있습니다.\n",
    "lst4[[0, 2]]"
   ]
  },
  {
   "cell_type": "code",
   "execution_count": 206,
   "id": "1aca7862",
   "metadata": {
    "ExecuteTime": {
     "end_time": "2022-06-12T06:39:00.633245Z",
     "start_time": "2022-06-12T06:39:00.630113Z"
    }
   },
   "outputs": [
    {
     "data": {
      "text/plain": [
       "[1, '3']"
      ]
     },
     "execution_count": 206,
     "metadata": {},
     "output_type": "execute_result"
    }
   ],
   "source": [
    "# 위 코드 대신 리스트의 0번과 2번 인덱스 원소를 선택하고 리스트로 반환합니다.\n",
    "[lst4[0], lst4[2]]"
   ]
  },
  {
   "cell_type": "markdown",
   "id": "funded-haiti",
   "metadata": {},
   "source": [
    "### range() 함수 사용법"
   ]
  },
  {
   "cell_type": "raw",
   "id": "f538debf",
   "metadata": {},
   "source": [
    "# range() 함수는 연속된 정수를 반환합니다."
   ]
  },
  {
   "cell_type": "code",
   "execution_count": 207,
   "id": "false-occupation",
   "metadata": {
    "ExecuteTime": {
     "end_time": "2022-06-12T06:39:00.637966Z",
     "start_time": "2022-06-12T06:39:00.634967Z"
    }
   },
   "outputs": [
    {
     "data": {
      "text/plain": [
       "range(0, 6)"
      ]
     },
     "execution_count": 207,
     "metadata": {},
     "output_type": "execute_result"
    }
   ],
   "source": [
    "# 0부터 5까지 연속된 정수를 lst5에 할당합니다.\n",
    "lst5 =range(6)\n",
    "lst5"
   ]
  },
  {
   "cell_type": "code",
   "execution_count": 208,
   "id": "retained-creation",
   "metadata": {
    "ExecuteTime": {
     "end_time": "2022-06-12T06:39:00.642571Z",
     "start_time": "2022-06-12T06:39:00.639611Z"
    }
   },
   "outputs": [
    {
     "data": {
      "text/plain": [
       "range"
      ]
     },
     "execution_count": 208,
     "metadata": {},
     "output_type": "execute_result"
    }
   ],
   "source": [
    "# lst5의 클래스를 확인합니다. lst5의 클래스는 range입니다.\n",
    "type(lst5)"
   ]
  },
  {
   "cell_type": "code",
   "execution_count": 209,
   "id": "institutional-leadership",
   "metadata": {
    "ExecuteTime": {
     "end_time": "2022-06-12T06:39:00.647521Z",
     "start_time": "2022-06-12T06:39:00.644260Z"
    }
   },
   "outputs": [
    {
     "data": {
      "text/plain": [
       "[0, 1, 2, 3, 4, 5]"
      ]
     },
     "execution_count": 209,
     "metadata": {},
     "output_type": "execute_result"
    }
   ],
   "source": [
    "# lst5를 리스트로 변환하여 lst5에 재할당합니다.\n",
    "lst5 = list(lst5)\n",
    "lst5"
   ]
  },
  {
   "cell_type": "code",
   "execution_count": 210,
   "id": "5e22382a",
   "metadata": {
    "ExecuteTime": {
     "end_time": "2022-06-12T06:39:00.652194Z",
     "start_time": "2022-06-12T06:39:00.649262Z"
    }
   },
   "outputs": [
    {
     "data": {
      "text/plain": [
       "list"
      ]
     },
     "execution_count": 210,
     "metadata": {},
     "output_type": "execute_result"
    }
   ],
   "source": [
    "# lst5의 클래스를 확인합니다. lst5의 클래스는 list입니다.\n",
    "type(lst5)"
   ]
  },
  {
   "cell_type": "code",
   "execution_count": 211,
   "id": "tough-accounting",
   "metadata": {
    "ExecuteTime": {
     "end_time": "2022-06-12T06:39:00.657143Z",
     "start_time": "2022-06-12T06:39:00.653799Z"
    }
   },
   "outputs": [
    {
     "data": {
      "text/plain": [
       "[1, 2, 3, 4, 5]"
      ]
     },
     "execution_count": 211,
     "metadata": {},
     "output_type": "execute_result"
    }
   ],
   "source": [
    "# 0이 아닌 정수로 시작하려면 range() 함수에 시작과 끝+1 정수를 지정합니다.\n",
    "list(range(1, 6))"
   ]
  },
  {
   "cell_type": "code",
   "execution_count": 212,
   "id": "chief-herald",
   "metadata": {
    "ExecuteTime": {
     "end_time": "2022-06-12T06:39:00.661927Z",
     "start_time": "2022-06-12T06:39:00.658766Z"
    }
   },
   "outputs": [
    {
     "data": {
      "text/plain": [
       "[1, 3, 5, 7, 9]"
      ]
     },
     "execution_count": 212,
     "metadata": {},
     "output_type": "execute_result"
    }
   ],
   "source": [
    "# 간격을 설정하려면 range() 함수에 시작, 끝+1 및 간격을 지정합니다.\n",
    "list(range(1, 11, 2))"
   ]
  },
  {
   "cell_type": "markdown",
   "id": "chronic-remove",
   "metadata": {},
   "source": [
    "### 이중 콜론 연산자"
   ]
  },
  {
   "cell_type": "raw",
   "id": "7044df9b",
   "metadata": {},
   "source": [
    "# 이중 콜론 연산자는 슬라이스에 간격을 설정한 것입니다.(시작:끝+1:간격)"
   ]
  },
  {
   "cell_type": "code",
   "execution_count": 213,
   "id": "f044da54",
   "metadata": {},
   "outputs": [
    {
     "data": {
      "text/plain": [
       "[0, 1, 2, 3, 4, 5]"
      ]
     },
     "execution_count": 213,
     "metadata": {},
     "output_type": "execute_result"
    }
   ],
   "source": [
    "lst5"
   ]
  },
  {
   "cell_type": "code",
   "execution_count": 214,
   "id": "brown-reservoir",
   "metadata": {
    "ExecuteTime": {
     "end_time": "2022-06-12T06:39:00.671621Z",
     "start_time": "2022-06-12T06:39:00.668519Z"
    }
   },
   "outputs": [
    {
     "data": {
      "text/plain": [
       "[1, 3]"
      ]
     },
     "execution_count": 214,
     "metadata": {},
     "output_type": "execute_result"
    }
   ],
   "source": [
    "# 1~3번 인덱스 원소에서 두 칸 간격으로 원소를 선택하고 리스트로 반환합니다.\n",
    "lst5[1:4:2]"
   ]
  },
  {
   "cell_type": "code",
   "execution_count": 215,
   "id": "cooperative-inventory",
   "metadata": {
    "ExecuteTime": {
     "end_time": "2022-06-12T06:39:00.676350Z",
     "start_time": "2022-06-12T06:39:00.673272Z"
    }
   },
   "outputs": [
    {
     "data": {
      "text/plain": [
       "[0, 2]"
      ]
     },
     "execution_count": 215,
     "metadata": {},
     "output_type": "execute_result"
    }
   ],
   "source": [
    "# 0~3번 인덱스 원소에서 두 칸 간격으로 인덱스 원소를 선택하고 리스트로 반환합니다.\n",
    "lst5[:4:2]"
   ]
  },
  {
   "cell_type": "code",
   "execution_count": 216,
   "id": "northern-final",
   "metadata": {
    "ExecuteTime": {
     "end_time": "2022-06-12T06:39:00.681063Z",
     "start_time": "2022-06-12T06:39:00.678002Z"
    }
   },
   "outputs": [
    {
     "data": {
      "text/plain": [
       "[1, 3, 5]"
      ]
     },
     "execution_count": 216,
     "metadata": {},
     "output_type": "execute_result"
    }
   ],
   "source": [
    "# 1번 인덱스 원소부터 마지막 원소까지 두 칸 간격으로 원소를 선택하고 리스트로 반환합니다.\n",
    "lst5[1::2]"
   ]
  },
  {
   "cell_type": "code",
   "execution_count": 217,
   "id": "acknowledged-arthritis",
   "metadata": {
    "ExecuteTime": {
     "end_time": "2022-06-12T06:39:00.685866Z",
     "start_time": "2022-06-12T06:39:00.682736Z"
    }
   },
   "outputs": [
    {
     "data": {
      "text/plain": [
       "[0, 2, 4]"
      ]
     },
     "execution_count": 217,
     "metadata": {},
     "output_type": "execute_result"
    }
   ],
   "source": [
    "# 처음부터 마지막 원소까지 두 칸 간격으로 원소를 선택하고 리스트로 반환합니다.\n",
    "lst5[::2]"
   ]
  },
  {
   "cell_type": "code",
   "execution_count": 218,
   "id": "municipal-yellow",
   "metadata": {
    "ExecuteTime": {
     "end_time": "2022-06-12T06:39:00.690642Z",
     "start_time": "2022-06-12T06:39:00.687446Z"
    }
   },
   "outputs": [
    {
     "data": {
      "text/plain": [
       "[5, 4, 3, 2, 1, 0]"
      ]
     },
     "execution_count": 218,
     "metadata": {},
     "output_type": "execute_result"
    }
   ],
   "source": [
    "# 전체 원소를 역순으로 반환합니다. [주의] 내림차순 정렬이 아닙니다.\n",
    "lst5[::-1]\n",
    "# 출력 : [5,4,3,2,1,0]"
   ]
  },
  {
   "cell_type": "markdown",
   "id": "expressed-inflation",
   "metadata": {},
   "source": [
    "### 리스트 원소 추가 또는 삽입"
   ]
  },
  {
   "cell_type": "raw",
   "id": "16193ecf",
   "metadata": {},
   "source": [
    "# append() 함수는 괄호 안에 지정한 값을 마지막 원소로 추가합니다.\n",
    "# list명.append() <-- 형태"
   ]
  },
  {
   "cell_type": "code",
   "execution_count": 219,
   "id": "fa664ec5",
   "metadata": {},
   "outputs": [
    {
     "data": {
      "text/plain": [
       "[0, 1, 2, 3, 4, 5]"
      ]
     },
     "execution_count": 219,
     "metadata": {},
     "output_type": "execute_result"
    }
   ],
   "source": [
    "lst5=list(range(6))\n",
    "lst5"
   ]
  },
  {
   "cell_type": "code",
   "execution_count": 220,
   "id": "simplified-artwork",
   "metadata": {
    "ExecuteTime": {
     "end_time": "2022-06-12T06:39:00.695428Z",
     "start_time": "2022-06-12T06:39:00.692204Z"
    }
   },
   "outputs": [
    {
     "data": {
      "text/plain": [
       "[0, 1, 2, 3, 4, 5, 6]"
      ]
     },
     "execution_count": 220,
     "metadata": {},
     "output_type": "execute_result"
    }
   ],
   "source": [
    "# lst5의 마지막 원소로 정수 6을 추가합니다.\n",
    "lst5.append(6)\n",
    "lst5"
   ]
  },
  {
   "cell_type": "code",
   "execution_count": 221,
   "id": "canadian-anniversary",
   "metadata": {
    "ExecuteTime": {
     "end_time": "2022-06-12T06:39:00.700160Z",
     "start_time": "2022-06-12T06:39:00.697094Z"
    }
   },
   "outputs": [
    {
     "data": {
      "text/plain": [
       "[0, 1, 2, 3, 4, 5, 6, [6, 7]]"
      ]
     },
     "execution_count": 221,
     "metadata": {},
     "output_type": "execute_result"
    }
   ],
   "source": [
    "# lst5의 마지막 원소로 리스트 [6, 7]을 추가합니다.\n",
    "lst5.append([6, 7])\n",
    "lst5"
   ]
  },
  {
   "cell_type": "raw",
   "id": "1e8f9f74",
   "metadata": {},
   "source": [
    "# extend() 함수는 리스트를 입력받아 리스트 원소를 마지막 원소로 추가합니다."
   ]
  },
  {
   "cell_type": "code",
   "execution_count": 222,
   "id": "intended-thanksgiving",
   "metadata": {
    "ExecuteTime": {
     "end_time": "2022-06-12T06:39:00.705067Z",
     "start_time": "2022-06-12T06:39:00.701718Z"
    }
   },
   "outputs": [
    {
     "data": {
      "text/plain": [
       "[0, 1, 2, 3, 4, 5, 6, [6, 7], 8, 9]"
      ]
     },
     "execution_count": 222,
     "metadata": {},
     "output_type": "execute_result"
    }
   ],
   "source": [
    "# lst5의 마지막 원소로 정수 8, 9를 추가합니다.\n",
    "lst5.extend([8, 9])\n",
    "lst5"
   ]
  },
  {
   "cell_type": "raw",
   "id": "3b8cb56b",
   "metadata": {},
   "source": [
    "# insert() 함수는 지정한 인덱스 앞에 값을 삽입합니다.(인덱스, 값)"
   ]
  },
  {
   "cell_type": "code",
   "execution_count": 223,
   "id": "failing-reliance",
   "metadata": {
    "ExecuteTime": {
     "end_time": "2022-06-12T06:39:00.710121Z",
     "start_time": "2022-06-12T06:39:00.706823Z"
    }
   },
   "outputs": [
    {
     "data": {
      "text/plain": [
       "[0, [6, 7], 1, 2, 3, 4, 5, 6, [6, 7], 8, 9]"
      ]
     },
     "execution_count": 223,
     "metadata": {},
     "output_type": "execute_result"
    }
   ],
   "source": [
    "# lst5의 1번 인덱스에 리스트 [6, 7]을 삽입합니다.\n",
    "lst5.insert(1, [6, 7])\n",
    "lst5"
   ]
  },
  {
   "cell_type": "raw",
   "id": "2818e603",
   "metadata": {},
   "source": [
    "# [참고] append(), extend(), insert() 함수는 실행 결과를 리스트에 반영하므로 리스트에 재할당하지 않습니다."
   ]
  },
  {
   "cell_type": "markdown",
   "id": "288e3e4d",
   "metadata": {},
   "source": [
    "### 리스트 원소 삭제"
   ]
  },
  {
   "cell_type": "raw",
   "id": "72a40f5f",
   "metadata": {},
   "source": [
    "# remove() 함수는 지정한 값을 (여러 개 있어도) 한 번만 삭제합니다."
   ]
  },
  {
   "cell_type": "code",
   "execution_count": 224,
   "id": "9516f443",
   "metadata": {},
   "outputs": [
    {
     "data": {
      "text/plain": [
       "[0, [6, 7], 1, 2, 3, 4, 5, 6, [6, 7], 8, 9]"
      ]
     },
     "execution_count": 224,
     "metadata": {},
     "output_type": "execute_result"
    }
   ],
   "source": [
    "lst5"
   ]
  },
  {
   "cell_type": "code",
   "execution_count": 225,
   "id": "filled-tracker",
   "metadata": {
    "ExecuteTime": {
     "end_time": "2022-06-12T06:39:00.715131Z",
     "start_time": "2022-06-12T06:39:00.711713Z"
    }
   },
   "outputs": [
    {
     "data": {
      "text/plain": [
       "[0, 1, 2, 3, 4, 5, 6, [6, 7], 8, 9]"
      ]
     },
     "execution_count": 225,
     "metadata": {},
     "output_type": "execute_result"
    }
   ],
   "source": [
    "# lst5에서 원소 [6, 7]을 삭제합니다.\n",
    "lst5.remove([6, 7])\n",
    "lst5"
   ]
  },
  {
   "cell_type": "code",
   "execution_count": 226,
   "id": "34cbac59",
   "metadata": {
    "ExecuteTime": {
     "end_time": "2022-06-12T06:39:00.719752Z",
     "start_time": "2022-06-12T06:39:00.716678Z"
    }
   },
   "outputs": [
    {
     "data": {
      "text/plain": [
       "[0, 1, 2, 3, 4, 5, 6, 8, 9]"
      ]
     },
     "execution_count": 226,
     "metadata": {},
     "output_type": "execute_result"
    }
   ],
   "source": [
    "# lst5에서 원소 [6, 7]을 한 번 더 삭제합니다.\n",
    "lst5.remove([6, 7])\n",
    "lst5"
   ]
  },
  {
   "cell_type": "code",
   "execution_count": 227,
   "id": "72878cf6",
   "metadata": {},
   "outputs": [
    {
     "ename": "ValueError",
     "evalue": "list.remove(x): x not in list",
     "output_type": "error",
     "traceback": [
      "\u001b[1;31m---------------------------------------------------------------------------\u001b[0m",
      "\u001b[1;31mValueError\u001b[0m                                Traceback (most recent call last)",
      "Input \u001b[1;32mIn [227]\u001b[0m, in \u001b[0;36m<cell line: 2>\u001b[1;34m()\u001b[0m\n\u001b[0;32m      1\u001b[0m \u001b[38;5;66;03m# lst5에 원소 [6, 7]이 없으므로 에러를 반환합니다.\u001b[39;00m\n\u001b[1;32m----> 2\u001b[0m \u001b[43mlst5\u001b[49m\u001b[38;5;241;43m.\u001b[39;49m\u001b[43mremove\u001b[49m\u001b[43m(\u001b[49m\u001b[43m[\u001b[49m\u001b[38;5;241;43m6\u001b[39;49m\u001b[43m,\u001b[49m\u001b[43m \u001b[49m\u001b[38;5;241;43m7\u001b[39;49m\u001b[43m]\u001b[49m\u001b[43m)\u001b[49m\n",
      "\u001b[1;31mValueError\u001b[0m: list.remove(x): x not in list"
     ]
    }
   ],
   "source": [
    "# lst5에 원소 [6, 7]이 없으므로 에러를 반환합니다.\n",
    "lst5.remove([6, 7])"
   ]
  },
  {
   "cell_type": "raw",
   "id": "3d0799bd",
   "metadata": {},
   "source": [
    "# pop() 함수는 지정한 인덱스 원소를 출력하고 해당 원소를 삭제합니다."
   ]
  },
  {
   "cell_type": "code",
   "execution_count": null,
   "id": "given-animation",
   "metadata": {
    "ExecuteTime": {
     "end_time": "2022-06-12T06:39:00.724594Z",
     "start_time": "2022-06-12T06:39:00.721351Z"
    }
   },
   "outputs": [],
   "source": [
    "# lst5의 6번 인덱스 원소를 출력하고 해당 원소를 삭제합니다.\n",
    "lst5.pop(6)\n",
    "lst5"
   ]
  },
  {
   "cell_type": "code",
   "execution_count": null,
   "id": "9bfda07e",
   "metadata": {
    "ExecuteTime": {
     "end_time": "2022-06-12T06:39:00.729197Z",
     "start_time": "2022-06-12T06:39:00.726156Z"
    },
    "scrolled": true
   },
   "outputs": [],
   "source": [
    "# lst5의 마지막 원소를 출력하고 해당 원소를 삭제합니다.\n",
    "lst5.pop()\n",
    "lst5"
   ]
  },
  {
   "cell_type": "markdown",
   "id": "numerous-boundary",
   "metadata": {},
   "source": [
    "### 리스트 원소 변경"
   ]
  },
  {
   "cell_type": "raw",
   "id": "66d285bd",
   "metadata": {},
   "source": [
    "# 인덱싱으로 특정 원소를 선택하고, 원하는 값으로 변경합니다."
   ]
  },
  {
   "cell_type": "code",
   "execution_count": null,
   "id": "dangerous-clarity",
   "metadata": {
    "ExecuteTime": {
     "end_time": "2022-06-12T06:39:00.734095Z",
     "start_time": "2022-06-12T06:39:00.730874Z"
    }
   },
   "outputs": [],
   "source": [
    "# lst5의 1번 인덱스 원소를 정수 6으로 변경합니다.\n",
    "lst5[1] = 6\n",
    "lst5"
   ]
  },
  {
   "cell_type": "code",
   "execution_count": null,
   "id": "laughing-bradford",
   "metadata": {
    "ExecuteTime": {
     "end_time": "2022-06-12T06:39:00.743699Z",
     "start_time": "2022-06-12T06:39:00.740435Z"
    }
   },
   "outputs": [],
   "source": [
    "# lst5의 2번 인덱스 원소를 리스트 [3, 4]로 변경합니다.\n",
    "lst5[2] = [3, 4]\n",
    "lst5"
   ]
  },
  {
   "cell_type": "raw",
   "id": "0ad6abb4",
   "metadata": {},
   "source": [
    "# 슬라이싱으로 연속된 원소를 선택하고, 원하는 값으로 변경합니다."
   ]
  },
  {
   "cell_type": "code",
   "execution_count": null,
   "id": "original-fitness",
   "metadata": {
    "ExecuteTime": {
     "end_time": "2022-06-12T06:39:00.738894Z",
     "start_time": "2022-06-12T06:39:00.735687Z"
    }
   },
   "outputs": [],
   "source": [
    "# lst5의 3~4번 인덱스 원소를 리스트 [7, 9]의 원소로 변경합니다.\n",
    "lst5[3:5] = [7, 9]\n",
    "lst5"
   ]
  },
  {
   "cell_type": "code",
   "execution_count": null,
   "id": "36180eb5-37da-4393-8565-b45785f73117",
   "metadata": {},
   "outputs": [],
   "source": [
    "# lst5의 4번 인덱스 원소를 리스트 [1, 2]의 원소로 변경합니다.\n",
    "# [참고] 왼쪽과 오른쪽 리스트의 원소 개수가 서로 달라도 됩니다.\n",
    "lst5[4:5] = [1, 2]\n",
    "lst5"
   ]
  },
  {
   "cell_type": "raw",
   "id": "e5531847",
   "metadata": {},
   "source": [
    "# [주의] 슬라이싱 결과인 리스트에 스칼라를 할당하면 에러를 반환합니다.\n",
    "lst5[4:5] = 1"
   ]
  },
  {
   "cell_type": "markdown",
   "id": "soviet-highland",
   "metadata": {},
   "source": [
    "### 리스트 원소 정렬"
   ]
  },
  {
   "cell_type": "raw",
   "id": "e9892148",
   "metadata": {},
   "source": [
    "# sort() 함수는 리스트 원소를 오름차순/내림차순 정렬합니다."
   ]
  },
  {
   "cell_type": "code",
   "execution_count": null,
   "id": "e195cfe9",
   "metadata": {},
   "outputs": [],
   "source": [
    "lst5"
   ]
  },
  {
   "cell_type": "code",
   "execution_count": null,
   "id": "07d2e230",
   "metadata": {},
   "outputs": [],
   "source": [
    "# 리스트 원소의 자료형이 다르면 원소를 정렬할 수 없으므로 에러를 반환합니다.\n",
    "# [참고] sort() 함수는 리스트 원소의 클래스가 모두 같을 때 정상 실행됩니다.\n",
    "lst5.sort()"
   ]
  },
  {
   "cell_type": "code",
   "execution_count": null,
   "id": "indie-religion",
   "metadata": {
    "ExecuteTime": {
     "end_time": "2022-06-12T06:39:00.767873Z",
     "start_time": "2022-06-12T06:39:00.765680Z"
    }
   },
   "outputs": [],
   "source": [
    "# lst5에서 원소 [3, 4]를 삭제합니다.\n",
    "lst5.remove([3, 4])"
   ]
  },
  {
   "cell_type": "code",
   "execution_count": null,
   "id": "opposite-mozambique",
   "metadata": {
    "ExecuteTime": {
     "end_time": "2022-06-12T06:39:00.772598Z",
     "start_time": "2022-06-12T06:39:00.769525Z"
    }
   },
   "outputs": [],
   "source": [
    "# lst5의 원소를 오름차순 정렬합니다.\n",
    "lst5.sort()\n",
    "lst5"
   ]
  },
  {
   "cell_type": "code",
   "execution_count": null,
   "id": "7083c218",
   "metadata": {
    "ExecuteTime": {
     "end_time": "2022-06-12T06:39:00.777433Z",
     "start_time": "2022-06-12T06:39:00.774168Z"
    }
   },
   "outputs": [],
   "source": [
    "# lst5의 원소를 내림차순 정렬합니다.\n",
    "# [참고] reverse 매개변수의 인수 기본값은 False입니다.\n",
    "lst5.sort(reverse = True)\n",
    "lst5"
   ]
  },
  {
   "cell_type": "code",
   "execution_count": 228,
   "id": "61d3cc35",
   "metadata": {},
   "outputs": [
    {
     "data": {
      "text/plain": [
       "[1, 5, 3, 3]"
      ]
     },
     "execution_count": 228,
     "metadata": {},
     "output_type": "execute_result"
    }
   ],
   "source": [
    "lst3"
   ]
  },
  {
   "cell_type": "code",
   "execution_count": 230,
   "id": "2f10fbf6",
   "metadata": {},
   "outputs": [
    {
     "data": {
      "text/plain": [
       "[1, 5, 3, 3, '1', '1']"
      ]
     },
     "execution_count": 230,
     "metadata": {},
     "output_type": "execute_result"
    }
   ],
   "source": [
    "lst3.append('1')\n",
    "lst3"
   ]
  },
  {
   "cell_type": "code",
   "execution_count": 232,
   "id": "modular-complement",
   "metadata": {
    "ExecuteTime": {
     "end_time": "2022-06-12T06:39:00.782115Z",
     "start_time": "2022-06-12T06:39:00.778992Z"
    }
   },
   "outputs": [
    {
     "data": {
      "text/plain": [
       "[1, 5, 3, 3, '1', '1']"
      ]
     },
     "execution_count": 232,
     "metadata": {},
     "output_type": "execute_result"
    }
   ],
   "source": [
    "# lst3의 원소를 역순으로 변경합니다.\n",
    "# [참고] reverse() 함수는 자료형이 섞여 있어도 에러를 반환하지 않습니다.\n",
    "lst3.reverse()\n",
    "lst3"
   ]
  },
  {
   "attachments": {
    "image.png": {
     "image/png": "[encoded data removed]"
    }
   },
   "cell_type": "markdown",
   "id": "99595813",
   "metadata": {},
   "source": [
    "![image.png](attachment:image.png)"
   ]
  },
  {
   "cell_type": "markdown",
   "id": "joined-platform",
   "metadata": {},
   "source": [
    "## 튜플"
   ]
  },
  {
   "cell_type": "markdown",
   "id": "c3772be2",
   "metadata": {},
   "source": [
    "### 튜플은 원소를 변경할 수 없는 리스트입니다.\n",
    "#### 소괄호를 사용"
   ]
  },
  {
   "cell_type": "code",
   "execution_count": 233,
   "id": "internal-lease",
   "metadata": {
    "ExecuteTime": {
     "end_time": "2022-06-12T06:39:00.786974Z",
     "start_time": "2022-06-12T06:39:00.783761Z"
    }
   },
   "outputs": [
    {
     "data": {
      "text/plain": [
       "(1, 2.0, '3')"
      ]
     },
     "execution_count": 233,
     "metadata": {},
     "output_type": "execute_result"
    }
   ],
   "source": [
    "# 튜플을 생성합니다. 튜플을 생성할 때 소괄호 안에 원소를 콤마로 나열하며,\n",
    "# 소괄호로 묶지 않아도 튜플로 자동 패킹합니다.\n",
    "tup = (1, 2.0, '3')\n",
    "tup"
   ]
  },
  {
   "cell_type": "code",
   "execution_count": 234,
   "id": "unlike-bracelet",
   "metadata": {
    "ExecuteTime": {
     "end_time": "2022-06-12T06:39:00.791441Z",
     "start_time": "2022-06-12T06:39:00.788517Z"
    }
   },
   "outputs": [
    {
     "data": {
      "text/plain": [
       "tuple"
      ]
     },
     "execution_count": 234,
     "metadata": {},
     "output_type": "execute_result"
    }
   ],
   "source": [
    "# tup의 클래스를 확인합니다. tup의 클래스는 tuple입니다.\n",
    "type(tup)"
   ]
  },
  {
   "cell_type": "code",
   "execution_count": 235,
   "id": "ec13e160",
   "metadata": {
    "scrolled": true
   },
   "outputs": [
    {
     "data": {
      "text/plain": [
       "['__add__',\n",
       " '__class__',\n",
       " '__class_getitem__',\n",
       " '__contains__',\n",
       " '__delattr__',\n",
       " '__dir__',\n",
       " '__doc__',\n",
       " '__eq__',\n",
       " '__format__',\n",
       " '__ge__',\n",
       " '__getattribute__',\n",
       " '__getitem__',\n",
       " '__getnewargs__',\n",
       " '__gt__',\n",
       " '__hash__',\n",
       " '__init__',\n",
       " '__init_subclass__',\n",
       " '__iter__',\n",
       " '__le__',\n",
       " '__len__',\n",
       " '__lt__',\n",
       " '__mul__',\n",
       " '__ne__',\n",
       " '__new__',\n",
       " '__reduce__',\n",
       " '__reduce_ex__',\n",
       " '__repr__',\n",
       " '__rmul__',\n",
       " '__setattr__',\n",
       " '__sizeof__',\n",
       " '__str__',\n",
       " '__subclasshook__',\n",
       " 'count',\n",
       " 'index']"
      ]
     },
     "execution_count": 235,
     "metadata": {},
     "output_type": "execute_result"
    }
   ],
   "source": [
    "# tup의 속성과 방식을 리스트로 반환합니다.\n",
    "# [참고] 튜플에 원소를 추가하거나 삭제하는 방식이 없습니다.\n",
    "dir(tup)"
   ]
  },
  {
   "cell_type": "code",
   "execution_count": 238,
   "id": "bc366b11",
   "metadata": {},
   "outputs": [
    {
     "ename": "TypeError",
     "evalue": "'tuple' object does not support item assignment",
     "output_type": "error",
     "traceback": [
      "\u001b[1;31m---------------------------------------------------------------------------\u001b[0m",
      "\u001b[1;31mTypeError\u001b[0m                                 Traceback (most recent call last)",
      "Input \u001b[1;32mIn [238]\u001b[0m, in \u001b[0;36m<cell line: 2>\u001b[1;34m()\u001b[0m\n\u001b[0;32m      1\u001b[0m \u001b[38;5;66;03m# 튜플은 원소를 할당할 수 없으므로 에러를 반환합니다.\u001b[39;00m\n\u001b[1;32m----> 2\u001b[0m \u001b[43mtup\u001b[49m\u001b[43m[\u001b[49m\u001b[38;5;241;43m2\u001b[39;49m\u001b[43m]\u001b[49m \u001b[38;5;241m=\u001b[39m \u001b[38;5;241m3\u001b[39m\n",
      "\u001b[1;31mTypeError\u001b[0m: 'tuple' object does not support item assignment"
     ]
    }
   ],
   "source": [
    "# 튜플은 원소를 할당할 수 없으므로 에러를 반환합니다.\n",
    "tup[2] = 3"
   ]
  },
  {
   "cell_type": "code",
   "execution_count": 236,
   "id": "insured-criminal",
   "metadata": {
    "ExecuteTime": {
     "end_time": "2022-06-12T06:39:00.795997Z",
     "start_time": "2022-06-12T06:39:00.793017Z"
    }
   },
   "outputs": [
    {
     "data": {
      "text/plain": [
       "(1, 2.0, '3')"
      ]
     },
     "execution_count": 236,
     "metadata": {},
     "output_type": "execute_result"
    }
   ],
   "source": [
    "# tuple() 클래스 함수는 리스트를 튜플로 변환합니다.\n",
    "tuple(lst2)"
   ]
  },
  {
   "cell_type": "code",
   "execution_count": 237,
   "id": "842ab841",
   "metadata": {
    "ExecuteTime": {
     "end_time": "2022-06-12T06:39:00.800283Z",
     "start_time": "2022-06-12T06:39:00.797647Z"
    }
   },
   "outputs": [
    {
     "data": {
      "text/plain": [
       "[1, 2.0, '3']"
      ]
     },
     "execution_count": 237,
     "metadata": {},
     "output_type": "execute_result"
    }
   ],
   "source": [
    "# list() 클래스 함수는 튜플을 리스트로 변환합니다.\n",
    "list(tup)"
   ]
  },
  {
   "cell_type": "markdown",
   "id": "varying-northern",
   "metadata": {},
   "source": [
    "## 딕셔너리"
   ]
  },
  {
   "attachments": {
    "image.png": {
     "image/png": "[encoded data removed]"
    }
   },
   "cell_type": "markdown",
   "id": "62867153",
   "metadata": {},
   "source": [
    "![image.png](attachment:image.png)"
   ]
  },
  {
   "cell_type": "code",
   "execution_count": 268,
   "id": "protected-unknown",
   "metadata": {
    "ExecuteTime": {
     "end_time": "2022-06-12T06:39:00.805083Z",
     "start_time": "2022-06-12T06:39:00.801784Z"
    }
   },
   "outputs": [
    {
     "data": {
      "text/plain": [
       "{'item': 'pants', 'size': ['S', 'M']}"
      ]
     },
     "execution_count": 268,
     "metadata": {},
     "output_type": "execute_result"
    }
   ],
   "source": [
    "# 딕셔너리를 생성합니다. 딕셔너리를 생성할 때 중괄호 안에 'key': value를 콤마로 연결합니다.\n",
    "dct = {'item': 'pants', 'size': ['S', 'M']}\n",
    "dct\n",
    "# [주의] 키가 문자열일 때 따옴표로 감싸지 않으면 변수로 인식합니다."
   ]
  },
  {
   "attachments": {
    "image.png": {
     "image/png": "[encoded data removed]"
    }
   },
   "cell_type": "markdown",
   "id": "387dcbd0",
   "metadata": {},
   "source": [
    "![image.png](attachment:image.png)"
   ]
  },
  {
   "cell_type": "code",
   "execution_count": 240,
   "id": "three-classics",
   "metadata": {
    "ExecuteTime": {
     "end_time": "2022-06-12T06:39:00.809436Z",
     "start_time": "2022-06-12T06:39:00.806718Z"
    }
   },
   "outputs": [
    {
     "data": {
      "text/plain": [
       "dict"
      ]
     },
     "execution_count": 240,
     "metadata": {},
     "output_type": "execute_result"
    }
   ],
   "source": [
    "# dct의 클래스를 확인합니다. dct의 클래스는 dict입니다.\n",
    "type(dct)"
   ]
  },
  {
   "cell_type": "code",
   "execution_count": 246,
   "id": "b3035f1a",
   "metadata": {
    "scrolled": true
   },
   "outputs": [
    {
     "data": {
      "text/plain": [
       "['__class__',\n",
       " '__class_getitem__',\n",
       " '__contains__',\n",
       " '__delattr__',\n",
       " '__delitem__',\n",
       " '__dir__',\n",
       " '__doc__',\n",
       " '__eq__',\n",
       " '__format__',\n",
       " '__ge__',\n",
       " '__getattribute__',\n",
       " '__getitem__',\n",
       " '__gt__',\n",
       " '__hash__',\n",
       " '__init__',\n",
       " '__init_subclass__',\n",
       " '__ior__',\n",
       " '__iter__',\n",
       " '__le__',\n",
       " '__len__',\n",
       " '__lt__',\n",
       " '__ne__',\n",
       " '__new__',\n",
       " '__or__',\n",
       " '__reduce__',\n",
       " '__reduce_ex__',\n",
       " '__repr__',\n",
       " '__reversed__',\n",
       " '__ror__',\n",
       " '__setattr__',\n",
       " '__setitem__',\n",
       " '__sizeof__',\n",
       " '__str__',\n",
       " '__subclasshook__',\n",
       " 'clear',\n",
       " 'copy',\n",
       " 'fromkeys',\n",
       " 'get',\n",
       " 'items',\n",
       " 'keys',\n",
       " 'pop',\n",
       " 'popitem',\n",
       " 'setdefault',\n",
       " 'update',\n",
       " 'values']"
      ]
     },
     "execution_count": 246,
     "metadata": {},
     "output_type": "execute_result"
    }
   ],
   "source": [
    "# dct의 속성과 방식을 리스트로 반환합니다.\n",
    "dir(dct)"
   ]
  },
  {
   "cell_type": "code",
   "execution_count": 249,
   "id": "ba516a54",
   "metadata": {},
   "outputs": [
    {
     "ename": "KeyError",
     "evalue": "0",
     "output_type": "error",
     "traceback": [
      "\u001b[1;31m---------------------------------------------------------------------------\u001b[0m",
      "\u001b[1;31mKeyError\u001b[0m                                  Traceback (most recent call last)",
      "Input \u001b[1;32mIn [249]\u001b[0m, in \u001b[0;36m<cell line: 3>\u001b[1;34m()\u001b[0m\n\u001b[0;32m      1\u001b[0m \u001b[38;5;66;03m# 딕셔너리는 인덱스가 없으므로 에러를 반환합니다.\u001b[39;00m\n\u001b[0;32m      2\u001b[0m \u001b[38;5;66;03m# [참고] 만약 딕셔너리의 키에 정수 0이 있으면 정상적으로 실행됩니다.\u001b[39;00m\n\u001b[1;32m----> 3\u001b[0m \u001b[43mdct\u001b[49m\u001b[43m[\u001b[49m\u001b[38;5;241;43m0\u001b[39;49m\u001b[43m]\u001b[49m\n",
      "\u001b[1;31mKeyError\u001b[0m: 0"
     ]
    }
   ],
   "source": [
    "# 딕셔너리는 인덱스가 없으므로 에러를 반환합니다.\n",
    "# [참고] 만약 딕셔너리의 키에 정수 0이 있으면 정상적으로 실행됩니다.\n",
    "dct[0]"
   ]
  },
  {
   "cell_type": "code",
   "execution_count": 247,
   "id": "1840bf1d",
   "metadata": {
    "ExecuteTime": {
     "end_time": "2022-06-12T06:39:00.814271Z",
     "start_time": "2022-06-12T06:39:00.811039Z"
    }
   },
   "outputs": [
    {
     "data": {
      "text/plain": [
       "['pants', ['S', 'M', 'L']]"
      ]
     },
     "execution_count": 247,
     "metadata": {},
     "output_type": "execute_result"
    }
   ],
   "source": [
    "# 같은 값을 원소로 갖는 리스트와 비교합니다.\n",
    "lst = ['pants', ['S', 'M', 'L']]\n",
    "lst"
   ]
  },
  {
   "cell_type": "code",
   "execution_count": 250,
   "id": "c6435c26",
   "metadata": {},
   "outputs": [
    {
     "data": {
      "text/plain": [
       "'pants'"
      ]
     },
     "execution_count": 250,
     "metadata": {},
     "output_type": "execute_result"
    }
   ],
   "source": [
    "# 리스트는 인덱스가 있으므로 인덱싱할 수 있습니다.\n",
    "lst[0]"
   ]
  },
  {
   "attachments": {
    "image.png": {
     "image/png": "[encoded data removed]"
    }
   },
   "cell_type": "markdown",
   "id": "752cde77",
   "metadata": {},
   "source": [
    "![image.png](attachment:image.png)"
   ]
  },
  {
   "cell_type": "markdown",
   "id": "137e7ae5",
   "metadata": {},
   "source": [
    "### [참고] dict() 클래스 함수 사용법"
   ]
  },
  {
   "cell_type": "raw",
   "id": "74606c63",
   "metadata": {},
   "source": [
    "# [참고] 시각화 함수에 그래픽 요소를 딕셔너리를 지정할 때 dict() 함수를 자주 사용합니다."
   ]
  },
  {
   "cell_type": "code",
   "execution_count": 256,
   "id": "40bfb854",
   "metadata": {},
   "outputs": [
    {
     "data": {
      "text/plain": [
       "{'item': 'pants', 'size': ['S', 'M']}"
      ]
     },
     "execution_count": 256,
     "metadata": {},
     "output_type": "execute_result"
    }
   ],
   "source": [
    "dic1={'item':'pants', 'size':['S','M']} # 딕셔너리\n",
    "dic1"
   ]
  },
  {
   "cell_type": "code",
   "execution_count": 257,
   "id": "further-elimination",
   "metadata": {
    "ExecuteTime": {
     "end_time": "2022-06-12T06:39:00.818896Z",
     "start_time": "2022-06-12T06:39:00.815952Z"
    }
   },
   "outputs": [
    {
     "data": {
      "text/plain": [
       "{'item': 'pants', 'size': ['S', 'M']}"
      ]
     },
     "execution_count": 257,
     "metadata": {},
     "output_type": "execute_result"
    }
   ],
   "source": [
    "# dict() 클래스 함수는 키를 따옴표로 감싸지 않고 콜론 대신 등호를 사용합니다.\n",
    "dict(item = 'pants', size = ['S', 'M']) # dict() 클래스 함수"
   ]
  },
  {
   "cell_type": "raw",
   "id": "dc0d7bd8",
   "metadata": {},
   "source": [
    "# 키를 따옴표로 감싸면 에러를 반환합니다.\n",
    "dict('item' = 'pants', 'size' = ['S', 'M'])"
   ]
  },
  {
   "cell_type": "raw",
   "id": "3dea6b3a",
   "metadata": {},
   "source": [
    "# 등호 대신 콜론을 사용하면 에러를 반환합니다.\n",
    "dict(item: 'pants', size: ['S', 'M'])"
   ]
  },
  {
   "cell_type": "code",
   "execution_count": 253,
   "id": "31720b1f",
   "metadata": {
    "ExecuteTime": {
     "end_time": "2022-06-12T06:39:00.824286Z",
     "start_time": "2022-06-12T06:39:00.820768Z"
    }
   },
   "outputs": [
    {
     "data": {
      "text/plain": [
       "{}"
      ]
     },
     "execution_count": 253,
     "metadata": {},
     "output_type": "execute_result"
    }
   ],
   "source": [
    "# 빈 딕셔너리를 생성합니다.\n",
    "dict()"
   ]
  },
  {
   "cell_type": "markdown",
   "id": "strategic-flood",
   "metadata": {},
   "source": [
    "### 딕셔너리 연산자와 인덱싱"
   ]
  },
  {
   "cell_type": "raw",
   "id": "a93adefd",
   "metadata": {},
   "source": [
    "# 멤버 연산자 in은 딕셔너리에 키가 있으면 Trie, 없으면 False를 반환합니다."
   ]
  },
  {
   "cell_type": "code",
   "execution_count": 269,
   "id": "ed5606d5",
   "metadata": {},
   "outputs": [
    {
     "data": {
      "text/plain": [
       "{'item': 'pants', 'size': ['S', 'M']}"
      ]
     },
     "execution_count": 269,
     "metadata": {},
     "output_type": "execute_result"
    }
   ],
   "source": [
    "dct"
   ]
  },
  {
   "cell_type": "code",
   "execution_count": 270,
   "id": "forced-ebony",
   "metadata": {
    "ExecuteTime": {
     "end_time": "2022-06-12T06:39:00.829659Z",
     "start_time": "2022-06-12T06:39:00.826001Z"
    }
   },
   "outputs": [
    {
     "data": {
      "text/plain": [
       "True"
      ]
     },
     "execution_count": 270,
     "metadata": {},
     "output_type": "execute_result"
    }
   ],
   "source": [
    "# dct에 'item'인 키가 있으면 True, 없으면 False를 반환합니다.\n",
    "'item' in dct"
   ]
  },
  {
   "cell_type": "code",
   "execution_count": 273,
   "id": "be17cdf5",
   "metadata": {
    "ExecuteTime": {
     "end_time": "2022-06-12T06:39:00.837055Z",
     "start_time": "2022-06-12T06:39:00.831647Z"
    }
   },
   "outputs": [
    {
     "data": {
      "text/plain": [
       "False"
      ]
     },
     "execution_count": 273,
     "metadata": {},
     "output_type": "execute_result"
    }
   ],
   "source": [
    "# dct에 'shop'인 키가 있으면 True, 없으면 False를 반환합니다.\n",
    "'shop' in dct"
   ]
  },
  {
   "cell_type": "raw",
   "id": "20947b7d",
   "metadata": {},
   "source": [
    "# 딕셔너리는 키로 인덱싱합니다."
   ]
  },
  {
   "cell_type": "code",
   "execution_count": 272,
   "id": "elegant-patent",
   "metadata": {
    "ExecuteTime": {
     "end_time": "2022-06-12T06:39:00.842285Z",
     "start_time": "2022-06-12T06:39:00.839114Z"
    }
   },
   "outputs": [
    {
     "data": {
      "text/plain": [
       "'pants'"
      ]
     },
     "execution_count": 272,
     "metadata": {},
     "output_type": "execute_result"
    }
   ],
   "source": [
    "# dct에서 키가 'item'인 값을 반환합니다.\n",
    "dct['item']"
   ]
  },
  {
   "cell_type": "raw",
   "id": "a38ec196",
   "metadata": {},
   "source": [
    "# dct에서 키가 'shop'인 값을 반환합니다. \n",
    "# [주의] 딕셔너리에 없는 키를 입력하면 에러를 반환합니다.\n",
    "dct['shop']"
   ]
  },
  {
   "cell_type": "markdown",
   "id": "armed-african",
   "metadata": {},
   "source": [
    "### 딕셔너리 원소 추가, 삭제 또는 변경"
   ]
  },
  {
   "cell_type": "code",
   "execution_count": 274,
   "id": "89ba5fe0",
   "metadata": {},
   "outputs": [
    {
     "data": {
      "text/plain": [
       "{'item': 'pants', 'size': ['S', 'M']}"
      ]
     },
     "execution_count": 274,
     "metadata": {},
     "output_type": "execute_result"
    }
   ],
   "source": [
    "dct"
   ]
  },
  {
   "cell_type": "code",
   "execution_count": 275,
   "id": "julian-ocean",
   "metadata": {
    "ExecuteTime": {
     "end_time": "2022-06-12T06:39:00.852670Z",
     "start_time": "2022-06-12T06:39:00.849270Z"
    }
   },
   "outputs": [
    {
     "data": {
      "text/plain": [
       "{'item': 'pants', 'size': ['S', 'M'], 'shop': 'A1'}"
      ]
     },
     "execution_count": 275,
     "metadata": {},
     "output_type": "execute_result"
    }
   ],
   "source": [
    "# dct에 키가 'shop'이고 값이 'A1'인 원소를 추가합니다.\n",
    "dct['shop'] = 'A1'\n",
    "dct"
   ]
  },
  {
   "cell_type": "code",
   "execution_count": 276,
   "id": "amateur-insulin",
   "metadata": {
    "ExecuteTime": {
     "end_time": "2022-06-12T06:39:00.857295Z",
     "start_time": "2022-06-12T06:39:00.854349Z"
    }
   },
   "outputs": [
    {
     "data": {
      "text/plain": [
       "{'size': ['S', 'M'], 'shop': 'A1'}"
      ]
     },
     "execution_count": 276,
     "metadata": {},
     "output_type": "execute_result"
    }
   ],
   "source": [
    "# dct에서 키가 'item'인 원소를 삭제합니다.\n",
    "del dct['item']\n",
    "dct"
   ]
  },
  {
   "cell_type": "code",
   "execution_count": 280,
   "id": "sapphire-plaza",
   "metadata": {
    "ExecuteTime": {
     "end_time": "2022-06-12T06:39:00.862039Z",
     "start_time": "2022-06-12T06:39:00.858764Z"
    }
   },
   "outputs": [
    {
     "data": {
      "text/plain": [
       "{'size': ['S', 'M'], 'shop': 'A2'}"
      ]
     },
     "execution_count": 280,
     "metadata": {},
     "output_type": "execute_result"
    }
   ],
   "source": [
    "# dct에서 키가 'shop'인 값을 'A2'로 변경합니다.\n",
    "dct['shop'] = 'A2'\n",
    "dct"
   ]
  },
  {
   "cell_type": "markdown",
   "id": "manual-estate",
   "metadata": {},
   "source": [
    "### [참고] 딕셔너리 키와 값 반환"
   ]
  },
  {
   "cell_type": "code",
   "execution_count": 278,
   "id": "f62bda56",
   "metadata": {
    "ExecuteTime": {
     "end_time": "2022-06-12T06:39:00.875613Z",
     "start_time": "2022-06-12T06:39:00.872634Z"
    }
   },
   "outputs": [
    {
     "data": {
      "text/plain": [
       "dict_items([('size', ['S', 'M']), ('shop', 'A2')])"
      ]
     },
     "execution_count": 278,
     "metadata": {},
     "output_type": "execute_result"
    }
   ],
   "source": [
    "# items() 함수는 딕셔너리의 키와 값의 쌍을 튜플로 묶어서 dict_items 클래스로 반환합니다.\n",
    "dct.items()"
   ]
  },
  {
   "cell_type": "code",
   "execution_count": 279,
   "id": "f5f7f928",
   "metadata": {
    "ExecuteTime": {
     "end_time": "2022-06-12T06:39:00.879879Z",
     "start_time": "2022-06-12T06:39:00.877125Z"
    }
   },
   "outputs": [
    {
     "name": "stdout",
     "output_type": "stream",
     "text": [
      "('size', ['S', 'M'])\n",
      "('shop', 'A2')\n"
     ]
    }
   ],
   "source": [
    "# 반복문으로 딕셔너리의 키와 값을 차례대로 출력합니다.\n",
    "for item in dct.items():\n",
    "    print(item)"
   ]
  },
  {
   "cell_type": "markdown",
   "id": "electronic-henry",
   "metadata": {},
   "source": [
    "## 집합(Set)"
   ]
  },
  {
   "cell_type": "raw",
   "id": "4e049bd2",
   "metadata": {},
   "source": [
    "# 집합(set)은 원소의 중복을 허용하지 않고 순서도 없는 자료구조입니다."
   ]
  },
  {
   "cell_type": "code",
   "execution_count": 286,
   "id": "martial-compact",
   "metadata": {
    "ExecuteTime": {
     "end_time": "2022-06-12T06:39:00.884719Z",
     "start_time": "2022-06-12T06:39:00.881502Z"
    }
   },
   "outputs": [
    {
     "data": {
      "text/plain": [
       "{1, 2, 3}"
      ]
     },
     "execution_count": 286,
     "metadata": {},
     "output_type": "execute_result"
    }
   ],
   "source": [
    "# 집합을 생성합니다. 집합을 생성할 때 중괄호 안에 원소를 콤마로 나열하며\n",
    "# 중복 원소를 제거하고 오름차순 정렬합니다.\n",
    "set1 = {3, 1, 2, 1}\n",
    "set1"
   ]
  },
  {
   "cell_type": "code",
   "execution_count": 287,
   "id": "plastic-honduras",
   "metadata": {
    "ExecuteTime": {
     "end_time": "2022-06-12T06:39:00.889136Z",
     "start_time": "2022-06-12T06:39:00.886267Z"
    }
   },
   "outputs": [
    {
     "data": {
      "text/plain": [
       "set"
      ]
     },
     "execution_count": 287,
     "metadata": {},
     "output_type": "execute_result"
    }
   ],
   "source": [
    "# set1의 클래스를 확인합니다. set1의 클래스는 set입니다.\n",
    "type(set1)"
   ]
  },
  {
   "cell_type": "code",
   "execution_count": 288,
   "id": "55f83a5c",
   "metadata": {
    "scrolled": true
   },
   "outputs": [
    {
     "data": {
      "text/plain": [
       "['__and__',\n",
       " '__class__',\n",
       " '__class_getitem__',\n",
       " '__contains__',\n",
       " '__delattr__',\n",
       " '__dir__',\n",
       " '__doc__',\n",
       " '__eq__',\n",
       " '__format__',\n",
       " '__ge__',\n",
       " '__getattribute__',\n",
       " '__gt__',\n",
       " '__hash__',\n",
       " '__iand__',\n",
       " '__init__',\n",
       " '__init_subclass__',\n",
       " '__ior__',\n",
       " '__isub__',\n",
       " '__iter__',\n",
       " '__ixor__',\n",
       " '__le__',\n",
       " '__len__',\n",
       " '__lt__',\n",
       " '__ne__',\n",
       " '__new__',\n",
       " '__or__',\n",
       " '__rand__',\n",
       " '__reduce__',\n",
       " '__reduce_ex__',\n",
       " '__repr__',\n",
       " '__ror__',\n",
       " '__rsub__',\n",
       " '__rxor__',\n",
       " '__setattr__',\n",
       " '__sizeof__',\n",
       " '__str__',\n",
       " '__sub__',\n",
       " '__subclasshook__',\n",
       " '__xor__',\n",
       " 'add',\n",
       " 'clear',\n",
       " 'copy',\n",
       " 'difference',\n",
       " 'difference_update',\n",
       " 'discard',\n",
       " 'intersection',\n",
       " 'intersection_update',\n",
       " 'isdisjoint',\n",
       " 'issubset',\n",
       " 'issuperset',\n",
       " 'pop',\n",
       " 'remove',\n",
       " 'symmetric_difference',\n",
       " 'symmetric_difference_update',\n",
       " 'union',\n",
       " 'update']"
      ]
     },
     "execution_count": 288,
     "metadata": {},
     "output_type": "execute_result"
    }
   ],
   "source": [
    "# set1의 속성과 방식을 리스트로 반환합니다.\n",
    "dir(set1)"
   ]
  },
  {
   "cell_type": "raw",
   "id": "45684ac1",
   "metadata": {},
   "source": [
    "# 집합에 인덱스가 없으므로 에러를 반환합니다.\n",
    "set1[0]"
   ]
  },
  {
   "cell_type": "code",
   "execution_count": 293,
   "id": "satisfactory-gossip",
   "metadata": {
    "ExecuteTime": {
     "end_time": "2022-06-12T06:39:00.893774Z",
     "start_time": "2022-06-12T06:39:00.890726Z"
    }
   },
   "outputs": [
    {
     "data": {
      "text/plain": [
       "{1, 3, 5}"
      ]
     },
     "execution_count": 293,
     "metadata": {},
     "output_type": "execute_result"
    }
   ],
   "source": [
    "# set() 클래스 함수는 리스트를 집합으로 변환합니다.\n",
    "set2 = set(lst3)\n",
    "set2"
   ]
  },
  {
   "cell_type": "code",
   "execution_count": 294,
   "id": "0662875d",
   "metadata": {
    "ExecuteTime": {
     "end_time": "2022-06-12T06:39:00.898219Z",
     "start_time": "2022-06-12T06:39:00.895359Z"
    }
   },
   "outputs": [
    {
     "data": {
      "text/plain": [
       "[1, 2, 3]"
      ]
     },
     "execution_count": 294,
     "metadata": {},
     "output_type": "execute_result"
    }
   ],
   "source": [
    "# list() 클래스 함수는 집합을 리스트로 변환합니다.\n",
    "list(set1)"
   ]
  },
  {
   "cell_type": "markdown",
   "id": "2b27ba9c",
   "metadata": {},
   "source": [
    "### 집합 연산자"
   ]
  },
  {
   "cell_type": "code",
   "execution_count": 297,
   "id": "152cd7de",
   "metadata": {},
   "outputs": [
    {
     "data": {
      "text/plain": [
       "{1, 2, 3}"
      ]
     },
     "execution_count": 297,
     "metadata": {},
     "output_type": "execute_result"
    }
   ],
   "source": [
    "set1"
   ]
  },
  {
   "cell_type": "code",
   "execution_count": 298,
   "id": "098fc7c8",
   "metadata": {},
   "outputs": [
    {
     "data": {
      "text/plain": [
       "{1, 3, 5}"
      ]
     },
     "execution_count": 298,
     "metadata": {},
     "output_type": "execute_result"
    }
   ],
   "source": [
    "set2"
   ]
  },
  {
   "cell_type": "code",
   "execution_count": 299,
   "id": "3ddd01f0",
   "metadata": {
    "ExecuteTime": {
     "end_time": "2022-06-12T06:39:00.902712Z",
     "start_time": "2022-06-12T06:39:00.899857Z"
    }
   },
   "outputs": [
    {
     "data": {
      "text/plain": [
       "{1, 3}"
      ]
     },
     "execution_count": 299,
     "metadata": {},
     "output_type": "execute_result"
    }
   ],
   "source": [
    "## 두 집합의 교집합을 반환합니다.\n",
    "set1 & set2"
   ]
  },
  {
   "cell_type": "code",
   "execution_count": 300,
   "id": "0583dbd6",
   "metadata": {},
   "outputs": [
    {
     "data": {
      "text/plain": [
       "{1, 3}"
      ]
     },
     "execution_count": 300,
     "metadata": {},
     "output_type": "execute_result"
    }
   ],
   "source": [
    "# 두 집합의 교집합을 반환합니다.\n",
    "set1.intersection(set2)"
   ]
  },
  {
   "cell_type": "code",
   "execution_count": 301,
   "id": "1b78539c",
   "metadata": {
    "ExecuteTime": {
     "end_time": "2022-06-12T06:39:00.907280Z",
     "start_time": "2022-06-12T06:39:00.904268Z"
    }
   },
   "outputs": [
    {
     "data": {
      "text/plain": [
       "{1, 2, 3, 5}"
      ]
     },
     "execution_count": 301,
     "metadata": {},
     "output_type": "execute_result"
    }
   ],
   "source": [
    "# 두 집합의 합집합을 반환합니다.\n",
    "set1 | set2"
   ]
  },
  {
   "cell_type": "code",
   "execution_count": 302,
   "id": "b8f013a6",
   "metadata": {},
   "outputs": [
    {
     "data": {
      "text/plain": [
       "{1, 2, 3, 5}"
      ]
     },
     "execution_count": 302,
     "metadata": {},
     "output_type": "execute_result"
    }
   ],
   "source": [
    "# 두 집합의 합집합을 반환합니다.\n",
    "set1.union(set2)"
   ]
  },
  {
   "cell_type": "code",
   "execution_count": 303,
   "id": "badcb0a6",
   "metadata": {
    "ExecuteTime": {
     "end_time": "2022-06-12T06:39:00.911704Z",
     "start_time": "2022-06-12T06:39:00.908892Z"
    }
   },
   "outputs": [
    {
     "data": {
      "text/plain": [
       "{2}"
      ]
     },
     "execution_count": 303,
     "metadata": {},
     "output_type": "execute_result"
    }
   ],
   "source": [
    "# 두 집합의 차집합을 반환합니다.\n",
    "set1 - set2"
   ]
  },
  {
   "cell_type": "code",
   "execution_count": 304,
   "id": "92c00ba9",
   "metadata": {},
   "outputs": [
    {
     "data": {
      "text/plain": [
       "{2}"
      ]
     },
     "execution_count": 304,
     "metadata": {},
     "output_type": "execute_result"
    }
   ],
   "source": [
    "# 두 집합의 차집합을 반환합니다.\n",
    "set1.difference(set2)"
   ]
  },
  {
   "cell_type": "markdown",
   "id": "0bdbd753",
   "metadata": {},
   "source": [
    "### [참고] 집합 원소 생성 기준"
   ]
  },
  {
   "cell_type": "code",
   "execution_count": 305,
   "id": "559bde30",
   "metadata": {
    "ExecuteTime": {
     "end_time": "2022-06-12T06:39:00.916273Z",
     "start_time": "2022-06-12T06:39:00.913257Z"
    }
   },
   "outputs": [
    {
     "data": {
      "text/plain": [
       "{1, 2.0}"
      ]
     },
     "execution_count": 305,
     "metadata": {},
     "output_type": "execute_result"
    }
   ],
   "source": [
    "# 정수와 실수는 앞선 자료형을 적용합니다.\n",
    "{1, 1.0, 2.0, 2}"
   ]
  },
  {
   "cell_type": "code",
   "execution_count": 306,
   "id": "f56631fc",
   "metadata": {
    "ExecuteTime": {
     "end_time": "2022-06-12T06:39:00.920927Z",
     "start_time": "2022-06-12T06:39:00.917885Z"
    }
   },
   "outputs": [
    {
     "data": {
      "text/plain": [
       "{1, '1'}"
      ]
     },
     "execution_count": 306,
     "metadata": {},
     "output_type": "execute_result"
    }
   ],
   "source": [
    "# 문자열은 정수/실수와 별개로 존재합니다.\n",
    "{1, '1'}"
   ]
  },
  {
   "cell_type": "code",
   "execution_count": 307,
   "id": "7c7f55a2",
   "metadata": {
    "ExecuteTime": {
     "end_time": "2022-06-12T06:39:00.925257Z",
     "start_time": "2022-06-12T06:39:00.922443Z"
    }
   },
   "outputs": [
    {
     "data": {
      "text/plain": [
       "{'1', 1.0}"
      ]
     },
     "execution_count": 307,
     "metadata": {},
     "output_type": "execute_result"
    }
   ],
   "source": [
    "# 정수, 문자열, 실수 순으로 정렬합니다.\n",
    "{1.0, 1, '1'}"
   ]
  },
  {
   "cell_type": "code",
   "execution_count": 308,
   "id": "99b2ef1f",
   "metadata": {
    "ExecuteTime": {
     "end_time": "2022-06-12T06:39:00.929621Z",
     "start_time": "2022-06-12T06:39:00.926889Z"
    }
   },
   "outputs": [
    {
     "data": {
      "text/plain": [
       "{1.0}"
      ]
     },
     "execution_count": 308,
     "metadata": {},
     "output_type": "execute_result"
    }
   ],
   "source": [
    "# 교집합은 오른쪽 집합의 자료형을 따릅니다.\n",
    "{1} & {1.0}"
   ]
  },
  {
   "cell_type": "code",
   "execution_count": 311,
   "id": "d962fad3",
   "metadata": {
    "ExecuteTime": {
     "end_time": "2022-06-12T06:39:00.933904Z",
     "start_time": "2022-06-12T06:39:00.931198Z"
    }
   },
   "outputs": [
    {
     "data": {
      "text/plain": [
       "{1}"
      ]
     },
     "execution_count": 311,
     "metadata": {},
     "output_type": "execute_result"
    }
   ],
   "source": [
    "# 합집합은 왼쪽 집합의 자료형을 따릅니다.\n",
    "{1} | {1.0}"
   ]
  },
  {
   "cell_type": "code",
   "execution_count": 312,
   "id": "6fe187c0",
   "metadata": {
    "ExecuteTime": {
     "end_time": "2022-06-12T06:39:00.938319Z",
     "start_time": "2022-06-12T06:39:00.935375Z"
    }
   },
   "outputs": [
    {
     "data": {
      "text/plain": [
       "{2}"
      ]
     },
     "execution_count": 312,
     "metadata": {},
     "output_type": "execute_result"
    }
   ],
   "source": [
    "# 차집합은 왼쪽 집합의 자료형을 따릅니다.\n",
    "{1, 2} - {1.0}"
   ]
  },
  {
   "cell_type": "markdown",
   "id": "f31275c3",
   "metadata": {},
   "source": [
    "### [참고] 다양한 괄호 사용법"
   ]
  },
  {
   "attachments": {
    "image.png": {
     "image/png": "[encoded data removed]"
    }
   },
   "cell_type": "markdown",
   "id": "271a59ce",
   "metadata": {},
   "source": [
    "![image.png](attachment:image.png)"
   ]
  },
  {
   "cell_type": "markdown",
   "id": "alive-supply",
   "metadata": {},
   "source": [
    "## End of Document"
   ]
  }
 ],
 "metadata": {
  "kernelspec": {
   "display_name": "Python 3 (ipykernel)",
   "language": "python",
   "name": "python3"
  },
  "language_info": {
   "codemirror_mode": {
    "name": "ipython",
    "version": 3
   },
   "file_extension": ".py",
   "mimetype": "text/x-python",
   "name": "python",
   "nbconvert_exporter": "python",
   "pygments_lexer": "ipython3",
   "version": "3.10.6"
  },
  "toc": {
   "base_numbering": 1,
   "nav_menu": {},
   "number_sections": false,
   "sideBar": true,
   "skip_h1_title": false,
   "title_cell": "Table of Contents",
   "title_sidebar": "Contents",
   "toc_cell": false,
   "toc_position": {},
   "toc_section_display": true,
   "toc_window_display": false
  },
  "varInspector": {
   "cols": {
    "lenName": 16,
    "lenType": 16,
    "lenVar": 40
   },
   "kernels_config": {
    "python": {
     "delete_cmd_postfix": "",
     "delete_cmd_prefix": "del ",
     "library": "var_list.py",
     "varRefreshCmd": "print(var_dic_list())"
    },
    "r": {
     "delete_cmd_postfix": ") ",
     "delete_cmd_prefix": "rm(",
     "library": "var_list.r",
     "varRefreshCmd": "cat(var_dic_list()) "
    }
   },
   "types_to_exclude": [
    "module",
    "function",
    "builtin_function_or_method",
    "instance",
    "_Feature"
   ],
   "window_display": false
  }
 },
 "nbformat": 4,
 "nbformat_minor": 5
}
